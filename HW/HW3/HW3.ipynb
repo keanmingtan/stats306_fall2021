{
 "cells": [
  {
   "cell_type": "markdown",
   "metadata": {},
   "source": [
    "# STATS 306 Fall 2021\n",
    "## Homework 3: Data Manipulation, 30 points\n",
    "\n",
    "\n",
    "**Due:** 09/23/2021 by 5:00pm"
   ]
  },
  {
   "cell_type": "markdown",
   "metadata": {},
   "source": [
    "Your uniqid: `<replace with your uniqid>`"
   ]
  },
  {
   "cell_type": "markdown",
   "metadata": {},
   "source": [
    "For your homework, you will be using the packages `tidyverse`, `nycflights13`, and `babynames`.  The `flights` data set will be available after loading the library `nycflights13`.   To install the packages and load the library, follow the instruction below."
   ]
  },
  {
   "cell_type": "code",
   "execution_count": 3,
   "metadata": {},
   "outputs": [
    {
     "name": "stdout",
     "output_type": "stream",
     "text": [
      "\n",
      "The downloaded binary packages are in\n",
      "\t/var/folders/br/gjgfqmdn1d5cmwrq6b8z_mf80000gn/T//RtmpayLur5/downloaded_packages\n"
     ]
    }
   ],
   "source": [
    "install.packages(\"babynames\")"
   ]
  },
  {
   "cell_type": "code",
   "execution_count": 5,
   "metadata": {},
   "outputs": [
    {
     "name": "stderr",
     "output_type": "stream",
     "text": [
      "── \u001b[1mAttaching packages\u001b[22m ─────────────────────────────────────── tidyverse 1.3.0 ──\n",
      "\n",
      "\u001b[32m✔\u001b[39m \u001b[34mggplot2\u001b[39m 3.3.2     \u001b[32m✔\u001b[39m \u001b[34mpurrr  \u001b[39m 0.3.4\n",
      "\u001b[32m✔\u001b[39m \u001b[34mtibble \u001b[39m 3.0.3     \u001b[32m✔\u001b[39m \u001b[34mdplyr  \u001b[39m 1.0.2\n",
      "\u001b[32m✔\u001b[39m \u001b[34mtidyr  \u001b[39m 1.1.1     \u001b[32m✔\u001b[39m \u001b[34mstringr\u001b[39m 1.4.0\n",
      "\u001b[32m✔\u001b[39m \u001b[34mreadr  \u001b[39m 1.3.1     \u001b[32m✔\u001b[39m \u001b[34mforcats\u001b[39m 0.5.0\n",
      "\n",
      "── \u001b[1mConflicts\u001b[22m ────────────────────────────────────────── tidyverse_conflicts() ──\n",
      "\u001b[31m✖\u001b[39m \u001b[34mdplyr\u001b[39m::\u001b[32mfilter()\u001b[39m masks \u001b[34mstats\u001b[39m::filter()\n",
      "\u001b[31m✖\u001b[39m \u001b[34mdplyr\u001b[39m::\u001b[32mlag()\u001b[39m    masks \u001b[34mstats\u001b[39m::lag()\n",
      "\n"
     ]
    }
   ],
   "source": [
    "library(babynames)\n",
    "library(tidyverse)\n",
    "library(nycflights13)"
   ]
  },
  {
   "cell_type": "markdown",
   "metadata": {},
   "source": [
    "## Problem 1, 5 points"
   ]
  },
  {
   "cell_type": "markdown",
   "metadata": {},
   "source": [
    "**(a)** Alice wants to find all rows in the `flights` data frame (part of the `nycflights13` package) that have the `arr_time` variable missing. She types the command `filter(flights, arr_time == NA)` and sees that she retrieved zero rows! In the first markdown cell below, explain why and then in the following code cell write the correct command for Alice. _3 points_"
   ]
  },
  {
   "cell_type": "code",
   "execution_count": null,
   "metadata": {},
   "outputs": [],
   "source": []
  },
  {
   "cell_type": "markdown",
   "metadata": {},
   "source": [
    "**(b)** Name four variables in the tibble `flights` whose *type* is character vector, or string. _2 points_"
   ]
  },
  {
   "cell_type": "code",
   "execution_count": null,
   "metadata": {},
   "outputs": [],
   "source": []
  },
  {
   "cell_type": "markdown",
   "metadata": {},
   "source": [
    "## Problem 2 (On Baby Names ), 5 points"
   ]
  },
  {
   "cell_type": "markdown",
   "metadata": {},
   "source": [
    "# Social security names database\n",
    "The remaining problems look at a different data set of [names from the Social Security Administration](https://www.ssa.gov/oact/babynames/).  The data set object is `babynames`. "
   ]
  },
  {
   "cell_type": "code",
   "execution_count": 27,
   "metadata": {},
   "outputs": [
    {
     "name": "stdout",
     "output_type": "stream",
     "text": [
      "\u001b[38;5;246m# A tibble: 1,924,665 x 5\u001b[39m\n",
      "    year sex   name          n   prop\n",
      "   \u001b[3m\u001b[38;5;246m<dbl>\u001b[39m\u001b[23m \u001b[3m\u001b[38;5;246m<chr>\u001b[39m\u001b[23m \u001b[3m\u001b[38;5;246m<chr>\u001b[39m\u001b[23m     \u001b[3m\u001b[38;5;246m<int>\u001b[39m\u001b[23m  \u001b[3m\u001b[38;5;246m<dbl>\u001b[39m\u001b[23m\n",
      "\u001b[38;5;250m 1\u001b[39m  \u001b[4m1\u001b[24m880 F     Mary       \u001b[4m7\u001b[24m065 0.072\u001b[4m4\u001b[24m\n",
      "\u001b[38;5;250m 2\u001b[39m  \u001b[4m1\u001b[24m880 F     Anna       \u001b[4m2\u001b[24m604 0.026\u001b[4m7\u001b[24m\n",
      "\u001b[38;5;250m 3\u001b[39m  \u001b[4m1\u001b[24m880 F     Emma       \u001b[4m2\u001b[24m003 0.020\u001b[4m5\u001b[24m\n",
      "\u001b[38;5;250m 4\u001b[39m  \u001b[4m1\u001b[24m880 F     Elizabeth  \u001b[4m1\u001b[24m939 0.019\u001b[4m9\u001b[24m\n",
      "\u001b[38;5;250m 5\u001b[39m  \u001b[4m1\u001b[24m880 F     Minnie     \u001b[4m1\u001b[24m746 0.017\u001b[4m9\u001b[24m\n",
      "\u001b[38;5;250m 6\u001b[39m  \u001b[4m1\u001b[24m880 F     Margaret   \u001b[4m1\u001b[24m578 0.016\u001b[4m2\u001b[24m\n",
      "\u001b[38;5;250m 7\u001b[39m  \u001b[4m1\u001b[24m880 F     Ida        \u001b[4m1\u001b[24m472 0.015\u001b[4m1\u001b[24m\n",
      "\u001b[38;5;250m 8\u001b[39m  \u001b[4m1\u001b[24m880 F     Alice      \u001b[4m1\u001b[24m414 0.014\u001b[4m5\u001b[24m\n",
      "\u001b[38;5;250m 9\u001b[39m  \u001b[4m1\u001b[24m880 F     Bertha     \u001b[4m1\u001b[24m320 0.013\u001b[4m5\u001b[24m\n",
      "\u001b[38;5;250m10\u001b[39m  \u001b[4m1\u001b[24m880 F     Sarah      \u001b[4m1\u001b[24m288 0.013\u001b[4m2\u001b[24m\n",
      "\u001b[38;5;246m# … with 1,924,655 more rows\u001b[39m\n"
     ]
    }
   ],
   "source": [
    "print(as_tibble(babynames))"
   ]
  },
  {
   "cell_type": "markdown",
   "metadata": {},
   "source": [
    "**(a)** Use `filter` to extract the baby name Arya that is Female and save it as `Aryababygirl`. _2 points_"
   ]
  },
  {
   "cell_type": "code",
   "execution_count": null,
   "metadata": {},
   "outputs": [],
   "source": []
  },
  {
   "cell_type": "markdown",
   "metadata": {},
   "source": [
    "**(b)** Plot a barchart using the data set `Aryababygirl` via the function `geom_col` with the variable `year` in your `x-axis` and `n` in your `y-axis`. Explain what you have observed.  _3 points_"
   ]
  },
  {
   "cell_type": "code",
   "execution_count": null,
   "metadata": {},
   "outputs": [],
   "source": []
  },
  {
   "cell_type": "markdown",
   "metadata": {},
   "source": [
    "## Problem 3, Data Manipulation on Flight Data, 20 points"
   ]
  },
  {
   "cell_type": "markdown",
   "metadata": {},
   "source": [
    "**(a)** Use the `%in%` operator to extract all the flights that took place in months that begin with the letter \"A\". Store the resulting table in a variable called `table1`.  You may find the function `substr` useful.  _3 points_"
   ]
  },
  {
   "cell_type": "code",
   "execution_count": null,
   "metadata": {},
   "outputs": [],
   "source": []
  },
  {
   "cell_type": "markdown",
   "metadata": {},
   "source": [
    "**(b)** Find the number of United Airlines flights that departed exactly on time and arrived exactly on time. Store this number in a variable called `n2`. Then, print `n2`.  You should get 58 as your answer.  _3 points_"
   ]
  },
  {
   "cell_type": "code",
   "execution_count": null,
   "metadata": {},
   "outputs": [],
   "source": []
  },
  {
   "cell_type": "markdown",
   "metadata": {},
   "source": [
    "**(c)** Find all flights destined for `LAX` or `SFO` which departed more than an hour late, but did not arrive late. Store this table in a variable called `table3`. Print `table3` using the function head.  _3 points_"
   ]
  },
  {
   "cell_type": "code",
   "execution_count": null,
   "metadata": {},
   "outputs": [],
   "source": []
  },
  {
   "cell_type": "markdown",
   "metadata": {},
   "source": [
    "**(d)** Find the number of flights in May that are missing their departure time or their arrival time, but not both. Store this number in a variable called `n4`. Print `n4`. You should get 38.   _3 points_ "
   ]
  },
  {
   "cell_type": "code",
   "execution_count": null,
   "metadata": {},
   "outputs": [],
   "source": []
  },
  {
   "cell_type": "markdown",
   "metadata": {},
   "source": [
    "**(e)** Write code to construct a tibble/dataframe with `tailnumber` and air_time, with rows arranged according to decreasing air_time.  You should see that the first row of your data set is `N77066` with an air-time of 695 minutes. You may find the function `arrange` helpful.  _3 points_ "
   ]
  },
  {
   "cell_type": "code",
   "execution_count": null,
   "metadata": {},
   "outputs": [],
   "source": []
  },
  {
   "cell_type": "markdown",
   "metadata": {},
   "source": [
    "**(f)** Define a flight to be \"spooky\" if it was in the air at 1:13pm on either Halloween or Friday, September 13th. There were 110 spooky flights on Friday the 13th. How many spooky flights are there in total? Store your answer in a variable called `nspooky` and print it out using the print function. Note that Halloween is October 31st.   _3 points_"
   ]
  },
  {
   "cell_type": "code",
   "execution_count": null,
   "metadata": {},
   "outputs": [],
   "source": []
  },
  {
   "cell_type": "markdown",
   "metadata": {},
   "source": [
    "**(g) Challenge Problem**\n",
    "Sort the rows of `flights` such that the months are arranged in the following order: spring, summer, fall, winter. (Here we define winter to be January-March, spring is April-June, etc.) Within each season, the months should be sorted in ascending order. After sorting, drop all columns except for month, day and tail number. Store the sorted and subsetted table in a variable called `season`. _2 points_"
   ]
  },
  {
   "cell_type": "code",
   "execution_count": null,
   "metadata": {},
   "outputs": [],
   "source": []
  }
 ],
 "metadata": {
  "kernelspec": {
   "display_name": "R",
   "language": "R",
   "name": "ir"
  },
  "language_info": {
   "codemirror_mode": "r",
   "file_extension": ".r",
   "mimetype": "text/x-r-source",
   "name": "R",
   "pygments_lexer": "r",
   "version": "4.0.2"
  }
 },
 "nbformat": 4,
 "nbformat_minor": 2
}
