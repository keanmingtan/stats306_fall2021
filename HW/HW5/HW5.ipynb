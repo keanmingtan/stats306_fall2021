{
 "cells": [
  {
   "cell_type": "markdown",
   "metadata": {},
   "source": [
    "# STATS 306 Fall 2021\n",
    "## Homework 5: Data Transformation, EDA, and Tidy Data 30 points\n",
    "\n",
    "**Assigned:** 09/30/2021 \n",
    "\n",
    "**Due:** 10/07/2020 by 11:59pm"
   ]
  },
  {
   "cell_type": "markdown",
   "metadata": {},
   "source": [
    "Your uniqid: `<replace with your uniqid>`"
   ]
  },
  {
   "cell_type": "markdown",
   "metadata": {},
   "source": [
    "For your homework, you will be using the packages `tidyverse`, `nycflights13`, and `cfb.RData`.  The `flights` data set will be available after loading the library `nycflights13`.   "
   ]
  },
  {
   "cell_type": "code",
   "execution_count": 2,
   "metadata": {},
   "outputs": [
    {
     "name": "stderr",
     "output_type": "stream",
     "text": [
      "── \u001b[1mAttaching packages\u001b[22m ─────────────────────────────────────── tidyverse 1.3.1 ──\n",
      "\n",
      "\u001b[32m✔\u001b[39m \u001b[34mggplot2\u001b[39m 3.3.5     \u001b[32m✔\u001b[39m \u001b[34mpurrr  \u001b[39m 0.3.4\n",
      "\u001b[32m✔\u001b[39m \u001b[34mtibble \u001b[39m 3.1.3     \u001b[32m✔\u001b[39m \u001b[34mdplyr  \u001b[39m 1.0.7\n",
      "\u001b[32m✔\u001b[39m \u001b[34mtidyr  \u001b[39m 1.1.3     \u001b[32m✔\u001b[39m \u001b[34mstringr\u001b[39m 1.4.0\n",
      "\u001b[32m✔\u001b[39m \u001b[34mreadr  \u001b[39m 2.0.1     \u001b[32m✔\u001b[39m \u001b[34mforcats\u001b[39m 0.5.1\n",
      "\n",
      "── \u001b[1mConflicts\u001b[22m ────────────────────────────────────────── tidyverse_conflicts() ──\n",
      "\u001b[31m✖\u001b[39m \u001b[34mdplyr\u001b[39m::\u001b[32mfilter()\u001b[39m masks \u001b[34mstats\u001b[39m::filter()\n",
      "\u001b[31m✖\u001b[39m \u001b[34mdplyr\u001b[39m::\u001b[32mlag()\u001b[39m    masks \u001b[34mstats\u001b[39m::lag()\n",
      "\n"
     ]
    }
   ],
   "source": [
    "library(tidyverse)\n",
    "library(nycflights13)"
   ]
  },
  {
   "cell_type": "markdown",
   "metadata": {},
   "source": [
    "## Problem 1, More About Flight Data 10 points"
   ]
  },
  {
   "cell_type": "markdown",
   "metadata": {},
   "source": [
    "**(a)**\n",
    "The following code adds a variable `week` to `flights`, such that `week==1` for the first seven days of the year, `week==2` for days 8-14, etc. (In the second half of the semester we will learn how to manipulate dates using the `lubridate` package.)"
   ]
  },
  {
   "cell_type": "code",
   "execution_count": 3,
   "metadata": {},
   "outputs": [],
   "source": [
    "flights_week <- mutate(flights, week=lubridate::week(time_hour))"
   ]
  },
  {
   "cell_type": "markdown",
   "metadata": {},
   "source": [
    "Let a flight's \"positive arrival delay\" be defined as the larger of `arr_delay` and zero. We say a flight is *ridiculously late* if its arrival delay was more than 15 times the average positive arrival delay for all flights in that week.\n",
    "- Use the `flights_week` table to calculate the number of ridiculously late flights in each week of the year. For example, in the first week of the year there were 23 ridiculously late flights.\n",
    "- Also add in the total number of flights in the data set for each week. \n",
    "\n",
    "Sort the resulting table in descending order of the number of ridiculously late flights and store it in a variable called `table1`. The table should have three columns, `week`, `n`, and `n_ridiculously_late`. _3 points_\n",
    "\n",
    "*Hint*: You may find the function `pmax` helpful."
   ]
  },
  {
   "cell_type": "code",
   "execution_count": null,
   "metadata": {},
   "outputs": [],
   "source": []
  },
  {
   "cell_type": "markdown",
   "metadata": {},
   "source": [
    "**(b)** Use your solution in part 1(a) to generate a bar plot of the number of ridiculously late flights each week. Give your plot an appropriate title and axis labels. _2 points_"
   ]
  },
  {
   "cell_type": "code",
   "execution_count": null,
   "metadata": {},
   "outputs": [],
   "source": []
  },
  {
   "cell_type": "markdown",
   "metadata": {},
   "source": [
    "**(c)**\n",
    "Your plot from the preceding problem should exhibit a curious feature: in a couple of weeks there were far fewer ridiculously late flights than the rest. \n",
    "- Investigate this further by determining the fraction of departure times which were missing in each week. For example, in week 1, 0.57% of flights had missing departure times.\n",
    "- Additionally, rank each week by this fraction. The week with the highest fraction of missing departure times should have rank one, second highest rank two, and so on.\n",
    "\n",
    "Store the result in a variable called `table2`. \n",
    "Your table should have three columns: `week`, `frac_miss_dep_time` and `rank`. Sort your table in ascending order of `rank`. _2 points_"
   ]
  },
  {
   "cell_type": "code",
   "execution_count": null,
   "metadata": {},
   "outputs": [],
   "source": []
  },
  {
   "cell_type": "markdown",
   "metadata": {},
   "source": [
    "**(d)**\n",
    "For the week with the highest fraction of missing departure times in problem 1(c), generate a table `table3` which shows the total number of missing departure times for each hour and day of that week. Your table should have columns `year`, `month`, `day`, `hour`, and `n_miss_dep_time`. Sort your table in chronological order. _3 points_"
   ]
  },
  {
   "cell_type": "code",
   "execution_count": null,
   "metadata": {},
   "outputs": [],
   "source": []
  },
  {
   "cell_type": "markdown",
   "metadata": {},
   "source": [
    "## Problem 2: Football data 14 points\n",
    "The next few questions use a new data set. The file `cfb.RData` contains a table called `cfb` with information on 5,116 college football games played since 2011. "
   ]
  },
  {
   "cell_type": "code",
   "execution_count": 12,
   "metadata": {},
   "outputs": [
    {
     "name": "stdout",
     "output_type": "stream",
     "text": [
      "\u001b[90m# A tibble: 5,116 × 50\u001b[39m\n",
      "    year  game count conf_game week  winning           winning_confere… winning_h_a_n\n",
      "   \u001b[3m\u001b[90m<int>\u001b[39m\u001b[23m \u001b[3m\u001b[90m<int>\u001b[39m\u001b[23m \u001b[3m\u001b[90m<int>\u001b[39m\u001b[23m \u001b[3m\u001b[90m<chr>\u001b[39m\u001b[23m     \u001b[3m\u001b[90m<chr>\u001b[39m\u001b[23m \u001b[3m\u001b[90m<chr>\u001b[39m\u001b[23m             \u001b[3m\u001b[90m<chr>\u001b[39m\u001b[23m            \u001b[3m\u001b[90m<chr>\u001b[39m\u001b[23m        \n",
      "\u001b[90m 1\u001b[39m  \u001b[4m2\u001b[24m011     1     1 Y         1     FIU               Sun Belt         H            \n",
      "\u001b[90m 2\u001b[39m  \u001b[4m2\u001b[24m011     2     1 N         1     Wisconsin         Big 10           H            \n",
      "\u001b[90m 3\u001b[39m  \u001b[4m2\u001b[24m011     3     1 N         1     Mississippi State SEC              A            \n",
      "\u001b[90m 4\u001b[39m  \u001b[4m2\u001b[24m011     4     1 N         1     Syracuse          Big East         H            \n",
      "\u001b[90m 5\u001b[39m  \u001b[4m2\u001b[24m011     5     1 N         1     Bowling Green     MAC              A            \n",
      "\u001b[90m 6\u001b[39m  \u001b[4m2\u001b[24m011     6     1 N         1     Kentucky          SEC              N            \n",
      "\u001b[90m 7\u001b[39m  \u001b[4m2\u001b[24m011     7     1 N         1     Baylor            Big 12           H            \n",
      "\u001b[90m 8\u001b[39m  \u001b[4m2\u001b[24m011     8     1 N         1     Ohio State        Big 10           H            \n",
      "\u001b[90m 9\u001b[39m  \u001b[4m2\u001b[24m011     9     1 N         1     Missouri          Big 12           H            \n",
      "\u001b[90m10\u001b[39m  \u001b[4m2\u001b[24m011    10     1 N         1     Auburn            SEC              H            \n",
      "\u001b[90m# … with 5,106 more rows, and 42 more variables: winning_points <int>,\u001b[39m\n",
      "\u001b[90m#   winning_f_u <chr>, winning_cover <chr>, winning_spread <dbl>,\u001b[39m\n",
      "\u001b[90m#   winning_o_u <chr>, winning_passes <int>, winning_pass_yards <int>,\u001b[39m\n",
      "\u001b[90m#   winning_yppa <dbl>, winning_rushes <int>, winning_rush_yards <int>,\u001b[39m\n",
      "\u001b[90m#   winning_ypra <dbl>, winning_plays <int>, winning_total_yards <int>,\u001b[39m\n",
      "\u001b[90m#   winning_ypp <dbl>, winning_to <int>, winning_pen_yards <int>,\u001b[39m\n",
      "\u001b[90m#   winning_top <int>, field_25 <chr>, losing <chr>, losing_conference <chr>, …\u001b[39m\n"
     ]
    }
   ],
   "source": [
    "load(\"cfb.RData\")\n",
    "print(cfb)"
   ]
  },
  {
   "cell_type": "markdown",
   "metadata": {},
   "source": [
    "**(a)**\n",
    "College football is divided into various conferences. (UMich is in the Big Ten conference.) A conference game is a game where the `winning_conference` and `losing_conference` are the same. For example, row 4631 of CFB is a conference game between Western Michigan and Buffalo, both in the Mid-American Conference. A total of 139 points were scored."
   ]
  },
  {
   "cell_type": "code",
   "execution_count": 26,
   "metadata": {},
   "outputs": [
    {
     "data": {
      "text/html": [
       "<table>\n",
       "<caption>A tibble: 1 × 6</caption>\n",
       "<thead>\n",
       "\t<tr><th scope=col>winning</th><th scope=col>winning_conference</th><th scope=col>winning_points</th><th scope=col>losing</th><th scope=col>losing_conference</th><th scope=col>losing_points</th></tr>\n",
       "\t<tr><th scope=col>&lt;chr&gt;</th><th scope=col>&lt;chr&gt;</th><th scope=col>&lt;int&gt;</th><th scope=col>&lt;chr&gt;</th><th scope=col>&lt;chr&gt;</th><th scope=col>&lt;int&gt;</th></tr>\n",
       "</thead>\n",
       "<tbody>\n",
       "\t<tr><td>W. Michigan</td><td>MAC</td><td>71</td><td>Buffalo</td><td>MAC</td><td>68</td></tr>\n",
       "</tbody>\n",
       "</table>\n"
      ],
      "text/latex": [
       "A tibble: 1 × 6\n",
       "\\begin{tabular}{llllll}\n",
       " winning & winning\\_conference & winning\\_points & losing & losing\\_conference & losing\\_points\\\\\n",
       " <chr> & <chr> & <int> & <chr> & <chr> & <int>\\\\\n",
       "\\hline\n",
       "\t W. Michigan & MAC & 71 & Buffalo & MAC & 68\\\\\n",
       "\\end{tabular}\n"
      ],
      "text/markdown": [
       "\n",
       "A tibble: 1 × 6\n",
       "\n",
       "| winning &lt;chr&gt; | winning_conference &lt;chr&gt; | winning_points &lt;int&gt; | losing &lt;chr&gt; | losing_conference &lt;chr&gt; | losing_points &lt;int&gt; |\n",
       "|---|---|---|---|---|---|\n",
       "| W. Michigan | MAC | 71 | Buffalo | MAC | 68 |\n",
       "\n"
      ],
      "text/plain": [
       "  winning     winning_conference winning_points losing  losing_conference\n",
       "1 W. Michigan MAC                71             Buffalo MAC              \n",
       "  losing_points\n",
       "1 68           "
      ]
     },
     "metadata": {},
     "output_type": "display_data"
    }
   ],
   "source": [
    "cfb %>% slice(4631) %>% \n",
    "    select(winning, winning_conference, winning_points, \n",
    "           losing, losing_conference, losing_points)"
   ]
  },
  {
   "cell_type": "markdown",
   "metadata": {},
   "source": [
    "Certain conferences have a reputation for being higher scoring. Investigate this by restricting to conference games and producing a box-and-whisker plot that shows the distribution of total number of points scored per game (ppg) by conference. Ensure that the conference names in the plot are legible, and sort the conferences in order of the median ppg. `4 points`\n",
    "\n",
    "* `conf_game` records whether the row is a conference game\n",
    "* `winning_points` records number of  points for the winning team\n",
    "* `losing_points` records number of points for the losing team\n",
    "* `winning_conference` records the conference name\n"
   ]
  },
  {
   "cell_type": "code",
   "execution_count": null,
   "metadata": {},
   "outputs": [],
   "source": []
  },
  {
   "cell_type": "markdown",
   "metadata": {},
   "source": [
    "**(b)** In your above plot, you may find that there is a `Big12` as well as `Big 12` conference.  `Big12` is likely a typo.  Modify your above code to reproduce a boxplot where the name `Big12` is changed to `Big 12`.  _2 points_"
   ]
  },
  {
   "cell_type": "code",
   "execution_count": null,
   "metadata": {},
   "outputs": [],
   "source": []
  },
  {
   "cell_type": "markdown",
   "metadata": {},
   "source": [
    "**(c)**\n",
    "Compute the yearly winning percentage for Michigan and Ohio State. Your table should looks like the following. _2 points_\n",
    "\n",
    "* `winning` records the winning team\n",
    "* `losing` records the losing team\n"
   ]
  },
  {
   "cell_type": "code",
   "execution_count": 48,
   "metadata": {},
   "outputs": [
    {
     "name": "stderr",
     "output_type": "stream",
     "text": [
      "`summarise()` ungrouping output (override with `.groups` argument)\n",
      "\n"
     ]
    },
    {
     "data": {
      "text/html": [
       "<table>\n",
       "<caption>A tibble: 7 × 3</caption>\n",
       "<thead>\n",
       "\t<tr><th scope=col>year</th><th scope=col>Michigan</th><th scope=col>Ohio</th></tr>\n",
       "\t<tr><th scope=col>&lt;int&gt;</th><th scope=col>&lt;dbl&gt;</th><th scope=col>&lt;dbl&gt;</th></tr>\n",
       "</thead>\n",
       "<tbody>\n",
       "\t<tr><td>2011</td><td>0.8461538</td><td>0.4615385</td></tr>\n",
       "\t<tr><td>2012</td><td>0.5833333</td><td>1.0000000</td></tr>\n",
       "\t<tr><td>2013</td><td>0.5384615</td><td>0.8461538</td></tr>\n",
       "\t<tr><td>2014</td><td>0.3636364</td><td>0.9333333</td></tr>\n",
       "\t<tr><td>2015</td><td>0.7692308</td><td>0.9230769</td></tr>\n",
       "\t<tr><td>2016</td><td>0.7692308</td><td>0.8461538</td></tr>\n",
       "\t<tr><td>2017</td><td>0.6153846</td><td>0.8571429</td></tr>\n",
       "</tbody>\n",
       "</table>\n"
      ],
      "text/latex": [
       "A tibble: 7 × 3\n",
       "\\begin{tabular}{lll}\n",
       " year & Michigan & Ohio\\\\\n",
       " <int> & <dbl> & <dbl>\\\\\n",
       "\\hline\n",
       "\t 2011 & 0.8461538 & 0.4615385\\\\\n",
       "\t 2012 & 0.5833333 & 1.0000000\\\\\n",
       "\t 2013 & 0.5384615 & 0.8461538\\\\\n",
       "\t 2014 & 0.3636364 & 0.9333333\\\\\n",
       "\t 2015 & 0.7692308 & 0.9230769\\\\\n",
       "\t 2016 & 0.7692308 & 0.8461538\\\\\n",
       "\t 2017 & 0.6153846 & 0.8571429\\\\\n",
       "\\end{tabular}\n"
      ],
      "text/markdown": [
       "\n",
       "A tibble: 7 × 3\n",
       "\n",
       "| year &lt;int&gt; | Michigan &lt;dbl&gt; | Ohio &lt;dbl&gt; |\n",
       "|---|---|---|\n",
       "| 2011 | 0.8461538 | 0.4615385 |\n",
       "| 2012 | 0.5833333 | 1.0000000 |\n",
       "| 2013 | 0.5384615 | 0.8461538 |\n",
       "| 2014 | 0.3636364 | 0.9333333 |\n",
       "| 2015 | 0.7692308 | 0.9230769 |\n",
       "| 2016 | 0.7692308 | 0.8461538 |\n",
       "| 2017 | 0.6153846 | 0.8571429 |\n",
       "\n"
      ],
      "text/plain": [
       "  year Michigan  Ohio     \n",
       "1 2011 0.8461538 0.4615385\n",
       "2 2012 0.5833333 1.0000000\n",
       "3 2013 0.5384615 0.8461538\n",
       "4 2014 0.3636364 0.9333333\n",
       "5 2015 0.7692308 0.9230769\n",
       "6 2016 0.7692308 0.8461538\n",
       "7 2017 0.6153846 0.8571429"
      ]
     },
     "metadata": {},
     "output_type": "display_data"
    }
   ],
   "source": []
  },
  {
   "cell_type": "code",
   "execution_count": null,
   "metadata": {},
   "outputs": [],
   "source": []
  },
  {
   "cell_type": "markdown",
   "metadata": {},
   "source": [
    "**(d)**\n",
    "Now plot the following line chart.  Note that the above data set that you have created is not tidy for plotting the following line chart.  You may want to transform it into a long data set by using the `gather` function. _2 points_"
   ]
  },
  {
   "cell_type": "code",
   "execution_count": 42,
   "metadata": {},
   "outputs": [
    {
     "name": "stderr",
     "output_type": "stream",
     "text": [
      "`summarise()` ungrouping output (override with `.groups` argument)\n",
      "\n"
     ]
    },
    {
     "data": {
      "image/png": "[encoded data removed]",
      "text/plain": [
       "plot without title"
      ]
     },
     "metadata": {
      "image/png": {
       "height": 420,
       "width": 420
      }
     },
     "output_type": "display_data"
    }
   ],
   "source": []
  },
  {
   "cell_type": "code",
   "execution_count": null,
   "metadata": {},
   "outputs": [],
   "source": []
  },
  {
   "cell_type": "markdown",
   "metadata": {},
   "source": [
    "**(e)**\n",
    "The column `cfb$winning_h_a_n` tells whether the winning team was playing at <strong>H</strong>ome, <strong>A</strong>way, or <strong>N</strong>either. Define the home team's *margin* to be the difference between home team's score and the away team's score. For example, the first game in CFB was played between FIU and North Texas, at FIU, and FIU won 41-16. Therefore the home team's margin was 25 points for this game.\n",
    "\n",
    "Use `cfb` to generate a vector called `home_margin` which contains the home team's margin for each game. (Omit any games that do not have a home team.) The first few entries of `cfb` are `25, 34, -45, 7, -17, ...` _2 points_\n"
   ]
  },
  {
   "cell_type": "code",
   "execution_count": null,
   "metadata": {},
   "outputs": [],
   "source": []
  },
  {
   "cell_type": "markdown",
   "metadata": {},
   "source": [
    "**(f)**\n",
    "The \"home field advantage\" refers to the idea that a team tends to do better when playing at home. Plot a histogram of home_margin.  Can you conclude that there exists a home field advantage? _2 points_\n",
    "\n",
    "Hint: You may find the following function useful `t.test()` for performing one-sample t-test that you have learnt in STATS 250.  \n",
    "In STATS 250 you [learned](https://www.youtube.com/watch?v=6gfMhsWmnwk) how to test for differences in proportions between two populations."
   ]
  },
  {
   "cell_type": "code",
   "execution_count": null,
   "metadata": {},
   "outputs": [],
   "source": []
  },
  {
   "cell_type": "markdown",
   "metadata": {},
   "source": [
    "## Problem 3: Admission Data  (6 points)\n",
    "\n",
    "In the following problem, we will take a look at a dataset called `UCBAdmissions`. This contains graduate school admissions data from 1973 for six departments at UC Berkeley. For privacy reasons the names of the departments have been changed to `A`, `B`, ... , `F`."
   ]
  },
  {
   "cell_type": "code",
   "execution_count": 50,
   "metadata": {},
   "outputs": [
    {
     "name": "stderr",
     "output_type": "stream",
     "text": [
      "Warning message:\n",
      "“`tbl_df()` is deprecated as of dplyr 1.0.0.\n",
      "Please use `tibble::as_tibble()` instead.\n",
      "\u001b[90mThis warning is displayed once every 8 hours.\u001b[39m\n",
      "\u001b[90mCall `lifecycle::last_warnings()` to see where this warning was generated.\u001b[39m”\n"
     ]
    },
    {
     "name": "stdout",
     "output_type": "stream",
     "text": [
      "\u001b[38;5;246m# A tibble: 24 x 4\u001b[39m\n",
      "   Admit    Gender Dept      n\n",
      "   \u001b[3m\u001b[38;5;246m<chr>\u001b[39m\u001b[23m    \u001b[3m\u001b[38;5;246m<chr>\u001b[39m\u001b[23m  \u001b[3m\u001b[38;5;246m<chr>\u001b[39m\u001b[23m \u001b[3m\u001b[38;5;246m<dbl>\u001b[39m\u001b[23m\n",
      "\u001b[38;5;250m 1\u001b[39m Admitted Male   A       512\n",
      "\u001b[38;5;250m 2\u001b[39m Rejected Male   A       313\n",
      "\u001b[38;5;250m 3\u001b[39m Admitted Female A        89\n",
      "\u001b[38;5;250m 4\u001b[39m Rejected Female A        19\n",
      "\u001b[38;5;250m 5\u001b[39m Admitted Male   B       353\n",
      "\u001b[38;5;250m 6\u001b[39m Rejected Male   B       207\n",
      "\u001b[38;5;250m 7\u001b[39m Admitted Female B        17\n",
      "\u001b[38;5;250m 8\u001b[39m Rejected Female B         8\n",
      "\u001b[38;5;250m 9\u001b[39m Admitted Male   C       120\n",
      "\u001b[38;5;250m10\u001b[39m Rejected Male   C       205\n",
      "\u001b[38;5;246m# … with 14 more rows\u001b[39m\n"
     ]
    }
   ],
   "source": [
    "data(UCBAdmissions)\n",
    "ucb <- tbl_df(UCBAdmissions) %>% print"
   ]
  },
  {
   "cell_type": "markdown",
   "metadata": {},
   "source": [
    "**(a)** Using the tool(s) we learned for summarizing and manipulating tidy data, create a summary table from `ucb` which shows the acceptance rate by gender. Your table should have four columns: `Gender`, `Admitted`, `Rejected`, and `Proportion Admitted`. You may find the function `spread` helpful."
   ]
  },
  {
   "cell_type": "markdown",
   "metadata": {},
   "source": [
    "<table>\n",
    "<thead><tr><th scope=\"col\">Gender</th><th scope=\"col\">Admitted</th><th scope=\"col\">Rejected</th><th scope=\"col\">Proportion Admitted</th></tr></thead>\n",
    "<tbody>\n",
    "\t<tr><td>Female   </td><td> 557     </td><td>&dash;     </td><td>&dash;</td></tr>\n",
    "\t<tr><td>Male     </td><td> &dash;     </td><td>&dash;     </td><td>0.4451877</td></tr>\n",
    "</tbody>\n",
    "</table>"
   ]
  },
  {
   "cell_type": "markdown",
   "metadata": {},
   "source": [
    "(A few entries have been provided for you; your job is to write code that will produce the complete table with no blanks.)\n",
    "\n",
    "Store the resulting tibble in a variable called `table1`. _3 points_. "
   ]
  },
  {
   "cell_type": "code",
   "execution_count": null,
   "metadata": {},
   "outputs": [],
   "source": []
  },
  {
   "cell_type": "markdown",
   "metadata": {},
   "source": [
    "**(b)**\n",
    "Reproduce the table from **3(a)** , but now stratify by department. \n",
    "Compute the male and female acceptance proportion for each department separately.\n",
    "Your resulting table should look like the following. Note that the following table only contains several entries to help you check your work, it is your job to provide code that computes the entire table automatically.\n",
    "\n",
    "Store your resulting table in a variable called `table3`.  _3 points_\n",
    "\n",
    "Hint: You may want to use the functions `unite` and `spread`."
   ]
  },
  {
   "cell_type": "markdown",
   "metadata": {},
   "source": [
    "\n",
    "<table>\n",
    "<thead><tr><th scope=\"col\">Dept</th><th scope=\"col\">Female_Admitted</th><th scope=\"col\">Female_Rejected</th><th scope=\"col\">Male_Admitted</th><th scope=\"col\">Male_Rejected</th><th scope=\"col\">Male Proportion Admitted</th><th scope=\"col\">Female Proportion Admitted</th></tr></thead>\n",
    "<tbody>\n",
    "\t<tr><td>A         </td><td> 89      </td><td> &dash;       </td><td>&dash;       </td><td>&dash;       </td><td>&dash;</td><td>&dash;</td></tr>\n",
    "\t<tr><td>B         </td><td> &dash;       </td><td>  &dash;       </td><td>353</td><td>&dash;       </td><td>&dash;</td><td>&dash;</td></tr>\n",
    "\t<tr><td>C         </td><td> &dash;       </td><td>  391\t     </td><td>&dash;</td><td>&dash;       </td><td>&dash;</td><td>&dash;</td></tr>\n",
    "\t<tr><td>D         </td><td> &dash;       </td><td>  &dash;       </td><td>&dash;</td><td>&dash;       </td><td>0.33093525\t</td><td>&dash;</td></tr>\n",
    "\t<tr><td>E         </td><td> &dash;       </td><td>  &dash;       </td><td>&dash;</td><td>138       </td><td>&dash;</td><td>&dash;</td></tr>\n",
    " \t<tr><td>F         </td><td> &dash;       </td><td>  &dash;       </td><td>&dash;</td><td>&dash;       </td><td>&dash;</td><td>0.07038123</td></tr>\n",
    "\n",
    "</tbody>\n",
    "</table>"
   ]
  },
  {
   "cell_type": "code",
   "execution_count": null,
   "metadata": {},
   "outputs": [],
   "source": []
  }
 ],
 "metadata": {
  "kernelspec": {
   "display_name": "R",
   "language": "R",
   "name": "ir"
  },
  "language_info": {
   "codemirror_mode": "r",
   "file_extension": ".r",
   "mimetype": "text/x-r-source",
   "name": "R",
   "pygments_lexer": "r",
   "version": "4.1.1"
  }
 },
 "nbformat": 4,
 "nbformat_minor": 2
}
