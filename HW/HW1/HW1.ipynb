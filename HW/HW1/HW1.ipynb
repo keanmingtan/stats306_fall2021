{
 "cells": [
  {
   "cell_type": "markdown",
   "metadata": {},
   "source": [
    "# STATS 306 Fall 2021\n",
    "## Homework 1: Plotting with `ggplot`, 30 points\n",
    "\n",
    "- For each problem, enter the R code in the cell provided which reproduces the plot. Your code should print this plot in the notebook.  \n",
    "- Make sure you output all of your results by running your code.  \n",
    "- Your plot should match the colors, axis labels & titles, plot type, orientation, and so forth. We do not care about minor visual differences in the font, plot width or height, placement of labels or annotations, etc. \n",
    "\n",
    "- Finally, save the jupyter notebook as html file when you submit your homework in Canvas. \n",
    "\n",
    "\n",
    "**Assigned:** 09/09/2021 at 12pm\n",
    "\n",
    "**Due:** 09/16/2021 by 5pm"
   ]
  },
  {
   "cell_type": "markdown",
   "metadata": {},
   "source": [
    "For your homework, you will be using the R package `tidyverse` and the Rdata file `newflight.RData`."
   ]
  },
  {
   "cell_type": "markdown",
   "metadata": {},
   "source": [
    "## Problem 1 (Recap of Lecture 1), 4 points"
   ]
  },
  {
   "cell_type": "markdown",
   "metadata": {},
   "source": [
    "**(a)** Write the command to install the package `tidyverse`. For this problem, you can comment out the command using # so that you do not need to reinstall your `tidyverse` package. Then, load the `tidyverse` package into your current environment.  _1 point_"
   ]
  },
  {
   "cell_type": "code",
   "execution_count": null,
   "metadata": {},
   "outputs": [],
   "source": []
  },
  {
   "cell_type": "markdown",
   "metadata": {},
   "source": [
    "**(b)** Write the command to get more information on the `airquality` data set. What is the `airquality` dataset about?   Output the `airquality` first 6 rows of the data set. _1 point_"
   ]
  },
  {
   "cell_type": "code",
   "execution_count": null,
   "metadata": {},
   "outputs": [],
   "source": []
  },
  {
   "cell_type": "markdown",
   "metadata": {},
   "source": [
    "**(c)** How many rows and columns does the `airquality` data set have? _1 point_"
   ]
  },
  {
   "cell_type": "code",
   "execution_count": null,
   "metadata": {},
   "outputs": [],
   "source": []
  },
  {
   "cell_type": "markdown",
   "metadata": {},
   "source": [
    "**(d)** To create a scatterplot using `Wind` and `Temp` variables in the `airquality` data\n",
    "frame, Professor Tan uses the following command\n",
    "\n",
    "```\n",
    "ggplot() +\n",
    "    geom_point(mapping = (x = Wind, y = Temp))\n",
    "```\n",
    "\n",
    "and R produces an error. \n",
    "\n",
    "Fix Professor Tan's code and type it below to produce a scatterplot. Output your results.  _1 point_"
   ]
  },
  {
   "cell_type": "code",
   "execution_count": null,
   "metadata": {},
   "outputs": [],
   "source": []
  },
  {
   "cell_type": "markdown",
   "metadata": {},
   "source": [
    "## Problem 2 (Using Color Aesthetic in ggplot), 4 points"
   ]
  },
  {
   "cell_type": "markdown",
   "metadata": {},
   "source": [
    "**(a)** Write the code to generate the following plot using the `airquality` data set. _2 points_\n",
    "\n",
    "![title](https://github.com/keanmingtan/stats306_fall2021/blob/main/HW/HW1/Rplot1.png?raw=true)"
   ]
  },
  {
   "cell_type": "code",
   "execution_count": null,
   "metadata": {},
   "outputs": [],
   "source": []
  },
  {
   "cell_type": "markdown",
   "metadata": {},
   "source": [
    "**(b)** The above plot treat Month variable to be a continuous variables.  Write the code to generate the following plot instead. You may find the function `as.factor()` useful.  _2 points_\n",
    "\n",
    "![title](https://github.com/keanmingtan/stats306_fall2021/blob/main/HW/HW1/Rplot2.png?raw=true)"
   ]
  },
  {
   "cell_type": "code",
   "execution_count": null,
   "metadata": {},
   "outputs": [],
   "source": []
  },
  {
   "cell_type": "markdown",
   "metadata": {},
   "source": [
    "## Problem 3 (More about Aesthetic and Facets), 4 points"
   ]
  },
  {
   "cell_type": "markdown",
   "metadata": {},
   "source": [
    "**(a)** Alice wanted to create a scatter plot using the `airquality` data sets with `Wind` on the x-axis and `Temp` on the y-axis. However, she wanted the points to be in blue color. She wrote the following code.\n",
    "\n",
    "```\n",
    "ggplot(data = airquality) + \n",
    "  geom_point(mapping = aes(x = Wind, y = Temp, color = \"blue\"))\n",
    "```\n",
    "\n",
    "This however doesn't quite achieve what Alice was trying to do. Can you help her? Write the correct code below. _1 point_"
   ]
  },
  {
   "cell_type": "code",
   "execution_count": null,
   "metadata": {},
   "outputs": [],
   "source": []
  },
  {
   "cell_type": "markdown",
   "metadata": {},
   "source": [
    "**(b)** Write the code to generate the following plot using the `airquality` data set. _3 points_\n",
    "\n",
    "![title](https://github.com/keanmingtan/stats306_fall2021/blob/main/HW/HW1/Rplot3.png?raw=true)\n"
   ]
  },
  {
   "cell_type": "code",
   "execution_count": null,
   "metadata": {},
   "outputs": [],
   "source": []
  },
  {
   "cell_type": "markdown",
   "metadata": {},
   "source": [
    "## Problem 4 (Using Different Geom), 16 points"
   ]
  },
  {
   "cell_type": "markdown",
   "metadata": {},
   "source": [
    "Starting from this problem, we are going to transform the variable `Month` in the `airquality` data set using the following code."
   ]
  },
  {
   "cell_type": "code",
   "execution_count": 30,
   "metadata": {},
   "outputs": [],
   "source": [
    "# Do not run this code before problem 4. \n",
    "# The following code basically transforms the original continuous variable Month in the dataset airquality to \n",
    "# a categorical variable permanently. That is, after you transform it, you no longer need to use as.factor(Month)\n",
    "# in your code anymore.\n",
    "airquality$Month = as.factor(airquality$Month)"
   ]
  },
  {
   "cell_type": "markdown",
   "metadata": {},
   "source": [
    "**(a)** Write the code to generate the following plot using the `airquality` data set. _4 points_\n",
    "\n",
    "![title](https://github.com/keanmingtan/stats306_fall2021/blob/main/HW/HW1/Rplot4.png?raw=true)\n"
   ]
  },
  {
   "cell_type": "code",
   "execution_count": null,
   "metadata": {},
   "outputs": [],
   "source": []
  },
  {
   "cell_type": "markdown",
   "metadata": {},
   "source": [
    "**(b)** Write the code to generate the following barcharts using the `mpg` data set. _4 points_\n",
    "\n",
    "![title](https://github.com/keanmingtan/stats306_fall2021/blob/main/HW/HW1/p1.png?raw=true)"
   ]
  },
  {
   "cell_type": "code",
   "execution_count": null,
   "metadata": {},
   "outputs": [],
   "source": []
  },
  {
   "cell_type": "markdown",
   "metadata": {},
   "source": [
    "**(c)** Load the `Rdata` file `newflight.RData`. Now you have flights data from NYC in 2013 by the top five carriers.  \n",
    "Using this `newflight` data set, recreate the following barcharts showing which of the top five carriers depart out of each of the three NYC airports: 4 points\n",
    "\n",
    "![title](https://github.com/keanmingtan/stats306_fall2021/blob/main/HW/HW1/barchart.png?raw=true)\n"
   ]
  },
  {
   "cell_type": "code",
   "execution_count": null,
   "metadata": {},
   "outputs": [],
   "source": []
  },
  {
   "cell_type": "markdown",
   "metadata": {},
   "source": [
    "**(d)** Write the code to generate the following piechart that summarizes the flights counts for each of the airlines for the `newflight` data. _4 points_\n",
    "\n",
    "![title](https://github.com/keanmingtan/stats306_fall2021/blob/main/HW/HW1/piechart.png?raw=true)\n"
   ]
  },
  {
   "cell_type": "code",
   "execution_count": null,
   "metadata": {},
   "outputs": [],
   "source": []
  },
  {
   "cell_type": "markdown",
   "metadata": {},
   "source": [
    "## Problem 5 (Challenging Problem), 2 points"
   ]
  },
  {
   "cell_type": "markdown",
   "metadata": {},
   "source": [
    "Each problem set will feature one or two questions that go a bit beyond what we have covered in lab and lecture. The goal of these is for you learn how to use online resources (R's help, Google, Stack Overflow, etc.) to solve programming challenges that you have not encountered before. This is an important skill which you will use constantly as data scientists in the real world."
   ]
  },
  {
   "cell_type": "markdown",
   "metadata": {},
   "source": [
    "Load the `diamonds` data set.  Reproduce the following plot. \n",
    "\n",
    "(Hint: for this plot, you will need figure out how to manually manipulate the ticks on the $x$ and $y$ axes.)\n",
    "\n",
    "![title](https://github.com/keanmingtan/stats306_fall2021/blob/main/HW/HW1/carat.png?raw=true)"
   ]
  },
  {
   "cell_type": "code",
   "execution_count": null,
   "metadata": {},
   "outputs": [],
   "source": []
  }
 ],
 "metadata": {
  "kernelspec": {
   "display_name": "R",
   "language": "R",
   "name": "ir"
  },
  "language_info": {
   "codemirror_mode": "r",
   "file_extension": ".r",
   "mimetype": "text/x-r-source",
   "name": "R",
   "pygments_lexer": "r",
   "version": "4.0.2"
  }
 },
 "nbformat": 4,
 "nbformat_minor": 2
}
