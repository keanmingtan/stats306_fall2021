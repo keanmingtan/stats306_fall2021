{
 "cells": [
  {
   "cell_type": "markdown",
   "metadata": {},
   "source": [
    "# STATS 306 Fall 2021\n",
    "## Homework 8: String, Factor, and Date --  30 points\n",
    "\n",
    "**Assigned:** 11/04/2021 \n",
    "\n",
    "**Due:** 11/11/2021 by 11:59pm"
   ]
  },
  {
   "cell_type": "markdown",
   "metadata": {},
   "source": [
    "Your uniqid: `<replace with your uniqid>`"
   ]
  },
  {
   "cell_type": "markdown",
   "metadata": {},
   "source": [
    "For your homework, you will be using the packages `tidyverse`, `stringr` and `lubridate`.  "
   ]
  },
  {
   "cell_type": "code",
   "execution_count": 12,
   "metadata": {},
   "outputs": [],
   "source": [
    "library(tidyverse)\n",
    "library(stringr)\n",
    "library(lubridate)"
   ]
  },
  {
   "cell_type": "markdown",
   "metadata": {},
   "source": [
    "## Problem 1, Basics on String 18 points"
   ]
  },
  {
   "cell_type": "markdown",
   "metadata": {},
   "source": [
    "The file `tweets.RData` contains tweets from September, 2016 (a few may lay outside of this range.) I have cleaned the file so that it is easier for you to work with.  The first line of the text data looks like the following:\n",
    "\n",
    "``T\\t2009-06-11 00:00:03\""
   ]
  },
  {
   "cell_type": "markdown",
   "metadata": {},
   "source": [
    " Use the following code to load the data.  Note that in a tibble, the \\t would not be printed out.  But the T U W in each line is followed by \\t rather than a space."
   ]
  },
  {
   "cell_type": "code",
   "execution_count": 25,
   "metadata": {},
   "outputs": [
    {
     "data": {
      "text/html": [
       "<table class=\"dataframe\">\n",
       "<caption>A tibble: 5 × 1</caption>\n",
       "<thead>\n",
       "\t<tr><th scope=col>value</th></tr>\n",
       "\t<tr><th scope=col>&lt;chr&gt;</th></tr>\n",
       "</thead>\n",
       "<tbody>\n",
       "\t<tr><td>T\t2009-06-11 00:00:03             </td></tr>\n",
       "\t<tr><td>U\thttp://twitter.com/imdb         </td></tr>\n",
       "\t<tr><td>W\tNo Post Title                   </td></tr>\n",
       "\t<tr><td>T\t2009-06-11 16:37:14             </td></tr>\n",
       "\t<tr><td>U\thttp://twitter.com/ncruralhealth</td></tr>\n",
       "</tbody>\n",
       "</table>\n"
      ],
      "text/latex": [
       "A tibble: 5 × 1\n",
       "\\begin{tabular}{l}\n",
       " value\\\\\n",
       " <chr>\\\\\n",
       "\\hline\n",
       "\t T\t2009-06-11 00:00:03             \\\\\n",
       "\t U\thttp://twitter.com/imdb         \\\\\n",
       "\t W\tNo Post Title                   \\\\\n",
       "\t T\t2009-06-11 16:37:14             \\\\\n",
       "\t U\thttp://twitter.com/ncruralhealth\\\\\n",
       "\\end{tabular}\n"
      ],
      "text/markdown": [
       "\n",
       "A tibble: 5 × 1\n",
       "\n",
       "| value &lt;chr&gt; |\n",
       "|---|\n",
       "| T\t2009-06-11 00:00:03              |\n",
       "| U\thttp://twitter.com/imdb          |\n",
       "| W\tNo Post Title                    |\n",
       "| T\t2009-06-11 16:37:14              |\n",
       "| U\thttp://twitter.com/ncruralhealth |\n",
       "\n"
      ],
      "text/plain": [
       "  value                              \n",
       "1 T\\t2009-06-11 00:00:03             \n",
       "2 U\\thttp://twitter.com/imdb         \n",
       "3 W\\tNo Post Title                   \n",
       "4 T\\t2009-06-11 16:37:14             \n",
       "5 U\\thttp://twitter.com/ncruralhealth"
      ]
     },
     "metadata": {},
     "output_type": "display_data"
    }
   ],
   "source": [
    "load(\"tweets.RData\")\n",
    "tweets1 %>% slice(1:5)"
   ]
  },
  {
   "cell_type": "markdown",
   "metadata": {},
   "source": [
    "Even though the tibble does not show you the \\t, but your data should look like the following \n",
    "```{r}\n",
    "# A tibble: \n",
    "   value                                                                         \n",
    "   <chr>                                                                      \n",
    " 1 \"T\\t2009-06-11 00:00:03\"                                                   \n",
    " 2 \"U\\thttp://twitter.com/imdb\"                                               \n",
    " 3 \"W\\tNo Post Title\"                                                         \n",
    " 4 \"T\\t2009-06-11 16:37:14\"                                                   \n",
    " 5 \"U\\thttp://twitter.com/ncruralhealth\"                                      \n",
    " 6 \"W\\tNo Post Title\"                                                         \n",
    " 7 \"T\\t2009-06-11 16:56:23\"                                                   \n",
    " 8 \"U\\thttp://twitter.com/boydjones\"                                          \n",
    " 9 \"W\\tlistening to \\\"Big Lizard - The Dead Milkmen\\\" ♫ http://blip.fm/~81kwz\"\n",
    "10 \"T\\t2009-06-11 16:56:59\"                                                   \n",
    "...\n",
    "```"
   ]
  },
  {
   "cell_type": "markdown",
   "metadata": {},
   "source": [
    "Each datum consists of a triple of lines marked `T`, `U` and `W` containing the time of the tweet, the user, and the message itself, respectively. Each triple is separated by an empty line. Each datum consists of a triple of lines marked `T`, `U` and `W` containing the time of the tweet, the user, and the message itself, respectively."
   ]
  },
  {
   "cell_type": "markdown",
   "metadata": {},
   "source": [
    "### **(a)**  _8 points_\n",
    "\n",
    "Convert `tweets1` so that it has three columns reflecting the three variables present in this data set. Store the resulting table in a variable called `tweets2`. The first rows of `tweets2` will now look like:\n",
    "```\n",
    "# A tibble: 3 x 3\n",
    "  T                   U                                W                       \n",
    "  <chr>               <chr>                            <chr>                   \n",
    "1 2009-06-11 00:00:03 http://twitter.com/imdb          No Post Title           \n",
    "2 2009-06-11 16:37:14 http://twitter.com/ncruralhealth No Post Title           \n",
    "3 2009-06-11 16:56:23 http://twitter.com/boydjones     \"listening to \\\"Big Liz…\n",
    "```\n",
    "(*Hint*: If you are having trouble getting this working on the full data set, try subsetting the table to a small number of rows in order to debug your code. Here you need to use functions that you have learnt for manipulating tables from the first half of the class.)"
   ]
  },
  {
   "cell_type": "code",
   "execution_count": null,
   "metadata": {},
   "outputs": [],
   "source": []
  },
  {
   "cell_type": "markdown",
   "metadata": {},
   "source": [
    "### **(c)**  _6 points_\n",
    "\n",
    "-  Convert the `T` column to a properly formatted datetime object and name it ```time```. \n",
    "-  Strip off the leading `http://twitter.com/` from `U` and name it ```user```. \n",
    "-  Rename `W` to ```tweet```.\n",
    "\n",
    "Store the resulting table as `tweets3`. It will look like:\n",
    "```\n",
    "# A tibble: 370,997 x 3\n",
    "   time                user          tweet                                     \n",
    "   <dttm>              <chr>         <chr>                                     \n",
    " 1 2009-06-11 00:00:03 imdb          No Post Title                             \n",
    " 2 2009-06-11 16:37:14 ncruralhealth No Post Title                             \n",
    " 3 2009-06-11 16:56:23 boydjones     \"listening to \\\"Big Lizard - The Dead Mil…\n",
    " 4 2009-06-11 16:56:59 cameron987    @beatrizchavez A dork? NO way... you are.…\n",
    " 5 2009-06-11 16:57:03 selenato      @okaaaa 本当ね！2週間楽しみがありすぎわ、まじで…本当きどうさんへの愛がこ…\n",
    " 6 2009-06-11 16:57:30 nbeasley10    Just got a chance to buy All-Star tickets…\n",
    " 7 2009-06-11 16:57:31 littlewing333 @kidhum and if an act has pull and they d…\n",
    " 8 2009-06-11 16:57:33 lolcute       mebbe U fetch http://tinyurl.com/nz4fbr   \n",
    " 9 2009-06-11 16:57:36 fr0st22       I have broken 1,000 twitter updates. Paaa…\n",
    "10 2009-06-11 16:57:59 mavellsyrup   Food timmeeee :'D                         \n",
    "# ... with 370,987 more rows\n",
    "```"
   ]
  },
  {
   "cell_type": "code",
   "execution_count": null,
   "metadata": {},
   "outputs": [],
   "source": []
  },
  {
   "cell_type": "markdown",
   "metadata": {},
   "source": [
    "### **(d)**  _4 points_\n",
    "\n",
    "Make a histogram of the total number of tweets by hour in `tweets3`. Set the binwidth to 1 hour. \n",
    "\n",
    "Based on your plot, write down the busiest hour and the least-busy hour for tweeting.\n",
    "\n",
    "Hint: The ```hour()``` function from lubridate will be helpful here."
   ]
  },
  {
   "cell_type": "code",
   "execution_count": null,
   "metadata": {},
   "outputs": [],
   "source": []
  },
  {
   "cell_type": "markdown",
   "metadata": {},
   "source": [
    "## Problem 2,  Sentiment analysis of Twitter data _12 points_\n",
    "*Sentiment analysis* tries to assign a numerical sentiment score to written language. Positive language has a positive sentiment score and similarly for negative language. We will use the same `sentiments` table that we saw in lecture:"
   ]
  },
  {
   "cell_type": "code",
   "execution_count": 29,
   "metadata": {},
   "outputs": [
    {
     "name": "stdout",
     "output_type": "stream",
     "text": [
      "\u001b[90m# A tibble: 2,476 × 2\u001b[39m\n",
      "   word       score\n",
      "   \u001b[3m\u001b[90m<chr>\u001b[39m\u001b[23m      \u001b[3m\u001b[90m<int>\u001b[39m\u001b[23m\n",
      "\u001b[90m 1\u001b[39m abandon       -\u001b[31m2\u001b[39m\n",
      "\u001b[90m 2\u001b[39m abandoned     -\u001b[31m2\u001b[39m\n",
      "\u001b[90m 3\u001b[39m abandons      -\u001b[31m2\u001b[39m\n",
      "\u001b[90m 4\u001b[39m abducted      -\u001b[31m2\u001b[39m\n",
      "\u001b[90m 5\u001b[39m abduction     -\u001b[31m2\u001b[39m\n",
      "\u001b[90m 6\u001b[39m abductions    -\u001b[31m2\u001b[39m\n",
      "\u001b[90m 7\u001b[39m abhor         -\u001b[31m3\u001b[39m\n",
      "\u001b[90m 8\u001b[39m abhorred      -\u001b[31m3\u001b[39m\n",
      "\u001b[90m 9\u001b[39m abhorrent     -\u001b[31m3\u001b[39m\n",
      "\u001b[90m10\u001b[39m abhors        -\u001b[31m3\u001b[39m\n",
      "\u001b[90m# … with 2,466 more rows\u001b[39m\n"
     ]
    }
   ],
   "source": [
    "load(\"sentiments.RData\")\n",
    "print(sentiments)"
   ]
  },
  {
   "cell_type": "markdown",
   "metadata": {},
   "source": [
    "### (a) _6 points_\n",
    "\n",
    "Define the sentiment score of each tweet in `tweets3` to be the sum of all the sentiment scores for all matching words in the `sents` table. For example, if the tweet says `I abhor abductions`, then, from the above table, it would get a sentiment score of -5. (If a tweet does not have any matching sentiment words, assign it a score of zero.). Store the result in ```tweets5```.\n",
    "\n",
    "The first rows will be\n",
    "```\n",
    "# A tibble: 6 x 4\n",
    "  time                user        tweet         score\n",
    "  <dttm>              <chr>       <chr>         <int>\n",
    "1 2009-06-04 20:34:13 npu         No Post Title    -1\n",
    "2 2009-06-05 10:52:19 marcorubio  No Post Title    -1\n",
    "3 2009-06-08 14:36:06 alew        No Post Title    -1\n",
    "4 2009-06-09 20:50:04 marcorubio  No Post Title    -1\n",
    "5 2009-06-11 00:00:03 imdb        No Post Title    -1\n",
    "```\n",
    "\n",
    "Hint: \n",
    "-  The words in the sentiment dataset are all lower case.\n",
    "-  Use ```str_extract_all()``` to break each tweet into a vector of words. \n",
    "-  The ```unnest()``` function can then be useful to expand this vector so each row of the tibble corresponds to one word in one tweet."
   ]
  },
  {
   "cell_type": "code",
   "execution_count": null,
   "metadata": {},
   "outputs": [],
   "source": []
  },
  {
   "cell_type": "markdown",
   "metadata": {},
   "source": [
    "### (b) _6 points_\n",
    "\n",
    "Plot a histogram of sentiment score for each day of the week. \n"
   ]
  },
  {
   "cell_type": "code",
   "execution_count": null,
   "metadata": {},
   "outputs": [],
   "source": []
  }
 ],
 "metadata": {
  "kernelspec": {
   "display_name": "R",
   "language": "R",
   "name": "ir"
  },
  "language_info": {
   "codemirror_mode": "r",
   "file_extension": ".r",
   "mimetype": "text/x-r-source",
   "name": "R",
   "pygments_lexer": "r",
   "version": "4.1.1"
  }
 },
 "nbformat": 4,
 "nbformat_minor": 2
}
