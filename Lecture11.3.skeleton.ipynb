{
 "cells": [
  {
   "cell_type": "markdown",
   "metadata": {},
   "source": [
    "# Lecture 11.3: More about Statistical Modeling \n",
    "<div style=\"border: 1px double black; padding: 10px; margin: 10px\">\n",
    "From now until the end of the course we will focus on statistical modeling ([Part IV] of your book).\n",
    "\n",
    "    \n",
    "\n",
    "\n"
   ]
  },
  {
   "cell_type": "code",
   "execution_count": 2,
   "metadata": {},
   "outputs": [],
   "source": [
    "library(tidyverse)\n",
    "library(lubridate)\n",
    "library(gapminder)\n",
    "library(modelr)\n",
    "\n",
    "\n"
   ]
  },
  {
   "cell_type": "code",
   "execution_count": null,
   "metadata": {},
   "outputs": [],
   "source": []
  },
  {
   "cell_type": "markdown",
   "metadata": {},
   "source": [
    "Last lecture we saw that some countries in Africa experienced a sharp drop in life expectancy in the 1990s:"
   ]
  },
  {
   "cell_type": "code",
   "execution_count": null,
   "metadata": {},
   "outputs": [],
   "source": []
  },
  {
   "cell_type": "markdown",
   "metadata": {},
   "source": [
    "What is an appropriate model for this data? Clearly a line is not sufficient. We might think about fitting *two* lines per population.\n",
    "### Exercise\n",
    "Use the linear model to fit a \"two-period\" growth model to each of these countries: each country gets one slope and intercept for 1950-1990, and gets another slope and intercept for 1990-present."
   ]
  },
  {
   "cell_type": "code",
   "execution_count": null,
   "metadata": {},
   "outputs": [],
   "source": []
  },
  {
   "cell_type": "markdown",
   "metadata": {},
   "source": [
    "Another option for fitting these data is no use a non-linear model:"
   ]
  },
  {
   "cell_type": "code",
   "execution_count": null,
   "metadata": {},
   "outputs": [],
   "source": []
  },
  {
   "cell_type": "markdown",
   "metadata": {},
   "source": [
    "# Fitting a Curve"
   ]
  },
  {
   "cell_type": "code",
   "execution_count": null,
   "metadata": {},
   "outputs": [],
   "source": []
  },
  {
   "cell_type": "markdown",
   "metadata": {},
   "source": [
    "The function `poly(year, 3)` indicates that we have added a third-order polynomial, so that our linear model is now\n",
    "\n",
    "$$\\text{lifeExp} = \\text{<country intercept>} + a_1 \\text{year} + a_2 \\text{year}^2 + a_3 \\text{year}^3.$$\n",
    "\n",
    "(Notice that this model is still linear in $a_i$.)\n",
    "\n",
    "One downside of this type of approach is interpretability:\n"
   ]
  },
  {
   "cell_type": "code",
   "execution_count": null,
   "metadata": {},
   "outputs": [],
   "source": []
  },
  {
   "cell_type": "markdown",
   "metadata": {},
   "source": [
    "## Drops in life expectancy\n",
    "Which countries experienced the sharpest five-year drops in life expectancy? Can we explain why these occurred?"
   ]
  },
  {
   "cell_type": "code",
   "execution_count": null,
   "metadata": {},
   "outputs": [],
   "source": []
  },
  {
   "cell_type": "markdown",
   "metadata": {},
   "source": [
    "In most cases these drops in life expectancy appear to be due to the HIV/AIDS epidemic that ravaged sub-Saharan Africa in the late 1990s. To investigate this phenomenon further we will look at an [additional Gapminder data source](https://www.gapminder.org/data/) on the HIV infection rates."
   ]
  },
  {
   "cell_type": "markdown",
   "metadata": {},
   "source": [
    "## Reading Microsoft Excel files\n",
    "The particular data we are interested in come are distributed as a Microsoft Excel spreadsheet. A lot of socio-economic data are distributed in this way, so this gives us a good chance to practice importing Excel data into R. "
   ]
  },
  {
   "cell_type": "markdown",
   "metadata": {},
   "source": [
    "`tidyverse` conveniently gives us a `readxl` library for importing Excel data into R:"
   ]
  },
  {
   "cell_type": "code",
   "execution_count": null,
   "metadata": {},
   "outputs": [],
   "source": []
  },
  {
   "cell_type": "markdown",
   "metadata": {},
   "source": [
    "To gain further insight, we can join the HIV data to our other gapminder data. Let us study further the relationship between HIV rate and life expectancy."
   ]
  },
  {
   "cell_type": "code",
   "execution_count": null,
   "metadata": {},
   "outputs": [],
   "source": []
  },
  {
   "cell_type": "markdown",
   "metadata": {},
   "source": [
    "Let us try and quantify this relationship using a linear model:"
   ]
  },
  {
   "cell_type": "code",
   "execution_count": null,
   "metadata": {},
   "outputs": [],
   "source": []
  },
  {
   "cell_type": "markdown",
   "metadata": {},
   "source": [
    "This says that a 1% increase in the HIV infection percentage leads to a decreased life expectancy of -1.4 years, on average. However, there is a potential problem with this regression fit. To see it, let's look at residuals:"
   ]
  },
  {
   "cell_type": "code",
   "execution_count": null,
   "metadata": {},
   "outputs": [],
   "source": []
  },
  {
   "cell_type": "markdown",
   "metadata": {},
   "source": [
    "The linear model assumes that the residuals are *uncorrelated*, whereas here the correlation between each residual and its lag is close to 1. There are a few ways to address this. One is to look at the first-differences model:"
   ]
  },
  {
   "cell_type": "code",
   "execution_count": null,
   "metadata": {},
   "outputs": [],
   "source": []
  },
  {
   "cell_type": "markdown",
   "metadata": {},
   "source": [
    "The interpretation of this regression is now different. It says that a one point increase in the HIV percentage causes the 5-year change in life expectancy to decrease by -.31 years.\n",
    "\n",
    "If we again compare residuals, they look much more like random noise:"
   ]
  },
  {
   "cell_type": "code",
   "execution_count": null,
   "metadata": {},
   "outputs": [],
   "source": []
  },
  {
   "cell_type": "code",
   "execution_count": null,
   "metadata": {},
   "outputs": [],
   "source": []
  }
 ],
 "metadata": {
  "kernelspec": {
   "display_name": "R",
   "language": "R",
   "name": "ir"
  },
  "language_info": {
   "codemirror_mode": "r",
   "file_extension": ".r",
   "mimetype": "text/x-r-source",
   "name": "R",
   "pygments_lexer": "r",
   "version": "4.0.2"
  }
 },
 "nbformat": 4,
 "nbformat_minor": 1
}
