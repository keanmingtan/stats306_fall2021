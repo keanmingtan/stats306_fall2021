{
 "cells": [
  {
   "cell_type": "markdown",
   "metadata": {},
   "source": [
    "# Lecture 9.3: Case Studies\n",
    "<div style=\"border: 1px double black; padding: 10px; margin: 10px\">\n",
    "\n",
    "    More about string/factor/date functions analyzing twitter data\n"
   ]
  },
  {
   "cell_type": "code",
   "execution_count": 11,
   "metadata": {},
   "outputs": [
    {
     "name": "stdout",
     "output_type": "stream",
     "text": [
      "\n",
      "The downloaded binary packages are in\n",
      "\t/var/folders/0l/dj01tr0x49xbx9gr9y98rpj00000gn/T//RtmptRhxlw/downloaded_packages\n"
     ]
    }
   ],
   "source": [
    "library(tidyverse)\n",
    "library(lubridate)\n",
    "library(forcats)\n",
    "install.packages(\"tidytext\")\n",
    "library(tidytext)\n"
   ]
  },
  {
   "cell_type": "markdown",
   "metadata": {},
   "source": [
    "## Trump Twitter data\n",
    "We will now use what we have learned in the past two classes to analyze some real data. "
   ]
  },
  {
   "cell_type": "code",
   "execution_count": 23,
   "metadata": {},
   "outputs": [],
   "source": [
    "load(\"trumptwitter.RData\")"
   ]
  },
  {
   "cell_type": "code",
   "execution_count": 24,
   "metadata": {},
   "outputs": [
    {
     "data": {
      "text/html": [
       "<table class=\"dataframe\">\n",
       "<caption>A tibble: 1 × 8</caption>\n",
       "<thead>\n",
       "\t<tr><th scope=col>source</th><th scope=col>id_str</th><th scope=col>text</th><th scope=col>created_at</th><th scope=col>retweet_count</th><th scope=col>in_reply_to_user_id_str</th><th scope=col>favorite_count</th><th scope=col>is_retweet</th></tr>\n",
       "\t<tr><th scope=col>&lt;chr&gt;</th><th scope=col>&lt;chr&gt;</th><th scope=col>&lt;chr&gt;</th><th scope=col>&lt;chr&gt;</th><th scope=col>&lt;int&gt;</th><th scope=col>&lt;chr&gt;</th><th scope=col>&lt;int&gt;</th><th scope=col>&lt;lgl&gt;</th></tr>\n",
       "</thead>\n",
       "<tbody>\n",
       "\t<tr><td>Twitter Web Client</td><td>20595488004775936</td><td>WIshing everyone a happy, healthy and prosperous New Year!</td><td>Thu Dec 30 21:42:01 +0000 2010</td><td>144</td><td>NA</td><td>42</td><td>FALSE</td></tr>\n",
       "</tbody>\n",
       "</table>\n"
      ],
      "text/latex": [
       "A tibble: 1 × 8\n",
       "\\begin{tabular}{llllllll}\n",
       " source & id\\_str & text & created\\_at & retweet\\_count & in\\_reply\\_to\\_user\\_id\\_str & favorite\\_count & is\\_retweet\\\\\n",
       " <chr> & <chr> & <chr> & <chr> & <int> & <chr> & <int> & <lgl>\\\\\n",
       "\\hline\n",
       "\t Twitter Web Client & 20595488004775936 & WIshing everyone a happy, healthy and prosperous New Year! & Thu Dec 30 21:42:01 +0000 2010 & 144 & NA & 42 & FALSE\\\\\n",
       "\\end{tabular}\n"
      ],
      "text/markdown": [
       "\n",
       "A tibble: 1 × 8\n",
       "\n",
       "| source &lt;chr&gt; | id_str &lt;chr&gt; | text &lt;chr&gt; | created_at &lt;chr&gt; | retweet_count &lt;int&gt; | in_reply_to_user_id_str &lt;chr&gt; | favorite_count &lt;int&gt; | is_retweet &lt;lgl&gt; |\n",
       "|---|---|---|---|---|---|---|---|\n",
       "| Twitter Web Client | 20595488004775936 | WIshing everyone a happy, healthy and prosperous New Year! | Thu Dec 30 21:42:01 +0000 2010 | 144 | NA | 42 | FALSE |\n",
       "\n"
      ],
      "text/plain": [
       "  source             id_str           \n",
       "1 Twitter Web Client 20595488004775936\n",
       "  text                                                      \n",
       "1 WIshing everyone a happy, healthy and prosperous New Year!\n",
       "  created_at                     retweet_count in_reply_to_user_id_str\n",
       "1 Thu Dec 30 21:42:01 +0000 2010 144           NA                     \n",
       "  favorite_count is_retweet\n",
       "1 42             FALSE     "
      ]
     },
     "metadata": {},
     "output_type": "display_data"
    }
   ],
   "source": [
    "trump_tweets %>% slice(1)"
   ]
  },
  {
   "cell_type": "markdown",
   "metadata": {},
   "source": [
    "`trump_tweets` is a dataset of all 41,958 Tweets that Donald Trump has sent since 2010 to 2019."
   ]
  },
  {
   "cell_type": "markdown",
   "metadata": {},
   "source": [
    "### Task #1\n",
    "Each tweet has a timestamp in the `created_at` column. We want to convert this column to a proper date-time object so that we can analyze the time component of these tweets."
   ]
  },
  {
   "cell_type": "code",
   "execution_count": null,
   "metadata": {},
   "outputs": [],
   "source": []
  },
  {
   "cell_type": "markdown",
   "metadata": {},
   "source": [
    "### Task #2\n",
    "Plot the number of Tweets that Donald Trump has made for each quarter of the year from 2010 to present."
   ]
  },
  {
   "cell_type": "code",
   "execution_count": null,
   "metadata": {},
   "outputs": [],
   "source": []
  },
  {
   "cell_type": "markdown",
   "metadata": {},
   "source": [
    "### Task #3\n",
    "Recall that `words` contains common English words. After filtering out these words, and all words that were shorter than six characters, the most common words that Trump used in 2018 were:\n",
    "\n",
    "```\n",
    "# A tibble: 11 x 2\n",
    "   words               n\n",
    "   <chr>           <int>\n",
    " 1 american          161\n",
    " 2 border            269\n",
    " 3 collusion         133\n",
    " 4 democrats         291\n",
    " 5 military          183\n",
    " 6 president         356\n",
    " 7 realdonaldtrump   182\n",
    " 8 russia            133\n",
    " 9 security          151\n",
    "10 states            150\n",
    "11 united            150\n",
    "\n",
    "```\n",
    "\n",
    "What about for 2019?"
   ]
  },
  {
   "cell_type": "markdown",
   "metadata": {},
   "source": [
    "The unnest() function can then be useful to expand a vector of string so each row of the tibble corresponds to one word in one tweet.\n"
   ]
  },
  {
   "cell_type": "code",
   "execution_count": null,
   "metadata": {},
   "outputs": [],
   "source": []
  },
  {
   "cell_type": "markdown",
   "metadata": {},
   "source": [
    "### Task #4\n",
    "What were Trump's favorite #hashtags?"
   ]
  },
  {
   "cell_type": "code",
   "execution_count": null,
   "metadata": {},
   "outputs": [],
   "source": []
  },
  {
   "cell_type": "markdown",
   "metadata": {},
   "source": [
    "### Task #5\n",
    "\"Sentiment analysis\" refers to the act of assigning a label such as \"positive\" or \"negative\" to a piece of text. We will perform a simple type of sentiment analysis by assigning a numerical score to certain words in each tweet, using the `sentiments` table:"
   ]
  },
  {
   "cell_type": "code",
   "execution_count": null,
   "metadata": {},
   "outputs": [],
   "source": []
  },
  {
   "cell_type": "markdown",
   "metadata": {},
   "source": [
    "An example of how this works:"
   ]
  },
  {
   "cell_type": "code",
   "execution_count": null,
   "metadata": {},
   "outputs": [],
   "source": []
  },
  {
   "cell_type": "markdown",
   "metadata": {},
   "source": [
    "Average the sentiment by month for the full data set, and make a plot of the monthly average from 2014 to 2018. \n",
    "\n",
    "Trump declared his candidacy in June of 2015. Notice anything?"
   ]
  },
  {
   "cell_type": "code",
   "execution_count": null,
   "metadata": {},
   "outputs": [],
   "source": []
  },
  {
   "cell_type": "code",
   "execution_count": null,
   "metadata": {},
   "outputs": [],
   "source": []
  },
  {
   "cell_type": "code",
   "execution_count": null,
   "metadata": {},
   "outputs": [],
   "source": []
  }
 ],
 "metadata": {
  "kernelspec": {
   "display_name": "R",
   "language": "R",
   "name": "ir"
  },
  "language_info": {
   "codemirror_mode": "r",
   "file_extension": ".r",
   "mimetype": "text/x-r-source",
   "name": "R",
   "pygments_lexer": "r",
   "version": "4.0.2"
  }
 },
 "nbformat": 4,
 "nbformat_minor": 1
}
