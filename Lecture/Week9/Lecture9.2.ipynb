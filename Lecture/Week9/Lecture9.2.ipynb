{
 "cells": [
  {
   "cell_type": "markdown",
   "metadata": {},
   "source": [
    "# Lecture 9.2: Dates\n",
    "<div style=\"border: 1px double black; padding: 10px; margin: 10px\">\n",
    "\n",
    "**After today's lecture you will understand:**\n",
    "* Learn how to deal with dates \n",
    "</div>\n",
    "\n",
    "This correpsonds to Chapter 16 of your book\n",
    "\n",
    "\n",
    "\n",
    "    \n",
    "\n",
    "\n"
   ]
  },
  {
   "cell_type": "code",
   "execution_count": 1,
   "metadata": {},
   "outputs": [
    {
     "name": "stderr",
     "output_type": "stream",
     "text": [
      "── \u001b[1mAttaching packages\u001b[22m ─────────────────────────────────────── tidyverse 1.3.1 ──\n",
      "\n",
      "\u001b[32m✔\u001b[39m \u001b[34mggplot2\u001b[39m 3.3.5     \u001b[32m✔\u001b[39m \u001b[34mpurrr  \u001b[39m 0.3.4\n",
      "\u001b[32m✔\u001b[39m \u001b[34mtibble \u001b[39m 3.1.3     \u001b[32m✔\u001b[39m \u001b[34mdplyr  \u001b[39m 1.0.7\n",
      "\u001b[32m✔\u001b[39m \u001b[34mtidyr  \u001b[39m 1.1.3     \u001b[32m✔\u001b[39m \u001b[34mstringr\u001b[39m 1.4.0\n",
      "\u001b[32m✔\u001b[39m \u001b[34mreadr  \u001b[39m 2.0.1     \u001b[32m✔\u001b[39m \u001b[34mforcats\u001b[39m 0.5.1\n",
      "\n",
      "── \u001b[1mConflicts\u001b[22m ────────────────────────────────────────── tidyverse_conflicts() ──\n",
      "\u001b[31m✖\u001b[39m \u001b[34mdplyr\u001b[39m::\u001b[32mfilter()\u001b[39m masks \u001b[34mstats\u001b[39m::filter()\n",
      "\u001b[31m✖\u001b[39m \u001b[34mdplyr\u001b[39m::\u001b[32mlag()\u001b[39m    masks \u001b[34mstats\u001b[39m::lag()\n",
      "\n"
     ]
    }
   ],
   "source": [
    "library(tidyverse)"
   ]
  },
  {
   "cell_type": "markdown",
   "metadata": {},
   "source": [
    "## Dates\n",
    "Most of us have a pretty firm grasp on dates. But they can be more complicated than you might think. For instance,  does every year have 365 days?"
   ]
  },
  {
   "cell_type": "markdown",
   "metadata": {},
   "source": [
    "As before, we'll rely on the `lubridate` package to work with dates:"
   ]
  },
  {
   "cell_type": "code",
   "execution_count": 2,
   "metadata": {},
   "outputs": [
    {
     "name": "stderr",
     "output_type": "stream",
     "text": [
      "\n",
      "Attaching package: ‘lubridate’\n",
      "\n",
      "\n",
      "The following objects are masked from ‘package:base’:\n",
      "\n",
      "    date, intersect, setdiff, union\n",
      "\n",
      "\n"
     ]
    }
   ],
   "source": [
    "library(lubridate)\n",
    "library(tidyverse)\n",
    "library(nycflights13)"
   ]
  },
  {
   "cell_type": "markdown",
   "metadata": {},
   "source": [
    "There are three different date classes in R:\n",
    "\n",
    "* A date, printed in tibble as `<date>`, represents a full day on the calendar.\n",
    "* A time within a day, printed as `<time>`, represents a specific time within an (unspecified) day.\n",
    "* A date-time is a date plus a time (tibble: `<dttm>`). A date-time uniquely identifies an instant in time (up to a given precision, usually 1 second.)"
   ]
  },
  {
   "cell_type": "markdown",
   "metadata": {},
   "source": [
    "We've already seen examples of date-times in the `flights` tibble:"
   ]
  },
  {
   "cell_type": "code",
   "execution_count": 3,
   "metadata": {},
   "outputs": [
    {
     "name": "stdout",
     "output_type": "stream",
     "text": [
      "\u001b[90m# A tibble: 336,776 × 1\u001b[39m\n",
      "   time_hour          \n",
      "   \u001b[3m\u001b[90m<dttm>\u001b[39m\u001b[23m             \n",
      "\u001b[90m 1\u001b[39m 2013-01-01 \u001b[90m05:00:00\u001b[39m\n",
      "\u001b[90m 2\u001b[39m 2013-01-01 \u001b[90m05:00:00\u001b[39m\n",
      "\u001b[90m 3\u001b[39m 2013-01-01 \u001b[90m05:00:00\u001b[39m\n",
      "\u001b[90m 4\u001b[39m 2013-01-01 \u001b[90m05:00:00\u001b[39m\n",
      "\u001b[90m 5\u001b[39m 2013-01-01 \u001b[90m06:00:00\u001b[39m\n",
      "\u001b[90m 6\u001b[39m 2013-01-01 \u001b[90m05:00:00\u001b[39m\n",
      "\u001b[90m 7\u001b[39m 2013-01-01 \u001b[90m06:00:00\u001b[39m\n",
      "\u001b[90m 8\u001b[39m 2013-01-01 \u001b[90m06:00:00\u001b[39m\n",
      "\u001b[90m 9\u001b[39m 2013-01-01 \u001b[90m06:00:00\u001b[39m\n",
      "\u001b[90m10\u001b[39m 2013-01-01 \u001b[90m06:00:00\u001b[39m\n",
      "\u001b[90m# … with 336,766 more rows\u001b[39m\n"
     ]
    }
   ],
   "source": [
    "select(flights, time_hour) %>% print"
   ]
  },
  {
   "cell_type": "code",
   "execution_count": null,
   "metadata": {},
   "outputs": [],
   "source": []
  },
  {
   "cell_type": "markdown",
   "metadata": {},
   "source": [
    "You should tend to favor working with dates over date-times if possible. The latter are more complicated because of the need to handle time zones.\n",
    "\n"
   ]
  },
  {
   "cell_type": "markdown",
   "metadata": {},
   "source": [
    "We can get the current date and date-time using the `today()` and `now()` commands:"
   ]
  },
  {
   "cell_type": "code",
   "execution_count": 4,
   "metadata": {},
   "outputs": [
    {
     "data": {
      "text/html": [
       "<time datetime=\"2021-11-01\">2021-11-01</time>"
      ],
      "text/latex": [
       "2021-11-01"
      ],
      "text/markdown": [
       "2021-11-01"
      ],
      "text/plain": [
       "[1] \"2021-11-01\""
      ]
     },
     "metadata": {},
     "output_type": "display_data"
    }
   ],
   "source": [
    "today()"
   ]
  },
  {
   "cell_type": "code",
   "execution_count": 5,
   "metadata": {},
   "outputs": [
    {
     "data": {
      "text/plain": [
       "[1] \"2021-11-01 11:53:52 EDT\""
      ]
     },
     "metadata": {},
     "output_type": "display_data"
    }
   ],
   "source": [
    "now()"
   ]
  },
  {
   "cell_type": "code",
   "execution_count": null,
   "metadata": {},
   "outputs": [],
   "source": []
  },
  {
   "cell_type": "markdown",
   "metadata": {},
   "source": [
    "### Converting strings to dates and times\n",
    "Frequently you will be encounter date and/or time data stored as text. You will need to convert these data into the native R date classes in order to use date functions on them. The `mdy/ymd/dmy` functions accomplish this."
   ]
  },
  {
   "cell_type": "code",
   "execution_count": 6,
   "metadata": {},
   "outputs": [
    {
     "data": {
      "text/html": [
       "<time datetime=\"2017-01-31\">2017-01-31</time>"
      ],
      "text/latex": [
       "2017-01-31"
      ],
      "text/markdown": [
       "2017-01-31"
      ],
      "text/plain": [
       "[1] \"2017-01-31\""
      ]
     },
     "metadata": {},
     "output_type": "display_data"
    }
   ],
   "source": [
    "ymd(\"2017 01 31\")"
   ]
  },
  {
   "cell_type": "code",
   "execution_count": 7,
   "metadata": {},
   "outputs": [
    {
     "data": {
      "text/html": [
       "<time datetime=\"2017-01-31\">2017-01-31</time>"
      ],
      "text/latex": [
       "2017-01-31"
      ],
      "text/markdown": [
       "2017-01-31"
      ],
      "text/plain": [
       "[1] \"2017-01-31\""
      ]
     },
     "metadata": {},
     "output_type": "display_data"
    },
    {
     "data": {
      "text/html": [
       "<time datetime=\"2017-01-31\">2017-01-31</time>"
      ],
      "text/latex": [
       "2017-01-31"
      ],
      "text/markdown": [
       "2017-01-31"
      ],
      "text/plain": [
       "[1] \"2017-01-31\""
      ]
     },
     "metadata": {},
     "output_type": "display_data"
    }
   ],
   "source": [
    "mdy(\"1 31 2017\")\n",
    "\n",
    "dmy(\"31 1 2017\")"
   ]
  },
  {
   "cell_type": "markdown",
   "metadata": {},
   "source": [
    "### Other languages\n",
    "You might find yourself needing to parse dates in other languages. This will fail if the dates are in a language which is different from your system's language:"
   ]
  },
  {
   "cell_type": "code",
   "execution_count": 8,
   "metadata": {},
   "outputs": [
    {
     "name": "stderr",
     "output_type": "stream",
     "text": [
      "Warning message:\n",
      "“All formats failed to parse. No formats found.”\n"
     ]
    },
    {
     "data": {
      "text/html": [
       "<time datetime=\"&lt;NA&gt;\">&lt;NA&gt;</time>"
      ],
      "text/latex": [
       "<NA>"
      ],
      "text/markdown": [
       "&lt;NA&gt;"
      ],
      "text/plain": [
       "[1] NA"
      ]
     },
     "metadata": {},
     "output_type": "display_data"
    }
   ],
   "source": [
    "dmy(\"31 août 2017\")"
   ]
  },
  {
   "cell_type": "markdown",
   "metadata": {},
   "source": [
    "Fix this by specifying the *locale* option:"
   ]
  },
  {
   "cell_type": "code",
   "execution_count": 9,
   "metadata": {},
   "outputs": [
    {
     "data": {
      "text/html": [
       "<time datetime=\"2017-08-31\">2017-08-31</time>"
      ],
      "text/latex": [
       "2017-08-31"
      ],
      "text/markdown": [
       "2017-08-31"
      ],
      "text/plain": [
       "[1] \"2017-08-31\""
      ]
     },
     "metadata": {},
     "output_type": "display_data"
    }
   ],
   "source": [
    "dmy(\"31 août 2017\", locale = \"fr_FR\")"
   ]
  },
  {
   "cell_type": "code",
   "execution_count": 10,
   "metadata": {},
   "outputs": [
    {
     "data": {
      "text/html": [
       "<time datetime=\"2017-01-31\">2017-01-31</time>"
      ],
      "text/latex": [
       "2017-01-31"
      ],
      "text/markdown": [
       "2017-01-31"
      ],
      "text/plain": [
       "[1] \"2017-01-31\""
      ]
     },
     "metadata": {},
     "output_type": "display_data"
    }
   ],
   "source": [
    "dmy(\"31-Jan-2017\")"
   ]
  },
  {
   "cell_type": "markdown",
   "metadata": {},
   "source": [
    "### Date-time parsers\n",
    "There are also equivalent functions for parsing date-times:"
   ]
  },
  {
   "cell_type": "code",
   "execution_count": 11,
   "metadata": {},
   "outputs": [
    {
     "data": {
      "text/plain": [
       "[1] \"2017-01-31 20:11:59 UTC\""
      ]
     },
     "metadata": {},
     "output_type": "display_data"
    }
   ],
   "source": [
    "ymd_hms(\"2017-01-31 20:11:59\")"
   ]
  },
  {
   "cell_type": "code",
   "execution_count": 12,
   "metadata": {},
   "outputs": [
    {
     "data": {
      "text/plain": [
       "[1] \"2017-01-31 08:01:00 UTC\""
      ]
     },
     "metadata": {},
     "output_type": "display_data"
    }
   ],
   "source": [
    "mdy_hm(\"01/31/2017 08:01\")"
   ]
  },
  {
   "cell_type": "markdown",
   "metadata": {},
   "source": [
    "Sometimes you can get away with calling `as_datetime()`:"
   ]
  },
  {
   "cell_type": "code",
   "execution_count": 13,
   "metadata": {},
   "outputs": [
    {
     "data": {
      "text/plain": [
       "[1] \"2017-01-31 20:11:59 UTC\""
      ]
     },
     "metadata": {},
     "output_type": "display_data"
    },
    {
     "name": "stderr",
     "output_type": "stream",
     "text": [
      "Warning message:\n",
      "“All formats failed to parse. No formats found.”\n"
     ]
    },
    {
     "data": {
      "text/plain": [
       "[1] NA"
      ]
     },
     "metadata": {},
     "output_type": "display_data"
    }
   ],
   "source": [
    "as_datetime(\"2017-01-31 20:11:59\")\n",
    "as_datetime(\"01/31/2017 08:01\")"
   ]
  },
  {
   "cell_type": "markdown",
   "metadata": {},
   "source": [
    "### Making a date-time from components\n",
    "We saw in the `flights` table that date information can be spread across multiple columns. The `make_date` and `make_datetime` functions can make dates from these:"
   ]
  },
  {
   "cell_type": "code",
   "execution_count": 14,
   "metadata": {},
   "outputs": [
    {
     "name": "stdout",
     "output_type": "stream",
     "text": [
      "\u001b[90m# A tibble: 336,776 × 4\u001b[39m\n",
      "    year month   day dep_time\n",
      "   \u001b[3m\u001b[90m<int>\u001b[39m\u001b[23m \u001b[3m\u001b[90m<int>\u001b[39m\u001b[23m \u001b[3m\u001b[90m<int>\u001b[39m\u001b[23m    \u001b[3m\u001b[90m<int>\u001b[39m\u001b[23m\n",
      "\u001b[90m 1\u001b[39m  \u001b[4m2\u001b[24m013     1     1      517\n",
      "\u001b[90m 2\u001b[39m  \u001b[4m2\u001b[24m013     1     1      533\n",
      "\u001b[90m 3\u001b[39m  \u001b[4m2\u001b[24m013     1     1      542\n",
      "\u001b[90m 4\u001b[39m  \u001b[4m2\u001b[24m013     1     1      544\n",
      "\u001b[90m 5\u001b[39m  \u001b[4m2\u001b[24m013     1     1      554\n",
      "\u001b[90m 6\u001b[39m  \u001b[4m2\u001b[24m013     1     1      554\n",
      "\u001b[90m 7\u001b[39m  \u001b[4m2\u001b[24m013     1     1      555\n",
      "\u001b[90m 8\u001b[39m  \u001b[4m2\u001b[24m013     1     1      557\n",
      "\u001b[90m 9\u001b[39m  \u001b[4m2\u001b[24m013     1     1      557\n",
      "\u001b[90m10\u001b[39m  \u001b[4m2\u001b[24m013     1     1      558\n",
      "\u001b[90m# … with 336,766 more rows\u001b[39m\n"
     ]
    }
   ],
   "source": [
    "flights %>% select(year, month, day, dep_time) %>% print"
   ]
  },
  {
   "cell_type": "markdown",
   "metadata": {},
   "source": [
    "#### Example\n",
    "The `flights` table has scheduled as well as actual arrival and departure times. Let's create a date-time variable from the actual departure time:"
   ]
  },
  {
   "cell_type": "code",
   "execution_count": 15,
   "metadata": {},
   "outputs": [],
   "source": [
    "make_datetime_100 = function(year, month, day, time) {\n",
    "  make_datetime(year, month, day, time %/% 100, time %% 100)\n",
    "}"
   ]
  },
  {
   "cell_type": "code",
   "execution_count": 16,
   "metadata": {},
   "outputs": [
    {
     "name": "stdout",
     "output_type": "stream",
     "text": [
      "\u001b[90m# A tibble: 328,063 × 9\u001b[39m\n",
      "   origin dest  dep_delay arr_delay dep_time            sched_dep_time     \n",
      "   \u001b[3m\u001b[90m<chr>\u001b[39m\u001b[23m  \u001b[3m\u001b[90m<chr>\u001b[39m\u001b[23m     \u001b[3m\u001b[90m<dbl>\u001b[39m\u001b[23m     \u001b[3m\u001b[90m<dbl>\u001b[39m\u001b[23m \u001b[3m\u001b[90m<dttm>\u001b[39m\u001b[23m              \u001b[3m\u001b[90m<dttm>\u001b[39m\u001b[23m             \n",
      "\u001b[90m 1\u001b[39m EWR    IAH           2        11 2013-01-01 \u001b[90m05:17:00\u001b[39m 2013-01-01 \u001b[90m05:15:00\u001b[39m\n",
      "\u001b[90m 2\u001b[39m LGA    IAH           4        20 2013-01-01 \u001b[90m05:33:00\u001b[39m 2013-01-01 \u001b[90m05:29:00\u001b[39m\n",
      "\u001b[90m 3\u001b[39m JFK    MIA           2        33 2013-01-01 \u001b[90m05:42:00\u001b[39m 2013-01-01 \u001b[90m05:40:00\u001b[39m\n",
      "\u001b[90m 4\u001b[39m JFK    BQN          -\u001b[31m1\u001b[39m       -\u001b[31m18\u001b[39m 2013-01-01 \u001b[90m05:44:00\u001b[39m 2013-01-01 \u001b[90m05:45:00\u001b[39m\n",
      "\u001b[90m 5\u001b[39m LGA    ATL          -\u001b[31m6\u001b[39m       -\u001b[31m25\u001b[39m 2013-01-01 \u001b[90m05:54:00\u001b[39m 2013-01-01 \u001b[90m06:00:00\u001b[39m\n",
      "\u001b[90m 6\u001b[39m EWR    ORD          -\u001b[31m4\u001b[39m        12 2013-01-01 \u001b[90m05:54:00\u001b[39m 2013-01-01 \u001b[90m05:58:00\u001b[39m\n",
      "\u001b[90m 7\u001b[39m EWR    FLL          -\u001b[31m5\u001b[39m        19 2013-01-01 \u001b[90m05:55:00\u001b[39m 2013-01-01 \u001b[90m06:00:00\u001b[39m\n",
      "\u001b[90m 8\u001b[39m LGA    IAD          -\u001b[31m3\u001b[39m       -\u001b[31m14\u001b[39m 2013-01-01 \u001b[90m05:57:00\u001b[39m 2013-01-01 \u001b[90m06:00:00\u001b[39m\n",
      "\u001b[90m 9\u001b[39m JFK    MCO          -\u001b[31m3\u001b[39m        -\u001b[31m8\u001b[39m 2013-01-01 \u001b[90m05:57:00\u001b[39m 2013-01-01 \u001b[90m06:00:00\u001b[39m\n",
      "\u001b[90m10\u001b[39m LGA    ORD          -\u001b[31m2\u001b[39m         8 2013-01-01 \u001b[90m05:58:00\u001b[39m 2013-01-01 \u001b[90m06:00:00\u001b[39m\n",
      "\u001b[90m# … with 328,053 more rows, and 3 more variables: arr_time <dttm>,\u001b[39m\n",
      "\u001b[90m#   sched_arr_time <dttm>, air_time <dbl>\u001b[39m\n"
     ]
    }
   ],
   "source": [
    "flights_dt = flights %>% \n",
    "  filter(!is.na(dep_time), !is.na(arr_time)) %>% \n",
    "  mutate(\n",
    "    dep_time = make_datetime_100(year, month, day, dep_time),\n",
    "    arr_time = make_datetime_100(year, month, day, arr_time),\n",
    "    sched_dep_time = make_datetime_100(year, month, day, sched_dep_time),\n",
    "    sched_arr_time = make_datetime_100(year, month, day, sched_arr_time)\n",
    "  ) %>% \n",
    "  select(origin, dest, ends_with(\"delay\"), ends_with(\"time\"))  %>% print"
   ]
  },
  {
   "cell_type": "code",
   "execution_count": 17,
   "metadata": {},
   "outputs": [
    {
     "name": "stdout",
     "output_type": "stream",
     "text": [
      "\u001b[90m# A tibble: 336,776 × 1\u001b[39m\n",
      "   dep_time\n",
      "      \u001b[3m\u001b[90m<int>\u001b[39m\u001b[23m\n",
      "\u001b[90m 1\u001b[39m      517\n",
      "\u001b[90m 2\u001b[39m      533\n",
      "\u001b[90m 3\u001b[39m      542\n",
      "\u001b[90m 4\u001b[39m      544\n",
      "\u001b[90m 5\u001b[39m      554\n",
      "\u001b[90m 6\u001b[39m      554\n",
      "\u001b[90m 7\u001b[39m      555\n",
      "\u001b[90m 8\u001b[39m      557\n",
      "\u001b[90m 9\u001b[39m      557\n",
      "\u001b[90m10\u001b[39m      558\n",
      "\u001b[90m# … with 336,766 more rows\u001b[39m\n"
     ]
    }
   ],
   "source": [
    "flights %>% select((dep_time))%>%print"
   ]
  },
  {
   "cell_type": "markdown",
   "metadata": {},
   "source": [
    "Now we can use built in R command to query and plot these data based on actual departure time:"
   ]
  },
  {
   "cell_type": "code",
   "execution_count": 18,
   "metadata": {},
   "outputs": [
    {
     "data": {
      "image/png": "[encoded data removed]",
      "text/plain": [
       "plot without title"
      ]
     },
     "metadata": {
      "image/png": {
       "height": 420,
       "width": 420
      }
     },
     "output_type": "display_data"
    }
   ],
   "source": [
    "flights_dt %>% \n",
    "  filter(dep_time < ymd(20130130), dep_time >= ymd(20130120)) %>% \n",
    "  ggplot(aes(x=dep_time)) + \n",
    "  geom_histogram(binwidth = 24 * 60 * 60)"
   ]
  },
  {
   "cell_type": "markdown",
   "metadata": {},
   "source": [
    "Notice that this command and resulting graph looks much nicer than if we did not use the date classes:\n",
    "* The filter on `dep_time` looks more natural than `filter(day<2, month==1, year==2013)`.\n",
    "* We can easily express the bin-width of 600 seconds in `geom_freqpoly(binwidth = 600)`. When you use date-times in a numeric context (like in a histogram), 1 means 1 second; for dates, 1 means 1 day.\n",
    "* The plot x axis has nice readable labels."
   ]
  },
  {
   "cell_type": "markdown",
   "metadata": {},
   "source": [
    "### The epoch\n",
    "UNIX systems sometimes represent time as \"the number of seconds which have elapsed since 1-1-1970.\" This date is known as \"the epoch\". So you may occasionally come across date-times that look like:"
   ]
  },
  {
   "cell_type": "code",
   "execution_count": 19,
   "metadata": {},
   "outputs": [
    {
     "data": {
      "text/html": [
       "1635782035"
      ],
      "text/latex": [
       "1635782035"
      ],
      "text/markdown": [
       "1635782035"
      ],
      "text/plain": [
       "[1] 1635782035"
      ]
     },
     "metadata": {},
     "output_type": "display_data"
    }
   ],
   "source": [
    "now() %>% as.integer() "
   ]
  },
  {
   "cell_type": "markdown",
   "metadata": {},
   "source": [
    "To convert these to date format you can use `as_datetime`:"
   ]
  },
  {
   "cell_type": "code",
   "execution_count": 20,
   "metadata": {},
   "outputs": [
    {
     "data": {
      "text/plain": [
       "[1] \"1970-01-02 UTC\""
      ]
     },
     "metadata": {},
     "output_type": "display_data"
    }
   ],
   "source": [
    "as_datetime(3600 * 24)"
   ]
  },
  {
   "cell_type": "markdown",
   "metadata": {},
   "source": [
    "### Exercise\n",
    "Alice was born on August 1, 1999. How many seconds old is Alice? (To the nearest million, say)."
   ]
  },
  {
   "cell_type": "code",
   "execution_count": 21,
   "metadata": {},
   "outputs": [
    {
     "data": {
      "text/html": [
       "702316436"
      ],
      "text/latex": [
       "702316436"
      ],
      "text/markdown": [
       "702316436"
      ],
      "text/plain": [
       "[1] 702316436"
      ]
     },
     "metadata": {},
     "output_type": "display_data"
    }
   ],
   "source": [
    "a <- now() %>% as.integer\n",
    "b <- mdy_hms(\"August 1, 1999 00:00:00\") %>% as.integer\n",
    "\n",
    "a - b"
   ]
  },
  {
   "cell_type": "markdown",
   "metadata": {},
   "source": [
    "### Date-time components\n",
    "The functions `year()`, `month()`, `mday()` (day of the month), `yday()` (day of the year), `wday()` (day of the week), `hour()`, `minute()`, and `second()` can extract components from dates and times:"
   ]
  },
  {
   "cell_type": "code",
   "execution_count": 22,
   "metadata": {},
   "outputs": [
    {
     "data": {
      "text/plain": [
       "[1] \"2018-03-12 12:00:00 UTC\""
      ]
     },
     "metadata": {},
     "output_type": "display_data"
    }
   ],
   "source": [
    "mdy_hms(c(\"March 12, 2018 12:00:00\")) "
   ]
  },
  {
   "cell_type": "markdown",
   "metadata": {},
   "source": [
    "By extracting the minute component of scheduled departure time, we uncover a surprising pattern:"
   ]
  },
  {
   "cell_type": "code",
   "execution_count": 23,
   "metadata": {},
   "outputs": [
    {
     "data": {
      "image/png": "[encoded data removed]",
      "text/plain": [
       "plot without title"
      ]
     },
     "metadata": {
      "image/png": {
       "height": 420,
       "width": 420
      }
     },
     "output_type": "display_data"
    }
   ],
   "source": [
    "flights_dt %>% \n",
    "  mutate(minute = minute(dep_time)) %>% \n",
    "  group_by(minute) %>% \n",
    "  summarise(\n",
    "    avg_delay = mean(arr_delay, na.rm = TRUE),\n",
    "    n = n()) %>% \n",
    "  ggplot(aes(minute, avg_delay)) +\n",
    "    geom_line()"
   ]
  },
  {
   "cell_type": "markdown",
   "metadata": {},
   "source": [
    "On the other hand, when grouped by scheduled departure time the delays seem to be random:"
   ]
  },
  {
   "cell_type": "code",
   "execution_count": 24,
   "metadata": {},
   "outputs": [
    {
     "data": {
      "image/png": "[encoded data removed]",
      "text/plain": [
       "plot without title"
      ]
     },
     "metadata": {
      "image/png": {
       "height": 420,
       "width": 420
      }
     },
     "output_type": "display_data"
    }
   ],
   "source": [
    "sched_dep <- flights_dt %>% \n",
    "  mutate(minute = minute(sched_dep_time)) %>% \n",
    "  group_by(minute) %>% \n",
    "  summarise(\n",
    "    avg_delay = mean(arr_delay, na.rm = TRUE),\n",
    "    n = n())\n",
    "\n",
    "ggplot(sched_dep, aes(minute, avg_delay)) +\n",
    "  geom_line()"
   ]
  },
  {
   "cell_type": "markdown",
   "metadata": {},
   "source": [
    "As explained by the book, there is a bias in scheduled departure times towards nice round numbers:"
   ]
  },
  {
   "cell_type": "code",
   "execution_count": 25,
   "metadata": {},
   "outputs": [
    {
     "data": {
      "image/png": "[encoded data removed]",
      "text/plain": [
       "plot without title"
      ]
     },
     "metadata": {
      "image/png": {
       "height": 420,
       "width": 420
      }
     },
     "output_type": "display_data"
    }
   ],
   "source": [
    "ggplot(sched_dep, aes(minute, n)) + geom_col()"
   ]
  },
  {
   "cell_type": "markdown",
   "metadata": {},
   "source": [
    "#### As accessors\n",
    "The component functions also work as accessors, meaning they can be used on the left-hand side of an assignment:"
   ]
  },
  {
   "cell_type": "code",
   "execution_count": 26,
   "metadata": {},
   "outputs": [
    {
     "data": {
      "text/html": [
       "<time datetime=\"2021-11-01\">2021-11-01</time>"
      ],
      "text/latex": [
       "2021-11-01"
      ],
      "text/markdown": [
       "2021-11-01"
      ],
      "text/plain": [
       "[1] \"2021-11-01\""
      ]
     },
     "metadata": {},
     "output_type": "display_data"
    },
    {
     "data": {
      "text/html": [
       "<time datetime=\"2021-11-24\">2021-11-24</time>"
      ],
      "text/latex": [
       "2021-11-24"
      ],
      "text/markdown": [
       "2021-11-24"
      ],
      "text/plain": [
       "[1] \"2021-11-24\""
      ]
     },
     "metadata": {},
     "output_type": "display_data"
    }
   ],
   "source": [
    "(d = today())\n",
    "mday(d) = 24\n",
    "d"
   ]
  },
  {
   "cell_type": "markdown",
   "metadata": {},
   "source": [
    "To return a new (date)time rather than modifying in place, you can use the `update` command:"
   ]
  },
  {
   "cell_type": "code",
   "execution_count": 27,
   "metadata": {},
   "outputs": [
    {
     "data": {
      "text/html": [
       "<time datetime=\"2020-11-01\">2020-11-01</time>"
      ],
      "text/latex": [
       "2020-11-01"
      ],
      "text/markdown": [
       "2020-11-01"
      ],
      "text/plain": [
       "[1] \"2020-11-01\""
      ]
     },
     "metadata": {},
     "output_type": "display_data"
    }
   ],
   "source": [
    "update(today(), year=2020)"
   ]
  },
  {
   "cell_type": "markdown",
   "metadata": {},
   "source": [
    "### Time spans\n",
    "Time spans are the difference between two time points. These are represented in R by the `difftime` class:"
   ]
  },
  {
   "cell_type": "code",
   "execution_count": 28,
   "metadata": {},
   "outputs": [
    {
     "data": {
      "text/plain": [
       "Time difference of 4018 days"
      ]
     },
     "metadata": {},
     "output_type": "display_data"
    },
    {
     "data": {
      "text/html": [
       "'difftime'"
      ],
      "text/latex": [
       "'difftime'"
      ],
      "text/markdown": [
       "'difftime'"
      ],
      "text/plain": [
       "[1] \"difftime\""
      ]
     },
     "metadata": {},
     "output_type": "display_data"
    }
   ],
   "source": [
    "(d = today() - update(today(), year=2010))\n",
    "class(d)"
   ]
  },
  {
   "cell_type": "markdown",
   "metadata": {},
   "source": [
    "Because it is usually simpler to reason about time differences in terms of a single number, `lubridate` also provides a `duration` class which is stored in terms of seconds:"
   ]
  },
  {
   "cell_type": "code",
   "execution_count": 29,
   "metadata": {},
   "outputs": [
    {
     "data": {
      "text/html": [
       "1234s (~20.57 minutes)"
      ],
      "text/latex": [
       "1234s (\\textasciitilde{}20.57 minutes)"
      ],
      "text/markdown": [
       "1234s (~20.57 minutes)"
      ],
      "text/plain": [
       "[1] \"1234s (~20.57 minutes)\""
      ]
     },
     "metadata": {},
     "output_type": "display_data"
    }
   ],
   "source": [
    "as.duration(1234)"
   ]
  },
  {
   "cell_type": "code",
   "execution_count": 30,
   "metadata": {},
   "outputs": [
    {
     "data": {
      "text/html": [
       "10s"
      ],
      "text/latex": [
       "10s"
      ],
      "text/markdown": [
       "10s"
      ],
      "text/plain": [
       "[1] \"10s\""
      ]
     },
     "metadata": {},
     "output_type": "display_data"
    }
   ],
   "source": [
    "dseconds(10)"
   ]
  },
  {
   "cell_type": "code",
   "execution_count": 31,
   "metadata": {},
   "outputs": [
    {
     "data": {
      "text/html": [
       "1814400s (~3 weeks)"
      ],
      "text/latex": [
       "1814400s (\\textasciitilde{}3 weeks)"
      ],
      "text/markdown": [
       "1814400s (~3 weeks)"
      ],
      "text/plain": [
       "[1] \"1814400s (~3 weeks)\""
      ]
     },
     "metadata": {},
     "output_type": "display_data"
    }
   ],
   "source": [
    "dweeks(3)"
   ]
  },
  {
   "cell_type": "markdown",
   "metadata": {},
   "source": [
    "Arithmetic with durations works as you would expect:"
   ]
  },
  {
   "cell_type": "code",
   "execution_count": 32,
   "metadata": {},
   "outputs": [
    {
     "data": {
      "text/html": [
       "63115200s (~2 years)"
      ],
      "text/latex": [
       "63115200s (\\textasciitilde{}2 years)"
      ],
      "text/markdown": [
       "63115200s (~2 years)"
      ],
      "text/plain": [
       "[1] \"63115200s (~2 years)\""
      ]
     },
     "metadata": {},
     "output_type": "display_data"
    }
   ],
   "source": [
    "2 * dyears(1)"
   ]
  },
  {
   "cell_type": "code",
   "execution_count": 33,
   "metadata": {},
   "outputs": [
    {
     "data": {
      "text/html": [
       "38869200s (~1.23 years)"
      ],
      "text/latex": [
       "38869200s (\\textasciitilde{}1.23 years)"
      ],
      "text/markdown": [
       "38869200s (~1.23 years)"
      ],
      "text/plain": [
       "[1] \"38869200s (~1.23 years)\""
      ]
     },
     "metadata": {},
     "output_type": "display_data"
    }
   ],
   "source": [
    "dyears(1) + dweeks(12) + dhours(15)"
   ]
  },
  {
   "cell_type": "markdown",
   "metadata": {},
   "source": [
    "You have to be careful when adding durations and dates. What is 1 day after October 31st at 1pm?"
   ]
  },
  {
   "cell_type": "code",
   "execution_count": 34,
   "metadata": {},
   "outputs": [
    {
     "data": {
      "text/plain": [
       "[1] \"2020-11-01 12:00:00 EST\""
      ]
     },
     "metadata": {},
     "output_type": "display_data"
    }
   ],
   "source": [
    "next_saturday = mdy_hm(\"Oct. 31, 2020 13:00PM\", tz=\"America/Detroit\")\n",
    "next_saturday + ddays(1)"
   ]
  },
  {
   "cell_type": "markdown",
   "metadata": {},
   "source": [
    "To prevent this sort of thing from happening, `lubridate` also offers objects called \"periods\":"
   ]
  },
  {
   "cell_type": "code",
   "execution_count": 35,
   "metadata": {},
   "outputs": [
    {
     "data": {
      "text/html": [
       "1d 0H 0M 0S"
      ],
      "text/latex": [
       "1d 0H 0M 0S"
      ],
      "text/markdown": [
       "1d 0H 0M 0S"
      ],
      "text/plain": [
       "[1] \"1d 0H 0M 0S\""
      ]
     },
     "metadata": {},
     "output_type": "display_data"
    },
    {
     "data": {
      "text/html": [
       "'Period'"
      ],
      "text/latex": [
       "'Period'"
      ],
      "text/markdown": [
       "'Period'"
      ],
      "text/plain": [
       "[1] \"Period\"\n",
       "attr(,\"package\")\n",
       "[1] \"lubridate\""
      ]
     },
     "metadata": {},
     "output_type": "display_data"
    }
   ],
   "source": [
    "days(1)\n",
    "class(days(1))"
   ]
  },
  {
   "cell_type": "markdown",
   "metadata": {},
   "source": [
    "Similarly, periouds have the expected behaviour if you add one year to a leap year:"
   ]
  },
  {
   "cell_type": "code",
   "execution_count": 36,
   "metadata": {},
   "outputs": [
    {
     "data": {
      "text/plain": [
       "[1] \"2016-12-31 06:00:00 UTC\""
      ]
     },
     "metadata": {},
     "output_type": "display_data"
    }
   ],
   "source": [
    "ymd(\"2016-01-01\") + dyears(1)"
   ]
  },
  {
   "cell_type": "code",
   "execution_count": 37,
   "metadata": {},
   "outputs": [
    {
     "data": {
      "text/html": [
       "<time datetime=\"2017-01-01\">2017-01-01</time>"
      ],
      "text/latex": [
       "2017-01-01"
      ],
      "text/markdown": [
       "2017-01-01"
      ],
      "text/plain": [
       "[1] \"2017-01-01\""
      ]
     },
     "metadata": {},
     "output_type": "display_data"
    }
   ],
   "source": [
    "ymd(\"2016-01-01\") + years(1)"
   ]
  },
  {
   "cell_type": "markdown",
   "metadata": {},
   "source": [
    "### Exercise\n",
    "Jack is 20,000 days old today. What is Jack's birthday?"
   ]
  },
  {
   "cell_type": "code",
   "execution_count": 38,
   "metadata": {},
   "outputs": [
    {
     "data": {
      "text/html": [
       "<time datetime=\"1967-01-29\">1967-01-29</time>"
      ],
      "text/latex": [
       "1967-01-29"
      ],
      "text/markdown": [
       "1967-01-29"
      ],
      "text/plain": [
       "[1] \"1967-01-29\""
      ]
     },
     "metadata": {},
     "output_type": "display_data"
    }
   ],
   "source": [
    "today() - ddays(20000)"
   ]
  },
  {
   "cell_type": "markdown",
   "metadata": {},
   "source": [
    "#### Example\n",
    "Earlier in the semester we saw how some flights seem to have arrived before they departed:"
   ]
  },
  {
   "cell_type": "code",
   "execution_count": 39,
   "metadata": {},
   "outputs": [
    {
     "name": "stdout",
     "output_type": "stream",
     "text": [
      "\u001b[90m# A tibble: 6 × 19\u001b[39m\n",
      "   year month   day dep_time sched_dep_time dep_delay arr_time sched_arr_time\n",
      "  \u001b[3m\u001b[90m<int>\u001b[39m\u001b[23m \u001b[3m\u001b[90m<int>\u001b[39m\u001b[23m \u001b[3m\u001b[90m<int>\u001b[39m\u001b[23m    \u001b[3m\u001b[90m<int>\u001b[39m\u001b[23m          \u001b[3m\u001b[90m<int>\u001b[39m\u001b[23m     \u001b[3m\u001b[90m<dbl>\u001b[39m\u001b[23m    \u001b[3m\u001b[90m<int>\u001b[39m\u001b[23m          \u001b[3m\u001b[90m<int>\u001b[39m\u001b[23m\n",
      "\u001b[90m1\u001b[39m  \u001b[4m2\u001b[24m013     1     1     \u001b[4m1\u001b[24m929           \u001b[4m1\u001b[24m920         9        3              7\n",
      "\u001b[90m2\u001b[39m  \u001b[4m2\u001b[24m013     1     1     \u001b[4m1\u001b[24m939           \u001b[4m1\u001b[24m840        59       29           \u001b[4m2\u001b[24m151\n",
      "\u001b[90m3\u001b[39m  \u001b[4m2\u001b[24m013     1     1     \u001b[4m2\u001b[24m058           \u001b[4m2\u001b[24m100        -\u001b[31m2\u001b[39m        8           \u001b[4m2\u001b[24m359\n",
      "\u001b[90m4\u001b[39m  \u001b[4m2\u001b[24m013     1     1     \u001b[4m2\u001b[24m102           \u001b[4m2\u001b[24m108        -\u001b[31m6\u001b[39m      146            158\n",
      "\u001b[90m5\u001b[39m  \u001b[4m2\u001b[24m013     1     1     \u001b[4m2\u001b[24m108           \u001b[4m2\u001b[24m057        11       25             39\n",
      "\u001b[90m6\u001b[39m  \u001b[4m2\u001b[24m013     1     1     \u001b[4m2\u001b[24m120           \u001b[4m2\u001b[24m130       -\u001b[31m10\u001b[39m       16             18\n",
      "\u001b[90m# … with 11 more variables: arr_delay <dbl>, carrier <chr>, flight <int>,\u001b[39m\n",
      "\u001b[90m#   tailnum <chr>, origin <chr>, dest <chr>, air_time <dbl>, distance <dbl>,\u001b[39m\n",
      "\u001b[90m#   hour <dbl>, minute <dbl>, time_hour <dttm>\u001b[39m\n"
     ]
    }
   ],
   "source": [
    "filter(flights, arr_time < dep_time) %>% head %>% print"
   ]
  },
  {
   "cell_type": "markdown",
   "metadata": {},
   "source": [
    "This is because these are overnight flights. To fix this, we can now simply add one day to `arr_time`:"
   ]
  },
  {
   "cell_type": "code",
   "execution_count": 40,
   "metadata": {},
   "outputs": [
    {
     "name": "stdout",
     "output_type": "stream",
     "text": [
      "\u001b[90m# A tibble: 328,063 × 10\u001b[39m\n",
      "   origin dest  dep_delay arr_delay dep_time            sched_dep_time     \n",
      "   \u001b[3m\u001b[90m<chr>\u001b[39m\u001b[23m  \u001b[3m\u001b[90m<chr>\u001b[39m\u001b[23m     \u001b[3m\u001b[90m<dbl>\u001b[39m\u001b[23m     \u001b[3m\u001b[90m<dbl>\u001b[39m\u001b[23m \u001b[3m\u001b[90m<dttm>\u001b[39m\u001b[23m              \u001b[3m\u001b[90m<dttm>\u001b[39m\u001b[23m             \n",
      "\u001b[90m 1\u001b[39m EWR    IAH           2        11 2013-01-01 \u001b[90m05:17:00\u001b[39m 2013-01-01 \u001b[90m05:15:00\u001b[39m\n",
      "\u001b[90m 2\u001b[39m LGA    IAH           4        20 2013-01-01 \u001b[90m05:33:00\u001b[39m 2013-01-01 \u001b[90m05:29:00\u001b[39m\n",
      "\u001b[90m 3\u001b[39m JFK    MIA           2        33 2013-01-01 \u001b[90m05:42:00\u001b[39m 2013-01-01 \u001b[90m05:40:00\u001b[39m\n",
      "\u001b[90m 4\u001b[39m JFK    BQN          -\u001b[31m1\u001b[39m       -\u001b[31m18\u001b[39m 2013-01-01 \u001b[90m05:44:00\u001b[39m 2013-01-01 \u001b[90m05:45:00\u001b[39m\n",
      "\u001b[90m 5\u001b[39m LGA    ATL          -\u001b[31m6\u001b[39m       -\u001b[31m25\u001b[39m 2013-01-01 \u001b[90m05:54:00\u001b[39m 2013-01-01 \u001b[90m06:00:00\u001b[39m\n",
      "\u001b[90m 6\u001b[39m EWR    ORD          -\u001b[31m4\u001b[39m        12 2013-01-01 \u001b[90m05:54:00\u001b[39m 2013-01-01 \u001b[90m05:58:00\u001b[39m\n",
      "\u001b[90m 7\u001b[39m EWR    FLL          -\u001b[31m5\u001b[39m        19 2013-01-01 \u001b[90m05:55:00\u001b[39m 2013-01-01 \u001b[90m06:00:00\u001b[39m\n",
      "\u001b[90m 8\u001b[39m LGA    IAD          -\u001b[31m3\u001b[39m       -\u001b[31m14\u001b[39m 2013-01-01 \u001b[90m05:57:00\u001b[39m 2013-01-01 \u001b[90m06:00:00\u001b[39m\n",
      "\u001b[90m 9\u001b[39m JFK    MCO          -\u001b[31m3\u001b[39m        -\u001b[31m8\u001b[39m 2013-01-01 \u001b[90m05:57:00\u001b[39m 2013-01-01 \u001b[90m06:00:00\u001b[39m\n",
      "\u001b[90m10\u001b[39m LGA    ORD          -\u001b[31m2\u001b[39m         8 2013-01-01 \u001b[90m05:58:00\u001b[39m 2013-01-01 \u001b[90m06:00:00\u001b[39m\n",
      "\u001b[90m# … with 328,053 more rows, and 4 more variables: arr_time <dttm>,\u001b[39m\n",
      "\u001b[90m#   sched_arr_time <dttm>, air_time <dbl>, overnight <lgl>\u001b[39m\n"
     ]
    }
   ],
   "source": [
    "flights_dt = flights_dt %>% \n",
    "  mutate(\n",
    "    overnight = arr_time < dep_time,\n",
    "    arr_time = arr_time + days(overnight * 1),\n",
    "    sched_arr_time = sched_arr_time + days(overnight * 1)\n",
    "  ) %>% print"
   ]
  },
  {
   "cell_type": "markdown",
   "metadata": {},
   "source": [
    "### Time zones\n",
    "When we create a date-time, the default time zone is \"UTC\":"
   ]
  },
  {
   "cell_type": "code",
   "execution_count": 41,
   "metadata": {},
   "outputs": [
    {
     "data": {
      "text/plain": [
       "[1] \"2000-01-30 UTC\""
      ]
     },
     "metadata": {},
     "output_type": "display_data"
    }
   ],
   "source": [
    "ymd_hm(\"2000-01-30 00:00\")"
   ]
  },
  {
   "cell_type": "markdown",
   "metadata": {},
   "source": [
    "This is a standard time zone which is, for historical reasons, equal to time in Greenwich, England."
   ]
  },
  {
   "cell_type": "markdown",
   "metadata": {},
   "source": [
    "If your times are coming from a different time zone you must specify using the `tz=` option:"
   ]
  },
  {
   "cell_type": "code",
   "execution_count": 42,
   "metadata": {},
   "outputs": [
    {
     "data": {
      "text/plain": [
       "[1] \"2017-06-30 20:11:59 EDT\""
      ]
     },
     "metadata": {},
     "output_type": "display_data"
    },
    {
     "data": {
      "text/plain": [
       "[1] \"2017-06-30 20:11:59 PDT\""
      ]
     },
     "metadata": {},
     "output_type": "display_data"
    }
   ],
   "source": [
    "ymd_hms(\"2017-6-30 20:11:59\", tz=\"America/Detroit\")\n",
    "ymd_hms(\"2017-6-30 20:11:59\", tz=\"America/Los_Angeles\")"
   ]
  },
  {
   "cell_type": "code",
   "execution_count": 43,
   "metadata": {},
   "outputs": [
    {
     "data": {
      "text/html": [
       "'America/Detroit'"
      ],
      "text/latex": [
       "'America/Detroit'"
      ],
      "text/markdown": [
       "'America/Detroit'"
      ],
      "text/plain": [
       "[1] \"America/Detroit\""
      ]
     },
     "metadata": {},
     "output_type": "display_data"
    }
   ],
   "source": [
    "Sys.timezone()"
   ]
  },
  {
   "cell_type": "markdown",
   "metadata": {},
   "source": [
    "The command `OlsonNames()` will list all the possible time zones:"
   ]
  },
  {
   "cell_type": "code",
   "execution_count": 44,
   "metadata": {},
   "outputs": [
    {
     "data": {
      "text/html": [
       "594"
      ],
      "text/latex": [
       "594"
      ],
      "text/markdown": [
       "594"
      ],
      "text/plain": [
       "[1] 594"
      ]
     },
     "metadata": {},
     "output_type": "display_data"
    },
    {
     "data": {
      "text/html": [
       "<style>\n",
       ".list-inline {list-style: none; margin:0; padding: 0}\n",
       ".list-inline>li {display: inline-block}\n",
       ".list-inline>li:not(:last-child)::after {content: \"\\00b7\"; padding: 0 .5ex}\n",
       "</style>\n",
       "<ol class=list-inline><li>'UTC'</li><li>'Asia/Ho_Chi_Minh'</li><li>'US/Michigan'</li><li>'America/Denver'</li><li>'Europe/Lisbon'</li><li>'Asia/Samarkand'</li><li>'Australia/Hobart'</li><li>'Etc/GMT+0'</li><li>'America/Barbados'</li><li>'Indian/Kerguelen'</li></ol>\n"
      ],
      "text/latex": [
       "\\begin{enumerate*}\n",
       "\\item 'UTC'\n",
       "\\item 'Asia/Ho\\_Chi\\_Minh'\n",
       "\\item 'US/Michigan'\n",
       "\\item 'America/Denver'\n",
       "\\item 'Europe/Lisbon'\n",
       "\\item 'Asia/Samarkand'\n",
       "\\item 'Australia/Hobart'\n",
       "\\item 'Etc/GMT+0'\n",
       "\\item 'America/Barbados'\n",
       "\\item 'Indian/Kerguelen'\n",
       "\\end{enumerate*}\n"
      ],
      "text/markdown": [
       "1. 'UTC'\n",
       "2. 'Asia/Ho_Chi_Minh'\n",
       "3. 'US/Michigan'\n",
       "4. 'America/Denver'\n",
       "5. 'Europe/Lisbon'\n",
       "6. 'Asia/Samarkand'\n",
       "7. 'Australia/Hobart'\n",
       "8. 'Etc/GMT+0'\n",
       "9. 'America/Barbados'\n",
       "10. 'Indian/Kerguelen'\n",
       "\n",
       "\n"
      ],
      "text/plain": [
       " [1] \"UTC\"              \"Asia/Ho_Chi_Minh\" \"US/Michigan\"      \"America/Denver\"  \n",
       " [5] \"Europe/Lisbon\"    \"Asia/Samarkand\"   \"Australia/Hobart\" \"Etc/GMT+0\"       \n",
       " [9] \"America/Barbados\" \"Indian/Kerguelen\""
      ]
     },
     "metadata": {},
     "output_type": "display_data"
    }
   ],
   "source": [
    "length(OlsonNames())\n",
    "sample(OlsonNames(), 10)"
   ]
  },
  {
   "cell_type": "code",
   "execution_count": null,
   "metadata": {},
   "outputs": [],
   "source": []
  },
  {
   "cell_type": "code",
   "execution_count": null,
   "metadata": {},
   "outputs": [],
   "source": []
  },
  {
   "cell_type": "code",
   "execution_count": null,
   "metadata": {},
   "outputs": [],
   "source": []
  }
 ],
 "metadata": {
  "kernelspec": {
   "display_name": "R",
   "language": "R",
   "name": "ir"
  },
  "language_info": {
   "codemirror_mode": "r",
   "file_extension": ".r",
   "mimetype": "text/x-r-source",
   "name": "R",
   "pygments_lexer": "r",
   "version": "4.1.1"
  }
 },
 "nbformat": 4,
 "nbformat_minor": 1
}
