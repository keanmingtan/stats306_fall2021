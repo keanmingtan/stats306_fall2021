{
 "cells": [
  {
   "cell_type": "markdown",
   "metadata": {},
   "source": [
    "# Lecture 9.3: Case Studies\n"
   ]
  },
  {
   "cell_type": "code",
   "execution_count": 4,
   "metadata": {},
   "outputs": [],
   "source": [
    "library(tidyverse)\n",
    "library(lubridate)\n",
    "library(forcats)\n",
    "#install.packages(\"tidytext\")\n",
    "library(tidytext)\n"
   ]
  },
  {
   "cell_type": "markdown",
   "metadata": {},
   "source": [
    "## Trump Twitter data\n",
    "We will now use what we have learned in the past two classes to analyze some real data. "
   ]
  },
  {
   "cell_type": "code",
   "execution_count": 6,
   "metadata": {},
   "outputs": [],
   "source": [
    "load(\"trumptwitter.RData\")"
   ]
  },
  {
   "cell_type": "code",
   "execution_count": 7,
   "metadata": {},
   "outputs": [
    {
     "data": {
      "text/html": [
       "<table class=\"dataframe\">\n",
       "<caption>A tibble: 1 × 8</caption>\n",
       "<thead>\n",
       "\t<tr><th scope=col>source</th><th scope=col>id_str</th><th scope=col>text</th><th scope=col>created_at</th><th scope=col>retweet_count</th><th scope=col>in_reply_to_user_id_str</th><th scope=col>favorite_count</th><th scope=col>is_retweet</th></tr>\n",
       "\t<tr><th scope=col>&lt;chr&gt;</th><th scope=col>&lt;chr&gt;</th><th scope=col>&lt;chr&gt;</th><th scope=col>&lt;chr&gt;</th><th scope=col>&lt;int&gt;</th><th scope=col>&lt;chr&gt;</th><th scope=col>&lt;int&gt;</th><th scope=col>&lt;lgl&gt;</th></tr>\n",
       "</thead>\n",
       "<tbody>\n",
       "\t<tr><td>Twitter Web Client</td><td>20595488004775936</td><td>WIshing everyone a happy, healthy and prosperous New Year!</td><td>Thu Dec 30 21:42:01 +0000 2010</td><td>144</td><td>NA</td><td>42</td><td>FALSE</td></tr>\n",
       "</tbody>\n",
       "</table>\n"
      ],
      "text/latex": [
       "A tibble: 1 × 8\n",
       "\\begin{tabular}{llllllll}\n",
       " source & id\\_str & text & created\\_at & retweet\\_count & in\\_reply\\_to\\_user\\_id\\_str & favorite\\_count & is\\_retweet\\\\\n",
       " <chr> & <chr> & <chr> & <chr> & <int> & <chr> & <int> & <lgl>\\\\\n",
       "\\hline\n",
       "\t Twitter Web Client & 20595488004775936 & WIshing everyone a happy, healthy and prosperous New Year! & Thu Dec 30 21:42:01 +0000 2010 & 144 & NA & 42 & FALSE\\\\\n",
       "\\end{tabular}\n"
      ],
      "text/markdown": [
       "\n",
       "A tibble: 1 × 8\n",
       "\n",
       "| source &lt;chr&gt; | id_str &lt;chr&gt; | text &lt;chr&gt; | created_at &lt;chr&gt; | retweet_count &lt;int&gt; | in_reply_to_user_id_str &lt;chr&gt; | favorite_count &lt;int&gt; | is_retweet &lt;lgl&gt; |\n",
       "|---|---|---|---|---|---|---|---|\n",
       "| Twitter Web Client | 20595488004775936 | WIshing everyone a happy, healthy and prosperous New Year! | Thu Dec 30 21:42:01 +0000 2010 | 144 | NA | 42 | FALSE |\n",
       "\n"
      ],
      "text/plain": [
       "  source             id_str           \n",
       "1 Twitter Web Client 20595488004775936\n",
       "  text                                                      \n",
       "1 WIshing everyone a happy, healthy and prosperous New Year!\n",
       "  created_at                     retweet_count in_reply_to_user_id_str\n",
       "1 Thu Dec 30 21:42:01 +0000 2010 144           NA                     \n",
       "  favorite_count is_retweet\n",
       "1 42             FALSE     "
      ]
     },
     "metadata": {},
     "output_type": "display_data"
    }
   ],
   "source": [
    "trump_tweets %>% slice(1)"
   ]
  },
  {
   "cell_type": "markdown",
   "metadata": {},
   "source": [
    "`trump_tweets` is a dataset of all 41,958 Tweets that Donald Trump has sent since 2010 to 2019."
   ]
  },
  {
   "cell_type": "markdown",
   "metadata": {},
   "source": [
    "### Task #1\n",
    "Each tweet has a timestamp in the `created_at` column. We want to convert this column to a proper date-time object so that we can analyze the time component of these tweets."
   ]
  },
  {
   "cell_type": "code",
   "execution_count": 14,
   "metadata": {},
   "outputs": [
    {
     "name": "stdout",
     "output_type": "stream",
     "text": [
      "\u001b[90m# A tibble: 41,958 × 9\u001b[39m\n",
      "   source  id_str text  created_at retweet_count in_reply_to_use… favorite_count\n",
      "   \u001b[3m\u001b[90m<chr>\u001b[39m\u001b[23m   \u001b[3m\u001b[90m<chr>\u001b[39m\u001b[23m  \u001b[3m\u001b[90m<chr>\u001b[39m\u001b[23m \u001b[3m\u001b[90m<chr>\u001b[39m\u001b[23m              \u001b[3m\u001b[90m<int>\u001b[39m\u001b[23m \u001b[3m\u001b[90m<chr>\u001b[39m\u001b[23m                     \u001b[3m\u001b[90m<int>\u001b[39m\u001b[23m\n",
      "\u001b[90m 1\u001b[39m Twitte… 20595… \u001b[90m\"\u001b[39mWIs… Thu Dec 3…           144 \u001b[31mNA\u001b[39m                           42\n",
      "\u001b[90m 2\u001b[39m Twitte… 17979… \u001b[90m\"\u001b[39mWis… Thu Dec 2…           109 \u001b[31mNA\u001b[39m                           55\n",
      "\u001b[90m 3\u001b[39m Twitte… 15413… \u001b[90m\"\u001b[39mDon… Thu Dec 1…           112 \u001b[31mNA\u001b[39m                           20\n",
      "\u001b[90m 4\u001b[39m Twitte… 14785… \u001b[90m\"\u001b[39mI'l… Tue Dec 1…           250 \u001b[31mNA\u001b[39m                           37\n",
      "\u001b[90m 5\u001b[39m Twitte… 14359… \u001b[90m\"\u001b[39m...… Mon Dec 1…            12 \u001b[31mNA\u001b[39m                            6\n",
      "\u001b[90m 6\u001b[39m Twitte… 14358… \u001b[90m\"\u001b[39mTho… Mon Dec 1…            14 \u001b[31mNA\u001b[39m                            6\n",
      "\u001b[90m 7\u001b[39m Twitte… 14356… \u001b[90m\"\u001b[39mAll… Mon Dec 1…            24 \u001b[31mNA\u001b[39m                            8\n",
      "\u001b[90m 8\u001b[39m Twitte… 13242… \u001b[90m\"\u001b[39mCon… Fri Dec 1…            44 \u001b[31mNA\u001b[39m                           12\n",
      "\u001b[90m 9\u001b[39m Twitte… 12960… \u001b[90m\"\u001b[39mTon… Thu Dec 0…            55 \u001b[31mNA\u001b[39m                            7\n",
      "\u001b[90m10\u001b[39m Twitte… 10355… \u001b[90m\"\u001b[39mTon… Thu Dec 0…            24 \u001b[31mNA\u001b[39m                            3\n",
      "\u001b[90m# … with 41,948 more rows, and 2 more variables: is_retweet <lgl>, dt <dttm>\u001b[39m\n"
     ]
    }
   ],
   "source": [
    "trump_tweets2 <- trump_tweets %>% mutate(\n",
    "    dt=str_replace(created_at,\n",
    "    \"\\\\w+ (\\\\w+ \\\\d+) ([\\\\d:]+) \\\\+0000 (\\\\d{4})\",\n",
    "    \"\\\\1 \\\\3 \\\\2\") %>% mdy_hms) %>% print"
   ]
  },
  {
   "cell_type": "markdown",
   "metadata": {},
   "source": [
    "### Task #2\n",
    "Plot the number of Tweets that Donald Trump has made for each quarter of the year from 2010 to present."
   ]
  },
  {
   "cell_type": "code",
   "execution_count": 15,
   "metadata": {},
   "outputs": [
    {
     "data": {
      "image/png": "[encoded data removed]",
      "text/plain": [
       "plot without title"
      ]
     },
     "metadata": {
      "image/png": {
       "height": 420,
       "width": 420
      }
     },
     "output_type": "display_data"
    }
   ],
   "source": [
    "trump_tweets2 %>% mutate(year = year(dt), \n",
    "                         qtr = quarter(dt, with_year = T)) %>% \n",
    "    ggplot + geom_bar(aes(x=factor(qtr))) + coord_flip()"
   ]
  },
  {
   "cell_type": "markdown",
   "metadata": {},
   "source": [
    "### Task #3\n",
    "Recall that `words` contains common English words. After filtering out these words, and all words that were shorter than six characters, the most common words that Trump used in 2018 were:\n",
    "\n",
    "```\n",
    "# A tibble: 11 x 2\n",
    "   words               n\n",
    "   <chr>           <int>\n",
    " 1 american          161\n",
    " 2 border            269\n",
    " 3 collusion         133\n",
    " 4 democrats         291\n",
    " 5 military          183\n",
    " 6 president         356\n",
    " 7 realdonaldtrump   182\n",
    " 8 russia            133\n",
    " 9 security          151\n",
    "10 states            150\n",
    "11 united            150\n",
    "\n",
    "```\n",
    "\n",
    "What about for 2019?"
   ]
  },
  {
   "cell_type": "markdown",
   "metadata": {},
   "source": [
    "The unnest() function can then be useful to expand a vector of string so each row of the tibble corresponds to one word in one tweet.\n"
   ]
  },
  {
   "cell_type": "code",
   "execution_count": 16,
   "metadata": {},
   "outputs": [
    {
     "data": {
      "text/html": [
       "<table class=\"dataframe\">\n",
       "<caption>A tibble: 155778 × 9</caption>\n",
       "<thead>\n",
       "\t<tr><th scope=col>source</th><th scope=col>id_str</th><th scope=col>created_at</th><th scope=col>retweet_count</th><th scope=col>in_reply_to_user_id_str</th><th scope=col>favorite_count</th><th scope=col>is_retweet</th><th scope=col>dt</th><th scope=col>word</th></tr>\n",
       "\t<tr><th scope=col>&lt;chr&gt;</th><th scope=col>&lt;chr&gt;</th><th scope=col>&lt;chr&gt;</th><th scope=col>&lt;int&gt;</th><th scope=col>&lt;chr&gt;</th><th scope=col>&lt;int&gt;</th><th scope=col>&lt;lgl&gt;</th><th scope=col>&lt;dttm&gt;</th><th scope=col>&lt;chr&gt;</th></tr>\n",
       "</thead>\n",
       "<tbody>\n",
       "\t<tr><td>Twitter for iPhone</td><td>1188929062611361792</td><td>Mon Oct 28 21:22:32 +0000 2019</td><td>27770</td><td>NA</td><td>107510</td><td>FALSE</td><td>2019-10-28 21:22:32</td><td>can       </td></tr>\n",
       "\t<tr><td>Twitter for iPhone</td><td>1188929062611361792</td><td>Mon Oct 28 21:22:32 +0000 2019</td><td>27770</td><td>NA</td><td>107510</td><td>FALSE</td><td>2019-10-28 21:22:32</td><td>you       </td></tr>\n",
       "\t<tr><td>Twitter for iPhone</td><td>1188929062611361792</td><td>Mon Oct 28 21:22:32 +0000 2019</td><td>27770</td><td>NA</td><td>107510</td><td>FALSE</td><td>2019-10-28 21:22:32</td><td>believe   </td></tr>\n",
       "\t<tr><td>Twitter for iPhone</td><td>1188929062611361792</td><td>Mon Oct 28 21:22:32 +0000 2019</td><td>27770</td><td>NA</td><td>107510</td><td>FALSE</td><td>2019-10-28 21:22:32</td><td>that      </td></tr>\n",
       "\t<tr><td>Twitter for iPhone</td><td>1188929062611361792</td><td>Mon Oct 28 21:22:32 +0000 2019</td><td>27770</td><td>NA</td><td>107510</td><td>FALSE</td><td>2019-10-28 21:22:32</td><td>shifty    </td></tr>\n",
       "\t<tr><td>Twitter for iPhone</td><td>1188929062611361792</td><td>Mon Oct 28 21:22:32 +0000 2019</td><td>27770</td><td>NA</td><td>107510</td><td>FALSE</td><td>2019-10-28 21:22:32</td><td>adam      </td></tr>\n",
       "\t<tr><td>Twitter for iPhone</td><td>1188929062611361792</td><td>Mon Oct 28 21:22:32 +0000 2019</td><td>27770</td><td>NA</td><td>107510</td><td>FALSE</td><td>2019-10-28 21:22:32</td><td>schiff    </td></tr>\n",
       "\t<tr><td>Twitter for iPhone</td><td>1188929062611361792</td><td>Mon Oct 28 21:22:32 +0000 2019</td><td>27770</td><td>NA</td><td>107510</td><td>FALSE</td><td>2019-10-28 21:22:32</td><td>the       </td></tr>\n",
       "\t<tr><td>Twitter for iPhone</td><td>1188929062611361792</td><td>Mon Oct 28 21:22:32 +0000 2019</td><td>27770</td><td>NA</td><td>107510</td><td>FALSE</td><td>2019-10-28 21:22:32</td><td>biggest   </td></tr>\n",
       "\t<tr><td>Twitter for iPhone</td><td>1188929062611361792</td><td>Mon Oct 28 21:22:32 +0000 2019</td><td>27770</td><td>NA</td><td>107510</td><td>FALSE</td><td>2019-10-28 21:22:32</td><td>leaker    </td></tr>\n",
       "\t<tr><td>Twitter for iPhone</td><td>1188929062611361792</td><td>Mon Oct 28 21:22:32 +0000 2019</td><td>27770</td><td>NA</td><td>107510</td><td>FALSE</td><td>2019-10-28 21:22:32</td><td>in        </td></tr>\n",
       "\t<tr><td>Twitter for iPhone</td><td>1188929062611361792</td><td>Mon Oct 28 21:22:32 +0000 2019</td><td>27770</td><td>NA</td><td>107510</td><td>FALSE</td><td>2019-10-28 21:22:32</td><td>d.c       </td></tr>\n",
       "\t<tr><td>Twitter for iPhone</td><td>1188929062611361792</td><td>Mon Oct 28 21:22:32 +0000 2019</td><td>27770</td><td>NA</td><td>107510</td><td>FALSE</td><td>2019-10-28 21:22:32</td><td>and       </td></tr>\n",
       "\t<tr><td>Twitter for iPhone</td><td>1188929062611361792</td><td>Mon Oct 28 21:22:32 +0000 2019</td><td>27770</td><td>NA</td><td>107510</td><td>FALSE</td><td>2019-10-28 21:22:32</td><td>a         </td></tr>\n",
       "\t<tr><td>Twitter for iPhone</td><td>1188929062611361792</td><td>Mon Oct 28 21:22:32 +0000 2019</td><td>27770</td><td>NA</td><td>107510</td><td>FALSE</td><td>2019-10-28 21:22:32</td><td>corrupt   </td></tr>\n",
       "\t<tr><td>Twitter for iPhone</td><td>1188929062611361792</td><td>Mon Oct 28 21:22:32 +0000 2019</td><td>27770</td><td>NA</td><td>107510</td><td>FALSE</td><td>2019-10-28 21:22:32</td><td>politician</td></tr>\n",
       "\t<tr><td>Twitter for iPhone</td><td>1188929062611361792</td><td>Mon Oct 28 21:22:32 +0000 2019</td><td>27770</td><td>NA</td><td>107510</td><td>FALSE</td><td>2019-10-28 21:22:32</td><td>is        </td></tr>\n",
       "\t<tr><td>Twitter for iPhone</td><td>1188929062611361792</td><td>Mon Oct 28 21:22:32 +0000 2019</td><td>27770</td><td>NA</td><td>107510</td><td>FALSE</td><td>2019-10-28 21:22:32</td><td>upset     </td></tr>\n",
       "\t<tr><td>Twitter for iPhone</td><td>1188929062611361792</td><td>Mon Oct 28 21:22:32 +0000 2019</td><td>27770</td><td>NA</td><td>107510</td><td>FALSE</td><td>2019-10-28 21:22:32</td><td>that      </td></tr>\n",
       "\t<tr><td>Twitter for iPhone</td><td>1188929062611361792</td><td>Mon Oct 28 21:22:32 +0000 2019</td><td>27770</td><td>NA</td><td>107510</td><td>FALSE</td><td>2019-10-28 21:22:32</td><td>we        </td></tr>\n",
       "\t<tr><td>Twitter for iPhone</td><td>1188929062611361792</td><td>Mon Oct 28 21:22:32 +0000 2019</td><td>27770</td><td>NA</td><td>107510</td><td>FALSE</td><td>2019-10-28 21:22:32</td><td>didn’t    </td></tr>\n",
       "\t<tr><td>Twitter for iPhone</td><td>1188929062611361792</td><td>Mon Oct 28 21:22:32 +0000 2019</td><td>27770</td><td>NA</td><td>107510</td><td>FALSE</td><td>2019-10-28 21:22:32</td><td>inform    </td></tr>\n",
       "\t<tr><td>Twitter for iPhone</td><td>1188929062611361792</td><td>Mon Oct 28 21:22:32 +0000 2019</td><td>27770</td><td>NA</td><td>107510</td><td>FALSE</td><td>2019-10-28 21:22:32</td><td>him       </td></tr>\n",
       "\t<tr><td>Twitter for iPhone</td><td>1188929062611361792</td><td>Mon Oct 28 21:22:32 +0000 2019</td><td>27770</td><td>NA</td><td>107510</td><td>FALSE</td><td>2019-10-28 21:22:32</td><td>before    </td></tr>\n",
       "\t<tr><td>Twitter for iPhone</td><td>1188929062611361792</td><td>Mon Oct 28 21:22:32 +0000 2019</td><td>27770</td><td>NA</td><td>107510</td><td>FALSE</td><td>2019-10-28 21:22:32</td><td>we        </td></tr>\n",
       "\t<tr><td>Twitter for iPhone</td><td>1188929062611361792</td><td>Mon Oct 28 21:22:32 +0000 2019</td><td>27770</td><td>NA</td><td>107510</td><td>FALSE</td><td>2019-10-28 21:22:32</td><td>raided    </td></tr>\n",
       "\t<tr><td>Twitter for iPhone</td><td>1188929062611361792</td><td>Mon Oct 28 21:22:32 +0000 2019</td><td>27770</td><td>NA</td><td>107510</td><td>FALSE</td><td>2019-10-28 21:22:32</td><td>and       </td></tr>\n",
       "\t<tr><td>Twitter for iPhone</td><td>1188929062611361792</td><td>Mon Oct 28 21:22:32 +0000 2019</td><td>27770</td><td>NA</td><td>107510</td><td>FALSE</td><td>2019-10-28 21:22:32</td><td>killed    </td></tr>\n",
       "\t<tr><td>Twitter for iPhone</td><td>1188929062611361792</td><td>Mon Oct 28 21:22:32 +0000 2019</td><td>27770</td><td>NA</td><td>107510</td><td>FALSE</td><td>2019-10-28 21:22:32</td><td>the       </td></tr>\n",
       "\t<tr><td>Twitter for iPhone</td><td>1188929062611361792</td><td>Mon Oct 28 21:22:32 +0000 2019</td><td>27770</td><td>NA</td><td>107510</td><td>FALSE</td><td>2019-10-28 21:22:32</td><td>1         </td></tr>\n",
       "\t<tr><td>⋮</td><td>⋮</td><td>⋮</td><td>⋮</td><td>⋮</td><td>⋮</td><td>⋮</td><td>⋮</td><td>⋮</td></tr>\n",
       "\t<tr><td>Twitter for iPhone</td><td>1080088373451206656</td><td>Tue Jan 01 13:08:29 +0000 2019</td><td>59039</td><td>NA</td><td>256114</td><td>FALSE</td><td>2019-01-01 13:08:29</td><td>great    </td></tr>\n",
       "\t<tr><td>Twitter for iPhone</td><td>1080088373451206656</td><td>Tue Jan 01 13:08:29 +0000 2019</td><td>59039</td><td>NA</td><td>256114</td><td>FALSE</td><td>2019-01-01 13:08:29</td><td>things   </td></tr>\n",
       "\t<tr><td>Twitter for iPhone</td><td>1080088373451206656</td><td>Tue Jan 01 13:08:29 +0000 2019</td><td>59039</td><td>NA</td><td>256114</td><td>FALSE</td><td>2019-01-01 13:08:29</td><td>are      </td></tr>\n",
       "\t<tr><td>Twitter for iPhone</td><td>1080088373451206656</td><td>Tue Jan 01 13:08:29 +0000 2019</td><td>59039</td><td>NA</td><td>256114</td><td>FALSE</td><td>2019-01-01 13:08:29</td><td>happening</td></tr>\n",
       "\t<tr><td>Twitter for iPhone</td><td>1080088373451206656</td><td>Tue Jan 01 13:08:29 +0000 2019</td><td>59039</td><td>NA</td><td>256114</td><td>FALSE</td><td>2019-01-01 13:08:29</td><td>for      </td></tr>\n",
       "\t<tr><td>Twitter for iPhone</td><td>1080088373451206656</td><td>Tue Jan 01 13:08:29 +0000 2019</td><td>59039</td><td>NA</td><td>256114</td><td>FALSE</td><td>2019-01-01 13:08:29</td><td>our      </td></tr>\n",
       "\t<tr><td>Twitter for iPhone</td><td>1080088373451206656</td><td>Tue Jan 01 13:08:29 +0000 2019</td><td>59039</td><td>NA</td><td>256114</td><td>FALSE</td><td>2019-01-01 13:08:29</td><td>country  </td></tr>\n",
       "\t<tr><td>Twitter for iPhone</td><td>1080084113762197504</td><td>Tue Jan 01 12:51:34 +0000 2019</td><td>14059</td><td>NA</td><td> 76622</td><td>FALSE</td><td>2019-01-01 12:51:34</td><td>dr       </td></tr>\n",
       "\t<tr><td>Twitter for iPhone</td><td>1080084113762197504</td><td>Tue Jan 01 12:51:34 +0000 2019</td><td>14059</td><td>NA</td><td> 76622</td><td>FALSE</td><td>2019-01-01 12:51:34</td><td>sebastian</td></tr>\n",
       "\t<tr><td>Twitter for iPhone</td><td>1080084113762197504</td><td>Tue Jan 01 12:51:34 +0000 2019</td><td>14059</td><td>NA</td><td> 76622</td><td>FALSE</td><td>2019-01-01 12:51:34</td><td>gorka    </td></tr>\n",
       "\t<tr><td>Twitter for iPhone</td><td>1080084113762197504</td><td>Tue Jan 01 12:51:34 +0000 2019</td><td>14059</td><td>NA</td><td> 76622</td><td>FALSE</td><td>2019-01-01 12:51:34</td><td>a        </td></tr>\n",
       "\t<tr><td>Twitter for iPhone</td><td>1080084113762197504</td><td>Tue Jan 01 12:51:34 +0000 2019</td><td>14059</td><td>NA</td><td> 76622</td><td>FALSE</td><td>2019-01-01 12:51:34</td><td>very     </td></tr>\n",
       "\t<tr><td>Twitter for iPhone</td><td>1080084113762197504</td><td>Tue Jan 01 12:51:34 +0000 2019</td><td>14059</td><td>NA</td><td> 76622</td><td>FALSE</td><td>2019-01-01 12:51:34</td><td>good     </td></tr>\n",
       "\t<tr><td>Twitter for iPhone</td><td>1080084113762197504</td><td>Tue Jan 01 12:51:34 +0000 2019</td><td>14059</td><td>NA</td><td> 76622</td><td>FALSE</td><td>2019-01-01 12:51:34</td><td>and      </td></tr>\n",
       "\t<tr><td>Twitter for iPhone</td><td>1080084113762197504</td><td>Tue Jan 01 12:51:34 +0000 2019</td><td>14059</td><td>NA</td><td> 76622</td><td>FALSE</td><td>2019-01-01 12:51:34</td><td>talented </td></tr>\n",
       "\t<tr><td>Twitter for iPhone</td><td>1080084113762197504</td><td>Tue Jan 01 12:51:34 +0000 2019</td><td>14059</td><td>NA</td><td> 76622</td><td>FALSE</td><td>2019-01-01 12:51:34</td><td>guy      </td></tr>\n",
       "\t<tr><td>Twitter for iPhone</td><td>1080084113762197504</td><td>Tue Jan 01 12:51:34 +0000 2019</td><td>14059</td><td>NA</td><td> 76622</td><td>FALSE</td><td>2019-01-01 12:51:34</td><td>has      </td></tr>\n",
       "\t<tr><td>Twitter for iPhone</td><td>1080084113762197504</td><td>Tue Jan 01 12:51:34 +0000 2019</td><td>14059</td><td>NA</td><td> 76622</td><td>FALSE</td><td>2019-01-01 12:51:34</td><td>a        </td></tr>\n",
       "\t<tr><td>Twitter for iPhone</td><td>1080084113762197504</td><td>Tue Jan 01 12:51:34 +0000 2019</td><td>14059</td><td>NA</td><td> 76622</td><td>FALSE</td><td>2019-01-01 12:51:34</td><td>great    </td></tr>\n",
       "\t<tr><td>Twitter for iPhone</td><td>1080084113762197504</td><td>Tue Jan 01 12:51:34 +0000 2019</td><td>14059</td><td>NA</td><td> 76622</td><td>FALSE</td><td>2019-01-01 12:51:34</td><td>new      </td></tr>\n",
       "\t<tr><td>Twitter for iPhone</td><td>1080084113762197504</td><td>Tue Jan 01 12:51:34 +0000 2019</td><td>14059</td><td>NA</td><td> 76622</td><td>FALSE</td><td>2019-01-01 12:51:34</td><td>book     </td></tr>\n",
       "\t<tr><td>Twitter for iPhone</td><td>1080084113762197504</td><td>Tue Jan 01 12:51:34 +0000 2019</td><td>14059</td><td>NA</td><td> 76622</td><td>FALSE</td><td>2019-01-01 12:51:34</td><td>just     </td></tr>\n",
       "\t<tr><td>Twitter for iPhone</td><td>1080084113762197504</td><td>Tue Jan 01 12:51:34 +0000 2019</td><td>14059</td><td>NA</td><td> 76622</td><td>FALSE</td><td>2019-01-01 12:51:34</td><td>out      </td></tr>\n",
       "\t<tr><td>Twitter for iPhone</td><td>1080084113762197504</td><td>Tue Jan 01 12:51:34 +0000 2019</td><td>14059</td><td>NA</td><td> 76622</td><td>FALSE</td><td>2019-01-01 12:51:34</td><td>why      </td></tr>\n",
       "\t<tr><td>Twitter for iPhone</td><td>1080084113762197504</td><td>Tue Jan 01 12:51:34 +0000 2019</td><td>14059</td><td>NA</td><td> 76622</td><td>FALSE</td><td>2019-01-01 12:51:34</td><td>we       </td></tr>\n",
       "\t<tr><td>Twitter for iPhone</td><td>1080084113762197504</td><td>Tue Jan 01 12:51:34 +0000 2019</td><td>14059</td><td>NA</td><td> 76622</td><td>FALSE</td><td>2019-01-01 12:51:34</td><td>fight    </td></tr>\n",
       "\t<tr><td>Twitter for iPhone</td><td>1080084113762197504</td><td>Tue Jan 01 12:51:34 +0000 2019</td><td>14059</td><td>NA</td><td> 76622</td><td>FALSE</td><td>2019-01-01 12:51:34</td><td>lots     </td></tr>\n",
       "\t<tr><td>Twitter for iPhone</td><td>1080084113762197504</td><td>Tue Jan 01 12:51:34 +0000 2019</td><td>14059</td><td>NA</td><td> 76622</td><td>FALSE</td><td>2019-01-01 12:51:34</td><td>of       </td></tr>\n",
       "\t<tr><td>Twitter for iPhone</td><td>1080084113762197504</td><td>Tue Jan 01 12:51:34 +0000 2019</td><td>14059</td><td>NA</td><td> 76622</td><td>FALSE</td><td>2019-01-01 12:51:34</td><td>insight  </td></tr>\n",
       "\t<tr><td>Twitter for iPhone</td><td>1080084113762197504</td><td>Tue Jan 01 12:51:34 +0000 2019</td><td>14059</td><td>NA</td><td> 76622</td><td>FALSE</td><td>2019-01-01 12:51:34</td><td>enjoy    </td></tr>\n",
       "</tbody>\n",
       "</table>\n"
      ],
      "text/latex": [
       "A tibble: 155778 × 9\n",
       "\\begin{tabular}{lllllllll}\n",
       " source & id\\_str & created\\_at & retweet\\_count & in\\_reply\\_to\\_user\\_id\\_str & favorite\\_count & is\\_retweet & dt & word\\\\\n",
       " <chr> & <chr> & <chr> & <int> & <chr> & <int> & <lgl> & <dttm> & <chr>\\\\\n",
       "\\hline\n",
       "\t Twitter for iPhone & 1188929062611361792 & Mon Oct 28 21:22:32 +0000 2019 & 27770 & NA & 107510 & FALSE & 2019-10-28 21:22:32 & can       \\\\\n",
       "\t Twitter for iPhone & 1188929062611361792 & Mon Oct 28 21:22:32 +0000 2019 & 27770 & NA & 107510 & FALSE & 2019-10-28 21:22:32 & you       \\\\\n",
       "\t Twitter for iPhone & 1188929062611361792 & Mon Oct 28 21:22:32 +0000 2019 & 27770 & NA & 107510 & FALSE & 2019-10-28 21:22:32 & believe   \\\\\n",
       "\t Twitter for iPhone & 1188929062611361792 & Mon Oct 28 21:22:32 +0000 2019 & 27770 & NA & 107510 & FALSE & 2019-10-28 21:22:32 & that      \\\\\n",
       "\t Twitter for iPhone & 1188929062611361792 & Mon Oct 28 21:22:32 +0000 2019 & 27770 & NA & 107510 & FALSE & 2019-10-28 21:22:32 & shifty    \\\\\n",
       "\t Twitter for iPhone & 1188929062611361792 & Mon Oct 28 21:22:32 +0000 2019 & 27770 & NA & 107510 & FALSE & 2019-10-28 21:22:32 & adam      \\\\\n",
       "\t Twitter for iPhone & 1188929062611361792 & Mon Oct 28 21:22:32 +0000 2019 & 27770 & NA & 107510 & FALSE & 2019-10-28 21:22:32 & schiff    \\\\\n",
       "\t Twitter for iPhone & 1188929062611361792 & Mon Oct 28 21:22:32 +0000 2019 & 27770 & NA & 107510 & FALSE & 2019-10-28 21:22:32 & the       \\\\\n",
       "\t Twitter for iPhone & 1188929062611361792 & Mon Oct 28 21:22:32 +0000 2019 & 27770 & NA & 107510 & FALSE & 2019-10-28 21:22:32 & biggest   \\\\\n",
       "\t Twitter for iPhone & 1188929062611361792 & Mon Oct 28 21:22:32 +0000 2019 & 27770 & NA & 107510 & FALSE & 2019-10-28 21:22:32 & leaker    \\\\\n",
       "\t Twitter for iPhone & 1188929062611361792 & Mon Oct 28 21:22:32 +0000 2019 & 27770 & NA & 107510 & FALSE & 2019-10-28 21:22:32 & in        \\\\\n",
       "\t Twitter for iPhone & 1188929062611361792 & Mon Oct 28 21:22:32 +0000 2019 & 27770 & NA & 107510 & FALSE & 2019-10-28 21:22:32 & d.c       \\\\\n",
       "\t Twitter for iPhone & 1188929062611361792 & Mon Oct 28 21:22:32 +0000 2019 & 27770 & NA & 107510 & FALSE & 2019-10-28 21:22:32 & and       \\\\\n",
       "\t Twitter for iPhone & 1188929062611361792 & Mon Oct 28 21:22:32 +0000 2019 & 27770 & NA & 107510 & FALSE & 2019-10-28 21:22:32 & a         \\\\\n",
       "\t Twitter for iPhone & 1188929062611361792 & Mon Oct 28 21:22:32 +0000 2019 & 27770 & NA & 107510 & FALSE & 2019-10-28 21:22:32 & corrupt   \\\\\n",
       "\t Twitter for iPhone & 1188929062611361792 & Mon Oct 28 21:22:32 +0000 2019 & 27770 & NA & 107510 & FALSE & 2019-10-28 21:22:32 & politician\\\\\n",
       "\t Twitter for iPhone & 1188929062611361792 & Mon Oct 28 21:22:32 +0000 2019 & 27770 & NA & 107510 & FALSE & 2019-10-28 21:22:32 & is        \\\\\n",
       "\t Twitter for iPhone & 1188929062611361792 & Mon Oct 28 21:22:32 +0000 2019 & 27770 & NA & 107510 & FALSE & 2019-10-28 21:22:32 & upset     \\\\\n",
       "\t Twitter for iPhone & 1188929062611361792 & Mon Oct 28 21:22:32 +0000 2019 & 27770 & NA & 107510 & FALSE & 2019-10-28 21:22:32 & that      \\\\\n",
       "\t Twitter for iPhone & 1188929062611361792 & Mon Oct 28 21:22:32 +0000 2019 & 27770 & NA & 107510 & FALSE & 2019-10-28 21:22:32 & we        \\\\\n",
       "\t Twitter for iPhone & 1188929062611361792 & Mon Oct 28 21:22:32 +0000 2019 & 27770 & NA & 107510 & FALSE & 2019-10-28 21:22:32 & didn’t    \\\\\n",
       "\t Twitter for iPhone & 1188929062611361792 & Mon Oct 28 21:22:32 +0000 2019 & 27770 & NA & 107510 & FALSE & 2019-10-28 21:22:32 & inform    \\\\\n",
       "\t Twitter for iPhone & 1188929062611361792 & Mon Oct 28 21:22:32 +0000 2019 & 27770 & NA & 107510 & FALSE & 2019-10-28 21:22:32 & him       \\\\\n",
       "\t Twitter for iPhone & 1188929062611361792 & Mon Oct 28 21:22:32 +0000 2019 & 27770 & NA & 107510 & FALSE & 2019-10-28 21:22:32 & before    \\\\\n",
       "\t Twitter for iPhone & 1188929062611361792 & Mon Oct 28 21:22:32 +0000 2019 & 27770 & NA & 107510 & FALSE & 2019-10-28 21:22:32 & we        \\\\\n",
       "\t Twitter for iPhone & 1188929062611361792 & Mon Oct 28 21:22:32 +0000 2019 & 27770 & NA & 107510 & FALSE & 2019-10-28 21:22:32 & raided    \\\\\n",
       "\t Twitter for iPhone & 1188929062611361792 & Mon Oct 28 21:22:32 +0000 2019 & 27770 & NA & 107510 & FALSE & 2019-10-28 21:22:32 & and       \\\\\n",
       "\t Twitter for iPhone & 1188929062611361792 & Mon Oct 28 21:22:32 +0000 2019 & 27770 & NA & 107510 & FALSE & 2019-10-28 21:22:32 & killed    \\\\\n",
       "\t Twitter for iPhone & 1188929062611361792 & Mon Oct 28 21:22:32 +0000 2019 & 27770 & NA & 107510 & FALSE & 2019-10-28 21:22:32 & the       \\\\\n",
       "\t Twitter for iPhone & 1188929062611361792 & Mon Oct 28 21:22:32 +0000 2019 & 27770 & NA & 107510 & FALSE & 2019-10-28 21:22:32 & 1         \\\\\n",
       "\t ⋮ & ⋮ & ⋮ & ⋮ & ⋮ & ⋮ & ⋮ & ⋮ & ⋮\\\\\n",
       "\t Twitter for iPhone & 1080088373451206656 & Tue Jan 01 13:08:29 +0000 2019 & 59039 & NA & 256114 & FALSE & 2019-01-01 13:08:29 & great    \\\\\n",
       "\t Twitter for iPhone & 1080088373451206656 & Tue Jan 01 13:08:29 +0000 2019 & 59039 & NA & 256114 & FALSE & 2019-01-01 13:08:29 & things   \\\\\n",
       "\t Twitter for iPhone & 1080088373451206656 & Tue Jan 01 13:08:29 +0000 2019 & 59039 & NA & 256114 & FALSE & 2019-01-01 13:08:29 & are      \\\\\n",
       "\t Twitter for iPhone & 1080088373451206656 & Tue Jan 01 13:08:29 +0000 2019 & 59039 & NA & 256114 & FALSE & 2019-01-01 13:08:29 & happening\\\\\n",
       "\t Twitter for iPhone & 1080088373451206656 & Tue Jan 01 13:08:29 +0000 2019 & 59039 & NA & 256114 & FALSE & 2019-01-01 13:08:29 & for      \\\\\n",
       "\t Twitter for iPhone & 1080088373451206656 & Tue Jan 01 13:08:29 +0000 2019 & 59039 & NA & 256114 & FALSE & 2019-01-01 13:08:29 & our      \\\\\n",
       "\t Twitter for iPhone & 1080088373451206656 & Tue Jan 01 13:08:29 +0000 2019 & 59039 & NA & 256114 & FALSE & 2019-01-01 13:08:29 & country  \\\\\n",
       "\t Twitter for iPhone & 1080084113762197504 & Tue Jan 01 12:51:34 +0000 2019 & 14059 & NA &  76622 & FALSE & 2019-01-01 12:51:34 & dr       \\\\\n",
       "\t Twitter for iPhone & 1080084113762197504 & Tue Jan 01 12:51:34 +0000 2019 & 14059 & NA &  76622 & FALSE & 2019-01-01 12:51:34 & sebastian\\\\\n",
       "\t Twitter for iPhone & 1080084113762197504 & Tue Jan 01 12:51:34 +0000 2019 & 14059 & NA &  76622 & FALSE & 2019-01-01 12:51:34 & gorka    \\\\\n",
       "\t Twitter for iPhone & 1080084113762197504 & Tue Jan 01 12:51:34 +0000 2019 & 14059 & NA &  76622 & FALSE & 2019-01-01 12:51:34 & a        \\\\\n",
       "\t Twitter for iPhone & 1080084113762197504 & Tue Jan 01 12:51:34 +0000 2019 & 14059 & NA &  76622 & FALSE & 2019-01-01 12:51:34 & very     \\\\\n",
       "\t Twitter for iPhone & 1080084113762197504 & Tue Jan 01 12:51:34 +0000 2019 & 14059 & NA &  76622 & FALSE & 2019-01-01 12:51:34 & good     \\\\\n",
       "\t Twitter for iPhone & 1080084113762197504 & Tue Jan 01 12:51:34 +0000 2019 & 14059 & NA &  76622 & FALSE & 2019-01-01 12:51:34 & and      \\\\\n",
       "\t Twitter for iPhone & 1080084113762197504 & Tue Jan 01 12:51:34 +0000 2019 & 14059 & NA &  76622 & FALSE & 2019-01-01 12:51:34 & talented \\\\\n",
       "\t Twitter for iPhone & 1080084113762197504 & Tue Jan 01 12:51:34 +0000 2019 & 14059 & NA &  76622 & FALSE & 2019-01-01 12:51:34 & guy      \\\\\n",
       "\t Twitter for iPhone & 1080084113762197504 & Tue Jan 01 12:51:34 +0000 2019 & 14059 & NA &  76622 & FALSE & 2019-01-01 12:51:34 & has      \\\\\n",
       "\t Twitter for iPhone & 1080084113762197504 & Tue Jan 01 12:51:34 +0000 2019 & 14059 & NA &  76622 & FALSE & 2019-01-01 12:51:34 & a        \\\\\n",
       "\t Twitter for iPhone & 1080084113762197504 & Tue Jan 01 12:51:34 +0000 2019 & 14059 & NA &  76622 & FALSE & 2019-01-01 12:51:34 & great    \\\\\n",
       "\t Twitter for iPhone & 1080084113762197504 & Tue Jan 01 12:51:34 +0000 2019 & 14059 & NA &  76622 & FALSE & 2019-01-01 12:51:34 & new      \\\\\n",
       "\t Twitter for iPhone & 1080084113762197504 & Tue Jan 01 12:51:34 +0000 2019 & 14059 & NA &  76622 & FALSE & 2019-01-01 12:51:34 & book     \\\\\n",
       "\t Twitter for iPhone & 1080084113762197504 & Tue Jan 01 12:51:34 +0000 2019 & 14059 & NA &  76622 & FALSE & 2019-01-01 12:51:34 & just     \\\\\n",
       "\t Twitter for iPhone & 1080084113762197504 & Tue Jan 01 12:51:34 +0000 2019 & 14059 & NA &  76622 & FALSE & 2019-01-01 12:51:34 & out      \\\\\n",
       "\t Twitter for iPhone & 1080084113762197504 & Tue Jan 01 12:51:34 +0000 2019 & 14059 & NA &  76622 & FALSE & 2019-01-01 12:51:34 & why      \\\\\n",
       "\t Twitter for iPhone & 1080084113762197504 & Tue Jan 01 12:51:34 +0000 2019 & 14059 & NA &  76622 & FALSE & 2019-01-01 12:51:34 & we       \\\\\n",
       "\t Twitter for iPhone & 1080084113762197504 & Tue Jan 01 12:51:34 +0000 2019 & 14059 & NA &  76622 & FALSE & 2019-01-01 12:51:34 & fight    \\\\\n",
       "\t Twitter for iPhone & 1080084113762197504 & Tue Jan 01 12:51:34 +0000 2019 & 14059 & NA &  76622 & FALSE & 2019-01-01 12:51:34 & lots     \\\\\n",
       "\t Twitter for iPhone & 1080084113762197504 & Tue Jan 01 12:51:34 +0000 2019 & 14059 & NA &  76622 & FALSE & 2019-01-01 12:51:34 & of       \\\\\n",
       "\t Twitter for iPhone & 1080084113762197504 & Tue Jan 01 12:51:34 +0000 2019 & 14059 & NA &  76622 & FALSE & 2019-01-01 12:51:34 & insight  \\\\\n",
       "\t Twitter for iPhone & 1080084113762197504 & Tue Jan 01 12:51:34 +0000 2019 & 14059 & NA &  76622 & FALSE & 2019-01-01 12:51:34 & enjoy    \\\\\n",
       "\\end{tabular}\n"
      ],
      "text/markdown": [
       "\n",
       "A tibble: 155778 × 9\n",
       "\n",
       "| source &lt;chr&gt; | id_str &lt;chr&gt; | created_at &lt;chr&gt; | retweet_count &lt;int&gt; | in_reply_to_user_id_str &lt;chr&gt; | favorite_count &lt;int&gt; | is_retweet &lt;lgl&gt; | dt &lt;dttm&gt; | word &lt;chr&gt; |\n",
       "|---|---|---|---|---|---|---|---|---|\n",
       "| Twitter for iPhone | 1188929062611361792 | Mon Oct 28 21:22:32 +0000 2019 | 27770 | NA | 107510 | FALSE | 2019-10-28 21:22:32 | can        |\n",
       "| Twitter for iPhone | 1188929062611361792 | Mon Oct 28 21:22:32 +0000 2019 | 27770 | NA | 107510 | FALSE | 2019-10-28 21:22:32 | you        |\n",
       "| Twitter for iPhone | 1188929062611361792 | Mon Oct 28 21:22:32 +0000 2019 | 27770 | NA | 107510 | FALSE | 2019-10-28 21:22:32 | believe    |\n",
       "| Twitter for iPhone | 1188929062611361792 | Mon Oct 28 21:22:32 +0000 2019 | 27770 | NA | 107510 | FALSE | 2019-10-28 21:22:32 | that       |\n",
       "| Twitter for iPhone | 1188929062611361792 | Mon Oct 28 21:22:32 +0000 2019 | 27770 | NA | 107510 | FALSE | 2019-10-28 21:22:32 | shifty     |\n",
       "| Twitter for iPhone | 1188929062611361792 | Mon Oct 28 21:22:32 +0000 2019 | 27770 | NA | 107510 | FALSE | 2019-10-28 21:22:32 | adam       |\n",
       "| Twitter for iPhone | 1188929062611361792 | Mon Oct 28 21:22:32 +0000 2019 | 27770 | NA | 107510 | FALSE | 2019-10-28 21:22:32 | schiff     |\n",
       "| Twitter for iPhone | 1188929062611361792 | Mon Oct 28 21:22:32 +0000 2019 | 27770 | NA | 107510 | FALSE | 2019-10-28 21:22:32 | the        |\n",
       "| Twitter for iPhone | 1188929062611361792 | Mon Oct 28 21:22:32 +0000 2019 | 27770 | NA | 107510 | FALSE | 2019-10-28 21:22:32 | biggest    |\n",
       "| Twitter for iPhone | 1188929062611361792 | Mon Oct 28 21:22:32 +0000 2019 | 27770 | NA | 107510 | FALSE | 2019-10-28 21:22:32 | leaker     |\n",
       "| Twitter for iPhone | 1188929062611361792 | Mon Oct 28 21:22:32 +0000 2019 | 27770 | NA | 107510 | FALSE | 2019-10-28 21:22:32 | in         |\n",
       "| Twitter for iPhone | 1188929062611361792 | Mon Oct 28 21:22:32 +0000 2019 | 27770 | NA | 107510 | FALSE | 2019-10-28 21:22:32 | d.c        |\n",
       "| Twitter for iPhone | 1188929062611361792 | Mon Oct 28 21:22:32 +0000 2019 | 27770 | NA | 107510 | FALSE | 2019-10-28 21:22:32 | and        |\n",
       "| Twitter for iPhone | 1188929062611361792 | Mon Oct 28 21:22:32 +0000 2019 | 27770 | NA | 107510 | FALSE | 2019-10-28 21:22:32 | a          |\n",
       "| Twitter for iPhone | 1188929062611361792 | Mon Oct 28 21:22:32 +0000 2019 | 27770 | NA | 107510 | FALSE | 2019-10-28 21:22:32 | corrupt    |\n",
       "| Twitter for iPhone | 1188929062611361792 | Mon Oct 28 21:22:32 +0000 2019 | 27770 | NA | 107510 | FALSE | 2019-10-28 21:22:32 | politician |\n",
       "| Twitter for iPhone | 1188929062611361792 | Mon Oct 28 21:22:32 +0000 2019 | 27770 | NA | 107510 | FALSE | 2019-10-28 21:22:32 | is         |\n",
       "| Twitter for iPhone | 1188929062611361792 | Mon Oct 28 21:22:32 +0000 2019 | 27770 | NA | 107510 | FALSE | 2019-10-28 21:22:32 | upset      |\n",
       "| Twitter for iPhone | 1188929062611361792 | Mon Oct 28 21:22:32 +0000 2019 | 27770 | NA | 107510 | FALSE | 2019-10-28 21:22:32 | that       |\n",
       "| Twitter for iPhone | 1188929062611361792 | Mon Oct 28 21:22:32 +0000 2019 | 27770 | NA | 107510 | FALSE | 2019-10-28 21:22:32 | we         |\n",
       "| Twitter for iPhone | 1188929062611361792 | Mon Oct 28 21:22:32 +0000 2019 | 27770 | NA | 107510 | FALSE | 2019-10-28 21:22:32 | didn’t     |\n",
       "| Twitter for iPhone | 1188929062611361792 | Mon Oct 28 21:22:32 +0000 2019 | 27770 | NA | 107510 | FALSE | 2019-10-28 21:22:32 | inform     |\n",
       "| Twitter for iPhone | 1188929062611361792 | Mon Oct 28 21:22:32 +0000 2019 | 27770 | NA | 107510 | FALSE | 2019-10-28 21:22:32 | him        |\n",
       "| Twitter for iPhone | 1188929062611361792 | Mon Oct 28 21:22:32 +0000 2019 | 27770 | NA | 107510 | FALSE | 2019-10-28 21:22:32 | before     |\n",
       "| Twitter for iPhone | 1188929062611361792 | Mon Oct 28 21:22:32 +0000 2019 | 27770 | NA | 107510 | FALSE | 2019-10-28 21:22:32 | we         |\n",
       "| Twitter for iPhone | 1188929062611361792 | Mon Oct 28 21:22:32 +0000 2019 | 27770 | NA | 107510 | FALSE | 2019-10-28 21:22:32 | raided     |\n",
       "| Twitter for iPhone | 1188929062611361792 | Mon Oct 28 21:22:32 +0000 2019 | 27770 | NA | 107510 | FALSE | 2019-10-28 21:22:32 | and        |\n",
       "| Twitter for iPhone | 1188929062611361792 | Mon Oct 28 21:22:32 +0000 2019 | 27770 | NA | 107510 | FALSE | 2019-10-28 21:22:32 | killed     |\n",
       "| Twitter for iPhone | 1188929062611361792 | Mon Oct 28 21:22:32 +0000 2019 | 27770 | NA | 107510 | FALSE | 2019-10-28 21:22:32 | the        |\n",
       "| Twitter for iPhone | 1188929062611361792 | Mon Oct 28 21:22:32 +0000 2019 | 27770 | NA | 107510 | FALSE | 2019-10-28 21:22:32 | 1          |\n",
       "| ⋮ | ⋮ | ⋮ | ⋮ | ⋮ | ⋮ | ⋮ | ⋮ | ⋮ |\n",
       "| Twitter for iPhone | 1080088373451206656 | Tue Jan 01 13:08:29 +0000 2019 | 59039 | NA | 256114 | FALSE | 2019-01-01 13:08:29 | great     |\n",
       "| Twitter for iPhone | 1080088373451206656 | Tue Jan 01 13:08:29 +0000 2019 | 59039 | NA | 256114 | FALSE | 2019-01-01 13:08:29 | things    |\n",
       "| Twitter for iPhone | 1080088373451206656 | Tue Jan 01 13:08:29 +0000 2019 | 59039 | NA | 256114 | FALSE | 2019-01-01 13:08:29 | are       |\n",
       "| Twitter for iPhone | 1080088373451206656 | Tue Jan 01 13:08:29 +0000 2019 | 59039 | NA | 256114 | FALSE | 2019-01-01 13:08:29 | happening |\n",
       "| Twitter for iPhone | 1080088373451206656 | Tue Jan 01 13:08:29 +0000 2019 | 59039 | NA | 256114 | FALSE | 2019-01-01 13:08:29 | for       |\n",
       "| Twitter for iPhone | 1080088373451206656 | Tue Jan 01 13:08:29 +0000 2019 | 59039 | NA | 256114 | FALSE | 2019-01-01 13:08:29 | our       |\n",
       "| Twitter for iPhone | 1080088373451206656 | Tue Jan 01 13:08:29 +0000 2019 | 59039 | NA | 256114 | FALSE | 2019-01-01 13:08:29 | country   |\n",
       "| Twitter for iPhone | 1080084113762197504 | Tue Jan 01 12:51:34 +0000 2019 | 14059 | NA |  76622 | FALSE | 2019-01-01 12:51:34 | dr        |\n",
       "| Twitter for iPhone | 1080084113762197504 | Tue Jan 01 12:51:34 +0000 2019 | 14059 | NA |  76622 | FALSE | 2019-01-01 12:51:34 | sebastian |\n",
       "| Twitter for iPhone | 1080084113762197504 | Tue Jan 01 12:51:34 +0000 2019 | 14059 | NA |  76622 | FALSE | 2019-01-01 12:51:34 | gorka     |\n",
       "| Twitter for iPhone | 1080084113762197504 | Tue Jan 01 12:51:34 +0000 2019 | 14059 | NA |  76622 | FALSE | 2019-01-01 12:51:34 | a         |\n",
       "| Twitter for iPhone | 1080084113762197504 | Tue Jan 01 12:51:34 +0000 2019 | 14059 | NA |  76622 | FALSE | 2019-01-01 12:51:34 | very      |\n",
       "| Twitter for iPhone | 1080084113762197504 | Tue Jan 01 12:51:34 +0000 2019 | 14059 | NA |  76622 | FALSE | 2019-01-01 12:51:34 | good      |\n",
       "| Twitter for iPhone | 1080084113762197504 | Tue Jan 01 12:51:34 +0000 2019 | 14059 | NA |  76622 | FALSE | 2019-01-01 12:51:34 | and       |\n",
       "| Twitter for iPhone | 1080084113762197504 | Tue Jan 01 12:51:34 +0000 2019 | 14059 | NA |  76622 | FALSE | 2019-01-01 12:51:34 | talented  |\n",
       "| Twitter for iPhone | 1080084113762197504 | Tue Jan 01 12:51:34 +0000 2019 | 14059 | NA |  76622 | FALSE | 2019-01-01 12:51:34 | guy       |\n",
       "| Twitter for iPhone | 1080084113762197504 | Tue Jan 01 12:51:34 +0000 2019 | 14059 | NA |  76622 | FALSE | 2019-01-01 12:51:34 | has       |\n",
       "| Twitter for iPhone | 1080084113762197504 | Tue Jan 01 12:51:34 +0000 2019 | 14059 | NA |  76622 | FALSE | 2019-01-01 12:51:34 | a         |\n",
       "| Twitter for iPhone | 1080084113762197504 | Tue Jan 01 12:51:34 +0000 2019 | 14059 | NA |  76622 | FALSE | 2019-01-01 12:51:34 | great     |\n",
       "| Twitter for iPhone | 1080084113762197504 | Tue Jan 01 12:51:34 +0000 2019 | 14059 | NA |  76622 | FALSE | 2019-01-01 12:51:34 | new       |\n",
       "| Twitter for iPhone | 1080084113762197504 | Tue Jan 01 12:51:34 +0000 2019 | 14059 | NA |  76622 | FALSE | 2019-01-01 12:51:34 | book      |\n",
       "| Twitter for iPhone | 1080084113762197504 | Tue Jan 01 12:51:34 +0000 2019 | 14059 | NA |  76622 | FALSE | 2019-01-01 12:51:34 | just      |\n",
       "| Twitter for iPhone | 1080084113762197504 | Tue Jan 01 12:51:34 +0000 2019 | 14059 | NA |  76622 | FALSE | 2019-01-01 12:51:34 | out       |\n",
       "| Twitter for iPhone | 1080084113762197504 | Tue Jan 01 12:51:34 +0000 2019 | 14059 | NA |  76622 | FALSE | 2019-01-01 12:51:34 | why       |\n",
       "| Twitter for iPhone | 1080084113762197504 | Tue Jan 01 12:51:34 +0000 2019 | 14059 | NA |  76622 | FALSE | 2019-01-01 12:51:34 | we        |\n",
       "| Twitter for iPhone | 1080084113762197504 | Tue Jan 01 12:51:34 +0000 2019 | 14059 | NA |  76622 | FALSE | 2019-01-01 12:51:34 | fight     |\n",
       "| Twitter for iPhone | 1080084113762197504 | Tue Jan 01 12:51:34 +0000 2019 | 14059 | NA |  76622 | FALSE | 2019-01-01 12:51:34 | lots      |\n",
       "| Twitter for iPhone | 1080084113762197504 | Tue Jan 01 12:51:34 +0000 2019 | 14059 | NA |  76622 | FALSE | 2019-01-01 12:51:34 | of        |\n",
       "| Twitter for iPhone | 1080084113762197504 | Tue Jan 01 12:51:34 +0000 2019 | 14059 | NA |  76622 | FALSE | 2019-01-01 12:51:34 | insight   |\n",
       "| Twitter for iPhone | 1080084113762197504 | Tue Jan 01 12:51:34 +0000 2019 | 14059 | NA |  76622 | FALSE | 2019-01-01 12:51:34 | enjoy     |\n",
       "\n"
      ],
      "text/plain": [
       "       source             id_str              created_at                    \n",
       "1      Twitter for iPhone 1188929062611361792 Mon Oct 28 21:22:32 +0000 2019\n",
       "2      Twitter for iPhone 1188929062611361792 Mon Oct 28 21:22:32 +0000 2019\n",
       "3      Twitter for iPhone 1188929062611361792 Mon Oct 28 21:22:32 +0000 2019\n",
       "4      Twitter for iPhone 1188929062611361792 Mon Oct 28 21:22:32 +0000 2019\n",
       "5      Twitter for iPhone 1188929062611361792 Mon Oct 28 21:22:32 +0000 2019\n",
       "6      Twitter for iPhone 1188929062611361792 Mon Oct 28 21:22:32 +0000 2019\n",
       "7      Twitter for iPhone 1188929062611361792 Mon Oct 28 21:22:32 +0000 2019\n",
       "8      Twitter for iPhone 1188929062611361792 Mon Oct 28 21:22:32 +0000 2019\n",
       "9      Twitter for iPhone 1188929062611361792 Mon Oct 28 21:22:32 +0000 2019\n",
       "10     Twitter for iPhone 1188929062611361792 Mon Oct 28 21:22:32 +0000 2019\n",
       "11     Twitter for iPhone 1188929062611361792 Mon Oct 28 21:22:32 +0000 2019\n",
       "12     Twitter for iPhone 1188929062611361792 Mon Oct 28 21:22:32 +0000 2019\n",
       "13     Twitter for iPhone 1188929062611361792 Mon Oct 28 21:22:32 +0000 2019\n",
       "14     Twitter for iPhone 1188929062611361792 Mon Oct 28 21:22:32 +0000 2019\n",
       "15     Twitter for iPhone 1188929062611361792 Mon Oct 28 21:22:32 +0000 2019\n",
       "16     Twitter for iPhone 1188929062611361792 Mon Oct 28 21:22:32 +0000 2019\n",
       "17     Twitter for iPhone 1188929062611361792 Mon Oct 28 21:22:32 +0000 2019\n",
       "18     Twitter for iPhone 1188929062611361792 Mon Oct 28 21:22:32 +0000 2019\n",
       "19     Twitter for iPhone 1188929062611361792 Mon Oct 28 21:22:32 +0000 2019\n",
       "20     Twitter for iPhone 1188929062611361792 Mon Oct 28 21:22:32 +0000 2019\n",
       "21     Twitter for iPhone 1188929062611361792 Mon Oct 28 21:22:32 +0000 2019\n",
       "22     Twitter for iPhone 1188929062611361792 Mon Oct 28 21:22:32 +0000 2019\n",
       "23     Twitter for iPhone 1188929062611361792 Mon Oct 28 21:22:32 +0000 2019\n",
       "24     Twitter for iPhone 1188929062611361792 Mon Oct 28 21:22:32 +0000 2019\n",
       "25     Twitter for iPhone 1188929062611361792 Mon Oct 28 21:22:32 +0000 2019\n",
       "26     Twitter for iPhone 1188929062611361792 Mon Oct 28 21:22:32 +0000 2019\n",
       "27     Twitter for iPhone 1188929062611361792 Mon Oct 28 21:22:32 +0000 2019\n",
       "28     Twitter for iPhone 1188929062611361792 Mon Oct 28 21:22:32 +0000 2019\n",
       "29     Twitter for iPhone 1188929062611361792 Mon Oct 28 21:22:32 +0000 2019\n",
       "30     Twitter for iPhone 1188929062611361792 Mon Oct 28 21:22:32 +0000 2019\n",
       "⋮      ⋮                  ⋮                   ⋮                             \n",
       "155749 Twitter for iPhone 1080088373451206656 Tue Jan 01 13:08:29 +0000 2019\n",
       "155750 Twitter for iPhone 1080088373451206656 Tue Jan 01 13:08:29 +0000 2019\n",
       "155751 Twitter for iPhone 1080088373451206656 Tue Jan 01 13:08:29 +0000 2019\n",
       "155752 Twitter for iPhone 1080088373451206656 Tue Jan 01 13:08:29 +0000 2019\n",
       "155753 Twitter for iPhone 1080088373451206656 Tue Jan 01 13:08:29 +0000 2019\n",
       "155754 Twitter for iPhone 1080088373451206656 Tue Jan 01 13:08:29 +0000 2019\n",
       "155755 Twitter for iPhone 1080088373451206656 Tue Jan 01 13:08:29 +0000 2019\n",
       "155756 Twitter for iPhone 1080084113762197504 Tue Jan 01 12:51:34 +0000 2019\n",
       "155757 Twitter for iPhone 1080084113762197504 Tue Jan 01 12:51:34 +0000 2019\n",
       "155758 Twitter for iPhone 1080084113762197504 Tue Jan 01 12:51:34 +0000 2019\n",
       "155759 Twitter for iPhone 1080084113762197504 Tue Jan 01 12:51:34 +0000 2019\n",
       "155760 Twitter for iPhone 1080084113762197504 Tue Jan 01 12:51:34 +0000 2019\n",
       "155761 Twitter for iPhone 1080084113762197504 Tue Jan 01 12:51:34 +0000 2019\n",
       "155762 Twitter for iPhone 1080084113762197504 Tue Jan 01 12:51:34 +0000 2019\n",
       "155763 Twitter for iPhone 1080084113762197504 Tue Jan 01 12:51:34 +0000 2019\n",
       "155764 Twitter for iPhone 1080084113762197504 Tue Jan 01 12:51:34 +0000 2019\n",
       "155765 Twitter for iPhone 1080084113762197504 Tue Jan 01 12:51:34 +0000 2019\n",
       "155766 Twitter for iPhone 1080084113762197504 Tue Jan 01 12:51:34 +0000 2019\n",
       "155767 Twitter for iPhone 1080084113762197504 Tue Jan 01 12:51:34 +0000 2019\n",
       "155768 Twitter for iPhone 1080084113762197504 Tue Jan 01 12:51:34 +0000 2019\n",
       "155769 Twitter for iPhone 1080084113762197504 Tue Jan 01 12:51:34 +0000 2019\n",
       "155770 Twitter for iPhone 1080084113762197504 Tue Jan 01 12:51:34 +0000 2019\n",
       "155771 Twitter for iPhone 1080084113762197504 Tue Jan 01 12:51:34 +0000 2019\n",
       "155772 Twitter for iPhone 1080084113762197504 Tue Jan 01 12:51:34 +0000 2019\n",
       "155773 Twitter for iPhone 1080084113762197504 Tue Jan 01 12:51:34 +0000 2019\n",
       "155774 Twitter for iPhone 1080084113762197504 Tue Jan 01 12:51:34 +0000 2019\n",
       "155775 Twitter for iPhone 1080084113762197504 Tue Jan 01 12:51:34 +0000 2019\n",
       "155776 Twitter for iPhone 1080084113762197504 Tue Jan 01 12:51:34 +0000 2019\n",
       "155777 Twitter for iPhone 1080084113762197504 Tue Jan 01 12:51:34 +0000 2019\n",
       "155778 Twitter for iPhone 1080084113762197504 Tue Jan 01 12:51:34 +0000 2019\n",
       "       retweet_count in_reply_to_user_id_str favorite_count is_retweet\n",
       "1      27770         NA                      107510         FALSE     \n",
       "2      27770         NA                      107510         FALSE     \n",
       "3      27770         NA                      107510         FALSE     \n",
       "4      27770         NA                      107510         FALSE     \n",
       "5      27770         NA                      107510         FALSE     \n",
       "6      27770         NA                      107510         FALSE     \n",
       "7      27770         NA                      107510         FALSE     \n",
       "8      27770         NA                      107510         FALSE     \n",
       "9      27770         NA                      107510         FALSE     \n",
       "10     27770         NA                      107510         FALSE     \n",
       "11     27770         NA                      107510         FALSE     \n",
       "12     27770         NA                      107510         FALSE     \n",
       "13     27770         NA                      107510         FALSE     \n",
       "14     27770         NA                      107510         FALSE     \n",
       "15     27770         NA                      107510         FALSE     \n",
       "16     27770         NA                      107510         FALSE     \n",
       "17     27770         NA                      107510         FALSE     \n",
       "18     27770         NA                      107510         FALSE     \n",
       "19     27770         NA                      107510         FALSE     \n",
       "20     27770         NA                      107510         FALSE     \n",
       "21     27770         NA                      107510         FALSE     \n",
       "22     27770         NA                      107510         FALSE     \n",
       "23     27770         NA                      107510         FALSE     \n",
       "24     27770         NA                      107510         FALSE     \n",
       "25     27770         NA                      107510         FALSE     \n",
       "26     27770         NA                      107510         FALSE     \n",
       "27     27770         NA                      107510         FALSE     \n",
       "28     27770         NA                      107510         FALSE     \n",
       "29     27770         NA                      107510         FALSE     \n",
       "30     27770         NA                      107510         FALSE     \n",
       "⋮      ⋮             ⋮                       ⋮              ⋮         \n",
       "155749 59039         NA                      256114         FALSE     \n",
       "155750 59039         NA                      256114         FALSE     \n",
       "155751 59039         NA                      256114         FALSE     \n",
       "155752 59039         NA                      256114         FALSE     \n",
       "155753 59039         NA                      256114         FALSE     \n",
       "155754 59039         NA                      256114         FALSE     \n",
       "155755 59039         NA                      256114         FALSE     \n",
       "155756 14059         NA                       76622         FALSE     \n",
       "155757 14059         NA                       76622         FALSE     \n",
       "155758 14059         NA                       76622         FALSE     \n",
       "155759 14059         NA                       76622         FALSE     \n",
       "155760 14059         NA                       76622         FALSE     \n",
       "155761 14059         NA                       76622         FALSE     \n",
       "155762 14059         NA                       76622         FALSE     \n",
       "155763 14059         NA                       76622         FALSE     \n",
       "155764 14059         NA                       76622         FALSE     \n",
       "155765 14059         NA                       76622         FALSE     \n",
       "155766 14059         NA                       76622         FALSE     \n",
       "155767 14059         NA                       76622         FALSE     \n",
       "155768 14059         NA                       76622         FALSE     \n",
       "155769 14059         NA                       76622         FALSE     \n",
       "155770 14059         NA                       76622         FALSE     \n",
       "155771 14059         NA                       76622         FALSE     \n",
       "155772 14059         NA                       76622         FALSE     \n",
       "155773 14059         NA                       76622         FALSE     \n",
       "155774 14059         NA                       76622         FALSE     \n",
       "155775 14059         NA                       76622         FALSE     \n",
       "155776 14059         NA                       76622         FALSE     \n",
       "155777 14059         NA                       76622         FALSE     \n",
       "155778 14059         NA                       76622         FALSE     \n",
       "       dt                  word      \n",
       "1      2019-10-28 21:22:32 can       \n",
       "2      2019-10-28 21:22:32 you       \n",
       "3      2019-10-28 21:22:32 believe   \n",
       "4      2019-10-28 21:22:32 that      \n",
       "5      2019-10-28 21:22:32 shifty    \n",
       "6      2019-10-28 21:22:32 adam      \n",
       "7      2019-10-28 21:22:32 schiff    \n",
       "8      2019-10-28 21:22:32 the       \n",
       "9      2019-10-28 21:22:32 biggest   \n",
       "10     2019-10-28 21:22:32 leaker    \n",
       "11     2019-10-28 21:22:32 in        \n",
       "12     2019-10-28 21:22:32 d.c       \n",
       "13     2019-10-28 21:22:32 and       \n",
       "14     2019-10-28 21:22:32 a         \n",
       "15     2019-10-28 21:22:32 corrupt   \n",
       "16     2019-10-28 21:22:32 politician\n",
       "17     2019-10-28 21:22:32 is        \n",
       "18     2019-10-28 21:22:32 upset     \n",
       "19     2019-10-28 21:22:32 that      \n",
       "20     2019-10-28 21:22:32 we        \n",
       "21     2019-10-28 21:22:32 didn’t    \n",
       "22     2019-10-28 21:22:32 inform    \n",
       "23     2019-10-28 21:22:32 him       \n",
       "24     2019-10-28 21:22:32 before    \n",
       "25     2019-10-28 21:22:32 we        \n",
       "26     2019-10-28 21:22:32 raided    \n",
       "27     2019-10-28 21:22:32 and       \n",
       "28     2019-10-28 21:22:32 killed    \n",
       "29     2019-10-28 21:22:32 the       \n",
       "30     2019-10-28 21:22:32 1         \n",
       "⋮      ⋮                   ⋮         \n",
       "155749 2019-01-01 13:08:29 great     \n",
       "155750 2019-01-01 13:08:29 things    \n",
       "155751 2019-01-01 13:08:29 are       \n",
       "155752 2019-01-01 13:08:29 happening \n",
       "155753 2019-01-01 13:08:29 for       \n",
       "155754 2019-01-01 13:08:29 our       \n",
       "155755 2019-01-01 13:08:29 country   \n",
       "155756 2019-01-01 12:51:34 dr        \n",
       "155757 2019-01-01 12:51:34 sebastian \n",
       "155758 2019-01-01 12:51:34 gorka     \n",
       "155759 2019-01-01 12:51:34 a         \n",
       "155760 2019-01-01 12:51:34 very      \n",
       "155761 2019-01-01 12:51:34 good      \n",
       "155762 2019-01-01 12:51:34 and       \n",
       "155763 2019-01-01 12:51:34 talented  \n",
       "155764 2019-01-01 12:51:34 guy       \n",
       "155765 2019-01-01 12:51:34 has       \n",
       "155766 2019-01-01 12:51:34 a         \n",
       "155767 2019-01-01 12:51:34 great     \n",
       "155768 2019-01-01 12:51:34 new       \n",
       "155769 2019-01-01 12:51:34 book      \n",
       "155770 2019-01-01 12:51:34 just      \n",
       "155771 2019-01-01 12:51:34 out       \n",
       "155772 2019-01-01 12:51:34 why       \n",
       "155773 2019-01-01 12:51:34 we        \n",
       "155774 2019-01-01 12:51:34 fight     \n",
       "155775 2019-01-01 12:51:34 lots      \n",
       "155776 2019-01-01 12:51:34 of        \n",
       "155777 2019-01-01 12:51:34 insight   \n",
       "155778 2019-01-01 12:51:34 enjoy     "
      ]
     },
     "metadata": {},
     "output_type": "display_data"
    }
   ],
   "source": [
    "filter(trump_tweets2, year(dt) == 2019) %>% unnest_tokens(output = word, input = text)"
   ]
  },
  {
   "cell_type": "code",
   "execution_count": 17,
   "metadata": {},
   "outputs": [
    {
     "name": "stderr",
     "output_type": "stream",
     "text": [
      "Selecting by n\n",
      "\n"
     ]
    },
    {
     "data": {
      "text/html": [
       "<table class=\"dataframe\">\n",
       "<caption>A tibble: 15 × 2</caption>\n",
       "<thead>\n",
       "\t<tr><th scope=col>word</th><th scope=col>n</th></tr>\n",
       "\t<tr><th scope=col>&lt;chr&gt;</th><th scope=col>&lt;int&gt;</th></tr>\n",
       "</thead>\n",
       "<tbody>\n",
       "\t<tr><td>america        </td><td>236</td></tr>\n",
       "\t<tr><td>american       </td><td>232</td></tr>\n",
       "\t<tr><td>because        </td><td>182</td></tr>\n",
       "\t<tr><td>border         </td><td>384</td></tr>\n",
       "\t<tr><td>country        </td><td>390</td></tr>\n",
       "\t<tr><td>democrats      </td><td>512</td></tr>\n",
       "\t<tr><td>mueller        </td><td>191</td></tr>\n",
       "\t<tr><td>nothing        </td><td>196</td></tr>\n",
       "\t<tr><td>people         </td><td>512</td></tr>\n",
       "\t<tr><td>president      </td><td>746</td></tr>\n",
       "\t<tr><td>realdonaldtrump</td><td>486</td></tr>\n",
       "\t<tr><td>should         </td><td>274</td></tr>\n",
       "\t<tr><td>states         </td><td>239</td></tr>\n",
       "\t<tr><td>united         </td><td>252</td></tr>\n",
       "\t<tr><td>whitehouse     </td><td>184</td></tr>\n",
       "</tbody>\n",
       "</table>\n"
      ],
      "text/latex": [
       "A tibble: 15 × 2\n",
       "\\begin{tabular}{ll}\n",
       " word & n\\\\\n",
       " <chr> & <int>\\\\\n",
       "\\hline\n",
       "\t america         & 236\\\\\n",
       "\t american        & 232\\\\\n",
       "\t because         & 182\\\\\n",
       "\t border          & 384\\\\\n",
       "\t country         & 390\\\\\n",
       "\t democrats       & 512\\\\\n",
       "\t mueller         & 191\\\\\n",
       "\t nothing         & 196\\\\\n",
       "\t people          & 512\\\\\n",
       "\t president       & 746\\\\\n",
       "\t realdonaldtrump & 486\\\\\n",
       "\t should          & 274\\\\\n",
       "\t states          & 239\\\\\n",
       "\t united          & 252\\\\\n",
       "\t whitehouse      & 184\\\\\n",
       "\\end{tabular}\n"
      ],
      "text/markdown": [
       "\n",
       "A tibble: 15 × 2\n",
       "\n",
       "| word &lt;chr&gt; | n &lt;int&gt; |\n",
       "|---|---|\n",
       "| america         | 236 |\n",
       "| american        | 232 |\n",
       "| because         | 182 |\n",
       "| border          | 384 |\n",
       "| country         | 390 |\n",
       "| democrats       | 512 |\n",
       "| mueller         | 191 |\n",
       "| nothing         | 196 |\n",
       "| people          | 512 |\n",
       "| president       | 746 |\n",
       "| realdonaldtrump | 486 |\n",
       "| should          | 274 |\n",
       "| states          | 239 |\n",
       "| united          | 252 |\n",
       "| whitehouse      | 184 |\n",
       "\n"
      ],
      "text/plain": [
       "   word            n  \n",
       "1  america         236\n",
       "2  american        232\n",
       "3  because         182\n",
       "4  border          384\n",
       "5  country         390\n",
       "6  democrats       512\n",
       "7  mueller         191\n",
       "8  nothing         196\n",
       "9  people          512\n",
       "10 president       746\n",
       "11 realdonaldtrump 486\n",
       "12 should          274\n",
       "13 states          239\n",
       "14 united          252\n",
       "15 whitehouse      184"
      ]
     },
     "metadata": {},
     "output_type": "display_data"
    }
   ],
   "source": [
    "filter(trump_tweets2, year(dt) == 2019) %>% \n",
    "    unnest_tokens(output = word, input = text) %>%\n",
    "    select(created_at, word) %>% \n",
    "    count(word) %>% \n",
    "    filter(str_length(word) >= 6) %>% top_n(15)"
   ]
  },
  {
   "cell_type": "code",
   "execution_count": 18,
   "metadata": {},
   "outputs": [
    {
     "data": {
      "text/html": [
       "<style>\n",
       ".list-inline {list-style: none; margin:0; padding: 0}\n",
       ".list-inline>li {display: inline-block}\n",
       ".list-inline>li:not(:last-child)::after {content: \"\\00b7\"; padding: 0 .5ex}\n",
       "</style>\n",
       "<ol class=list-inline><li>'a'</li><li>'able'</li><li>'about'</li><li>'absolute'</li><li>'accept'</li><li>'account'</li></ol>\n"
      ],
      "text/latex": [
       "\\begin{enumerate*}\n",
       "\\item 'a'\n",
       "\\item 'able'\n",
       "\\item 'about'\n",
       "\\item 'absolute'\n",
       "\\item 'accept'\n",
       "\\item 'account'\n",
       "\\end{enumerate*}\n"
      ],
      "text/markdown": [
       "1. 'a'\n",
       "2. 'able'\n",
       "3. 'about'\n",
       "4. 'absolute'\n",
       "5. 'accept'\n",
       "6. 'account'\n",
       "\n",
       "\n"
      ],
      "text/plain": [
       "[1] \"a\"        \"able\"     \"about\"    \"absolute\" \"accept\"   \"account\" "
      ]
     },
     "metadata": {},
     "output_type": "display_data"
    }
   ],
   "source": [
    "head(words)"
   ]
  },
  {
   "cell_type": "markdown",
   "metadata": {},
   "source": [
    "### Task #4\n",
    "What were Trump's favorite #hashtags?"
   ]
  },
  {
   "cell_type": "code",
   "execution_count": 19,
   "metadata": {},
   "outputs": [
    {
     "name": "stderr",
     "output_type": "stream",
     "text": [
      "Using `to_lower = TRUE` with `token = 'tweets'` may not preserve URLs.\n",
      "\n",
      "Selecting by n\n",
      "\n"
     ]
    },
    {
     "data": {
      "text/html": [
       "<table class=\"dataframe\">\n",
       "<caption>A tibble: 20 × 3</caption>\n",
       "<thead>\n",
       "\t<tr><th scope=col>year(dt)</th><th scope=col>word</th><th scope=col>n</th></tr>\n",
       "\t<tr><th scope=col>&lt;dbl&gt;</th><th scope=col>&lt;chr&gt;</th><th scope=col>&lt;int&gt;</th></tr>\n",
       "</thead>\n",
       "<tbody>\n",
       "\t<tr><td>2015</td><td>#trump2016            </td><td>415</td></tr>\n",
       "\t<tr><td>2016</td><td>#trump2016            </td><td>347</td></tr>\n",
       "\t<tr><td>2015</td><td>#makeamericagreatagain</td><td>279</td></tr>\n",
       "\t<tr><td>2016</td><td>#makeamericagreatagain</td><td>275</td></tr>\n",
       "\t<tr><td>2013</td><td>#celebapprentice      </td><td>140</td></tr>\n",
       "\t<tr><td>2015</td><td>#celebapprentice      </td><td>139</td></tr>\n",
       "\t<tr><td>2016</td><td>#maga                 </td><td>108</td></tr>\n",
       "\t<tr><td>2014</td><td>#trump2016            </td><td>107</td></tr>\n",
       "\t<tr><td>2015</td><td>#celebrityapprentice  </td><td>102</td></tr>\n",
       "\t<tr><td>2016</td><td>#americafirst         </td><td> 86</td></tr>\n",
       "\t<tr><td>2016</td><td>#draintheswamp        </td><td> 78</td></tr>\n",
       "\t<tr><td>2016</td><td>#votetrump            </td><td> 69</td></tr>\n",
       "\t<tr><td>2018</td><td>#maga                 </td><td> 67</td></tr>\n",
       "\t<tr><td>2011</td><td>#timetogettough       </td><td> 62</td></tr>\n",
       "\t<tr><td>2016</td><td>#imwithyou            </td><td> 62</td></tr>\n",
       "\t<tr><td>2016</td><td>#bigleaguetruth       </td><td> 58</td></tr>\n",
       "\t<tr><td>2015</td><td>#trump                </td><td> 53</td></tr>\n",
       "\t<tr><td>2019</td><td>#maga                 </td><td> 46</td></tr>\n",
       "\t<tr><td>2016</td><td>#debate               </td><td> 45</td></tr>\n",
       "\t<tr><td>2011</td><td>#trumpvlog            </td><td> 43</td></tr>\n",
       "</tbody>\n",
       "</table>\n"
      ],
      "text/latex": [
       "A tibble: 20 × 3\n",
       "\\begin{tabular}{lll}\n",
       " year(dt) & word & n\\\\\n",
       " <dbl> & <chr> & <int>\\\\\n",
       "\\hline\n",
       "\t 2015 & \\#trump2016             & 415\\\\\n",
       "\t 2016 & \\#trump2016             & 347\\\\\n",
       "\t 2015 & \\#makeamericagreatagain & 279\\\\\n",
       "\t 2016 & \\#makeamericagreatagain & 275\\\\\n",
       "\t 2013 & \\#celebapprentice       & 140\\\\\n",
       "\t 2015 & \\#celebapprentice       & 139\\\\\n",
       "\t 2016 & \\#maga                  & 108\\\\\n",
       "\t 2014 & \\#trump2016             & 107\\\\\n",
       "\t 2015 & \\#celebrityapprentice   & 102\\\\\n",
       "\t 2016 & \\#americafirst          &  86\\\\\n",
       "\t 2016 & \\#draintheswamp         &  78\\\\\n",
       "\t 2016 & \\#votetrump             &  69\\\\\n",
       "\t 2018 & \\#maga                  &  67\\\\\n",
       "\t 2011 & \\#timetogettough        &  62\\\\\n",
       "\t 2016 & \\#imwithyou             &  62\\\\\n",
       "\t 2016 & \\#bigleaguetruth        &  58\\\\\n",
       "\t 2015 & \\#trump                 &  53\\\\\n",
       "\t 2019 & \\#maga                  &  46\\\\\n",
       "\t 2016 & \\#debate                &  45\\\\\n",
       "\t 2011 & \\#trumpvlog             &  43\\\\\n",
       "\\end{tabular}\n"
      ],
      "text/markdown": [
       "\n",
       "A tibble: 20 × 3\n",
       "\n",
       "| year(dt) &lt;dbl&gt; | word &lt;chr&gt; | n &lt;int&gt; |\n",
       "|---|---|---|\n",
       "| 2015 | #trump2016             | 415 |\n",
       "| 2016 | #trump2016             | 347 |\n",
       "| 2015 | #makeamericagreatagain | 279 |\n",
       "| 2016 | #makeamericagreatagain | 275 |\n",
       "| 2013 | #celebapprentice       | 140 |\n",
       "| 2015 | #celebapprentice       | 139 |\n",
       "| 2016 | #maga                  | 108 |\n",
       "| 2014 | #trump2016             | 107 |\n",
       "| 2015 | #celebrityapprentice   | 102 |\n",
       "| 2016 | #americafirst          |  86 |\n",
       "| 2016 | #draintheswamp         |  78 |\n",
       "| 2016 | #votetrump             |  69 |\n",
       "| 2018 | #maga                  |  67 |\n",
       "| 2011 | #timetogettough        |  62 |\n",
       "| 2016 | #imwithyou             |  62 |\n",
       "| 2016 | #bigleaguetruth        |  58 |\n",
       "| 2015 | #trump                 |  53 |\n",
       "| 2019 | #maga                  |  46 |\n",
       "| 2016 | #debate                |  45 |\n",
       "| 2011 | #trumpvlog             |  43 |\n",
       "\n"
      ],
      "text/plain": [
       "   year(dt) word                   n  \n",
       "1  2015     #trump2016             415\n",
       "2  2016     #trump2016             347\n",
       "3  2015     #makeamericagreatagain 279\n",
       "4  2016     #makeamericagreatagain 275\n",
       "5  2013     #celebapprentice       140\n",
       "6  2015     #celebapprentice       139\n",
       "7  2016     #maga                  108\n",
       "8  2014     #trump2016             107\n",
       "9  2015     #celebrityapprentice   102\n",
       "10 2016     #americafirst           86\n",
       "11 2016     #draintheswamp          78\n",
       "12 2016     #votetrump              69\n",
       "13 2018     #maga                   67\n",
       "14 2011     #timetogettough         62\n",
       "15 2016     #imwithyou              62\n",
       "16 2016     #bigleaguetruth         58\n",
       "17 2015     #trump                  53\n",
       "18 2019     #maga                   46\n",
       "19 2016     #debate                 45\n",
       "20 2011     #trumpvlog              43"
      ]
     },
     "metadata": {},
     "output_type": "display_data"
    }
   ],
   "source": [
    "filter(trump_tweets2, str_detect(text, \"#\")) %>% \n",
    "    unnest_tokens(input=text, output=word, token=\"tweets\") %>% \n",
    "    filter(str_detect(word, \"^#\")) %>% \n",
    "    count(year(dt), word) %>% top_n(20) %>% arrange(desc(n))"
   ]
  },
  {
   "cell_type": "markdown",
   "metadata": {},
   "source": [
    "### Task #5\n",
    "\"Sentiment analysis\" refers to the act of assigning a label such as \"positive\" or \"negative\" to a piece of text. We will perform a simple type of sentiment analysis by assigning a numerical score to certain words in each tweet, using the `sentiments` table:"
   ]
  },
  {
   "cell_type": "code",
   "execution_count": 20,
   "metadata": {},
   "outputs": [
    {
     "name": "stdout",
     "output_type": "stream",
     "text": [
      "\u001b[90m# A tibble: 2,477 × 2\u001b[39m\n",
      "   word       value\n",
      "   \u001b[3m\u001b[90m<chr>\u001b[39m\u001b[23m      \u001b[3m\u001b[90m<dbl>\u001b[39m\u001b[23m\n",
      "\u001b[90m 1\u001b[39m abandon       -\u001b[31m2\u001b[39m\n",
      "\u001b[90m 2\u001b[39m abandoned     -\u001b[31m2\u001b[39m\n",
      "\u001b[90m 3\u001b[39m abandons      -\u001b[31m2\u001b[39m\n",
      "\u001b[90m 4\u001b[39m abducted      -\u001b[31m2\u001b[39m\n",
      "\u001b[90m 5\u001b[39m abduction     -\u001b[31m2\u001b[39m\n",
      "\u001b[90m 6\u001b[39m abductions    -\u001b[31m2\u001b[39m\n",
      "\u001b[90m 7\u001b[39m abhor         -\u001b[31m3\u001b[39m\n",
      "\u001b[90m 8\u001b[39m abhorred      -\u001b[31m3\u001b[39m\n",
      "\u001b[90m 9\u001b[39m abhorrent     -\u001b[31m3\u001b[39m\n",
      "\u001b[90m10\u001b[39m abhors        -\u001b[31m3\u001b[39m\n",
      "\u001b[90m# … with 2,467 more rows\u001b[39m\n"
     ]
    }
   ],
   "source": [
    "load(\"sentiment.RData\")\n",
    "sentiments %>% print"
   ]
  },
  {
   "cell_type": "markdown",
   "metadata": {},
   "source": [
    "An example of how this works:"
   ]
  },
  {
   "cell_type": "code",
   "execution_count": 21,
   "metadata": {},
   "outputs": [
    {
     "name": "stderr",
     "output_type": "stream",
     "text": [
      "Using `to_lower = TRUE` with `token = 'tweets'` may not preserve URLs.\n",
      "\n",
      "Joining, by = \"word\"\n",
      "\n"
     ]
    },
    {
     "name": "stdout",
     "output_type": "stream",
     "text": [
      "\u001b[90m# A tibble: 73,581 × 12\u001b[39m\n",
      "   source             id_str created_at retweet_count in_reply_to_use… favorite_count\n",
      "   \u001b[3m\u001b[90m<chr>\u001b[39m\u001b[23m              \u001b[3m\u001b[90m<chr>\u001b[39m\u001b[23m  \u001b[3m\u001b[90m<chr>\u001b[39m\u001b[23m              \u001b[3m\u001b[90m<int>\u001b[39m\u001b[23m \u001b[3m\u001b[90m<chr>\u001b[39m\u001b[23m                     \u001b[3m\u001b[90m<int>\u001b[39m\u001b[23m\n",
      "\u001b[90m 1\u001b[39m Twitter Web Client 20595… Thu Dec 3…           144 \u001b[31mNA\u001b[39m                           42\n",
      "\u001b[90m 2\u001b[39m Twitter Web Client 20595… Thu Dec 3…           144 \u001b[31mNA\u001b[39m                           42\n",
      "\u001b[90m 3\u001b[39m Twitter Web Client 20595… Thu Dec 3…           144 \u001b[31mNA\u001b[39m                           42\n",
      "\u001b[90m 4\u001b[39m Twitter Web Client 20595… Thu Dec 3…           144 \u001b[31mNA\u001b[39m                           42\n",
      "\u001b[90m 5\u001b[39m Twitter Web Client 17979… Thu Dec 2…           109 \u001b[31mNA\u001b[39m                           55\n",
      "\u001b[90m 6\u001b[39m Twitter Web Client 17979… Thu Dec 2…           109 \u001b[31mNA\u001b[39m                           55\n",
      "\u001b[90m 7\u001b[39m Twitter Web Client 15413… Thu Dec 1…           112 \u001b[31mNA\u001b[39m                           20\n",
      "\u001b[90m 8\u001b[39m Twitter Web Client 15413… Thu Dec 1…           112 \u001b[31mNA\u001b[39m                           20\n",
      "\u001b[90m 9\u001b[39m Twitter Web Client 15413… Thu Dec 1…           112 \u001b[31mNA\u001b[39m                           20\n",
      "\u001b[90m10\u001b[39m Twitter Web Client 14785… Tue Dec 1…           250 \u001b[31mNA\u001b[39m                           37\n",
      "\u001b[90m# … with 73,571 more rows, and 6 more variables: is_retweet <lgl>, dt <dttm>,\u001b[39m\n",
      "\u001b[90m#   month <dbl>, year <dbl>, word <chr>, value <dbl>\u001b[39m\n"
     ]
    }
   ],
   "source": [
    "trump_sentiments <- trump_tweets2 %>%\n",
    "    mutate(month = month(dt), year = year(dt)) %>%\n",
    "    unnest_tokens(input=text, output=word, token=\"tweets\") %>% \n",
    "    inner_join(sentiments) %>% print"
   ]
  },
  {
   "cell_type": "markdown",
   "metadata": {},
   "source": [
    "Average the sentiment by month for the full data set, and make a plot of the monthly average from 2014 to 2018. \n",
    "\n",
    "Trump declared his candidacy in June of 2015. Notice anything?"
   ]
  },
  {
   "cell_type": "code",
   "execution_count": 22,
   "metadata": {},
   "outputs": [
    {
     "name": "stderr",
     "output_type": "stream",
     "text": [
      "`summarise()` has grouped output by 'year'. You can override using the `.groups` argument.\n",
      "\n"
     ]
    },
    {
     "data": {
      "image/png": "[encoded data removed]",
      "text/plain": [
       "plot without title"
      ]
     },
     "metadata": {
      "image/png": {
       "height": 420,
       "width": 420
      }
     },
     "output_type": "display_data"
    }
   ],
   "source": [
    "trump_sentiments %>% group_by(year, month) %>% \n",
    "    summarize(m = mean(value), n = n()) %>% ungroup %>%\n",
    "    mutate(dev = m - mean(m), dt = make_date(year, month, 1)) %>% \n",
    "    ggplot + geom_col(aes(x = dt, y = dev))"
   ]
  },
  {
   "cell_type": "code",
   "execution_count": null,
   "metadata": {},
   "outputs": [],
   "source": []
  },
  {
   "cell_type": "code",
   "execution_count": null,
   "metadata": {},
   "outputs": [],
   "source": []
  },
  {
   "cell_type": "code",
   "execution_count": null,
   "metadata": {},
   "outputs": [],
   "source": []
  }
 ],
 "metadata": {
  "kernelspec": {
   "display_name": "R",
   "language": "R",
   "name": "ir"
  },
  "language_info": {
   "codemirror_mode": "r",
   "file_extension": ".r",
   "mimetype": "text/x-r-source",
   "name": "R",
   "pygments_lexer": "r",
   "version": "4.1.1"
  }
 },
 "nbformat": 4,
 "nbformat_minor": 1
}
