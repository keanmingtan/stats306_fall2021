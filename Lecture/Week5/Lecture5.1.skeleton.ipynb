{
 "cells": [
  {
   "cell_type": "markdown",
   "metadata": {},
   "source": [
    "# Lecture 5.1: More About Exploratory Data Analysis \n",
    "\n",
    "<div style=\"border: 1px double black; padding: 10px; margin: 10px\">\n",
    "\n",
    "**Goals for today's lecture:**\n",
    "* Continue on our Baseball Players Case Studies\n",
    "* the **covariation** between two variables:\n",
    "    \n",
    "This lecture note corresponds to parts of Chapter 7 of your book.\n",
    "</div>\n"
   ]
  },
  {
   "cell_type": "code",
   "execution_count": 2,
   "metadata": {},
   "outputs": [
    {
     "name": "stderr",
     "output_type": "stream",
     "text": [
      "── \u001b[1mAttaching packages\u001b[22m ─────────────────────────────────────── tidyverse 1.3.1 ──\n",
      "\n",
      "\u001b[32m✔\u001b[39m \u001b[34mggplot2\u001b[39m 3.3.5     \u001b[32m✔\u001b[39m \u001b[34mpurrr  \u001b[39m 0.3.4\n",
      "\u001b[32m✔\u001b[39m \u001b[34mtibble \u001b[39m 3.1.3     \u001b[32m✔\u001b[39m \u001b[34mdplyr  \u001b[39m 1.0.7\n",
      "\u001b[32m✔\u001b[39m \u001b[34mtidyr  \u001b[39m 1.1.3     \u001b[32m✔\u001b[39m \u001b[34mstringr\u001b[39m 1.4.0\n",
      "\u001b[32m✔\u001b[39m \u001b[34mreadr  \u001b[39m 2.0.1     \u001b[32m✔\u001b[39m \u001b[34mforcats\u001b[39m 0.5.1\n",
      "\n",
      "── \u001b[1mConflicts\u001b[22m ────────────────────────────────────────── tidyverse_conflicts() ──\n",
      "\u001b[31m✖\u001b[39m \u001b[34mdplyr\u001b[39m::\u001b[32mfilter()\u001b[39m masks \u001b[34mstats\u001b[39m::filter()\n",
      "\u001b[31m✖\u001b[39m \u001b[34mdplyr\u001b[39m::\u001b[32mlag()\u001b[39m    masks \u001b[34mstats\u001b[39m::lag()\n",
      "\n"
     ]
    }
   ],
   "source": [
    "library(tidyverse)\n",
    "library(nycflights13)"
   ]
  },
  {
   "cell_type": "markdown",
   "metadata": {},
   "source": [
    "## Case Studies \n",
    "\n",
    "### Who is the greatest batter of all time?\n",
    "The `Lahman` dataset contains information on baseball players.\n",
    "\n"
   ]
  },
  {
   "cell_type": "code",
   "execution_count": 3,
   "metadata": {},
   "outputs": [
    {
     "name": "stdout",
     "output_type": "stream",
     "text": [
      "\u001b[90m# A tibble: 108,789 × 22\u001b[39m\n",
      "   playerID  yearID stint teamID lgID      G    AB     R     H   X2B   X3B    HR\n",
      "   \u001b[3m\u001b[90m<chr>\u001b[39m\u001b[23m      \u001b[3m\u001b[90m<int>\u001b[39m\u001b[23m \u001b[3m\u001b[90m<int>\u001b[39m\u001b[23m \u001b[3m\u001b[90m<fct>\u001b[39m\u001b[23m  \u001b[3m\u001b[90m<fct>\u001b[39m\u001b[23m \u001b[3m\u001b[90m<int>\u001b[39m\u001b[23m \u001b[3m\u001b[90m<int>\u001b[39m\u001b[23m \u001b[3m\u001b[90m<int>\u001b[39m\u001b[23m \u001b[3m\u001b[90m<int>\u001b[39m\u001b[23m \u001b[3m\u001b[90m<int>\u001b[39m\u001b[23m \u001b[3m\u001b[90m<int>\u001b[39m\u001b[23m \u001b[3m\u001b[90m<int>\u001b[39m\u001b[23m\n",
      "\u001b[90m 1\u001b[39m abercda01   \u001b[4m1\u001b[24m871     1 TRO    NA        1     4     0     0     0     0     0\n",
      "\u001b[90m 2\u001b[39m addybo01    \u001b[4m1\u001b[24m871     1 RC1    NA       25   118    30    32     6     0     0\n",
      "\u001b[90m 3\u001b[39m allisar01   \u001b[4m1\u001b[24m871     1 CL1    NA       29   137    28    40     4     5     0\n",
      "\u001b[90m 4\u001b[39m allisdo01   \u001b[4m1\u001b[24m871     1 WS3    NA       27   133    28    44    10     2     2\n",
      "\u001b[90m 5\u001b[39m ansonca01   \u001b[4m1\u001b[24m871     1 RC1    NA       25   120    29    39    11     3     0\n",
      "\u001b[90m 6\u001b[39m armstbo01   \u001b[4m1\u001b[24m871     1 FW1    NA       12    49     9    11     2     1     0\n",
      "\u001b[90m 7\u001b[39m barkeal01   \u001b[4m1\u001b[24m871     1 RC1    NA        1     4     0     1     0     0     0\n",
      "\u001b[90m 8\u001b[39m barnero01   \u001b[4m1\u001b[24m871     1 BS1    NA       31   157    66    63    10     9     0\n",
      "\u001b[90m 9\u001b[39m barrebi01   \u001b[4m1\u001b[24m871     1 FW1    NA        1     5     1     1     1     0     0\n",
      "\u001b[90m10\u001b[39m barrofr01   \u001b[4m1\u001b[24m871     1 BS1    NA       18    86    13    13     2     1     0\n",
      "\u001b[90m# … with 108,779 more rows, and 10 more variables: RBI <int>, SB <int>,\u001b[39m\n",
      "\u001b[90m#   CS <int>, BB <int>, SO <int>, IBB <int>, HBP <int>, SH <int>, SF <int>,\u001b[39m\n",
      "\u001b[90m#   GIDP <int>\u001b[39m\n"
     ]
    }
   ],
   "source": [
    "# install.packages(\"Lahman\")\n",
    "library(Lahman)\n",
    "bat <- as_tibble(Batting) %>% print"
   ]
  },
  {
   "cell_type": "markdown",
   "metadata": {},
   "source": [
    "### Exercise\n",
    "Output all the years in which the batting average for those years for cobbty01 is less than his bat_avg across all years. That is, we are interested in knowing which year cobbty01 underperform.    "
   ]
  },
  {
   "cell_type": "code",
   "execution_count": 4,
   "metadata": {},
   "outputs": [
    {
     "name": "stdout",
     "output_type": "stream",
     "text": [
      "\u001b[90m# A tibble: 10 × 24\u001b[39m\n",
      "   playerID yearID stint teamID lgID      G    AB     R     H   X2B   X3B    HR\n",
      "   \u001b[3m\u001b[90m<chr>\u001b[39m\u001b[23m     \u001b[3m\u001b[90m<int>\u001b[39m\u001b[23m \u001b[3m\u001b[90m<int>\u001b[39m\u001b[23m \u001b[3m\u001b[90m<fct>\u001b[39m\u001b[23m  \u001b[3m\u001b[90m<fct>\u001b[39m\u001b[23m \u001b[3m\u001b[90m<int>\u001b[39m\u001b[23m \u001b[3m\u001b[90m<int>\u001b[39m\u001b[23m \u001b[3m\u001b[90m<int>\u001b[39m\u001b[23m \u001b[3m\u001b[90m<int>\u001b[39m\u001b[23m \u001b[3m\u001b[90m<int>\u001b[39m\u001b[23m \u001b[3m\u001b[90m<int>\u001b[39m\u001b[23m \u001b[3m\u001b[90m<int>\u001b[39m\u001b[23m\n",
      "\u001b[90m 1\u001b[39m cobbty01   \u001b[4m1\u001b[24m905     1 DET    AL       41   151    19    36     6     0     1\n",
      "\u001b[90m 2\u001b[39m cobbty01   \u001b[4m1\u001b[24m906     1 DET    AL       98   358    45   113    15     5     1\n",
      "\u001b[90m 3\u001b[39m cobbty01   \u001b[4m1\u001b[24m907     1 DET    AL      150   605    99   212    28    14     5\n",
      "\u001b[90m 4\u001b[39m cobbty01   \u001b[4m1\u001b[24m908     1 DET    AL      150   580    88   188    36    20     4\n",
      "\u001b[90m 5\u001b[39m cobbty01   \u001b[4m1\u001b[24m920     1 DET    AL      112   428    86   143    28     8     2\n",
      "\u001b[90m 6\u001b[39m cobbty01   \u001b[4m1\u001b[24m923     1 DET    AL      145   556   103   189    40     7     6\n",
      "\u001b[90m 7\u001b[39m cobbty01   \u001b[4m1\u001b[24m924     1 DET    AL      155   625   115   211    38    10     4\n",
      "\u001b[90m 8\u001b[39m cobbty01   \u001b[4m1\u001b[24m926     1 DET    AL       79   233    48    79    18     5     4\n",
      "\u001b[90m 9\u001b[39m cobbty01   \u001b[4m1\u001b[24m927     1 PHA    AL      134   490   104   175    32     7     5\n",
      "\u001b[90m10\u001b[39m cobbty01   \u001b[4m1\u001b[24m928     1 PHA    AL       95   353    54   114    27     4     1\n",
      "\u001b[90m# … with 12 more variables: RBI <int>, SB <int>, CS <int>, BB <int>, SO <int>,\u001b[39m\n",
      "\u001b[90m#   IBB <int>, HBP <int>, SH <int>, SF <int>, GIDP <int>, bat_avg <dbl>,\u001b[39m\n",
      "\u001b[90m#   bat_avg_year <dbl>\u001b[39m\n"
     ]
    }
   ],
   "source": [
    "bat %>% filter(playerID==\"cobbty01\") %>% \n",
    "mutate(bat_avg = sum(H, na.rm = T) / sum(AB, na.rm = T), bat_avg_year = H/AB) %>%\n",
    "filter(bat_avg_year < bat_avg) %>% print"
   ]
  },
  {
   "cell_type": "markdown",
   "metadata": {},
   "source": [
    "## Exercise\n",
    "Now output all rows for each player that underperform, that is, their bat_avg_year is less than bat_avg.\n",
    "\n",
    "That is, we are interested in knowing whether there is any specific year that the players underperform. "
   ]
  },
  {
   "cell_type": "code",
   "execution_count": null,
   "metadata": {},
   "outputs": [],
   "source": []
  },
  {
   "cell_type": "markdown",
   "metadata": {},
   "source": [
    "## Exercise\n",
    "Write code to find the player with the highest bat_avg for each team. You may find the function `slice_max` useful."
   ]
  },
  {
   "cell_type": "code",
   "execution_count": null,
   "metadata": {},
   "outputs": [],
   "source": []
  },
  {
   "cell_type": "markdown",
   "metadata": {},
   "source": [
    "## Names of baseball players\n",
    "\n",
    "Let us think more about names. Naming frequencies change a lot over time. There are 19617 baseball players in this data set. How have their names changed over time?\n",
    "\n",
    "We are going to extract the first name and last name in our data set `Lahman::Master` by linking the playerID."
   ]
  },
  {
   "cell_type": "code",
   "execution_count": null,
   "metadata": {},
   "outputs": [],
   "source": []
  },
  {
   "cell_type": "markdown",
   "metadata": {},
   "source": [
    "## Exercise\n",
    "What were the top five most common first names for players born before 1900? After 1980?"
   ]
  },
  {
   "cell_type": "code",
   "execution_count": null,
   "metadata": {},
   "outputs": [],
   "source": []
  },
  {
   "cell_type": "markdown",
   "metadata": {},
   "source": [
    "One thing we notice is that there are a lot of nicknames. It might make more sense to look at the \"given name\", which is usually the first and middle names. To do this, we will need to split up these names. There is a built-in command for doing this in R:"
   ]
  },
  {
   "cell_type": "code",
   "execution_count": null,
   "metadata": {},
   "outputs": [],
   "source": []
  },
  {
   "cell_type": "markdown",
   "metadata": {},
   "source": [
    "## Exercise\n",
    "What were the top five most common first names for players born before 1900? After 1980?"
   ]
  },
  {
   "cell_type": "code",
   "execution_count": null,
   "metadata": {},
   "outputs": [],
   "source": []
  },
  {
   "cell_type": "markdown",
   "metadata": {},
   "source": [
    "## Finding distinct values\n",
    "\n",
    "Here's an example: I want to know how many distinct values are there? The `n_distinct()` function takes a vector of values, and returns the number of distinct values:"
   ]
  },
  {
   "cell_type": "code",
   "execution_count": null,
   "metadata": {},
   "outputs": [],
   "source": []
  },
  {
   "cell_type": "markdown",
   "metadata": {},
   "source": [
    "## Exercise\n",
    "How many distinct names were there among players born before 1900? After 1980?"
   ]
  },
  {
   "cell_type": "code",
   "execution_count": null,
   "metadata": {},
   "outputs": [],
   "source": []
  },
  {
   "cell_type": "markdown",
   "metadata": {},
   "source": [
    "Are there more or less unique names now than there were in the past? Let's consider the number of distinct names seen in each year:"
   ]
  },
  {
   "cell_type": "code",
   "execution_count": null,
   "metadata": {},
   "outputs": [],
   "source": []
  },
  {
   "cell_type": "markdown",
   "metadata": {},
   "source": [
    "# Covariation Between Two Variables"
   ]
  },
  {
   "cell_type": "markdown",
   "metadata": {},
   "source": [
    "### A Categorical and A Continuous Variable"
   ]
  },
  {
   "cell_type": "code",
   "execution_count": 19,
   "metadata": {},
   "outputs": [
    {
     "name": "stdout",
     "output_type": "stream",
     "text": [
      "\u001b[38;5;246m# A tibble: 234 x 11\u001b[39m\n",
      "   manufacturer model    displ  year   cyl trans   drv     cty   hwy fl    class\n",
      "   \u001b[3m\u001b[38;5;246m<chr>\u001b[39m\u001b[23m        \u001b[3m\u001b[38;5;246m<chr>\u001b[39m\u001b[23m    \u001b[3m\u001b[38;5;246m<dbl>\u001b[39m\u001b[23m \u001b[3m\u001b[38;5;246m<int>\u001b[39m\u001b[23m \u001b[3m\u001b[38;5;246m<int>\u001b[39m\u001b[23m \u001b[3m\u001b[38;5;246m<chr>\u001b[39m\u001b[23m   \u001b[3m\u001b[38;5;246m<chr>\u001b[39m\u001b[23m \u001b[3m\u001b[38;5;246m<int>\u001b[39m\u001b[23m \u001b[3m\u001b[38;5;246m<int>\u001b[39m\u001b[23m \u001b[3m\u001b[38;5;246m<chr>\u001b[39m\u001b[23m \u001b[3m\u001b[38;5;246m<chr>\u001b[39m\u001b[23m\n",
      "\u001b[38;5;250m 1\u001b[39m audi         a4         1.8  \u001b[4m1\u001b[24m999     4 auto(l… f        18    29 p     comp…\n",
      "\u001b[38;5;250m 2\u001b[39m audi         a4         1.8  \u001b[4m1\u001b[24m999     4 manual… f        21    29 p     comp…\n",
      "\u001b[38;5;250m 3\u001b[39m audi         a4         2    \u001b[4m2\u001b[24m008     4 manual… f        20    31 p     comp…\n",
      "\u001b[38;5;250m 4\u001b[39m audi         a4         2    \u001b[4m2\u001b[24m008     4 auto(a… f        21    30 p     comp…\n",
      "\u001b[38;5;250m 5\u001b[39m audi         a4         2.8  \u001b[4m1\u001b[24m999     6 auto(l… f        16    26 p     comp…\n",
      "\u001b[38;5;250m 6\u001b[39m audi         a4         2.8  \u001b[4m1\u001b[24m999     6 manual… f        18    26 p     comp…\n",
      "\u001b[38;5;250m 7\u001b[39m audi         a4         3.1  \u001b[4m2\u001b[24m008     6 auto(a… f        18    27 p     comp…\n",
      "\u001b[38;5;250m 8\u001b[39m audi         a4 quat…   1.8  \u001b[4m1\u001b[24m999     4 manual… 4        18    26 p     comp…\n",
      "\u001b[38;5;250m 9\u001b[39m audi         a4 quat…   1.8  \u001b[4m1\u001b[24m999     4 auto(l… 4        16    25 p     comp…\n",
      "\u001b[38;5;250m10\u001b[39m audi         a4 quat…   2    \u001b[4m2\u001b[24m008     4 manual… 4        20    28 p     comp…\n",
      "\u001b[38;5;246m# … with 224 more rows\u001b[39m\n"
     ]
    }
   ],
   "source": [
    "print(mpg)"
   ]
  },
  {
   "cell_type": "markdown",
   "metadata": {},
   "source": [
    "We can map a categorical variable to, say, the **color** aesthetic in a frequency polygon of a continuous variable."
   ]
  },
  {
   "cell_type": "code",
   "execution_count": null,
   "metadata": {},
   "outputs": [],
   "source": []
  },
  {
   "cell_type": "markdown",
   "metadata": {},
   "source": [
    "Mapping the `color` aesthetic to the `class` variable in a histogram does not have a good effect."
   ]
  },
  {
   "cell_type": "code",
   "execution_count": null,
   "metadata": {},
   "outputs": [],
   "source": []
  },
  {
   "cell_type": "markdown",
   "metadata": {},
   "source": [
    "Changing the **fill** aesthetic to the **color** aesthetic improves the appearance but the plot remains problematic."
   ]
  },
  {
   "cell_type": "code",
   "execution_count": null,
   "metadata": {},
   "outputs": [],
   "source": []
  },
  {
   "cell_type": "markdown",
   "metadata": {},
   "source": [
    "Another thing we can do with a categorical, continuous pair is to use a **boxplot**."
   ]
  },
  {
   "cell_type": "code",
   "execution_count": null,
   "metadata": {},
   "outputs": [],
   "source": []
  },
  {
   "cell_type": "markdown",
   "metadata": {},
   "source": [
    "* The lower and upper hinges correspond to the first and third quartiles (the 25th and 75th percentiles).\n",
    "* The upper whisker extends from the hinge to the largest value no further than 1.5 * IQR from the hinge (where IQR is the inter-quartile range, or distance between the first and third quartiles).\n",
    "* The lower whisker extends from the hinge to the smallest value at most 1.5 * IQR of the hinge.\n",
    "* Data beyond the end of the whiskers are called \"outlying\" points and are plotted individually."
   ]
  },
  {
   "cell_type": "markdown",
   "metadata": {},
   "source": [
    "To replot with `class` values listed in order of the median value for `cty`, we can use the `reorder()` function.\n",
    "\n",
    "```\n",
    "reorder(cat, con, FUN = median)\n",
    "```\n",
    "\n",
    "reorders the levels of the categorical variable `cat` according the continuous variable `con`. The function `median()` is applied the the `con` values corresponding to a fixed level of `cat`. Default value of the `FUN` argument is `mean`."
   ]
  },
  {
   "cell_type": "code",
   "execution_count": null,
   "metadata": {},
   "outputs": [],
   "source": []
  },
  {
   "cell_type": "markdown",
   "metadata": {},
   "source": [
    "We can flip the x, y axes if the categorical level names are long"
   ]
  },
  {
   "cell_type": "code",
   "execution_count": null,
   "metadata": {},
   "outputs": [],
   "source": []
  },
  {
   "cell_type": "markdown",
   "metadata": {},
   "source": [
    "Contrast this with faceting the `cty` histogram on the `class` variable."
   ]
  },
  {
   "cell_type": "code",
   "execution_count": null,
   "metadata": {},
   "outputs": [],
   "source": []
  },
  {
   "cell_type": "markdown",
   "metadata": {},
   "source": [
    "We can also superimpose the points themselves on top of the boxplot by adding `geom_jitter`. But it is a good idea to hide the outliers by setting `outlier.shape = NA` first."
   ]
  },
  {
   "cell_type": "code",
   "execution_count": null,
   "metadata": {},
   "outputs": [],
   "source": []
  },
  {
   "cell_type": "markdown",
   "metadata": {},
   "source": [
    "# Two categorical variables"
   ]
  },
  {
   "cell_type": "markdown",
   "metadata": {},
   "source": [
    "`geom_count` can be used to visualize two categorical variables.`geom_count` can be used to visualize two categorical variables."
   ]
  },
  {
   "cell_type": "code",
   "execution_count": null,
   "metadata": {},
   "outputs": [],
   "source": []
  },
  {
   "cell_type": "markdown",
   "metadata": {},
   "source": [
    "We can compute these numbers using `count()`."
   ]
  },
  {
   "cell_type": "code",
   "execution_count": null,
   "metadata": {},
   "outputs": [],
   "source": []
  },
  {
   "cell_type": "markdown",
   "metadata": {},
   "source": [
    "These counts can be fed to other geometries."
   ]
  },
  {
   "cell_type": "code",
   "execution_count": null,
   "metadata": {},
   "outputs": [],
   "source": []
  },
  {
   "cell_type": "markdown",
   "metadata": {},
   "source": [
    "# Two continuous variables"
   ]
  },
  {
   "cell_type": "markdown",
   "metadata": {},
   "source": [
    "We already know a lot about scatterplots. Once you have too many points, you may want to use `geom_bin2d` or `geom_hex`.We already know a lot about scatterplots. Once you have too many points, you may want to use `geom_bin2d` or `geom_hex`."
   ]
  },
  {
   "cell_type": "code",
   "execution_count": null,
   "metadata": {},
   "outputs": [],
   "source": []
  },
  {
   "cell_type": "markdown",
   "metadata": {},
   "source": [
    "Sometimes setting the transparency of points using `alpha` can help."
   ]
  },
  {
   "cell_type": "code",
   "execution_count": null,
   "metadata": {},
   "outputs": [],
   "source": []
  },
  {
   "cell_type": "code",
   "execution_count": null,
   "metadata": {},
   "outputs": [],
   "source": []
  },
  {
   "cell_type": "markdown",
   "metadata": {},
   "source": [
    "Let us try to see what happens if we use a boxplot with 2 continuous variables: `price` as a function of `carat` for the `diamonds` tibble."
   ]
  },
  {
   "cell_type": "code",
   "execution_count": null,
   "metadata": {},
   "outputs": [],
   "source": []
  },
  {
   "cell_type": "markdown",
   "metadata": {},
   "source": [
    "If outliers run into each other, you could adjust `outlier.alpha`."
   ]
  },
  {
   "cell_type": "code",
   "execution_count": null,
   "metadata": {},
   "outputs": [],
   "source": []
  }
 ],
 "metadata": {
  "kernelspec": {
   "display_name": "R",
   "language": "R",
   "name": "ir"
  },
  "language_info": {
   "codemirror_mode": "r",
   "file_extension": ".r",
   "mimetype": "text/x-r-source",
   "name": "R",
   "pygments_lexer": "r",
   "version": "4.0.2"
  }
 },
 "nbformat": 4,
 "nbformat_minor": 1
}
