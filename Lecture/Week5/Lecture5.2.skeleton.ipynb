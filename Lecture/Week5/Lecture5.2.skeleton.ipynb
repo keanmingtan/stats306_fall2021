{
 "cells": [
  {
   "cell_type": "markdown",
   "metadata": {},
   "source": [
    "# Lecture 5.2: Tidy Data\n",
    "\n",
    "<div style=\"border: 1px double black; padding: 10px; margin: 10px\">\n",
    "\n",
    "**After today's lecture you will:**\n",
    "* Understand what makes [tidy data](#Tidy-data) and why we care\n",
    "* [Gather](#Gather) multiple columns into one\n",
    "* [Spread](#Spread) one column into several\n",
    "* [Separate](#Separate) and [unite](#Unite) columns\n",
    "* Impute [missing values](#Missing-values)\n",
    "    \n",
    "This lecture note corresponds to Chapter 12 of your book. \n",
    "</div>\n",
    "\n",
    "\n",
    "    \n",
    "\n",
    "\n"
   ]
  },
  {
   "cell_type": "code",
   "execution_count": 1,
   "metadata": {},
   "outputs": [
    {
     "name": "stderr",
     "output_type": "stream",
     "text": [
      "── \u001b[1mAttaching packages\u001b[22m ─────────────────────────────────────── tidyverse 1.3.0 ──\n",
      "\n",
      "\u001b[32m✔\u001b[39m \u001b[34mggplot2\u001b[39m 3.3.2     \u001b[32m✔\u001b[39m \u001b[34mpurrr  \u001b[39m 0.3.4\n",
      "\u001b[32m✔\u001b[39m \u001b[34mtibble \u001b[39m 3.0.3     \u001b[32m✔\u001b[39m \u001b[34mdplyr  \u001b[39m 1.0.2\n",
      "\u001b[32m✔\u001b[39m \u001b[34mtidyr  \u001b[39m 1.1.1     \u001b[32m✔\u001b[39m \u001b[34mstringr\u001b[39m 1.4.0\n",
      "\u001b[32m✔\u001b[39m \u001b[34mreadr  \u001b[39m 1.3.1     \u001b[32m✔\u001b[39m \u001b[34mforcats\u001b[39m 0.5.0\n",
      "\n",
      "── \u001b[1mConflicts\u001b[22m ────────────────────────────────────────── tidyverse_conflicts() ──\n",
      "\u001b[31m✖\u001b[39m \u001b[34mdplyr\u001b[39m::\u001b[32mfilter()\u001b[39m masks \u001b[34mstats\u001b[39m::filter()\n",
      "\u001b[31m✖\u001b[39m \u001b[34mdplyr\u001b[39m::\u001b[32mlag()\u001b[39m    masks \u001b[34mstats\u001b[39m::lag()\n",
      "\n"
     ]
    }
   ],
   "source": [
    "library(tidyverse)"
   ]
  },
  {
   "cell_type": "markdown",
   "metadata": {},
   "source": [
    "## Tidy data\n",
    "There are many different ways to represent data in a table, but some are better than others.\n",
    "We say that a data table is \"[tidy](http://vita.had.co.nz/papers/tidy-data.pdf)\" if:\n",
    "- Each row represents an observation.\n",
    "- Each column represents a variable.\n",
    "- Each value gets its own cell.\n",
    "- Each different type of data set gets its own table.\n",
    "\n",
    "Data tables which are not tidy are called messy!\n",
    "![http://r4ds.had.co.nz/images/tidy-1.png](http://r4ds.had.co.nz/images/tidy-1.png)"
   ]
  },
  {
   "cell_type": "markdown",
   "metadata": {},
   "source": [
    "## Why we care about tidy data\n",
    "The tools we have learned so far all live in the `tidyverse`. This means that each tool expect to recieve tidy data as input, and, where necessary, returns tidy data as output. You can think of tidy data as a sort of contract that everything in `tidyverse` respects. This makes it possible to string many tidyverse commands together using `%>%`  without having to worry about whether they all work together."
   ]
  },
  {
   "cell_type": "markdown",
   "metadata": {},
   "source": [
    "The mutate command expects tidy data and returns tidy data.\n",
    "\n",
    "In the following, we are going to ouput several tables data.  These `table` data are part of your `tidyverse` package."
   ]
  },
  {
   "cell_type": "code",
   "execution_count": 3,
   "metadata": {},
   "outputs": [
    {
     "name": "stdout",
     "output_type": "stream",
     "text": [
      "\u001b[38;5;246m# A tibble: 6 x 4\u001b[39m\n",
      "  country      year  cases population\n",
      "  \u001b[3m\u001b[38;5;246m<chr>\u001b[39m\u001b[23m       \u001b[3m\u001b[38;5;246m<int>\u001b[39m\u001b[23m  \u001b[3m\u001b[38;5;246m<int>\u001b[39m\u001b[23m      \u001b[3m\u001b[38;5;246m<int>\u001b[39m\u001b[23m\n",
      "\u001b[38;5;250m1\u001b[39m Afghanistan  \u001b[4m1\u001b[24m999    745   19\u001b[4m9\u001b[24m\u001b[4m8\u001b[24m\u001b[4m7\u001b[24m071\n",
      "\u001b[38;5;250m2\u001b[39m Afghanistan  \u001b[4m2\u001b[24m000   \u001b[4m2\u001b[24m666   20\u001b[4m5\u001b[24m\u001b[4m9\u001b[24m\u001b[4m5\u001b[24m360\n",
      "\u001b[38;5;250m3\u001b[39m Brazil       \u001b[4m1\u001b[24m999  \u001b[4m3\u001b[24m\u001b[4m7\u001b[24m737  172\u001b[4m0\u001b[24m\u001b[4m0\u001b[24m\u001b[4m6\u001b[24m362\n",
      "\u001b[38;5;250m4\u001b[39m Brazil       \u001b[4m2\u001b[24m000  \u001b[4m8\u001b[24m\u001b[4m0\u001b[24m488  174\u001b[4m5\u001b[24m\u001b[4m0\u001b[24m\u001b[4m4\u001b[24m898\n",
      "\u001b[38;5;250m5\u001b[39m China        \u001b[4m1\u001b[24m999 \u001b[4m2\u001b[24m\u001b[4m1\u001b[24m\u001b[4m2\u001b[24m258 \u001b[4m1\u001b[24m272\u001b[4m9\u001b[24m\u001b[4m1\u001b[24m\u001b[4m5\u001b[24m272\n",
      "\u001b[38;5;250m6\u001b[39m China        \u001b[4m2\u001b[24m000 \u001b[4m2\u001b[24m\u001b[4m1\u001b[24m\u001b[4m3\u001b[24m766 \u001b[4m1\u001b[24m280\u001b[4m4\u001b[24m\u001b[4m2\u001b[24m\u001b[4m8\u001b[24m583\n"
     ]
    }
   ],
   "source": [
    "print(table1)"
   ]
  },
  {
   "cell_type": "markdown",
   "metadata": {},
   "source": [
    "In the above data set, each column is a variable and every entries in the same column is of the same type. So therefore this data set is tidy.\n",
    "\n",
    "Now let us take a look at the following data set obtained by merging the cases and population into the `type` variable."
   ]
  },
  {
   "cell_type": "code",
   "execution_count": 3,
   "metadata": {},
   "outputs": [
    {
     "name": "stdout",
     "output_type": "stream",
     "text": [
      "\u001b[38;5;246m# A tibble: 12 x 4\u001b[39m\n",
      "   country      year type            count\n",
      "   \u001b[3m\u001b[38;5;246m<chr>\u001b[39m\u001b[23m       \u001b[3m\u001b[38;5;246m<int>\u001b[39m\u001b[23m \u001b[3m\u001b[38;5;246m<chr>\u001b[39m\u001b[23m           \u001b[3m\u001b[38;5;246m<int>\u001b[39m\u001b[23m\n",
      "\u001b[38;5;250m 1\u001b[39m Afghanistan  \u001b[4m1\u001b[24m999 cases             745\n",
      "\u001b[38;5;250m 2\u001b[39m Afghanistan  \u001b[4m1\u001b[24m999 population   19\u001b[4m9\u001b[24m\u001b[4m8\u001b[24m\u001b[4m7\u001b[24m071\n",
      "\u001b[38;5;250m 3\u001b[39m Afghanistan  \u001b[4m2\u001b[24m000 cases            \u001b[4m2\u001b[24m666\n",
      "\u001b[38;5;250m 4\u001b[39m Afghanistan  \u001b[4m2\u001b[24m000 population   20\u001b[4m5\u001b[24m\u001b[4m9\u001b[24m\u001b[4m5\u001b[24m360\n",
      "\u001b[38;5;250m 5\u001b[39m Brazil       \u001b[4m1\u001b[24m999 cases           \u001b[4m3\u001b[24m\u001b[4m7\u001b[24m737\n",
      "\u001b[38;5;250m 6\u001b[39m Brazil       \u001b[4m1\u001b[24m999 population  172\u001b[4m0\u001b[24m\u001b[4m0\u001b[24m\u001b[4m6\u001b[24m362\n",
      "\u001b[38;5;250m 7\u001b[39m Brazil       \u001b[4m2\u001b[24m000 cases           \u001b[4m8\u001b[24m\u001b[4m0\u001b[24m488\n",
      "\u001b[38;5;250m 8\u001b[39m Brazil       \u001b[4m2\u001b[24m000 population  174\u001b[4m5\u001b[24m\u001b[4m0\u001b[24m\u001b[4m4\u001b[24m898\n",
      "\u001b[38;5;250m 9\u001b[39m China        \u001b[4m1\u001b[24m999 cases          \u001b[4m2\u001b[24m\u001b[4m1\u001b[24m\u001b[4m2\u001b[24m258\n",
      "\u001b[38;5;250m10\u001b[39m China        \u001b[4m1\u001b[24m999 population \u001b[4m1\u001b[24m272\u001b[4m9\u001b[24m\u001b[4m1\u001b[24m\u001b[4m5\u001b[24m272\n",
      "\u001b[38;5;250m11\u001b[39m China        \u001b[4m2\u001b[24m000 cases          \u001b[4m2\u001b[24m\u001b[4m1\u001b[24m\u001b[4m3\u001b[24m766\n",
      "\u001b[38;5;250m12\u001b[39m China        \u001b[4m2\u001b[24m000 population \u001b[4m1\u001b[24m280\u001b[4m4\u001b[24m\u001b[4m2\u001b[24m\u001b[4m8\u001b[24m583\n"
     ]
    }
   ],
   "source": [
    "print(table2)"
   ]
  },
  {
   "cell_type": "markdown",
   "metadata": {},
   "source": [
    "In the type column, you have two variables cases and population.   For a data to be tidy, each variable needs to be in each column.  So this data is messy.\n",
    "\n",
    "How about the following table? "
   ]
  },
  {
   "cell_type": "code",
   "execution_count": 7,
   "metadata": {},
   "outputs": [
    {
     "name": "stdout",
     "output_type": "stream",
     "text": [
      "\u001b[38;5;246m# A tibble: 6 x 3\u001b[39m\n",
      "  country      year rate             \n",
      "\u001b[38;5;250m*\u001b[39m \u001b[3m\u001b[38;5;246m<chr>\u001b[39m\u001b[23m       \u001b[3m\u001b[38;5;246m<int>\u001b[39m\u001b[23m \u001b[3m\u001b[38;5;246m<chr>\u001b[39m\u001b[23m            \n",
      "\u001b[38;5;250m1\u001b[39m Afghanistan  \u001b[4m1\u001b[24m999 745/19987071     \n",
      "\u001b[38;5;250m2\u001b[39m Afghanistan  \u001b[4m2\u001b[24m000 2666/20595360    \n",
      "\u001b[38;5;250m3\u001b[39m Brazil       \u001b[4m1\u001b[24m999 37737/172006362  \n",
      "\u001b[38;5;250m4\u001b[39m Brazil       \u001b[4m2\u001b[24m000 80488/174504898  \n",
      "\u001b[38;5;250m5\u001b[39m China        \u001b[4m1\u001b[24m999 212258/1272915272\n",
      "\u001b[38;5;250m6\u001b[39m China        \u001b[4m2\u001b[24m000 213766/1280428583\n"
     ]
    }
   ],
   "source": [
    "table3 %>% print"
   ]
  },
  {
   "cell_type": "markdown",
   "metadata": {},
   "source": [
    "The above table is also messy, because the counts for cases and population is defined as a division in the variable rate.  So this data is also messy."
   ]
  },
  {
   "cell_type": "code",
   "execution_count": 9,
   "metadata": {},
   "outputs": [
    {
     "name": "stdout",
     "output_type": "stream",
     "text": [
      "\u001b[38;5;246m# A tibble: 3 x 3\u001b[39m\n",
      "  country     `1999` `2000`\n",
      "\u001b[38;5;250m*\u001b[39m \u001b[3m\u001b[38;5;246m<chr>\u001b[39m\u001b[23m        \u001b[3m\u001b[38;5;246m<int>\u001b[39m\u001b[23m  \u001b[3m\u001b[38;5;246m<int>\u001b[39m\u001b[23m\n",
      "\u001b[38;5;250m1\u001b[39m Afghanistan    745   \u001b[4m2\u001b[24m666\n",
      "\u001b[38;5;250m2\u001b[39m Brazil       \u001b[4m3\u001b[24m\u001b[4m7\u001b[24m737  \u001b[4m8\u001b[24m\u001b[4m0\u001b[24m488\n",
      "\u001b[38;5;250m3\u001b[39m China       \u001b[4m2\u001b[24m\u001b[4m1\u001b[24m\u001b[4m2\u001b[24m258 \u001b[4m2\u001b[24m\u001b[4m1\u001b[24m\u001b[4m3\u001b[24m766\n",
      "\u001b[38;5;246m# A tibble: 3 x 3\u001b[39m\n",
      "  country         `1999`     `2000`\n",
      "\u001b[38;5;250m*\u001b[39m \u001b[3m\u001b[38;5;246m<chr>\u001b[39m\u001b[23m            \u001b[3m\u001b[38;5;246m<int>\u001b[39m\u001b[23m      \u001b[3m\u001b[38;5;246m<int>\u001b[39m\u001b[23m\n",
      "\u001b[38;5;250m1\u001b[39m Afghanistan   19\u001b[4m9\u001b[24m\u001b[4m8\u001b[24m\u001b[4m7\u001b[24m071   20\u001b[4m5\u001b[24m\u001b[4m9\u001b[24m\u001b[4m5\u001b[24m360\n",
      "\u001b[38;5;250m2\u001b[39m Brazil       172\u001b[4m0\u001b[24m\u001b[4m0\u001b[24m\u001b[4m6\u001b[24m362  174\u001b[4m5\u001b[24m\u001b[4m0\u001b[24m\u001b[4m4\u001b[24m898\n",
      "\u001b[38;5;250m3\u001b[39m China       \u001b[4m1\u001b[24m272\u001b[4m9\u001b[24m\u001b[4m1\u001b[24m\u001b[4m5\u001b[24m272 \u001b[4m1\u001b[24m280\u001b[4m4\u001b[24m\u001b[4m2\u001b[24m\u001b[4m8\u001b[24m583\n"
     ]
    }
   ],
   "source": [
    "print(table4a) # cases in one tibble\n",
    "print(table4b) # population in another one"
   ]
  },
  {
   "cell_type": "markdown",
   "metadata": {},
   "source": [
    "The above is a messy data, since each observation for different year is separated into columns."
   ]
  },
  {
   "cell_type": "markdown",
   "metadata": {},
   "source": [
    "Recapping: tidy data means\n",
    "\n",
    "* each observation has its own row\n",
    "* each variable has its own column\n",
    "* each value has its own cell"
   ]
  },
  {
   "cell_type": "markdown",
   "metadata": {},
   "source": [
    "## Why we care about tidy data\n",
    "The tools we have learned so far all live in the `tidyverse`. This means that each tool expects to recieve tidy data as input, and, where necessary, returns tidy data as output. You can think of tidy data as a sort of contract that everything in `tidyverse` respects. This makes it possible to string many tidyverse commands together using `%>%`  without having to worry about whether they all work together.\n",
    "\n",
    "For instance, let us calculate rate of cases per 10000 people for the data in `table1`."
   ]
  },
  {
   "cell_type": "code",
   "execution_count": 10,
   "metadata": {},
   "outputs": [
    {
     "data": {
      "text/html": [
       "<table>\n",
       "<caption>A tibble: 6 × 5</caption>\n",
       "<thead>\n",
       "\t<tr><th scope=col>country</th><th scope=col>year</th><th scope=col>cases</th><th scope=col>population</th><th scope=col>rate</th></tr>\n",
       "\t<tr><th scope=col>&lt;chr&gt;</th><th scope=col>&lt;int&gt;</th><th scope=col>&lt;int&gt;</th><th scope=col>&lt;int&gt;</th><th scope=col>&lt;dbl&gt;</th></tr>\n",
       "</thead>\n",
       "<tbody>\n",
       "\t<tr><td>Afghanistan</td><td>1999</td><td>   745</td><td>  19987071</td><td>0.372741</td></tr>\n",
       "\t<tr><td>Afghanistan</td><td>2000</td><td>  2666</td><td>  20595360</td><td>1.294466</td></tr>\n",
       "\t<tr><td>Brazil     </td><td>1999</td><td> 37737</td><td> 172006362</td><td>2.193930</td></tr>\n",
       "\t<tr><td>Brazil     </td><td>2000</td><td> 80488</td><td> 174504898</td><td>4.612363</td></tr>\n",
       "\t<tr><td>China      </td><td>1999</td><td>212258</td><td>1272915272</td><td>1.667495</td></tr>\n",
       "\t<tr><td>China      </td><td>2000</td><td>213766</td><td>1280428583</td><td>1.669488</td></tr>\n",
       "</tbody>\n",
       "</table>\n"
      ],
      "text/latex": [
       "A tibble: 6 × 5\n",
       "\\begin{tabular}{lllll}\n",
       " country & year & cases & population & rate\\\\\n",
       " <chr> & <int> & <int> & <int> & <dbl>\\\\\n",
       "\\hline\n",
       "\t Afghanistan & 1999 &    745 &   19987071 & 0.372741\\\\\n",
       "\t Afghanistan & 2000 &   2666 &   20595360 & 1.294466\\\\\n",
       "\t Brazil      & 1999 &  37737 &  172006362 & 2.193930\\\\\n",
       "\t Brazil      & 2000 &  80488 &  174504898 & 4.612363\\\\\n",
       "\t China       & 1999 & 212258 & 1272915272 & 1.667495\\\\\n",
       "\t China       & 2000 & 213766 & 1280428583 & 1.669488\\\\\n",
       "\\end{tabular}\n"
      ],
      "text/markdown": [
       "\n",
       "A tibble: 6 × 5\n",
       "\n",
       "| country &lt;chr&gt; | year &lt;int&gt; | cases &lt;int&gt; | population &lt;int&gt; | rate &lt;dbl&gt; |\n",
       "|---|---|---|---|---|\n",
       "| Afghanistan | 1999 |    745 |   19987071 | 0.372741 |\n",
       "| Afghanistan | 2000 |   2666 |   20595360 | 1.294466 |\n",
       "| Brazil      | 1999 |  37737 |  172006362 | 2.193930 |\n",
       "| Brazil      | 2000 |  80488 |  174504898 | 4.612363 |\n",
       "| China       | 1999 | 212258 | 1272915272 | 1.667495 |\n",
       "| China       | 2000 | 213766 | 1280428583 | 1.669488 |\n",
       "\n"
      ],
      "text/plain": [
       "  country     year cases  population rate    \n",
       "1 Afghanistan 1999    745   19987071 0.372741\n",
       "2 Afghanistan 2000   2666   20595360 1.294466\n",
       "3 Brazil      1999  37737  172006362 2.193930\n",
       "4 Brazil      2000  80488  174504898 4.612363\n",
       "5 China       1999 212258 1272915272 1.667495\n",
       "6 China       2000 213766 1280428583 1.669488"
      ]
     },
     "metadata": {},
     "output_type": "display_data"
    }
   ],
   "source": [
    "mutate(table1, rate = cases / population * 10000) # rate of cases per 10000 peoplev"
   ]
  },
  {
   "cell_type": "markdown",
   "metadata": {},
   "source": [
    "How would we calculate the `rate` variable using `table2`? "
   ]
  },
  {
   "cell_type": "code",
   "execution_count": 12,
   "metadata": {},
   "outputs": [
    {
     "name": "stdout",
     "output_type": "stream",
     "text": [
      "\u001b[38;5;246m# A tibble: 12 x 4\u001b[39m\n",
      "   country      year type            count\n",
      "   \u001b[3m\u001b[38;5;246m<chr>\u001b[39m\u001b[23m       \u001b[3m\u001b[38;5;246m<int>\u001b[39m\u001b[23m \u001b[3m\u001b[38;5;246m<chr>\u001b[39m\u001b[23m           \u001b[3m\u001b[38;5;246m<int>\u001b[39m\u001b[23m\n",
      "\u001b[38;5;250m 1\u001b[39m Afghanistan  \u001b[4m1\u001b[24m999 cases             745\n",
      "\u001b[38;5;250m 2\u001b[39m Afghanistan  \u001b[4m1\u001b[24m999 population   19\u001b[4m9\u001b[24m\u001b[4m8\u001b[24m\u001b[4m7\u001b[24m071\n",
      "\u001b[38;5;250m 3\u001b[39m Afghanistan  \u001b[4m2\u001b[24m000 cases            \u001b[4m2\u001b[24m666\n",
      "\u001b[38;5;250m 4\u001b[39m Afghanistan  \u001b[4m2\u001b[24m000 population   20\u001b[4m5\u001b[24m\u001b[4m9\u001b[24m\u001b[4m5\u001b[24m360\n",
      "\u001b[38;5;250m 5\u001b[39m Brazil       \u001b[4m1\u001b[24m999 cases           \u001b[4m3\u001b[24m\u001b[4m7\u001b[24m737\n",
      "\u001b[38;5;250m 6\u001b[39m Brazil       \u001b[4m1\u001b[24m999 population  172\u001b[4m0\u001b[24m\u001b[4m0\u001b[24m\u001b[4m6\u001b[24m362\n",
      "\u001b[38;5;250m 7\u001b[39m Brazil       \u001b[4m2\u001b[24m000 cases           \u001b[4m8\u001b[24m\u001b[4m0\u001b[24m488\n",
      "\u001b[38;5;250m 8\u001b[39m Brazil       \u001b[4m2\u001b[24m000 population  174\u001b[4m5\u001b[24m\u001b[4m0\u001b[24m\u001b[4m4\u001b[24m898\n",
      "\u001b[38;5;250m 9\u001b[39m China        \u001b[4m1\u001b[24m999 cases          \u001b[4m2\u001b[24m\u001b[4m1\u001b[24m\u001b[4m2\u001b[24m258\n",
      "\u001b[38;5;250m10\u001b[39m China        \u001b[4m1\u001b[24m999 population \u001b[4m1\u001b[24m272\u001b[4m9\u001b[24m\u001b[4m1\u001b[24m\u001b[4m5\u001b[24m272\n",
      "\u001b[38;5;250m11\u001b[39m China        \u001b[4m2\u001b[24m000 cases          \u001b[4m2\u001b[24m\u001b[4m1\u001b[24m\u001b[4m3\u001b[24m766\n",
      "\u001b[38;5;250m12\u001b[39m China        \u001b[4m2\u001b[24m000 population \u001b[4m1\u001b[24m280\u001b[4m4\u001b[24m\u001b[4m2\u001b[24m\u001b[4m8\u001b[24m583\n"
     ]
    }
   ],
   "source": [
    "print(table2)"
   ]
  },
  {
   "cell_type": "code",
   "execution_count": null,
   "metadata": {},
   "outputs": [],
   "source": []
  },
  {
   "cell_type": "markdown",
   "metadata": {},
   "source": [
    "Summary commands like `summarize` and `count` also preserve tidy data:"
   ]
  },
  {
   "cell_type": "code",
   "execution_count": 14,
   "metadata": {},
   "outputs": [
    {
     "data": {
      "text/html": [
       "<table>\n",
       "<caption>A tibble: 2 × 2</caption>\n",
       "<thead>\n",
       "\t<tr><th scope=col>year</th><th scope=col>n</th></tr>\n",
       "\t<tr><th scope=col>&lt;int&gt;</th><th scope=col>&lt;int&gt;</th></tr>\n",
       "</thead>\n",
       "<tbody>\n",
       "\t<tr><td>1999</td><td>250740</td></tr>\n",
       "\t<tr><td>2000</td><td>296920</td></tr>\n",
       "</tbody>\n",
       "</table>\n"
      ],
      "text/latex": [
       "A tibble: 2 × 2\n",
       "\\begin{tabular}{ll}\n",
       " year & n\\\\\n",
       " <int> & <int>\\\\\n",
       "\\hline\n",
       "\t 1999 & 250740\\\\\n",
       "\t 2000 & 296920\\\\\n",
       "\\end{tabular}\n"
      ],
      "text/markdown": [
       "\n",
       "A tibble: 2 × 2\n",
       "\n",
       "| year &lt;int&gt; | n &lt;int&gt; |\n",
       "|---|---|\n",
       "| 1999 | 250740 |\n",
       "| 2000 | 296920 |\n",
       "\n"
      ],
      "text/plain": [
       "  year n     \n",
       "1 1999 250740\n",
       "2 2000 296920"
      ]
     },
     "metadata": {},
     "output_type": "display_data"
    }
   ],
   "source": [
    "count(table1, year, wt = cases) # compute no. of cases for each year"
   ]
  },
  {
   "cell_type": "code",
   "execution_count": 16,
   "metadata": {},
   "outputs": [
    {
     "data": {
      "text/html": [
       "<table>\n",
       "<caption>A tibble: 2 × 2</caption>\n",
       "<thead>\n",
       "\t<tr><th scope=col>year</th><th scope=col>n</th></tr>\n",
       "\t<tr><th scope=col>&lt;int&gt;</th><th scope=col>&lt;int&gt;</th></tr>\n",
       "</thead>\n",
       "<tbody>\n",
       "\t<tr><td>1999</td><td>1464908705</td></tr>\n",
       "\t<tr><td>2000</td><td>1475528841</td></tr>\n",
       "</tbody>\n",
       "</table>\n"
      ],
      "text/latex": [
       "A tibble: 2 × 2\n",
       "\\begin{tabular}{ll}\n",
       " year & n\\\\\n",
       " <int> & <int>\\\\\n",
       "\\hline\n",
       "\t 1999 & 1464908705\\\\\n",
       "\t 2000 & 1475528841\\\\\n",
       "\\end{tabular}\n"
      ],
      "text/markdown": [
       "\n",
       "A tibble: 2 × 2\n",
       "\n",
       "| year &lt;int&gt; | n &lt;int&gt; |\n",
       "|---|---|\n",
       "| 1999 | 1464908705 |\n",
       "| 2000 | 1475528841 |\n",
       "\n"
      ],
      "text/plain": [
       "  year n         \n",
       "1 1999 1464908705\n",
       "2 2000 1475528841"
      ]
     },
     "metadata": {},
     "output_type": "display_data"
    }
   ],
   "source": [
    "count(table1, year, wt = population) # compute no. of cases for each year"
   ]
  },
  {
   "cell_type": "markdown",
   "metadata": {},
   "source": [
    "`ggplot` also expects tidy data.  What if we plot a table with a messy data?"
   ]
  },
  {
   "cell_type": "code",
   "execution_count": 18,
   "metadata": {},
   "outputs": [
    {
     "name": "stdout",
     "output_type": "stream",
     "text": [
      "\u001b[38;5;246m# A tibble: 12 x 4\u001b[39m\n",
      "   country      year type            count\n",
      "   \u001b[3m\u001b[38;5;246m<chr>\u001b[39m\u001b[23m       \u001b[3m\u001b[38;5;246m<int>\u001b[39m\u001b[23m \u001b[3m\u001b[38;5;246m<chr>\u001b[39m\u001b[23m           \u001b[3m\u001b[38;5;246m<int>\u001b[39m\u001b[23m\n",
      "\u001b[38;5;250m 1\u001b[39m Afghanistan  \u001b[4m1\u001b[24m999 cases             745\n",
      "\u001b[38;5;250m 2\u001b[39m Afghanistan  \u001b[4m1\u001b[24m999 population   19\u001b[4m9\u001b[24m\u001b[4m8\u001b[24m\u001b[4m7\u001b[24m071\n",
      "\u001b[38;5;250m 3\u001b[39m Afghanistan  \u001b[4m2\u001b[24m000 cases            \u001b[4m2\u001b[24m666\n",
      "\u001b[38;5;250m 4\u001b[39m Afghanistan  \u001b[4m2\u001b[24m000 population   20\u001b[4m5\u001b[24m\u001b[4m9\u001b[24m\u001b[4m5\u001b[24m360\n",
      "\u001b[38;5;250m 5\u001b[39m Brazil       \u001b[4m1\u001b[24m999 cases           \u001b[4m3\u001b[24m\u001b[4m7\u001b[24m737\n",
      "\u001b[38;5;250m 6\u001b[39m Brazil       \u001b[4m1\u001b[24m999 population  172\u001b[4m0\u001b[24m\u001b[4m0\u001b[24m\u001b[4m6\u001b[24m362\n",
      "\u001b[38;5;250m 7\u001b[39m Brazil       \u001b[4m2\u001b[24m000 cases           \u001b[4m8\u001b[24m\u001b[4m0\u001b[24m488\n",
      "\u001b[38;5;250m 8\u001b[39m Brazil       \u001b[4m2\u001b[24m000 population  174\u001b[4m5\u001b[24m\u001b[4m0\u001b[24m\u001b[4m4\u001b[24m898\n",
      "\u001b[38;5;250m 9\u001b[39m China        \u001b[4m1\u001b[24m999 cases          \u001b[4m2\u001b[24m\u001b[4m1\u001b[24m\u001b[4m2\u001b[24m258\n",
      "\u001b[38;5;250m10\u001b[39m China        \u001b[4m1\u001b[24m999 population \u001b[4m1\u001b[24m272\u001b[4m9\u001b[24m\u001b[4m1\u001b[24m\u001b[4m5\u001b[24m272\n",
      "\u001b[38;5;250m11\u001b[39m China        \u001b[4m2\u001b[24m000 cases          \u001b[4m2\u001b[24m\u001b[4m1\u001b[24m\u001b[4m3\u001b[24m766\n",
      "\u001b[38;5;250m12\u001b[39m China        \u001b[4m2\u001b[24m000 population \u001b[4m1\u001b[24m280\u001b[4m4\u001b[24m\u001b[4m2\u001b[24m\u001b[4m8\u001b[24m583\n"
     ]
    }
   ],
   "source": [
    "print(table2)"
   ]
  },
  {
   "cell_type": "code",
   "execution_count": null,
   "metadata": {},
   "outputs": [],
   "source": []
  },
  {
   "cell_type": "markdown",
   "metadata": {},
   "source": [
    "It seems like ggplot is treating both cases and populations as some data point too.  I am not sure what is going on in the above plot with a messy data.\n",
    "\n",
    "**Remark** Extremely important to only use the functions we have learnt for tidy data."
   ]
  },
  {
   "cell_type": "markdown",
   "metadata": {},
   "source": [
    "## Creating tidy data\n",
    "If the data is not already tidy, then we might need to some work before we can use the tools in `dplyr`. The package `tidyr` inside `tidyverse` allows one to convert data into the tidy data."
   ]
  },
  {
   "cell_type": "markdown",
   "metadata": {},
   "source": [
    "### Gather\n",
    "One common problem in when a variable is spread across multiple columns and we need to gather those columns to create a new pair of variables. For example, consider `table4a` from above:"
   ]
  },
  {
   "cell_type": "code",
   "execution_count": 19,
   "metadata": {},
   "outputs": [
    {
     "name": "stdout",
     "output_type": "stream",
     "text": [
      "\u001b[38;5;246m# A tibble: 3 x 3\u001b[39m\n",
      "  country     `1999` `2000`\n",
      "\u001b[38;5;250m*\u001b[39m \u001b[3m\u001b[38;5;246m<chr>\u001b[39m\u001b[23m        \u001b[3m\u001b[38;5;246m<int>\u001b[39m\u001b[23m  \u001b[3m\u001b[38;5;246m<int>\u001b[39m\u001b[23m\n",
      "\u001b[38;5;250m1\u001b[39m Afghanistan    745   \u001b[4m2\u001b[24m666\n",
      "\u001b[38;5;250m2\u001b[39m Brazil       \u001b[4m3\u001b[24m\u001b[4m7\u001b[24m737  \u001b[4m8\u001b[24m\u001b[4m0\u001b[24m488\n",
      "\u001b[38;5;250m3\u001b[39m China       \u001b[4m2\u001b[24m\u001b[4m1\u001b[24m\u001b[4m2\u001b[24m258 \u001b[4m2\u001b[24m\u001b[4m1\u001b[24m\u001b[4m3\u001b[24m766\n"
     ]
    }
   ],
   "source": [
    "print(table4a)"
   ]
  },
  {
   "cell_type": "markdown",
   "metadata": {},
   "source": [
    "Here there is a year variable which is spread across two columns. To become tidy, it should get its own `year` column. We want to *gather* the columns of year into a single column.\n",
    "![gather illustration](http://r4ds.had.co.nz/images/tidy-9.png)"
   ]
  },
  {
   "cell_type": "markdown",
   "metadata": {},
   "source": [
    "The command to do this is called `gather()`. To use `gather()` we need to specify three things:\n",
    "\n",
    "* which existing columns correspond to values of a variable\n",
    "* what is the name of the variable (the **key**) whose values currently appear as column names.\n",
    "* what is the name of the variable (the **value**) whose values are currently spread over the cells.\n",
    "\n",
    "(When using `gather()`, neither the **key** nor **value** column names currently exist in your data. They are \"destination\" columns in the new table.)"
   ]
  },
  {
   "cell_type": "code",
   "execution_count": null,
   "metadata": {},
   "outputs": [],
   "source": []
  },
  {
   "cell_type": "markdown",
   "metadata": {},
   "source": [
    "### Exercise\n",
    "Let us try to transform `table4b` to tidy format:"
   ]
  },
  {
   "cell_type": "code",
   "execution_count": null,
   "metadata": {},
   "outputs": [],
   "source": []
  },
  {
   "cell_type": "markdown",
   "metadata": {},
   "source": [
    "### Spread\n",
    "Another type of problem is when an observation is scattered across multiple rows."
   ]
  },
  {
   "cell_type": "markdown",
   "metadata": {},
   "source": [
    "Here we want to do the opposite of gather: we want to *spread* these rows out into new columns.\n",
    "![spread data](http://r4ds.had.co.nz/images/tidy-8.png)"
   ]
  },
  {
   "cell_type": "markdown",
   "metadata": {},
   "source": [
    "We need to specify two things:\n",
    "\n",
    "* which existing column (the **key**) has the variable names as values\n",
    "* which existing column (the **value**) has the values for those variables"
   ]
  },
  {
   "cell_type": "markdown",
   "metadata": {},
   "source": [
    "What is the key here? What is the value?"
   ]
  },
  {
   "cell_type": "markdown",
   "metadata": {},
   "source": [
    "### Exercise\n",
    "Convert `table2` to tidy format using `spread()`."
   ]
  },
  {
   "cell_type": "code",
   "execution_count": 5,
   "metadata": {},
   "outputs": [
    {
     "name": "stdout",
     "output_type": "stream",
     "text": [
      "\u001b[38;5;246m# A tibble: 12 x 4\u001b[39m\n",
      "   country      year type            count\n",
      "   \u001b[3m\u001b[38;5;246m<chr>\u001b[39m\u001b[23m       \u001b[3m\u001b[38;5;246m<int>\u001b[39m\u001b[23m \u001b[3m\u001b[38;5;246m<chr>\u001b[39m\u001b[23m           \u001b[3m\u001b[38;5;246m<int>\u001b[39m\u001b[23m\n",
      "\u001b[38;5;250m 1\u001b[39m Afghanistan  \u001b[4m1\u001b[24m999 cases             745\n",
      "\u001b[38;5;250m 2\u001b[39m Afghanistan  \u001b[4m1\u001b[24m999 population   19\u001b[4m9\u001b[24m\u001b[4m8\u001b[24m\u001b[4m7\u001b[24m071\n",
      "\u001b[38;5;250m 3\u001b[39m Afghanistan  \u001b[4m2\u001b[24m000 cases            \u001b[4m2\u001b[24m666\n",
      "\u001b[38;5;250m 4\u001b[39m Afghanistan  \u001b[4m2\u001b[24m000 population   20\u001b[4m5\u001b[24m\u001b[4m9\u001b[24m\u001b[4m5\u001b[24m360\n",
      "\u001b[38;5;250m 5\u001b[39m Brazil       \u001b[4m1\u001b[24m999 cases           \u001b[4m3\u001b[24m\u001b[4m7\u001b[24m737\n",
      "\u001b[38;5;250m 6\u001b[39m Brazil       \u001b[4m1\u001b[24m999 population  172\u001b[4m0\u001b[24m\u001b[4m0\u001b[24m\u001b[4m6\u001b[24m362\n",
      "\u001b[38;5;250m 7\u001b[39m Brazil       \u001b[4m2\u001b[24m000 cases           \u001b[4m8\u001b[24m\u001b[4m0\u001b[24m488\n",
      "\u001b[38;5;250m 8\u001b[39m Brazil       \u001b[4m2\u001b[24m000 population  174\u001b[4m5\u001b[24m\u001b[4m0\u001b[24m\u001b[4m4\u001b[24m898\n",
      "\u001b[38;5;250m 9\u001b[39m China        \u001b[4m1\u001b[24m999 cases          \u001b[4m2\u001b[24m\u001b[4m1\u001b[24m\u001b[4m2\u001b[24m258\n",
      "\u001b[38;5;250m10\u001b[39m China        \u001b[4m1\u001b[24m999 population \u001b[4m1\u001b[24m272\u001b[4m9\u001b[24m\u001b[4m1\u001b[24m\u001b[4m5\u001b[24m272\n",
      "\u001b[38;5;250m11\u001b[39m China        \u001b[4m2\u001b[24m000 cases          \u001b[4m2\u001b[24m\u001b[4m1\u001b[24m\u001b[4m3\u001b[24m766\n",
      "\u001b[38;5;250m12\u001b[39m China        \u001b[4m2\u001b[24m000 population \u001b[4m1\u001b[24m280\u001b[4m4\u001b[24m\u001b[4m2\u001b[24m\u001b[4m8\u001b[24m583\n"
     ]
    }
   ],
   "source": [
    "print(table2)"
   ]
  },
  {
   "cell_type": "code",
   "execution_count": null,
   "metadata": {},
   "outputs": [],
   "source": []
  },
  {
   "cell_type": "markdown",
   "metadata": {},
   "source": [
    "## Summary\n",
    "\n",
    "* `gather` tends to make wide tables narrower and longer\n",
    "* `spread` tends to make long tables shorter and wider\n",
    "* `gather` and `spread` are inverses -- each one undos the other."
   ]
  },
  {
   "cell_type": "markdown",
   "metadata": {},
   "source": [
    "Sometimes we want to `spread()` data for other reasons. Some tables are more readable if they are put in a non-tidy format. This is often the case with time data.Sometimes we want to `spread()` data for other reasons. Some tables are more readable if they are put in a non-tidy format. This is often the case with time data."
   ]
  },
  {
   "cell_type": "markdown",
   "metadata": {},
   "source": [
    "### Exercise\n",
    "Use `spread()` to put the `year` variable of `table1` into columns (show `population` only):\n",
    "```\n",
    "  country     1999       2000      \n",
    "1 Afghanistan   19987071   20595360\n",
    "2 Brazil       172006362  174504898\n",
    "3 China       1272915272 1280428583\n",
    "```"
   ]
  },
  {
   "cell_type": "code",
   "execution_count": 8,
   "metadata": {},
   "outputs": [
    {
     "name": "stdout",
     "output_type": "stream",
     "text": [
      "\u001b[38;5;246m# A tibble: 6 x 4\u001b[39m\n",
      "  country      year  cases population\n",
      "  \u001b[3m\u001b[38;5;246m<chr>\u001b[39m\u001b[23m       \u001b[3m\u001b[38;5;246m<int>\u001b[39m\u001b[23m  \u001b[3m\u001b[38;5;246m<int>\u001b[39m\u001b[23m      \u001b[3m\u001b[38;5;246m<int>\u001b[39m\u001b[23m\n",
      "\u001b[38;5;250m1\u001b[39m Afghanistan  \u001b[4m1\u001b[24m999    745   19\u001b[4m9\u001b[24m\u001b[4m8\u001b[24m\u001b[4m7\u001b[24m071\n",
      "\u001b[38;5;250m2\u001b[39m Afghanistan  \u001b[4m2\u001b[24m000   \u001b[4m2\u001b[24m666   20\u001b[4m5\u001b[24m\u001b[4m9\u001b[24m\u001b[4m5\u001b[24m360\n",
      "\u001b[38;5;250m3\u001b[39m Brazil       \u001b[4m1\u001b[24m999  \u001b[4m3\u001b[24m\u001b[4m7\u001b[24m737  172\u001b[4m0\u001b[24m\u001b[4m0\u001b[24m\u001b[4m6\u001b[24m362\n",
      "\u001b[38;5;250m4\u001b[39m Brazil       \u001b[4m2\u001b[24m000  \u001b[4m8\u001b[24m\u001b[4m0\u001b[24m488  174\u001b[4m5\u001b[24m\u001b[4m0\u001b[24m\u001b[4m4\u001b[24m898\n",
      "\u001b[38;5;250m5\u001b[39m China        \u001b[4m1\u001b[24m999 \u001b[4m2\u001b[24m\u001b[4m1\u001b[24m\u001b[4m2\u001b[24m258 \u001b[4m1\u001b[24m272\u001b[4m9\u001b[24m\u001b[4m1\u001b[24m\u001b[4m5\u001b[24m272\n",
      "\u001b[38;5;250m6\u001b[39m China        \u001b[4m2\u001b[24m000 \u001b[4m2\u001b[24m\u001b[4m1\u001b[24m\u001b[4m3\u001b[24m766 \u001b[4m1\u001b[24m280\u001b[4m4\u001b[24m\u001b[4m2\u001b[24m\u001b[4m8\u001b[24m583\n"
     ]
    }
   ],
   "source": [
    "print(table1)"
   ]
  },
  {
   "cell_type": "code",
   "execution_count": null,
   "metadata": {},
   "outputs": [],
   "source": []
  },
  {
   "cell_type": "markdown",
   "metadata": {},
   "source": [
    "Now let us apply the tools that we have learnt to the `flights` data set"
   ]
  },
  {
   "cell_type": "markdown",
   "metadata": {},
   "source": [
    "### Exercise\n",
    "Re-create the following table which shows monthly departures from the three NYC airports:\n",
    "```\n",
    "  origin 1    2    3     4     5     6     7     8     9    10    11   12  \n",
    "1 EWR    9893 9107 10420 10531 10592 10175 10475 10359 9550 10104 9707 9922\n",
    "2 JFK    9161 8421  9697  9218  9397  9472 10023  9983 8908  9143 8710 9146\n",
    "3 LGA    7950 7423  8717  8581  8807  8596  8927  8985 9116  9642 8851 9067\n",
    "```"
   ]
  },
  {
   "cell_type": "code",
   "execution_count": null,
   "metadata": {},
   "outputs": [],
   "source": []
  },
  {
   "cell_type": "markdown",
   "metadata": {},
   "source": [
    "### Spreading more than one column\n",
    "Consider the following simple table:"
   ]
  },
  {
   "cell_type": "code",
   "execution_count": 16,
   "metadata": {},
   "outputs": [],
   "source": [
    "grades <- tribble(\n",
    "    ~person, ~exam, ~q1, ~q2, ~q3,\n",
    "    \"alice\", \"mt1\", 1, 2, 3.5,\n",
    "    \"alice\", \"mt2\", .5, 2.5, 1.5,\n",
    "    \"bob\", \"mt1\", 0.0, 1.0, 1.5,\n",
    "    \"bob\", \"mt2\", 1.5, 2.5, 2.0\n",
    ")"
   ]
  },
  {
   "cell_type": "code",
   "execution_count": 17,
   "metadata": {},
   "outputs": [
    {
     "name": "stdout",
     "output_type": "stream",
     "text": [
      "\u001b[38;5;246m# A tibble: 4 x 5\u001b[39m\n",
      "  person exam     q1    q2    q3\n",
      "  \u001b[3m\u001b[38;5;246m<chr>\u001b[39m\u001b[23m  \u001b[3m\u001b[38;5;246m<chr>\u001b[39m\u001b[23m \u001b[3m\u001b[38;5;246m<dbl>\u001b[39m\u001b[23m \u001b[3m\u001b[38;5;246m<dbl>\u001b[39m\u001b[23m \u001b[3m\u001b[38;5;246m<dbl>\u001b[39m\u001b[23m\n",
      "\u001b[38;5;250m1\u001b[39m alice  mt1     1     2     3.5\n",
      "\u001b[38;5;250m2\u001b[39m alice  mt2     0.5   2.5   1.5\n",
      "\u001b[38;5;250m3\u001b[39m bob    mt1     0     1     1.5\n",
      "\u001b[38;5;250m4\u001b[39m bob    mt2     1.5   2.5   2  \n"
     ]
    }
   ],
   "source": [
    "print(grades)"
   ]
  },
  {
   "cell_type": "markdown",
   "metadata": {},
   "source": [
    "Suppose we want to expand this into multiple columns `mt1.q1`, `mt1.q2`, and so on. How should we use `spread()`?"
   ]
  },
  {
   "cell_type": "code",
   "execution_count": null,
   "metadata": {},
   "outputs": [],
   "source": []
  },
  {
   "cell_type": "markdown",
   "metadata": {},
   "source": [
    "We have uncovered a limitation of `spread()`. It can only operate on a single key-value pair. (This is on purpose, in order to keep the command simple.)"
   ]
  },
  {
   "cell_type": "markdown",
   "metadata": {},
   "source": [
    "### Unite and separate\n",
    "To `spread()` multiple values at once we'll use the `unite()` command to combine them into a single variable. The unite command does the opposite of `separate()`: stick several variables together to form a new variable."
   ]
  },
  {
   "cell_type": "code",
   "execution_count": null,
   "metadata": {},
   "outputs": [],
   "source": []
  },
  {
   "cell_type": "markdown",
   "metadata": {},
   "source": [
    "`unite()` has taken each of the values q1, q2, q3 and combined them into a single column. Now we can `spread()` the `q` column to obtain:"
   ]
  },
  {
   "cell_type": "code",
   "execution_count": null,
   "metadata": {},
   "outputs": [],
   "source": []
  },
  {
   "cell_type": "code",
   "execution_count": null,
   "metadata": {},
   "outputs": [],
   "source": []
  },
  {
   "cell_type": "markdown",
   "metadata": {},
   "source": [
    "## Missing Values\n",
    "Missing values can be:\n",
    "\n",
    "* **Explicit** (marked as `NA` in our data); or\n",
    "* **Implicit** (not present in the data)."
   ]
  },
  {
   "cell_type": "code",
   "execution_count": 24,
   "metadata": {},
   "outputs": [
    {
     "data": {
      "text/html": [
       "<table>\n",
       "<caption>A tibble: 7 × 3</caption>\n",
       "<thead>\n",
       "\t<tr><th scope=col>year</th><th scope=col>qtr</th><th scope=col>return</th></tr>\n",
       "\t<tr><th scope=col>&lt;dbl&gt;</th><th scope=col>&lt;dbl&gt;</th><th scope=col>&lt;dbl&gt;</th></tr>\n",
       "</thead>\n",
       "<tbody>\n",
       "\t<tr><td>2015</td><td>1</td><td>1.88</td></tr>\n",
       "\t<tr><td>2015</td><td>2</td><td>  NA</td></tr>\n",
       "\t<tr><td>2015</td><td>3</td><td>0.35</td></tr>\n",
       "\t<tr><td>2015</td><td>4</td><td>0.80</td></tr>\n",
       "\t<tr><td>2016</td><td>2</td><td>0.92</td></tr>\n",
       "\t<tr><td>2016</td><td>3</td><td>0.17</td></tr>\n",
       "\t<tr><td>2016</td><td>4</td><td>2.66</td></tr>\n",
       "</tbody>\n",
       "</table>\n"
      ],
      "text/latex": [
       "A tibble: 7 × 3\n",
       "\\begin{tabular}{lll}\n",
       " year & qtr & return\\\\\n",
       " <dbl> & <dbl> & <dbl>\\\\\n",
       "\\hline\n",
       "\t 2015 & 1 & 1.88\\\\\n",
       "\t 2015 & 2 &   NA\\\\\n",
       "\t 2015 & 3 & 0.35\\\\\n",
       "\t 2015 & 4 & 0.80\\\\\n",
       "\t 2016 & 2 & 0.92\\\\\n",
       "\t 2016 & 3 & 0.17\\\\\n",
       "\t 2016 & 4 & 2.66\\\\\n",
       "\\end{tabular}\n"
      ],
      "text/markdown": [
       "\n",
       "A tibble: 7 × 3\n",
       "\n",
       "| year &lt;dbl&gt; | qtr &lt;dbl&gt; | return &lt;dbl&gt; |\n",
       "|---|---|---|\n",
       "| 2015 | 1 | 1.88 |\n",
       "| 2015 | 2 |   NA |\n",
       "| 2015 | 3 | 0.35 |\n",
       "| 2015 | 4 | 0.80 |\n",
       "| 2016 | 2 | 0.92 |\n",
       "| 2016 | 3 | 0.17 |\n",
       "| 2016 | 4 | 2.66 |\n",
       "\n"
      ],
      "text/plain": [
       "  year qtr return\n",
       "1 2015 1   1.88  \n",
       "2 2015 2     NA  \n",
       "3 2015 3   0.35  \n",
       "4 2015 4   0.80  \n",
       "5 2016 2   0.92  \n",
       "6 2016 3   0.17  \n",
       "7 2016 4   2.66  "
      ]
     },
     "metadata": {},
     "output_type": "display_data"
    },
    {
     "data": {
      "text/html": [
       "<table>\n",
       "<caption>A tibble: 7 × 4</caption>\n",
       "<thead>\n",
       "\t<tr><th scope=col>year</th><th scope=col>qtr</th><th scope=col>return</th><th scope=col>last_qtr_ret</th></tr>\n",
       "\t<tr><th scope=col>&lt;dbl&gt;</th><th scope=col>&lt;dbl&gt;</th><th scope=col>&lt;dbl&gt;</th><th scope=col>&lt;dbl&gt;</th></tr>\n",
       "</thead>\n",
       "<tbody>\n",
       "\t<tr><td>2015</td><td>1</td><td>1.88</td><td>  NA</td></tr>\n",
       "\t<tr><td>2015</td><td>2</td><td>  NA</td><td>1.88</td></tr>\n",
       "\t<tr><td>2015</td><td>3</td><td>0.35</td><td>  NA</td></tr>\n",
       "\t<tr><td>2015</td><td>4</td><td>0.80</td><td>0.35</td></tr>\n",
       "\t<tr><td>2016</td><td>2</td><td>0.92</td><td>0.80</td></tr>\n",
       "\t<tr><td>2016</td><td>3</td><td>0.17</td><td>0.92</td></tr>\n",
       "\t<tr><td>2016</td><td>4</td><td>2.66</td><td>0.17</td></tr>\n",
       "</tbody>\n",
       "</table>\n"
      ],
      "text/latex": [
       "A tibble: 7 × 4\n",
       "\\begin{tabular}{llll}\n",
       " year & qtr & return & last\\_qtr\\_ret\\\\\n",
       " <dbl> & <dbl> & <dbl> & <dbl>\\\\\n",
       "\\hline\n",
       "\t 2015 & 1 & 1.88 &   NA\\\\\n",
       "\t 2015 & 2 &   NA & 1.88\\\\\n",
       "\t 2015 & 3 & 0.35 &   NA\\\\\n",
       "\t 2015 & 4 & 0.80 & 0.35\\\\\n",
       "\t 2016 & 2 & 0.92 & 0.80\\\\\n",
       "\t 2016 & 3 & 0.17 & 0.92\\\\\n",
       "\t 2016 & 4 & 2.66 & 0.17\\\\\n",
       "\\end{tabular}\n"
      ],
      "text/markdown": [
       "\n",
       "A tibble: 7 × 4\n",
       "\n",
       "| year &lt;dbl&gt; | qtr &lt;dbl&gt; | return &lt;dbl&gt; | last_qtr_ret &lt;dbl&gt; |\n",
       "|---|---|---|---|\n",
       "| 2015 | 1 | 1.88 |   NA |\n",
       "| 2015 | 2 |   NA | 1.88 |\n",
       "| 2015 | 3 | 0.35 |   NA |\n",
       "| 2015 | 4 | 0.80 | 0.35 |\n",
       "| 2016 | 2 | 0.92 | 0.80 |\n",
       "| 2016 | 3 | 0.17 | 0.92 |\n",
       "| 2016 | 4 | 2.66 | 0.17 |\n",
       "\n"
      ],
      "text/plain": [
       "  year qtr return last_qtr_ret\n",
       "1 2015 1   1.88     NA        \n",
       "2 2015 2     NA   1.88        \n",
       "3 2015 3   0.35     NA        \n",
       "4 2015 4   0.80   0.35        \n",
       "5 2016 2   0.92   0.80        \n",
       "6 2016 3   0.17   0.92        \n",
       "7 2016 4   2.66   0.17        "
      ]
     },
     "metadata": {},
     "output_type": "display_data"
    }
   ],
   "source": [
    "(stocks <- tibble(\n",
    "  year   = c(2015, 2015, 2015, 2015, 2016, 2016, 2016),\n",
    "  qtr    = c(   1,    2,    3,    4,    2,    3,    4),\n",
    "  return = c(1.88, NA, 0.35,   0.8, 0.92, 0.17, 2.66)\n",
    "))\n",
    "mutate(stocks, last_qtr_ret = lag(return))"
   ]
  },
  {
   "cell_type": "markdown",
   "metadata": {},
   "source": [
    "In this example we have one explicitly missing value for the 4th quarter of 2015. Are there any other missing values? Yes, because we do not have an observation for the first quarter of 2016."
   ]
  },
  {
   "cell_type": "markdown",
   "metadata": {},
   "source": [
    "The **complete** command makes implicit missing value explicit by considering all combinations of unique values of specified variables."
   ]
  },
  {
   "cell_type": "code",
   "execution_count": null,
   "metadata": {},
   "outputs": [],
   "source": []
  },
  {
   "cell_type": "markdown",
   "metadata": {},
   "source": [
    "The missing values also become explicit if we **spread** the tibble."
   ]
  },
  {
   "cell_type": "code",
   "execution_count": null,
   "metadata": {},
   "outputs": [],
   "source": []
  },
  {
   "cell_type": "markdown",
   "metadata": {},
   "source": [
    "**gather** will keep all these explicitly missing values by default."
   ]
  },
  {
   "cell_type": "code",
   "execution_count": null,
   "metadata": {},
   "outputs": [],
   "source": []
  },
  {
   "cell_type": "markdown",
   "metadata": {},
   "source": [
    "If you don't like the default behavior of **gather**, you can turn off explicit missing values using the `na.rm` argument."
   ]
  },
  {
   "cell_type": "code",
   "execution_count": null,
   "metadata": {},
   "outputs": [],
   "source": []
  }
 ],
 "metadata": {
  "kernelspec": {
   "display_name": "R",
   "language": "R",
   "name": "ir"
  },
  "language_info": {
   "codemirror_mode": "r",
   "file_extension": ".r",
   "mimetype": "text/x-r-source",
   "name": "R",
   "pygments_lexer": "r",
   "version": "4.0.2"
  }
 },
 "nbformat": 4,
 "nbformat_minor": 1
}
