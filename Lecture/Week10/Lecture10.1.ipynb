{
 "cells": [
  {
   "cell_type": "markdown",
   "metadata": {},
   "source": [
    "# Lecture 10.1: Writing Functions in R\n",
    "<div style=\"border: 1px double black; padding: 10px; margin: 10px\">\n",
    "\n",
    "**After today's lecture you will understand:**\n",
    "* how to write functions in R\n",
    "</div>\n",
    "\n",
    "This correpsonds to Chapter 19.1--19.6 of your book\n",
    "\n",
    "\n",
    "\n",
    "    \n",
    "\n",
    "\n"
   ]
  },
  {
   "cell_type": "code",
   "execution_count": 2,
   "metadata": {},
   "outputs": [],
   "source": [
    "library(tidyverse)"
   ]
  },
  {
   "cell_type": "markdown",
   "metadata": {},
   "source": [
    "## Functions\n",
    "\n",
    "R identifies functions by the `func()` construction. Functions are simply collections of commands that do something. Functions take arguments which can be used to specify which objects to operate on and what values of parameters are used. You can use `help(func)` to see what a function is used for and what arguments it expects, i.e. `help(sprintf)`.\n",
    "\n",
    "### Arguments\n",
    "\n",
    "Functions will often have multiple arguments. Some arguments have default values, others do not. All arguments without default values must be passed to a function. Arguments can be passed by name or position. For instance,\n",
    "\n",
    "\n"
   ]
  },
  {
   "cell_type": "code",
   "execution_count": 5,
   "metadata": {},
   "outputs": [
    {
     "data": {
      "text/html": [
       "<table class=\"dataframe\">\n",
       "<caption>A matrix: 5 × 3 of type dbl</caption>\n",
       "<thead>\n",
       "\t<tr><th scope=col>x</th><th scope=col>y</th><th scope=col>z</th></tr>\n",
       "</thead>\n",
       "<tbody>\n",
       "\t<tr><td>-0.5</td><td>-0.5</td><td>-0.2</td></tr>\n",
       "\t<tr><td>-1.5</td><td> 0.5</td><td>-0.7</td></tr>\n",
       "\t<tr><td>-0.5</td><td>-0.1</td><td> 1.0</td></tr>\n",
       "\t<tr><td>-0.5</td><td> 1.4</td><td> 0.2</td></tr>\n",
       "\t<tr><td> 0.2</td><td> 0.0</td><td> 0.2</td></tr>\n",
       "</tbody>\n",
       "</table>\n"
      ],
      "text/latex": [
       "A matrix: 5 × 3 of type dbl\n",
       "\\begin{tabular}{lll}\n",
       " x & y & z\\\\\n",
       "\\hline\n",
       "\t -0.5 & -0.5 & -0.2\\\\\n",
       "\t -1.5 &  0.5 & -0.7\\\\\n",
       "\t -0.5 & -0.1 &  1.0\\\\\n",
       "\t -0.5 &  1.4 &  0.2\\\\\n",
       "\t  0.2 &  0.0 &  0.2\\\\\n",
       "\\end{tabular}\n"
      ],
      "text/markdown": [
       "\n",
       "A matrix: 5 × 3 of type dbl\n",
       "\n",
       "| x | y | z |\n",
       "|---|---|---|\n",
       "| -0.5 | -0.5 | -0.2 |\n",
       "| -1.5 |  0.5 | -0.7 |\n",
       "| -0.5 | -0.1 |  1.0 |\n",
       "| -0.5 |  1.4 |  0.2 |\n",
       "|  0.2 |  0.0 |  0.2 |\n",
       "\n"
      ],
      "text/plain": [
       "     x    y    z   \n",
       "[1,] -0.5 -0.5 -0.2\n",
       "[2,] -1.5  0.5 -0.7\n",
       "[3,] -0.5 -0.1  1.0\n",
       "[4,] -0.5  1.4  0.2\n",
       "[5,]  0.2  0.0  0.2"
      ]
     },
     "metadata": {},
     "output_type": "display_data"
    }
   ],
   "source": [
    "# generate 5 numbers from a Normal(0, 1) distribution.\n",
    "w = rnorm(5, mean = 0, sd = 1)\n",
    "x = rnorm( n = 5, mean = 0, sd = 1)\n",
    "y = rnorm(5, 0, 1)\n",
    "z = rnorm(5)\n",
    "round( cbind(x, y, z), 1)"
   ]
  },
  {
   "cell_type": "code",
   "execution_count": 6,
   "metadata": {},
   "outputs": [],
   "source": [
    "# rnorm generate random normal distributed numbers\n",
    "# pass in arguments\n",
    "# whenever unsure, ?rnorm, we can see that those are the three arguments\n",
    "# we are requird to pass the value n, and no need mean and sd.\n",
    "# want to specify the names if we change the default values"
   ]
  },
  {
   "cell_type": "markdown",
   "metadata": {},
   "source": [
    "Arguments passed by name need not be in order:"
   ]
  },
  {
   "cell_type": "code",
   "execution_count": 8,
   "metadata": {},
   "outputs": [
    {
     "data": {
      "text/html": [
       "<table class=\"dataframe\">\n",
       "<caption>A matrix: 2 × 5 of type dbl</caption>\n",
       "<tbody>\n",
       "\t<tr><th scope=row>u</th><td> 0.9</td><td>0.1</td><td> 0.1</td><td>-0.2</td><td>-2.9</td></tr>\n",
       "\t<tr><th scope=row>w</th><td>-0.8</td><td>0.4</td><td>-1.2</td><td>-0.3</td><td>-1.4</td></tr>\n",
       "</tbody>\n",
       "</table>\n"
      ],
      "text/latex": [
       "A matrix: 2 × 5 of type dbl\n",
       "\\begin{tabular}{r|lllll}\n",
       "\tu &  0.9 & 0.1 &  0.1 & -0.2 & -2.9\\\\\n",
       "\tw & -0.8 & 0.4 & -1.2 & -0.3 & -1.4\\\\\n",
       "\\end{tabular}\n"
      ],
      "text/markdown": [
       "\n",
       "A matrix: 2 × 5 of type dbl\n",
       "\n",
       "| u |  0.9 | 0.1 |  0.1 | -0.2 | -2.9 |\n",
       "| w | -0.8 | 0.4 | -1.2 | -0.3 | -1.4 |\n",
       "\n"
      ],
      "text/plain": [
       "  [,1] [,2] [,3] [,4] [,5]\n",
       "u  0.9 0.1   0.1 -0.2 -2.9\n",
       "w -0.8 0.4  -1.2 -0.3 -1.4"
      ]
     },
     "metadata": {},
     "output_type": "display_data"
    }
   ],
   "source": [
    "w = rnorm( mean = 0, sd = 1, n = 5)\n",
    "u = rnorm( mean = 0, sd = 1, 5) # This also works but is bad style. \n",
    "round( rbind(u = u, w = w), 1 )\n",
    "\n",
    "# unnamed arguments get passed to the first argument after the names arguments are assigned"
   ]
  },
  {
   "cell_type": "markdown",
   "metadata": {},
   "source": [
    "###  Style notes\n",
    "\n",
    "Values for function arguments with default values should be passed by name, not position.\n",
    "Commonly used and required function arguments can be passed by position.\n",
    "It’s never bad style to pass by name rather than value."
   ]
  },
  {
   "cell_type": "markdown",
   "metadata": {},
   "source": [
    "### Writing Functions in R\n",
    "\n",
    "You can create your own functions in R. Use functions for tasks that you repeat often in order to make your scripts more easily readable and modifiable. A good rule of thumb is never to copy an paste more than twice; use a function instead.\n",
    "It can also be a good practice to use functions to break complex processes into parts, especially if these parts are used with control flow statements such as loops or conditionals."
   ]
  },
  {
   "cell_type": "markdown",
   "metadata": {},
   "source": [
    "\n",
    "We start with a preliminary exercise where we standardize our vector to have mean zero and standard deviation one.  To achieve this, we can brute force our way through by centering our data first, and then divide by its standard deviation.  "
   ]
  },
  {
   "cell_type": "code",
   "execution_count": 3,
   "metadata": {},
   "outputs": [
    {
     "name": "stdout",
     "output_type": "stream",
     "text": [
      "[1]   1   5 -11  20\n"
     ]
    }
   ],
   "source": [
    "x <- c(1,5,-11,20)\n",
    "print(x)"
   ]
  },
  {
   "cell_type": "code",
   "execution_count": 5,
   "metadata": {},
   "outputs": [
    {
     "name": "stdout",
     "output_type": "stream",
     "text": [
      "[1]  -2.75   1.25 -14.75  16.25\n"
     ]
    },
    {
     "data": {
      "text/html": [
       "163.583333333333"
      ],
      "text/latex": [
       "163.583333333333"
      ],
      "text/markdown": [
       "163.583333333333"
      ],
      "text/plain": [
       "[1] 163.5833"
      ]
     },
     "metadata": {},
     "output_type": "display_data"
    }
   ],
   "source": [
    "x_centered <- x-mean(x)\n",
    "print(x_centered)\n",
    "var(x_centered)"
   ]
  },
  {
   "cell_type": "code",
   "execution_count": 6,
   "metadata": {},
   "outputs": [
    {
     "name": "stdout",
     "output_type": "stream",
     "text": [
      "[1] -0.21501223  0.09773283 -1.15324742  1.27052682\n"
     ]
    },
    {
     "data": {
      "text/html": [
       "1"
      ],
      "text/latex": [
       "1"
      ],
      "text/markdown": [
       "1"
      ],
      "text/plain": [
       "[1] 1"
      ]
     },
     "metadata": {},
     "output_type": "display_data"
    }
   ],
   "source": [
    "x_std <- x_centered / sd(x_centered) # divide by std dev to have variance 1\n",
    "print(x_std)\n",
    "var(x_std)"
   ]
  },
  {
   "cell_type": "markdown",
   "metadata": {},
   "source": [
    "Now let say you have to perform this task again for another vector.  You can simply repeat the above calculations.  "
   ]
  },
  {
   "cell_type": "code",
   "execution_count": 11,
   "metadata": {},
   "outputs": [
    {
     "name": "stdout",
     "output_type": "stream",
     "text": [
      "[1] -0.93379798 -0.41978074 -0.04283477  1.39641349\n"
     ]
    },
    {
     "data": {
      "text/html": [
       "1"
      ],
      "text/latex": [
       "1"
      ],
      "text/markdown": [
       "1"
      ],
      "text/plain": [
       "[1] 1"
      ]
     },
     "metadata": {},
     "output_type": "display_data"
    }
   ],
   "source": [
    "y <- c(-12, 3, 14, 56)\n",
    "y_centered <- y - mean(y)\n",
    "y_std <- y_centered / sd(y_centered)\n",
    "print(y_std)\n",
    "var(y_std) "
   ]
  },
  {
   "cell_type": "markdown",
   "metadata": {},
   "source": [
    "Or, we could write a function in R to help us achieve what we want! "
   ]
  },
  {
   "cell_type": "code",
   "execution_count": 9,
   "metadata": {},
   "outputs": [],
   "source": [
    "# function to compute z-scores\n",
    "z_score1 = function(x) {\n",
    "  #inputs: x - a numeric vector\n",
    "  #outputs: the z-scores for x\n",
    "  xbar = mean(x)\n",
    "  s = sd(x)\n",
    "  z = (x - mean(x)) / s\n",
    "  \n",
    "  return(z)  \n",
    "}\n",
    "\n",
    "stopifnot( z_score1(1:3) == -1:1) # return error if this is not true"
   ]
  },
  {
   "cell_type": "markdown",
   "metadata": {},
   "source": [
    "The return statement is not strictly necessary, but can make complex functions more readable. It is good practice to avoid creating intermediate objects to store values only used once.\n",
    "\n"
   ]
  },
  {
   "cell_type": "code",
   "execution_count": 10,
   "metadata": {},
   "outputs": [],
   "source": [
    "# function to compute z-scores\n",
    "z_score2 = function(x){\n",
    "  #inputs: x - a numeric vector\n",
    "  #outputs: the z-scores for x\n",
    "  {x - mean(x)} / sd(x)\n",
    "}"
   ]
  },
  {
   "cell_type": "code",
   "execution_count": 11,
   "metadata": {},
   "outputs": [
    {
     "data": {
      "text/html": [
       "<table class=\"dataframe\">\n",
       "<caption>A matrix: 10 × 3 of type dbl</caption>\n",
       "<thead>\n",
       "\t<tr><th scope=col>x</th><th scope=col>Z1</th><th scope=col>Z2</th></tr>\n",
       "</thead>\n",
       "<tbody>\n",
       "\t<tr><td>3.0</td><td>-0.3</td><td>-0.3</td></tr>\n",
       "\t<tr><td>3.2</td><td> 0.0</td><td> 0.0</td></tr>\n",
       "\t<tr><td>2.9</td><td>-0.5</td><td>-0.5</td></tr>\n",
       "\t<tr><td>3.4</td><td> 0.3</td><td> 0.3</td></tr>\n",
       "\t<tr><td>3.2</td><td>-0.1</td><td>-0.1</td></tr>\n",
       "\t<tr><td>2.2</td><td>-1.5</td><td>-1.5</td></tr>\n",
       "\t<tr><td>2.8</td><td>-0.6</td><td>-0.6</td></tr>\n",
       "\t<tr><td>4.9</td><td> 2.4</td><td> 2.4</td></tr>\n",
       "\t<tr><td>3.3</td><td> 0.1</td><td> 0.1</td></tr>\n",
       "\t<tr><td>3.3</td><td> 0.1</td><td> 0.1</td></tr>\n",
       "</tbody>\n",
       "</table>\n"
      ],
      "text/latex": [
       "A matrix: 10 × 3 of type dbl\n",
       "\\begin{tabular}{lll}\n",
       " x & Z1 & Z2\\\\\n",
       "\\hline\n",
       "\t 3.0 & -0.3 & -0.3\\\\\n",
       "\t 3.2 &  0.0 &  0.0\\\\\n",
       "\t 2.9 & -0.5 & -0.5\\\\\n",
       "\t 3.4 &  0.3 &  0.3\\\\\n",
       "\t 3.2 & -0.1 & -0.1\\\\\n",
       "\t 2.2 & -1.5 & -1.5\\\\\n",
       "\t 2.8 & -0.6 & -0.6\\\\\n",
       "\t 4.9 &  2.4 &  2.4\\\\\n",
       "\t 3.3 &  0.1 &  0.1\\\\\n",
       "\t 3.3 &  0.1 &  0.1\\\\\n",
       "\\end{tabular}\n"
      ],
      "text/markdown": [
       "\n",
       "A matrix: 10 × 3 of type dbl\n",
       "\n",
       "| x | Z1 | Z2 |\n",
       "|---|---|---|\n",
       "| 3.0 | -0.3 | -0.3 |\n",
       "| 3.2 |  0.0 |  0.0 |\n",
       "| 2.9 | -0.5 | -0.5 |\n",
       "| 3.4 |  0.3 |  0.3 |\n",
       "| 3.2 | -0.1 | -0.1 |\n",
       "| 2.2 | -1.5 | -1.5 |\n",
       "| 2.8 | -0.6 | -0.6 |\n",
       "| 4.9 |  2.4 |  2.4 |\n",
       "| 3.3 |  0.1 |  0.1 |\n",
       "| 3.3 |  0.1 |  0.1 |\n",
       "\n"
      ],
      "text/plain": [
       "      x   Z1   Z2  \n",
       " [1,] 3.0 -0.3 -0.3\n",
       " [2,] 3.2  0.0  0.0\n",
       " [3,] 2.9 -0.5 -0.5\n",
       " [4,] 3.4  0.3  0.3\n",
       " [5,] 3.2 -0.1 -0.1\n",
       " [6,] 2.2 -1.5 -1.5\n",
       " [7,] 2.8 -0.6 -0.6\n",
       " [8,] 4.9  2.4  2.4\n",
       " [9,] 3.3  0.1  0.1\n",
       "[10,] 3.3  0.1  0.1"
      ]
     },
     "metadata": {},
     "output_type": "display_data"
    }
   ],
   "source": [
    "x = rnorm(10, 3, 1) ## generate some normally distributed values\n",
    "round( cbind(x, 'Z1' = z_score1(x), 'Z2' = z_score2(x) ), 1)"
   ]
  },
  {
   "cell_type": "markdown",
   "metadata": {},
   "source": [
    "### Default Parameters\n",
    "\n",
    "We can set default values for parameters using the construction `parameter = xx` in the function definition.\n",
    "\n",
    "\n"
   ]
  },
  {
   "cell_type": "code",
   "execution_count": 12,
   "metadata": {},
   "outputs": [],
   "source": [
    "# function to compute z-scores\n",
    "z_score3 = function(x, na.rm = T){\n",
    "  {x - mean(x, na.rm = na.rm)} / sd(x, na.rm = na.rm)\n",
    "}"
   ]
  },
  {
   "cell_type": "code",
   "execution_count": 13,
   "metadata": {},
   "outputs": [
    {
     "data": {
      "text/html": [
       "<table class=\"dataframe\">\n",
       "<caption>A matrix: 12 × 4 of type dbl</caption>\n",
       "<thead>\n",
       "\t<tr><th scope=col>x</th><th scope=col>Z1</th><th scope=col>Z2</th><th scope=col>Z3</th></tr>\n",
       "</thead>\n",
       "<tbody>\n",
       "\t<tr><td> NA</td><td>NA</td><td>NA</td><td>  NA</td></tr>\n",
       "\t<tr><td>3.0</td><td>NA</td><td>NA</td><td>-0.3</td></tr>\n",
       "\t<tr><td>3.2</td><td>NA</td><td>NA</td><td> 0.0</td></tr>\n",
       "\t<tr><td>2.9</td><td>NA</td><td>NA</td><td>-0.5</td></tr>\n",
       "\t<tr><td>3.4</td><td>NA</td><td>NA</td><td> 0.3</td></tr>\n",
       "\t<tr><td>3.2</td><td>NA</td><td>NA</td><td>-0.1</td></tr>\n",
       "\t<tr><td>2.2</td><td>NA</td><td>NA</td><td>-1.5</td></tr>\n",
       "\t<tr><td>2.8</td><td>NA</td><td>NA</td><td>-0.6</td></tr>\n",
       "\t<tr><td>4.9</td><td>NA</td><td>NA</td><td> 2.4</td></tr>\n",
       "\t<tr><td>3.3</td><td>NA</td><td>NA</td><td> 0.1</td></tr>\n",
       "\t<tr><td>3.3</td><td>NA</td><td>NA</td><td> 0.1</td></tr>\n",
       "\t<tr><td> NA</td><td>NA</td><td>NA</td><td>  NA</td></tr>\n",
       "</tbody>\n",
       "</table>\n"
      ],
      "text/latex": [
       "A matrix: 12 × 4 of type dbl\n",
       "\\begin{tabular}{llll}\n",
       " x & Z1 & Z2 & Z3\\\\\n",
       "\\hline\n",
       "\t  NA & NA & NA &   NA\\\\\n",
       "\t 3.0 & NA & NA & -0.3\\\\\n",
       "\t 3.2 & NA & NA &  0.0\\\\\n",
       "\t 2.9 & NA & NA & -0.5\\\\\n",
       "\t 3.4 & NA & NA &  0.3\\\\\n",
       "\t 3.2 & NA & NA & -0.1\\\\\n",
       "\t 2.2 & NA & NA & -1.5\\\\\n",
       "\t 2.8 & NA & NA & -0.6\\\\\n",
       "\t 4.9 & NA & NA &  2.4\\\\\n",
       "\t 3.3 & NA & NA &  0.1\\\\\n",
       "\t 3.3 & NA & NA &  0.1\\\\\n",
       "\t  NA & NA & NA &   NA\\\\\n",
       "\\end{tabular}\n"
      ],
      "text/markdown": [
       "\n",
       "A matrix: 12 × 4 of type dbl\n",
       "\n",
       "| x | Z1 | Z2 | Z3 |\n",
       "|---|---|---|---|\n",
       "|  NA | NA | NA |   NA |\n",
       "| 3.0 | NA | NA | -0.3 |\n",
       "| 3.2 | NA | NA |  0.0 |\n",
       "| 2.9 | NA | NA | -0.5 |\n",
       "| 3.4 | NA | NA |  0.3 |\n",
       "| 3.2 | NA | NA | -0.1 |\n",
       "| 2.2 | NA | NA | -1.5 |\n",
       "| 2.8 | NA | NA | -0.6 |\n",
       "| 4.9 | NA | NA |  2.4 |\n",
       "| 3.3 | NA | NA |  0.1 |\n",
       "| 3.3 | NA | NA |  0.1 |\n",
       "|  NA | NA | NA |   NA |\n",
       "\n"
      ],
      "text/plain": [
       "      x   Z1 Z2 Z3  \n",
       " [1,]  NA NA NA   NA\n",
       " [2,] 3.0 NA NA -0.3\n",
       " [3,] 3.2 NA NA  0.0\n",
       " [4,] 2.9 NA NA -0.5\n",
       " [5,] 3.4 NA NA  0.3\n",
       " [6,] 3.2 NA NA -0.1\n",
       " [7,] 2.2 NA NA -1.5\n",
       " [8,] 2.8 NA NA -0.6\n",
       " [9,] 4.9 NA NA  2.4\n",
       "[10,] 3.3 NA NA  0.1\n",
       "[11,] 3.3 NA NA  0.1\n",
       "[12,]  NA NA NA   NA"
      ]
     },
     "metadata": {},
     "output_type": "display_data"
    }
   ],
   "source": [
    "x = c(NA, x, NA)\n",
    "round( cbind(x, 'Z1' = z_score1(x), 'Z2' = z_score2(x), 'Z3' = z_score3(x) ), 1)"
   ]
  },
  {
   "cell_type": "markdown",
   "metadata": {},
   "source": [
    "## Scope\n",
    "\n",
    "Scoping refers to how R looks up the value associated with an object referred to by name. There are two types of scoping – lexical and dynamic – but we will concern ourselves only with lexical scoping here. There are four keys to understanding scoping:\n",
    "\n",
    "- environments\n",
    "- name masking\n",
    "- variables vs functions\n",
    "- dynamic look up and lazy evaluation.\n"
   ]
  },
  {
   "cell_type": "markdown",
   "metadata": {},
   "source": [
    "An environment can be thought of as a context in which names are associated with objects. Each time a function is called, it generates a new environment for the computation.\n",
    "\n",
    "Consider the following examples:"
   ]
  },
  {
   "cell_type": "code",
   "execution_count": 15,
   "metadata": {},
   "outputs": [
    {
     "data": {
      "text/html": [
       "<style>\n",
       ".list-inline {list-style: none; margin:0; padding: 0}\n",
       ".list-inline>li {display: inline-block}\n",
       ".list-inline>li:not(:last-child)::after {content: \"\\00b7\"; padding: 0 .5ex}\n",
       "</style>\n",
       "<ol class=list-inline><li>'f1'</li><li>'u'</li><li>'w'</li><li>'x'</li><li>'y'</li><li>'z'</li><li>'z_score1'</li><li>'z_score2'</li><li>'z_score3'</li></ol>\n"
      ],
      "text/latex": [
       "\\begin{enumerate*}\n",
       "\\item 'f1'\n",
       "\\item 'u'\n",
       "\\item 'w'\n",
       "\\item 'x'\n",
       "\\item 'y'\n",
       "\\item 'z'\n",
       "\\item 'z\\_score1'\n",
       "\\item 'z\\_score2'\n",
       "\\item 'z\\_score3'\n",
       "\\end{enumerate*}\n"
      ],
      "text/markdown": [
       "1. 'f1'\n",
       "2. 'u'\n",
       "3. 'w'\n",
       "4. 'x'\n",
       "5. 'y'\n",
       "6. 'z'\n",
       "7. 'z_score1'\n",
       "8. 'z_score2'\n",
       "9. 'z_score3'\n",
       "\n",
       "\n"
      ],
      "text/plain": [
       "[1] \"f1\"       \"u\"        \"w\"        \"x\"        \"y\"        \"z\"        \"z_score1\"\n",
       "[8] \"z_score2\" \"z_score3\""
      ]
     },
     "metadata": {},
     "output_type": "display_data"
    }
   ],
   "source": [
    "?ls()\n",
    "ls()"
   ]
  },
  {
   "cell_type": "code",
   "execution_count": 16,
   "metadata": {},
   "outputs": [
    {
     "data": {
      "text/html": [
       "'f1_message'"
      ],
      "text/latex": [
       "'f1\\_message'"
      ],
      "text/markdown": [
       "'f1_message'"
      ],
      "text/plain": [
       "[1] \"f1_message\""
      ]
     },
     "metadata": {},
     "output_type": "display_data"
    }
   ],
   "source": [
    "f1 = function() {\n",
    "  f1_message = \"I'm defined inside of f!\"  # `message` is a function in base\n",
    "  ls()\n",
    "}\n",
    "f1()"
   ]
  },
  {
   "cell_type": "code",
   "execution_count": 17,
   "metadata": {},
   "outputs": [
    {
     "data": {
      "text/html": [
       "TRUE"
      ],
      "text/latex": [
       "TRUE"
      ],
      "text/markdown": [
       "TRUE"
      ],
      "text/plain": [
       "[1] TRUE"
      ]
     },
     "metadata": {},
     "output_type": "display_data"
    }
   ],
   "source": [
    "exists('f1') # f1 %in% ls() "
   ]
  },
  {
   "cell_type": "code",
   "execution_count": 18,
   "metadata": {},
   "outputs": [
    {
     "data": {
      "text/html": [
       "FALSE"
      ],
      "text/latex": [
       "FALSE"
      ],
      "text/markdown": [
       "FALSE"
      ],
      "text/plain": [
       "[1] FALSE"
      ]
     },
     "metadata": {},
     "output_type": "display_data"
    }
   ],
   "source": [
    "exists('f1_message')"
   ]
  },
  {
   "cell_type": "code",
   "execution_count": 19,
   "metadata": {},
   "outputs": [
    {
     "data": {
      "text/plain": [
       "<environment: R_GlobalEnv>"
      ]
     },
     "metadata": {},
     "output_type": "display_data"
    }
   ],
   "source": [
    "environment() # here we are in the global environment"
   ]
  },
  {
   "cell_type": "code",
   "execution_count": 20,
   "metadata": {},
   "outputs": [
    {
     "data": {
      "text/plain": [
       "<environment: 0x7fab30195bd0>"
      ]
     },
     "metadata": {},
     "output_type": "display_data"
    }
   ],
   "source": [
    "f2 = function(){\n",
    "  environment() # here we are in the local environment -- each time we get a different local environment\n",
    "    # created for the purpose of this function\n",
    "}\n",
    "f2()"
   ]
  },
  {
   "cell_type": "code",
   "execution_count": 21,
   "metadata": {},
   "outputs": [],
   "source": [
    "rm(f1, f2)"
   ]
  },
  {
   "cell_type": "markdown",
   "metadata": {},
   "source": [
    "Name masking refers to where and in what order `R` looks for object names.\n",
    "When we call `f1` above, `R` first looks in the current environment which happens to be the global environment. The call to `ls()` however, happens within the environment created by the function call and hence returns only the objects defined in the local environment."
   ]
  },
  {
   "cell_type": "markdown",
   "metadata": {},
   "source": [
    "When an environment is created, it gets nested within the current environment referred to as the “parent environment”. When an object is referenced we first look in the current environment and move recursively up through parent environments until we find a value bound to that name.\n",
    "\n"
   ]
  },
  {
   "cell_type": "markdown",
   "metadata": {},
   "source": [
    "Name masking refers to the notion that objects of the same name can exist in different environments. Consider these examples:\n",
    "\n"
   ]
  },
  {
   "cell_type": "code",
   "execution_count": 22,
   "metadata": {},
   "outputs": [
    {
     "data": {
      "text/html": [
       "<dl>\n",
       "\t<dt>$x</dt>\n",
       "\t\t<dd>'I came from inside of f!'</dd>\n",
       "\t<dt>$y</dt>\n",
       "\t\t<dd>'I came from outside of f!'</dd>\n",
       "</dl>\n"
      ],
      "text/latex": [
       "\\begin{description}\n",
       "\\item[\\$x] 'I came from inside of f!'\n",
       "\\item[\\$y] 'I came from outside of f!'\n",
       "\\end{description}\n"
      ],
      "text/markdown": [
       "$x\n",
       ":   'I came from inside of f!'\n",
       "$y\n",
       ":   'I came from outside of f!'\n",
       "\n",
       "\n"
      ],
      "text/plain": [
       "$x\n",
       "[1] \"I came from inside of f!\"\n",
       "\n",
       "$y\n",
       "[1] \"I came from outside of f!\"\n"
      ]
     },
     "metadata": {},
     "output_type": "display_data"
    }
   ],
   "source": [
    "#  Example 3 -- lexical scoping\n",
    "y = x = 'I came from outside of f!'\n",
    "f3 = function(){\n",
    "  x =  'I came from inside of f!'\n",
    "  list( x = x, y = y )\n",
    "}\n",
    "f3()"
   ]
  },
  {
   "cell_type": "code",
   "execution_count": 23,
   "metadata": {},
   "outputs": [
    {
     "data": {
      "text/html": [
       "'I came from outside of f!'"
      ],
      "text/latex": [
       "'I came from outside of f!'"
      ],
      "text/markdown": [
       "'I came from outside of f!'"
      ],
      "text/plain": [
       "[1] \"I came from outside of f!\""
      ]
     },
     "metadata": {},
     "output_type": "display_data"
    }
   ],
   "source": [
    "# x is giong to be within the closing environment\n",
    "# y is not, so R will search for y in the parent environment and keep moving up\n",
    "# x is associated with f3, not going to change the x in the global environment, unless we explicitly write the code \n",
    "# to do that\n",
    "x "
   ]
  },
  {
   "cell_type": "code",
   "execution_count": 24,
   "metadata": {},
   "outputs": [
    {
     "data": {
      "text/html": [
       "55"
      ],
      "text/latex": [
       "55"
      ],
      "text/markdown": [
       "55"
      ],
      "text/plain": [
       "[1] 55"
      ]
     },
     "metadata": {},
     "output_type": "display_data"
    }
   ],
   "source": [
    "#  Example 4 -- masking\n",
    "mean = function(x){ \n",
    "    sum(x)\n",
    "}\n",
    "mean(1:10)"
   ]
  },
  {
   "cell_type": "code",
   "execution_count": 25,
   "metadata": {},
   "outputs": [
    {
     "data": {
      "text/html": [
       "5.5"
      ],
      "text/latex": [
       "5.5"
      ],
      "text/markdown": [
       "5.5"
      ],
      "text/plain": [
       "[1] 5.5"
      ]
     },
     "metadata": {},
     "output_type": "display_data"
    }
   ],
   "source": [
    "base::mean(1:10)\n",
    "\n"
   ]
  },
  {
   "cell_type": "code",
   "execution_count": 26,
   "metadata": {},
   "outputs": [],
   "source": [
    "rm(mean)"
   ]
  },
  {
   "cell_type": "markdown",
   "metadata": {},
   "source": [
    "R also uses dynamic look up, meaning values are searched for when a function is called, not when it is created. In the example above, y was defined in the global environment rather than within the function body. This means the value returned by f3 depends on the value of y in the global environment. You should generally avoid this, but there are occasions where it can be useful.\n",
    "\n"
   ]
  },
  {
   "cell_type": "code",
   "execution_count": 27,
   "metadata": {},
   "outputs": [
    {
     "data": {
      "text/html": [
       "<dl>\n",
       "\t<dt>$x</dt>\n",
       "\t\t<dd>'I came from inside of f!'</dd>\n",
       "\t<dt>$y</dt>\n",
       "\t\t<dd>'I have been reinvented!'</dd>\n",
       "</dl>\n"
      ],
      "text/latex": [
       "\\begin{description}\n",
       "\\item[\\$x] 'I came from inside of f!'\n",
       "\\item[\\$y] 'I have been reinvented!'\n",
       "\\end{description}\n"
      ],
      "text/markdown": [
       "$x\n",
       ":   'I came from inside of f!'\n",
       "$y\n",
       ":   'I have been reinvented!'\n",
       "\n",
       "\n"
      ],
      "text/plain": [
       "$x\n",
       "[1] \"I came from inside of f!\"\n",
       "\n",
       "$y\n",
       "[1] \"I have been reinvented!\"\n"
      ]
     },
     "metadata": {},
     "output_type": "display_data"
    }
   ],
   "source": [
    "# Example 5 - dynamic lookup\n",
    "y = \"I have been reinvented!\"\n",
    "f3()"
   ]
  },
  {
   "cell_type": "code",
   "execution_count": null,
   "metadata": {},
   "outputs": [],
   "source": [
    "# when we create f3 y was defined differnetly. R use what its call dynamic lookup\n",
    "# find y in the nearest environment when f3 is evaluated.  "
   ]
  },
  {
   "cell_type": "markdown",
   "metadata": {},
   "source": [
    "Finally, lazy evaluation means R only evaluates function arguments if and when they are actually used.\n",
    "\n"
   ]
  },
  {
   "cell_type": "code",
   "execution_count": 28,
   "metadata": {},
   "outputs": [
    {
     "data": {
      "text/html": [
       "45"
      ],
      "text/latex": [
       "45"
      ],
      "text/markdown": [
       "45"
      ],
      "text/plain": [
       "[1] 45"
      ]
     },
     "metadata": {},
     "output_type": "display_data"
    }
   ],
   "source": [
    "# Example 6 - lazy evaluation\n",
    "\n",
    "f4 = function(x){\n",
    "  #x\n",
    "  45\n",
    "}\n",
    "\n",
    "f4( x = stop(\"Let's pass an error.\") )"
   ]
  },
  {
   "cell_type": "markdown",
   "metadata": {},
   "source": [
    "### Summary thus far\n",
    "<div style=\"border: 1px double black; padding: 10px; margin: 10px\">\n",
    "    \n",
    "**Functions**\n",
    "\n",
    "* When in doubt, pass arguments to a function by name\n",
    "    \n",
    "* If you copy and paste a chunk of codes more than three times, use a function\n",
    "    \n",
    "* Use comment to document each of your function\n",
    "    * purpose\n",
    "    * input / arguments - including default arguments\n",
    "    * outputs\n",
    "    \n",
    "* Scope: function bodies are executed in their own environment\n",
    "    * dynamic lookup \n",
    "    * masking\n",
    "    * lazy evaluation\n",
    "    \n",
    "    </div>    "
   ]
  }
 ],
 "metadata": {
  "kernelspec": {
   "display_name": "R",
   "language": "R",
   "name": "ir"
  },
  "language_info": {
   "codemirror_mode": "r",
   "file_extension": ".r",
   "mimetype": "text/x-r-source",
   "name": "R",
   "pygments_lexer": "r",
   "version": "4.0.2"
  }
 },
 "nbformat": 4,
 "nbformat_minor": 1
}
