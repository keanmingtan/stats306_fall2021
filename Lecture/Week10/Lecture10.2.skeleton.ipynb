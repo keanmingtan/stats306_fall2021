{
 "cells": [
  {
   "cell_type": "markdown",
   "metadata": {},
   "source": [
    "# Lecture 10.2: Vectors, lists, iteration & FP\n",
    "In this lecture we'll learn about:\n",
    "- [Atomic vectors](#Atomic-vectors), or what we have been calling vectors up to this point.\n",
    "- [Lists](#Lists), a.k.a. recursive vectors.\n",
    "- [Iteration](#Iteration): `for`/`while` loops.\n",
    "- [Functional programming](#Functional-programming) (FP): functions that operate on other functions.\n",
    "\n"
   ]
  },
  {
   "cell_type": "code",
   "execution_count": 5,
   "metadata": {},
   "outputs": [
    {
     "name": "stderr",
     "output_type": "stream",
     "text": [
      "── \u001b[1mAttaching packages\u001b[22m ─────────────────────────────────────── tidyverse 1.3.0 ──\n",
      "\n",
      "\u001b[32m✔\u001b[39m \u001b[34mggplot2\u001b[39m 3.3.2     \u001b[32m✔\u001b[39m \u001b[34mpurrr  \u001b[39m 0.3.4\n",
      "\u001b[32m✔\u001b[39m \u001b[34mtibble \u001b[39m 3.0.3     \u001b[32m✔\u001b[39m \u001b[34mdplyr  \u001b[39m 1.0.2\n",
      "\u001b[32m✔\u001b[39m \u001b[34mtidyr  \u001b[39m 1.1.1     \u001b[32m✔\u001b[39m \u001b[34mstringr\u001b[39m 1.4.0\n",
      "\u001b[32m✔\u001b[39m \u001b[34mreadr  \u001b[39m 1.3.1     \u001b[32m✔\u001b[39m \u001b[34mforcats\u001b[39m 0.5.0\n",
      "\n",
      "── \u001b[1mConflicts\u001b[22m ────────────────────────────────────────── tidyverse_conflicts() ──\n",
      "\u001b[31m✖\u001b[39m \u001b[34mdplyr\u001b[39m::\u001b[32mfilter()\u001b[39m masks \u001b[34mstats\u001b[39m::filter()\n",
      "\u001b[31m✖\u001b[39m \u001b[34mdplyr\u001b[39m::\u001b[32mlag()\u001b[39m    masks \u001b[34mstats\u001b[39m::lag()\n",
      "\n"
     ]
    }
   ],
   "source": [
    "library(tidyverse)"
   ]
  },
  {
   "cell_type": "markdown",
   "metadata": {},
   "source": [
    "## Atomic vectors\n",
    "Vectors are sequences of data elements in R. So far we have exclusively studied *atomic* vectors, which are sequences of elements that all have the same type. The two most important properties of a vector are its *type* and its *length*:"
   ]
  },
  {
   "cell_type": "code",
   "execution_count": null,
   "metadata": {},
   "outputs": [],
   "source": []
  },
  {
   "cell_type": "markdown",
   "metadata": {},
   "source": [
    "A single data element is called a *scalar.* An important thing to realize is that, to R, there is no distinction between scalars and vectors -- a scalar is simply an atomic vector of length one."
   ]
  },
  {
   "cell_type": "code",
   "execution_count": null,
   "metadata": {},
   "outputs": [],
   "source": []
  },
  {
   "cell_type": "markdown",
   "metadata": {},
   "source": [
    "### Types of atomic vectors\n",
    "The most important types of atomic vector are logical, numeric, and character."
   ]
  },
  {
   "cell_type": "markdown",
   "metadata": {},
   "source": [
    "Logical vectors hold the values `TRUE`, `FALSE` and `NA`."
   ]
  },
  {
   "cell_type": "code",
   "execution_count": null,
   "metadata": {},
   "outputs": [],
   "source": []
  },
  {
   "cell_type": "markdown",
   "metadata": {},
   "source": [
    "Numeric vectors hold integers or doubles. By default, if you enter a number in R it is stored as a double:"
   ]
  },
  {
   "cell_type": "code",
   "execution_count": null,
   "metadata": {},
   "outputs": [],
   "source": []
  },
  {
   "cell_type": "markdown",
   "metadata": {},
   "source": [
    "If you want to explicitly store integers, you can use the as.integer function:"
   ]
  },
  {
   "cell_type": "code",
   "execution_count": null,
   "metadata": {},
   "outputs": [],
   "source": []
  },
  {
   "cell_type": "markdown",
   "metadata": {},
   "source": [
    "### Names\n",
    "\n",
    "It is possible to assign names to each entry of a vector:"
   ]
  },
  {
   "cell_type": "code",
   "execution_count": null,
   "metadata": {},
   "outputs": [],
   "source": []
  },
  {
   "cell_type": "markdown",
   "metadata": {},
   "source": [
    "## Lists\n",
    "Lists are another type of sequence data type found in R. Unlike atomic vectors, lists can hold objects of multiple types:"
   ]
  },
  {
   "cell_type": "code",
   "execution_count": null,
   "metadata": {},
   "outputs": [],
   "source": []
  },
  {
   "cell_type": "markdown",
   "metadata": {},
   "source": [
    "As the printout suggests, you can think of a list as a \"vector of vectors\". For this reason, they are sometimes referred to as \"recursive vectors\"."
   ]
  },
  {
   "cell_type": "markdown",
   "metadata": {},
   "source": [
    "The `str` command will print out the **str**ucture of a vector:"
   ]
  },
  {
   "cell_type": "code",
   "execution_count": null,
   "metadata": {},
   "outputs": [],
   "source": []
  },
  {
   "cell_type": "markdown",
   "metadata": {},
   "source": [
    "Just like atomic vectors, you can name each individual entry of a list:    "
   ]
  },
  {
   "cell_type": "code",
   "execution_count": null,
   "metadata": {},
   "outputs": [],
   "source": []
  },
  {
   "cell_type": "markdown",
   "metadata": {},
   "source": [
    "### Sub-setting lists\n",
    "Subsetting lists is a little more complex than subsetting atomic vectors. We will use the following example list:"
   ]
  },
  {
   "cell_type": "code",
   "execution_count": null,
   "metadata": {},
   "outputs": [],
   "source": []
  },
  {
   "cell_type": "markdown",
   "metadata": {},
   "source": [
    "#### `[]`\n",
    "The `[]` operator extracts a sub-list. That is, the return type will always be a list:"
   ]
  },
  {
   "cell_type": "code",
   "execution_count": null,
   "metadata": {},
   "outputs": [],
   "source": []
  },
  {
   "cell_type": "markdown",
   "metadata": {},
   "source": [
    "As with atomic vectors, the single brackets accept integer, logical and character vectors:"
   ]
  },
  {
   "cell_type": "code",
   "execution_count": null,
   "metadata": {},
   "outputs": [],
   "source": []
  },
  {
   "cell_type": "markdown",
   "metadata": {},
   "source": [
    "#### `[[]]`\n",
    "The double-brackets will extract a single component from the list:"
   ]
  },
  {
   "cell_type": "code",
   "execution_count": null,
   "metadata": {},
   "outputs": [],
   "source": []
  },
  {
   "cell_type": "markdown",
   "metadata": {},
   "source": [
    "You can also pass an integer vector to `[[]]`. This will index into successive levels of the list:"
   ]
  },
  {
   "cell_type": "code",
   "execution_count": null,
   "metadata": {},
   "outputs": [],
   "source": []
  },
  {
   "cell_type": "markdown",
   "metadata": {},
   "source": [
    "### Data frames are lists\n",
    "Many data types in R are actually lists plus some additional attributes. For example, tibbles and data frames are both lists:"
   ]
  },
  {
   "cell_type": "markdown",
   "metadata": {},
   "source": [
    "The `names()` of a tibble/data frame correspond to columns. This means we can use the list indexing methods shown above to access columns:"
   ]
  },
  {
   "cell_type": "code",
   "execution_count": null,
   "metadata": {},
   "outputs": [],
   "source": []
  },
  {
   "cell_type": "markdown",
   "metadata": {},
   "source": [
    "## Iteration\n",
    "Iteration means, roughly, \"running the same piece of code repeatedly\". There are many ways to perform iteration in R. The one you have probably heard of is the *for loop*:\n",
    "```{r}\n",
    "for (<index> in <vector>) {\n",
    "    [do something for each value of <index>]\n",
    "}\n",
    "```"
   ]
  },
  {
   "cell_type": "markdown",
   "metadata": {},
   "source": [
    "For example, suppose we wanted to compute the median for each column of the following tibble:"
   ]
  },
  {
   "cell_type": "code",
   "execution_count": 6,
   "metadata": {},
   "outputs": [
    {
     "data": {
      "text/html": [
       "<table>\n",
       "<caption>A tibble: 10 × 4</caption>\n",
       "<thead>\n",
       "\t<tr><th scope=col>a</th><th scope=col>b</th><th scope=col>c</th><th scope=col>d</th></tr>\n",
       "\t<tr><th scope=col>&lt;dbl&gt;</th><th scope=col>&lt;dbl&gt;</th><th scope=col>&lt;dbl&gt;</th><th scope=col>&lt;dbl&gt;</th></tr>\n",
       "</thead>\n",
       "<tbody>\n",
       "\t<tr><td>-0.6264538</td><td> 1.51178117</td><td> 0.91897737</td><td> 1.35867955</td></tr>\n",
       "\t<tr><td> 0.1836433</td><td> 0.38984324</td><td> 0.78213630</td><td>-0.10278773</td></tr>\n",
       "\t<tr><td>-0.8356286</td><td>-0.62124058</td><td> 0.07456498</td><td> 0.38767161</td></tr>\n",
       "\t<tr><td> 1.5952808</td><td>-2.21469989</td><td>-1.98935170</td><td>-0.05380504</td></tr>\n",
       "\t<tr><td> 0.3295078</td><td> 1.12493092</td><td> 0.61982575</td><td>-1.37705956</td></tr>\n",
       "\t<tr><td>-0.8204684</td><td>-0.04493361</td><td>-0.05612874</td><td>-0.41499456</td></tr>\n",
       "\t<tr><td> 0.4874291</td><td>-0.01619026</td><td>-0.15579551</td><td>-0.39428995</td></tr>\n",
       "\t<tr><td> 0.7383247</td><td> 0.94383621</td><td>-1.47075238</td><td>-0.05931340</td></tr>\n",
       "\t<tr><td> 0.5757814</td><td> 0.82122120</td><td>-0.47815006</td><td> 1.10002537</td></tr>\n",
       "\t<tr><td>-0.3053884</td><td> 0.59390132</td><td> 0.41794156</td><td> 0.76317575</td></tr>\n",
       "</tbody>\n",
       "</table>\n"
      ],
      "text/latex": [
       "A tibble: 10 × 4\n",
       "\\begin{tabular}{llll}\n",
       " a & b & c & d\\\\\n",
       " <dbl> & <dbl> & <dbl> & <dbl>\\\\\n",
       "\\hline\n",
       "\t -0.6264538 &  1.51178117 &  0.91897737 &  1.35867955\\\\\n",
       "\t  0.1836433 &  0.38984324 &  0.78213630 & -0.10278773\\\\\n",
       "\t -0.8356286 & -0.62124058 &  0.07456498 &  0.38767161\\\\\n",
       "\t  1.5952808 & -2.21469989 & -1.98935170 & -0.05380504\\\\\n",
       "\t  0.3295078 &  1.12493092 &  0.61982575 & -1.37705956\\\\\n",
       "\t -0.8204684 & -0.04493361 & -0.05612874 & -0.41499456\\\\\n",
       "\t  0.4874291 & -0.01619026 & -0.15579551 & -0.39428995\\\\\n",
       "\t  0.7383247 &  0.94383621 & -1.47075238 & -0.05931340\\\\\n",
       "\t  0.5757814 &  0.82122120 & -0.47815006 &  1.10002537\\\\\n",
       "\t -0.3053884 &  0.59390132 &  0.41794156 &  0.76317575\\\\\n",
       "\\end{tabular}\n"
      ],
      "text/markdown": [
       "\n",
       "A tibble: 10 × 4\n",
       "\n",
       "| a &lt;dbl&gt; | b &lt;dbl&gt; | c &lt;dbl&gt; | d &lt;dbl&gt; |\n",
       "|---|---|---|---|\n",
       "| -0.6264538 |  1.51178117 |  0.91897737 |  1.35867955 |\n",
       "|  0.1836433 |  0.38984324 |  0.78213630 | -0.10278773 |\n",
       "| -0.8356286 | -0.62124058 |  0.07456498 |  0.38767161 |\n",
       "|  1.5952808 | -2.21469989 | -1.98935170 | -0.05380504 |\n",
       "|  0.3295078 |  1.12493092 |  0.61982575 | -1.37705956 |\n",
       "| -0.8204684 | -0.04493361 | -0.05612874 | -0.41499456 |\n",
       "|  0.4874291 | -0.01619026 | -0.15579551 | -0.39428995 |\n",
       "|  0.7383247 |  0.94383621 | -1.47075238 | -0.05931340 |\n",
       "|  0.5757814 |  0.82122120 | -0.47815006 |  1.10002537 |\n",
       "| -0.3053884 |  0.59390132 |  0.41794156 |  0.76317575 |\n",
       "\n"
      ],
      "text/plain": [
       "   a          b           c           d          \n",
       "1  -0.6264538  1.51178117  0.91897737  1.35867955\n",
       "2   0.1836433  0.38984324  0.78213630 -0.10278773\n",
       "3  -0.8356286 -0.62124058  0.07456498  0.38767161\n",
       "4   1.5952808 -2.21469989 -1.98935170 -0.05380504\n",
       "5   0.3295078  1.12493092  0.61982575 -1.37705956\n",
       "6  -0.8204684 -0.04493361 -0.05612874 -0.41499456\n",
       "7   0.4874291 -0.01619026 -0.15579551 -0.39428995\n",
       "8   0.7383247  0.94383621 -1.47075238 -0.05931340\n",
       "9   0.5757814  0.82122120 -0.47815006  1.10002537\n",
       "10 -0.3053884  0.59390132  0.41794156  0.76317575"
      ]
     },
     "metadata": {},
     "output_type": "display_data"
    }
   ],
   "source": [
    "set.seed(1)\n",
    "df = tibble(\n",
    "  a = rnorm(10),\n",
    "  b = rnorm(10),\n",
    "  c = rnorm(10),\n",
    "  d = rnorm(10)\n",
    ")\n",
    "df"
   ]
  },
  {
   "cell_type": "markdown",
   "metadata": {},
   "source": [
    "One option is to repeatedly write out the call `median` for each column:"
   ]
  },
  {
   "cell_type": "code",
   "execution_count": 9,
   "metadata": {},
   "outputs": [
    {
     "data": {
      "text/html": [
       "0.256575548018721"
      ],
      "text/latex": [
       "0.256575548018721"
      ],
      "text/markdown": [
       "0.256575548018721"
      ],
      "text/plain": [
       "[1] 0.2565755"
      ]
     },
     "metadata": {},
     "output_type": "display_data"
    },
    {
     "data": {
      "text/html": [
       "0.49187227881447"
      ],
      "text/latex": [
       "0.49187227881447"
      ],
      "text/markdown": [
       "0.49187227881447"
      ],
      "text/plain": [
       "[1] 0.4918723"
      ]
     },
     "metadata": {},
     "output_type": "display_data"
    },
    {
     "data": {
      "text/html": [
       "0.00921812191809491"
      ],
      "text/latex": [
       "0.00921812191809491"
      ],
      "text/markdown": [
       "0.00921812191809491"
      ],
      "text/plain": [
       "[1] 0.009218122"
      ]
     },
     "metadata": {},
     "output_type": "display_data"
    },
    {
     "data": {
      "text/html": [
       "-0.0565592186470454"
      ],
      "text/latex": [
       "-0.0565592186470454"
      ],
      "text/markdown": [
       "-0.0565592186470454"
      ],
      "text/plain": [
       "[1] -0.05655922"
      ]
     },
     "metadata": {},
     "output_type": "display_data"
    }
   ],
   "source": [
    "median(df$a)\n",
    "median(df$b)\n",
    "median(df$c)\n",
    "median(df$d)"
   ]
  },
  {
   "cell_type": "code",
   "execution_count": null,
   "metadata": {},
   "outputs": [],
   "source": []
  },
  {
   "cell_type": "markdown",
   "metadata": {},
   "source": [
    "But this involves too much repetition, and we argued last lecture that repetition is generally a bad idea when coding. Instead, we can use a for loop to \"loop over\" each column of `df` and grab the median:"
   ]
  },
  {
   "cell_type": "code",
   "execution_count": null,
   "metadata": {},
   "outputs": [],
   "source": []
  },
  {
   "cell_type": "markdown",
   "metadata": {},
   "source": [
    "Again, this works because data frames are *lists*, and each element of the list is one column:"
   ]
  },
  {
   "cell_type": "code",
   "execution_count": null,
   "metadata": {},
   "outputs": [],
   "source": []
  },
  {
   "cell_type": "markdown",
   "metadata": {},
   "source": [
    "The for loop should have three components:\n",
    "1. The *output*, in this case a vector with one entry per column of `df`.\n",
    "2. The *sequence* of values along which we will iterate. Here we are using `seq_along(df)`, which generates a sequence of numbers from one up to `ncol(df)`. (This relies on the fact that a `data.frame` is really a list with one entry per column of data.)\n",
    "3. The *body*, which is the piece of code that gets executed in each iteration of the loop. In the example above, the body first runs `output[[1]] = median(df[[1]])`, then `output[[2]] = median(df[[2]])`, etc., on up to `i=4`."
   ]
  },
  {
   "cell_type": "markdown",
   "metadata": {},
   "source": [
    "### Unknown output length\n",
    "In each of the examples above we \"pre-allocated\" the `output` vector before running the `for` loop. Sometimes you may not know in advance how much output will be generated. For example, the following code draws three random numbers between 0 and 100, and for each number appends that many randomly normal entries to `output`:"
   ]
  },
  {
   "cell_type": "code",
   "execution_count": 13,
   "metadata": {},
   "outputs": [
    {
     "data": {
      "text/html": [
       "<style>\n",
       ".list-inline {list-style: none; margin:0; padding: 0}\n",
       ".list-inline>li {display: inline-block}\n",
       ".list-inline>li:not(:last-child)::after {content: \"\\00b7\"; padding: 0 .5ex}\n",
       "</style>\n",
       "<ol class=list-inline><li>0.256575548018721</li><li>0.49187227881447</li><li>0.00921812191809491</li><li>-0.0565592186470454</li></ol>\n"
      ],
      "text/latex": [
       "\\begin{enumerate*}\n",
       "\\item 0.256575548018721\n",
       "\\item 0.49187227881447\n",
       "\\item 0.00921812191809491\n",
       "\\item -0.0565592186470454\n",
       "\\end{enumerate*}\n"
      ],
      "text/markdown": [
       "1. 0.256575548018721\n",
       "2. 0.49187227881447\n",
       "3. 0.00921812191809491\n",
       "4. -0.0565592186470454\n",
       "\n",
       "\n"
      ],
      "text/plain": [
       "[1]  0.256575548  0.491872279  0.009218122 -0.056559219"
      ]
     },
     "metadata": {},
     "output_type": "display_data"
    }
   ],
   "source": [
    "output = NULL\n",
    "for (column in df) {\n",
    "  output = c(output, median(column))\n",
    "}\n",
    "\n",
    "output"
   ]
  },
  {
   "cell_type": "markdown",
   "metadata": {},
   "source": [
    "## Down with `for` loops\n",
    "We don't use for loops that often in R because of vectorization. For example, \n",
    "```{r}\n",
    "# sum the numbers 1 to 100\n",
    "output <- 0\n",
    "v <- 1:100\n",
    "for (i in v) {\n",
    "    output <- output + i\n",
    "}\n",
    "```\n",
    "is exactly equivalent to\n",
    "```{r}\n",
    "output = sum(1:100)\n",
    "```\n",
    "The latter is both faster and more concise."
   ]
  },
  {
   "cell_type": "markdown",
   "metadata": {},
   "source": [
    "### Exercise\n",
    "Eliminate the for loops in each of the following commands by using functions that work with vectors."
   ]
  },
  {
   "cell_type": "markdown",
   "metadata": {},
   "source": [
    "#### Function 1\n",
    "```{r}\n",
    "# Function 1\n",
    "out <- \"\"\n",
    "for (x in letters) {\n",
    "  out <- stringr::str_c(out, x)\n",
    "}\n",
    "```"
   ]
  },
  {
   "cell_type": "markdown",
   "metadata": {},
   "source": [
    "#### Function 2\n",
    "```{r}\n",
    "x <- sample(100)\n",
    "sd <- 0\n",
    "for (i in seq_along(x)) {\n",
    "  sd <- sd + (x[i] - mean(x)) ^ 2\n",
    "}\n",
    "sd <- sqrt(sd / (length(x) - 1))\n",
    "```"
   ]
  },
  {
   "cell_type": "markdown",
   "metadata": {},
   "source": [
    "#### Function 3\n",
    "```{r}\n",
    "x <- runif(100)\n",
    "out <- vector(\"numeric\", length(x))\n",
    "out[1] <- x[1]\n",
    "for (i in 2:length(x)) {\n",
    "  out[i] <- out[i - 1] + x[i]\n",
    "}\n",
    "```"
   ]
  },
  {
   "cell_type": "markdown",
   "metadata": {},
   "source": [
    "### While loops\n",
    "In some cases you don't even know how long is the sequence over which you are iterating. Here it is not possible to use a `for` loop; instead you must use a `while` loop:\n",
    "```{r}\n",
    "while (<condition>) {\n",
    "    <body>\n",
    "}\n",
    "```\n",
    "The `while` loop will continue running until `<condition>` returns `FALSE`."
   ]
  },
  {
   "cell_type": "markdown",
   "metadata": {},
   "source": [
    "Here's an example of how we would use a `while` loop. The following command counts the number of heads and tails encountered in tosses of a fair coin until the third head is encountered:"
   ]
  },
  {
   "cell_type": "code",
   "execution_count": null,
   "metadata": {},
   "outputs": [],
   "source": []
  },
  {
   "cell_type": "markdown",
   "metadata": {},
   "source": [
    "\n",
    "`while` loops are used mainly in random simulations. They don't come up a lot in data analysis. Still, it's useful to know about them."
   ]
  },
  {
   "cell_type": "code",
   "execution_count": null,
   "metadata": {},
   "outputs": [],
   "source": []
  }
 ],
 "metadata": {
  "kernelspec": {
   "display_name": "R",
   "language": "R",
   "name": "ir"
  },
  "language_info": {
   "codemirror_mode": "r",
   "file_extension": ".r",
   "mimetype": "text/x-r-source",
   "name": "R",
   "pygments_lexer": "r",
   "version": "3.6.2"
  }
 },
 "nbformat": 4,
 "nbformat_minor": 1
}
