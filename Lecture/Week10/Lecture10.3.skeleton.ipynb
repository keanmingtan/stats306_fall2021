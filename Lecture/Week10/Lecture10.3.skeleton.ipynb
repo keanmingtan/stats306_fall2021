{
 "cells": [
  {
   "cell_type": "markdown",
   "metadata": {},
   "source": [
    "# Lecture 10.3: Application to Monte Carlo Estimation\n"
   ]
  },
  {
   "cell_type": "code",
   "execution_count": 1,
   "metadata": {},
   "outputs": [
    {
     "name": "stderr",
     "output_type": "stream",
     "text": [
      "── \u001b[1mAttaching packages\u001b[22m ─────────────────────────────────────── tidyverse 1.3.1 ──\n",
      "\n",
      "\u001b[32m✔\u001b[39m \u001b[34mggplot2\u001b[39m 3.3.5     \u001b[32m✔\u001b[39m \u001b[34mpurrr  \u001b[39m 0.3.4\n",
      "\u001b[32m✔\u001b[39m \u001b[34mtibble \u001b[39m 3.1.3     \u001b[32m✔\u001b[39m \u001b[34mdplyr  \u001b[39m 1.0.7\n",
      "\u001b[32m✔\u001b[39m \u001b[34mtidyr  \u001b[39m 1.1.3     \u001b[32m✔\u001b[39m \u001b[34mstringr\u001b[39m 1.4.0\n",
      "\u001b[32m✔\u001b[39m \u001b[34mreadr  \u001b[39m 2.0.1     \u001b[32m✔\u001b[39m \u001b[34mforcats\u001b[39m 0.5.1\n",
      "\n",
      "── \u001b[1mConflicts\u001b[22m ────────────────────────────────────────── tidyverse_conflicts() ──\n",
      "\u001b[31m✖\u001b[39m \u001b[34mdplyr\u001b[39m::\u001b[32mfilter()\u001b[39m masks \u001b[34mstats\u001b[39m::filter()\n",
      "\u001b[31m✖\u001b[39m \u001b[34mdplyr\u001b[39m::\u001b[32mlag()\u001b[39m    masks \u001b[34mstats\u001b[39m::lag()\n",
      "\n"
     ]
    }
   ],
   "source": [
    "library(tidyverse)"
   ]
  },
  {
   "cell_type": "markdown",
   "metadata": {},
   "source": [
    "##  Monte Carlo Estimation\n",
    "\n",
    "Vectorization can be particularly useful in Monte Carlo studies where we might otherwise be inclined to use explicit loops. We will look at some examples after an introduction to Monte Carlo estimates.\n",
    "\n",
    "In statistics and data science we are often interested in computing expectations (means) of random outcomes of various types.\n",
    "When analytic expectations are unavailable or cumbersome to compute, it can be useful to obtain Monte Carlo approximations by simulating a random process and then directly averaging the values of interest.\n",
    "\n",
    "This works because the sample average is generally a good estimate of the corresponding expectation:\n",
    "\n",
    "$$\\tilde{\\theta}_n = \\sum_{i=1}^n X_i / n \\rightarrow_p \\theta = E(X)$$\n",
    "\n",
    "In fact, assuming our data are independent and identically distributed (iid) from a distribution with finite variance, we can characterize the rate of convergence of a sample average to its population counterpart using the central limit theorem (CLT),\n",
    "\n",
    "$$\\sqrt{n} (\\tilde{\\theta}_n - \\theta) \\rightarrow_d N(0,\\sigma^2) $$\n",
    "\n",
    "where $σ^2=E[X^2]−E[X]^2$\n",
    " is the variance of the underlying distribution from which X\n",
    " is drawn. This can be useful for constructing approximate confidence intervals for the Monte Carlo error.\n",
    "\n",
    "\n"
   ]
  },
  {
   "cell_type": "markdown",
   "metadata": {},
   "source": [
    "## Distribution functions\n",
    "\n",
    "There are vectorized functions in `R` for simulating from many common distributions. Here are a few:\n",
    "\n",
    "- `rnorm()` - Normal\n",
    "- `runif()` - Uniform\n",
    "- `rt()` - the t-distribution\n",
    "- `rexp()` - Exponential\n",
    "- `rpois()` - Poisson\n",
    "Another useful function in R is `sample()` for sampling from a finite set of values, i.e. the discrete uniform distribution or any finite probability mass function.\n",
    "\n",
    "As an aside, you should be aware that each of the distribution families above have corresponding `d*`, `p*`, and `q*` functions for computing densities, percentiles (CDF), or quantiles (inverse CDF) for each distribution.\n",
    "\n",
    "When we call one of the `r*` functions to generate random draws from a distribution, R relies on a pseudo-random number generate to generate from `U(0,1)`\n",
    " and produce the results. Thus the outcome of these calls depends on the current state of the generator. It is sometimes desirable to reproduce exactly the same pseudo-random sequence. You can do this by fixing the random seed using set.seed() which takes an integer argument. The function `RNGkind()` can be used to display or set the random number generator.\n",
    "\n",
    "\n"
   ]
  },
  {
   "cell_type": "code",
   "execution_count": null,
   "metadata": {},
   "outputs": [],
   "source": []
  },
  {
   "cell_type": "markdown",
   "metadata": {},
   "source": [
    "## Basic Example 1\n",
    "\n",
    "As a quick example, let’s use these functions to compute percentiles for t-distributions with various degrees of freedom. Let $θ_q$\n",
    " be the parameter of interest,\n",
    " \n",
    " $$\\theta_q = F(q) = \\int_{-\\infty}^q f(x) dx = \\int 1[x\\le q] f(x)dx$$\n",
    " \n",
    " where $F(⋅)$ is the CDF and $f(⋅)$\n",
    " the PDF of a given $t$-distribution.\n",
    " "
   ]
  },
  {
   "cell_type": "code",
   "execution_count": null,
   "metadata": {},
   "outputs": [],
   "source": []
  },
  {
   "cell_type": "markdown",
   "metadata": {},
   "source": [
    "In this case, our Monte Carlo estimate of $(\\theta_{-1.96},\\theta_{1.96})$\n",
    " is $\\bar{θ}=\n",
    " (0.0704, 0.9269)$. The actual values are $(\\theta_{-1.96},\\theta_{1.96})\n",
    " = (0.0724261, 0.9275739)$."
   ]
  },
  {
   "cell_type": "markdown",
   "metadata": {},
   "source": [
    "## Basic Example 2\n",
    "\n",
    "Suppose we are interested in computing the following integral where  $\\phi$ is the standard normal density function:\n",
    "\n",
    "$$\n",
    "\\int_{-\\infty}^{\\infty} [\\sin(x) - \\cos(x)]^2 \\phi (x) dx\n",
    "$$\n",
    "\n",
    "We can recast this as the expectation below,\n",
    "\n",
    "$$\n",
    "E[h(X)], \\qquad h(x) = [\\sin(x)-\\cos(x)]^2, \\qquad X\\sim N(0,1).\n",
    "$$\n",
    "\n",
    "The following R code provides a Monte Carlo estimate,\n",
    "\n",
    "\n"
   ]
  },
  {
   "cell_type": "code",
   "execution_count": null,
   "metadata": {},
   "outputs": [],
   "source": []
  },
  {
   "cell_type": "markdown",
   "metadata": {},
   "source": [
    "Compare this to an estimate using numerical integration,\n",
    "\n"
   ]
  },
  {
   "cell_type": "code",
   "execution_count": null,
   "metadata": {},
   "outputs": [],
   "source": []
  },
  {
   "cell_type": "markdown",
   "metadata": {},
   "source": [
    "These values are fairly close to the analytic solution based on the identity $[\\sin(x)−\\cos(x)]2=1−\\sin(2x)$\n",
    " and the symmetry about zero of both $\\sin(⋅)$\n",
    " and $\\phi(\\cdot)$. Suppose $X \\sim N(0,1)$\n",
    ", then\n",
    "\n",
    "\\begin{equation}\n",
    "\\begin{split}\n",
    "E[(\\sin(X) - \\cos(X))^2] & = E[1-\\sin(2(X))] \\\\ \n",
    "&= 1- E[\\sin(2X)] \\\\\n",
    "&= 1-0 \\\\\n",
    "&= 1\n",
    "\\end{split}\n",
    "\\end{equation}"
   ]
  },
  {
   "cell_type": "markdown",
   "metadata": {},
   "source": [
    "## Simulation Study for Nominal Confidence Intervals\n",
    "We will investigate the coverage probability of nominal 95% confidence intervals when the data does not come from a Normal (Gaussian) distribution.\n",
    "\n",
    "We will assume the data come from an exponential distribution with mean one. The strategy here is to generate many (`mcrep`) data sets of size n.\n",
    "\n",
    "For each data vector, we then calculate a nominal 95% confidence interval for the mean and check whether this interval contains the true value of one."
   ]
  },
  {
   "cell_type": "code",
   "execution_count": null,
   "metadata": {},
   "outputs": [],
   "source": []
  },
  {
   "cell_type": "markdown",
   "metadata": {},
   "source": [
    "Since coverage is binary with a fixed probability p\n",
    ", the number of intervals that cover one (“successes”) in our study is Binomial(`mcrep`, $p$\n",
    "). We can use this fact to estimate the Monte Carlo error which represents the uncertainty in our estimate from the chosen number of replications."
   ]
  },
  {
   "cell_type": "code",
   "execution_count": null,
   "metadata": {},
   "outputs": [],
   "source": []
  },
  {
   "cell_type": "markdown",
   "metadata": {},
   "source": [
    "In this case the estimated coverage is 0.93 (0.926, 0.936).\n",
    "\n"
   ]
  },
  {
   "cell_type": "code",
   "execution_count": null,
   "metadata": {},
   "outputs": [],
   "source": []
  }
 ],
 "metadata": {
  "kernelspec": {
   "display_name": "R",
   "language": "R",
   "name": "ir"
  },
  "language_info": {
   "codemirror_mode": "r",
   "file_extension": ".r",
   "mimetype": "text/x-r-source",
   "name": "R",
   "pygments_lexer": "r",
   "version": "4.1.1"
  }
 },
 "nbformat": 4,
 "nbformat_minor": 1
}
