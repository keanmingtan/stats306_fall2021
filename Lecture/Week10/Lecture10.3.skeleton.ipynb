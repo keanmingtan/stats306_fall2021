{
 "cells": [
  {
   "cell_type": "markdown",
   "metadata": {},
   "source": [
    "# Lecture 10.3: Functional Programming and Some Exercises\n"
   ]
  },
  {
   "cell_type": "code",
   "execution_count": 1,
   "metadata": {},
   "outputs": [
    {
     "name": "stderr",
     "output_type": "stream",
     "text": [
      "── \u001b[1mAttaching packages\u001b[22m ─────────────────────────────────────── tidyverse 1.3.0 ──\n",
      "\n",
      "\u001b[32m✔\u001b[39m \u001b[34mggplot2\u001b[39m 3.3.2     \u001b[32m✔\u001b[39m \u001b[34mpurrr  \u001b[39m 0.3.4\n",
      "\u001b[32m✔\u001b[39m \u001b[34mtibble \u001b[39m 3.0.3     \u001b[32m✔\u001b[39m \u001b[34mdplyr  \u001b[39m 1.0.2\n",
      "\u001b[32m✔\u001b[39m \u001b[34mtidyr  \u001b[39m 1.1.1     \u001b[32m✔\u001b[39m \u001b[34mstringr\u001b[39m 1.4.0\n",
      "\u001b[32m✔\u001b[39m \u001b[34mreadr  \u001b[39m 1.3.1     \u001b[32m✔\u001b[39m \u001b[34mforcats\u001b[39m 0.5.0\n",
      "\n",
      "── \u001b[1mConflicts\u001b[22m ────────────────────────────────────────── tidyverse_conflicts() ──\n",
      "\u001b[31m✖\u001b[39m \u001b[34mdplyr\u001b[39m::\u001b[32mfilter()\u001b[39m masks \u001b[34mstats\u001b[39m::filter()\n",
      "\u001b[31m✖\u001b[39m \u001b[34mdplyr\u001b[39m::\u001b[32mlag()\u001b[39m    masks \u001b[34mstats\u001b[39m::lag()\n",
      "\n"
     ]
    }
   ],
   "source": [
    "library(tidyverse)"
   ]
  },
  {
   "cell_type": "markdown",
   "metadata": {},
   "source": [
    "## Functional programming\n",
    "R is a *functional programming language*, which means, loosely, that functions are treated just like any other data. In particular, they can be passed to other functions. As we will see, this means that most `for` loop type iterations can be replaced by cleaner, functional constructs."
   ]
  },
  {
   "cell_type": "markdown",
   "metadata": {},
   "source": [
    "### Example\n",
    "In the following series of examples, we'll see how the need to write extensible code naturally leads to ideas from functional programming (FP). Above we've seen several examples of functions that apply the `mean` or `median` function to each column of a tibble:"
   ]
  },
  {
   "cell_type": "code",
   "execution_count": 2,
   "metadata": {},
   "outputs": [
    {
     "name": "stdout",
     "output_type": "stream",
     "text": [
      "\u001b[38;5;246m# A tibble: 10 x 4\u001b[39m\n",
      "        a       b       c       d\n",
      "    \u001b[3m\u001b[38;5;246m<dbl>\u001b[39m\u001b[23m   \u001b[3m\u001b[38;5;246m<dbl>\u001b[39m\u001b[23m   \u001b[3m\u001b[38;5;246m<dbl>\u001b[39m\u001b[23m   \u001b[3m\u001b[38;5;246m<dbl>\u001b[39m\u001b[23m\n",
      "\u001b[38;5;250m 1\u001b[39m -\u001b[31m0\u001b[39m\u001b[31m.\u001b[39m\u001b[31m626\u001b[39m  1.51    0.919   1.36  \n",
      "\u001b[38;5;250m 2\u001b[39m  0.184  0.390   0.782  -\u001b[31m0\u001b[39m\u001b[31m.\u001b[39m\u001b[31m103\u001b[39m \n",
      "\u001b[38;5;250m 3\u001b[39m -\u001b[31m0\u001b[39m\u001b[31m.\u001b[39m\u001b[31m836\u001b[39m -\u001b[31m0\u001b[39m\u001b[31m.\u001b[39m\u001b[31m621\u001b[39m   0.074\u001b[4m6\u001b[24m  0.388 \n",
      "\u001b[38;5;250m 4\u001b[39m  1.60  -\u001b[31m2\u001b[39m\u001b[31m.\u001b[39m\u001b[31m21\u001b[39m   -\u001b[31m1\u001b[39m\u001b[31m.\u001b[39m\u001b[31m99\u001b[39m   -\u001b[31m0\u001b[39m\u001b[31m.\u001b[39m\u001b[31m0\u001b[39m\u001b[31m53\u001b[4m8\u001b[24m\u001b[39m\n",
      "\u001b[38;5;250m 5\u001b[39m  0.330  1.12    0.620  -\u001b[31m1\u001b[39m\u001b[31m.\u001b[39m\u001b[31m38\u001b[39m  \n",
      "\u001b[38;5;250m 6\u001b[39m -\u001b[31m0\u001b[39m\u001b[31m.\u001b[39m\u001b[31m820\u001b[39m -\u001b[31m0\u001b[39m\u001b[31m.\u001b[39m\u001b[31m0\u001b[39m\u001b[31m44\u001b[4m9\u001b[24m\u001b[39m -\u001b[31m0\u001b[39m\u001b[31m.\u001b[39m\u001b[31m0\u001b[39m\u001b[31m56\u001b[4m1\u001b[24m\u001b[39m -\u001b[31m0\u001b[39m\u001b[31m.\u001b[39m\u001b[31m415\u001b[39m \n",
      "\u001b[38;5;250m 7\u001b[39m  0.487 -\u001b[31m0\u001b[39m\u001b[31m.\u001b[39m\u001b[31m0\u001b[39m\u001b[31m16\u001b[4m2\u001b[24m\u001b[39m -\u001b[31m0\u001b[39m\u001b[31m.\u001b[39m\u001b[31m156\u001b[39m  -\u001b[31m0\u001b[39m\u001b[31m.\u001b[39m\u001b[31m394\u001b[39m \n",
      "\u001b[38;5;250m 8\u001b[39m  0.738  0.944  -\u001b[31m1\u001b[39m\u001b[31m.\u001b[39m\u001b[31m47\u001b[39m   -\u001b[31m0\u001b[39m\u001b[31m.\u001b[39m\u001b[31m0\u001b[39m\u001b[31m59\u001b[4m3\u001b[24m\u001b[39m\n",
      "\u001b[38;5;250m 9\u001b[39m  0.576  0.821  -\u001b[31m0\u001b[39m\u001b[31m.\u001b[39m\u001b[31m478\u001b[39m   1.10  \n",
      "\u001b[38;5;250m10\u001b[39m -\u001b[31m0\u001b[39m\u001b[31m.\u001b[39m\u001b[31m305\u001b[39m  0.594   0.418   0.763 \n"
     ]
    },
    {
     "data": {
      "text/html": [
       "0.256575548018721"
      ],
      "text/latex": [
       "0.256575548018721"
      ],
      "text/markdown": [
       "0.256575548018721"
      ],
      "text/plain": [
       "[1] 0.2565755"
      ]
     },
     "metadata": {},
     "output_type": "display_data"
    },
    {
     "data": {
      "text/html": [
       "0.49187227881447"
      ],
      "text/latex": [
       "0.49187227881447"
      ],
      "text/markdown": [
       "0.49187227881447"
      ],
      "text/plain": [
       "[1] 0.4918723"
      ]
     },
     "metadata": {},
     "output_type": "display_data"
    },
    {
     "data": {
      "text/html": [
       "0.00921812191809491"
      ],
      "text/latex": [
       "0.00921812191809491"
      ],
      "text/markdown": [
       "0.00921812191809491"
      ],
      "text/plain": [
       "[1] 0.009218122"
      ]
     },
     "metadata": {},
     "output_type": "display_data"
    },
    {
     "data": {
      "text/html": [
       "-0.0565592186470454"
      ],
      "text/latex": [
       "-0.0565592186470454"
      ],
      "text/markdown": [
       "-0.0565592186470454"
      ],
      "text/plain": [
       "[1] -0.05655922"
      ]
     },
     "metadata": {},
     "output_type": "display_data"
    }
   ],
   "source": [
    "set.seed(1)\n",
    "df = tibble(\n",
    "  a = rnorm(10),\n",
    "  b = rnorm(10),\n",
    "  c = rnorm(10),\n",
    "  d = rnorm(10)\n",
    ")\n",
    "print(df)\n",
    "median(df$a)\n",
    "median(df$b)\n",
    "median(df$c)\n",
    "median(df$d)"
   ]
  },
  {
   "cell_type": "markdown",
   "metadata": {},
   "source": [
    "As we have already used this code (or a close variant) on several occasions, it makes sense to extract it out to a function:"
   ]
  },
  {
   "cell_type": "code",
   "execution_count": 4,
   "metadata": {},
   "outputs": [
    {
     "data": {
      "text/html": [
       "<style>\n",
       ".list-inline {list-style: none; margin:0; padding: 0}\n",
       ".list-inline>li {display: inline-block}\n",
       ".list-inline>li:not(:last-child)::after {content: \"\\00b7\"; padding: 0 .5ex}\n",
       "</style>\n",
       "<ol class=list-inline><li>0.256575548018721</li><li>0.49187227881447</li><li>0.00921812191809491</li><li>-0.0565592186470454</li></ol>\n"
      ],
      "text/latex": [
       "\\begin{enumerate*}\n",
       "\\item 0.256575548018721\n",
       "\\item 0.49187227881447\n",
       "\\item 0.00921812191809491\n",
       "\\item -0.0565592186470454\n",
       "\\end{enumerate*}\n"
      ],
      "text/markdown": [
       "1. 0.256575548018721\n",
       "2. 0.49187227881447\n",
       "3. 0.00921812191809491\n",
       "4. -0.0565592186470454\n",
       "\n",
       "\n"
      ],
      "text/plain": [
       "[1]  0.256575548  0.491872279  0.009218122 -0.056559219"
      ]
     },
     "metadata": {},
     "output_type": "display_data"
    },
    {
     "data": {
      "text/html": [
       "<style>\n",
       ".list-inline {list-style: none; margin:0; padding: 0}\n",
       ".list-inline>li {display: inline-block}\n",
       ".list-inline>li:not(:last-child)::after {content: \"\\00b7\"; padding: 0 .5ex}\n",
       "</style>\n",
       "<ol class=list-inline><li>0.132202781295968</li><li>0.24884497101728</li><li>-0.133673241730671</li><li>0.120730204505412</li></ol>\n"
      ],
      "text/latex": [
       "\\begin{enumerate*}\n",
       "\\item 0.132202781295968\n",
       "\\item 0.24884497101728\n",
       "\\item -0.133673241730671\n",
       "\\item 0.120730204505412\n",
       "\\end{enumerate*}\n"
      ],
      "text/markdown": [
       "1. 0.132202781295968\n",
       "2. 0.24884497101728\n",
       "3. -0.133673241730671\n",
       "4. 0.120730204505412\n",
       "\n",
       "\n"
      ],
      "text/plain": [
       "[1]  0.1322028  0.2488450 -0.1336732  0.1207302"
      ]
     },
     "metadata": {},
     "output_type": "display_data"
    },
    {
     "data": {
      "text/html": [
       "<style>\n",
       ".list-inline {list-style: none; margin:0; padding: 0}\n",
       ".list-inline>li {display: inline-block}\n",
       ".list-inline>li:not(:last-child)::after {content: \"\\00b7\"; padding: 0 .5ex}\n",
       "</style>\n",
       "<ol class=list-inline><li>0.780585957509562</li><li>1.06951483554637</li><li>0.955607612652341</li><li>0.808564645799175</li></ol>\n"
      ],
      "text/latex": [
       "\\begin{enumerate*}\n",
       "\\item 0.780585957509562\n",
       "\\item 1.06951483554637\n",
       "\\item 0.955607612652341\n",
       "\\item 0.808564645799175\n",
       "\\end{enumerate*}\n"
      ],
      "text/markdown": [
       "1. 0.780585957509562\n",
       "2. 1.06951483554637\n",
       "3. 0.955607612652341\n",
       "4. 0.808564645799175\n",
       "\n",
       "\n"
      ],
      "text/plain": [
       "[1] 0.7805860 1.0695148 0.9556076 0.8085646"
      ]
     },
     "metadata": {},
     "output_type": "display_data"
    }
   ],
   "source": [
    "col_median = function(df) {\n",
    "  output = vector(\"double\", length(df))\n",
    "  for (i in seq_along(df)) {\n",
    "    output[i] = median(df[[i]])\n",
    "  }\n",
    "  output\n",
    "}\n",
    "\n",
    "col_mean = function(df) {\n",
    "  output = vector(\"double\", length(df))\n",
    "  for (i in seq_along(df)) {\n",
    "    output[i] = mean(df[[i]])\n",
    "  }\n",
    "  output\n",
    "}\n",
    "\n",
    "col_sd = function(df) {\n",
    "  output = vector(\"double\", length(df))\n",
    "  for (i in seq_along(df)) {\n",
    "    output[i] = sd(df[[i]])\n",
    "  }\n",
    "  output\n",
    "}\n",
    "\n",
    "\n",
    "\n",
    "col_median(df)\n",
    "col_mean(df)\n",
    "col_sd(df)"
   ]
  },
  {
   "cell_type": "markdown",
   "metadata": {},
   "source": [
    "The function `col_mean` could just as easily be used to compute the `median` or `rescale01` of each column. Indeed, we would only need to change a single function call in the body of the for loop:\n",
    "```{r}\n",
    "output[i] = mean(df[[i]])\n",
    "```\n",
    "So it makes sense to generalize `col_mean` to a new function that takes as parameters a data frame `df` as well as a function `f` to apply to each column:"
   ]
  },
  {
   "cell_type": "code",
   "execution_count": 8,
   "metadata": {},
   "outputs": [],
   "source": [
    "col_summary <- function(df,fun){\n",
    "    output = vector(\"double\", length(df))\n",
    "    for(i in seq_along(df)){\n",
    "        output[i]  = fun(df[[i]])\n",
    "    }\n",
    "    output   \n",
    "}"
   ]
  },
  {
   "cell_type": "code",
   "execution_count": 10,
   "metadata": {},
   "outputs": [
    {
     "data": {
      "text/html": [
       "<style>\n",
       ".list-inline {list-style: none; margin:0; padding: 0}\n",
       ".list-inline>li {display: inline-block}\n",
       ".list-inline>li:not(:last-child)::after {content: \"\\00b7\"; padding: 0 .5ex}\n",
       "</style>\n",
       "<ol class=list-inline><li>0.256575548018721</li><li>0.49187227881447</li><li>0.00921812191809491</li><li>-0.0565592186470454</li></ol>\n"
      ],
      "text/latex": [
       "\\begin{enumerate*}\n",
       "\\item 0.256575548018721\n",
       "\\item 0.49187227881447\n",
       "\\item 0.00921812191809491\n",
       "\\item -0.0565592186470454\n",
       "\\end{enumerate*}\n"
      ],
      "text/markdown": [
       "1. 0.256575548018721\n",
       "2. 0.49187227881447\n",
       "3. 0.00921812191809491\n",
       "4. -0.0565592186470454\n",
       "\n",
       "\n"
      ],
      "text/plain": [
       "[1]  0.256575548  0.491872279  0.009218122 -0.056559219"
      ]
     },
     "metadata": {},
     "output_type": "display_data"
    },
    {
     "data": {
      "text/html": [
       "<style>\n",
       ".list-inline {list-style: none; margin:0; padding: 0}\n",
       ".list-inline>li {display: inline-block}\n",
       ".list-inline>li:not(:last-child)::after {content: \"\\00b7\"; padding: 0 .5ex}\n",
       "</style>\n",
       "<ol class=list-inline><li>0.132202781295968</li><li>0.24884497101728</li><li>-0.133673241730671</li><li>0.120730204505412</li></ol>\n"
      ],
      "text/latex": [
       "\\begin{enumerate*}\n",
       "\\item 0.132202781295968\n",
       "\\item 0.24884497101728\n",
       "\\item -0.133673241730671\n",
       "\\item 0.120730204505412\n",
       "\\end{enumerate*}\n"
      ],
      "text/markdown": [
       "1. 0.132202781295968\n",
       "2. 0.24884497101728\n",
       "3. -0.133673241730671\n",
       "4. 0.120730204505412\n",
       "\n",
       "\n"
      ],
      "text/plain": [
       "[1]  0.1322028  0.2488450 -0.1336732  0.1207302"
      ]
     },
     "metadata": {},
     "output_type": "display_data"
    },
    {
     "data": {
      "text/html": [
       "<style>\n",
       ".list-inline {list-style: none; margin:0; padding: 0}\n",
       ".list-inline>li {display: inline-block}\n",
       ".list-inline>li:not(:last-child)::after {content: \"\\00b7\"; padding: 0 .5ex}\n",
       "</style>\n",
       "<ol class=list-inline><li>0.780585957509562</li><li>1.06951483554637</li><li>0.955607612652341</li><li>0.808564645799175</li></ol>\n"
      ],
      "text/latex": [
       "\\begin{enumerate*}\n",
       "\\item 0.780585957509562\n",
       "\\item 1.06951483554637\n",
       "\\item 0.955607612652341\n",
       "\\item 0.808564645799175\n",
       "\\end{enumerate*}\n"
      ],
      "text/markdown": [
       "1. 0.780585957509562\n",
       "2. 1.06951483554637\n",
       "3. 0.955607612652341\n",
       "4. 0.808564645799175\n",
       "\n",
       "\n"
      ],
      "text/plain": [
       "[1] 0.7805860 1.0695148 0.9556076 0.8085646"
      ]
     },
     "metadata": {},
     "output_type": "display_data"
    }
   ],
   "source": [
    "col_summary(df,median)\n",
    "col_summary(df,mean)\n",
    "col_summary(df,sd)"
   ]
  },
  {
   "cell_type": "markdown",
   "metadata": {},
   "source": [
    "Notice how much more elegant and readable `df %>% col_summary(median)` is compared to\n",
    "```{r}\n",
    "output <- vector(\"double\", length(df))\n",
    "for (i in seq_along(df)) {\n",
    "  output[[i]] <- median(df[[i]])\n",
    "}\n",
    "output\n",
    "```\n",
    "If you understand why the former is preferable, you understand the Zen of Functional Programming!"
   ]
  },
  {
   "cell_type": "markdown",
   "metadata": {},
   "source": [
    "## `map` functions\n",
    "The pattern of looping over a sequence, doing something to each element and saving the results turns out to be extremely common in data analysis. It even has a name: \"map\"."
   ]
  },
  {
   "cell_type": "markdown",
   "metadata": {},
   "source": [
    "There is a set of functions in `tidyverse` designed to help you map over data as easily as possible:\n",
    "- `map()` makes a list.\n",
    "- `map_lgl()` makes a logical vector.\n",
    "- `map_int()` makes an integer vector.\n",
    "- `map_dbl()` makes a double vector.\n",
    "- `map_chr()` makes a character vector.\n",
    "\n",
    "In most cases we will be able to replace `for` loops with calls to these functions, leading to simpler and more readable code."
   ]
  },
  {
   "cell_type": "markdown",
   "metadata": {},
   "source": [
    "### Example\n",
    "How would we write `col_summary` using one of the `map` functions?"
   ]
  },
  {
   "cell_type": "code",
   "execution_count": 12,
   "metadata": {},
   "outputs": [
    {
     "data": {
      "text/html": [
       "<dl>\n",
       "\t<dt>$a</dt>\n",
       "\t\t<dd>0.256575548018721</dd>\n",
       "\t<dt>$b</dt>\n",
       "\t\t<dd>0.49187227881447</dd>\n",
       "\t<dt>$c</dt>\n",
       "\t\t<dd>0.00921812191809491</dd>\n",
       "\t<dt>$d</dt>\n",
       "\t\t<dd>-0.0565592186470454</dd>\n",
       "</dl>\n"
      ],
      "text/latex": [
       "\\begin{description}\n",
       "\\item[\\$a] 0.256575548018721\n",
       "\\item[\\$b] 0.49187227881447\n",
       "\\item[\\$c] 0.00921812191809491\n",
       "\\item[\\$d] -0.0565592186470454\n",
       "\\end{description}\n"
      ],
      "text/markdown": [
       "$a\n",
       ":   0.256575548018721\n",
       "$b\n",
       ":   0.49187227881447\n",
       "$c\n",
       ":   0.00921812191809491\n",
       "$d\n",
       ":   -0.0565592186470454\n",
       "\n",
       "\n"
      ],
      "text/plain": [
       "$a\n",
       "[1] 0.2565755\n",
       "\n",
       "$b\n",
       "[1] 0.4918723\n",
       "\n",
       "$c\n",
       "[1] 0.009218122\n",
       "\n",
       "$d\n",
       "[1] -0.05655922\n"
      ]
     },
     "metadata": {},
     "output_type": "display_data"
    },
    {
     "data": {
      "text/html": [
       "<style>\n",
       ".list-inline {list-style: none; margin:0; padding: 0}\n",
       ".list-inline>li {display: inline-block}\n",
       ".list-inline>li:not(:last-child)::after {content: \"\\00b7\"; padding: 0 .5ex}\n",
       "</style>\n",
       "<ol class=list-inline><li>0.256575548018721</li><li>0.49187227881447</li><li>0.00921812191809491</li><li>-0.0565592186470454</li></ol>\n"
      ],
      "text/latex": [
       "\\begin{enumerate*}\n",
       "\\item 0.256575548018721\n",
       "\\item 0.49187227881447\n",
       "\\item 0.00921812191809491\n",
       "\\item -0.0565592186470454\n",
       "\\end{enumerate*}\n"
      ],
      "text/markdown": [
       "1. 0.256575548018721\n",
       "2. 0.49187227881447\n",
       "3. 0.00921812191809491\n",
       "4. -0.0565592186470454\n",
       "\n",
       "\n"
      ],
      "text/plain": [
       "[1]  0.256575548  0.491872279  0.009218122 -0.056559219"
      ]
     },
     "metadata": {},
     "output_type": "display_data"
    }
   ],
   "source": [
    "map(df,median)\n",
    "col_summary(df,median)"
   ]
  },
  {
   "cell_type": "markdown",
   "metadata": {},
   "source": [
    "Compared to `col_summary`, the `map_` functions have a few advantages. One, we can forward additional arguments to the called function:"
   ]
  },
  {
   "cell_type": "code",
   "execution_count": 13,
   "metadata": {},
   "outputs": [
    {
     "data": {
      "text/html": [
       "<dl>\n",
       "\t<dt>$a</dt>\n",
       "\t\t<dd>0.132202781295968</dd>\n",
       "\t<dt>$b</dt>\n",
       "\t\t<dd>0.24884497101728</dd>\n",
       "\t<dt>$c</dt>\n",
       "\t\t<dd>-0.133673241730671</dd>\n",
       "\t<dt>$d</dt>\n",
       "\t\t<dd>0.120730204505412</dd>\n",
       "</dl>\n"
      ],
      "text/latex": [
       "\\begin{description}\n",
       "\\item[\\$a] 0.132202781295968\n",
       "\\item[\\$b] 0.24884497101728\n",
       "\\item[\\$c] -0.133673241730671\n",
       "\\item[\\$d] 0.120730204505412\n",
       "\\end{description}\n"
      ],
      "text/markdown": [
       "$a\n",
       ":   0.132202781295968\n",
       "$b\n",
       ":   0.24884497101728\n",
       "$c\n",
       ":   -0.133673241730671\n",
       "$d\n",
       ":   0.120730204505412\n",
       "\n",
       "\n"
      ],
      "text/plain": [
       "$a\n",
       "[1] 0.1322028\n",
       "\n",
       "$b\n",
       "[1] 0.248845\n",
       "\n",
       "$c\n",
       "[1] -0.1336732\n",
       "\n",
       "$d\n",
       "[1] 0.1207302\n"
      ]
     },
     "metadata": {},
     "output_type": "display_data"
    }
   ],
   "source": [
    "map(df,mean,na.rm=TRUE)"
   ]
  },
  {
   "cell_type": "markdown",
   "metadata": {},
   "source": [
    "Two, variable names are preserved:"
   ]
  },
  {
   "cell_type": "code",
   "execution_count": 14,
   "metadata": {
    "scrolled": true
   },
   "outputs": [
    {
     "data": {
      "text/html": [
       "<style>\n",
       ".dl-inline {width: auto; margin:0; padding: 0}\n",
       ".dl-inline>dt, .dl-inline>dd {float: none; width: auto; display: inline-block}\n",
       ".dl-inline>dt::after {content: \":\\0020\"; padding-right: .5ex}\n",
       ".dl-inline>dt:not(:first-of-type) {padding-left: .5ex}\n",
       "</style><dl class=dl-inline><dt>a</dt><dd>1</dd><dt>b</dt><dd>2</dd><dt>c</dt><dd>2.5</dd></dl>\n"
      ],
      "text/latex": [
       "\\begin{description*}\n",
       "\\item[a] 1\n",
       "\\item[b] 2\n",
       "\\item[c] 2.5\n",
       "\\end{description*}\n"
      ],
      "text/markdown": [
       "a\n",
       ":   1b\n",
       ":   2c\n",
       ":   2.5\n",
       "\n"
      ],
      "text/plain": [
       "  a   b   c \n",
       "1.0 2.0 2.5 "
      ]
     },
     "metadata": {},
     "output_type": "display_data"
    }
   ],
   "source": [
    "x <- list(a = 1, b = 2, c= c(2,3))\n",
    "\n",
    "map_dbl(x,mean)"
   ]
  },
  {
   "cell_type": "markdown",
   "metadata": {},
   "source": [
    "Three, the `map_` functions allow for some handy shortcuts in addition to taking actual function values. If you pass a *formula* instead of a function, R will convert every instance of `.` to the current list element:"
   ]
  },
  {
   "cell_type": "code",
   "execution_count": 18,
   "metadata": {},
   "outputs": [
    {
     "data": {
      "text/html": [
       "<dl>\n",
       "\t<dt>$a</dt>\n",
       "\t\t<dd>2</dd>\n",
       "\t<dt>$b</dt>\n",
       "\t\t<dd>3</dd>\n",
       "\t<dt>$c</dt>\n",
       "\t\t<dd><style>\n",
       ".list-inline {list-style: none; margin:0; padding: 0}\n",
       ".list-inline>li {display: inline-block}\n",
       ".list-inline>li:not(:last-child)::after {content: \"\\00b7\"; padding: 0 .5ex}\n",
       "</style>\n",
       "<ol class=list-inline><li>3</li><li>4</li></ol>\n",
       "</dd>\n",
       "</dl>\n"
      ],
      "text/latex": [
       "\\begin{description}\n",
       "\\item[\\$a] 2\n",
       "\\item[\\$b] 3\n",
       "\\item[\\$c] \\begin{enumerate*}\n",
       "\\item 3\n",
       "\\item 4\n",
       "\\end{enumerate*}\n",
       "\n",
       "\\end{description}\n"
      ],
      "text/markdown": [
       "$a\n",
       ":   2\n",
       "$b\n",
       ":   3\n",
       "$c\n",
       ":   1. 3\n",
       "2. 4\n",
       "\n",
       "\n",
       "\n",
       "\n",
       "\n"
      ],
      "text/plain": [
       "$a\n",
       "[1] 2\n",
       "\n",
       "$b\n",
       "[1] 3\n",
       "\n",
       "$c\n",
       "[1] 3 4\n"
      ]
     },
     "metadata": {},
     "output_type": "display_data"
    },
    {
     "data": {
      "text/html": [
       "<dl>\n",
       "\t<dt>$a</dt>\n",
       "\t\t<dd>2</dd>\n",
       "\t<dt>$b</dt>\n",
       "\t\t<dd>3</dd>\n",
       "\t<dt>$c</dt>\n",
       "\t\t<dd><style>\n",
       ".list-inline {list-style: none; margin:0; padding: 0}\n",
       ".list-inline>li {display: inline-block}\n",
       ".list-inline>li:not(:last-child)::after {content: \"\\00b7\"; padding: 0 .5ex}\n",
       "</style>\n",
       "<ol class=list-inline><li>3</li><li>4</li></ol>\n",
       "</dd>\n",
       "</dl>\n"
      ],
      "text/latex": [
       "\\begin{description}\n",
       "\\item[\\$a] 2\n",
       "\\item[\\$b] 3\n",
       "\\item[\\$c] \\begin{enumerate*}\n",
       "\\item 3\n",
       "\\item 4\n",
       "\\end{enumerate*}\n",
       "\n",
       "\\end{description}\n"
      ],
      "text/markdown": [
       "$a\n",
       ":   2\n",
       "$b\n",
       ":   3\n",
       "$c\n",
       ":   1. 3\n",
       "2. 4\n",
       "\n",
       "\n",
       "\n",
       "\n",
       "\n"
      ],
      "text/plain": [
       "$a\n",
       "[1] 2\n",
       "\n",
       "$b\n",
       "[1] 3\n",
       "\n",
       "$c\n",
       "[1] 3 4\n"
      ]
     },
     "metadata": {},
     "output_type": "display_data"
    },
    {
     "data": {
      "text/html": [
       "<dl>\n",
       "\t<dt>$a</dt>\n",
       "\t\t<dd>2</dd>\n",
       "\t<dt>$b</dt>\n",
       "\t\t<dd>3</dd>\n",
       "\t<dt>$c</dt>\n",
       "\t\t<dd><style>\n",
       ".list-inline {list-style: none; margin:0; padding: 0}\n",
       ".list-inline>li {display: inline-block}\n",
       ".list-inline>li:not(:last-child)::after {content: \"\\00b7\"; padding: 0 .5ex}\n",
       "</style>\n",
       "<ol class=list-inline><li>3</li><li>4</li></ol>\n",
       "</dd>\n",
       "</dl>\n"
      ],
      "text/latex": [
       "\\begin{description}\n",
       "\\item[\\$a] 2\n",
       "\\item[\\$b] 3\n",
       "\\item[\\$c] \\begin{enumerate*}\n",
       "\\item 3\n",
       "\\item 4\n",
       "\\end{enumerate*}\n",
       "\n",
       "\\end{description}\n"
      ],
      "text/markdown": [
       "$a\n",
       ":   2\n",
       "$b\n",
       ":   3\n",
       "$c\n",
       ":   1. 3\n",
       "2. 4\n",
       "\n",
       "\n",
       "\n",
       "\n",
       "\n"
      ],
      "text/plain": [
       "$a\n",
       "[1] 2\n",
       "\n",
       "$b\n",
       "[1] 3\n",
       "\n",
       "$c\n",
       "[1] 3 4\n"
      ]
     },
     "metadata": {},
     "output_type": "display_data"
    }
   ],
   "source": [
    "map(x,function(x){1+x})\n",
    "map(x,function(.) {1+.})\n",
    "map(x,~1+.)"
   ]
  },
  {
   "cell_type": "markdown",
   "metadata": {},
   "source": [
    "If you supply a string to a map function, R will extract the attribute with that name from each list element:"
   ]
  },
  {
   "cell_type": "code",
   "execution_count": 20,
   "metadata": {},
   "outputs": [
    {
     "data": {
      "text/html": [
       "<dl>\n",
       "\t<dt>$a</dt>\n",
       "\t\t<dd>1</dd>\n",
       "\t<dt>$b</dt>\n",
       "\t\t<dd>5</dd>\n",
       "\t<dt>$d</dt>\n",
       "\t\t<dd>8</dd>\n",
       "</dl>\n"
      ],
      "text/latex": [
       "\\begin{description}\n",
       "\\item[\\$a] 1\n",
       "\\item[\\$b] 5\n",
       "\\item[\\$d] 8\n",
       "\\end{description}\n"
      ],
      "text/markdown": [
       "$a\n",
       ":   1\n",
       "$b\n",
       ":   5\n",
       "$d\n",
       ":   8\n",
       "\n",
       "\n"
      ],
      "text/plain": [
       "$a\n",
       "[1] 1\n",
       "\n",
       "$b\n",
       "[1] 5\n",
       "\n",
       "$d\n",
       "[1] 8\n"
      ]
     },
     "metadata": {},
     "output_type": "display_data"
    }
   ],
   "source": [
    "list(a = list(a=1,b=2), b = list(a=5,b=3), d = list(a=8, b=4)) %>% map(\"a\")"
   ]
  },
  {
   "cell_type": "markdown",
   "metadata": {},
   "source": [
    "Similarly, an integer will extract the value at that index for each list element:"
   ]
  },
  {
   "cell_type": "code",
   "execution_count": 22,
   "metadata": {},
   "outputs": [
    {
     "data": {
      "text/html": [
       "<dl>\n",
       "\t<dt>$a</dt>\n",
       "\t\t<dd>2</dd>\n",
       "\t<dt>$b</dt>\n",
       "\t\t<dd>3</dd>\n",
       "\t<dt>$d</dt>\n",
       "\t\t<dd>4</dd>\n",
       "</dl>\n"
      ],
      "text/latex": [
       "\\begin{description}\n",
       "\\item[\\$a] 2\n",
       "\\item[\\$b] 3\n",
       "\\item[\\$d] 4\n",
       "\\end{description}\n"
      ],
      "text/markdown": [
       "$a\n",
       ":   2\n",
       "$b\n",
       ":   3\n",
       "$d\n",
       ":   4\n",
       "\n",
       "\n"
      ],
      "text/plain": [
       "$a\n",
       "[1] 2\n",
       "\n",
       "$b\n",
       "[1] 3\n",
       "\n",
       "$d\n",
       "[1] 4\n"
      ]
     },
     "metadata": {},
     "output_type": "display_data"
    }
   ],
   "source": [
    "list(a = list(a=1,b=2), b = list(a=5,b=3), d = list(a=8, b=4)) %>% map(2)"
   ]
  },
  {
   "cell_type": "markdown",
   "metadata": {},
   "source": [
    "### Exercise\n",
    "Create a function `str_rev(s)` which, given a string `s`, returns the reversed string. For example, \n",
    "```{r}\n",
    "> str_rev(\"Hello my name is KM!\")\n",
    "[1] \"!MK si eman ym olleH\"\n",
    "\n",
    "```"
   ]
  },
  {
   "cell_type": "markdown",
   "metadata": {},
   "source": [
    "Hint: `str_split()` `str_c()` "
   ]
  },
  {
   "cell_type": "code",
   "execution_count": 42,
   "metadata": {},
   "outputs": [
    {
     "data": {
      "text/html": [
       "<style>\n",
       ".list-inline {list-style: none; margin:0; padding: 0}\n",
       ".list-inline>li {display: inline-block}\n",
       ".list-inline>li:not(:last-child)::after {content: \"\\00b7\"; padding: 0 .5ex}\n",
       "</style>\n",
       "<ol class=list-inline><li>'H'</li><li>'e'</li><li>'l'</li><li>'l'</li><li>'o'</li><li>' '</li><li>'m'</li><li>'y'</li><li>' '</li><li>'n'</li><li>'a'</li><li>'m'</li><li>'e'</li><li>' '</li><li>'i'</li><li>'s'</li><li>' '</li><li>'k'</li><li>'m'</li><li>'!'</li></ol>\n"
      ],
      "text/latex": [
       "\\begin{enumerate*}\n",
       "\\item 'H'\n",
       "\\item 'e'\n",
       "\\item 'l'\n",
       "\\item 'l'\n",
       "\\item 'o'\n",
       "\\item ' '\n",
       "\\item 'm'\n",
       "\\item 'y'\n",
       "\\item ' '\n",
       "\\item 'n'\n",
       "\\item 'a'\n",
       "\\item 'm'\n",
       "\\item 'e'\n",
       "\\item ' '\n",
       "\\item 'i'\n",
       "\\item 's'\n",
       "\\item ' '\n",
       "\\item 'k'\n",
       "\\item 'm'\n",
       "\\item '!'\n",
       "\\end{enumerate*}\n"
      ],
      "text/markdown": [
       "1. 'H'\n",
       "2. 'e'\n",
       "3. 'l'\n",
       "4. 'l'\n",
       "5. 'o'\n",
       "6. ' '\n",
       "7. 'm'\n",
       "8. 'y'\n",
       "9. ' '\n",
       "10. 'n'\n",
       "11. 'a'\n",
       "12. 'm'\n",
       "13. 'e'\n",
       "14. ' '\n",
       "15. 'i'\n",
       "16. 's'\n",
       "17. ' '\n",
       "18. 'k'\n",
       "19. 'm'\n",
       "20. '!'\n",
       "\n",
       "\n"
      ],
      "text/plain": [
       " [1] \"H\" \"e\" \"l\" \"l\" \"o\" \" \" \"m\" \"y\" \" \" \"n\" \"a\" \"m\" \"e\" \" \" \"i\" \"s\" \" \" \"k\" \"m\"\n",
       "[20] \"!\""
      ]
     },
     "metadata": {},
     "output_type": "display_data"
    }
   ],
   "source": [
    "s <- \"Hello my name is km!\"\n",
    "tmp <- str_split(s,pattern=\"\")\n",
    "unlist(tmp)\n",
    "#rev(tmp)\n",
    "#unlist(tmp)\n",
    "#rev(unlist(tmp))\n",
    "#str_c(rev(unlist(tmp)),collapse=\"\")"
   ]
  },
  {
   "cell_type": "code",
   "execution_count": 33,
   "metadata": {},
   "outputs": [
    {
     "data": {
      "text/html": [
       "'!mk si eman ym olleH'"
      ],
      "text/latex": [
       "'!mk si eman ym olleH'"
      ],
      "text/markdown": [
       "'!mk si eman ym olleH'"
      ],
      "text/plain": [
       "[1] \"!mk si eman ym olleH\""
      ]
     },
     "metadata": {},
     "output_type": "display_data"
    }
   ],
   "source": [
    "str_rev <- function(s){\n",
    "    \n",
    "    s %>% str_split(pattern=\"\") %>% unlist %>% rev %>% str_c(collapse=\"\")\n",
    "    \n",
    "}\n",
    "str_rev(s)"
   ]
  },
  {
   "cell_type": "code",
   "execution_count": 32,
   "metadata": {},
   "outputs": [
    {
     "data": {
      "text/html": [
       "'!mk si eman ym olleH'"
      ],
      "text/latex": [
       "'!mk si eman ym olleH'"
      ],
      "text/markdown": [
       "'!mk si eman ym olleH'"
      ],
      "text/plain": [
       "[1] \"!mk si eman ym olleH\""
      ]
     },
     "metadata": {},
     "output_type": "display_data"
    }
   ],
   "source": [
    "str_rev = function(string) {\n",
    "    tmp <- str_split(string, pattern = \"\")\n",
    "    str_c(rev(unlist(tmp)), collapse = \"\")\n",
    "    }\n",
    "str_rev(s)"
   ]
  },
  {
   "cell_type": "markdown",
   "metadata": {},
   "source": [
    "### Exercise\n",
    "Create a function `n_entries(v, x)` which, given a vector `v` and a scalar `x`, returns the number of times that `x` occurs in `v`."
   ]
  },
  {
   "cell_type": "code",
   "execution_count": 30,
   "metadata": {},
   "outputs": [],
   "source": [
    "number <- c(1,2,3,4,5,1,2,3,4,5,5,4,3)"
   ]
  },
  {
   "cell_type": "code",
   "execution_count": 46,
   "metadata": {},
   "outputs": [
    {
     "data": {
      "text/html": [
       "<style>\n",
       ".list-inline {list-style: none; margin:0; padding: 0}\n",
       ".list-inline>li {display: inline-block}\n",
       ".list-inline>li:not(:last-child)::after {content: \"\\00b7\"; padding: 0 .5ex}\n",
       "</style>\n",
       "<ol class=list-inline><li>TRUE</li><li>FALSE</li><li>FALSE</li><li>FALSE</li><li>FALSE</li><li>TRUE</li><li>FALSE</li><li>FALSE</li><li>FALSE</li><li>FALSE</li><li>FALSE</li><li>FALSE</li><li>FALSE</li></ol>\n"
      ],
      "text/latex": [
       "\\begin{enumerate*}\n",
       "\\item TRUE\n",
       "\\item FALSE\n",
       "\\item FALSE\n",
       "\\item FALSE\n",
       "\\item FALSE\n",
       "\\item TRUE\n",
       "\\item FALSE\n",
       "\\item FALSE\n",
       "\\item FALSE\n",
       "\\item FALSE\n",
       "\\item FALSE\n",
       "\\item FALSE\n",
       "\\item FALSE\n",
       "\\end{enumerate*}\n"
      ],
      "text/markdown": [
       "1. TRUE\n",
       "2. FALSE\n",
       "3. FALSE\n",
       "4. FALSE\n",
       "5. FALSE\n",
       "6. TRUE\n",
       "7. FALSE\n",
       "8. FALSE\n",
       "9. FALSE\n",
       "10. FALSE\n",
       "11. FALSE\n",
       "12. FALSE\n",
       "13. FALSE\n",
       "\n",
       "\n"
      ],
      "text/plain": [
       " [1]  TRUE FALSE FALSE FALSE FALSE  TRUE FALSE FALSE FALSE FALSE FALSE FALSE\n",
       "[13] FALSE"
      ]
     },
     "metadata": {},
     "output_type": "display_data"
    }
   ],
   "source": [
    "number==1"
   ]
  },
  {
   "cell_type": "code",
   "execution_count": 70,
   "metadata": {
    "scrolled": true
   },
   "outputs": [
    {
     "data": {
      "text/html": [
       "<dl>\n",
       "\t<dt>$v</dt>\n",
       "\t\t<dd><style>\n",
       ".list-inline {list-style: none; margin:0; padding: 0}\n",
       ".list-inline>li {display: inline-block}\n",
       ".list-inline>li:not(:last-child)::after {content: \"\\00b7\"; padding: 0 .5ex}\n",
       "</style>\n",
       "<ol class=list-inline><li>1</li><li>2</li><li>3</li><li>4</li><li>5</li><li>1</li><li>2</li><li>3</li><li>4</li><li>5</li><li>5</li><li>4</li><li>3</li></ol>\n",
       "</dd>\n",
       "\t<dt>$x</dt>\n",
       "\t\t<dd>1</dd>\n",
       "\t<dt>$tmp</dt>\n",
       "\t\t<dd>2</dd>\n",
       "</dl>\n"
      ],
      "text/latex": [
       "\\begin{description}\n",
       "\\item[\\$v] \\begin{enumerate*}\n",
       "\\item 1\n",
       "\\item 2\n",
       "\\item 3\n",
       "\\item 4\n",
       "\\item 5\n",
       "\\item 1\n",
       "\\item 2\n",
       "\\item 3\n",
       "\\item 4\n",
       "\\item 5\n",
       "\\item 5\n",
       "\\item 4\n",
       "\\item 3\n",
       "\\end{enumerate*}\n",
       "\n",
       "\\item[\\$x] 1\n",
       "\\item[\\$tmp] 2\n",
       "\\end{description}\n"
      ],
      "text/markdown": [
       "$v\n",
       ":   1. 1\n",
       "2. 2\n",
       "3. 3\n",
       "4. 4\n",
       "5. 5\n",
       "6. 1\n",
       "7. 2\n",
       "8. 3\n",
       "9. 4\n",
       "10. 5\n",
       "11. 5\n",
       "12. 4\n",
       "13. 3\n",
       "\n",
       "\n",
       "\n",
       "$x\n",
       ":   1\n",
       "$tmp\n",
       ":   2\n",
       "\n",
       "\n"
      ],
      "text/plain": [
       "$v\n",
       " [1] 1 2 3 4 5 1 2 3 4 5 5 4 3\n",
       "\n",
       "$x\n",
       "[1] 1\n",
       "\n",
       "$tmp\n",
       "[1] 2\n"
      ]
     },
     "metadata": {},
     "output_type": "display_data"
    }
   ],
   "source": [
    "n_entries <- function(v,x){\n",
    "    \n",
    "    # type one line of code here\n",
    "    tmp <- sum(v == x)\n",
    "    return(list(v=v,x=x,tmp=tmp))\n",
    "    \n",
    "}\n",
    "\n",
    "n_entries(number,1)"
   ]
  },
  {
   "cell_type": "code",
   "execution_count": 45,
   "metadata": {},
   "outputs": [
    {
     "data": {
      "text/html": [
       "3"
      ],
      "text/latex": [
       "3"
      ],
      "text/markdown": [
       "3"
      ],
      "text/plain": [
       "[1] 3"
      ]
     },
     "metadata": {},
     "output_type": "display_data"
    }
   ],
   "source": [
    "n_entries <- function(v, x)\n",
    "    {\n",
    "    count = 0\n",
    "    for (i in v) \n",
    "        {\n",
    "        if (i==x) {count = count + 1}\n",
    "    }\n",
    "    return(count)\n",
    "}\n",
    "\n",
    "n_entries(number,3)"
   ]
  },
  {
   "cell_type": "markdown",
   "metadata": {},
   "source": [
    "### Exercise\n",
    "Create a function `standardize(df)` which, given a tibble `df`, returns a new data frame where each *numerical* column is standardized (has mean zero and variance one, accomplished by subtracting the column mean and dividing by its standard deviation). For example:\n",
    "```{r}\n",
    "> df <- tibble(x=1:3, y=4:6, z=c(0, 0, pi), a=c(\"a\", \"b\", \"c\")) %>% print\n",
    "# A tibble: 3 x 4\n",
    "      x     y     z a    \n",
    "  <int> <int> <dbl> <chr>\n",
    "1     1     4  0    a    \n",
    "2     2     5  0    b    \n",
    "3     3     6  3.14 c  \n",
    "\n",
    "> standardize(df)\n",
    "# A tibble: 3 x 4\n",
    "      x     y      z a    \n",
    "  <dbl> <dbl>  <dbl> <chr>\n",
    "1    -1    -1 -0.577 a    \n",
    "2     0     0 -0.577 b    \n",
    "3     1     1  1.15  c    \n",
    "```"
   ]
  },
  {
   "cell_type": "code",
   "execution_count": 68,
   "metadata": {},
   "outputs": [],
   "source": [
    "standardize2 <- function(df){\n",
    "    \n",
    "    for(i in seq_along(df)){\n",
    "    \n",
    "    if(is.numeric(df[[i]]) == TRUE){\n",
    "        df[[i]] <- (df[[i]] - mean(df[[i]]))/sd(df[[i]])        \n",
    "    }\n",
    "        \n",
    "    }   \n",
    "    return(df)\n",
    "    \n",
    "}"
   ]
  },
  {
   "cell_type": "code",
   "execution_count": 69,
   "metadata": {},
   "outputs": [
    {
     "data": {
      "text/html": [
       "<table>\n",
       "<caption>A tibble: 3 × 4</caption>\n",
       "<thead>\n",
       "\t<tr><th scope=col>x</th><th scope=col>y</th><th scope=col>z</th><th scope=col>a</th></tr>\n",
       "\t<tr><th scope=col>&lt;dbl&gt;</th><th scope=col>&lt;dbl&gt;</th><th scope=col>&lt;dbl&gt;</th><th scope=col>&lt;chr&gt;</th></tr>\n",
       "</thead>\n",
       "<tbody>\n",
       "\t<tr><td>-1</td><td>-1</td><td>-0.5773503</td><td>a</td></tr>\n",
       "\t<tr><td> 0</td><td> 0</td><td>-0.5773503</td><td>b</td></tr>\n",
       "\t<tr><td> 1</td><td> 1</td><td> 1.1547005</td><td>c</td></tr>\n",
       "</tbody>\n",
       "</table>\n"
      ],
      "text/latex": [
       "A tibble: 3 × 4\n",
       "\\begin{tabular}{llll}\n",
       " x & y & z & a\\\\\n",
       " <dbl> & <dbl> & <dbl> & <chr>\\\\\n",
       "\\hline\n",
       "\t -1 & -1 & -0.5773503 & a\\\\\n",
       "\t  0 &  0 & -0.5773503 & b\\\\\n",
       "\t  1 &  1 &  1.1547005 & c\\\\\n",
       "\\end{tabular}\n"
      ],
      "text/markdown": [
       "\n",
       "A tibble: 3 × 4\n",
       "\n",
       "| x &lt;dbl&gt; | y &lt;dbl&gt; | z &lt;dbl&gt; | a &lt;chr&gt; |\n",
       "|---|---|---|---|\n",
       "| -1 | -1 | -0.5773503 | a |\n",
       "|  0 |  0 | -0.5773503 | b |\n",
       "|  1 |  1 |  1.1547005 | c |\n",
       "\n"
      ],
      "text/plain": [
       "  x  y  z          a\n",
       "1 -1 -1 -0.5773503 a\n",
       "2  0  0 -0.5773503 b\n",
       "3  1  1  1.1547005 c"
      ]
     },
     "metadata": {},
     "output_type": "display_data"
    }
   ],
   "source": [
    "standardize2(df)"
   ]
  },
  {
   "cell_type": "code",
   "execution_count": 58,
   "metadata": {},
   "outputs": [
    {
     "data": {
      "text/html": [
       "FALSE"
      ],
      "text/latex": [
       "FALSE"
      ],
      "text/markdown": [
       "FALSE"
      ],
      "text/plain": [
       "[1] FALSE"
      ]
     },
     "metadata": {},
     "output_type": "display_data"
    }
   ],
   "source": [
    "is.numeric(\"a\")"
   ]
  },
  {
   "cell_type": "code",
   "execution_count": 51,
   "metadata": {},
   "outputs": [],
   "source": [
    "standardize <- function(df){\n",
    "    \n",
    "    df %>% mutate_if(is.numeric, ~ (. - mean(.))/sd(.))\n",
    "    \n",
    "}"
   ]
  },
  {
   "cell_type": "code",
   "execution_count": 53,
   "metadata": {
    "scrolled": true
   },
   "outputs": [
    {
     "name": "stdout",
     "output_type": "stream",
     "text": [
      "\u001b[38;5;246m# A tibble: 3 x 4\u001b[39m\n",
      "      x     y     z a    \n",
      "  \u001b[3m\u001b[38;5;246m<int>\u001b[39m\u001b[23m \u001b[3m\u001b[38;5;246m<int>\u001b[39m\u001b[23m \u001b[3m\u001b[38;5;246m<dbl>\u001b[39m\u001b[23m \u001b[3m\u001b[38;5;246m<chr>\u001b[39m\u001b[23m\n",
      "\u001b[38;5;250m1\u001b[39m     1     4  0    a    \n",
      "\u001b[38;5;250m2\u001b[39m     2     5  0    b    \n",
      "\u001b[38;5;250m3\u001b[39m     3     6  3.14 c    \n"
     ]
    },
    {
     "data": {
      "text/html": [
       "<table>\n",
       "<caption>A tibble: 3 × 4</caption>\n",
       "<thead>\n",
       "\t<tr><th scope=col>x</th><th scope=col>y</th><th scope=col>z</th><th scope=col>a</th></tr>\n",
       "\t<tr><th scope=col>&lt;dbl&gt;</th><th scope=col>&lt;dbl&gt;</th><th scope=col>&lt;dbl&gt;</th><th scope=col>&lt;chr&gt;</th></tr>\n",
       "</thead>\n",
       "<tbody>\n",
       "\t<tr><td>-1</td><td>-1</td><td>-0.5773503</td><td>a</td></tr>\n",
       "\t<tr><td> 0</td><td> 0</td><td>-0.5773503</td><td>b</td></tr>\n",
       "\t<tr><td> 1</td><td> 1</td><td> 1.1547005</td><td>c</td></tr>\n",
       "</tbody>\n",
       "</table>\n"
      ],
      "text/latex": [
       "A tibble: 3 × 4\n",
       "\\begin{tabular}{llll}\n",
       " x & y & z & a\\\\\n",
       " <dbl> & <dbl> & <dbl> & <chr>\\\\\n",
       "\\hline\n",
       "\t -1 & -1 & -0.5773503 & a\\\\\n",
       "\t  0 &  0 & -0.5773503 & b\\\\\n",
       "\t  1 &  1 &  1.1547005 & c\\\\\n",
       "\\end{tabular}\n"
      ],
      "text/markdown": [
       "\n",
       "A tibble: 3 × 4\n",
       "\n",
       "| x &lt;dbl&gt; | y &lt;dbl&gt; | z &lt;dbl&gt; | a &lt;chr&gt; |\n",
       "|---|---|---|---|\n",
       "| -1 | -1 | -0.5773503 | a |\n",
       "|  0 |  0 | -0.5773503 | b |\n",
       "|  1 |  1 |  1.1547005 | c |\n",
       "\n"
      ],
      "text/plain": [
       "  x  y  z          a\n",
       "1 -1 -1 -0.5773503 a\n",
       "2  0  0 -0.5773503 b\n",
       "3  1  1  1.1547005 c"
      ]
     },
     "metadata": {},
     "output_type": "display_data"
    }
   ],
   "source": [
    "df <- tibble(x=1:3, y=4:6, z=c(0, 0, pi), a=c(\"a\", \"b\", \"c\")) %>% print\n",
    "standardize(df)"
   ]
  },
  {
   "cell_type": "code",
   "execution_count": null,
   "metadata": {},
   "outputs": [],
   "source": []
  }
 ],
 "metadata": {
  "kernelspec": {
   "display_name": "R",
   "language": "R",
   "name": "ir"
  },
  "language_info": {
   "codemirror_mode": "r",
   "file_extension": ".r",
   "mimetype": "text/x-r-source",
   "name": "R",
   "pygments_lexer": "r",
   "version": "3.6.2"
  }
 },
 "nbformat": 4,
 "nbformat_minor": 1
}
