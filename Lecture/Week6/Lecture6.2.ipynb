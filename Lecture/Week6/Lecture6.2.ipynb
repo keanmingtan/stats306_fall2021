{
 "cells": [
  {
   "cell_type": "markdown",
   "metadata": {},
   "source": [
    "# Lecture 6.2: More on Relational Data and SQL\n",
    "<div style=\"border: 1px double black; padding: 10px; margin: 10px\">\n",
    "\n",
    "**After today's lecture you will:**\n",
    "* Understand how to [filter data using joins](#Filtering-joins)\n",
    "* Know to execute basic [SQL commands](#SQL-Commands)\n",
    "</div>\n",
    "\n",
    "This lecture corresponds to Chapter 13 of your textbook."
   ]
  },
  {
   "cell_type": "code",
   "execution_count": 1,
   "metadata": {},
   "outputs": [
    {
     "name": "stderr",
     "output_type": "stream",
     "text": [
      "── \u001b[1mAttaching packages\u001b[22m ─────────────────────────────────────── tidyverse 1.3.1 ──\n",
      "\n",
      "\u001b[32m✔\u001b[39m \u001b[34mggplot2\u001b[39m 3.3.5     \u001b[32m✔\u001b[39m \u001b[34mpurrr  \u001b[39m 0.3.4\n",
      "\u001b[32m✔\u001b[39m \u001b[34mtibble \u001b[39m 3.1.4     \u001b[32m✔\u001b[39m \u001b[34mdplyr  \u001b[39m 1.0.7\n",
      "\u001b[32m✔\u001b[39m \u001b[34mtidyr  \u001b[39m 1.1.3     \u001b[32m✔\u001b[39m \u001b[34mstringr\u001b[39m 1.4.0\n",
      "\u001b[32m✔\u001b[39m \u001b[34mreadr  \u001b[39m 2.0.1     \u001b[32m✔\u001b[39m \u001b[34mforcats\u001b[39m 0.5.1\n",
      "\n",
      "── \u001b[1mConflicts\u001b[22m ────────────────────────────────────────── tidyverse_conflicts() ──\n",
      "\u001b[31m✖\u001b[39m \u001b[34mdplyr\u001b[39m::\u001b[32mfilter()\u001b[39m masks \u001b[34mstats\u001b[39m::filter()\n",
      "\u001b[31m✖\u001b[39m \u001b[34mdplyr\u001b[39m::\u001b[32mlag()\u001b[39m    masks \u001b[34mstats\u001b[39m::lag()\n",
      "\n"
     ]
    }
   ],
   "source": [
    "library(tidyverse)\n",
    "library(nycflights13)"
   ]
  },
  {
   "cell_type": "markdown",
   "metadata": {},
   "source": [
    "## Filtering joins\n",
    "\n",
    "Filtering joins allow us to filter rows on one table based on their presence or absence in another table. "
   ]
  },
  {
   "cell_type": "code",
   "execution_count": 2,
   "metadata": {},
   "outputs": [
    {
     "name": "stderr",
     "output_type": "stream",
     "text": [
      "Selecting by n\n"
     ]
    },
    {
     "name": "stdout",
     "output_type": "stream",
     "text": [
      "# A tibble: 5 x 2\n",
      "  carrier     n\n",
      "  <chr>   <int>\n",
      "1 AA      32729\n",
      "2 B6      54635\n",
      "3 DL      48110\n",
      "4 EV      54173\n",
      "5 UA      58665\n"
     ]
    },
    {
     "data": {
      "text/html": [
       "<ol class=list-inline>\n",
       "\t<li>'AA'</li>\n",
       "\t<li>'B6'</li>\n",
       "\t<li>'DL'</li>\n",
       "\t<li>'EV'</li>\n",
       "\t<li>'UA'</li>\n",
       "</ol>\n"
      ],
      "text/latex": [
       "\\begin{enumerate*}\n",
       "\\item 'AA'\n",
       "\\item 'B6'\n",
       "\\item 'DL'\n",
       "\\item 'EV'\n",
       "\\item 'UA'\n",
       "\\end{enumerate*}\n"
      ],
      "text/markdown": [
       "1. 'AA'\n",
       "2. 'B6'\n",
       "3. 'DL'\n",
       "4. 'EV'\n",
       "5. 'UA'\n",
       "\n",
       "\n"
      ],
      "text/plain": [
       "[1] \"AA\" \"B6\" \"DL\" \"EV\" \"UA\""
      ]
     },
     "metadata": {},
     "output_type": "display_data"
    },
    {
     "name": "stdout",
     "output_type": "stream",
     "text": [
      "# A tibble: 248,312 x 19\n",
      "    year month   day dep_time sched_dep_time dep_delay arr_time sched_arr_time\n",
      "   <int> <int> <int>    <int>          <int>     <dbl>    <int>          <int>\n",
      " 1  2013     1     1      517            515         2      830            819\n",
      " 2  2013     1     1      533            529         4      850            830\n",
      " 3  2013     1     1      542            540         2      923            850\n",
      " 4  2013     1     1      544            545        -1     1004           1022\n",
      " 5  2013     1     1      554            600        -6      812            837\n",
      " 6  2013     1     1      554            558        -4      740            728\n",
      " 7  2013     1     1      555            600        -5      913            854\n",
      " 8  2013     1     1      557            600        -3      709            723\n",
      " 9  2013     1     1      557            600        -3      838            846\n",
      "10  2013     1     1      558            600        -2      753            745\n",
      "# … with 248,302 more rows, and 11 more variables: arr_delay <dbl>,\n",
      "#   carrier <chr>, flight <int>, tailnum <chr>, origin <chr>, dest <chr>,\n",
      "#   air_time <dbl>, distance <dbl>, hour <dbl>, minute <dbl>, time_hour <dttm>\n"
     ]
    }
   ],
   "source": [
    "top5 <- count(flights, carrier) %>% top_n(5) %>% print\n",
    "top5$carrier\n",
    "flights_top5 = filter(flights, carrier %in% top5$carrier) %>% print"
   ]
  },
  {
   "cell_type": "markdown",
   "metadata": {},
   "source": [
    "### Question: \n",
    "What if we wanted to filter based on more than one variable? For example, based on busiest days of the year:"
   ]
  },
  {
   "cell_type": "code",
   "execution_count": 2,
   "metadata": {},
   "outputs": [
    {
     "name": "stderr",
     "output_type": "stream",
     "text": [
      "Selecting by n\n",
      "\n"
     ]
    },
    {
     "name": "stdout",
     "output_type": "stream",
     "text": [
      "\u001b[38;5;246m# A tibble: 7 x 4\u001b[39m\n",
      "   year month   day     n\n",
      "  \u001b[3m\u001b[38;5;246m<int>\u001b[39m\u001b[23m \u001b[3m\u001b[38;5;246m<int>\u001b[39m\u001b[23m \u001b[3m\u001b[38;5;246m<int>\u001b[39m\u001b[23m \u001b[3m\u001b[38;5;246m<int>\u001b[39m\u001b[23m\n",
      "\u001b[38;5;250m1\u001b[39m  \u001b[4m2\u001b[24m013     7    18  \u001b[4m1\u001b[24m003\n",
      "\u001b[38;5;250m2\u001b[39m  \u001b[4m2\u001b[24m013     7    25  \u001b[4m1\u001b[24m003\n",
      "\u001b[38;5;250m3\u001b[39m  \u001b[4m2\u001b[24m013     7     8  \u001b[4m1\u001b[24m004\n",
      "\u001b[38;5;250m4\u001b[39m  \u001b[4m2\u001b[24m013     7    10  \u001b[4m1\u001b[24m004\n",
      "\u001b[38;5;250m5\u001b[39m  \u001b[4m2\u001b[24m013    12     2  \u001b[4m1\u001b[24m004\n",
      "\u001b[38;5;250m6\u001b[39m  \u001b[4m2\u001b[24m013     7    11  \u001b[4m1\u001b[24m006\n",
      "\u001b[38;5;250m7\u001b[39m  \u001b[4m2\u001b[24m013    11    27  \u001b[4m1\u001b[24m014\n"
     ]
    }
   ],
   "source": [
    "top7_days  <- count(flights,year, month, day)  %>% top_n(7) %>% arrange(n) %>% print"
   ]
  },
  {
   "cell_type": "markdown",
   "metadata": {},
   "source": [
    "One option would be to construct a new string variable which we could then match using the same technique:"
   ]
  },
  {
   "cell_type": "code",
   "execution_count": 3,
   "metadata": {},
   "outputs": [
    {
     "name": "stdout",
     "output_type": "stream",
     "text": [
      "\u001b[38;5;246m# A tibble: 7 x 2\u001b[39m\n",
      "  ymd            n\n",
      "  \u001b[3m\u001b[38;5;246m<chr>\u001b[39m\u001b[23m      \u001b[3m\u001b[38;5;246m<int>\u001b[39m\u001b[23m\n",
      "\u001b[38;5;250m1\u001b[39m 2013-7-18   \u001b[4m1\u001b[24m003\n",
      "\u001b[38;5;250m2\u001b[39m 2013-7-25   \u001b[4m1\u001b[24m003\n",
      "\u001b[38;5;250m3\u001b[39m 2013-7-8    \u001b[4m1\u001b[24m004\n",
      "\u001b[38;5;250m4\u001b[39m 2013-7-10   \u001b[4m1\u001b[24m004\n",
      "\u001b[38;5;250m5\u001b[39m 2013-12-2   \u001b[4m1\u001b[24m004\n",
      "\u001b[38;5;250m6\u001b[39m 2013-7-11   \u001b[4m1\u001b[24m006\n",
      "\u001b[38;5;250m7\u001b[39m 2013-11-27  \u001b[4m1\u001b[24m014\n",
      "\u001b[38;5;246m# A tibble: 336,776 x 17\u001b[39m\n",
      "   ymd   dep_time sched_dep_time dep_delay arr_time sched_arr_time arr_delay\n",
      "   \u001b[3m\u001b[38;5;246m<chr>\u001b[39m\u001b[23m    \u001b[3m\u001b[38;5;246m<int>\u001b[39m\u001b[23m          \u001b[3m\u001b[38;5;246m<int>\u001b[39m\u001b[23m     \u001b[3m\u001b[38;5;246m<dbl>\u001b[39m\u001b[23m    \u001b[3m\u001b[38;5;246m<int>\u001b[39m\u001b[23m          \u001b[3m\u001b[38;5;246m<int>\u001b[39m\u001b[23m     \u001b[3m\u001b[38;5;246m<dbl>\u001b[39m\u001b[23m\n",
      "\u001b[38;5;250m 1\u001b[39m 2013…      517            515         2      830            819        11\n",
      "\u001b[38;5;250m 2\u001b[39m 2013…      533            529         4      850            830        20\n",
      "\u001b[38;5;250m 3\u001b[39m 2013…      542            540         2      923            850        33\n",
      "\u001b[38;5;250m 4\u001b[39m 2013…      544            545        -\u001b[31m1\u001b[39m     \u001b[4m1\u001b[24m004           \u001b[4m1\u001b[24m022       -\u001b[31m18\u001b[39m\n",
      "\u001b[38;5;250m 5\u001b[39m 2013…      554            600        -\u001b[31m6\u001b[39m      812            837       -\u001b[31m25\u001b[39m\n",
      "\u001b[38;5;250m 6\u001b[39m 2013…      554            558        -\u001b[31m4\u001b[39m      740            728        12\n",
      "\u001b[38;5;250m 7\u001b[39m 2013…      555            600        -\u001b[31m5\u001b[39m      913            854        19\n",
      "\u001b[38;5;250m 8\u001b[39m 2013…      557            600        -\u001b[31m3\u001b[39m      709            723       -\u001b[31m14\u001b[39m\n",
      "\u001b[38;5;250m 9\u001b[39m 2013…      557            600        -\u001b[31m3\u001b[39m      838            846        -\u001b[31m8\u001b[39m\n",
      "\u001b[38;5;250m10\u001b[39m 2013…      558            600        -\u001b[31m2\u001b[39m      753            745         8\n",
      "\u001b[38;5;246m# … with 336,766 more rows, and 10 more variables: carrier \u001b[3m\u001b[38;5;246m<chr>\u001b[38;5;246m\u001b[23m, flight \u001b[3m\u001b[38;5;246m<int>\u001b[38;5;246m\u001b[23m,\u001b[39m\n",
      "\u001b[38;5;246m#   tailnum \u001b[3m\u001b[38;5;246m<chr>\u001b[38;5;246m\u001b[23m, origin \u001b[3m\u001b[38;5;246m<chr>\u001b[38;5;246m\u001b[23m, dest \u001b[3m\u001b[38;5;246m<chr>\u001b[38;5;246m\u001b[23m, air_time \u001b[3m\u001b[38;5;246m<dbl>\u001b[38;5;246m\u001b[23m, distance \u001b[3m\u001b[38;5;246m<dbl>\u001b[38;5;246m\u001b[23m,\u001b[39m\n",
      "\u001b[38;5;246m#   hour \u001b[3m\u001b[38;5;246m<dbl>\u001b[38;5;246m\u001b[23m, minute \u001b[3m\u001b[38;5;246m<dbl>\u001b[38;5;246m\u001b[23m, time_hour \u001b[3m\u001b[38;5;246m<dttm>\u001b[38;5;246m\u001b[23m\u001b[39m\n",
      "\u001b[38;5;246m# A tibble: 7,038 x 17\u001b[39m\n",
      "   ymd   dep_time sched_dep_time dep_delay arr_time sched_arr_time arr_delay\n",
      "   \u001b[3m\u001b[38;5;246m<chr>\u001b[39m\u001b[23m    \u001b[3m\u001b[38;5;246m<int>\u001b[39m\u001b[23m          \u001b[3m\u001b[38;5;246m<int>\u001b[39m\u001b[23m     \u001b[3m\u001b[38;5;246m<dbl>\u001b[39m\u001b[23m    \u001b[3m\u001b[38;5;246m<int>\u001b[39m\u001b[23m          \u001b[3m\u001b[38;5;246m<int>\u001b[39m\u001b[23m     \u001b[3m\u001b[38;5;246m<dbl>\u001b[39m\u001b[23m\n",
      "\u001b[38;5;250m 1\u001b[39m 2013…       28           \u001b[4m1\u001b[24m930       298      129           \u001b[4m2\u001b[24m049       280\n",
      "\u001b[38;5;250m 2\u001b[39m 2013…      505            500         5      703            651        12\n",
      "\u001b[38;5;250m 3\u001b[39m 2013…      514            515        -\u001b[31m1\u001b[39m      743            808       -\u001b[31m25\u001b[39m\n",
      "\u001b[38;5;250m 4\u001b[39m 2013…      535            540        -\u001b[31m5\u001b[39m      907            850        17\n",
      "\u001b[38;5;250m 5\u001b[39m 2013…      540            545        -\u001b[31m5\u001b[39m      815            835       -\u001b[31m20\u001b[39m\n",
      "\u001b[38;5;250m 6\u001b[39m 2013…      551            600        -\u001b[31m9\u001b[39m      920            854        26\n",
      "\u001b[38;5;250m 7\u001b[39m 2013…      551            600        -\u001b[31m9\u001b[39m      918            849        29\n",
      "\u001b[38;5;250m 8\u001b[39m 2013…      554            600        -\u001b[31m6\u001b[39m      719            719         0\n",
      "\u001b[38;5;250m 9\u001b[39m 2013…      554            600        -\u001b[31m6\u001b[39m      707            717       -\u001b[31m10\u001b[39m\n",
      "\u001b[38;5;250m10\u001b[39m 2013…      554            600        -\u001b[31m6\u001b[39m      907            846        21\n",
      "\u001b[38;5;246m# … with 7,028 more rows, and 10 more variables: carrier \u001b[3m\u001b[38;5;246m<chr>\u001b[38;5;246m\u001b[23m, flight \u001b[3m\u001b[38;5;246m<int>\u001b[38;5;246m\u001b[23m,\u001b[39m\n",
      "\u001b[38;5;246m#   tailnum \u001b[3m\u001b[38;5;246m<chr>\u001b[38;5;246m\u001b[23m, origin \u001b[3m\u001b[38;5;246m<chr>\u001b[38;5;246m\u001b[23m, dest \u001b[3m\u001b[38;5;246m<chr>\u001b[38;5;246m\u001b[23m, air_time \u001b[3m\u001b[38;5;246m<dbl>\u001b[38;5;246m\u001b[23m, distance \u001b[3m\u001b[38;5;246m<dbl>\u001b[38;5;246m\u001b[23m,\u001b[39m\n",
      "\u001b[38;5;246m#   hour \u001b[3m\u001b[38;5;246m<dbl>\u001b[38;5;246m\u001b[23m, minute \u001b[3m\u001b[38;5;246m<dbl>\u001b[38;5;246m\u001b[23m, time_hour \u001b[3m\u001b[38;5;246m<dttm>\u001b[38;5;246m\u001b[23m\u001b[39m\n"
     ]
    }
   ],
   "source": [
    "top7_days_ymd <- unite(top7_days, ymd, year:day,sep=\"-\") %>% print\n",
    "flights_ymd <- unite(flights, ymd, year:day,sep=\"-\") %>% print\n",
    "filter(flights_ymd,ymd %in% top7_days_ymd$ymd) %>% print"
   ]
  },
  {
   "cell_type": "markdown",
   "metadata": {},
   "source": [
    "But this is cumbersome and will also be slow if you are matching to a large list of choices."
   ]
  },
  {
   "cell_type": "markdown",
   "metadata": {},
   "source": [
    "### Semi-join\n",
    "A better option is to use the built-in command `semi_join`. `semi_join(x, y)` keeps all the observations in `x` that are also in `y`.\n",
    "![semi join](http://r4ds.had.co.nz/diagrams/join-semi.png)"
   ]
  },
  {
   "cell_type": "markdown",
   "metadata": {},
   "source": [
    "`semi_join()` takes the same `key=` options as the other join commands."
   ]
  },
  {
   "cell_type": "markdown",
   "metadata": {},
   "source": [
    "**Question:** Now let us try to create a table with all flights in the 7 busiest days of the year."
   ]
  },
  {
   "cell_type": "code",
   "execution_count": 4,
   "metadata": {},
   "outputs": [
    {
     "name": "stderr",
     "output_type": "stream",
     "text": [
      "Joining, by = c(\"year\", \"month\", \"day\")\n",
      "\n"
     ]
    },
    {
     "name": "stdout",
     "output_type": "stream",
     "text": [
      "\u001b[38;5;246m# A tibble: 7,038 x 19\u001b[39m\n",
      "    year month   day dep_time sched_dep_time dep_delay arr_time sched_arr_time\n",
      "   \u001b[3m\u001b[38;5;246m<int>\u001b[39m\u001b[23m \u001b[3m\u001b[38;5;246m<int>\u001b[39m\u001b[23m \u001b[3m\u001b[38;5;246m<int>\u001b[39m\u001b[23m    \u001b[3m\u001b[38;5;246m<int>\u001b[39m\u001b[23m          \u001b[3m\u001b[38;5;246m<int>\u001b[39m\u001b[23m     \u001b[3m\u001b[38;5;246m<dbl>\u001b[39m\u001b[23m    \u001b[3m\u001b[38;5;246m<int>\u001b[39m\u001b[23m          \u001b[3m\u001b[38;5;246m<int>\u001b[39m\u001b[23m\n",
      "\u001b[38;5;250m 1\u001b[39m  \u001b[4m2\u001b[24m013    11    27       28           \u001b[4m1\u001b[24m930       298      129           \u001b[4m2\u001b[24m049\n",
      "\u001b[38;5;250m 2\u001b[39m  \u001b[4m2\u001b[24m013    11    27      505            500         5      703            651\n",
      "\u001b[38;5;250m 3\u001b[39m  \u001b[4m2\u001b[24m013    11    27      514            515        -\u001b[31m1\u001b[39m      743            808\n",
      "\u001b[38;5;250m 4\u001b[39m  \u001b[4m2\u001b[24m013    11    27      535            540        -\u001b[31m5\u001b[39m      907            850\n",
      "\u001b[38;5;250m 5\u001b[39m  \u001b[4m2\u001b[24m013    11    27      540            545        -\u001b[31m5\u001b[39m      815            835\n",
      "\u001b[38;5;250m 6\u001b[39m  \u001b[4m2\u001b[24m013    11    27      551            600        -\u001b[31m9\u001b[39m      920            854\n",
      "\u001b[38;5;250m 7\u001b[39m  \u001b[4m2\u001b[24m013    11    27      551            600        -\u001b[31m9\u001b[39m      918            849\n",
      "\u001b[38;5;250m 8\u001b[39m  \u001b[4m2\u001b[24m013    11    27      554            600        -\u001b[31m6\u001b[39m      719            719\n",
      "\u001b[38;5;250m 9\u001b[39m  \u001b[4m2\u001b[24m013    11    27      554            600        -\u001b[31m6\u001b[39m      707            717\n",
      "\u001b[38;5;250m10\u001b[39m  \u001b[4m2\u001b[24m013    11    27      554            600        -\u001b[31m6\u001b[39m      907            846\n",
      "\u001b[38;5;246m# … with 7,028 more rows, and 11 more variables: arr_delay \u001b[3m\u001b[38;5;246m<dbl>\u001b[38;5;246m\u001b[23m,\u001b[39m\n",
      "\u001b[38;5;246m#   carrier \u001b[3m\u001b[38;5;246m<chr>\u001b[38;5;246m\u001b[23m, flight \u001b[3m\u001b[38;5;246m<int>\u001b[38;5;246m\u001b[23m, tailnum \u001b[3m\u001b[38;5;246m<chr>\u001b[38;5;246m\u001b[23m, origin \u001b[3m\u001b[38;5;246m<chr>\u001b[38;5;246m\u001b[23m, dest \u001b[3m\u001b[38;5;246m<chr>\u001b[38;5;246m\u001b[23m,\u001b[39m\n",
      "\u001b[38;5;246m#   air_time \u001b[3m\u001b[38;5;246m<dbl>\u001b[38;5;246m\u001b[23m, distance \u001b[3m\u001b[38;5;246m<dbl>\u001b[38;5;246m\u001b[23m, hour \u001b[3m\u001b[38;5;246m<dbl>\u001b[38;5;246m\u001b[23m, minute \u001b[3m\u001b[38;5;246m<dbl>\u001b[38;5;246m\u001b[23m, time_hour \u001b[3m\u001b[38;5;246m<dttm>\u001b[38;5;246m\u001b[23m\u001b[39m\n"
     ]
    }
   ],
   "source": [
    "semi_join(flights,top7_days, key=c(\"year\",\"month\",\"day\")) %>% print"
   ]
  },
  {
   "cell_type": "markdown",
   "metadata": {},
   "source": [
    "### Exercise\n",
    "Of the 336,776 flights in `flights`, what % of them departed on one of the 20 busiest days of the year?"
   ]
  },
  {
   "cell_type": "code",
   "execution_count": 5,
   "metadata": {},
   "outputs": [
    {
     "name": "stderr",
     "output_type": "stream",
     "text": [
      "Selecting by n\n",
      "\n"
     ]
    },
    {
     "name": "stdout",
     "output_type": "stream",
     "text": [
      "\u001b[38;5;246m# A tibble: 20 x 4\u001b[39m\n",
      "    year month   day     n\n",
      "   \u001b[3m\u001b[38;5;246m<int>\u001b[39m\u001b[23m \u001b[3m\u001b[38;5;246m<int>\u001b[39m\u001b[23m \u001b[3m\u001b[38;5;246m<int>\u001b[39m\u001b[23m \u001b[3m\u001b[38;5;246m<int>\u001b[39m\u001b[23m\n",
      "\u001b[38;5;250m 1\u001b[39m  \u001b[4m2\u001b[24m013     7     8  \u001b[4m1\u001b[24m004\n",
      "\u001b[38;5;250m 2\u001b[39m  \u001b[4m2\u001b[24m013     7     9  \u001b[4m1\u001b[24m001\n",
      "\u001b[38;5;250m 3\u001b[39m  \u001b[4m2\u001b[24m013     7    10  \u001b[4m1\u001b[24m004\n",
      "\u001b[38;5;250m 4\u001b[39m  \u001b[4m2\u001b[24m013     7    11  \u001b[4m1\u001b[24m006\n",
      "\u001b[38;5;250m 5\u001b[39m  \u001b[4m2\u001b[24m013     7    12  \u001b[4m1\u001b[24m002\n",
      "\u001b[38;5;250m 6\u001b[39m  \u001b[4m2\u001b[24m013     7    17  \u001b[4m1\u001b[24m001\n",
      "\u001b[38;5;250m 7\u001b[39m  \u001b[4m2\u001b[24m013     7    18  \u001b[4m1\u001b[24m003\n",
      "\u001b[38;5;250m 8\u001b[39m  \u001b[4m2\u001b[24m013     7    22  \u001b[4m1\u001b[24m000\n",
      "\u001b[38;5;250m 9\u001b[39m  \u001b[4m2\u001b[24m013     7    24  \u001b[4m1\u001b[24m000\n",
      "\u001b[38;5;250m10\u001b[39m  \u001b[4m2\u001b[24m013     7    25  \u001b[4m1\u001b[24m003\n",
      "\u001b[38;5;250m11\u001b[39m  \u001b[4m2\u001b[24m013     7    31  \u001b[4m1\u001b[24m001\n",
      "\u001b[38;5;250m12\u001b[39m  \u001b[4m2\u001b[24m013     8     1  \u001b[4m1\u001b[24m000\n",
      "\u001b[38;5;250m13\u001b[39m  \u001b[4m2\u001b[24m013     8     5  \u001b[4m1\u001b[24m000\n",
      "\u001b[38;5;250m14\u001b[39m  \u001b[4m2\u001b[24m013     8     7  \u001b[4m1\u001b[24m001\n",
      "\u001b[38;5;250m15\u001b[39m  \u001b[4m2\u001b[24m013     8     8  \u001b[4m1\u001b[24m001\n",
      "\u001b[38;5;250m16\u001b[39m  \u001b[4m2\u001b[24m013     8    12  \u001b[4m1\u001b[24m001\n",
      "\u001b[38;5;250m17\u001b[39m  \u001b[4m2\u001b[24m013     8    15  \u001b[4m1\u001b[24m000\n",
      "\u001b[38;5;250m18\u001b[39m  \u001b[4m2\u001b[24m013    11    21  \u001b[4m1\u001b[24m000\n",
      "\u001b[38;5;250m19\u001b[39m  \u001b[4m2\u001b[24m013    11    27  \u001b[4m1\u001b[24m014\n",
      "\u001b[38;5;250m20\u001b[39m  \u001b[4m2\u001b[24m013    12     2  \u001b[4m1\u001b[24m004\n"
     ]
    },
    {
     "data": {
      "text/html": [
       "20046"
      ],
      "text/latex": [
       "20046"
      ],
      "text/markdown": [
       "20046"
      ],
      "text/plain": [
       "[1] 20046"
      ]
     },
     "metadata": {},
     "output_type": "display_data"
    },
    {
     "data": {
      "text/html": [
       "0.0595232439366226"
      ],
      "text/latex": [
       "0.0595232439366226"
      ],
      "text/markdown": [
       "0.0595232439366226"
      ],
      "text/plain": [
       "[1] 0.05952324"
      ]
     },
     "metadata": {},
     "output_type": "display_data"
    }
   ],
   "source": [
    "top20_days <- flights %>% count(year,month,day) %>% top_n(20) %>% print\n",
    "semi_join(flights,top20_days, key=c(\"year\",\"month\",\"day\"), by=c(\"year\",\"month\",\"day\")) %>% nrow \n",
    "\n",
    "20046/nrow(flights)"
   ]
  },
  {
   "cell_type": "markdown",
   "metadata": {},
   "source": [
    "### Anti-join\n",
    "The opposite of a semi-join is an anti-join:\n",
    "![anti-join](http://r4ds.had.co.nz/diagrams/join-anti.png)"
   ]
  },
  {
   "cell_type": "markdown",
   "metadata": {},
   "source": [
    "### Exercise\n",
    "<table><tr><th>Beginner</th><th>Advanced</th></tr>\n",
    "    <tr>\n",
    "        <td>How many flights were on planes which are <i>not</i> found in the <code>planes</code> table?</td>\n",
    "        <td>How many planes flew to destinations which are <i>not</i> found in the <code>airports</code> table?</td>\n",
    "    </tr>\n",
    "    </table>"
   ]
  },
  {
   "cell_type": "code",
   "execution_count": 6,
   "metadata": {},
   "outputs": [
    {
     "data": {
      "text/html": [
       "52606"
      ],
      "text/latex": [
       "52606"
      ],
      "text/markdown": [
       "52606"
      ],
      "text/plain": [
       "[1] 52606"
      ]
     },
     "metadata": {},
     "output_type": "display_data"
    },
    {
     "name": "stdout",
     "output_type": "stream",
     "text": [
      "\u001b[38;5;246m# A tibble: 804 x 1\u001b[39m\n",
      "   tailnum\n",
      "   \u001b[3m\u001b[38;5;246m<chr>\u001b[39m\u001b[23m  \n",
      "\u001b[38;5;250m 1\u001b[39m N804JB \n",
      "\u001b[38;5;250m 2\u001b[39m N794JB \n",
      "\u001b[38;5;250m 3\u001b[39m N3BAAA \n",
      "\u001b[38;5;250m 4\u001b[39m N77296 \n",
      "\u001b[38;5;250m 5\u001b[39m N651JB \n",
      "\u001b[38;5;250m 6\u001b[39m N527JB \n",
      "\u001b[38;5;250m 7\u001b[39m N900PC \n",
      "\u001b[38;5;250m 8\u001b[39m N5FSAA \n",
      "\u001b[38;5;250m 9\u001b[39m N5EXAA \n",
      "\u001b[38;5;250m10\u001b[39m N24715 \n",
      "\u001b[38;5;246m# … with 794 more rows\u001b[39m\n"
     ]
    }
   ],
   "source": [
    "anti_join(flights,planes,by=\"tailnum\") %>%nrow\n",
    "\n",
    "anti_join(flights,airports,by=c(\"dest\"=\"faa\")) %>% distinct(tailnum) %>% print"
   ]
  },
  {
   "cell_type": "markdown",
   "metadata": {},
   "source": [
    "Anti-joins are useful for finding mismatches in joins. Last lecture we saw that some 50k entries in `flights` have `tailnum`s that do not exist in the `planes` table. To find out more about these flights we could use an anti-join to select only those rows:"
   ]
  },
  {
   "cell_type": "code",
   "execution_count": 23,
   "metadata": {},
   "outputs": [
    {
     "name": "stdout",
     "output_type": "stream",
     "text": [
      "# A tibble: 50,094 x 19\n",
      "    year month   day dep_time sched_dep_time dep_delay arr_time sched_arr_time\n",
      "   <int> <int> <int>    <int>          <int>     <dbl>    <int>          <int>\n",
      " 1  2013     1     1      558            600        -2      753            745\n",
      " 2  2013     1     1      559            600        -1      941            910\n",
      " 3  2013     1     1      600            600         0      837            825\n",
      " 4  2013     1     1      602            605        -3      821            805\n",
      " 5  2013     1     1      608            600         8      807            735\n",
      " 6  2013     1     1      611            600        11      945            931\n",
      " 7  2013     1     1      623            610        13      920            915\n",
      " 8  2013     1     1      624            630        -6      840            830\n",
      " 9  2013     1     1      628            630        -2     1137           1140\n",
      "10  2013     1     1      629            630        -1      824            810\n",
      "# … with 50,084 more rows, and 11 more variables: arr_delay <dbl>,\n",
      "#   carrier <chr>, flight <int>, tailnum <chr>, origin <chr>, dest <chr>,\n",
      "#   air_time <dbl>, distance <dbl>, hour <dbl>, minute <dbl>, time_hour <dttm>\n"
     ]
    }
   ],
   "source": [
    "missing_planes <- anti_join(flights, planes, by=\"tailnum\") %>% \n",
    "                 filter(!is.na(tailnum)) %>% print"
   ]
  },
  {
   "cell_type": "markdown",
   "metadata": {},
   "source": [
    "Do we see any pattern in this table that could explain the missing tail numbers?"
   ]
  },
  {
   "cell_type": "code",
   "execution_count": 24,
   "metadata": {},
   "outputs": [
    {
     "name": "stdout",
     "output_type": "stream",
     "text": [
      "# A tibble: 100 x 19\n",
      "    year month   day dep_time sched_dep_time dep_delay arr_time sched_arr_time\n",
      "   <int> <int> <int>    <int>          <int>     <dbl>    <int>          <int>\n",
      " 1  2013     8    11      621            630        -9      737            755\n",
      " 2  2013    10    19     1157           1200        -3     1527           1515\n",
      " 3  2013     7    27     1437           1445        -8     1703           1740\n",
      " 4  2013    12    23      652            655        -3      935            940\n",
      " 5  2013    12    23     1019           1005        14     1205           1155\n",
      " 6  2013     4    25     1130           1100        30     1230           1210\n",
      " 7  2013     9    10     1046           1050        -4     1243           1250\n",
      " 8  2013     5     5     2052           2105       -13     2227           2305\n",
      " 9  2013     2    14     2039           2045        -6     2159           2225\n",
      "10  2013     9    20      730            735        -5     1018           1035\n",
      "   arr_delay carrier flight tailnum origin dest  air_time distance  hour minute\n",
      "       <dbl> <chr>    <int> <chr>   <chr>  <chr>    <dbl>    <dbl> <dbl>  <dbl>\n",
      " 1       -18 AA         303 N3CDAA  LGA    ORD        109      733     6     30\n",
      " 2        12 AA        1256 N3EYAA  LGA    MIA        158     1096    12      0\n",
      " 3       -37 AA         759 N3BKAA  LGA    DFW        189     1389    14     45\n",
      " 4        -5 AA        1263 N3FJAA  JFK    LAS        316     2248     6     55\n",
      " 5        10 MQ        3572 N813MQ  LGA    CLE         77      419    10      5\n",
      " 6        20 MQ        3792 N521MQ  JFK    DCA         45      213    11      0\n",
      " 7        -7 MQ        3689 N522MQ  LGA    DTW         78      502    10     50\n",
      " 8       -38 MQ        4573 N725MQ  LGA    DTW         78      502    21      5\n",
      " 9       -26 AA         371 N4XFAA  LGA    ORD        119      733    20     45\n",
      "10       -17 AA        2279 N3KTAA  LGA    MIA        140     1096     7     35\n",
      "   time_hour          \n",
      "   <dttm>             \n",
      " 1 2013-08-11 06:00:00\n",
      " 2 2013-10-19 12:00:00\n",
      " 3 2013-07-27 14:00:00\n",
      " 4 2013-12-23 06:00:00\n",
      " 5 2013-12-23 10:00:00\n",
      " 6 2013-04-25 11:00:00\n",
      " 7 2013-09-10 10:00:00\n",
      " 8 2013-05-05 21:00:00\n",
      " 9 2013-02-14 20:00:00\n",
      "10 2013-09-20 07:00:00\n",
      "# … with 90 more rows\n"
     ]
    }
   ],
   "source": [
    "missing_planes %>% sample_n(100) %>% print(width = Inf)"
   ]
  },
  {
   "cell_type": "markdown",
   "metadata": {},
   "source": [
    "Interestingly, the top 5 most frequent `tailnum`s in the overall data are almost the same:"
   ]
  },
  {
   "cell_type": "code",
   "execution_count": 25,
   "metadata": {},
   "outputs": [
    {
     "name": "stderr",
     "output_type": "stream",
     "text": [
      "Selecting by n\n"
     ]
    },
    {
     "data": {
      "text/html": [
       "<table>\n",
       "<thead><tr><th scope=col>tailnum</th><th scope=col>model</th><th scope=col>n</th></tr></thead>\n",
       "<tbody>\n",
       "\t<tr><td>N711MQ</td><td>G1159B</td><td>486   </td></tr>\n",
       "\t<tr><td>N713MQ</td><td>NA    </td><td>483   </td></tr>\n",
       "\t<tr><td>N722MQ</td><td>NA    </td><td>513   </td></tr>\n",
       "\t<tr><td>N723MQ</td><td>NA    </td><td>507   </td></tr>\n",
       "\t<tr><td>N725MQ</td><td>NA    </td><td>575   </td></tr>\n",
       "</tbody>\n",
       "</table>\n"
      ],
      "text/latex": [
       "\\begin{tabular}{r|lll}\n",
       " tailnum & model & n\\\\\n",
       "\\hline\n",
       "\t N711MQ & G1159B & 486   \\\\\n",
       "\t N713MQ & NA     & 483   \\\\\n",
       "\t N722MQ & NA     & 513   \\\\\n",
       "\t N723MQ & NA     & 507   \\\\\n",
       "\t N725MQ & NA     & 575   \\\\\n",
       "\\end{tabular}\n"
      ],
      "text/markdown": [
       "\n",
       "| tailnum | model | n |\n",
       "|---|---|---|\n",
       "| N711MQ | G1159B | 486    |\n",
       "| N713MQ | NA     | 483    |\n",
       "| N722MQ | NA     | 513    |\n",
       "| N723MQ | NA     | 507    |\n",
       "| N725MQ | NA     | 575    |\n",
       "\n"
      ],
      "text/plain": [
       "  tailnum model  n  \n",
       "1 N711MQ  G1159B 486\n",
       "2 N713MQ  NA     483\n",
       "3 N722MQ  NA     513\n",
       "4 N723MQ  NA     507\n",
       "5 N725MQ  NA     575"
      ]
     },
     "metadata": {},
     "output_type": "display_data"
    }
   ],
   "source": [
    "flights %>% drop_na(tailnum) %>% left_join(planes, by = \"tailnum\") %>% \n",
    "    count(tailnum, model) %>% top_n(5)"
   ]
  },
  {
   "cell_type": "code",
   "execution_count": 26,
   "metadata": {},
   "outputs": [
    {
     "data": {
      "text/html": [
       "<table>\n",
       "<thead><tr><th scope=col>tailnum</th><th scope=col>year</th><th scope=col>type</th><th scope=col>manufacturer</th><th scope=col>model</th><th scope=col>engines</th><th scope=col>seats</th><th scope=col>speed</th><th scope=col>engine</th></tr></thead>\n",
       "<tbody>\n",
       "\t<tr><td>N711MQ                 </td><td>1976                   </td><td>Fixed wing multi engine</td><td>GULFSTREAM AEROSPACE   </td><td>G1159B                 </td><td>2                      </td><td>22                     </td><td>NA                     </td><td>Turbo-jet              </td></tr>\n",
       "</tbody>\n",
       "</table>\n"
      ],
      "text/latex": [
       "\\begin{tabular}{r|lllllllll}\n",
       " tailnum & year & type & manufacturer & model & engines & seats & speed & engine\\\\\n",
       "\\hline\n",
       "\t N711MQ                  & 1976                    & Fixed wing multi engine & GULFSTREAM AEROSPACE    & G1159B                  & 2                       & 22                      & NA                      & Turbo-jet              \\\\\n",
       "\\end{tabular}\n"
      ],
      "text/markdown": [
       "\n",
       "| tailnum | year | type | manufacturer | model | engines | seats | speed | engine |\n",
       "|---|---|---|---|---|---|---|---|---|\n",
       "| N711MQ                  | 1976                    | Fixed wing multi engine | GULFSTREAM AEROSPACE    | G1159B                  | 2                       | 22                      | NA                      | Turbo-jet               |\n",
       "\n"
      ],
      "text/plain": [
       "  tailnum year type                    manufacturer         model  engines\n",
       "1 N711MQ  1976 Fixed wing multi engine GULFSTREAM AEROSPACE G1159B 2      \n",
       "  seats speed engine   \n",
       "1 22    NA    Turbo-jet"
      ]
     },
     "metadata": {},
     "output_type": "display_data"
    }
   ],
   "source": [
    "planes %>% filter(tailnum == \"N711MQ\")"
   ]
  },
  {
   "cell_type": "markdown",
   "metadata": {},
   "source": [
    "The one plane that is represented is N711M. You can [look it up](https://flightaware.com/resources/registration/N711MQ) in an online database and find out it's a private jet. My guess is the others are private jets too."
   ]
  }
 ],
 "metadata": {
  "kernelspec": {
   "display_name": "R",
   "language": "R",
   "name": "ir"
  },
  "language_info": {
   "codemirror_mode": "r",
   "file_extension": ".r",
   "mimetype": "text/x-r-source",
   "name": "R",
   "pygments_lexer": "r",
   "version": "4.0.2"
  }
 },
 "nbformat": 4,
 "nbformat_minor": 1
}
