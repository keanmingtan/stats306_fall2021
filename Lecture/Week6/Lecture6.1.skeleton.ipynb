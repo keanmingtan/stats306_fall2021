{
 "cells": [
  {
   "cell_type": "markdown",
   "metadata": {},
   "source": [
    "# Lecture 6.1: Relational Data\n",
    "<div style=\"border: 1px double black; padding: 10px; margin: 10px\">\n",
    "\n",
    "**After today's lecture you will understand:**\n",
    "* [Keys](#Keys)\n",
    "* Different types of [relations](#Relations) between tables\n",
    "* [Commands for joining related tables together](#Outer-joins)\n",
    "</div>\n",
    "\n",
    "\n",
    "\n",
    "    \n",
    "\n",
    "\n"
   ]
  },
  {
   "cell_type": "code",
   "execution_count": 1,
   "metadata": {},
   "outputs": [
    {
     "name": "stderr",
     "output_type": "stream",
     "text": [
      "── \u001b[1mAttaching packages\u001b[22m ─────────────────────────────────────── tidyverse 1.3.0 ──\n",
      "\n",
      "\u001b[32m✔\u001b[39m \u001b[34mggplot2\u001b[39m 3.3.2     \u001b[32m✔\u001b[39m \u001b[34mpurrr  \u001b[39m 0.3.4\n",
      "\u001b[32m✔\u001b[39m \u001b[34mtibble \u001b[39m 3.0.3     \u001b[32m✔\u001b[39m \u001b[34mdplyr  \u001b[39m 1.0.2\n",
      "\u001b[32m✔\u001b[39m \u001b[34mtidyr  \u001b[39m 1.1.1     \u001b[32m✔\u001b[39m \u001b[34mstringr\u001b[39m 1.4.0\n",
      "\u001b[32m✔\u001b[39m \u001b[34mreadr  \u001b[39m 1.3.1     \u001b[32m✔\u001b[39m \u001b[34mforcats\u001b[39m 0.5.0\n",
      "\n",
      "── \u001b[1mConflicts\u001b[22m ────────────────────────────────────────── tidyverse_conflicts() ──\n",
      "\u001b[31m✖\u001b[39m \u001b[34mdplyr\u001b[39m::\u001b[32mfilter()\u001b[39m masks \u001b[34mstats\u001b[39m::filter()\n",
      "\u001b[31m✖\u001b[39m \u001b[34mdplyr\u001b[39m::\u001b[32mlag()\u001b[39m    masks \u001b[34mstats\u001b[39m::lag()\n",
      "\n"
     ]
    }
   ],
   "source": [
    "library(tidyverse)\n",
    "library(nycflights13)"
   ]
  },
  {
   "cell_type": "markdown",
   "metadata": {},
   "source": [
    "We have already spent a lot of time analyzing the `flights` table. In fact, there are four other tables in `nycflights13` that contain related information about these flights:\n",
    "\n",
    "* `airlines`\n",
    "* `airports1`\n",
    "* `planes`\n",
    "* `weather`"
   ]
  },
  {
   "cell_type": "code",
   "execution_count": 6,
   "metadata": {},
   "outputs": [
    {
     "name": "stdout",
     "output_type": "stream",
     "text": [
      "# A tibble: 336,776 x 19\n",
      "    year month   day dep_time sched_dep_time dep_delay arr_time sched_arr_time\n",
      "   <int> <int> <int>    <int>          <int>     <dbl>    <int>          <int>\n",
      " 1  2013     1     1      517            515         2      830            819\n",
      " 2  2013     1     1      533            529         4      850            830\n",
      " 3  2013     1     1      542            540         2      923            850\n",
      " 4  2013     1     1      544            545        -1     1004           1022\n",
      " 5  2013     1     1      554            600        -6      812            837\n",
      " 6  2013     1     1      554            558        -4      740            728\n",
      " 7  2013     1     1      555            600        -5      913            854\n",
      " 8  2013     1     1      557            600        -3      709            723\n",
      " 9  2013     1     1      557            600        -3      838            846\n",
      "10  2013     1     1      558            600        -2      753            745\n",
      "# … with 336,766 more rows, and 11 more variables: arr_delay <dbl>,\n",
      "#   carrier <chr>, flight <int>, tailnum <chr>, origin <chr>, dest <chr>,\n",
      "#   air_time <dbl>, distance <dbl>, hour <dbl>, minute <dbl>, time_hour <dttm>\n"
     ]
    }
   ],
   "source": [
    "print(flights)"
   ]
  },
  {
   "cell_type": "code",
   "execution_count": 4,
   "metadata": {},
   "outputs": [
    {
     "name": "stdout",
     "output_type": "stream",
     "text": [
      "\u001b[38;5;246m# A tibble: 16 x 2\u001b[39m\n",
      "   carrier name                       \n",
      "   \u001b[3m\u001b[38;5;246m<chr>\u001b[39m\u001b[23m   \u001b[3m\u001b[38;5;246m<chr>\u001b[39m\u001b[23m                      \n",
      "\u001b[38;5;250m 1\u001b[39m 9E      Endeavor Air Inc.          \n",
      "\u001b[38;5;250m 2\u001b[39m AA      American Airlines Inc.     \n",
      "\u001b[38;5;250m 3\u001b[39m AS      Alaska Airlines Inc.       \n",
      "\u001b[38;5;250m 4\u001b[39m B6      JetBlue Airways            \n",
      "\u001b[38;5;250m 5\u001b[39m DL      Delta Air Lines Inc.       \n",
      "\u001b[38;5;250m 6\u001b[39m EV      ExpressJet Airlines Inc.   \n",
      "\u001b[38;5;250m 7\u001b[39m F9      Frontier Airlines Inc.     \n",
      "\u001b[38;5;250m 8\u001b[39m FL      AirTran Airways Corporation\n",
      "\u001b[38;5;250m 9\u001b[39m HA      Hawaiian Airlines Inc.     \n",
      "\u001b[38;5;250m10\u001b[39m MQ      Envoy Air                  \n",
      "\u001b[38;5;250m11\u001b[39m OO      SkyWest Airlines Inc.      \n",
      "\u001b[38;5;250m12\u001b[39m UA      United Air Lines Inc.      \n",
      "\u001b[38;5;250m13\u001b[39m US      US Airways Inc.            \n",
      "\u001b[38;5;250m14\u001b[39m VX      Virgin America             \n",
      "\u001b[38;5;250m15\u001b[39m WN      Southwest Airlines Co.     \n",
      "\u001b[38;5;250m16\u001b[39m YV      Mesa Airlines Inc.         \n"
     ]
    }
   ],
   "source": [
    "print(airlines)"
   ]
  },
  {
   "cell_type": "code",
   "execution_count": 5,
   "metadata": {},
   "outputs": [
    {
     "name": "stdout",
     "output_type": "stream",
     "text": [
      "\u001b[38;5;246m# A tibble: 1,458 x 8\u001b[39m\n",
      "   faa   name                       lat    lon   alt    tz dst   tzone          \n",
      "   \u001b[3m\u001b[38;5;246m<chr>\u001b[39m\u001b[23m \u001b[3m\u001b[38;5;246m<chr>\u001b[39m\u001b[23m                    \u001b[3m\u001b[38;5;246m<dbl>\u001b[39m\u001b[23m  \u001b[3m\u001b[38;5;246m<dbl>\u001b[39m\u001b[23m \u001b[3m\u001b[38;5;246m<dbl>\u001b[39m\u001b[23m \u001b[3m\u001b[38;5;246m<dbl>\u001b[39m\u001b[23m \u001b[3m\u001b[38;5;246m<chr>\u001b[39m\u001b[23m \u001b[3m\u001b[38;5;246m<chr>\u001b[39m\u001b[23m          \n",
      "\u001b[38;5;250m 1\u001b[39m 04G   Lansdowne Airport         41.1  -\u001b[31m80\u001b[39m\u001b[31m.\u001b[39m\u001b[31m6\u001b[39m  \u001b[4m1\u001b[24m044    -\u001b[31m5\u001b[39m A     America/New_Yo…\n",
      "\u001b[38;5;250m 2\u001b[39m 06A   Moton Field Municipal A…  32.5  -\u001b[31m85\u001b[39m\u001b[31m.\u001b[39m\u001b[31m7\u001b[39m   264    -\u001b[31m6\u001b[39m A     America/Chicago\n",
      "\u001b[38;5;250m 3\u001b[39m 06C   Schaumburg Regional       42.0  -\u001b[31m88\u001b[39m\u001b[31m.\u001b[39m\u001b[31m1\u001b[39m   801    -\u001b[31m6\u001b[39m A     America/Chicago\n",
      "\u001b[38;5;250m 4\u001b[39m 06N   Randall Airport           41.4  -\u001b[31m74\u001b[39m\u001b[31m.\u001b[39m\u001b[31m4\u001b[39m   523    -\u001b[31m5\u001b[39m A     America/New_Yo…\n",
      "\u001b[38;5;250m 5\u001b[39m 09J   Jekyll Island Airport     31.1  -\u001b[31m81\u001b[39m\u001b[31m.\u001b[39m\u001b[31m4\u001b[39m    11    -\u001b[31m5\u001b[39m A     America/New_Yo…\n",
      "\u001b[38;5;250m 6\u001b[39m 0A9   Elizabethton Municipal …  36.4  -\u001b[31m82\u001b[39m\u001b[31m.\u001b[39m\u001b[31m2\u001b[39m  \u001b[4m1\u001b[24m593    -\u001b[31m5\u001b[39m A     America/New_Yo…\n",
      "\u001b[38;5;250m 7\u001b[39m 0G6   Williams County Airport   41.5  -\u001b[31m84\u001b[39m\u001b[31m.\u001b[39m\u001b[31m5\u001b[39m   730    -\u001b[31m5\u001b[39m A     America/New_Yo…\n",
      "\u001b[38;5;250m 8\u001b[39m 0G7   Finger Lakes Regional A…  42.9  -\u001b[31m76\u001b[39m\u001b[31m.\u001b[39m\u001b[31m8\u001b[39m   492    -\u001b[31m5\u001b[39m A     America/New_Yo…\n",
      "\u001b[38;5;250m 9\u001b[39m 0P2   Shoestring Aviation Air…  39.8  -\u001b[31m76\u001b[39m\u001b[31m.\u001b[39m\u001b[31m6\u001b[39m  \u001b[4m1\u001b[24m000    -\u001b[31m5\u001b[39m U     America/New_Yo…\n",
      "\u001b[38;5;250m10\u001b[39m 0S9   Jefferson County Intl     48.1 -\u001b[31m123\u001b[39m\u001b[31m.\u001b[39m    108    -\u001b[31m8\u001b[39m A     America/Los_An…\n",
      "\u001b[38;5;246m# … with 1,448 more rows\u001b[39m\n"
     ]
    }
   ],
   "source": [
    "print(airports)"
   ]
  },
  {
   "cell_type": "code",
   "execution_count": 6,
   "metadata": {},
   "outputs": [
    {
     "name": "stdout",
     "output_type": "stream",
     "text": [
      "\u001b[38;5;246m# A tibble: 3,322 x 9\u001b[39m\n",
      "   tailnum  year type          manufacturer   model  engines seats speed engine \n",
      "   \u001b[3m\u001b[38;5;246m<chr>\u001b[39m\u001b[23m   \u001b[3m\u001b[38;5;246m<int>\u001b[39m\u001b[23m \u001b[3m\u001b[38;5;246m<chr>\u001b[39m\u001b[23m         \u001b[3m\u001b[38;5;246m<chr>\u001b[39m\u001b[23m          \u001b[3m\u001b[38;5;246m<chr>\u001b[39m\u001b[23m    \u001b[3m\u001b[38;5;246m<int>\u001b[39m\u001b[23m \u001b[3m\u001b[38;5;246m<int>\u001b[39m\u001b[23m \u001b[3m\u001b[38;5;246m<int>\u001b[39m\u001b[23m \u001b[3m\u001b[38;5;246m<chr>\u001b[39m\u001b[23m  \n",
      "\u001b[38;5;250m 1\u001b[39m N10156   \u001b[4m2\u001b[24m004 Fixed wing m… EMBRAER        EMB-1…       2    55    \u001b[31mNA\u001b[39m Turbo-…\n",
      "\u001b[38;5;250m 2\u001b[39m N102UW   \u001b[4m1\u001b[24m998 Fixed wing m… AIRBUS INDUST… A320-…       2   182    \u001b[31mNA\u001b[39m Turbo-…\n",
      "\u001b[38;5;250m 3\u001b[39m N103US   \u001b[4m1\u001b[24m999 Fixed wing m… AIRBUS INDUST… A320-…       2   182    \u001b[31mNA\u001b[39m Turbo-…\n",
      "\u001b[38;5;250m 4\u001b[39m N104UW   \u001b[4m1\u001b[24m999 Fixed wing m… AIRBUS INDUST… A320-…       2   182    \u001b[31mNA\u001b[39m Turbo-…\n",
      "\u001b[38;5;250m 5\u001b[39m N10575   \u001b[4m2\u001b[24m002 Fixed wing m… EMBRAER        EMB-1…       2    55    \u001b[31mNA\u001b[39m Turbo-…\n",
      "\u001b[38;5;250m 6\u001b[39m N105UW   \u001b[4m1\u001b[24m999 Fixed wing m… AIRBUS INDUST… A320-…       2   182    \u001b[31mNA\u001b[39m Turbo-…\n",
      "\u001b[38;5;250m 7\u001b[39m N107US   \u001b[4m1\u001b[24m999 Fixed wing m… AIRBUS INDUST… A320-…       2   182    \u001b[31mNA\u001b[39m Turbo-…\n",
      "\u001b[38;5;250m 8\u001b[39m N108UW   \u001b[4m1\u001b[24m999 Fixed wing m… AIRBUS INDUST… A320-…       2   182    \u001b[31mNA\u001b[39m Turbo-…\n",
      "\u001b[38;5;250m 9\u001b[39m N109UW   \u001b[4m1\u001b[24m999 Fixed wing m… AIRBUS INDUST… A320-…       2   182    \u001b[31mNA\u001b[39m Turbo-…\n",
      "\u001b[38;5;250m10\u001b[39m N110UW   \u001b[4m1\u001b[24m999 Fixed wing m… AIRBUS INDUST… A320-…       2   182    \u001b[31mNA\u001b[39m Turbo-…\n",
      "\u001b[38;5;246m# … with 3,312 more rows\u001b[39m\n"
     ]
    }
   ],
   "source": [
    "print(planes)"
   ]
  },
  {
   "cell_type": "code",
   "execution_count": 7,
   "metadata": {},
   "outputs": [
    {
     "name": "stdout",
     "output_type": "stream",
     "text": [
      "\u001b[38;5;246m# A tibble: 26,115 x 15\u001b[39m\n",
      "   origin  year month   day  hour  temp  dewp humid wind_dir wind_speed\n",
      "   \u001b[3m\u001b[38;5;246m<chr>\u001b[39m\u001b[23m  \u001b[3m\u001b[38;5;246m<int>\u001b[39m\u001b[23m \u001b[3m\u001b[38;5;246m<int>\u001b[39m\u001b[23m \u001b[3m\u001b[38;5;246m<int>\u001b[39m\u001b[23m \u001b[3m\u001b[38;5;246m<int>\u001b[39m\u001b[23m \u001b[3m\u001b[38;5;246m<dbl>\u001b[39m\u001b[23m \u001b[3m\u001b[38;5;246m<dbl>\u001b[39m\u001b[23m \u001b[3m\u001b[38;5;246m<dbl>\u001b[39m\u001b[23m    \u001b[3m\u001b[38;5;246m<dbl>\u001b[39m\u001b[23m      \u001b[3m\u001b[38;5;246m<dbl>\u001b[39m\u001b[23m\n",
      "\u001b[38;5;250m 1\u001b[39m EWR     \u001b[4m2\u001b[24m013     1     1     1  39.0  26.1  59.4      270      10.4 \n",
      "\u001b[38;5;250m 2\u001b[39m EWR     \u001b[4m2\u001b[24m013     1     1     2  39.0  27.0  61.6      250       8.06\n",
      "\u001b[38;5;250m 3\u001b[39m EWR     \u001b[4m2\u001b[24m013     1     1     3  39.0  28.0  64.4      240      11.5 \n",
      "\u001b[38;5;250m 4\u001b[39m EWR     \u001b[4m2\u001b[24m013     1     1     4  39.9  28.0  62.2      250      12.7 \n",
      "\u001b[38;5;250m 5\u001b[39m EWR     \u001b[4m2\u001b[24m013     1     1     5  39.0  28.0  64.4      260      12.7 \n",
      "\u001b[38;5;250m 6\u001b[39m EWR     \u001b[4m2\u001b[24m013     1     1     6  37.9  28.0  67.2      240      11.5 \n",
      "\u001b[38;5;250m 7\u001b[39m EWR     \u001b[4m2\u001b[24m013     1     1     7  39.0  28.0  64.4      240      15.0 \n",
      "\u001b[38;5;250m 8\u001b[39m EWR     \u001b[4m2\u001b[24m013     1     1     8  39.9  28.0  62.2      250      10.4 \n",
      "\u001b[38;5;250m 9\u001b[39m EWR     \u001b[4m2\u001b[24m013     1     1     9  39.9  28.0  62.2      260      15.0 \n",
      "\u001b[38;5;250m10\u001b[39m EWR     \u001b[4m2\u001b[24m013     1     1    10  41    28.0  59.6      260      13.8 \n",
      "\u001b[38;5;246m# … with 26,105 more rows, and 5 more variables: wind_gust \u001b[3m\u001b[38;5;246m<dbl>\u001b[38;5;246m\u001b[23m, precip \u001b[3m\u001b[38;5;246m<dbl>\u001b[38;5;246m\u001b[23m,\u001b[39m\n",
      "\u001b[38;5;246m#   pressure \u001b[3m\u001b[38;5;246m<dbl>\u001b[38;5;246m\u001b[23m, visib \u001b[3m\u001b[38;5;246m<dbl>\u001b[38;5;246m\u001b[23m, time_hour \u001b[3m\u001b[38;5;246m<dttm>\u001b[38;5;246m\u001b[23m\u001b[39m\n"
     ]
    }
   ],
   "source": [
    "print(weather)"
   ]
  },
  {
   "cell_type": "markdown",
   "metadata": {},
   "source": [
    "Together these four tables form a *relational database*. The relationships can be graphed like so:\n",
    "![table relationships](http://r4ds.had.co.nz/diagrams/relational-nycflights.png)"
   ]
  },
  {
   "cell_type": "markdown",
   "metadata": {},
   "source": [
    "The particular relationships in this database are:\n",
    "- `flights` connects to `planes` via `tailnum`.\n",
    "- `flights` connects to `airlines` via `carrier`.\n",
    "- `flights` connects to `airports` twice: via `origin` and `dest`.\n",
    "- `flights` connects to `weather` via `origin` (the location), and `year`, `month`, `day` and `hour`."
   ]
  },
  {
   "cell_type": "markdown",
   "metadata": {},
   "source": [
    "## Keys\n",
    "The *key* to understanding relational databases is... *keys*. \n",
    "\n"
   ]
  },
  {
   "cell_type": "markdown",
   "metadata": {},
   "source": [
    "### Primary Key\n",
    "A *primary key* is a variable (or set of variables) that uniquely identifies an observation in its own table: there is **at most** one row in the table that corresponds to any setting of the columns which comprise the key."
   ]
  },
  {
   "cell_type": "markdown",
   "metadata": {},
   "source": [
    "In the `planes` table, each airplane is identified by its `tailnum`:"
   ]
  },
  {
   "cell_type": "code",
   "execution_count": 8,
   "metadata": {},
   "outputs": [
    {
     "name": "stdout",
     "output_type": "stream",
     "text": [
      "\u001b[38;5;246m# A tibble: 3,322 x 9\u001b[39m\n",
      "   tailnum  year type          manufacturer   model  engines seats speed engine \n",
      "   \u001b[3m\u001b[38;5;246m<chr>\u001b[39m\u001b[23m   \u001b[3m\u001b[38;5;246m<int>\u001b[39m\u001b[23m \u001b[3m\u001b[38;5;246m<chr>\u001b[39m\u001b[23m         \u001b[3m\u001b[38;5;246m<chr>\u001b[39m\u001b[23m          \u001b[3m\u001b[38;5;246m<chr>\u001b[39m\u001b[23m    \u001b[3m\u001b[38;5;246m<int>\u001b[39m\u001b[23m \u001b[3m\u001b[38;5;246m<int>\u001b[39m\u001b[23m \u001b[3m\u001b[38;5;246m<int>\u001b[39m\u001b[23m \u001b[3m\u001b[38;5;246m<chr>\u001b[39m\u001b[23m  \n",
      "\u001b[38;5;250m 1\u001b[39m N10156   \u001b[4m2\u001b[24m004 Fixed wing m… EMBRAER        EMB-1…       2    55    \u001b[31mNA\u001b[39m Turbo-…\n",
      "\u001b[38;5;250m 2\u001b[39m N102UW   \u001b[4m1\u001b[24m998 Fixed wing m… AIRBUS INDUST… A320-…       2   182    \u001b[31mNA\u001b[39m Turbo-…\n",
      "\u001b[38;5;250m 3\u001b[39m N103US   \u001b[4m1\u001b[24m999 Fixed wing m… AIRBUS INDUST… A320-…       2   182    \u001b[31mNA\u001b[39m Turbo-…\n",
      "\u001b[38;5;250m 4\u001b[39m N104UW   \u001b[4m1\u001b[24m999 Fixed wing m… AIRBUS INDUST… A320-…       2   182    \u001b[31mNA\u001b[39m Turbo-…\n",
      "\u001b[38;5;250m 5\u001b[39m N10575   \u001b[4m2\u001b[24m002 Fixed wing m… EMBRAER        EMB-1…       2    55    \u001b[31mNA\u001b[39m Turbo-…\n",
      "\u001b[38;5;250m 6\u001b[39m N105UW   \u001b[4m1\u001b[24m999 Fixed wing m… AIRBUS INDUST… A320-…       2   182    \u001b[31mNA\u001b[39m Turbo-…\n",
      "\u001b[38;5;250m 7\u001b[39m N107US   \u001b[4m1\u001b[24m999 Fixed wing m… AIRBUS INDUST… A320-…       2   182    \u001b[31mNA\u001b[39m Turbo-…\n",
      "\u001b[38;5;250m 8\u001b[39m N108UW   \u001b[4m1\u001b[24m999 Fixed wing m… AIRBUS INDUST… A320-…       2   182    \u001b[31mNA\u001b[39m Turbo-…\n",
      "\u001b[38;5;250m 9\u001b[39m N109UW   \u001b[4m1\u001b[24m999 Fixed wing m… AIRBUS INDUST… A320-…       2   182    \u001b[31mNA\u001b[39m Turbo-…\n",
      "\u001b[38;5;250m10\u001b[39m N110UW   \u001b[4m1\u001b[24m999 Fixed wing m… AIRBUS INDUST… A320-…       2   182    \u001b[31mNA\u001b[39m Turbo-…\n",
      "\u001b[38;5;246m# … with 3,312 more rows\u001b[39m\n"
     ]
    }
   ],
   "source": [
    "print(planes)"
   ]
  },
  {
   "cell_type": "markdown",
   "metadata": {},
   "source": [
    "The tail number of an airplane is assigned by a government agency and is unique: no two planes can have the same tail number. Thus, `tailnum` should be a primary key in this table. \n",
    "\n",
    "To check that one or more variables constitutes a primary key, we can group by those variables and then check that the number of distinct values equals the number of rows in the data set:"
   ]
  },
  {
   "cell_type": "code",
   "execution_count": null,
   "metadata": {},
   "outputs": [],
   "source": []
  },
  {
   "cell_type": "markdown",
   "metadata": {},
   "source": [
    "Compare with `flights`, where tailnum does *not* uniquely identify each row. (There are many flights present for the same airplane.)"
   ]
  },
  {
   "cell_type": "code",
   "execution_count": null,
   "metadata": {},
   "outputs": [],
   "source": []
  },
  {
   "cell_type": "markdown",
   "metadata": {},
   "source": [
    "What is the primary key for the `flights` table?"
   ]
  },
  {
   "cell_type": "code",
   "execution_count": null,
   "metadata": {},
   "outputs": [],
   "source": []
  },
  {
   "cell_type": "markdown",
   "metadata": {},
   "source": [
    "We might guess that `year`, `month`, `day`, and `tailnum` are sufficient to identify each row in `flights`, but this is not true:"
   ]
  },
  {
   "cell_type": "code",
   "execution_count": null,
   "metadata": {},
   "outputs": [],
   "source": []
  },
  {
   "cell_type": "markdown",
   "metadata": {},
   "source": [
    "In fact, even restricting to the exact *minute* that an airplane departed is not sufficient:"
   ]
  },
  {
   "cell_type": "code",
   "execution_count": null,
   "metadata": {},
   "outputs": [],
   "source": []
  },
  {
   "cell_type": "markdown",
   "metadata": {},
   "source": [
    "This says that there are certain airplanes that are marked as having departed more than once in the same year, month, day, hour and minute. We can inspect these rows as follows:"
   ]
  },
  {
   "cell_type": "code",
   "execution_count": null,
   "metadata": {},
   "outputs": [],
   "source": []
  },
  {
   "cell_type": "markdown",
   "metadata": {},
   "source": [
    "These likely indicate rounding or data entry errors."
   ]
  },
  {
   "cell_type": "markdown",
   "metadata": {},
   "source": [
    "## Relations\n",
    "A primary key and the corresponding foreign key in another table form a *relation*. Relations come in several forms:\n",
    "- *One-to-many*. (Most common). For example, each flight has one plane, but each plane has many flights. \n",
    "- *Many-to-many*: For example, each airline flies to many airports; each airport hosts many airlines.\n",
    "- *One-to-one*. Each row in one table corresponds uniquely to a row in a second table. This is relatively uncommon because you could just as easily combine the two tables into one."
   ]
  },
  {
   "cell_type": "markdown",
   "metadata": {},
   "source": [
    "## Joins\n",
    "Joins are the way the we combine or \"merge\" two data tables based on keys.\n",
    "To understand how joins work we'll study these two simple tables:\n",
    "![simple tables](http://r4ds.had.co.nz/diagrams/join-setup.png)"
   ]
  },
  {
   "cell_type": "code",
   "execution_count": 14,
   "metadata": {},
   "outputs": [],
   "source": [
    "x <- tribble(\n",
    "  ~key, ~val_x,\n",
    "     1, \"x1\",\n",
    "     2, \"x2\",\n",
    "     3, \"x3\"\n",
    ")\n",
    "y <- tribble(\n",
    "  ~key, ~val_y,\n",
    "     1, \"y1\",\n",
    "     2, \"y2\",\n",
    "     4, \"y3\"\n",
    ")"
   ]
  },
  {
   "cell_type": "code",
   "execution_count": 17,
   "metadata": {},
   "outputs": [
    {
     "name": "stdout",
     "output_type": "stream",
     "text": [
      "\u001b[38;5;246m# A tibble: 3 x 2\u001b[39m\n",
      "    key val_x\n",
      "  \u001b[3m\u001b[38;5;246m<dbl>\u001b[39m\u001b[23m \u001b[3m\u001b[38;5;246m<chr>\u001b[39m\u001b[23m\n",
      "\u001b[38;5;250m1\u001b[39m     1 x1   \n",
      "\u001b[38;5;250m2\u001b[39m     2 x2   \n",
      "\u001b[38;5;250m3\u001b[39m     3 x3   \n",
      "\u001b[38;5;246m# A tibble: 3 x 2\u001b[39m\n",
      "    key val_y\n",
      "  \u001b[3m\u001b[38;5;246m<dbl>\u001b[39m\u001b[23m \u001b[3m\u001b[38;5;246m<chr>\u001b[39m\u001b[23m\n",
      "\u001b[38;5;250m1\u001b[39m     1 y1   \n",
      "\u001b[38;5;250m2\u001b[39m     2 y2   \n",
      "\u001b[38;5;250m3\u001b[39m     4 y3   \n"
     ]
    }
   ],
   "source": [
    "print(x)\n",
    "print(y)"
   ]
  },
  {
   "cell_type": "markdown",
   "metadata": {},
   "source": [
    "The first column of each table is called `key` and serves as the primary key: each row has a different value of `key`. \n",
    "\n",
    "Let's image all the possible ways we could join together these two tables. Each intersecting line represents a potential match; there are 3 observations in each table for a total of $3^2=9$ intersections.\n",
    "![possible joins](http://r4ds.had.co.nz/diagrams/join-setup2.png)"
   ]
  },
  {
   "cell_type": "markdown",
   "metadata": {},
   "source": [
    "Matches will be indicated with dots:\n",
    "![match example](http://r4ds.had.co.nz/diagrams/join-inner.png)"
   ]
  },
  {
   "cell_type": "markdown",
   "metadata": {},
   "source": [
    "### Inner joins\n",
    "Inner joins match a pair of observations whenever their keys are equal:\n",
    "![match example](http://r4ds.had.co.nz/diagrams/join-inner.png)"
   ]
  },
  {
   "cell_type": "code",
   "execution_count": null,
   "metadata": {},
   "outputs": [],
   "source": []
  },
  {
   "cell_type": "markdown",
   "metadata": {},
   "source": [
    "Note that there is no row for `key=3` or `key=4`: with an inner join, unmatched rows are not included in the result. For this reason, we do not as often use inner joins for data analysis since you can easily lose observations."
   ]
  },
  {
   "cell_type": "markdown",
   "metadata": {},
   "source": [
    "### Outer joins\n",
    "An outer join keeps observations that appear in at least one of the tables. There are three types of outer joins:\n",
    "- A left join keeps all observations in x.\n",
    "- A right join keeps all observations in y.\n",
    "- A full join keeps all observations in x and y."
   ]
  },
  {
   "cell_type": "markdown",
   "metadata": {},
   "source": [
    "![outer join](http://r4ds.had.co.nz/diagrams/join-outer.png)"
   ]
  },
  {
   "cell_type": "markdown",
   "metadata": {},
   "source": [
    "Left joins are the most common. Use them to look up data in another table, but preserve your original observations when there in cases where the other table does not have a match."
   ]
  },
  {
   "cell_type": "markdown",
   "metadata": {},
   "source": [
    "### Example\n",
    "The `flights` table has a `carrier` column which is a two-letter code for the airline. The `airlines` table maps these code to recognizable airline names. You can combine the `airlines` and `flights` data frames with `left_join()`:"
   ]
  },
  {
   "cell_type": "code",
   "execution_count": null,
   "metadata": {},
   "outputs": [],
   "source": []
  },
  {
   "cell_type": "markdown",
   "metadata": {},
   "source": [
    "### Exercise\n",
    "Use `left_join()` to determine:\n",
    "<table>\n",
    "    <tr><th>Beginner</th><th>Advanced</th></tr>\n",
    "    <tr>\n",
    "        <td>The number of flights operated by Envoy Air.</td>\n",
    "        <td>The number of flights that departed in sub-zero conditions (<code>temp < 32</code>) in 2013.</td>\n",
    "    </tr>\n",
    "    </table>"
   ]
  },
  {
   "cell_type": "code",
   "execution_count": null,
   "metadata": {},
   "outputs": [],
   "source": []
  },
  {
   "cell_type": "markdown",
   "metadata": {},
   "source": [
    "### Duplicate keys\n",
    "Although we have defined keys in terms of uniqueness, it's not required that a key be unique. There are several possibilities:"
   ]
  },
  {
   "cell_type": "markdown",
   "metadata": {},
   "source": [
    "##### One table has duplicate keys\n",
    "This is useful when you want to add in additional information as there is typically a one-to-many relationship.\n",
    "![duplicate keys](http://r4ds.had.co.nz/diagrams/join-one-to-many.png)"
   ]
  },
  {
   "cell_type": "markdown",
   "metadata": {},
   "source": [
    "In fact, we already saw an example of this above when we joined `planes` to `flights`: each plane belongs to potentially many flights."
   ]
  },
  {
   "cell_type": "markdown",
   "metadata": {},
   "source": [
    "### Exercise\n",
    "Reproduce the table:\n",
    "<table>\n",
    "    <tr>\n",
    "        <td>The number of flights flown by each carrier:\n",
    "        <table>\n",
    "<thead><tr><th scope=\"col\">name</th><th scope=\"col\">n</th></tr></thead>\n",
    "<tbody>\n",
    "\t<tr><td>United Air Lines Inc.      </td><td>58665                      </td></tr>\n",
    "\t<tr><td>JetBlue Airways            </td><td>54635                      </td></tr>\n",
    "\t<tr><td>ExpressJet Airlines Inc.   </td><td>54173                      </td></tr>\n",
    "\t<tr><td>&#8942;  </td><td>&#8942;</td></tr>\n",
    "</tbody>\n",
    "</table>\n",
    "        </td>\n",
    "     "
   ]
  },
  {
   "cell_type": "code",
   "execution_count": null,
   "metadata": {},
   "outputs": [],
   "source": []
  },
  {
   "cell_type": "markdown",
   "metadata": {},
   "source": [
    "##### Both tables have duplicate keys\n",
    "This represents a many-to-many join and is usually an error since they key does not uniquely identify observations in either table. Joining duplicated keys results in the Cartesian product of all the possible matches:\n",
    "![cartesian](http://r4ds.had.co.nz/diagrams/join-many-to-many.png)"
   ]
  },
  {
   "cell_type": "markdown",
   "metadata": {},
   "source": [
    "Be careful when doing many-to-many merges. It's very easy to generate huge tables by accident and crash R.\n",
    "### Exercise\n",
    "To understand what the weather conditions were when each flight departed, I will join the weather table to the first 100 rows of the flights table using the command\n",
    "\n",
    "```\n",
    "flights %>% slice(1:100) %>% left_join(weather, by=c(\"origin\", \"hour\"))\n",
    "```\n",
    "\n",
    "1.  How many rows *should* the resulting table have?\n",
    "2.  How many rows *does* the resulting table have?"
   ]
  },
  {
   "cell_type": "code",
   "execution_count": null,
   "metadata": {},
   "outputs": [],
   "source": []
  },
  {
   "cell_type": "markdown",
   "metadata": {},
   "source": [
    "### Defining the key columns\n",
    "When we do a join using `left_join()`, R take as the key whatever column names the two tables have in common:"
   ]
  },
  {
   "cell_type": "code",
   "execution_count": null,
   "metadata": {},
   "outputs": [],
   "source": []
  },
  {
   "cell_type": "markdown",
   "metadata": {},
   "source": [
    "This is called a *natural join*. If the key column(s) are named differently in the two tables, we must specify the mapping between the two using the `key=` parameter."
   ]
  },
  {
   "cell_type": "markdown",
   "metadata": {},
   "source": [
    "Consider joining `airports` to `flights`:\n",
    "```\n",
    "> left_join(flights, airports)\n",
    "Error: `by` required, because the data sources have no common variables\n",
    "Traceback:\n",
    "\n",
    "1. left_join(flights, airports)\n",
    "2. left_join.tbl_df(flights, airports)\n",
    "3. common_by(by, x, y)\n",
    "4. common_by.NULL(by, x, y)\n",
    "5. bad_args(\"by\", \"required, because the data sources have no common variables\")\n",
    "6. glubort(fmt_args(args), ..., .envir = .envir)\n",
    "7. .abort(text)\n",
    "```"
   ]
  },
  {
   "cell_type": "markdown",
   "metadata": {},
   "source": [
    "This has produced an error, because airports and flights do not have any columns in common. Indeed, the three digit FAA code is called `faa` in `airports`, but appears as either `origin` or `dest` in `flights`. To fix the error, we must specify which of `origin` or `dest` should be matched:"
   ]
  },
  {
   "cell_type": "code",
   "execution_count": null,
   "metadata": {},
   "outputs": [],
   "source": []
  }
 ],
 "metadata": {
  "kernelspec": {
   "display_name": "R",
   "language": "R",
   "name": "ir"
  },
  "language_info": {
   "codemirror_mode": "r",
   "file_extension": ".r",
   "mimetype": "text/x-r-source",
   "name": "R",
   "pygments_lexer": "r",
   "version": "4.0.2"
  }
 },
 "nbformat": 4,
 "nbformat_minor": 1
}
