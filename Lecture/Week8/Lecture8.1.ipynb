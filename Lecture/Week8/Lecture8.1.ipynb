{
 "cells": [
  {
   "cell_type": "markdown",
   "metadata": {},
   "source": [
    "# Lecture 8.1: String\n",
    "<div style=\"border: 1px double black; padding: 10px; margin: 10px\">\n",
    "\n",
    "**After today's lecture you will:**\n",
    "* Have a deep understanding of Harry Potter\n",
    "</div>\n",
    "\n",
    "This lecture corresponds to Chapter 14 of your textbook"
   ]
  },
  {
   "cell_type": "code",
   "execution_count": 1,
   "metadata": {},
   "outputs": [
    {
     "name": "stderr",
     "output_type": "stream",
     "text": [
      "── \u001b[1mAttaching packages\u001b[22m ─────────────────────────────────────── tidyverse 1.3.1 ──\n",
      "\n",
      "\u001b[32m✔\u001b[39m \u001b[34mggplot2\u001b[39m 3.3.5     \u001b[32m✔\u001b[39m \u001b[34mpurrr  \u001b[39m 0.3.4\n",
      "\u001b[32m✔\u001b[39m \u001b[34mtibble \u001b[39m 3.1.4     \u001b[32m✔\u001b[39m \u001b[34mdplyr  \u001b[39m 1.0.7\n",
      "\u001b[32m✔\u001b[39m \u001b[34mtidyr  \u001b[39m 1.1.3     \u001b[32m✔\u001b[39m \u001b[34mstringr\u001b[39m 1.4.0\n",
      "\u001b[32m✔\u001b[39m \u001b[34mreadr  \u001b[39m 2.0.1     \u001b[32m✔\u001b[39m \u001b[34mforcats\u001b[39m 0.5.1\n",
      "\n",
      "── \u001b[1mConflicts\u001b[22m ────────────────────────────────────────── tidyverse_conflicts() ──\n",
      "\u001b[31m✖\u001b[39m \u001b[34mdplyr\u001b[39m::\u001b[32mfilter()\u001b[39m masks \u001b[34mstats\u001b[39m::filter()\n",
      "\u001b[31m✖\u001b[39m \u001b[34mdplyr\u001b[39m::\u001b[32mlag()\u001b[39m    masks \u001b[34mstats\u001b[39m::lag()\n",
      "\n"
     ]
    }
   ],
   "source": [
    "library(tidyverse)"
   ]
  },
  {
   "cell_type": "markdown",
   "metadata": {},
   "source": [
    "## Harry Potter\n",
    "Today's lecture will be all about Harry Potter.\n",
    "![harry potter](https://images-na.ssl-images-amazon.com/images/I/51HSkTKlauL._SX346_BO1,204,203,200_.jpg)"
   ]
  },
  {
   "cell_type": "code",
   "execution_count": 2,
   "metadata": {},
   "outputs": [
    {
     "name": "stderr",
     "output_type": "stream",
     "text": [
      "also installing the dependencies ‘credentials’, ‘zip’, ‘gitcreds’, ‘ini’, ‘diffobj’, ‘gert’, ‘gh’, ‘rprojroot’, ‘whisker’, ‘xopen’, ‘brew’, ‘commonmark’, ‘brio’, ‘praise’, ‘waldo’, ‘usethis’, ‘desc’, ‘pkgbuild’, ‘pkgload’, ‘rcmdcheck’, ‘remotes’, ‘roxygen2’, ‘rversions’, ‘sessioninfo’, ‘testthat’\n",
      "\n",
      "\n"
     ]
    },
    {
     "name": "stdout",
     "output_type": "stream",
     "text": [
      "\n",
      "  There is a binary version available but the source version is later:\n",
      "        binary source needs_compilation\n",
      "usethis  2.1.0  2.1.2             FALSE\n",
      "\n",
      "\n",
      "The downloaded binary packages are in\n",
      "\t/var/folders/ng/qcb7p5f14nl6kwpxnh6rz73h0000gn/T//RtmpF8omuh/downloaded_packages\n"
     ]
    },
    {
     "name": "stderr",
     "output_type": "stream",
     "text": [
      "installing the source package ‘usethis’\n",
      "\n",
      "\n",
      "Downloading GitHub repo bradleyboehmke/harrypotter@HEAD\n",
      "\n"
     ]
    },
    {
     "name": "stdout",
     "output_type": "stream",
     "text": [
      "\u001b[32m✔\u001b[39m  \u001b[90mchecking for file ‘/private/var/folders/ng/qcb7p5f14nl6kwpxnh6rz73h0000gn/T/RtmpF8omuh/remotesa6d63ffb3d89/bradleyboehmke-harrypotter-51f7146/DESCRIPTION’\u001b[39m\u001b[36m\u001b[39m\n",
      "\u001b[90m─\u001b[39m\u001b[90m  \u001b[39m\u001b[90mpreparing ‘harrypotter’:\u001b[39m\u001b[36m\u001b[39m\n",
      "\u001b[32m✔\u001b[39m  \u001b[90mchecking DESCRIPTION meta-information\u001b[39m\u001b[36m\u001b[39m\n",
      "\u001b[90m─\u001b[39m\u001b[90m  \u001b[39m\u001b[90mchecking for LF line-endings in source and make files and shell scripts\u001b[39m\u001b[36m\u001b[39m\n",
      "\u001b[90m─\u001b[39m\u001b[90m  \u001b[39m\u001b[90mchecking for empty or unneeded directories\u001b[39m\u001b[36m\u001b[39m\n",
      "\u001b[90m─\u001b[39m\u001b[90m  \u001b[39m\u001b[90mbuilding ‘harrypotter_0.1.0.tar.gz’\u001b[39m\u001b[36m\u001b[39m\n",
      "   \n",
      " chr [1:17] \"THE BOY WHO LIVED　　Mr. and Mrs. Dursley, of number four, Privet Drive, were proud to say that they were perfe\"| __truncated__ ...\n"
     ]
    }
   ],
   "source": [
    "install.packages(\"devtools\")\n",
    "devtools::install_github(\"bradleyboehmke/harrypotter\",force=TRUE)\n",
    "library(harrypotter)\n",
    "str(philosophers_stone)\n",
    "ch1 <- philosophers_stone[[1]]"
   ]
  },
  {
   "cell_type": "markdown",
   "metadata": {},
   "source": [
    "`philosophers_stone` is a list containing seventeen entries: one for each chapter of \"Harry Potter and the Sorcerer's Stone\" (titled differently in the U.K.)\n",
    "\n",
    "Instead of reading Harry Potter, we will analyze it like a data set."
   ]
  },
  {
   "cell_type": "code",
   "execution_count": 3,
   "metadata": {},
   "outputs": [
    {
     "name": "stdout",
     "output_type": "stream",
     "text": [
      "[1] \"THE BOY WHO LIVED　　Mr. and Mrs. Dursley, of number four, Privet Drive, were proud to say that they were perfectly normal, thank you very much. They were the last people you'd expect to be involved in anything strange or mysterious, because they just didn't hold with such nonsense.　　Mr. Dursley was the director of a firm called Grunnings, which made drills. He was a big, beefy man with hardly any neck, although he did have a very large mustache. Mrs. Dursley was thin and blonde and had nearly twice the usual amount of neck, which came in very useful as she spent so much of her time craning over garden fences, spying on the neighbors. The Dursleys had a small son called Dudley and in their opinion there was no finer boy anywhere.　　The Dursleys had everything they wanted, but they also had a secret, and their greatest fear was that somebody would discover it. They didn't think they could bear it if anyone found out about the Potters. Mrs. Potter was Mrs. Dursley's sister, but they hadn't met for several years; in fact, Mrs. Dursley pretended she didn't have a sister, because her sister and her good-for-nothing husband were as unDursleyish as it was possible to be. The Dursleys shuddered to think what the neighbors would say if the Potters arrived in the street. The Dursleys knew that the Potters had a small son, too, but they had never even seen him. This boy was another good reason for keeping the Potters away; they didn't want Dudley mixing with a child like that.　　When Mr. and Mrs. Dursley woke up on the dull, gray Tuesday our story starts, there was nothing about the cloudy sky outside to suggest that strange and mysterious things would soon be happening all over the country. Mr. Dursley hummed as he picked out his most boring tie for work, and Mrs. Dursley gossiped away happily as she wrestled a screaming Dudley into his high chair.　　None of them noticed a large, tawny owl flutter past the window.　　At half past eight, Mr. Dursley picked up his briefcase, pecked Mrs. Dursley on the cheek, and tried to kiss Dudley good-bye but missed, because Dudley was now having a tantrum and throwing his cereal at the walls. \\\"Little tyke,\\\" chortled Mr. Dursley as he left the house. He got into his car and backed out of number four's drive.　　It was on the corner of the street that he noticed the first sign of something peculiar -- a cat reading a map. For a second, Mr. Dursley didn't realize what he had seen -- then he jerked his head around to look again. There was a tabby cat standing on the corner of Privet Drive, but there wasn't a map in sight. What could he have been thinking of? It must have been a trick of the light. Mr. Dursley blinked and stared at the cat. It stared back. As Mr. Dursley drove around the corner and up the road, he watched the cat in his mirror. It was now reading the sign that said Privet Drive -- no, looking at the sign; cats couldn't read maps or signs. Mr. Dursley gave himself a little shake and put the cat out of his mind. As he drove toward town he thought of nothing except a large order of drills he was hoping to get that day.　　But on the edge of town, drills were driven out of his mind by something else. As he sat in the usual morning traffic jam, he couldn't help noticing that there seemed to be a lot of strangely dressed people about. People in cloaks. Mr. Dursley couldn't bear people who dressed in funny clothes -- the getups you saw on young people! He supposed this was some stupid new fashion. He drummed his fingers on the steering wheel and his eyes fell on a huddle of these weirdos standing quite close by. They were whispering excitedly together. Mr. Dursley was enraged to see that a couple of them weren't young at all; why, that man had to be older than he was, and wearing an emerald-green cloak! The nerve of him! But then it struck Mr. Dursley that this was probably some silly stunt -- these people were obviously collecting for something... yes, that would be it. The traffic moved on and a few minutes later, Mr. Dursley arrived in the Grunnings parking lot, his mind back on drills.　　Mr. Dursley always sat with his back to the window in his office on the ninth floor. If he hadn't, he might have found it harder to concentrate on drills that morning. He didn't see the owls swoop ing past in broad daylight, though people down in the street did; they pointed and gazed open- mouthed as owl after owl sped overhead. Most of them had never seen an owl even at nighttime. Mr. Dursley, however, had a perfectly normal, owl-free morning. He yelled at five different people. He made several important telephone calls and shouted a bit more. He was in a very good mood until lunchtime, when he thought he'd stretch his legs and walk across the road to buy himself a bun from the bakery.　　He'd forgotten all about the people in cloaks until he passed a group of them next to the baker's. He eyed them angrily as he passed. He didn't know why, but they made him uneasy. This bunch were whispering excitedly, too, and he couldn't see a single collecting tin. It was on his way back past them, clutching a large doughnut in a bag, that he caught a few words of what they were saying.　　 \\\"The Potters, that's right, that's what I heard yes, their son, Harry\\\"　　Mr. Dursley stopped dead. Fear flooded him. He looked back at the whisperers as if he wanted to say something to them, but thought better of it.　　He dashed back across the road, hurried up to his office, snapped at his secretary not to disturb him, seized his telephone, and had almost finished dialing his home number when he changed his mind. He put the receiver back down and stroked his mustache, thinking... no, he was being stupid. Potter wasn't such an unusual name. He was sure there were lots of people called Potter who had a son called Harry. Come to think of it, he wasn't even sure his nephew was called Harry. He'd never even seen the boy. It might have been Harvey. Or Harold. There was no point in worrying Mrs. Dursley; she always got so upset at any mention of her sister. He didn't blame her -- if he'd had a sister like that... but all the same, those people in cloaks...　　He found it a lot harder to concentrate on drills that afternoon and when he left the building at five o'clock, he was still so worried that he walked straight into someone just outside the door.　　\\\"Sorry,\\\" he grunted, as the tiny old man stumbled and almost fell. It was a few seconds before Mr. Dursley realized that the man was wearing a violet cloak. He didn't seem at all upset at being almost knocked to the ground. On the contrary, his face split into a wide smile and he said in a squeaky voice that made passersby stare, \\\"Don't be sorry, my dear sir, for nothing could upset me today! Rejoice, for You-Know-Who has gone at last! Even Muggles like yourself should be celebrating, this happy, happy day!\\\"　　And the old man hugged Mr. Dursley around the middle and walked off.　　Mr. Dursley stood rooted to the spot. He had been hugged by a complete stranger. He also thought he had been called a Muggle, whatever that was. He was rattled. He hurried to his car and set off for home, hoping he was imagining things, which he had never hoped before, because he didn't approve of imagination.　　As he pulled into the driveway of number four, the first thing he saw -- and it didn't improve his mood -- was the tabby cat he'd spotted that morning. It was now sitting on his garden wall. He was sure it was the same one; it had the same markings around its eyes.　　\\\"Shoo!\\\" said Mr. Dursley loudly. The cat didn't move. It just gave him a stern look. Was this normal cat behavior? Mr. Dursley wondered. Trying to pull himself together, he let himself into the house. He was still determined not to mention anything to his wife.　　Mrs. Dursley had had a nice, normal day. She told him over dinner all about Mrs. Next Door's problems with her daughter and how Dudley had learned a new word (\\\"Won't!\\\"). Mr. Dursley tried to act normally. When Dudley had been put to bed, he went into the living room in time to catch the last report on the evening news:　　\\\"And finally, bird-watchers everywhere have reported that the nation's owls have been behaving very unusually today. Although owls normally hunt at night and are hardly ever seen in daylight, there have been hundreds of sightings of these birds flying in every direction since sunrise. Experts are unable to explain why the owls have suddenly changed their sleeping pattern.\\\" The newscaster allowed himself a grin. \\\"Most mysterious. And now, over to Jim McGuffin with the weather. Going to be any more showers of owls tonight, Jim?\\\"　　\\\"Well, Ted,\\\" said the weatherman, \\\"I don't know about that, but it's not only the owls that have been acting oddly today. Viewers as far apart as Kent, Yorkshire, and Dundee have been phoning in to tell me that instead of the rain I promised yesterday, they've had a downpour of shooting stars! Perhaps people have been celebrating Bonfire Night early -- it's not until next week, folks! But I can promise a wet night tonight.\\\"　　Mr. Dursley sat frozen in his armchair. Shooting stars all over Britain? Owls flying by daylight? Mysterious people in cloaks all over the place? And a whisper, a whisper about the Potters...　　Mrs. Dursley came into the living room carrying two cups of tea. It was no good. He'd have to say something to her. He cleared his throat nervously. \\\"Er -- Petunia, dear -- you haven't heard from your sister lately, have you?\\\"　　As he had expected, Mrs. Dursley looked shocked and angry. After all, they normally pretended she didn't have a sister.　　\\\"No,\\\" she said sharply. \\\"Why?\\\"　　\\\"Funny stuff on the news,\\\" Mr. Dursley mumbled. \\\"Owls... shooting stars... and there were a lot of funny-looking people in town today...\\\"　　\\\"So?\\\" snapped Mrs. Dursley.　　\\\"Well, I just thought... maybe... it was something to do with... you know... her crowd.\\\"　　Mrs. Dursley sipped her tea through pursed lips. Mr. Dursley wondered whether he dared tell her he'd heard the name \\\"Potter.\\\" He decided he didn't dare. Instead he said, as casually as he could, \\\"Their son -- he'd be about Dudley's age now, wouldn't he?\\\"　　\\\"I suppose so,\\\" said Mrs. Dursley stiffly.　　\\\"What's his name again? Howard, isn't it?\\\"　　\\\"Harry. Nasty, common name, if you ask me.\\\"　　\\\"Oh, yes,\\\" said Mr. Dursley, his heart sinking horribly. \\\"Yes, I quite agree.\\\"　　He didn't say another word on the subject as they went upstairs to bed. While Mrs. Dursley was in the bathroom, Mr. Dursley crept to the bedroom window and peered down into the front garden. The cat was still there. It was staring down Privet Drive as though it were waiting for something.　　Was he imagining things? Could all this have anything to do with the Potters? If it did... if it got out that they were related to a pair of -- well, he didn't think he could bear it.　　The Dursleys got into bed. Mrs. Dursley fell asleep quickly but Mr. Dursley lay awake, turning it all over in his mind. His last, comforting thought before he fell asleep was that even if the Potters were involved, there was no reason for them to come near him and Mrs. Dursley. The Potters knew very well what he and Petunia thought about them and their kind.... He couldn't see how he and Petunia could get mixed up in anything that might be going on -- he yawned and turned over -- it couldn't affect them....　　How very wrong he was.　　Mr. Dursley might have been drifting into an uneasy sleep, but the cat on the wall outside was showing no sign of sleepiness. It was sitting as still as a statue, its eyes fixed unblinkingly on the far corner of Privet Drive. It didn't so much as quiver when a car door slammed on the next street, nor when two owls swooped overhead. In fact, it was nearly midnight before the cat moved at all.　　A man appeared on the corner the cat had been watching, appeared so suddenly and silently you'd have thought he'd just popped out of the ground. The cat's tail twitched and its eyes narrowed.　　Nothing like this man had ever been seen on Privet Drive. He was tall, thin, and very old, judging by the silver of his hair and beard, which were both long enough to tuck into his belt. He was wearing long robes, a purple cloak that swept the ground, and high-heeled, buckled boots. His blue eyes were light, bright, and sparkling behind half-moon spectacles and his nose was very long and crooked, as though it had been broken at least twice. This man's name was Albus Dumbledore.　　Albus Dumbledore didn't seem to realize that he had just arrived in a street where everything from his name to his boots was unwelcome. He was busy rummaging in his cloak, looking for something. But he did seem to realize he was being watched, because he looked up suddenly at the cat, which was still staring at him from the other end of the street. For some reason, the sight of the cat seemed to amuse him. He chuckled and muttered, \\\"I should have known.\\\"　　He found what he was looking for in his inside pocket. It seemed to be a silver cigarette lighter. He flicked it open, held it up in the air, and clicked it. The nearest street lamp went out with a little pop. He clicked it again -- the next lamp flickered into darkness. Twelve times he clicked the Put-Outer, until the only lights left on the whole street were two tiny pinpricks in the distance, which were the eyes of the cat watching him. If anyone looked out of their window now, even beady-eyed Mrs. Dursley, they wouldn't be able to see anything that was happening down on the pavement. Dumbledore slipped the Put-Outer back inside his cloak and set off down the street toward number four, where he sat down on the wall next to the cat. He didn't look at it, but after a moment he spoke to it.　　\\\"Fancy seeing you here, Professor McGonagall.\\\"　　He turned to smile at the tabby, but it had gone. Instead he was smiling at a rather severe-looking woman who was wearing square glasses exactly the shape of the markings the cat had had around its eyes. She, too, was wearing a cloak, an emerald one. Her black hair was drawn into a tight bun. She looked distinctly ruffled.　　\\\"How did you know it was me?\\\" she asked.　　\\\"My dear Professor, I 've never seen a cat sit so stiffly.\\\"　　\\\"You'd be stiff if you'd been sitting on a brick wall all day,\\\" said Professor McGonagall.　　\\\"All day? When you could have been celebrating? I must have passed a dozen feasts and parties on my way here.\\\"　　Professor McGonagall sniffed angrily.　　\\\"Oh yes, everyone's celebrating, all right,\\\" she said impatiently. \\\"You'd think they'd be a bit more careful, but no -- even the Muggles have noticed something's going on. It was on their news.\\\" She jerked her head back at the Dursleys' dark living-room window. \\\"I heard it. Flocks of owls... shooting stars.... Well, they're not completely stupid. They were bound to notice something. Shooting stars down in Kent -- I'll bet that was Dedalus Diggle. He never had much sense.\\\"　　\\\"You can't blame them,\\\" said Dumbledore gently. \\\"We've had precious little to celebrate for eleven years.\\\"　　\\\"I know that,\\\" said Professor McGonagall irritably. \\\"But that's no reason to lose our heads. People are being downright careless, out on the streets in broad daylight, not even dressed in Muggle clothes, swapping rumors.\\\"　　She threw a sharp, sideways glance at Dumbledore here, as though hoping he was going to tell her something, but he didn't, so she went on. \\\"A fine thing it would be if, on the very day YouKnow-Who seems to have disappeared at last, the Muggles found out about us all. I suppose he really has gone, Dumbledore?\\\"　　\\\"It certainly seems so,\\\" said Dumbledore. \\\"We have much to be thankful for. Would you care for a lemon drop?\\\"　　\\\"A what?\\\"　　\\\"A lemon drop. They're a kind of Muggle sweet I'm rather fond of\\\"　　\\\"No, thank you,\\\" said Professor McGonagall coldly, as though she didn't think this was the moment for lemon drops. \\\"As I say, even if You-Know-Who has gone -\\\"　　\\\"My dear Professor, surely a sensible person like yourself can call him by his name? All this 'You- Know-Who' nonsense -- for eleven years I have been trying to persuade people to call him by his proper name: Voldemort.\\\" Professor McGonagall flinched, but Dumbledore, who was unsticking two lemon drops, seemed not to notice. \\\"It all gets so confusing if we keep saying 'You-Know-Who.' I have never seen any reason to be frightened of saying Voldemort's name.　　\\\"I know you haven 't, said Professor McGonagall, sounding half exasperated, half admiring. \\\"But you're different. Everyone knows you're the only one You-Know- oh, all right, Voldemort, was frightened of.\\\"　　\\\"You flatter me,\\\" said Dumbledore calmly. \\\"Voldemort had powers I will never have.\\\"　　\\\"Only because you're too -- well -- noble to use them.\\\"　　\\\"It's lucky it's dark. I haven't blushed so much since Madam Pomfrey told me she liked my new earmuffs.\\\"　　Professor McGonagall shot a sharp look at Dumbledore and said, \\\"The owls are nothing next to the rumors that are flying around. You know what everyone's saying? About why he's disappeared? About what finally stopped him?\\\"　　It seemed that Professor McGonagall had reached the point she was most anxious to discuss, the real reason she had been waiting on a cold, hard wall all day, for neither as a cat nor as a woman had she fixed Dumbledore with such a piercing stare as she did now. It was plain that whatever \\\"everyone\\\" was saying, she was not going to believe it until Dumbledore told her it was true. Dumbledore, however, was choosing another lemon drop and did not answer.　　\\\"What they're saying,\\\" she pressed on, \\\"is that last night Voldemort turned up in Godric's Hollow. He went to find the Potters. The rumor is that Lily and James Potter are -- are -- that they're -- dead. \\\"　　Dumbledore bowed his head. Professor McGonagall gasped.　　\\\"Lily and James... I can't believe it... I didn't want to believe it... Oh, Albus...\\\"　　Dumbledore reached out and patted her on the shoulder. \\\"I know... I know...\\\" he said heavily.　　Professor McGonagall's voice trembled as she went on. \\\"That's not all. They're saying he tried to kill the Potter's son, Harry. But -- he couldn't. He couldn't kill that little boy. No one knows why, or how, but they're saying that when he couldn't kill Harry Potter, Voldemort's power somehow broke -- and that's why he's gone.　　Dumbledore nodded glumly.　　\\\"It's -- it's true?\\\" faltered Professor McGonagall. \\\"After all he's done... all the people he's killed... he couldn't kill a little boy? It's just astounding... of all the things to stop him... but how in the name of heaven did Harry survive?\\\"　　\\\"We can only guess,\\\" said Dumbledore. \\\"We may never know.\\\"　　Professor McGonagall pulled out a lace handkerchief and dabbed at her eyes beneath her spectacles. Dumbledore gave a great sniff as he took a golden watch from his pocket and examined it. It was a very odd watch. It had twelve hands but no numbers; instead, little planets were moving around the edge. It must have made sense to Dumbledore, though, because he put it back in his pocket and said, \\\"Hagrid's late. I suppose it was he who told you I'd be here, by the way?\\\"　　\\\"Yes,\\\" said Professor McGonagall. \\\"And I don't suppose you're going to tell me why you're here, of all places?\\\"　　\\\"I've come to bring Harry to his aunt and uncle. They're the only family he has left now.\\\"　　\\\"You don't mean -- you can't mean the people who live here?\\\" cried Professor McGonagall, jumping to her feet and pointing at number four. \\\"Dumbledore -- you can't. I've been watching them all day. You couldn't find two people who are less like us. And they've got this son -- I saw him kicking his mother all the way up the street, screaming for sweets. Harry Potter come and live here!\\\"　　\\\"It's the best place for him,\\\" said Dumbledore firmly. \\\"His aunt and uncle will be able to explain everything to him when he's older. I've written them a letter.\\\"　　\\\"A letter?\\\" repeated Professor McGonagall faintly, sitting back down on the wall. \\\"Really, Dumbledore, you think you can explain all this in a letter? These people will never understand him! He'll be famous -- a legend -- I wouldn't be surprised if today was known as Harry Potter day in the future -- there will be books written about Harry -- every child in our world will know his name!\\\"　　\\\"Exactly,\\\" said Dumbledore, looking very seriously over the top of his half-moon glasses. \\\"It would be enough to turn any boy's head. Famous before he can walk and talk! Famous for something he won't even remember! CarA you see how much better off he'll be, growing up away from all that until he's ready to take it?\\\"　　Professor McGonagall opened her mouth, changed her mind, swallowed, and then said, \\\"Yes -- yes, you're right, of course. But how is the boy getting here, Dumbledore?\\\" She eyed his cloak suddenly as though she thought he might be hiding Harry underneath it.　　\\\"Hagrid's bringing him.\\\"　　\\\"You think it -- wise -- to trust Hagrid with something as important as this?\\\"　　I would trust Hagrid with my life,\\\" said Dumbledore.　　\\\"I'm not saying his heart isn't in the right place,\\\" said Professor McGonagall grudgingly, \\\"but you can't pretend he's not careless. He does tend to -- what was that?\\\"　　A low rumbling sound had broken the silence around them. It grew steadily louder as they looked up and down the street for some sign of a headlight; it swelled to a roar as they both looked up at the sky -- and a huge motorcycle fell out of the air and landed on the road in front of them.　　If the motorcycle was huge, it was nothing to the man sitting astride it. He was almost twice as tall as a normal man and at least five times as wide. He looked simply too big to be allowed, and so wild - long tangles of bushy black hair and beard hid most of his face, he had hands the size of trash can lids, and his feet in their leather boots were like baby dolphins. In his vast, muscular arms he was holding a bundle of blankets.　　\\\"Hagrid,\\\" said Dumbledore, sounding relieved. \\\"At last. And where did you get that motorcycle?\\\"　　\\\"Borrowed it, Professor Dumbledore, sit,\\\" said the giant, climbing carefully off the motorcycle as he spoke. \\\"Young Sirius Black lent it to me. I've got him, sir.\\\"　　\\\"No problems, were there?\\\"　　\\\"No, sir -- house was almost destroyed, but I got him out all right before the Muggles started swarmin' around. He fell asleep as we was flyin' over Bristol.\\\"　　Dumbledore and Professor McGonagall bent forward over the bundle of blankets. Inside, just visible, was a baby boy, fast asleep. Under a tuft of jet-black hair over his forehead they could see a curiously shaped cut, like a bolt of lightning.　　\\\"Is that where -?\\\" whispered Professor McGonagall.　　\\\"Yes,\\\" said Dumbledore. \\\"He'll have that scar forever.\\\"　　\\\"Couldn't you do something about it, Dumbledore?\\\"　　\\\"Even if I could, I wouldn't. Scars can come in handy. I have one myself above my left knee that is a perfect map of the London Underground. Well -- give him here, Hagrid -- we'd better get this over with.\\\"　　Dumbledore took Harry in his arms and turned toward the Dursleys' house.　　\\\"Could I -- could I say good-bye to him, sir?\\\" asked Hagrid. He bent his great, shaggy head over Harry and gave him what must have been a very scratchy, whiskery kiss. Then, suddenly, Hagrid let out a howl like a wounded dog.　　\\\"Shhh!\\\" hissed Professor McGonagall, \\\"you'll wake the Muggles!\\\"　　\\\"S-s-sorry,\\\" sobbed Hagrid, taking out a large, spotted handkerchief and burying his face in it. \\\"But I c-c-can't stand it -- Lily an' James dead -- an' poor little Harry off ter live with Muggles -\\\"　　\\\"Yes, yes, it's all very sad, but get a grip on yourself, Hagrid, or we'll be found,\\\" Professor McGonagall whispered, patting Hagrid gingerly on the arm as Dumbledore stepped over the low garden wall and walked to the front door. He laid Harry gently on the doorstep, took a letter out of his cloak, tucked it inside Harry's blankets, and then came back to the other two. For a full minute the three of them stood and looked at the little bundle; Hagrid's shoulders shook, Professor McGonagall blinked furiously, and the twinkling light that usually shone from Dumbledore's eyes seemed to have gone out.　　\\\"Well,\\\" said Dumbledore finally, \\\"that's that. We've no business staying here. We may as well go and join the celebrations.\\\"　　\\\"Yeah,\\\" said Hagrid in a very muffled voice, \\\"I'll be takin' Sirius his bike back. G'night, Professor McGonagall -- Professor Dumbledore, sir.\\\"　　Wiping his streaming eyes on his jacket sleeve, Hagrid swung himself onto the motorcycle and kicked the engine into life; with a roar it rose into the air and off into the night.　　\\\"I shall see you soon, I expect, Professor McGonagall,\\\" said Dumbledore, nodding to her. Professor McGonagall blew her nose in reply.　　Dumbledore turned and walked back down the street. On the corner he stopped and took out the silver Put-Outer. He clicked it once, and twelve balls of light sped back to their street lamps so that Privet Drive glowed suddenly orange and he could make out a tabby cat slinking around the corner at the other end of the street. He could just see the bundle of blankets on the step of number four.　　\\\"Good luck, Harry,\\\" he murmured. He turned on his heel and with a swish of his cloak, he was gone.　　A breeze ruffled the neat hedges of Privet Drive, which lay silent and tidy under the inky sky, the very last place you would expect astonishing things to happen. Harry Potter rolled over inside his blankets without waking up. One small hand closed on the letter beside him and he slept on, not knowing he was special, not knowing he was famous, not knowing he would be woken in a few hours' time by Mrs. Dursley's scream as she opened the front door to put out the milk bottles, nor that he would spend the next few weeks being prodded and pinched by his cousin Dudley... He couldn't know that at this very moment, people meeting in secret all over the country were holding up their glasses and saying in hushed voices: \\\"To Harry Potter -- the boy who lived!\"\n"
     ]
    }
   ],
   "source": [
    "ch1 %>% print"
   ]
  },
  {
   "cell_type": "markdown",
   "metadata": {},
   "source": [
    "Each entry of `philosophers_stone` is a *string*. There is one string per chapter, so they are pretty long. To figure out how long a string is, we can use the `str_length()` command:"
   ]
  },
  {
   "cell_type": "code",
   "execution_count": 4,
   "metadata": {},
   "outputs": [
    {
     "data": {
      "text/html": [
       "25928"
      ],
      "text/latex": [
       "25928"
      ],
      "text/markdown": [
       "25928"
      ],
      "text/plain": [
       "[1] 25928"
      ]
     },
     "metadata": {},
     "output_type": "display_data"
    }
   ],
   "source": [
    "str_length(ch1)"
   ]
  },
  {
   "cell_type": "markdown",
   "metadata": {},
   "source": [
    "### Exercise\n",
    "What is the longest chapter in Philosopher's Stone?"
   ]
  },
  {
   "cell_type": "code",
   "execution_count": 5,
   "metadata": {},
   "outputs": [
    {
     "data": {
      "text/html": [
       "5"
      ],
      "text/latex": [
       "5"
      ],
      "text/markdown": [
       "5"
      ],
      "text/plain": [
       "[1] 5"
      ]
     },
     "metadata": {},
     "output_type": "display_data"
    }
   ],
   "source": [
    "str_length(philosophers_stone) %>% which.max"
   ]
  },
  {
   "cell_type": "markdown",
   "metadata": {},
   "source": [
    "If you scroll through `ch1` a bit, you'll notice that there are some funny characters which don't appear in the books:\n",
    "\n",
    "Why are there backslashes (`\\`) before the quotes? In R, strings must be quoted:"
   ]
  },
  {
   "cell_type": "code",
   "execution_count": 6,
   "metadata": {},
   "outputs": [
    {
     "data": {
      "text/html": [
       "'\\'MLE\\' stands for \\'Maximum Likelihood Estimate\\''"
      ],
      "text/latex": [
       "'\\textbackslash{}'MLE\\textbackslash{}' stands for \\textbackslash{}'Maximum Likelihood Estimate\\textbackslash{}''"
      ],
      "text/markdown": [
       "'\\'MLE\\' stands for \\'Maximum Likelihood Estimate\\''"
      ],
      "text/plain": [
       "[1] \"'MLE' stands for 'Maximum Likelihood Estimate'\""
      ]
     },
     "metadata": {},
     "output_type": "display_data"
    }
   ],
   "source": [
    "my_string <- \"'MLE' stands for 'Maximum Likelihood Estimate'\"\n",
    "my_string"
   ]
  },
  {
   "cell_type": "markdown",
   "metadata": {},
   "source": [
    "Now what if I want `my_string` to contain a quotation?\n",
    "```\n",
    "> my_string <- \"\"MLE\" stands for \"Maximum Likelihood Estimate\"\"\n",
    "Error in parse(text = x, srcfile = src): <text>:1:16: unexpected symbol\n",
    "1: mystring3 <- \"\"MLE\n",
    "                   ^\n",
    "Traceback:\n",
    "```"
   ]
  },
  {
   "cell_type": "markdown",
   "metadata": {},
   "source": [
    "To create a string containing double quotes, while using double quotes to create it, you must *escape* the quotes using a backslash (`\\`):"
   ]
  },
  {
   "cell_type": "code",
   "execution_count": 7,
   "metadata": {},
   "outputs": [
    {
     "data": {
      "text/html": [
       "'\"MLE\" stands for \"Maximum Likelihood Estimate\"'"
      ],
      "text/latex": [
       "'\"MLE\" stands for \"Maximum Likelihood Estimate\"'"
      ],
      "text/markdown": [
       "'\"MLE\" stands for \"Maximum Likelihood Estimate\"'"
      ],
      "text/plain": [
       "[1] \"\\\"MLE\\\" stands for \\\"Maximum Likelihood Estimate\\\"\""
      ]
     },
     "metadata": {},
     "output_type": "display_data"
    }
   ],
   "source": [
    "my_string <- \"\\\"MLE\\\" stands for \\\"Maximum Likelihood Estimate\\\"\"\n",
    "my_string "
   ]
  },
  {
   "cell_type": "markdown",
   "metadata": {},
   "source": [
    "What if you actually want a backslash? Then you need to escape it as well:"
   ]
  },
  {
   "cell_type": "code",
   "execution_count": 8,
   "metadata": {},
   "outputs": [
    {
     "data": {
      "text/html": [
       "'\\\\ is the backslash character'"
      ],
      "text/latex": [
       "'\\textbackslash{}\\textbackslash{} is the backslash character'"
      ],
      "text/markdown": [
       "'\\\\ is the backslash character'"
      ],
      "text/plain": [
       "[1] \"\\\\ is the backslash character\""
      ]
     },
     "metadata": {},
     "output_type": "display_data"
    }
   ],
   "source": [
    "\"\\\\ is the backslash character\""
   ]
  },
  {
   "cell_type": "markdown",
   "metadata": {},
   "source": [
    "The printed representation of strings shows the escapes:"
   ]
  },
  {
   "cell_type": "markdown",
   "metadata": {},
   "source": [
    "Use `writeLines()` to see the raw contents of the string. "
   ]
  },
  {
   "cell_type": "code",
   "execution_count": 9,
   "metadata": {},
   "outputs": [
    {
     "name": "stdout",
     "output_type": "stream",
     "text": [
      "\"MLE\" stands for \"Maximum Likelihood Estimate\"\n"
     ]
    }
   ],
   "source": [
    "writeLines(\"\\\"MLE\\\" stands for \\\"Maximum Likelihood Estimate\\\"\")"
   ]
  },
  {
   "cell_type": "code",
   "execution_count": 12,
   "metadata": {},
   "outputs": [
    {
     "name": "stdout",
     "output_type": "stream",
     "text": [
      "\"MLE\" stands for \"Maximum Likelihood Estimate\"\n"
     ]
    }
   ],
   "source": [
    "writeLines(my_string)"
   ]
  },
  {
   "cell_type": "markdown",
   "metadata": {},
   "source": [
    "Let's see how this works for Harry Potter. Where does the first quotation in `ch1` occur? To find this, we will use the \n",
    "\n",
    "    str_locate(<string>, <substring>)\n",
    "    \n",
    "function:"
   ]
  },
  {
   "cell_type": "code",
   "execution_count": 10,
   "metadata": {},
   "outputs": [
    {
     "data": {
      "text/html": [
       "<table class=\"dataframe\">\n",
       "<caption>A matrix: 1 × 2 of type int</caption>\n",
       "<thead>\n",
       "\t<tr><th scope=col>start</th><th scope=col>end</th></tr>\n",
       "</thead>\n",
       "<tbody>\n",
       "\t<tr><td>2150</td><td>2150</td></tr>\n",
       "</tbody>\n",
       "</table>\n"
      ],
      "text/latex": [
       "A matrix: 1 × 2 of type int\n",
       "\\begin{tabular}{ll}\n",
       " start & end\\\\\n",
       "\\hline\n",
       "\t 2150 & 2150\\\\\n",
       "\\end{tabular}\n"
      ],
      "text/markdown": [
       "\n",
       "A matrix: 1 × 2 of type int\n",
       "\n",
       "| start | end |\n",
       "|---|---|\n",
       "| 2150 | 2150 |\n",
       "\n"
      ],
      "text/plain": [
       "     start end \n",
       "[1,] 2150  2150"
      ]
     },
     "metadata": {},
     "output_type": "display_data"
    }
   ],
   "source": [
    "str_locate(ch1, \"\\\"\")  # <---- note the escape."
   ]
  },
  {
   "cell_type": "markdown",
   "metadata": {},
   "source": [
    "Note the escape: we are searching `ch1` for the first occurence of the character `\"`."
   ]
  },
  {
   "cell_type": "markdown",
   "metadata": {},
   "source": [
    "This tells us that the first quote occurs at position 2150 of `ch1`. To view a portion of a string, we can use the \n",
    "\n",
    "    str_sub(<string>, <start>, <end>)\n",
    "\n",
    "command:"
   ]
  },
  {
   "cell_type": "code",
   "execution_count": 11,
   "metadata": {},
   "outputs": [
    {
     "name": "stdout",
     "output_type": "stream",
     "text": [
      "[1] \"\\\"Little tyke,\\\" chortled Mr. Dursley as he left the house. He got into his car and backed out of numbe\"\n",
      "\"Little tyke,\" chortled Mr. Dursley as he left the house. He got into his car and backed out of numbe\n"
     ]
    }
   ],
   "source": [
    "str_sub(ch1, 2150, 2250) %>% print\n",
    " writeLines(str_sub(ch1, 2150, 2250))"
   ]
  },
  {
   "cell_type": "markdown",
   "metadata": {},
   "source": [
    "## Exercise\n",
    "**Beginner**: what is the next quote in Ch.1?\n",
    "\n",
    "**Advanced**: (about) how many quotes are there in Ch.1?"
   ]
  },
  {
   "cell_type": "code",
   "execution_count": 31,
   "metadata": {},
   "outputs": [
    {
     "data": {
      "text/html": [
       "<ol>\n",
       "\t<li><table>\n",
       "<caption>A matrix: 205 × 2 of type int</caption>\n",
       "<thead>\n",
       "\t<tr><th scope=col>start</th><th scope=col>end</th></tr>\n",
       "</thead>\n",
       "<tbody>\n",
       "\t<tr><td>2150</td><td>2150</td></tr>\n",
       "\t<tr><td>2163</td><td>2163</td></tr>\n",
       "\t<tr><td>5179</td><td>5179</td></tr>\n",
       "\t<tr><td>5248</td><td>5248</td></tr>\n",
       "\t<tr><td>6341</td><td>6341</td></tr>\n",
       "\t<tr><td>6348</td><td>6348</td></tr>\n",
       "\t<tr><td>6673</td><td>6673</td></tr>\n",
       "\t<tr><td>6853</td><td>6853</td></tr>\n",
       "\t<tr><td>7506</td><td>7506</td></tr>\n",
       "\t<tr><td>7512</td><td>7512</td></tr>\n",
       "\t<tr><td>7928</td><td>7928</td></tr>\n",
       "\t<tr><td>7935</td><td>7935</td></tr>\n",
       "\t<tr><td>8091</td><td>8091</td></tr>\n",
       "\t<tr><td>8465</td><td>8465</td></tr>\n",
       "\t<tr><td>8506</td><td>8506</td></tr>\n",
       "\t<tr><td>8622</td><td>8622</td></tr>\n",
       "\t<tr><td>8625</td><td>8625</td></tr>\n",
       "\t<tr><td>8636</td><td>8636</td></tr>\n",
       "\t<tr><td>8659</td><td>8659</td></tr>\n",
       "\t<tr><td>9051</td><td>9051</td></tr>\n",
       "\t<tr><td>9396</td><td>9396</td></tr>\n",
       "\t<tr><td>9472</td><td>9472</td></tr>\n",
       "\t<tr><td>9596</td><td>9596</td></tr>\n",
       "\t<tr><td>9600</td><td>9600</td></tr>\n",
       "\t<tr><td>9620</td><td>9620</td></tr>\n",
       "\t<tr><td>9625</td><td>9625</td></tr>\n",
       "\t<tr><td>9628</td><td>9628</td></tr>\n",
       "\t<tr><td>9653</td><td>9653</td></tr>\n",
       "\t<tr><td>9676</td><td>9676</td></tr>\n",
       "\t<tr><td>9764</td><td>9764</td></tr>\n",
       "\t<tr><td>⋮</td><td>⋮</td></tr>\n",
       "\t<tr><td>22654</td><td>22654</td></tr>\n",
       "\t<tr><td>22657</td><td>22657</td></tr>\n",
       "\t<tr><td>22705</td><td>22705</td></tr>\n",
       "\t<tr><td>22708</td><td>22708</td></tr>\n",
       "\t<tr><td>22913</td><td>22913</td></tr>\n",
       "\t<tr><td>22990</td><td>22990</td></tr>\n",
       "\t<tr><td>23035</td><td>23035</td></tr>\n",
       "\t<tr><td>23217</td><td>23217</td></tr>\n",
       "\t<tr><td>23223</td><td>23223</td></tr>\n",
       "\t<tr><td>23254</td><td>23254</td></tr>\n",
       "\t<tr><td>23279</td><td>23279</td></tr>\n",
       "\t<tr><td>23282</td><td>23282</td></tr>\n",
       "\t<tr><td>23293</td><td>23293</td></tr>\n",
       "\t<tr><td>23379</td><td>23379</td></tr>\n",
       "\t<tr><td>23480</td><td>23480</td></tr>\n",
       "\t<tr><td>23483</td><td>23483</td></tr>\n",
       "\t<tr><td>23567</td><td>23567</td></tr>\n",
       "\t<tr><td>24088</td><td>24088</td></tr>\n",
       "\t<tr><td>24094</td><td>24094</td></tr>\n",
       "\t<tr><td>24121</td><td>24121</td></tr>\n",
       "\t<tr><td>24211</td><td>24211</td></tr>\n",
       "\t<tr><td>24214</td><td>24214</td></tr>\n",
       "\t<tr><td>24220</td><td>24220</td></tr>\n",
       "\t<tr><td>24259</td><td>24259</td></tr>\n",
       "\t<tr><td>24356</td><td>24356</td></tr>\n",
       "\t<tr><td>24539</td><td>24539</td></tr>\n",
       "\t<tr><td>24593</td><td>24593</td></tr>\n",
       "\t<tr><td>25070</td><td>25070</td></tr>\n",
       "\t<tr><td>25088</td><td>25088</td></tr>\n",
       "\t<tr><td>25891</td><td>25891</td></tr>\n",
       "</tbody>\n",
       "</table>\n",
       "</li>\n",
       "</ol>\n"
      ],
      "text/latex": [
       "\\begin{enumerate}\n",
       "\\item A matrix: 205 × 2 of type int\n",
       "\\begin{tabular}{ll}\n",
       " start & end\\\\\n",
       "\\hline\n",
       "\t 2150 & 2150\\\\\n",
       "\t 2163 & 2163\\\\\n",
       "\t 5179 & 5179\\\\\n",
       "\t 5248 & 5248\\\\\n",
       "\t 6341 & 6341\\\\\n",
       "\t 6348 & 6348\\\\\n",
       "\t 6673 & 6673\\\\\n",
       "\t 6853 & 6853\\\\\n",
       "\t 7506 & 7506\\\\\n",
       "\t 7512 & 7512\\\\\n",
       "\t 7928 & 7928\\\\\n",
       "\t 7935 & 7935\\\\\n",
       "\t 8091 & 8091\\\\\n",
       "\t 8465 & 8465\\\\\n",
       "\t 8506 & 8506\\\\\n",
       "\t 8622 & 8622\\\\\n",
       "\t 8625 & 8625\\\\\n",
       "\t 8636 & 8636\\\\\n",
       "\t 8659 & 8659\\\\\n",
       "\t 9051 & 9051\\\\\n",
       "\t 9396 & 9396\\\\\n",
       "\t 9472 & 9472\\\\\n",
       "\t 9596 & 9596\\\\\n",
       "\t 9600 & 9600\\\\\n",
       "\t 9620 & 9620\\\\\n",
       "\t 9625 & 9625\\\\\n",
       "\t 9628 & 9628\\\\\n",
       "\t 9653 & 9653\\\\\n",
       "\t 9676 & 9676\\\\\n",
       "\t 9764 & 9764\\\\\n",
       "\t ⋮ & ⋮\\\\\n",
       "\t 22654 & 22654\\\\\n",
       "\t 22657 & 22657\\\\\n",
       "\t 22705 & 22705\\\\\n",
       "\t 22708 & 22708\\\\\n",
       "\t 22913 & 22913\\\\\n",
       "\t 22990 & 22990\\\\\n",
       "\t 23035 & 23035\\\\\n",
       "\t 23217 & 23217\\\\\n",
       "\t 23223 & 23223\\\\\n",
       "\t 23254 & 23254\\\\\n",
       "\t 23279 & 23279\\\\\n",
       "\t 23282 & 23282\\\\\n",
       "\t 23293 & 23293\\\\\n",
       "\t 23379 & 23379\\\\\n",
       "\t 23480 & 23480\\\\\n",
       "\t 23483 & 23483\\\\\n",
       "\t 23567 & 23567\\\\\n",
       "\t 24088 & 24088\\\\\n",
       "\t 24094 & 24094\\\\\n",
       "\t 24121 & 24121\\\\\n",
       "\t 24211 & 24211\\\\\n",
       "\t 24214 & 24214\\\\\n",
       "\t 24220 & 24220\\\\\n",
       "\t 24259 & 24259\\\\\n",
       "\t 24356 & 24356\\\\\n",
       "\t 24539 & 24539\\\\\n",
       "\t 24593 & 24593\\\\\n",
       "\t 25070 & 25070\\\\\n",
       "\t 25088 & 25088\\\\\n",
       "\t 25891 & 25891\\\\\n",
       "\\end{tabular}\n",
       "\n",
       "\\end{enumerate}\n"
      ],
      "text/markdown": [
       "1. \n",
       "A matrix: 205 × 2 of type int\n",
       "\n",
       "| start | end |\n",
       "|---|---|\n",
       "| 2150 | 2150 |\n",
       "| 2163 | 2163 |\n",
       "| 5179 | 5179 |\n",
       "| 5248 | 5248 |\n",
       "| 6341 | 6341 |\n",
       "| 6348 | 6348 |\n",
       "| 6673 | 6673 |\n",
       "| 6853 | 6853 |\n",
       "| 7506 | 7506 |\n",
       "| 7512 | 7512 |\n",
       "| 7928 | 7928 |\n",
       "| 7935 | 7935 |\n",
       "| 8091 | 8091 |\n",
       "| 8465 | 8465 |\n",
       "| 8506 | 8506 |\n",
       "| 8622 | 8622 |\n",
       "| 8625 | 8625 |\n",
       "| 8636 | 8636 |\n",
       "| 8659 | 8659 |\n",
       "| 9051 | 9051 |\n",
       "| 9396 | 9396 |\n",
       "| 9472 | 9472 |\n",
       "| 9596 | 9596 |\n",
       "| 9600 | 9600 |\n",
       "| 9620 | 9620 |\n",
       "| 9625 | 9625 |\n",
       "| 9628 | 9628 |\n",
       "| 9653 | 9653 |\n",
       "| 9676 | 9676 |\n",
       "| 9764 | 9764 |\n",
       "| ⋮ | ⋮ |\n",
       "| 22654 | 22654 |\n",
       "| 22657 | 22657 |\n",
       "| 22705 | 22705 |\n",
       "| 22708 | 22708 |\n",
       "| 22913 | 22913 |\n",
       "| 22990 | 22990 |\n",
       "| 23035 | 23035 |\n",
       "| 23217 | 23217 |\n",
       "| 23223 | 23223 |\n",
       "| 23254 | 23254 |\n",
       "| 23279 | 23279 |\n",
       "| 23282 | 23282 |\n",
       "| 23293 | 23293 |\n",
       "| 23379 | 23379 |\n",
       "| 23480 | 23480 |\n",
       "| 23483 | 23483 |\n",
       "| 23567 | 23567 |\n",
       "| 24088 | 24088 |\n",
       "| 24094 | 24094 |\n",
       "| 24121 | 24121 |\n",
       "| 24211 | 24211 |\n",
       "| 24214 | 24214 |\n",
       "| 24220 | 24220 |\n",
       "| 24259 | 24259 |\n",
       "| 24356 | 24356 |\n",
       "| 24539 | 24539 |\n",
       "| 24593 | 24593 |\n",
       "| 25070 | 25070 |\n",
       "| 25088 | 25088 |\n",
       "| 25891 | 25891 |\n",
       "\n",
       "\n",
       "\n",
       "\n"
      ],
      "text/plain": [
       "[[1]]\n",
       "       start   end\n",
       "  [1,]  2150  2150\n",
       "  [2,]  2163  2163\n",
       "  [3,]  5179  5179\n",
       "  [4,]  5248  5248\n",
       "  [5,]  6341  6341\n",
       "  [6,]  6348  6348\n",
       "  [7,]  6673  6673\n",
       "  [8,]  6853  6853\n",
       "  [9,]  7506  7506\n",
       " [10,]  7512  7512\n",
       " [11,]  7928  7928\n",
       " [12,]  7935  7935\n",
       " [13,]  8091  8091\n",
       " [14,]  8465  8465\n",
       " [15,]  8506  8506\n",
       " [16,]  8622  8622\n",
       " [17,]  8625  8625\n",
       " [18,]  8636  8636\n",
       " [19,]  8659  8659\n",
       " [20,]  9051  9051\n",
       " [21,]  9396  9396\n",
       " [22,]  9472  9472\n",
       " [23,]  9596  9596\n",
       " [24,]  9600  9600\n",
       " [25,]  9620  9620\n",
       " [26,]  9625  9625\n",
       " [27,]  9628  9628\n",
       " [28,]  9653  9653\n",
       " [29,]  9676  9676\n",
       " [30,]  9764  9764\n",
       " [31,]  9767  9767\n",
       " [32,]  9771  9771\n",
       " [33,]  9796  9796\n",
       " [34,]  9883  9883\n",
       " [35,] 10002 10002\n",
       " [36,] 10010 10010\n",
       " [37,] 10081 10081\n",
       " [38,] 10139 10139\n",
       " [39,] 10142 10142\n",
       " [40,] 10156 10156\n",
       " [41,] 10186 10186\n",
       " [42,] 10227 10227\n",
       " [43,] 10230 10230\n",
       " [44,] 10272 10272\n",
       " [45,] 10275 10275\n",
       " [46,] 10284 10284\n",
       " [47,] 10332 10332\n",
       " [48,] 10352 10352\n",
       " [49,] 12878 12878\n",
       " [50,] 12899 12899\n",
       " [51,] 13705 13705\n",
       " [52,] 13750 13750\n",
       " [53,] 14079 14079\n",
       " [54,] 14107 14107\n",
       " [55,] 14121 14121\n",
       " [56,] 14179 14179\n",
       " [57,] 14182 14182\n",
       " [58,] 14244 14244\n",
       " [59,] 14274 14274\n",
       " [60,] 14383 14383\n",
       " [61,] 14425 14425\n",
       " [62,] 14468 14468\n",
       " [63,] 14492 14492\n",
       " [64,] 14618 14618\n",
       " [65,] 14687 14687\n",
       " [66,] 14900 14900\n",
       " [67,] 14903 14903\n",
       " [68,] 14925 14925\n",
       " [69,] 14951 14951\n",
       " [70,] 15008 15008\n",
       " [71,] 15011 15011\n",
       " [72,] 15024 15024\n",
       " [73,] 15063 15063\n",
       " [74,] 15231 15231\n",
       " [75,] 15373 15373\n",
       " [76,] 15543 15543\n",
       " [77,] 15546 15546\n",
       " [78,] 15569 15569\n",
       " [79,] 15588 15588\n",
       " [80,] 15654 15654\n",
       " [81,] 15657 15657\n",
       " [82,] 15665 15665\n",
       " [83,] 15668 15668\n",
       " [84,] 15732 15732\n",
       " [85,] 15735 15735\n",
       " [86,] 15750 15750\n",
       " [87,] 15850 15850\n",
       " [88,] 15892 15892\n",
       " [89,] 15895 15895\n",
       " [90,] 16114 16114\n",
       " [91,] 16221 16221\n",
       " [92,] 16356 16356\n",
       " [93,] 16447 16447\n",
       " [94,] 16559 16559\n",
       " [95,] 16562 16562\n",
       " [96,] 16578 16578\n",
       " [97,] 16604 16604\n",
       " [98,] 16644 16644\n",
       " [99,] 16647 16647\n",
       "[100,] 16701 16701\n",
       "[101,] 16704 16704\n",
       "[102,] 16807 16807\n",
       "[103,] 16873 16873\n",
       "[104,] 17030 17030\n",
       "[105,] 17322 17322\n",
       "[106,] 17331 17331\n",
       "[107,] 17490 17490\n",
       "[108,] 17511 17511\n",
       "[109,] 17529 17529\n",
       "[110,] 17694 17694\n",
       "[111,] 17754 17754\n",
       "[112,] 17838 17838\n",
       "[113,] 17896 17896\n",
       "[114,] 17916 17916\n",
       "[115,] 17990 17990\n",
       "[116,] 18293 18293\n",
       "[117,] 18312 18312\n",
       "[118,] 18345 18345\n",
       "[119,] 18535 18535\n",
       "[120,] 18538 18538\n",
       "[121,] 18557 18557\n",
       "[122,] 18576 18576\n",
       "[123,] 18595 18595\n",
       "[124,] 18994 18994\n",
       "[125,] 19067 19067\n",
       "[126,] 19070 19070\n",
       "[127,] 19075 19075\n",
       "[128,] 19104 19104\n",
       "[129,] 19180 19180\n",
       "[130,] 19183 19183\n",
       "[131,] 19272 19272\n",
       "[132,] 19275 19275\n",
       "[133,] 19334 19334\n",
       "[134,] 19413 19413\n",
       "[135,] 19661 19661\n",
       "[136,] 19664 19664\n",
       "[137,] 19693 19693\n",
       "[138,] 19719 19719\n",
       "[139,] 19825 19825\n",
       "[140,] 19828 19828\n",
       "[141,] 19838 19838\n",
       "[142,] 19910 19910\n",
       "[143,] 20217 20217\n",
       "[144,] 20220 20220\n",
       "[145,] 20229 20229\n",
       "[146,] 20310 20310\n",
       "[147,] 20536 20536\n",
       "[148,] 20622 20622\n",
       "[149,] 20704 20704\n",
       "[150,] 20797 20797\n",
       "[151,] 20820 20820\n",
       "[152,] 20823 20823\n",
       "[153,] 20900 20900\n",
       "[154,] 20937 20937\n",
       "[155,] 20957 20957\n",
       "[156,] 21008 21008\n",
       "[157,] 21048 21048\n",
       "[158,] 21123 21123\n",
       "[159,] 21854 21854\n",
       "[160,] 21862 21862\n",
       "[161,] 21900 21900\n",
       "[162,] 21948 21948\n",
       "[163,] 21951 21951\n",
       "[164,] 21991 21991\n",
       "[165,] 22060 22060\n",
       "[166,] 22113 22113\n",
       "[167,] 22116 22116\n",
       "[168,] 22141 22141\n",
       "[169,] 22144 22144\n",
       "[170,] 22301 22301\n",
       "[171,] 22548 22548\n",
       "[172,] 22565 22565\n",
       "[173,] 22600 22600\n",
       "[174,] 22605 22605\n",
       "[175,] 22624 22624\n",
       "[176,] 22654 22654\n",
       "[177,] 22657 22657\n",
       "[178,] 22705 22705\n",
       "[179,] 22708 22708\n",
       "[180,] 22913 22913\n",
       "[181,] 22990 22990\n",
       "[182,] 23035 23035\n",
       "[183,] 23217 23217\n",
       "[184,] 23223 23223\n",
       "[185,] 23254 23254\n",
       "[186,] 23279 23279\n",
       "[187,] 23282 23282\n",
       "[188,] 23293 23293\n",
       "[189,] 23379 23379\n",
       "[190,] 23480 23480\n",
       "[191,] 23483 23483\n",
       "[192,] 23567 23567\n",
       "[193,] 24088 24088\n",
       "[194,] 24094 24094\n",
       "[195,] 24121 24121\n",
       "[196,] 24211 24211\n",
       "[197,] 24214 24214\n",
       "[198,] 24220 24220\n",
       "[199,] 24259 24259\n",
       "[200,] 24356 24356\n",
       "[201,] 24539 24539\n",
       "[202,] 24593 24593\n",
       "[203,] 25070 25070\n",
       "[204,] 25088 25088\n",
       "[205,] 25891 25891\n"
      ]
     },
     "metadata": {},
     "output_type": "display_data"
    },
    {
     "data": {
      "text/html": [
       "205"
      ],
      "text/latex": [
       "205"
      ],
      "text/markdown": [
       "205"
      ],
      "text/plain": [
       "[1] 205"
      ]
     },
     "metadata": {},
     "output_type": "display_data"
    }
   ],
   "source": [
    "# beginner\n",
    "str_locate_all(ch1, \"\\\"\") %>% head\n",
    "\n",
    "# advanced\n",
    "str_count(ch1, \"\\\"\")"
   ]
  },
  {
   "cell_type": "markdown",
   "metadata": {},
   "source": [
    "The indices passed to `str_sub` can be negative, in which case they count from the end of the string:"
   ]
  },
  {
   "cell_type": "code",
   "execution_count": 32,
   "metadata": {},
   "outputs": [
    {
     "data": {
      "text/html": [
       "'THE END'"
      ],
      "text/latex": [
       "'THE END'"
      ],
      "text/markdown": [
       "'THE END'"
      ],
      "text/plain": [
       "[1] \"THE END\""
      ]
     },
     "metadata": {},
     "output_type": "display_data"
    }
   ],
   "source": [
    "str_sub(philosophers_stone[[17]], -7, -1) # negative numbers count from the end"
   ]
  },
  {
   "cell_type": "markdown",
   "metadata": {},
   "source": [
    "## Exercise\n",
    "**Beginner**: What's the last sentence of Chapter 1?\n",
    "\n",
    "**Advanced**: Which chapter closes with the word \"Voldemort\"?"
   ]
  },
  {
   "cell_type": "code",
   "execution_count": 33,
   "metadata": {},
   "outputs": [
    {
     "name": "stdout",
     "output_type": "stream",
     "text": [
      "hed voices: \"To Harry Potter -- the boy who lived!\n",
      " [1] \"- the boy who lived!\"     \"ith Dudley's gang.　　\"  \n",
      " [3] \"ocking to come in.　　\"   \"e o' the pockets.\\\"　　\" \n",
      " [5] \"d Hagrid had gone.　　\"   \"n the castle door.　　\"  \n",
      " [7] \" the dream at all.　　\"   \"ant to tell Harry?　　\"  \n",
      " [9] \" and thirteen was.　　\"   \"ll is one of them.　　\"  \n",
      "[11] \"ious with himself.　　\"   \"personal question.　　\"  \n",
      "[13] \"uesday,\\\" said Ron.　　\"  \" top of the tower.　　\"  \n",
      "[15] \"it:　　Just in case.　　\" \"'t even Voldemort.　　\"  \n",
      "[17] \"summer....\\\"　　THE END\" \n"
     ]
    }
   ],
   "source": [
    "# beginner\n",
    " ch1 %>% str_sub(-50) %>% writeLines  \n",
    "\n",
    "# advanced\n",
    "philosophers_stone %>% str_sub(-20) %>% print  "
   ]
  },
  {
   "cell_type": "markdown",
   "metadata": {},
   "source": [
    "### Escape sequences\n",
    "`\\\\` and `\\\"` are examples of what are called \"escape sequences\". They tell R to do something special instead of just print the character. There are a couple of other useful escape sequences:"
   ]
  },
  {
   "cell_type": "code",
   "execution_count": 34,
   "metadata": {},
   "outputs": [
    {
     "name": "stdout",
     "output_type": "stream",
     "text": [
      "First line\n",
      "Second line\n"
     ]
    }
   ],
   "source": [
    "writeLines(\"First line\\nSecond line\") # newline"
   ]
  },
  {
   "cell_type": "code",
   "execution_count": 35,
   "metadata": {},
   "outputs": [
    {
     "name": "stdout",
     "output_type": "stream",
     "text": [
      "Text\tIndented Text\tText\n"
     ]
    }
   ],
   "source": [
    "writeLines(\"Text\\tIndented Text\\tText\") # tab"
   ]
  },
  {
   "cell_type": "markdown",
   "metadata": {},
   "source": [
    "### ASCII and unicode\n",
    "Early computers could only read and write the ASCII character set, essentially just roman letters, numbers and some punctuation.\n",
    "\n",
    "Nowadays, computers need to be able to understand alphabets from all over the world. For this we have *Unicode*."
   ]
  },
  {
   "cell_type": "markdown",
   "metadata": {},
   "source": [
    "You can print characters if you know their unicode using `\\u`. For example, the copyright character has unicode `00A9`. Wikipedia has [a complete list](https://en.wikipedia.org/wiki/List_of_Unicode_characters)."
   ]
  },
  {
   "cell_type": "code",
   "execution_count": 36,
   "metadata": {},
   "outputs": [
    {
     "name": "stdout",
     "output_type": "stream",
     "text": [
      "©\n"
     ]
    }
   ],
   "source": [
    "writeLines(\"\\u00A9\")"
   ]
  }
 ],
 "metadata": {
  "kernelspec": {
   "display_name": "R",
   "language": "R",
   "name": "ir"
  },
  "language_info": {
   "codemirror_mode": "r",
   "file_extension": ".r",
   "mimetype": "text/x-r-source",
   "name": "R",
   "pygments_lexer": "r",
   "version": "4.1.1"
  }
 },
 "nbformat": 4,
 "nbformat_minor": 1
}
