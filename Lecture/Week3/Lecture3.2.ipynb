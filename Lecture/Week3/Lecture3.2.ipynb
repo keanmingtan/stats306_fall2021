{
 "cells": [
  {
   "cell_type": "markdown",
   "metadata": {},
   "source": [
    "# Lecture 3.2:  Data transformation\n",
    "\n",
    "<div style=\"border: 1px double black; padding: 10px; margin: 10px\">\n",
    "\n",
    "**Goals for today's lecture:**\n",
    "* Continue to learn [how to manipulate data](#Data-manipulation), including:\n",
    "    * Pipes\n",
    "    * Adding New Variables\n",
    "    \n",
    "* We will go through the data set `flight` \n",
    "    \n",
    "We will answer question such as:     \n",
    "* What days of the year / week are the busiest for flying?    \n",
    "    \n",
    "This lecture note corresponds to Chapter 5.5 of your book.\n",
    "    \n",
    "    \n",
    "</div>\n",
    "\n",
    "\n",
    "Let us load up the `tidyverse` and `nycflights13` packages.\n",
    "\n"
   ]
  },
  {
   "cell_type": "markdown",
   "metadata": {},
   "source": [
    "We will start with the `flight` data set that we use in the previous lecture. "
   ]
  },
  {
   "cell_type": "code",
   "execution_count": 2,
   "metadata": {},
   "outputs": [
    {
     "name": "stderr",
     "output_type": "stream",
     "text": [
      "── \u001b[1mAttaching packages\u001b[22m ─────────────────────────────────────── tidyverse 1.3.1 ──\n",
      "\n",
      "\u001b[32m✔\u001b[39m \u001b[34mggplot2\u001b[39m 3.3.5     \u001b[32m✔\u001b[39m \u001b[34mpurrr  \u001b[39m 0.3.4\n",
      "\u001b[32m✔\u001b[39m \u001b[34mtibble \u001b[39m 3.1.3     \u001b[32m✔\u001b[39m \u001b[34mdplyr  \u001b[39m 1.0.7\n",
      "\u001b[32m✔\u001b[39m \u001b[34mtidyr  \u001b[39m 1.1.3     \u001b[32m✔\u001b[39m \u001b[34mstringr\u001b[39m 1.4.0\n",
      "\u001b[32m✔\u001b[39m \u001b[34mreadr  \u001b[39m 2.0.1     \u001b[32m✔\u001b[39m \u001b[34mforcats\u001b[39m 0.5.1\n",
      "\n",
      "── \u001b[1mConflicts\u001b[22m ────────────────────────────────────────── tidyverse_conflicts() ──\n",
      "\u001b[31m✖\u001b[39m \u001b[34mdplyr\u001b[39m::\u001b[32mfilter()\u001b[39m masks \u001b[34mstats\u001b[39m::filter()\n",
      "\u001b[31m✖\u001b[39m \u001b[34mdplyr\u001b[39m::\u001b[32mlag()\u001b[39m    masks \u001b[34mstats\u001b[39m::lag()\n",
      "\n"
     ]
    },
    {
     "data": {
      "text/html": [
       "<table class=\"dataframe\">\n",
       "<caption>A tibble: 6 × 19</caption>\n",
       "<thead>\n",
       "\t<tr><th scope=col>year</th><th scope=col>month</th><th scope=col>day</th><th scope=col>dep_time</th><th scope=col>sched_dep_time</th><th scope=col>dep_delay</th><th scope=col>arr_time</th><th scope=col>sched_arr_time</th><th scope=col>arr_delay</th><th scope=col>carrier</th><th scope=col>flight</th><th scope=col>tailnum</th><th scope=col>origin</th><th scope=col>dest</th><th scope=col>air_time</th><th scope=col>distance</th><th scope=col>hour</th><th scope=col>minute</th><th scope=col>time_hour</th></tr>\n",
       "\t<tr><th scope=col>&lt;int&gt;</th><th scope=col>&lt;int&gt;</th><th scope=col>&lt;int&gt;</th><th scope=col>&lt;int&gt;</th><th scope=col>&lt;int&gt;</th><th scope=col>&lt;dbl&gt;</th><th scope=col>&lt;int&gt;</th><th scope=col>&lt;int&gt;</th><th scope=col>&lt;dbl&gt;</th><th scope=col>&lt;chr&gt;</th><th scope=col>&lt;int&gt;</th><th scope=col>&lt;chr&gt;</th><th scope=col>&lt;chr&gt;</th><th scope=col>&lt;chr&gt;</th><th scope=col>&lt;dbl&gt;</th><th scope=col>&lt;dbl&gt;</th><th scope=col>&lt;dbl&gt;</th><th scope=col>&lt;dbl&gt;</th><th scope=col>&lt;dttm&gt;</th></tr>\n",
       "</thead>\n",
       "<tbody>\n",
       "\t<tr><td>2013</td><td>1</td><td>1</td><td>517</td><td>515</td><td> 2</td><td> 830</td><td> 819</td><td> 11</td><td>UA</td><td>1545</td><td>N14228</td><td>EWR</td><td>IAH</td><td>227</td><td>1400</td><td>5</td><td>15</td><td>2013-01-01 05:00:00</td></tr>\n",
       "\t<tr><td>2013</td><td>1</td><td>1</td><td>533</td><td>529</td><td> 4</td><td> 850</td><td> 830</td><td> 20</td><td>UA</td><td>1714</td><td>N24211</td><td>LGA</td><td>IAH</td><td>227</td><td>1416</td><td>5</td><td>29</td><td>2013-01-01 05:00:00</td></tr>\n",
       "\t<tr><td>2013</td><td>1</td><td>1</td><td>542</td><td>540</td><td> 2</td><td> 923</td><td> 850</td><td> 33</td><td>AA</td><td>1141</td><td>N619AA</td><td>JFK</td><td>MIA</td><td>160</td><td>1089</td><td>5</td><td>40</td><td>2013-01-01 05:00:00</td></tr>\n",
       "\t<tr><td>2013</td><td>1</td><td>1</td><td>544</td><td>545</td><td>-1</td><td>1004</td><td>1022</td><td>-18</td><td>B6</td><td> 725</td><td>N804JB</td><td>JFK</td><td>BQN</td><td>183</td><td>1576</td><td>5</td><td>45</td><td>2013-01-01 05:00:00</td></tr>\n",
       "\t<tr><td>2013</td><td>1</td><td>1</td><td>554</td><td>600</td><td>-6</td><td> 812</td><td> 837</td><td>-25</td><td>DL</td><td> 461</td><td>N668DN</td><td>LGA</td><td>ATL</td><td>116</td><td> 762</td><td>6</td><td> 0</td><td>2013-01-01 06:00:00</td></tr>\n",
       "\t<tr><td>2013</td><td>1</td><td>1</td><td>554</td><td>558</td><td>-4</td><td> 740</td><td> 728</td><td> 12</td><td>UA</td><td>1696</td><td>N39463</td><td>EWR</td><td>ORD</td><td>150</td><td> 719</td><td>5</td><td>58</td><td>2013-01-01 05:00:00</td></tr>\n",
       "</tbody>\n",
       "</table>\n"
      ],
      "text/latex": [
       "A tibble: 6 × 19\n",
       "\\begin{tabular}{lllllllllllllllllll}\n",
       " year & month & day & dep\\_time & sched\\_dep\\_time & dep\\_delay & arr\\_time & sched\\_arr\\_time & arr\\_delay & carrier & flight & tailnum & origin & dest & air\\_time & distance & hour & minute & time\\_hour\\\\\n",
       " <int> & <int> & <int> & <int> & <int> & <dbl> & <int> & <int> & <dbl> & <chr> & <int> & <chr> & <chr> & <chr> & <dbl> & <dbl> & <dbl> & <dbl> & <dttm>\\\\\n",
       "\\hline\n",
       "\t 2013 & 1 & 1 & 517 & 515 &  2 &  830 &  819 &  11 & UA & 1545 & N14228 & EWR & IAH & 227 & 1400 & 5 & 15 & 2013-01-01 05:00:00\\\\\n",
       "\t 2013 & 1 & 1 & 533 & 529 &  4 &  850 &  830 &  20 & UA & 1714 & N24211 & LGA & IAH & 227 & 1416 & 5 & 29 & 2013-01-01 05:00:00\\\\\n",
       "\t 2013 & 1 & 1 & 542 & 540 &  2 &  923 &  850 &  33 & AA & 1141 & N619AA & JFK & MIA & 160 & 1089 & 5 & 40 & 2013-01-01 05:00:00\\\\\n",
       "\t 2013 & 1 & 1 & 544 & 545 & -1 & 1004 & 1022 & -18 & B6 &  725 & N804JB & JFK & BQN & 183 & 1576 & 5 & 45 & 2013-01-01 05:00:00\\\\\n",
       "\t 2013 & 1 & 1 & 554 & 600 & -6 &  812 &  837 & -25 & DL &  461 & N668DN & LGA & ATL & 116 &  762 & 6 &  0 & 2013-01-01 06:00:00\\\\\n",
       "\t 2013 & 1 & 1 & 554 & 558 & -4 &  740 &  728 &  12 & UA & 1696 & N39463 & EWR & ORD & 150 &  719 & 5 & 58 & 2013-01-01 05:00:00\\\\\n",
       "\\end{tabular}\n"
      ],
      "text/markdown": [
       "\n",
       "A tibble: 6 × 19\n",
       "\n",
       "| year &lt;int&gt; | month &lt;int&gt; | day &lt;int&gt; | dep_time &lt;int&gt; | sched_dep_time &lt;int&gt; | dep_delay &lt;dbl&gt; | arr_time &lt;int&gt; | sched_arr_time &lt;int&gt; | arr_delay &lt;dbl&gt; | carrier &lt;chr&gt; | flight &lt;int&gt; | tailnum &lt;chr&gt; | origin &lt;chr&gt; | dest &lt;chr&gt; | air_time &lt;dbl&gt; | distance &lt;dbl&gt; | hour &lt;dbl&gt; | minute &lt;dbl&gt; | time_hour &lt;dttm&gt; |\n",
       "|---|---|---|---|---|---|---|---|---|---|---|---|---|---|---|---|---|---|---|\n",
       "| 2013 | 1 | 1 | 517 | 515 |  2 |  830 |  819 |  11 | UA | 1545 | N14228 | EWR | IAH | 227 | 1400 | 5 | 15 | 2013-01-01 05:00:00 |\n",
       "| 2013 | 1 | 1 | 533 | 529 |  4 |  850 |  830 |  20 | UA | 1714 | N24211 | LGA | IAH | 227 | 1416 | 5 | 29 | 2013-01-01 05:00:00 |\n",
       "| 2013 | 1 | 1 | 542 | 540 |  2 |  923 |  850 |  33 | AA | 1141 | N619AA | JFK | MIA | 160 | 1089 | 5 | 40 | 2013-01-01 05:00:00 |\n",
       "| 2013 | 1 | 1 | 544 | 545 | -1 | 1004 | 1022 | -18 | B6 |  725 | N804JB | JFK | BQN | 183 | 1576 | 5 | 45 | 2013-01-01 05:00:00 |\n",
       "| 2013 | 1 | 1 | 554 | 600 | -6 |  812 |  837 | -25 | DL |  461 | N668DN | LGA | ATL | 116 |  762 | 6 |  0 | 2013-01-01 06:00:00 |\n",
       "| 2013 | 1 | 1 | 554 | 558 | -4 |  740 |  728 |  12 | UA | 1696 | N39463 | EWR | ORD | 150 |  719 | 5 | 58 | 2013-01-01 05:00:00 |\n",
       "\n"
      ],
      "text/plain": [
       "  year month day dep_time sched_dep_time dep_delay arr_time sched_arr_time\n",
       "1 2013 1     1   517      515             2         830      819          \n",
       "2 2013 1     1   533      529             4         850      830          \n",
       "3 2013 1     1   542      540             2         923      850          \n",
       "4 2013 1     1   544      545            -1        1004     1022          \n",
       "5 2013 1     1   554      600            -6         812      837          \n",
       "6 2013 1     1   554      558            -4         740      728          \n",
       "  arr_delay carrier flight tailnum origin dest air_time distance hour minute\n",
       "1  11       UA      1545   N14228  EWR    IAH  227      1400     5    15    \n",
       "2  20       UA      1714   N24211  LGA    IAH  227      1416     5    29    \n",
       "3  33       AA      1141   N619AA  JFK    MIA  160      1089     5    40    \n",
       "4 -18       B6       725   N804JB  JFK    BQN  183      1576     5    45    \n",
       "5 -25       DL       461   N668DN  LGA    ATL  116       762     6     0    \n",
       "6  12       UA      1696   N39463  EWR    ORD  150       719     5    58    \n",
       "  time_hour          \n",
       "1 2013-01-01 05:00:00\n",
       "2 2013-01-01 05:00:00\n",
       "3 2013-01-01 05:00:00\n",
       "4 2013-01-01 05:00:00\n",
       "5 2013-01-01 06:00:00\n",
       "6 2013-01-01 05:00:00"
      ]
     },
     "metadata": {},
     "output_type": "display_data"
    }
   ],
   "source": [
    "library(tidyverse)\n",
    "library(nycflights13)\n",
    "head(flights)"
   ]
  },
  {
   "cell_type": "markdown",
   "metadata": {},
   "source": [
    "# Pipes\n",
    "Starting now, we will make extensive use of the pipe operator `%>%`. "
   ]
  },
  {
   "cell_type": "markdown",
   "metadata": {},
   "source": [
    "### How `%>%` works\n",
    "Under the hood, `x %>% f(y)` turns into `f(x, y)`, and `x %>% f(y) %>% g(z)` turns into `g(f(x, y), z)` and so on. We can use `%>%` on any function, not just those defined in tidyverse."
   ]
  },
  {
   "cell_type": "markdown",
   "metadata": {},
   "source": [
    "Here is an example on printing \"hello world\" using pipe. "
   ]
  },
  {
   "cell_type": "code",
   "execution_count": 12,
   "metadata": {},
   "outputs": [
    {
     "name": "stdout",
     "output_type": "stream",
     "text": [
      "[1] \"hello world\"\n"
     ]
    }
   ],
   "source": [
    "\"hello world\" %>% print()  # prints \"hello world\""
   ]
  },
  {
   "cell_type": "markdown",
   "metadata": {},
   "source": [
    "We will see the usefulness of pipe `%>%` later in the lecture as it greatly simplifies our code"
   ]
  },
  {
   "cell_type": "markdown",
   "metadata": {},
   "source": [
    "# Adding New Variables\n",
    "The `dplyr`/`tidyverse` package offers the `mutate()` and `transmute()` commands to add new variables to data tibbles. The syntax is:\n",
    "```{r}\n",
    "<tibble> %>% mutate(<new variable> = <formula for new variable>,\n",
    "                    <other new variable> = <other formula>)\n",
    "```\n",
    "This returns a copy of `<tibble>` with the new variables added on `transmute()` does the same thing as `mutate()` but only keeps the new variables."
   ]
  },
  {
   "cell_type": "markdown",
   "metadata": {},
   "source": [
    "Let us zoom in on a few variables of interest."
   ]
  },
  {
   "cell_type": "code",
   "execution_count": 3,
   "metadata": {},
   "outputs": [
    {
     "data": {
      "text/html": [
       "<table class=\"dataframe\">\n",
       "<caption>A tibble: 6 × 8</caption>\n",
       "<thead>\n",
       "\t<tr><th scope=col>year</th><th scope=col>month</th><th scope=col>day</th><th scope=col>dep_time</th><th scope=col>arr_time</th><th scope=col>air_time</th><th scope=col>origin</th><th scope=col>dest</th></tr>\n",
       "\t<tr><th scope=col>&lt;int&gt;</th><th scope=col>&lt;int&gt;</th><th scope=col>&lt;int&gt;</th><th scope=col>&lt;int&gt;</th><th scope=col>&lt;int&gt;</th><th scope=col>&lt;dbl&gt;</th><th scope=col>&lt;chr&gt;</th><th scope=col>&lt;chr&gt;</th></tr>\n",
       "</thead>\n",
       "<tbody>\n",
       "\t<tr><td>2013</td><td>1</td><td>1</td><td>517</td><td> 830</td><td>227</td><td>EWR</td><td>IAH</td></tr>\n",
       "\t<tr><td>2013</td><td>1</td><td>1</td><td>533</td><td> 850</td><td>227</td><td>LGA</td><td>IAH</td></tr>\n",
       "\t<tr><td>2013</td><td>1</td><td>1</td><td>542</td><td> 923</td><td>160</td><td>JFK</td><td>MIA</td></tr>\n",
       "\t<tr><td>2013</td><td>1</td><td>1</td><td>544</td><td>1004</td><td>183</td><td>JFK</td><td>BQN</td></tr>\n",
       "\t<tr><td>2013</td><td>1</td><td>1</td><td>554</td><td> 812</td><td>116</td><td>LGA</td><td>ATL</td></tr>\n",
       "\t<tr><td>2013</td><td>1</td><td>1</td><td>554</td><td> 740</td><td>150</td><td>EWR</td><td>ORD</td></tr>\n",
       "</tbody>\n",
       "</table>\n"
      ],
      "text/latex": [
       "A tibble: 6 × 8\n",
       "\\begin{tabular}{llllllll}\n",
       " year & month & day & dep\\_time & arr\\_time & air\\_time & origin & dest\\\\\n",
       " <int> & <int> & <int> & <int> & <int> & <dbl> & <chr> & <chr>\\\\\n",
       "\\hline\n",
       "\t 2013 & 1 & 1 & 517 &  830 & 227 & EWR & IAH\\\\\n",
       "\t 2013 & 1 & 1 & 533 &  850 & 227 & LGA & IAH\\\\\n",
       "\t 2013 & 1 & 1 & 542 &  923 & 160 & JFK & MIA\\\\\n",
       "\t 2013 & 1 & 1 & 544 & 1004 & 183 & JFK & BQN\\\\\n",
       "\t 2013 & 1 & 1 & 554 &  812 & 116 & LGA & ATL\\\\\n",
       "\t 2013 & 1 & 1 & 554 &  740 & 150 & EWR & ORD\\\\\n",
       "\\end{tabular}\n"
      ],
      "text/markdown": [
       "\n",
       "A tibble: 6 × 8\n",
       "\n",
       "| year &lt;int&gt; | month &lt;int&gt; | day &lt;int&gt; | dep_time &lt;int&gt; | arr_time &lt;int&gt; | air_time &lt;dbl&gt; | origin &lt;chr&gt; | dest &lt;chr&gt; |\n",
       "|---|---|---|---|---|---|---|---|\n",
       "| 2013 | 1 | 1 | 517 |  830 | 227 | EWR | IAH |\n",
       "| 2013 | 1 | 1 | 533 |  850 | 227 | LGA | IAH |\n",
       "| 2013 | 1 | 1 | 542 |  923 | 160 | JFK | MIA |\n",
       "| 2013 | 1 | 1 | 544 | 1004 | 183 | JFK | BQN |\n",
       "| 2013 | 1 | 1 | 554 |  812 | 116 | LGA | ATL |\n",
       "| 2013 | 1 | 1 | 554 |  740 | 150 | EWR | ORD |\n",
       "\n"
      ],
      "text/plain": [
       "  year month day dep_time arr_time air_time origin dest\n",
       "1 2013 1     1   517       830     227      EWR    IAH \n",
       "2 2013 1     1   533       850     227      LGA    IAH \n",
       "3 2013 1     1   542       923     160      JFK    MIA \n",
       "4 2013 1     1   544      1004     183      JFK    BQN \n",
       "5 2013 1     1   554       812     116      LGA    ATL \n",
       "6 2013 1     1   554       740     150      EWR    ORD "
      ]
     },
     "metadata": {},
     "output_type": "display_data"
    }
   ],
   "source": [
    "my_flights <- select(flights, year:day, dep_time, arr_time, air_time, origin, dest)\n",
    "head(my_flights)"
   ]
  },
  {
   "cell_type": "markdown",
   "metadata": {},
   "source": [
    "Use Pipe `%>%` to create the table above. "
   ]
  },
  {
   "cell_type": "code",
   "execution_count": 4,
   "metadata": {},
   "outputs": [
    {
     "data": {
      "text/html": [
       "<table class=\"dataframe\">\n",
       "<caption>A tibble: 6 × 8</caption>\n",
       "<thead>\n",
       "\t<tr><th scope=col>year</th><th scope=col>month</th><th scope=col>day</th><th scope=col>dep_time</th><th scope=col>arr_time</th><th scope=col>air_time</th><th scope=col>origin</th><th scope=col>dest</th></tr>\n",
       "\t<tr><th scope=col>&lt;int&gt;</th><th scope=col>&lt;int&gt;</th><th scope=col>&lt;int&gt;</th><th scope=col>&lt;int&gt;</th><th scope=col>&lt;int&gt;</th><th scope=col>&lt;dbl&gt;</th><th scope=col>&lt;chr&gt;</th><th scope=col>&lt;chr&gt;</th></tr>\n",
       "</thead>\n",
       "<tbody>\n",
       "\t<tr><td>2013</td><td>1</td><td>1</td><td>517</td><td> 830</td><td>227</td><td>EWR</td><td>IAH</td></tr>\n",
       "\t<tr><td>2013</td><td>1</td><td>1</td><td>533</td><td> 850</td><td>227</td><td>LGA</td><td>IAH</td></tr>\n",
       "\t<tr><td>2013</td><td>1</td><td>1</td><td>542</td><td> 923</td><td>160</td><td>JFK</td><td>MIA</td></tr>\n",
       "\t<tr><td>2013</td><td>1</td><td>1</td><td>544</td><td>1004</td><td>183</td><td>JFK</td><td>BQN</td></tr>\n",
       "\t<tr><td>2013</td><td>1</td><td>1</td><td>554</td><td> 812</td><td>116</td><td>LGA</td><td>ATL</td></tr>\n",
       "\t<tr><td>2013</td><td>1</td><td>1</td><td>554</td><td> 740</td><td>150</td><td>EWR</td><td>ORD</td></tr>\n",
       "</tbody>\n",
       "</table>\n"
      ],
      "text/latex": [
       "A tibble: 6 × 8\n",
       "\\begin{tabular}{llllllll}\n",
       " year & month & day & dep\\_time & arr\\_time & air\\_time & origin & dest\\\\\n",
       " <int> & <int> & <int> & <int> & <int> & <dbl> & <chr> & <chr>\\\\\n",
       "\\hline\n",
       "\t 2013 & 1 & 1 & 517 &  830 & 227 & EWR & IAH\\\\\n",
       "\t 2013 & 1 & 1 & 533 &  850 & 227 & LGA & IAH\\\\\n",
       "\t 2013 & 1 & 1 & 542 &  923 & 160 & JFK & MIA\\\\\n",
       "\t 2013 & 1 & 1 & 544 & 1004 & 183 & JFK & BQN\\\\\n",
       "\t 2013 & 1 & 1 & 554 &  812 & 116 & LGA & ATL\\\\\n",
       "\t 2013 & 1 & 1 & 554 &  740 & 150 & EWR & ORD\\\\\n",
       "\\end{tabular}\n"
      ],
      "text/markdown": [
       "\n",
       "A tibble: 6 × 8\n",
       "\n",
       "| year &lt;int&gt; | month &lt;int&gt; | day &lt;int&gt; | dep_time &lt;int&gt; | arr_time &lt;int&gt; | air_time &lt;dbl&gt; | origin &lt;chr&gt; | dest &lt;chr&gt; |\n",
       "|---|---|---|---|---|---|---|---|\n",
       "| 2013 | 1 | 1 | 517 |  830 | 227 | EWR | IAH |\n",
       "| 2013 | 1 | 1 | 533 |  850 | 227 | LGA | IAH |\n",
       "| 2013 | 1 | 1 | 542 |  923 | 160 | JFK | MIA |\n",
       "| 2013 | 1 | 1 | 544 | 1004 | 183 | JFK | BQN |\n",
       "| 2013 | 1 | 1 | 554 |  812 | 116 | LGA | ATL |\n",
       "| 2013 | 1 | 1 | 554 |  740 | 150 | EWR | ORD |\n",
       "\n"
      ],
      "text/plain": [
       "  year month day dep_time arr_time air_time origin dest\n",
       "1 2013 1     1   517       830     227      EWR    IAH \n",
       "2 2013 1     1   533       850     227      LGA    IAH \n",
       "3 2013 1     1   542       923     160      JFK    MIA \n",
       "4 2013 1     1   544      1004     183      JFK    BQN \n",
       "5 2013 1     1   554       812     116      LGA    ATL \n",
       "6 2013 1     1   554       740     150      EWR    ORD "
      ]
     },
     "metadata": {},
     "output_type": "display_data"
    }
   ],
   "source": [
    "flights %>% select(year:day, dep_time, arr_time, air_time, origin, dest) %>% head()"
   ]
  },
  {
   "cell_type": "markdown",
   "metadata": {},
   "source": [
    "The above code basically select the variables that we are interested in and save it into the object `my_flights`.  \n",
    "\n",
    "Additional variable can be added using the `mutate()` function. We already have an `air_time` variable. Let us compute the total time for the flight by subtracting the time of departure `dep_time` from time of arrival `arr_time`."
   ]
  },
  {
   "cell_type": "code",
   "execution_count": 5,
   "metadata": {},
   "outputs": [
    {
     "data": {
      "text/html": [
       "<table class=\"dataframe\">\n",
       "<caption>A tibble: 6 × 9</caption>\n",
       "<thead>\n",
       "\t<tr><th scope=col>year</th><th scope=col>month</th><th scope=col>day</th><th scope=col>dep_time</th><th scope=col>arr_time</th><th scope=col>air_time</th><th scope=col>origin</th><th scope=col>dest</th><th scope=col>total_time</th></tr>\n",
       "\t<tr><th scope=col>&lt;int&gt;</th><th scope=col>&lt;int&gt;</th><th scope=col>&lt;int&gt;</th><th scope=col>&lt;int&gt;</th><th scope=col>&lt;int&gt;</th><th scope=col>&lt;dbl&gt;</th><th scope=col>&lt;chr&gt;</th><th scope=col>&lt;chr&gt;</th><th scope=col>&lt;int&gt;</th></tr>\n",
       "</thead>\n",
       "<tbody>\n",
       "\t<tr><td>2013</td><td>1</td><td>1</td><td>517</td><td> 830</td><td>227</td><td>EWR</td><td>IAH</td><td>313</td></tr>\n",
       "\t<tr><td>2013</td><td>1</td><td>1</td><td>533</td><td> 850</td><td>227</td><td>LGA</td><td>IAH</td><td>317</td></tr>\n",
       "\t<tr><td>2013</td><td>1</td><td>1</td><td>542</td><td> 923</td><td>160</td><td>JFK</td><td>MIA</td><td>381</td></tr>\n",
       "\t<tr><td>2013</td><td>1</td><td>1</td><td>544</td><td>1004</td><td>183</td><td>JFK</td><td>BQN</td><td>460</td></tr>\n",
       "\t<tr><td>2013</td><td>1</td><td>1</td><td>554</td><td> 812</td><td>116</td><td>LGA</td><td>ATL</td><td>258</td></tr>\n",
       "\t<tr><td>2013</td><td>1</td><td>1</td><td>554</td><td> 740</td><td>150</td><td>EWR</td><td>ORD</td><td>186</td></tr>\n",
       "</tbody>\n",
       "</table>\n"
      ],
      "text/latex": [
       "A tibble: 6 × 9\n",
       "\\begin{tabular}{lllllllll}\n",
       " year & month & day & dep\\_time & arr\\_time & air\\_time & origin & dest & total\\_time\\\\\n",
       " <int> & <int> & <int> & <int> & <int> & <dbl> & <chr> & <chr> & <int>\\\\\n",
       "\\hline\n",
       "\t 2013 & 1 & 1 & 517 &  830 & 227 & EWR & IAH & 313\\\\\n",
       "\t 2013 & 1 & 1 & 533 &  850 & 227 & LGA & IAH & 317\\\\\n",
       "\t 2013 & 1 & 1 & 542 &  923 & 160 & JFK & MIA & 381\\\\\n",
       "\t 2013 & 1 & 1 & 544 & 1004 & 183 & JFK & BQN & 460\\\\\n",
       "\t 2013 & 1 & 1 & 554 &  812 & 116 & LGA & ATL & 258\\\\\n",
       "\t 2013 & 1 & 1 & 554 &  740 & 150 & EWR & ORD & 186\\\\\n",
       "\\end{tabular}\n"
      ],
      "text/markdown": [
       "\n",
       "A tibble: 6 × 9\n",
       "\n",
       "| year &lt;int&gt; | month &lt;int&gt; | day &lt;int&gt; | dep_time &lt;int&gt; | arr_time &lt;int&gt; | air_time &lt;dbl&gt; | origin &lt;chr&gt; | dest &lt;chr&gt; | total_time &lt;int&gt; |\n",
       "|---|---|---|---|---|---|---|---|---|\n",
       "| 2013 | 1 | 1 | 517 |  830 | 227 | EWR | IAH | 313 |\n",
       "| 2013 | 1 | 1 | 533 |  850 | 227 | LGA | IAH | 317 |\n",
       "| 2013 | 1 | 1 | 542 |  923 | 160 | JFK | MIA | 381 |\n",
       "| 2013 | 1 | 1 | 544 | 1004 | 183 | JFK | BQN | 460 |\n",
       "| 2013 | 1 | 1 | 554 |  812 | 116 | LGA | ATL | 258 |\n",
       "| 2013 | 1 | 1 | 554 |  740 | 150 | EWR | ORD | 186 |\n",
       "\n"
      ],
      "text/plain": [
       "  year month day dep_time arr_time air_time origin dest total_time\n",
       "1 2013 1     1   517       830     227      EWR    IAH  313       \n",
       "2 2013 1     1   533       850     227      LGA    IAH  317       \n",
       "3 2013 1     1   542       923     160      JFK    MIA  381       \n",
       "4 2013 1     1   544      1004     183      JFK    BQN  460       \n",
       "5 2013 1     1   554       812     116      LGA    ATL  258       \n",
       "6 2013 1     1   554       740     150      EWR    ORD  186       "
      ]
     },
     "metadata": {},
     "output_type": "display_data"
    }
   ],
   "source": [
    "mutate(my_flights, total_time = arr_time - dep_time) %>%\n",
    "    head()"
   ]
  },
  {
   "cell_type": "markdown",
   "metadata": {},
   "source": [
    "Another way to do the same thing is by using pipe twice"
   ]
  },
  {
   "cell_type": "code",
   "execution_count": 6,
   "metadata": {},
   "outputs": [
    {
     "data": {
      "text/html": [
       "<table class=\"dataframe\">\n",
       "<caption>A tibble: 6 × 9</caption>\n",
       "<thead>\n",
       "\t<tr><th scope=col>year</th><th scope=col>month</th><th scope=col>day</th><th scope=col>dep_time</th><th scope=col>arr_time</th><th scope=col>air_time</th><th scope=col>origin</th><th scope=col>dest</th><th scope=col>total_time</th></tr>\n",
       "\t<tr><th scope=col>&lt;int&gt;</th><th scope=col>&lt;int&gt;</th><th scope=col>&lt;int&gt;</th><th scope=col>&lt;int&gt;</th><th scope=col>&lt;int&gt;</th><th scope=col>&lt;dbl&gt;</th><th scope=col>&lt;chr&gt;</th><th scope=col>&lt;chr&gt;</th><th scope=col>&lt;int&gt;</th></tr>\n",
       "</thead>\n",
       "<tbody>\n",
       "\t<tr><td>2013</td><td>1</td><td>1</td><td>517</td><td> 830</td><td>227</td><td>EWR</td><td>IAH</td><td>313</td></tr>\n",
       "\t<tr><td>2013</td><td>1</td><td>1</td><td>533</td><td> 850</td><td>227</td><td>LGA</td><td>IAH</td><td>317</td></tr>\n",
       "\t<tr><td>2013</td><td>1</td><td>1</td><td>542</td><td> 923</td><td>160</td><td>JFK</td><td>MIA</td><td>381</td></tr>\n",
       "\t<tr><td>2013</td><td>1</td><td>1</td><td>544</td><td>1004</td><td>183</td><td>JFK</td><td>BQN</td><td>460</td></tr>\n",
       "\t<tr><td>2013</td><td>1</td><td>1</td><td>554</td><td> 812</td><td>116</td><td>LGA</td><td>ATL</td><td>258</td></tr>\n",
       "\t<tr><td>2013</td><td>1</td><td>1</td><td>554</td><td> 740</td><td>150</td><td>EWR</td><td>ORD</td><td>186</td></tr>\n",
       "</tbody>\n",
       "</table>\n"
      ],
      "text/latex": [
       "A tibble: 6 × 9\n",
       "\\begin{tabular}{lllllllll}\n",
       " year & month & day & dep\\_time & arr\\_time & air\\_time & origin & dest & total\\_time\\\\\n",
       " <int> & <int> & <int> & <int> & <int> & <dbl> & <chr> & <chr> & <int>\\\\\n",
       "\\hline\n",
       "\t 2013 & 1 & 1 & 517 &  830 & 227 & EWR & IAH & 313\\\\\n",
       "\t 2013 & 1 & 1 & 533 &  850 & 227 & LGA & IAH & 317\\\\\n",
       "\t 2013 & 1 & 1 & 542 &  923 & 160 & JFK & MIA & 381\\\\\n",
       "\t 2013 & 1 & 1 & 544 & 1004 & 183 & JFK & BQN & 460\\\\\n",
       "\t 2013 & 1 & 1 & 554 &  812 & 116 & LGA & ATL & 258\\\\\n",
       "\t 2013 & 1 & 1 & 554 &  740 & 150 & EWR & ORD & 186\\\\\n",
       "\\end{tabular}\n"
      ],
      "text/markdown": [
       "\n",
       "A tibble: 6 × 9\n",
       "\n",
       "| year &lt;int&gt; | month &lt;int&gt; | day &lt;int&gt; | dep_time &lt;int&gt; | arr_time &lt;int&gt; | air_time &lt;dbl&gt; | origin &lt;chr&gt; | dest &lt;chr&gt; | total_time &lt;int&gt; |\n",
       "|---|---|---|---|---|---|---|---|---|\n",
       "| 2013 | 1 | 1 | 517 |  830 | 227 | EWR | IAH | 313 |\n",
       "| 2013 | 1 | 1 | 533 |  850 | 227 | LGA | IAH | 317 |\n",
       "| 2013 | 1 | 1 | 542 |  923 | 160 | JFK | MIA | 381 |\n",
       "| 2013 | 1 | 1 | 544 | 1004 | 183 | JFK | BQN | 460 |\n",
       "| 2013 | 1 | 1 | 554 |  812 | 116 | LGA | ATL | 258 |\n",
       "| 2013 | 1 | 1 | 554 |  740 | 150 | EWR | ORD | 186 |\n",
       "\n"
      ],
      "text/plain": [
       "  year month day dep_time arr_time air_time origin dest total_time\n",
       "1 2013 1     1   517       830     227      EWR    IAH  313       \n",
       "2 2013 1     1   533       850     227      LGA    IAH  317       \n",
       "3 2013 1     1   542       923     160      JFK    MIA  381       \n",
       "4 2013 1     1   544      1004     183      JFK    BQN  460       \n",
       "5 2013 1     1   554       812     116      LGA    ATL  258       \n",
       "6 2013 1     1   554       740     150      EWR    ORD  186       "
      ]
     },
     "metadata": {},
     "output_type": "display_data"
    }
   ],
   "source": [
    "flights %>% mutate(total_time = arr_time - dep_time) %>% \n",
    "            select(year, month, day, dep_time, arr_time, air_time, origin, dest, total_time) %>% head()"
   ]
  },
  {
   "cell_type": "markdown",
   "metadata": {},
   "source": [
    "We notice something odd though. When we subtract 5h 17m from 8h 30m we should get 3h 13m, i.e. 193 minutes. But instead we get 313 minutes below."
   ]
  },
  {
   "cell_type": "markdown",
   "metadata": {},
   "source": [
    "The issue is that `dep_time` and `arr_time` are in the hour-minute notation, so you cannot add and subtract them like regular numbers. We should first convert these times into the number of minutes elapsed since midnight.\n",
    "\n",
    "We want add to new variables `new_dep` and `new_arr` but we need to write a function first that can do the conversion. The function is given below; we'll learn how it works later in the semester. For now just think of it as a black box that converts times from one format to another."
   ]
  },
  {
   "cell_type": "code",
   "execution_count": 7,
   "metadata": {},
   "outputs": [],
   "source": [
    "hourmin2min <- function(hourmin) {\n",
    "    min <- hourmin %% 100 # quotient after division by 100\n",
    "    hour <- (hourmin - min) %/% 100 # remainder after division by 100\n",
    "    return(60*hour + min)\n",
    "} "
   ]
  },
  {
   "cell_type": "markdown",
   "metadata": {},
   "source": [
    "Let us test the function on 530. That's 5h 30min, i.e., 330 minutes since midnight."
   ]
  },
  {
   "cell_type": "code",
   "execution_count": 8,
   "metadata": {},
   "outputs": [
    {
     "data": {
      "text/html": [
       "330"
      ],
      "text/latex": [
       "330"
      ],
      "text/markdown": [
       "330"
      ],
      "text/plain": [
       "[1] 330"
      ]
     },
     "metadata": {},
     "output_type": "display_data"
    }
   ],
   "source": [
    "hourmin2min(530)"
   ]
  },
  {
   "cell_type": "markdown",
   "metadata": {},
   "source": [
    "The `hourmin2min` function is **vectorized**: given a vector, it outputs a vector."
   ]
  },
  {
   "cell_type": "code",
   "execution_count": 9,
   "metadata": {},
   "outputs": [
    {
     "data": {
      "text/html": [
       "<style>\n",
       ".list-inline {list-style: none; margin:0; padding: 0}\n",
       ".list-inline>li {display: inline-block}\n",
       ".list-inline>li:not(:last-child)::after {content: \"\\00b7\"; padding: 0 .5ex}\n",
       "</style>\n",
       "<ol class=list-inline><li>270</li><li>330</li><li>390</li><li>450</li></ol>\n"
      ],
      "text/latex": [
       "\\begin{enumerate*}\n",
       "\\item 270\n",
       "\\item 330\n",
       "\\item 390\n",
       "\\item 450\n",
       "\\end{enumerate*}\n"
      ],
      "text/markdown": [
       "1. 270\n",
       "2. 330\n",
       "3. 390\n",
       "4. 450\n",
       "\n",
       "\n"
      ],
      "text/plain": [
       "[1] 270 330 390 450"
      ]
     },
     "metadata": {},
     "output_type": "display_data"
    }
   ],
   "source": [
    "hourmin2min(c(430,530,630,730))"
   ]
  },
  {
   "cell_type": "markdown",
   "metadata": {},
   "source": [
    "Let us now create two new variables obtained from `arr_time` and `dep_time` by converting them into minutes since midnight. In the same command, we can also create a new `total_time` column containing their difference."
   ]
  },
  {
   "cell_type": "code",
   "execution_count": 10,
   "metadata": {},
   "outputs": [
    {
     "data": {
      "text/html": [
       "<table class=\"dataframe\">\n",
       "<caption>A tibble: 6 × 10</caption>\n",
       "<thead>\n",
       "\t<tr><th scope=col>year</th><th scope=col>month</th><th scope=col>day</th><th scope=col>dep_time</th><th scope=col>arr_time</th><th scope=col>air_time</th><th scope=col>origin</th><th scope=col>dest</th><th scope=col>new_arr</th><th scope=col>new_dep</th></tr>\n",
       "\t<tr><th scope=col>&lt;int&gt;</th><th scope=col>&lt;int&gt;</th><th scope=col>&lt;int&gt;</th><th scope=col>&lt;int&gt;</th><th scope=col>&lt;int&gt;</th><th scope=col>&lt;dbl&gt;</th><th scope=col>&lt;chr&gt;</th><th scope=col>&lt;chr&gt;</th><th scope=col>&lt;dbl&gt;</th><th scope=col>&lt;dbl&gt;</th></tr>\n",
       "</thead>\n",
       "<tbody>\n",
       "\t<tr><td>2013</td><td>1</td><td>1</td><td>517</td><td> 830</td><td>227</td><td>EWR</td><td>IAH</td><td>510</td><td>317</td></tr>\n",
       "\t<tr><td>2013</td><td>1</td><td>1</td><td>533</td><td> 850</td><td>227</td><td>LGA</td><td>IAH</td><td>530</td><td>333</td></tr>\n",
       "\t<tr><td>2013</td><td>1</td><td>1</td><td>542</td><td> 923</td><td>160</td><td>JFK</td><td>MIA</td><td>563</td><td>342</td></tr>\n",
       "\t<tr><td>2013</td><td>1</td><td>1</td><td>544</td><td>1004</td><td>183</td><td>JFK</td><td>BQN</td><td>604</td><td>344</td></tr>\n",
       "\t<tr><td>2013</td><td>1</td><td>1</td><td>554</td><td> 812</td><td>116</td><td>LGA</td><td>ATL</td><td>492</td><td>354</td></tr>\n",
       "\t<tr><td>2013</td><td>1</td><td>1</td><td>554</td><td> 740</td><td>150</td><td>EWR</td><td>ORD</td><td>460</td><td>354</td></tr>\n",
       "</tbody>\n",
       "</table>\n"
      ],
      "text/latex": [
       "A tibble: 6 × 10\n",
       "\\begin{tabular}{llllllllll}\n",
       " year & month & day & dep\\_time & arr\\_time & air\\_time & origin & dest & new\\_arr & new\\_dep\\\\\n",
       " <int> & <int> & <int> & <int> & <int> & <dbl> & <chr> & <chr> & <dbl> & <dbl>\\\\\n",
       "\\hline\n",
       "\t 2013 & 1 & 1 & 517 &  830 & 227 & EWR & IAH & 510 & 317\\\\\n",
       "\t 2013 & 1 & 1 & 533 &  850 & 227 & LGA & IAH & 530 & 333\\\\\n",
       "\t 2013 & 1 & 1 & 542 &  923 & 160 & JFK & MIA & 563 & 342\\\\\n",
       "\t 2013 & 1 & 1 & 544 & 1004 & 183 & JFK & BQN & 604 & 344\\\\\n",
       "\t 2013 & 1 & 1 & 554 &  812 & 116 & LGA & ATL & 492 & 354\\\\\n",
       "\t 2013 & 1 & 1 & 554 &  740 & 150 & EWR & ORD & 460 & 354\\\\\n",
       "\\end{tabular}\n"
      ],
      "text/markdown": [
       "\n",
       "A tibble: 6 × 10\n",
       "\n",
       "| year &lt;int&gt; | month &lt;int&gt; | day &lt;int&gt; | dep_time &lt;int&gt; | arr_time &lt;int&gt; | air_time &lt;dbl&gt; | origin &lt;chr&gt; | dest &lt;chr&gt; | new_arr &lt;dbl&gt; | new_dep &lt;dbl&gt; |\n",
       "|---|---|---|---|---|---|---|---|---|---|\n",
       "| 2013 | 1 | 1 | 517 |  830 | 227 | EWR | IAH | 510 | 317 |\n",
       "| 2013 | 1 | 1 | 533 |  850 | 227 | LGA | IAH | 530 | 333 |\n",
       "| 2013 | 1 | 1 | 542 |  923 | 160 | JFK | MIA | 563 | 342 |\n",
       "| 2013 | 1 | 1 | 544 | 1004 | 183 | JFK | BQN | 604 | 344 |\n",
       "| 2013 | 1 | 1 | 554 |  812 | 116 | LGA | ATL | 492 | 354 |\n",
       "| 2013 | 1 | 1 | 554 |  740 | 150 | EWR | ORD | 460 | 354 |\n",
       "\n"
      ],
      "text/plain": [
       "  year month day dep_time arr_time air_time origin dest new_arr new_dep\n",
       "1 2013 1     1   517       830     227      EWR    IAH  510     317    \n",
       "2 2013 1     1   533       850     227      LGA    IAH  530     333    \n",
       "3 2013 1     1   542       923     160      JFK    MIA  563     342    \n",
       "4 2013 1     1   544      1004     183      JFK    BQN  604     344    \n",
       "5 2013 1     1   554       812     116      LGA    ATL  492     354    \n",
       "6 2013 1     1   554       740     150      EWR    ORD  460     354    "
      ]
     },
     "metadata": {},
     "output_type": "display_data"
    }
   ],
   "source": [
    "my_flights_new <- mutate(my_flights, new_arr = hourmin2min(arr_time), new_dep = hourmin2min(dep_time))\n",
    "head(my_flights_new)"
   ]
  },
  {
   "cell_type": "markdown",
   "metadata": {},
   "source": [
    "Now we can subtract the departure time `new_dep` from the arrival time `new_arr` to get a new variable `total_time`."
   ]
  },
  {
   "cell_type": "code",
   "execution_count": 11,
   "metadata": {},
   "outputs": [
    {
     "data": {
      "text/html": [
       "<table class=\"dataframe\">\n",
       "<caption>A tibble: 6 × 11</caption>\n",
       "<thead>\n",
       "\t<tr><th scope=col>year</th><th scope=col>month</th><th scope=col>day</th><th scope=col>dep_time</th><th scope=col>arr_time</th><th scope=col>air_time</th><th scope=col>origin</th><th scope=col>dest</th><th scope=col>new_arr</th><th scope=col>new_dep</th><th scope=col>total_time</th></tr>\n",
       "\t<tr><th scope=col>&lt;int&gt;</th><th scope=col>&lt;int&gt;</th><th scope=col>&lt;int&gt;</th><th scope=col>&lt;int&gt;</th><th scope=col>&lt;int&gt;</th><th scope=col>&lt;dbl&gt;</th><th scope=col>&lt;chr&gt;</th><th scope=col>&lt;chr&gt;</th><th scope=col>&lt;dbl&gt;</th><th scope=col>&lt;dbl&gt;</th><th scope=col>&lt;dbl&gt;</th></tr>\n",
       "</thead>\n",
       "<tbody>\n",
       "\t<tr><td>2013</td><td>1</td><td>1</td><td>517</td><td> 830</td><td>227</td><td>EWR</td><td>IAH</td><td>510</td><td>317</td><td>193</td></tr>\n",
       "\t<tr><td>2013</td><td>1</td><td>1</td><td>533</td><td> 850</td><td>227</td><td>LGA</td><td>IAH</td><td>530</td><td>333</td><td>197</td></tr>\n",
       "\t<tr><td>2013</td><td>1</td><td>1</td><td>542</td><td> 923</td><td>160</td><td>JFK</td><td>MIA</td><td>563</td><td>342</td><td>221</td></tr>\n",
       "\t<tr><td>2013</td><td>1</td><td>1</td><td>544</td><td>1004</td><td>183</td><td>JFK</td><td>BQN</td><td>604</td><td>344</td><td>260</td></tr>\n",
       "\t<tr><td>2013</td><td>1</td><td>1</td><td>554</td><td> 812</td><td>116</td><td>LGA</td><td>ATL</td><td>492</td><td>354</td><td>138</td></tr>\n",
       "\t<tr><td>2013</td><td>1</td><td>1</td><td>554</td><td> 740</td><td>150</td><td>EWR</td><td>ORD</td><td>460</td><td>354</td><td>106</td></tr>\n",
       "</tbody>\n",
       "</table>\n"
      ],
      "text/latex": [
       "A tibble: 6 × 11\n",
       "\\begin{tabular}{lllllllllll}\n",
       " year & month & day & dep\\_time & arr\\_time & air\\_time & origin & dest & new\\_arr & new\\_dep & total\\_time\\\\\n",
       " <int> & <int> & <int> & <int> & <int> & <dbl> & <chr> & <chr> & <dbl> & <dbl> & <dbl>\\\\\n",
       "\\hline\n",
       "\t 2013 & 1 & 1 & 517 &  830 & 227 & EWR & IAH & 510 & 317 & 193\\\\\n",
       "\t 2013 & 1 & 1 & 533 &  850 & 227 & LGA & IAH & 530 & 333 & 197\\\\\n",
       "\t 2013 & 1 & 1 & 542 &  923 & 160 & JFK & MIA & 563 & 342 & 221\\\\\n",
       "\t 2013 & 1 & 1 & 544 & 1004 & 183 & JFK & BQN & 604 & 344 & 260\\\\\n",
       "\t 2013 & 1 & 1 & 554 &  812 & 116 & LGA & ATL & 492 & 354 & 138\\\\\n",
       "\t 2013 & 1 & 1 & 554 &  740 & 150 & EWR & ORD & 460 & 354 & 106\\\\\n",
       "\\end{tabular}\n"
      ],
      "text/markdown": [
       "\n",
       "A tibble: 6 × 11\n",
       "\n",
       "| year &lt;int&gt; | month &lt;int&gt; | day &lt;int&gt; | dep_time &lt;int&gt; | arr_time &lt;int&gt; | air_time &lt;dbl&gt; | origin &lt;chr&gt; | dest &lt;chr&gt; | new_arr &lt;dbl&gt; | new_dep &lt;dbl&gt; | total_time &lt;dbl&gt; |\n",
       "|---|---|---|---|---|---|---|---|---|---|---|\n",
       "| 2013 | 1 | 1 | 517 |  830 | 227 | EWR | IAH | 510 | 317 | 193 |\n",
       "| 2013 | 1 | 1 | 533 |  850 | 227 | LGA | IAH | 530 | 333 | 197 |\n",
       "| 2013 | 1 | 1 | 542 |  923 | 160 | JFK | MIA | 563 | 342 | 221 |\n",
       "| 2013 | 1 | 1 | 544 | 1004 | 183 | JFK | BQN | 604 | 344 | 260 |\n",
       "| 2013 | 1 | 1 | 554 |  812 | 116 | LGA | ATL | 492 | 354 | 138 |\n",
       "| 2013 | 1 | 1 | 554 |  740 | 150 | EWR | ORD | 460 | 354 | 106 |\n",
       "\n"
      ],
      "text/plain": [
       "  year month day dep_time arr_time air_time origin dest new_arr new_dep\n",
       "1 2013 1     1   517       830     227      EWR    IAH  510     317    \n",
       "2 2013 1     1   533       850     227      LGA    IAH  530     333    \n",
       "3 2013 1     1   542       923     160      JFK    MIA  563     342    \n",
       "4 2013 1     1   544      1004     183      JFK    BQN  604     344    \n",
       "5 2013 1     1   554       812     116      LGA    ATL  492     354    \n",
       "6 2013 1     1   554       740     150      EWR    ORD  460     354    \n",
       "  total_time\n",
       "1 193       \n",
       "2 197       \n",
       "3 221       \n",
       "4 260       \n",
       "5 138       \n",
       "6 106       "
      ]
     },
     "metadata": {},
     "output_type": "display_data"
    }
   ],
   "source": [
    "my_flights_total <- mutate(my_flights_new, total_time = new_arr - new_dep)\n",
    "head(my_flights_total)"
   ]
  },
  {
   "cell_type": "markdown",
   "metadata": {},
   "source": [
    "Let us try to do the same thing using pipe just using one line of code.  In this code, we are only interested in the following variables -- `dep_time`, `arr_time`, `new_dep`, `new_arr`, and `total_time`.  "
   ]
  },
  {
   "cell_type": "code",
   "execution_count": 12,
   "metadata": {},
   "outputs": [
    {
     "data": {
      "text/html": [
       "<table class=\"dataframe\">\n",
       "<caption>A tibble: 6 × 5</caption>\n",
       "<thead>\n",
       "\t<tr><th scope=col>dep_time</th><th scope=col>arr_time</th><th scope=col>new_dep</th><th scope=col>new_arr</th><th scope=col>total_time</th></tr>\n",
       "\t<tr><th scope=col>&lt;int&gt;</th><th scope=col>&lt;int&gt;</th><th scope=col>&lt;dbl&gt;</th><th scope=col>&lt;dbl&gt;</th><th scope=col>&lt;dbl&gt;</th></tr>\n",
       "</thead>\n",
       "<tbody>\n",
       "\t<tr><td>517</td><td> 830</td><td>317</td><td>510</td><td>193</td></tr>\n",
       "\t<tr><td>533</td><td> 850</td><td>333</td><td>530</td><td>197</td></tr>\n",
       "\t<tr><td>542</td><td> 923</td><td>342</td><td>563</td><td>221</td></tr>\n",
       "\t<tr><td>544</td><td>1004</td><td>344</td><td>604</td><td>260</td></tr>\n",
       "\t<tr><td>554</td><td> 812</td><td>354</td><td>492</td><td>138</td></tr>\n",
       "\t<tr><td>554</td><td> 740</td><td>354</td><td>460</td><td>106</td></tr>\n",
       "</tbody>\n",
       "</table>\n"
      ],
      "text/latex": [
       "A tibble: 6 × 5\n",
       "\\begin{tabular}{lllll}\n",
       " dep\\_time & arr\\_time & new\\_dep & new\\_arr & total\\_time\\\\\n",
       " <int> & <int> & <dbl> & <dbl> & <dbl>\\\\\n",
       "\\hline\n",
       "\t 517 &  830 & 317 & 510 & 193\\\\\n",
       "\t 533 &  850 & 333 & 530 & 197\\\\\n",
       "\t 542 &  923 & 342 & 563 & 221\\\\\n",
       "\t 544 & 1004 & 344 & 604 & 260\\\\\n",
       "\t 554 &  812 & 354 & 492 & 138\\\\\n",
       "\t 554 &  740 & 354 & 460 & 106\\\\\n",
       "\\end{tabular}\n"
      ],
      "text/markdown": [
       "\n",
       "A tibble: 6 × 5\n",
       "\n",
       "| dep_time &lt;int&gt; | arr_time &lt;int&gt; | new_dep &lt;dbl&gt; | new_arr &lt;dbl&gt; | total_time &lt;dbl&gt; |\n",
       "|---|---|---|---|---|\n",
       "| 517 |  830 | 317 | 510 | 193 |\n",
       "| 533 |  850 | 333 | 530 | 197 |\n",
       "| 542 |  923 | 342 | 563 | 221 |\n",
       "| 544 | 1004 | 344 | 604 | 260 |\n",
       "| 554 |  812 | 354 | 492 | 138 |\n",
       "| 554 |  740 | 354 | 460 | 106 |\n",
       "\n"
      ],
      "text/plain": [
       "  dep_time arr_time new_dep new_arr total_time\n",
       "1 517       830     317     510     193       \n",
       "2 533       850     333     530     197       \n",
       "3 542       923     342     563     221       \n",
       "4 544      1004     344     604     260       \n",
       "5 554       812     354     492     138       \n",
       "6 554       740     354     460     106       "
      ]
     },
     "metadata": {},
     "output_type": "display_data"
    }
   ],
   "source": [
    " mutate(flights, new_arr = hourmin2min(arr_time), new_dep = hourmin2min(dep_time),total_time = new_arr - new_dep\n",
    ") %>% select(dep_time, arr_time, new_dep, new_arr, total_time) %>% head()"
   ]
  },
  {
   "cell_type": "markdown",
   "metadata": {},
   "source": [
    "## Up Next - Summarize Function and Case Study on Data Manipulation"
   ]
  },
  {
   "cell_type": "markdown",
   "metadata": {},
   "source": [
    "Let's now review some tools that we have learnt.  Specifically, we have learnt the function:\n",
    "* `filter`\n",
    "* `arrange`\n",
    "* `select` "
   ]
  },
  {
   "cell_type": "markdown",
   "metadata": {},
   "source": [
    "### Exercise\n",
    "\n",
    "<table class=\"table-condensed\">\n",
    "    <tr><th>Beginner</th><th>Advanced</th></tr>\n",
    "    <tr><td>How many flights were there in \n",
    "        months beginning with the letter <code>J</code>?</td>\n",
    "        <td>How many flights departed on a Monday?</td>\n",
    "    </tr>\n",
    "<tr><td>\n",
    "\n",
    "1. 27,004\n",
    "2. 57,668\n",
    "3. 84,672\n",
    "4. 93,101\n",
    "\n",
    "</td><td>\n",
    "\n",
    "1. 46,537\n",
    "2. 51,812\n",
    "3. 80,100\n",
    "4. 101,991\n",
    "\n",
    "</td>\n",
    "    </tr></table>"
   ]
  },
  {
   "cell_type": "code",
   "execution_count": 11,
   "metadata": {},
   "outputs": [
    {
     "data": {
      "text/html": [
       "84672"
      ],
      "text/latex": [
       "84672"
      ],
      "text/markdown": [
       "84672"
      ],
      "text/plain": [
       "[1] 84672"
      ]
     },
     "metadata": {},
     "output_type": "display_data"
    }
   ],
   "source": [
    "nrow(filter(flights, month %in% which(substr(month.name,0,1) == \"J\")))\n",
    "\n"
   ]
  },
  {
   "cell_type": "markdown",
   "metadata": {},
   "source": [
    "### Exercise\n",
    "\n",
    "<table class=\"table-condensed\">\n",
    "    <tr><th>Beginner</th><th>Advanced</th></tr>\n",
    "    <tr><td>\n",
    "What proportion of the flights have a missing departure time?\n",
    "        </td>\n",
    "        <td>\n",
    "Of all the flights that departed in the first week of January, how many have a missing departure time?\n",
    "        </td>\n",
    "    </tr>\n",
    "<tr><td>\n",
    "\n",
    "1. 0.003\n",
    "2. 0.025\n",
    "3. 0.081\n",
    "4. 0.105\n",
    "\n",
    "\n",
    "</td><td>\n",
    "\n",
    "1. None\n",
    "2. 35\n",
    "3. 101\n",
    "4. 6,064\n",
    "\n",
    "</td>\n",
    "    </tr></table>\n",
    "    "
   ]
  },
  {
   "cell_type": "code",
   "execution_count": 3,
   "metadata": {},
   "outputs": [
    {
     "name": "stdout",
     "output_type": "stream",
     "text": [
      "\u001b[38;5;246m# A tibble: 8,255 x 19\u001b[39m\n",
      "    year month   day dep_time sched_dep_time dep_delay arr_time sched_arr_time\n",
      "   \u001b[3m\u001b[38;5;246m<int>\u001b[39m\u001b[23m \u001b[3m\u001b[38;5;246m<int>\u001b[39m\u001b[23m \u001b[3m\u001b[38;5;246m<int>\u001b[39m\u001b[23m    \u001b[3m\u001b[38;5;246m<int>\u001b[39m\u001b[23m          \u001b[3m\u001b[38;5;246m<int>\u001b[39m\u001b[23m     \u001b[3m\u001b[38;5;246m<dbl>\u001b[39m\u001b[23m    \u001b[3m\u001b[38;5;246m<int>\u001b[39m\u001b[23m          \u001b[3m\u001b[38;5;246m<int>\u001b[39m\u001b[23m\n",
      "\u001b[38;5;250m 1\u001b[39m  \u001b[4m2\u001b[24m013     1     1       \u001b[31mNA\u001b[39m           \u001b[4m1\u001b[24m630        \u001b[31mNA\u001b[39m       \u001b[31mNA\u001b[39m           \u001b[4m1\u001b[24m815\n",
      "\u001b[38;5;250m 2\u001b[39m  \u001b[4m2\u001b[24m013     1     1       \u001b[31mNA\u001b[39m           \u001b[4m1\u001b[24m935        \u001b[31mNA\u001b[39m       \u001b[31mNA\u001b[39m           \u001b[4m2\u001b[24m240\n",
      "\u001b[38;5;250m 3\u001b[39m  \u001b[4m2\u001b[24m013     1     1       \u001b[31mNA\u001b[39m           \u001b[4m1\u001b[24m500        \u001b[31mNA\u001b[39m       \u001b[31mNA\u001b[39m           \u001b[4m1\u001b[24m825\n",
      "\u001b[38;5;250m 4\u001b[39m  \u001b[4m2\u001b[24m013     1     1       \u001b[31mNA\u001b[39m            600        \u001b[31mNA\u001b[39m       \u001b[31mNA\u001b[39m            901\n",
      "\u001b[38;5;250m 5\u001b[39m  \u001b[4m2\u001b[24m013     1     2       \u001b[31mNA\u001b[39m           \u001b[4m1\u001b[24m540        \u001b[31mNA\u001b[39m       \u001b[31mNA\u001b[39m           \u001b[4m1\u001b[24m747\n",
      "\u001b[38;5;250m 6\u001b[39m  \u001b[4m2\u001b[24m013     1     2       \u001b[31mNA\u001b[39m           \u001b[4m1\u001b[24m620        \u001b[31mNA\u001b[39m       \u001b[31mNA\u001b[39m           \u001b[4m1\u001b[24m746\n",
      "\u001b[38;5;250m 7\u001b[39m  \u001b[4m2\u001b[24m013     1     2       \u001b[31mNA\u001b[39m           \u001b[4m1\u001b[24m355        \u001b[31mNA\u001b[39m       \u001b[31mNA\u001b[39m           \u001b[4m1\u001b[24m459\n",
      "\u001b[38;5;250m 8\u001b[39m  \u001b[4m2\u001b[24m013     1     2       \u001b[31mNA\u001b[39m           \u001b[4m1\u001b[24m420        \u001b[31mNA\u001b[39m       \u001b[31mNA\u001b[39m           \u001b[4m1\u001b[24m644\n",
      "\u001b[38;5;250m 9\u001b[39m  \u001b[4m2\u001b[24m013     1     2       \u001b[31mNA\u001b[39m           \u001b[4m1\u001b[24m321        \u001b[31mNA\u001b[39m       \u001b[31mNA\u001b[39m           \u001b[4m1\u001b[24m536\n",
      "\u001b[38;5;250m10\u001b[39m  \u001b[4m2\u001b[24m013     1     2       \u001b[31mNA\u001b[39m           \u001b[4m1\u001b[24m545        \u001b[31mNA\u001b[39m       \u001b[31mNA\u001b[39m           \u001b[4m1\u001b[24m910\n",
      "\u001b[38;5;246m# … with 8,245 more rows, and 11 more variables: arr_delay \u001b[3m\u001b[38;5;246m<dbl>\u001b[38;5;246m\u001b[23m,\u001b[39m\n",
      "\u001b[38;5;246m#   carrier \u001b[3m\u001b[38;5;246m<chr>\u001b[38;5;246m\u001b[23m, flight \u001b[3m\u001b[38;5;246m<int>\u001b[38;5;246m\u001b[23m, tailnum \u001b[3m\u001b[38;5;246m<chr>\u001b[38;5;246m\u001b[23m, origin \u001b[3m\u001b[38;5;246m<chr>\u001b[38;5;246m\u001b[23m, dest \u001b[3m\u001b[38;5;246m<chr>\u001b[38;5;246m\u001b[23m,\u001b[39m\n",
      "\u001b[38;5;246m#   air_time \u001b[3m\u001b[38;5;246m<dbl>\u001b[38;5;246m\u001b[23m, distance \u001b[3m\u001b[38;5;246m<dbl>\u001b[38;5;246m\u001b[23m, hour \u001b[3m\u001b[38;5;246m<dbl>\u001b[38;5;246m\u001b[23m, minute \u001b[3m\u001b[38;5;246m<dbl>\u001b[38;5;246m\u001b[23m, time_hour \u001b[3m\u001b[38;5;246m<dttm>\u001b[38;5;246m\u001b[23m\u001b[39m\n"
     ]
    },
    {
     "data": {
      "text/html": [
       "0.0245118416989334"
      ],
      "text/latex": [
       "0.0245118416989334"
      ],
      "text/markdown": [
       "0.0245118416989334"
      ],
      "text/plain": [
       "[1] 0.02451184"
      ]
     },
     "metadata": {},
     "output_type": "display_data"
    }
   ],
   "source": [
    "#  Beginner question\n",
    "print(filter(flights, is.na(dep_time)))\n",
    "8255 / nrow(flights)"
   ]
  },
  {
   "cell_type": "code",
   "execution_count": 4,
   "metadata": {},
   "outputs": [
    {
     "data": {
      "text/html": [
       "35"
      ],
      "text/latex": [
       "35"
      ],
      "text/markdown": [
       "35"
      ],
      "text/plain": [
       "[1] 35"
      ]
     },
     "metadata": {},
     "output_type": "display_data"
    }
   ],
   "source": [
    "# Advanced question\n",
    "nrow(filter(flights, is.na(dep_time), month==1, between(day,1,7)))\n"
   ]
  },
  {
   "cell_type": "markdown",
   "metadata": {},
   "source": [
    "### Exercise\n",
    "\n",
    "<table class=\"table-condensed\">\n",
    "    <tr><th>Beginner</th><th>Advanced</th></tr>\n",
    "    <tr><td>\n",
    "        What time did the first flight depart on the last day in February?\n",
    "<td>\n",
    " \n",
    " Of all the flights that departed on or ahead of schedule in the first 15 days of any month, which one was in the air for the *second* shortest amount of time?\n",
    "\n",
    "</td>\n",
    "    </tr>\n",
    "<tr><td>\n",
    "\n",
    "1. 4:15am\n",
    "2. 4:57am\n",
    "3. 5:01am\n",
    "4. 5:40am\n",
    "\n",
    "</td><td>\n",
    "\n",
    "1. EV 4118\n",
    "2. HA 51\n",
    "3. EV 4631\n",
    "4. EV 4619\n",
    "\n",
    "</td>\n",
    "    </tr></table>"
   ]
  },
  {
   "cell_type": "code",
   "execution_count": 5,
   "metadata": {},
   "outputs": [
    {
     "name": "stdout",
     "output_type": "stream",
     "text": [
      "\u001b[38;5;246m# A tibble: 5 x 19\u001b[39m\n",
      "   year month   day dep_time sched_dep_time dep_delay arr_time sched_arr_time\n",
      "  \u001b[3m\u001b[38;5;246m<int>\u001b[39m\u001b[23m \u001b[3m\u001b[38;5;246m<int>\u001b[39m\u001b[23m \u001b[3m\u001b[38;5;246m<int>\u001b[39m\u001b[23m    \u001b[3m\u001b[38;5;246m<int>\u001b[39m\u001b[23m          \u001b[3m\u001b[38;5;246m<int>\u001b[39m\u001b[23m     \u001b[3m\u001b[38;5;246m<dbl>\u001b[39m\u001b[23m    \u001b[3m\u001b[38;5;246m<int>\u001b[39m\u001b[23m          \u001b[3m\u001b[38;5;246m<int>\u001b[39m\u001b[23m\n",
      "\u001b[38;5;250m1\u001b[39m  \u001b[4m2\u001b[24m013     2    28      457            500        -\u001b[31m3\u001b[39m      639            648\n",
      "\u001b[38;5;250m2\u001b[39m  \u001b[4m2\u001b[24m013     2    28      458            501        -\u001b[31m3\u001b[39m      748            800\n",
      "\u001b[38;5;250m3\u001b[39m  \u001b[4m2\u001b[24m013     2    28      522            530        -\u001b[31m8\u001b[39m      832            831\n",
      "\u001b[38;5;250m4\u001b[39m  \u001b[4m2\u001b[24m013     2    28      539            540        -\u001b[31m1\u001b[39m      836            850\n",
      "\u001b[38;5;250m5\u001b[39m  \u001b[4m2\u001b[24m013     2    28      540            545        -\u001b[31m5\u001b[39m     \u001b[4m1\u001b[24m015           \u001b[4m1\u001b[24m023\n",
      "\u001b[38;5;246m# … with 11 more variables: arr_delay \u001b[3m\u001b[38;5;246m<dbl>\u001b[38;5;246m\u001b[23m, carrier \u001b[3m\u001b[38;5;246m<chr>\u001b[38;5;246m\u001b[23m, flight \u001b[3m\u001b[38;5;246m<int>\u001b[38;5;246m\u001b[23m,\u001b[39m\n",
      "\u001b[38;5;246m#   tailnum \u001b[3m\u001b[38;5;246m<chr>\u001b[38;5;246m\u001b[23m, origin \u001b[3m\u001b[38;5;246m<chr>\u001b[38;5;246m\u001b[23m, dest \u001b[3m\u001b[38;5;246m<chr>\u001b[38;5;246m\u001b[23m, air_time \u001b[3m\u001b[38;5;246m<dbl>\u001b[38;5;246m\u001b[23m, distance \u001b[3m\u001b[38;5;246m<dbl>\u001b[38;5;246m\u001b[23m,\u001b[39m\n",
      "\u001b[38;5;246m#   hour \u001b[3m\u001b[38;5;246m<dbl>\u001b[38;5;246m\u001b[23m, minute \u001b[3m\u001b[38;5;246m<dbl>\u001b[38;5;246m\u001b[23m, time_hour \u001b[3m\u001b[38;5;246m<dttm>\u001b[38;5;246m\u001b[23m\u001b[39m\n"
     ]
    }
   ],
   "source": [
    "# Beginner\n",
    "answer <- arrange(filter(flights, month == 2),\n",
    "      desc(day),\n",
    "      dep_time)\n",
    "print(slice(answer, 1:5))"
   ]
  },
  {
   "cell_type": "markdown",
   "metadata": {},
   "source": [
    "### Exercise\n",
    "\n",
    "<table class=\"table-condensed\">\n",
    "    <tr><th>Beginner</th><th>Advanced</th></tr>\n",
    "    <tr><td>\n",
    "        How many columns in flights contain the word time?\n",
    "<td>\n",
    "    \n",
    "How many column names in flights do *not* contain `s`?\n",
    "\n",
    "</td>\n",
    "    </tr>\n",
    "<tr>\n",
    "    </tr></table>"
   ]
  },
  {
   "cell_type": "code",
   "execution_count": 6,
   "metadata": {},
   "outputs": [
    {
     "data": {
      "text/html": [
       "6"
      ],
      "text/latex": [
       "6"
      ],
      "text/markdown": [
       "6"
      ],
      "text/plain": [
       "[1] 6"
      ]
     },
     "metadata": {},
     "output_type": "display_data"
    },
    {
     "data": {
      "text/html": [
       "<table>\n",
       "<caption>A tibble: 336776 × 6</caption>\n",
       "<thead>\n",
       "\t<tr><th scope=col>dep_time</th><th scope=col>sched_dep_time</th><th scope=col>arr_time</th><th scope=col>sched_arr_time</th><th scope=col>air_time</th><th scope=col>time_hour</th></tr>\n",
       "\t<tr><th scope=col>&lt;int&gt;</th><th scope=col>&lt;int&gt;</th><th scope=col>&lt;int&gt;</th><th scope=col>&lt;int&gt;</th><th scope=col>&lt;dbl&gt;</th><th scope=col>&lt;dttm&gt;</th></tr>\n",
       "</thead>\n",
       "<tbody>\n",
       "\t<tr><td>517</td><td>515</td><td> 830</td><td> 819</td><td>227</td><td>2013-01-01 05:00:00</td></tr>\n",
       "\t<tr><td>533</td><td>529</td><td> 850</td><td> 830</td><td>227</td><td>2013-01-01 05:00:00</td></tr>\n",
       "\t<tr><td>542</td><td>540</td><td> 923</td><td> 850</td><td>160</td><td>2013-01-01 05:00:00</td></tr>\n",
       "\t<tr><td>544</td><td>545</td><td>1004</td><td>1022</td><td>183</td><td>2013-01-01 05:00:00</td></tr>\n",
       "\t<tr><td>554</td><td>600</td><td> 812</td><td> 837</td><td>116</td><td>2013-01-01 06:00:00</td></tr>\n",
       "\t<tr><td>554</td><td>558</td><td> 740</td><td> 728</td><td>150</td><td>2013-01-01 05:00:00</td></tr>\n",
       "\t<tr><td>555</td><td>600</td><td> 913</td><td> 854</td><td>158</td><td>2013-01-01 06:00:00</td></tr>\n",
       "\t<tr><td>557</td><td>600</td><td> 709</td><td> 723</td><td> 53</td><td>2013-01-01 06:00:00</td></tr>\n",
       "\t<tr><td>557</td><td>600</td><td> 838</td><td> 846</td><td>140</td><td>2013-01-01 06:00:00</td></tr>\n",
       "\t<tr><td>558</td><td>600</td><td> 753</td><td> 745</td><td>138</td><td>2013-01-01 06:00:00</td></tr>\n",
       "\t<tr><td>558</td><td>600</td><td> 849</td><td> 851</td><td>149</td><td>2013-01-01 06:00:00</td></tr>\n",
       "\t<tr><td>558</td><td>600</td><td> 853</td><td> 856</td><td>158</td><td>2013-01-01 06:00:00</td></tr>\n",
       "\t<tr><td>558</td><td>600</td><td> 924</td><td> 917</td><td>345</td><td>2013-01-01 06:00:00</td></tr>\n",
       "\t<tr><td>558</td><td>600</td><td> 923</td><td> 937</td><td>361</td><td>2013-01-01 06:00:00</td></tr>\n",
       "\t<tr><td>559</td><td>600</td><td> 941</td><td> 910</td><td>257</td><td>2013-01-01 06:00:00</td></tr>\n",
       "\t<tr><td>559</td><td>559</td><td> 702</td><td> 706</td><td> 44</td><td>2013-01-01 05:00:00</td></tr>\n",
       "\t<tr><td>559</td><td>600</td><td> 854</td><td> 902</td><td>337</td><td>2013-01-01 06:00:00</td></tr>\n",
       "\t<tr><td>600</td><td>600</td><td> 851</td><td> 858</td><td>152</td><td>2013-01-01 06:00:00</td></tr>\n",
       "\t<tr><td>600</td><td>600</td><td> 837</td><td> 825</td><td>134</td><td>2013-01-01 06:00:00</td></tr>\n",
       "\t<tr><td>601</td><td>600</td><td> 844</td><td> 850</td><td>147</td><td>2013-01-01 06:00:00</td></tr>\n",
       "\t<tr><td>602</td><td>610</td><td> 812</td><td> 820</td><td>170</td><td>2013-01-01 06:00:00</td></tr>\n",
       "\t<tr><td>602</td><td>605</td><td> 821</td><td> 805</td><td>105</td><td>2013-01-01 06:00:00</td></tr>\n",
       "\t<tr><td>606</td><td>610</td><td> 858</td><td> 910</td><td>152</td><td>2013-01-01 06:00:00</td></tr>\n",
       "\t<tr><td>606</td><td>610</td><td> 837</td><td> 845</td><td>128</td><td>2013-01-01 06:00:00</td></tr>\n",
       "\t<tr><td>607</td><td>607</td><td> 858</td><td> 915</td><td>157</td><td>2013-01-01 06:00:00</td></tr>\n",
       "\t<tr><td>608</td><td>600</td><td> 807</td><td> 735</td><td>139</td><td>2013-01-01 06:00:00</td></tr>\n",
       "\t<tr><td>611</td><td>600</td><td> 945</td><td> 931</td><td>366</td><td>2013-01-01 06:00:00</td></tr>\n",
       "\t<tr><td>613</td><td>610</td><td> 925</td><td> 921</td><td>175</td><td>2013-01-01 06:00:00</td></tr>\n",
       "\t<tr><td>615</td><td>615</td><td>1039</td><td>1100</td><td>182</td><td>2013-01-01 06:00:00</td></tr>\n",
       "\t<tr><td>615</td><td>615</td><td> 833</td><td> 842</td><td>120</td><td>2013-01-01 06:00:00</td></tr>\n",
       "\t<tr><td>⋮</td><td>⋮</td><td>⋮</td><td>⋮</td><td>⋮</td><td>⋮</td></tr>\n",
       "\t<tr><td>2123</td><td>2125</td><td>2223</td><td>2247</td><td> 45</td><td>2013-09-30 21:00:00</td></tr>\n",
       "\t<tr><td>2127</td><td>2129</td><td>2314</td><td>2323</td><td> 72</td><td>2013-09-30 21:00:00</td></tr>\n",
       "\t<tr><td>2128</td><td>2130</td><td>2328</td><td>2359</td><td>213</td><td>2013-09-30 21:00:00</td></tr>\n",
       "\t<tr><td>2129</td><td>2059</td><td>2230</td><td>2232</td><td> 45</td><td>2013-09-30 20:00:00</td></tr>\n",
       "\t<tr><td>2131</td><td>2140</td><td>2225</td><td>2255</td><td> 36</td><td>2013-09-30 21:00:00</td></tr>\n",
       "\t<tr><td>2140</td><td>2140</td><td>  10</td><td>  40</td><td>298</td><td>2013-09-30 21:00:00</td></tr>\n",
       "\t<tr><td>2142</td><td>2129</td><td>2250</td><td>2239</td><td> 47</td><td>2013-09-30 21:00:00</td></tr>\n",
       "\t<tr><td>2145</td><td>2145</td><td> 115</td><td> 140</td><td>192</td><td>2013-09-30 21:00:00</td></tr>\n",
       "\t<tr><td>2147</td><td>2137</td><td>  30</td><td>  27</td><td>139</td><td>2013-09-30 21:00:00</td></tr>\n",
       "\t<tr><td>2149</td><td>2156</td><td>2245</td><td>2308</td><td> 37</td><td>2013-09-30 21:00:00</td></tr>\n",
       "\t<tr><td>2150</td><td>2159</td><td>2250</td><td>2306</td><td> 39</td><td>2013-09-30 21:00:00</td></tr>\n",
       "\t<tr><td>2159</td><td>1845</td><td>2344</td><td>2030</td><td> 50</td><td>2013-09-30 18:00:00</td></tr>\n",
       "\t<tr><td>2203</td><td>2205</td><td>2339</td><td>2331</td><td> 61</td><td>2013-09-30 22:00:00</td></tr>\n",
       "\t<tr><td>2207</td><td>2140</td><td>2257</td><td>2250</td><td> 97</td><td>2013-09-30 21:00:00</td></tr>\n",
       "\t<tr><td>2211</td><td>2059</td><td>2339</td><td>2242</td><td>120</td><td>2013-09-30 20:00:00</td></tr>\n",
       "\t<tr><td>2231</td><td>2245</td><td>2335</td><td>2356</td><td> 48</td><td>2013-09-30 22:00:00</td></tr>\n",
       "\t<tr><td>2233</td><td>2113</td><td> 112</td><td>  30</td><td>318</td><td>2013-09-30 21:00:00</td></tr>\n",
       "\t<tr><td>2235</td><td>2001</td><td>  59</td><td>2249</td><td>123</td><td>2013-09-30 20:00:00</td></tr>\n",
       "\t<tr><td>2237</td><td>2245</td><td>2345</td><td>2353</td><td> 43</td><td>2013-09-30 22:00:00</td></tr>\n",
       "\t<tr><td>2240</td><td>2245</td><td>2334</td><td>2351</td><td> 41</td><td>2013-09-30 22:00:00</td></tr>\n",
       "\t<tr><td>2240</td><td>2250</td><td>2347</td><td>   7</td><td> 52</td><td>2013-09-30 22:00:00</td></tr>\n",
       "\t<tr><td>2241</td><td>2246</td><td>2345</td><td>   1</td><td> 47</td><td>2013-09-30 22:00:00</td></tr>\n",
       "\t<tr><td>2307</td><td>2255</td><td>2359</td><td>2358</td><td> 33</td><td>2013-09-30 22:00:00</td></tr>\n",
       "\t<tr><td>2349</td><td>2359</td><td> 325</td><td> 350</td><td>196</td><td>2013-09-30 23:00:00</td></tr>\n",
       "\t<tr><td>  NA</td><td>1842</td><td>  NA</td><td>2019</td><td> NA</td><td>2013-09-30 18:00:00</td></tr>\n",
       "\t<tr><td>  NA</td><td>1455</td><td>  NA</td><td>1634</td><td> NA</td><td>2013-09-30 14:00:00</td></tr>\n",
       "\t<tr><td>  NA</td><td>2200</td><td>  NA</td><td>2312</td><td> NA</td><td>2013-09-30 22:00:00</td></tr>\n",
       "\t<tr><td>  NA</td><td>1210</td><td>  NA</td><td>1330</td><td> NA</td><td>2013-09-30 12:00:00</td></tr>\n",
       "\t<tr><td>  NA</td><td>1159</td><td>  NA</td><td>1344</td><td> NA</td><td>2013-09-30 11:00:00</td></tr>\n",
       "\t<tr><td>  NA</td><td> 840</td><td>  NA</td><td>1020</td><td> NA</td><td>2013-09-30 08:00:00</td></tr>\n",
       "</tbody>\n",
       "</table>\n"
      ],
      "text/latex": [
       "A tibble: 336776 × 6\n",
       "\\begin{tabular}{llllll}\n",
       " dep\\_time & sched\\_dep\\_time & arr\\_time & sched\\_arr\\_time & air\\_time & time\\_hour\\\\\n",
       " <int> & <int> & <int> & <int> & <dbl> & <dttm>\\\\\n",
       "\\hline\n",
       "\t 517 & 515 &  830 &  819 & 227 & 2013-01-01 05:00:00\\\\\n",
       "\t 533 & 529 &  850 &  830 & 227 & 2013-01-01 05:00:00\\\\\n",
       "\t 542 & 540 &  923 &  850 & 160 & 2013-01-01 05:00:00\\\\\n",
       "\t 544 & 545 & 1004 & 1022 & 183 & 2013-01-01 05:00:00\\\\\n",
       "\t 554 & 600 &  812 &  837 & 116 & 2013-01-01 06:00:00\\\\\n",
       "\t 554 & 558 &  740 &  728 & 150 & 2013-01-01 05:00:00\\\\\n",
       "\t 555 & 600 &  913 &  854 & 158 & 2013-01-01 06:00:00\\\\\n",
       "\t 557 & 600 &  709 &  723 &  53 & 2013-01-01 06:00:00\\\\\n",
       "\t 557 & 600 &  838 &  846 & 140 & 2013-01-01 06:00:00\\\\\n",
       "\t 558 & 600 &  753 &  745 & 138 & 2013-01-01 06:00:00\\\\\n",
       "\t 558 & 600 &  849 &  851 & 149 & 2013-01-01 06:00:00\\\\\n",
       "\t 558 & 600 &  853 &  856 & 158 & 2013-01-01 06:00:00\\\\\n",
       "\t 558 & 600 &  924 &  917 & 345 & 2013-01-01 06:00:00\\\\\n",
       "\t 558 & 600 &  923 &  937 & 361 & 2013-01-01 06:00:00\\\\\n",
       "\t 559 & 600 &  941 &  910 & 257 & 2013-01-01 06:00:00\\\\\n",
       "\t 559 & 559 &  702 &  706 &  44 & 2013-01-01 05:00:00\\\\\n",
       "\t 559 & 600 &  854 &  902 & 337 & 2013-01-01 06:00:00\\\\\n",
       "\t 600 & 600 &  851 &  858 & 152 & 2013-01-01 06:00:00\\\\\n",
       "\t 600 & 600 &  837 &  825 & 134 & 2013-01-01 06:00:00\\\\\n",
       "\t 601 & 600 &  844 &  850 & 147 & 2013-01-01 06:00:00\\\\\n",
       "\t 602 & 610 &  812 &  820 & 170 & 2013-01-01 06:00:00\\\\\n",
       "\t 602 & 605 &  821 &  805 & 105 & 2013-01-01 06:00:00\\\\\n",
       "\t 606 & 610 &  858 &  910 & 152 & 2013-01-01 06:00:00\\\\\n",
       "\t 606 & 610 &  837 &  845 & 128 & 2013-01-01 06:00:00\\\\\n",
       "\t 607 & 607 &  858 &  915 & 157 & 2013-01-01 06:00:00\\\\\n",
       "\t 608 & 600 &  807 &  735 & 139 & 2013-01-01 06:00:00\\\\\n",
       "\t 611 & 600 &  945 &  931 & 366 & 2013-01-01 06:00:00\\\\\n",
       "\t 613 & 610 &  925 &  921 & 175 & 2013-01-01 06:00:00\\\\\n",
       "\t 615 & 615 & 1039 & 1100 & 182 & 2013-01-01 06:00:00\\\\\n",
       "\t 615 & 615 &  833 &  842 & 120 & 2013-01-01 06:00:00\\\\\n",
       "\t ⋮ & ⋮ & ⋮ & ⋮ & ⋮ & ⋮\\\\\n",
       "\t 2123 & 2125 & 2223 & 2247 &  45 & 2013-09-30 21:00:00\\\\\n",
       "\t 2127 & 2129 & 2314 & 2323 &  72 & 2013-09-30 21:00:00\\\\\n",
       "\t 2128 & 2130 & 2328 & 2359 & 213 & 2013-09-30 21:00:00\\\\\n",
       "\t 2129 & 2059 & 2230 & 2232 &  45 & 2013-09-30 20:00:00\\\\\n",
       "\t 2131 & 2140 & 2225 & 2255 &  36 & 2013-09-30 21:00:00\\\\\n",
       "\t 2140 & 2140 &   10 &   40 & 298 & 2013-09-30 21:00:00\\\\\n",
       "\t 2142 & 2129 & 2250 & 2239 &  47 & 2013-09-30 21:00:00\\\\\n",
       "\t 2145 & 2145 &  115 &  140 & 192 & 2013-09-30 21:00:00\\\\\n",
       "\t 2147 & 2137 &   30 &   27 & 139 & 2013-09-30 21:00:00\\\\\n",
       "\t 2149 & 2156 & 2245 & 2308 &  37 & 2013-09-30 21:00:00\\\\\n",
       "\t 2150 & 2159 & 2250 & 2306 &  39 & 2013-09-30 21:00:00\\\\\n",
       "\t 2159 & 1845 & 2344 & 2030 &  50 & 2013-09-30 18:00:00\\\\\n",
       "\t 2203 & 2205 & 2339 & 2331 &  61 & 2013-09-30 22:00:00\\\\\n",
       "\t 2207 & 2140 & 2257 & 2250 &  97 & 2013-09-30 21:00:00\\\\\n",
       "\t 2211 & 2059 & 2339 & 2242 & 120 & 2013-09-30 20:00:00\\\\\n",
       "\t 2231 & 2245 & 2335 & 2356 &  48 & 2013-09-30 22:00:00\\\\\n",
       "\t 2233 & 2113 &  112 &   30 & 318 & 2013-09-30 21:00:00\\\\\n",
       "\t 2235 & 2001 &   59 & 2249 & 123 & 2013-09-30 20:00:00\\\\\n",
       "\t 2237 & 2245 & 2345 & 2353 &  43 & 2013-09-30 22:00:00\\\\\n",
       "\t 2240 & 2245 & 2334 & 2351 &  41 & 2013-09-30 22:00:00\\\\\n",
       "\t 2240 & 2250 & 2347 &    7 &  52 & 2013-09-30 22:00:00\\\\\n",
       "\t 2241 & 2246 & 2345 &    1 &  47 & 2013-09-30 22:00:00\\\\\n",
       "\t 2307 & 2255 & 2359 & 2358 &  33 & 2013-09-30 22:00:00\\\\\n",
       "\t 2349 & 2359 &  325 &  350 & 196 & 2013-09-30 23:00:00\\\\\n",
       "\t   NA & 1842 &   NA & 2019 &  NA & 2013-09-30 18:00:00\\\\\n",
       "\t   NA & 1455 &   NA & 1634 &  NA & 2013-09-30 14:00:00\\\\\n",
       "\t   NA & 2200 &   NA & 2312 &  NA & 2013-09-30 22:00:00\\\\\n",
       "\t   NA & 1210 &   NA & 1330 &  NA & 2013-09-30 12:00:00\\\\\n",
       "\t   NA & 1159 &   NA & 1344 &  NA & 2013-09-30 11:00:00\\\\\n",
       "\t   NA &  840 &   NA & 1020 &  NA & 2013-09-30 08:00:00\\\\\n",
       "\\end{tabular}\n"
      ],
      "text/markdown": [
       "\n",
       "A tibble: 336776 × 6\n",
       "\n",
       "| dep_time &lt;int&gt; | sched_dep_time &lt;int&gt; | arr_time &lt;int&gt; | sched_arr_time &lt;int&gt; | air_time &lt;dbl&gt; | time_hour &lt;dttm&gt; |\n",
       "|---|---|---|---|---|---|\n",
       "| 517 | 515 |  830 |  819 | 227 | 2013-01-01 05:00:00 |\n",
       "| 533 | 529 |  850 |  830 | 227 | 2013-01-01 05:00:00 |\n",
       "| 542 | 540 |  923 |  850 | 160 | 2013-01-01 05:00:00 |\n",
       "| 544 | 545 | 1004 | 1022 | 183 | 2013-01-01 05:00:00 |\n",
       "| 554 | 600 |  812 |  837 | 116 | 2013-01-01 06:00:00 |\n",
       "| 554 | 558 |  740 |  728 | 150 | 2013-01-01 05:00:00 |\n",
       "| 555 | 600 |  913 |  854 | 158 | 2013-01-01 06:00:00 |\n",
       "| 557 | 600 |  709 |  723 |  53 | 2013-01-01 06:00:00 |\n",
       "| 557 | 600 |  838 |  846 | 140 | 2013-01-01 06:00:00 |\n",
       "| 558 | 600 |  753 |  745 | 138 | 2013-01-01 06:00:00 |\n",
       "| 558 | 600 |  849 |  851 | 149 | 2013-01-01 06:00:00 |\n",
       "| 558 | 600 |  853 |  856 | 158 | 2013-01-01 06:00:00 |\n",
       "| 558 | 600 |  924 |  917 | 345 | 2013-01-01 06:00:00 |\n",
       "| 558 | 600 |  923 |  937 | 361 | 2013-01-01 06:00:00 |\n",
       "| 559 | 600 |  941 |  910 | 257 | 2013-01-01 06:00:00 |\n",
       "| 559 | 559 |  702 |  706 |  44 | 2013-01-01 05:00:00 |\n",
       "| 559 | 600 |  854 |  902 | 337 | 2013-01-01 06:00:00 |\n",
       "| 600 | 600 |  851 |  858 | 152 | 2013-01-01 06:00:00 |\n",
       "| 600 | 600 |  837 |  825 | 134 | 2013-01-01 06:00:00 |\n",
       "| 601 | 600 |  844 |  850 | 147 | 2013-01-01 06:00:00 |\n",
       "| 602 | 610 |  812 |  820 | 170 | 2013-01-01 06:00:00 |\n",
       "| 602 | 605 |  821 |  805 | 105 | 2013-01-01 06:00:00 |\n",
       "| 606 | 610 |  858 |  910 | 152 | 2013-01-01 06:00:00 |\n",
       "| 606 | 610 |  837 |  845 | 128 | 2013-01-01 06:00:00 |\n",
       "| 607 | 607 |  858 |  915 | 157 | 2013-01-01 06:00:00 |\n",
       "| 608 | 600 |  807 |  735 | 139 | 2013-01-01 06:00:00 |\n",
       "| 611 | 600 |  945 |  931 | 366 | 2013-01-01 06:00:00 |\n",
       "| 613 | 610 |  925 |  921 | 175 | 2013-01-01 06:00:00 |\n",
       "| 615 | 615 | 1039 | 1100 | 182 | 2013-01-01 06:00:00 |\n",
       "| 615 | 615 |  833 |  842 | 120 | 2013-01-01 06:00:00 |\n",
       "| ⋮ | ⋮ | ⋮ | ⋮ | ⋮ | ⋮ |\n",
       "| 2123 | 2125 | 2223 | 2247 |  45 | 2013-09-30 21:00:00 |\n",
       "| 2127 | 2129 | 2314 | 2323 |  72 | 2013-09-30 21:00:00 |\n",
       "| 2128 | 2130 | 2328 | 2359 | 213 | 2013-09-30 21:00:00 |\n",
       "| 2129 | 2059 | 2230 | 2232 |  45 | 2013-09-30 20:00:00 |\n",
       "| 2131 | 2140 | 2225 | 2255 |  36 | 2013-09-30 21:00:00 |\n",
       "| 2140 | 2140 |   10 |   40 | 298 | 2013-09-30 21:00:00 |\n",
       "| 2142 | 2129 | 2250 | 2239 |  47 | 2013-09-30 21:00:00 |\n",
       "| 2145 | 2145 |  115 |  140 | 192 | 2013-09-30 21:00:00 |\n",
       "| 2147 | 2137 |   30 |   27 | 139 | 2013-09-30 21:00:00 |\n",
       "| 2149 | 2156 | 2245 | 2308 |  37 | 2013-09-30 21:00:00 |\n",
       "| 2150 | 2159 | 2250 | 2306 |  39 | 2013-09-30 21:00:00 |\n",
       "| 2159 | 1845 | 2344 | 2030 |  50 | 2013-09-30 18:00:00 |\n",
       "| 2203 | 2205 | 2339 | 2331 |  61 | 2013-09-30 22:00:00 |\n",
       "| 2207 | 2140 | 2257 | 2250 |  97 | 2013-09-30 21:00:00 |\n",
       "| 2211 | 2059 | 2339 | 2242 | 120 | 2013-09-30 20:00:00 |\n",
       "| 2231 | 2245 | 2335 | 2356 |  48 | 2013-09-30 22:00:00 |\n",
       "| 2233 | 2113 |  112 |   30 | 318 | 2013-09-30 21:00:00 |\n",
       "| 2235 | 2001 |   59 | 2249 | 123 | 2013-09-30 20:00:00 |\n",
       "| 2237 | 2245 | 2345 | 2353 |  43 | 2013-09-30 22:00:00 |\n",
       "| 2240 | 2245 | 2334 | 2351 |  41 | 2013-09-30 22:00:00 |\n",
       "| 2240 | 2250 | 2347 |    7 |  52 | 2013-09-30 22:00:00 |\n",
       "| 2241 | 2246 | 2345 |    1 |  47 | 2013-09-30 22:00:00 |\n",
       "| 2307 | 2255 | 2359 | 2358 |  33 | 2013-09-30 22:00:00 |\n",
       "| 2349 | 2359 |  325 |  350 | 196 | 2013-09-30 23:00:00 |\n",
       "|   NA | 1842 |   NA | 2019 |  NA | 2013-09-30 18:00:00 |\n",
       "|   NA | 1455 |   NA | 1634 |  NA | 2013-09-30 14:00:00 |\n",
       "|   NA | 2200 |   NA | 2312 |  NA | 2013-09-30 22:00:00 |\n",
       "|   NA | 1210 |   NA | 1330 |  NA | 2013-09-30 12:00:00 |\n",
       "|   NA | 1159 |   NA | 1344 |  NA | 2013-09-30 11:00:00 |\n",
       "|   NA |  840 |   NA | 1020 |  NA | 2013-09-30 08:00:00 |\n",
       "\n"
      ],
      "text/plain": [
       "       dep_time sched_dep_time arr_time sched_arr_time air_time\n",
       "1      517      515             830      819           227     \n",
       "2      533      529             850      830           227     \n",
       "3      542      540             923      850           160     \n",
       "4      544      545            1004     1022           183     \n",
       "5      554      600             812      837           116     \n",
       "6      554      558             740      728           150     \n",
       "7      555      600             913      854           158     \n",
       "8      557      600             709      723            53     \n",
       "9      557      600             838      846           140     \n",
       "10     558      600             753      745           138     \n",
       "11     558      600             849      851           149     \n",
       "12     558      600             853      856           158     \n",
       "13     558      600             924      917           345     \n",
       "14     558      600             923      937           361     \n",
       "15     559      600             941      910           257     \n",
       "16     559      559             702      706            44     \n",
       "17     559      600             854      902           337     \n",
       "18     600      600             851      858           152     \n",
       "19     600      600             837      825           134     \n",
       "20     601      600             844      850           147     \n",
       "21     602      610             812      820           170     \n",
       "22     602      605             821      805           105     \n",
       "23     606      610             858      910           152     \n",
       "24     606      610             837      845           128     \n",
       "25     607      607             858      915           157     \n",
       "26     608      600             807      735           139     \n",
       "27     611      600             945      931           366     \n",
       "28     613      610             925      921           175     \n",
       "29     615      615            1039     1100           182     \n",
       "30     615      615             833      842           120     \n",
       "⋮      ⋮        ⋮              ⋮        ⋮              ⋮       \n",
       "336747 2123     2125           2223     2247            45     \n",
       "336748 2127     2129           2314     2323            72     \n",
       "336749 2128     2130           2328     2359           213     \n",
       "336750 2129     2059           2230     2232            45     \n",
       "336751 2131     2140           2225     2255            36     \n",
       "336752 2140     2140             10       40           298     \n",
       "336753 2142     2129           2250     2239            47     \n",
       "336754 2145     2145            115      140           192     \n",
       "336755 2147     2137             30       27           139     \n",
       "336756 2149     2156           2245     2308            37     \n",
       "336757 2150     2159           2250     2306            39     \n",
       "336758 2159     1845           2344     2030            50     \n",
       "336759 2203     2205           2339     2331            61     \n",
       "336760 2207     2140           2257     2250            97     \n",
       "336761 2211     2059           2339     2242           120     \n",
       "336762 2231     2245           2335     2356            48     \n",
       "336763 2233     2113            112       30           318     \n",
       "336764 2235     2001             59     2249           123     \n",
       "336765 2237     2245           2345     2353            43     \n",
       "336766 2240     2245           2334     2351            41     \n",
       "336767 2240     2250           2347        7            52     \n",
       "336768 2241     2246           2345        1            47     \n",
       "336769 2307     2255           2359     2358            33     \n",
       "336770 2349     2359            325      350           196     \n",
       "336771   NA     1842             NA     2019            NA     \n",
       "336772   NA     1455             NA     1634            NA     \n",
       "336773   NA     2200             NA     2312            NA     \n",
       "336774   NA     1210             NA     1330            NA     \n",
       "336775   NA     1159             NA     1344            NA     \n",
       "336776   NA      840             NA     1020            NA     \n",
       "       time_hour          \n",
       "1      2013-01-01 05:00:00\n",
       "2      2013-01-01 05:00:00\n",
       "3      2013-01-01 05:00:00\n",
       "4      2013-01-01 05:00:00\n",
       "5      2013-01-01 06:00:00\n",
       "6      2013-01-01 05:00:00\n",
       "7      2013-01-01 06:00:00\n",
       "8      2013-01-01 06:00:00\n",
       "9      2013-01-01 06:00:00\n",
       "10     2013-01-01 06:00:00\n",
       "11     2013-01-01 06:00:00\n",
       "12     2013-01-01 06:00:00\n",
       "13     2013-01-01 06:00:00\n",
       "14     2013-01-01 06:00:00\n",
       "15     2013-01-01 06:00:00\n",
       "16     2013-01-01 05:00:00\n",
       "17     2013-01-01 06:00:00\n",
       "18     2013-01-01 06:00:00\n",
       "19     2013-01-01 06:00:00\n",
       "20     2013-01-01 06:00:00\n",
       "21     2013-01-01 06:00:00\n",
       "22     2013-01-01 06:00:00\n",
       "23     2013-01-01 06:00:00\n",
       "24     2013-01-01 06:00:00\n",
       "25     2013-01-01 06:00:00\n",
       "26     2013-01-01 06:00:00\n",
       "27     2013-01-01 06:00:00\n",
       "28     2013-01-01 06:00:00\n",
       "29     2013-01-01 06:00:00\n",
       "30     2013-01-01 06:00:00\n",
       "⋮      ⋮                  \n",
       "336747 2013-09-30 21:00:00\n",
       "336748 2013-09-30 21:00:00\n",
       "336749 2013-09-30 21:00:00\n",
       "336750 2013-09-30 20:00:00\n",
       "336751 2013-09-30 21:00:00\n",
       "336752 2013-09-30 21:00:00\n",
       "336753 2013-09-30 21:00:00\n",
       "336754 2013-09-30 21:00:00\n",
       "336755 2013-09-30 21:00:00\n",
       "336756 2013-09-30 21:00:00\n",
       "336757 2013-09-30 21:00:00\n",
       "336758 2013-09-30 18:00:00\n",
       "336759 2013-09-30 22:00:00\n",
       "336760 2013-09-30 21:00:00\n",
       "336761 2013-09-30 20:00:00\n",
       "336762 2013-09-30 22:00:00\n",
       "336763 2013-09-30 21:00:00\n",
       "336764 2013-09-30 20:00:00\n",
       "336765 2013-09-30 22:00:00\n",
       "336766 2013-09-30 22:00:00\n",
       "336767 2013-09-30 22:00:00\n",
       "336768 2013-09-30 22:00:00\n",
       "336769 2013-09-30 22:00:00\n",
       "336770 2013-09-30 23:00:00\n",
       "336771 2013-09-30 18:00:00\n",
       "336772 2013-09-30 14:00:00\n",
       "336773 2013-09-30 22:00:00\n",
       "336774 2013-09-30 12:00:00\n",
       "336775 2013-09-30 11:00:00\n",
       "336776 2013-09-30 08:00:00"
      ]
     },
     "metadata": {},
     "output_type": "display_data"
    }
   ],
   "source": [
    "# Beginner\n",
    "ncol(select(flights, contains(\"time\")))\n",
    "select(flights, contains(\"time\"))"
   ]
  },
  {
   "cell_type": "code",
   "execution_count": 7,
   "metadata": {},
   "outputs": [
    {
     "data": {
      "text/html": [
       "15"
      ],
      "text/latex": [
       "15"
      ],
      "text/markdown": [
       "15"
      ],
      "text/plain": [
       "[1] 15"
      ]
     },
     "metadata": {},
     "output_type": "display_data"
    }
   ],
   "source": [
    "# Advanced\n",
    "ncol(flights)-ncol(select(flights, contains(\"s\")))"
   ]
  },
  {
   "cell_type": "markdown",
   "metadata": {},
   "source": [
    "## Question:  What days of the year / at what airport are the busiest for flying?\n",
    "\n",
    "Let's think about the table we would want to have in order to answer this question. Ideally,\n",
    "it would look something like this:\n",
    "\n",
    "    # A tibble: 1,095 x 4\n",
    "       month   day airport n_sched_departures\n",
    "       <int> <int> <chr>                <int>\n",
    "     1     1     1 EWR                    305\n",
    "     2     1     1 JFK                    297\n",
    "     3     1     1 LGA                    240\n",
    "     4     1     2 EWR                    350\n",
    "     5     1     2 JFK                    321\n",
    "     6     1     2 LGA                    272\n",
    "     7     1     3 EWR                    336\n",
    "     8     1     3 JFK                    318\n",
    "     9     1     3 LGA                    260\n",
    "    10     1     4 EWR                    339\n",
    "    # … with 1,085 more rows"
   ]
  },
  {
   "cell_type": "markdown",
   "metadata": {},
   "source": [
    "The table we are given has ~337k rows, one for each flight. How do we go from the `flights` table to the one shown above?"
   ]
  },
  {
   "cell_type": "markdown",
   "metadata": {},
   "source": [
    "## Summaries\n",
    "`summarize()` can be used to summarize entire data frames by collapsing them into single number summaries. The syntax is:\n",
    "```{r}\n",
    "summarize(<grouped tibble>, \n",
    "<new variable> = \n",
    "<formula for new variable>,\n",
    "<other new variable> = <other formula>)\n",
    "```"
   ]
  },
  {
   "cell_type": "markdown",
   "metadata": {},
   "source": [
    "The most basic use of summarize is to compute statistics over the whole data set. \n",
    "\n",
    "Let us calculate the average time for departure delay `dep_delay`. "
   ]
  },
  {
   "cell_type": "code",
   "execution_count": 8,
   "metadata": {},
   "outputs": [
    {
     "name": "stdout",
     "output_type": "stream",
     "text": [
      "\u001b[38;5;246m# A tibble: 1 x 1\u001b[39m\n",
      "  delay\n",
      "  \u001b[3m\u001b[38;5;246m<dbl>\u001b[39m\u001b[23m\n",
      "\u001b[38;5;250m1\u001b[39m  12.6\n"
     ]
    }
   ],
   "source": [
    "tbl <- filter(flights, !is.na(dep_delay))\n",
    "print(summarize(tbl, delay = mean(dep_delay)))"
   ]
  },
  {
   "cell_type": "markdown",
   "metadata": {},
   "source": [
    "## Grouping observations\n",
    "`summarize()` is most useful when combined with `group_by()` to group observations before calculating the summary statistic. The `group_by` function tells `R` how your data are grouped:"
   ]
  },
  {
   "cell_type": "code",
   "execution_count": 9,
   "metadata": {},
   "outputs": [
    {
     "name": "stderr",
     "output_type": "stream",
     "text": [
      "`summarise()` ungrouping output (override with `.groups` argument)\n",
      "\n"
     ]
    },
    {
     "name": "stdout",
     "output_type": "stream",
     "text": [
      "\u001b[38;5;246m# A tibble: 12 x 3\u001b[39m\n",
      "   month delay total_delay\n",
      "   \u001b[3m\u001b[38;5;246m<int>\u001b[39m\u001b[23m \u001b[3m\u001b[38;5;246m<dbl>\u001b[39m\u001b[23m       \u001b[3m\u001b[38;5;246m<dbl>\u001b[39m\u001b[23m\n",
      "\u001b[38;5;250m 1\u001b[39m     1 10.0       \u001b[4m2\u001b[24m\u001b[4m6\u001b[24m\u001b[4m5\u001b[24m801\n",
      "\u001b[38;5;250m 2\u001b[39m     2 10.8       \u001b[4m2\u001b[24m\u001b[4m5\u001b[24m\u001b[4m6\u001b[24m251\n",
      "\u001b[38;5;250m 3\u001b[39m     3 13.2       \u001b[4m3\u001b[24m\u001b[4m7\u001b[24m\u001b[4m0\u001b[24m001\n",
      "\u001b[38;5;250m 4\u001b[39m     4 13.9       \u001b[4m3\u001b[24m\u001b[4m8\u001b[24m\u001b[4m5\u001b[24m554\n",
      "\u001b[38;5;250m 5\u001b[39m     5 13.0       \u001b[4m3\u001b[24m\u001b[4m6\u001b[24m\u001b[4m6\u001b[24m658\n",
      "\u001b[38;5;250m 6\u001b[39m     6 20.8       \u001b[4m5\u001b[24m\u001b[4m6\u001b[24m\u001b[4m7\u001b[24m729\n",
      "\u001b[38;5;250m 7\u001b[39m     7 21.7       \u001b[4m6\u001b[24m\u001b[4m1\u001b[24m\u001b[4m8\u001b[24m916\n",
      "\u001b[38;5;250m 8\u001b[39m     8 12.6       \u001b[4m3\u001b[24m\u001b[4m6\u001b[24m\u001b[4m3\u001b[24m715\n",
      "\u001b[38;5;250m 9\u001b[39m     9  6.72      \u001b[4m1\u001b[24m\u001b[4m8\u001b[24m\u001b[4m2\u001b[24m327\n",
      "\u001b[38;5;250m10\u001b[39m    10  6.24      \u001b[4m1\u001b[24m\u001b[4m7\u001b[24m\u001b[4m8\u001b[24m909\n",
      "\u001b[38;5;250m11\u001b[39m    11  5.44      \u001b[4m1\u001b[24m\u001b[4m4\u001b[24m\u001b[4m6\u001b[24m945\n",
      "\u001b[38;5;250m12\u001b[39m    12 16.6       \u001b[4m4\u001b[24m\u001b[4m4\u001b[24m\u001b[4m9\u001b[24m394\n"
     ]
    }
   ],
   "source": [
    "?group_by\n",
    "tbl <- group_by(flights, month)\n",
    "# print(tbl)\n",
    "tbl1 <- filter(tbl, !is.na(dep_delay))\n",
    "print(summarize(tbl1, delay = mean(dep_delay), \n",
    "                total_delay = sum(dep_delay)))"
   ]
  },
  {
   "cell_type": "markdown",
   "metadata": {},
   "source": [
    "`summarize()` applies the summary function to each group of data. Remember that it always returns **one row per group**."
   ]
  },
  {
   "cell_type": "code",
   "execution_count": 10,
   "metadata": {},
   "outputs": [
    {
     "name": "stderr",
     "output_type": "stream",
     "text": [
      "`summarise()` ungrouping output (override with `.groups` argument)\n",
      "\n"
     ]
    },
    {
     "name": "stdout",
     "output_type": "stream",
     "text": [
      "\u001b[38;5;246m# A tibble: 12 x 2\u001b[39m\n",
      "   month mean_dep_delay\n",
      "   \u001b[3m\u001b[38;5;246m<int>\u001b[39m\u001b[23m          \u001b[3m\u001b[38;5;246m<dbl>\u001b[39m\u001b[23m\n",
      "\u001b[38;5;250m 1\u001b[39m     1          10.0 \n",
      "\u001b[38;5;250m 2\u001b[39m     2          10.8 \n",
      "\u001b[38;5;250m 3\u001b[39m     3          13.2 \n",
      "\u001b[38;5;250m 4\u001b[39m     4          13.9 \n",
      "\u001b[38;5;250m 5\u001b[39m     5          13.0 \n",
      "\u001b[38;5;250m 6\u001b[39m     6          20.8 \n",
      "\u001b[38;5;250m 7\u001b[39m     7          21.7 \n",
      "\u001b[38;5;250m 8\u001b[39m     8          12.6 \n",
      "\u001b[38;5;250m 9\u001b[39m     9           6.72\n",
      "\u001b[38;5;250m10\u001b[39m    10           6.24\n",
      "\u001b[38;5;250m11\u001b[39m    11           5.44\n",
      "\u001b[38;5;250m12\u001b[39m    12          16.6 \n"
     ]
    }
   ],
   "source": [
    "print(summarize(group_by(flights, month), mean_dep_delay = mean(dep_delay, na.rm=T)))"
   ]
  },
  {
   "cell_type": "markdown",
   "metadata": {},
   "source": [
    "It's as if `summarize()` filtered your data for each group, calculated the summary statistic, and\n",
    "then combined all the results back into one table."
   ]
  },
  {
   "cell_type": "code",
   "execution_count": 11,
   "metadata": {},
   "outputs": [
    {
     "data": {
      "text/html": [
       "13.2270761091052"
      ],
      "text/latex": [
       "13.2270761091052"
      ],
      "text/markdown": [
       "13.2270761091052"
      ],
      "text/plain": [
       "[1] 13.22708"
      ]
     },
     "metadata": {},
     "output_type": "display_data"
    }
   ],
   "source": [
    "df <- filter(flights, month == 3)\n",
    "mean(df$dep_delay, na.rm = T)  "
   ]
  },
  {
   "cell_type": "markdown",
   "metadata": {},
   "source": [
    "Many summary functions are available:\n",
    "\n",
    "* Center: `mean(), median()`\n",
    "* Spread: `sd(), IQR(), mad()`\n",
    "* Range: `min(), max(), quantile()`\n",
    "* Position: `first(), last(), nth()`\n",
    "* Count: `n(), n_distinct()`\n",
    "* Logical: `any(), all()`"
   ]
  },
  {
   "cell_type": "markdown",
   "metadata": {},
   "source": [
    "### Examples\n",
    "The `n()` function calculates the number of rows in each group:"
   ]
  },
  {
   "cell_type": "markdown",
   "metadata": {},
   "source": [
    "Let us write some code to output the number of flights for each month.   Then output the number of flights in December.   "
   ]
  },
  {
   "cell_type": "code",
   "execution_count": 12,
   "metadata": {},
   "outputs": [
    {
     "name": "stderr",
     "output_type": "stream",
     "text": [
      "`summarise()` ungrouping output (override with `.groups` argument)\n",
      "\n"
     ]
    },
    {
     "name": "stdout",
     "output_type": "stream",
     "text": [
      "\u001b[38;5;246m# A tibble: 12 x 2\u001b[39m\n",
      "   month     n\n",
      "   \u001b[3m\u001b[38;5;246m<int>\u001b[39m\u001b[23m \u001b[3m\u001b[38;5;246m<int>\u001b[39m\u001b[23m\n",
      "\u001b[38;5;250m 1\u001b[39m     1 \u001b[4m2\u001b[24m\u001b[4m7\u001b[24m004\n",
      "\u001b[38;5;250m 2\u001b[39m     2 \u001b[4m2\u001b[24m\u001b[4m4\u001b[24m951\n",
      "\u001b[38;5;250m 3\u001b[39m     3 \u001b[4m2\u001b[24m\u001b[4m8\u001b[24m834\n",
      "\u001b[38;5;250m 4\u001b[39m     4 \u001b[4m2\u001b[24m\u001b[4m8\u001b[24m330\n",
      "\u001b[38;5;250m 5\u001b[39m     5 \u001b[4m2\u001b[24m\u001b[4m8\u001b[24m796\n",
      "\u001b[38;5;250m 6\u001b[39m     6 \u001b[4m2\u001b[24m\u001b[4m8\u001b[24m243\n",
      "\u001b[38;5;250m 7\u001b[39m     7 \u001b[4m2\u001b[24m\u001b[4m9\u001b[24m425\n",
      "\u001b[38;5;250m 8\u001b[39m     8 \u001b[4m2\u001b[24m\u001b[4m9\u001b[24m327\n",
      "\u001b[38;5;250m 9\u001b[39m     9 \u001b[4m2\u001b[24m\u001b[4m7\u001b[24m574\n",
      "\u001b[38;5;250m10\u001b[39m    10 \u001b[4m2\u001b[24m\u001b[4m8\u001b[24m889\n",
      "\u001b[38;5;250m11\u001b[39m    11 \u001b[4m2\u001b[24m\u001b[4m7\u001b[24m268\n",
      "\u001b[38;5;250m12\u001b[39m    12 \u001b[4m2\u001b[24m\u001b[4m8\u001b[24m135\n"
     ]
    },
    {
     "data": {
      "text/html": [
       "28135"
      ],
      "text/latex": [
       "28135"
      ],
      "text/markdown": [
       "28135"
      ],
      "text/plain": [
       "[1] 28135"
      ]
     },
     "metadata": {},
     "output_type": "display_data"
    }
   ],
   "source": [
    "tbl <- group_by(flights, month)\n",
    "print(summarize(tbl, n = n()))\n",
    "nrow(filter(flights, month == 12))"
   ]
  },
  {
   "cell_type": "markdown",
   "metadata": {},
   "source": [
    "Now we are ready to generate the following table using the tools that we have learnt"
   ]
  },
  {
   "cell_type": "markdown",
   "metadata": {},
   "source": [
    "    # A tibble: 1,095 x 4\n",
    "       month   day airport n_sched_departures\n",
    "       <int> <int> <chr>                <int>\n",
    "     1     1     1 EWR                    305\n",
    "     2     1     1 JFK                    297\n",
    "     3     1     1 LGA                    240\n",
    "     4     1     2 EWR                    350\n",
    "     5     1     2 JFK                    321\n",
    "     6     1     2 LGA                    272\n",
    "     7     1     3 EWR                    336\n",
    "     8     1     3 JFK                    318\n",
    "     9     1     3 LGA                    260\n",
    "    10     1     4 EWR                    339\n",
    "    # … with 1,085 more rows"
   ]
  },
  {
   "cell_type": "markdown",
   "metadata": {},
   "source": [
    "Use this table to answer the question: which day of the year is busiest, and at what airport?"
   ]
  },
  {
   "cell_type": "code",
   "execution_count": 13,
   "metadata": {},
   "outputs": [
    {
     "name": "stderr",
     "output_type": "stream",
     "text": [
      "`summarise()` regrouping output by 'month', 'day' (override with `.groups` argument)\n",
      "\n"
     ]
    },
    {
     "name": "stdout",
     "output_type": "stream",
     "text": [
      "\u001b[38;5;246m# A tibble: 1,095 x 4\u001b[39m\n",
      "\u001b[38;5;246m# Groups:   month, day [365]\u001b[39m\n",
      "   month   day origin n_sched_dep\n",
      "   \u001b[3m\u001b[38;5;246m<int>\u001b[39m\u001b[23m \u001b[3m\u001b[38;5;246m<int>\u001b[39m\u001b[23m \u001b[3m\u001b[38;5;246m<chr>\u001b[39m\u001b[23m        \u001b[3m\u001b[38;5;246m<int>\u001b[39m\u001b[23m\n",
      "\u001b[38;5;250m 1\u001b[39m     1     1 EWR            305\n",
      "\u001b[38;5;250m 2\u001b[39m     1     1 JFK            297\n",
      "\u001b[38;5;250m 3\u001b[39m     1     1 LGA            240\n",
      "\u001b[38;5;250m 4\u001b[39m     1     2 EWR            350\n",
      "\u001b[38;5;250m 5\u001b[39m     1     2 JFK            321\n",
      "\u001b[38;5;250m 6\u001b[39m     1     2 LGA            272\n",
      "\u001b[38;5;250m 7\u001b[39m     1     3 EWR            336\n",
      "\u001b[38;5;250m 8\u001b[39m     1     3 JFK            318\n",
      "\u001b[38;5;250m 9\u001b[39m     1     3 LGA            260\n",
      "\u001b[38;5;250m10\u001b[39m     1     4 EWR            339\n",
      "\u001b[38;5;246m# … with 1,085 more rows\u001b[39m\n",
      "\u001b[38;5;246m# A tibble: 1,095 x 4\u001b[39m\n",
      "\u001b[38;5;246m# Groups:   month, day [365]\u001b[39m\n",
      "   month   day origin n_sched_dep\n",
      "   \u001b[3m\u001b[38;5;246m<int>\u001b[39m\u001b[23m \u001b[3m\u001b[38;5;246m<int>\u001b[39m\u001b[23m \u001b[3m\u001b[38;5;246m<chr>\u001b[39m\u001b[23m        \u001b[3m\u001b[38;5;246m<int>\u001b[39m\u001b[23m\n",
      "\u001b[38;5;250m 1\u001b[39m     4    15 EWR            377\n",
      "\u001b[38;5;250m 2\u001b[39m     4    11 EWR            376\n",
      "\u001b[38;5;250m 3\u001b[39m     4    18 EWR            376\n",
      "\u001b[38;5;250m 4\u001b[39m     4    10 EWR            375\n",
      "\u001b[38;5;250m 5\u001b[39m     4    17 EWR            375\n",
      "\u001b[38;5;250m 6\u001b[39m     4    12 EWR            374\n",
      "\u001b[38;5;250m 7\u001b[39m     4    19 EWR            374\n",
      "\u001b[38;5;250m 8\u001b[39m     4    22 EWR            372\n",
      "\u001b[38;5;250m 9\u001b[39m     4    25 EWR            372\n",
      "\u001b[38;5;250m10\u001b[39m     4    29 EWR            372\n",
      "\u001b[38;5;246m# … with 1,085 more rows\u001b[39m\n",
      "\u001b[38;5;246m# A tibble: 1,095 x 4\u001b[39m\n",
      "\u001b[38;5;246m# Groups:   origin [3]\u001b[39m\n",
      "   month   day origin n_sched_dep\n",
      "   \u001b[3m\u001b[38;5;246m<int>\u001b[39m\u001b[23m \u001b[3m\u001b[38;5;246m<int>\u001b[39m\u001b[23m \u001b[3m\u001b[38;5;246m<chr>\u001b[39m\u001b[23m        \u001b[3m\u001b[38;5;246m<int>\u001b[39m\u001b[23m\n",
      "\u001b[38;5;250m 1\u001b[39m     1     1 EWR            305\n",
      "\u001b[38;5;250m 2\u001b[39m     1     1 JFK            297\n",
      "\u001b[38;5;250m 3\u001b[39m     1     1 LGA            240\n",
      "\u001b[38;5;250m 4\u001b[39m     1     2 EWR            350\n",
      "\u001b[38;5;250m 5\u001b[39m     1     2 JFK            321\n",
      "\u001b[38;5;250m 6\u001b[39m     1     2 LGA            272\n",
      "\u001b[38;5;250m 7\u001b[39m     1     3 EWR            336\n",
      "\u001b[38;5;250m 8\u001b[39m     1     3 JFK            318\n",
      "\u001b[38;5;250m 9\u001b[39m     1     3 LGA            260\n",
      "\u001b[38;5;250m10\u001b[39m     1     4 EWR            339\n",
      "\u001b[38;5;246m# … with 1,085 more rows\u001b[39m\n"
     ]
    },
    {
     "data": {
      "text/html": [
       "<table>\n",
       "<caption>A grouped_df: 11 × 4</caption>\n",
       "<thead>\n",
       "\t<tr><th scope=col>month</th><th scope=col>day</th><th scope=col>origin</th><th scope=col>n_sched_dep</th></tr>\n",
       "\t<tr><th scope=col>&lt;int&gt;</th><th scope=col>&lt;int&gt;</th><th scope=col>&lt;chr&gt;</th><th scope=col>&lt;int&gt;</th></tr>\n",
       "</thead>\n",
       "<tbody>\n",
       "\t<tr><td>4</td><td>11</td><td>EWR</td><td>376</td></tr>\n",
       "\t<tr><td>4</td><td>15</td><td>EWR</td><td>377</td></tr>\n",
       "\t<tr><td>4</td><td>18</td><td>EWR</td><td>376</td></tr>\n",
       "\t<tr><td>7</td><td>10</td><td>JFK</td><td>331</td></tr>\n",
       "\t<tr><td>7</td><td>11</td><td>JFK</td><td>332</td></tr>\n",
       "\t<tr><td>7</td><td>12</td><td>JFK</td><td>331</td></tr>\n",
       "\t<tr><td>9</td><td> 9</td><td>LGA</td><td>345</td></tr>\n",
       "\t<tr><td>9</td><td>12</td><td>LGA</td><td>345</td></tr>\n",
       "\t<tr><td>9</td><td>13</td><td>LGA</td><td>346</td></tr>\n",
       "\t<tr><td>9</td><td>16</td><td>LGA</td><td>345</td></tr>\n",
       "\t<tr><td>9</td><td>23</td><td>LGA</td><td>345</td></tr>\n",
       "</tbody>\n",
       "</table>\n"
      ],
      "text/latex": [
       "A grouped\\_df: 11 × 4\n",
       "\\begin{tabular}{llll}\n",
       " month & day & origin & n\\_sched\\_dep\\\\\n",
       " <int> & <int> & <chr> & <int>\\\\\n",
       "\\hline\n",
       "\t 4 & 11 & EWR & 376\\\\\n",
       "\t 4 & 15 & EWR & 377\\\\\n",
       "\t 4 & 18 & EWR & 376\\\\\n",
       "\t 7 & 10 & JFK & 331\\\\\n",
       "\t 7 & 11 & JFK & 332\\\\\n",
       "\t 7 & 12 & JFK & 331\\\\\n",
       "\t 9 &  9 & LGA & 345\\\\\n",
       "\t 9 & 12 & LGA & 345\\\\\n",
       "\t 9 & 13 & LGA & 346\\\\\n",
       "\t 9 & 16 & LGA & 345\\\\\n",
       "\t 9 & 23 & LGA & 345\\\\\n",
       "\\end{tabular}\n"
      ],
      "text/markdown": [
       "\n",
       "A grouped_df: 11 × 4\n",
       "\n",
       "| month &lt;int&gt; | day &lt;int&gt; | origin &lt;chr&gt; | n_sched_dep &lt;int&gt; |\n",
       "|---|---|---|---|\n",
       "| 4 | 11 | EWR | 376 |\n",
       "| 4 | 15 | EWR | 377 |\n",
       "| 4 | 18 | EWR | 376 |\n",
       "| 7 | 10 | JFK | 331 |\n",
       "| 7 | 11 | JFK | 332 |\n",
       "| 7 | 12 | JFK | 331 |\n",
       "| 9 |  9 | LGA | 345 |\n",
       "| 9 | 12 | LGA | 345 |\n",
       "| 9 | 13 | LGA | 346 |\n",
       "| 9 | 16 | LGA | 345 |\n",
       "| 9 | 23 | LGA | 345 |\n",
       "\n"
      ],
      "text/plain": [
       "   month day origin n_sched_dep\n",
       "1  4     11  EWR    376        \n",
       "2  4     15  EWR    377        \n",
       "3  4     18  EWR    376        \n",
       "4  7     10  JFK    331        \n",
       "5  7     11  JFK    332        \n",
       "6  7     12  JFK    331        \n",
       "7  9      9  LGA    345        \n",
       "8  9     12  LGA    345        \n",
       "9  9     13  LGA    346        \n",
       "10 9     16  LGA    345        \n",
       "11 9     23  LGA    345        "
      ]
     },
     "metadata": {},
     "output_type": "display_data"
    }
   ],
   "source": [
    "tbl <- group_by(flights, month, day, origin) \n",
    "tbl1 <- summarize(tbl, n_sched_dep = n())\n",
    "tbl2 <- arrange(tbl1, desc(n_sched_dep))\n",
    "tbl3 <- group_by(tbl1, origin)\n",
    "print(tbl1)\n",
    "print(tbl2)\n",
    "print(tbl3)\n",
    "top_n(tbl3, 3, n_sched_dep)"
   ]
  },
  {
   "cell_type": "markdown",
   "metadata": {},
   "source": [
    "#### A shortcut\n",
    "`summarize(object =  n())` occurs so often that there is a shortcut for it: and the function is called `count` "
   ]
  },
  {
   "cell_type": "markdown",
   "metadata": {},
   "source": [
    "Let us try to output the number of flights for each month again.  Previously we use the following code to do it:"
   ]
  },
  {
   "cell_type": "code",
   "execution_count": 14,
   "metadata": {},
   "outputs": [
    {
     "name": "stderr",
     "output_type": "stream",
     "text": [
      "`summarise()` ungrouping output (override with `.groups` argument)\n",
      "\n"
     ]
    },
    {
     "name": "stdout",
     "output_type": "stream",
     "text": [
      "\u001b[38;5;246m# A tibble: 12 x 2\u001b[39m\n",
      "   month     n\n",
      "   \u001b[3m\u001b[38;5;246m<int>\u001b[39m\u001b[23m \u001b[3m\u001b[38;5;246m<int>\u001b[39m\u001b[23m\n",
      "\u001b[38;5;250m 1\u001b[39m     1 \u001b[4m2\u001b[24m\u001b[4m7\u001b[24m004\n",
      "\u001b[38;5;250m 2\u001b[39m     2 \u001b[4m2\u001b[24m\u001b[4m4\u001b[24m951\n",
      "\u001b[38;5;250m 3\u001b[39m     3 \u001b[4m2\u001b[24m\u001b[4m8\u001b[24m834\n",
      "\u001b[38;5;250m 4\u001b[39m     4 \u001b[4m2\u001b[24m\u001b[4m8\u001b[24m330\n",
      "\u001b[38;5;250m 5\u001b[39m     5 \u001b[4m2\u001b[24m\u001b[4m8\u001b[24m796\n",
      "\u001b[38;5;250m 6\u001b[39m     6 \u001b[4m2\u001b[24m\u001b[4m8\u001b[24m243\n",
      "\u001b[38;5;250m 7\u001b[39m     7 \u001b[4m2\u001b[24m\u001b[4m9\u001b[24m425\n",
      "\u001b[38;5;250m 8\u001b[39m     8 \u001b[4m2\u001b[24m\u001b[4m9\u001b[24m327\n",
      "\u001b[38;5;250m 9\u001b[39m     9 \u001b[4m2\u001b[24m\u001b[4m7\u001b[24m574\n",
      "\u001b[38;5;250m10\u001b[39m    10 \u001b[4m2\u001b[24m\u001b[4m8\u001b[24m889\n",
      "\u001b[38;5;250m11\u001b[39m    11 \u001b[4m2\u001b[24m\u001b[4m7\u001b[24m268\n",
      "\u001b[38;5;250m12\u001b[39m    12 \u001b[4m2\u001b[24m\u001b[4m8\u001b[24m135\n"
     ]
    },
    {
     "name": "stderr",
     "output_type": "stream",
     "text": [
      "`summarise()` ungrouping output (override with `.groups` argument)\n",
      "\n"
     ]
    },
    {
     "name": "stdout",
     "output_type": "stream",
     "text": [
      "\u001b[38;5;246m# A tibble: 12 x 2\u001b[39m\n",
      "   month     n\n",
      "   \u001b[3m\u001b[38;5;246m<int>\u001b[39m\u001b[23m \u001b[3m\u001b[38;5;246m<int>\u001b[39m\u001b[23m\n",
      "\u001b[38;5;250m 1\u001b[39m     1 \u001b[4m2\u001b[24m\u001b[4m7\u001b[24m004\n",
      "\u001b[38;5;250m 2\u001b[39m     2 \u001b[4m2\u001b[24m\u001b[4m4\u001b[24m951\n",
      "\u001b[38;5;250m 3\u001b[39m     3 \u001b[4m2\u001b[24m\u001b[4m8\u001b[24m834\n",
      "\u001b[38;5;250m 4\u001b[39m     4 \u001b[4m2\u001b[24m\u001b[4m8\u001b[24m330\n",
      "\u001b[38;5;250m 5\u001b[39m     5 \u001b[4m2\u001b[24m\u001b[4m8\u001b[24m796\n",
      "\u001b[38;5;250m 6\u001b[39m     6 \u001b[4m2\u001b[24m\u001b[4m8\u001b[24m243\n",
      "\u001b[38;5;250m 7\u001b[39m     7 \u001b[4m2\u001b[24m\u001b[4m9\u001b[24m425\n",
      "\u001b[38;5;250m 8\u001b[39m     8 \u001b[4m2\u001b[24m\u001b[4m9\u001b[24m327\n",
      "\u001b[38;5;250m 9\u001b[39m     9 \u001b[4m2\u001b[24m\u001b[4m7\u001b[24m574\n",
      "\u001b[38;5;250m10\u001b[39m    10 \u001b[4m2\u001b[24m\u001b[4m8\u001b[24m889\n",
      "\u001b[38;5;250m11\u001b[39m    11 \u001b[4m2\u001b[24m\u001b[4m7\u001b[24m268\n",
      "\u001b[38;5;250m12\u001b[39m    12 \u001b[4m2\u001b[24m\u001b[4m8\u001b[24m135\n"
     ]
    }
   ],
   "source": [
    "tbl <- group_by(flights, month)\n",
    "print(summarize(tbl, n = n()))\n",
    "flights %>% group_by(month) %>% summarize(n = n()) %>% print()"
   ]
  },
  {
   "cell_type": "markdown",
   "metadata": {},
   "source": [
    "### Question -- output the number of flights for each carrier"
   ]
  },
  {
   "cell_type": "code",
   "execution_count": 15,
   "metadata": {},
   "outputs": [
    {
     "name": "stderr",
     "output_type": "stream",
     "text": [
      "`summarise()` ungrouping output (override with `.groups` argument)\n",
      "\n",
      "Selecting by n\n",
      "\n"
     ]
    },
    {
     "data": {
      "text/html": [
       "<table>\n",
       "<caption>A tibble: 5 × 2</caption>\n",
       "<thead>\n",
       "\t<tr><th scope=col>carrier</th><th scope=col>n</th></tr>\n",
       "\t<tr><th scope=col>&lt;chr&gt;</th><th scope=col>&lt;int&gt;</th></tr>\n",
       "</thead>\n",
       "<tbody>\n",
       "\t<tr><td>AA</td><td>32729</td></tr>\n",
       "\t<tr><td>B6</td><td>54635</td></tr>\n",
       "\t<tr><td>DL</td><td>48110</td></tr>\n",
       "\t<tr><td>EV</td><td>54173</td></tr>\n",
       "\t<tr><td>UA</td><td>58665</td></tr>\n",
       "</tbody>\n",
       "</table>\n"
      ],
      "text/latex": [
       "A tibble: 5 × 2\n",
       "\\begin{tabular}{ll}\n",
       " carrier & n\\\\\n",
       " <chr> & <int>\\\\\n",
       "\\hline\n",
       "\t AA & 32729\\\\\n",
       "\t B6 & 54635\\\\\n",
       "\t DL & 48110\\\\\n",
       "\t EV & 54173\\\\\n",
       "\t UA & 58665\\\\\n",
       "\\end{tabular}\n"
      ],
      "text/markdown": [
       "\n",
       "A tibble: 5 × 2\n",
       "\n",
       "| carrier &lt;chr&gt; | n &lt;int&gt; |\n",
       "|---|---|\n",
       "| AA | 32729 |\n",
       "| B6 | 54635 |\n",
       "| DL | 48110 |\n",
       "| EV | 54173 |\n",
       "| UA | 58665 |\n",
       "\n"
      ],
      "text/plain": [
       "  carrier n    \n",
       "1 AA      32729\n",
       "2 B6      54635\n",
       "3 DL      48110\n",
       "4 EV      54173\n",
       "5 UA      58665"
      ]
     },
     "metadata": {},
     "output_type": "display_data"
    }
   ],
   "source": [
    "top_n(summarize(group_by(flights, carrier), n = n()), 5)"
   ]
  },
  {
   "cell_type": "markdown",
   "metadata": {},
   "source": [
    "### Exercise\n",
    "\n",
    "Use `summarize()`, `count()`, `filter()`, `arrange()` and/or `top_n()` to answer:\n",
    "\n",
    "<table class=\"table-condensed\">\n",
    "    <tr><th>Beginner</th><th>Advanced</th></tr>\n",
    "    <tr><td>\n",
    "        Which plane (tail number) flew the most flights in July?\n",
    "        </td>\n",
    "    <td>\n",
    "        How many planes flew at least one flight in January, but none in February?\n",
    "        </td>\n",
    "    </tr>\n",
    "    <tr>\n",
    "<td>\n",
    "</tr>\n",
    "</table>"
   ]
  },
  {
   "cell_type": "code",
   "execution_count": 16,
   "metadata": {},
   "outputs": [
    {
     "name": "stdout",
     "output_type": "stream",
     "text": [
      "\u001b[38;5;246m# A tibble: 3,215 x 2\u001b[39m\n",
      "   tailnum     n\n",
      "   \u001b[3m\u001b[38;5;246m<chr>\u001b[39m\u001b[23m   \u001b[3m\u001b[38;5;246m<int>\u001b[39m\u001b[23m\n",
      "\u001b[38;5;250m 1\u001b[39m D942DN      1\n",
      "\u001b[38;5;250m 2\u001b[39m N0EGMQ     11\n",
      "\u001b[38;5;250m 3\u001b[39m N10156      7\n",
      "\u001b[38;5;250m 4\u001b[39m N102UW      6\n",
      "\u001b[38;5;250m 5\u001b[39m N103US      6\n",
      "\u001b[38;5;250m 6\u001b[39m N104UW      8\n",
      "\u001b[38;5;250m 7\u001b[39m N10575     17\n",
      "\u001b[38;5;250m 8\u001b[39m N105UW      5\n",
      "\u001b[38;5;250m 9\u001b[39m N107US      9\n",
      "\u001b[38;5;250m10\u001b[39m N108UW      7\n",
      "\u001b[38;5;246m# … with 3,205 more rows\u001b[39m\n"
     ]
    },
    {
     "name": "stderr",
     "output_type": "stream",
     "text": [
      "Selecting by n\n",
      "\n"
     ]
    },
    {
     "data": {
      "text/html": [
       "<table>\n",
       "<caption>A tibble: 1 × 2</caption>\n",
       "<thead>\n",
       "\t<tr><th scope=col>tailnum</th><th scope=col>n</th></tr>\n",
       "\t<tr><th scope=col>&lt;chr&gt;</th><th scope=col>&lt;int&gt;</th></tr>\n",
       "</thead>\n",
       "<tbody>\n",
       "\t<tr><td>N298JB</td><td>76</td></tr>\n",
       "</tbody>\n",
       "</table>\n"
      ],
      "text/latex": [
       "A tibble: 1 × 2\n",
       "\\begin{tabular}{ll}\n",
       " tailnum & n\\\\\n",
       " <chr> & <int>\\\\\n",
       "\\hline\n",
       "\t N298JB & 76\\\\\n",
       "\\end{tabular}\n"
      ],
      "text/markdown": [
       "\n",
       "A tibble: 1 × 2\n",
       "\n",
       "| tailnum &lt;chr&gt; | n &lt;int&gt; |\n",
       "|---|---|\n",
       "| N298JB | 76 |\n",
       "\n"
      ],
      "text/plain": [
       "  tailnum n \n",
       "1 N298JB  76"
      ]
     },
     "metadata": {},
     "output_type": "display_data"
    }
   ],
   "source": [
    "# Beginner\n",
    "tbl0 <- filter(flights, month == 7, !is.na(tailnum))\n",
    "#print(tbl0)\n",
    "\n",
    "tbl1 <- count(tbl0, tailnum)\n",
    "print(tbl1)\n",
    "\n",
    "top_n(tbl1,1)\n",
    "\n"
   ]
  }
 ],
 "metadata": {
  "kernelspec": {
   "display_name": "R",
   "language": "R",
   "name": "ir"
  },
  "language_info": {
   "codemirror_mode": "r",
   "file_extension": ".r",
   "mimetype": "text/x-r-source",
   "name": "R",
   "pygments_lexer": "r",
   "version": "4.0.2"
  }
 },
 "nbformat": 4,
 "nbformat_minor": 1
}
