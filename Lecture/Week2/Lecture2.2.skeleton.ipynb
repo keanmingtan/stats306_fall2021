{
 "cells": [
  {
   "cell_type": "markdown",
   "metadata": {},
   "source": [
    "# Lecture 2.2: Advanced ``ggplot``\n",
    "\n",
    "<div style=\"border: 1px double black; padding: 10px; margin: 10px\">\n",
    "   \n",
    "**Goals in this lecture:**\n",
    "    \n",
    "* [Statistical Transformations](#Statistical-Transformations)\n",
    "* [Position Adjustments](#Position-Adjustments)\n",
    "* [Coordinate Systems](#Coordinate-Systems)\n",
    "    \n",
    "This lecture note corresponds to Sections 3.7-3.10 in the book.\n",
    "    \n",
    "* We will then go through the data set `mpg` by answering several questions using plots\n",
    "* We will then try to understand the millenials betteer\n",
    "\n",
    "\n",
    "\n",
    "</div>\n",
    "\n"
   ]
  },
  {
   "cell_type": "markdown",
   "metadata": {},
   "source": [
    "# Statistical Transformations"
   ]
  },
  {
   "cell_type": "markdown",
   "metadata": {},
   "source": [
    "In a lot of graphs, `ggplot` will automatically transform the original variable into some other variables.   This is called statistical transformation.  We will investigate statistical transformations through working on several examples.  Recall the **diamonds** data set in the previous lecture."
   ]
  },
  {
   "cell_type": "code",
   "execution_count": null,
   "metadata": {},
   "outputs": [],
   "source": []
  },
  {
   "cell_type": "markdown",
   "metadata": {},
   "source": [
    "Let us create a **bar chart** using the **cut** variable. This is done by the ``geom_bar`` geometry."
   ]
  },
  {
   "cell_type": "code",
   "execution_count": null,
   "metadata": {},
   "outputs": [],
   "source": []
  },
  {
   "cell_type": "markdown",
   "metadata": {},
   "source": [
    "Geoemtries and Statistical Transformations comes in pairs. E.g.,\n",
    "\n",
    "* `geom_point` and `\"identity\"`\n",
    "* `geom_smooth` and `stat_smooth`\n",
    "* `geom_bar` and `stat_count`"
   ]
  },
  {
   "cell_type": "markdown",
   "metadata": {},
   "source": [
    "You can generally use geoms and stats interchangeably.  For example, you can recreate the previous plot using `stat_count` instead of `geom_bar`.  "
   ]
  },
  {
   "cell_type": "code",
   "execution_count": null,
   "metadata": {},
   "outputs": [],
   "source": []
  },
  {
   "cell_type": "markdown",
   "metadata": {},
   "source": [
    "### Override the default transformation"
   ]
  },
  {
   "cell_type": "markdown",
   "metadata": {},
   "source": [
    "Usually you can typically use `geoms` without worrying about the statistical transformation.  However, there are several situations where we may need to use a `stat` explicitly. An example of a situation when you might want to override the default transformation is the following.\n",
    "\n",
    "Suppose that in your data, you already have the frequency of the diamond cuts summarized as follows.  "
   ]
  },
  {
   "cell_type": "code",
   "execution_count": 6,
   "metadata": {},
   "outputs": [
    {
     "name": "stdout",
     "output_type": "stream",
     "text": [
      "\u001b[38;5;246m# A tibble: 5 x 2\u001b[39m\n",
      "  cut        freq\n",
      "  \u001b[3m\u001b[38;5;246m<chr>\u001b[39m\u001b[23m     \u001b[3m\u001b[38;5;246m<dbl>\u001b[39m\u001b[23m\n",
      "\u001b[38;5;250m1\u001b[39m Fair       \u001b[4m1\u001b[24m610\n",
      "\u001b[38;5;250m2\u001b[39m Good       \u001b[4m4\u001b[24m906\n",
      "\u001b[38;5;250m3\u001b[39m Very Good \u001b[4m1\u001b[24m\u001b[4m2\u001b[24m082\n",
      "\u001b[38;5;250m4\u001b[39m Premium   \u001b[4m1\u001b[24m\u001b[4m3\u001b[24m791\n",
      "\u001b[38;5;250m5\u001b[39m Ideal     \u001b[4m2\u001b[24m\u001b[4m1\u001b[24m551\n"
     ]
    }
   ],
   "source": [
    "demo <- tribble(\n",
    "  ~cut,         ~freq,\n",
    "  \"Fair\",       1610,\n",
    "  \"Good\",       4906,\n",
    "  \"Very Good\",  12082,\n",
    "  \"Premium\",    13791,\n",
    "  \"Ideal\",      21551\n",
    ")\n",
    "print(demo)"
   ]
  },
  {
   "cell_type": "markdown",
   "metadata": {},
   "source": [
    "**Note**: **tibble** is very similar to **data.frame** and we will learn more about it later in the course. "
   ]
  },
  {
   "cell_type": "markdown",
   "metadata": {},
   "source": [
    "Now try to plot a barchart for the dimaonds based on the variable **cut** on your new data called **demo**."
   ]
  },
  {
   "cell_type": "code",
   "execution_count": null,
   "metadata": {},
   "outputs": [],
   "source": []
  },
  {
   "cell_type": "markdown",
   "metadata": {},
   "source": [
    "Yikes! What is going on here 😱?  The default statistical transformation for `geom_bar` is `stat_count`, which basically counts how many observations are actually fair/good/.../Ideal. In this new data set, we have the frequency recorded for each of the cut, and thus only one observation for each cut.  "
   ]
  },
  {
   "cell_type": "markdown",
   "metadata": {},
   "source": [
    "Now we will modify the default `stat_count` in `geom_bar` to plot the same barchart as the one that we have seen before. "
   ]
  },
  {
   "cell_type": "code",
   "execution_count": null,
   "metadata": {},
   "outputs": [],
   "source": []
  },
  {
   "cell_type": "markdown",
   "metadata": {},
   "source": [
    "In the above code, we have modified the `stat` to be `identity`, indicating that we do not want `geom_bar` to automatically perform any statistical transformation to our data.  We also indicate that we want the `y-axis` of the barchart to display `frequency`.  "
   ]
  },
  {
   "cell_type": "markdown",
   "metadata": {},
   "source": [
    "### Question: what if we want to change the order of the cut"
   ]
  },
  {
   "cell_type": "markdown",
   "metadata": {},
   "source": [
    "If you want the categories to be ordered in some other way, you can create a factor with levels in your desired order. Note that `demo$cut` is the way we refer to the `cut` column of the tibble `demo`."
   ]
  },
  {
   "cell_type": "code",
   "execution_count": null,
   "metadata": {},
   "outputs": [],
   "source": []
  },
  {
   "cell_type": "markdown",
   "metadata": {},
   "source": [
    "**Remark:** We have used `geom_bar` to plot a barchart where the `y-axis` is frequency/counts, the `x-axis` is cut, and the bar height represents **counts/frequency**.  What if we want to plot a bar chart with the bar heights representing some values in the data? "
   ]
  },
  {
   "cell_type": "markdown",
   "metadata": {},
   "source": [
    "`geom_col` is used when you wants the bar heights to represent values in the data. E.g., the plot below shows the total **price** (in millions of dollars) of the diamonds in each **cut** category."
   ]
  },
  {
   "cell_type": "code",
   "execution_count": null,
   "metadata": {},
   "outputs": [],
   "source": []
  },
  {
   "cell_type": "markdown",
   "metadata": {},
   "source": [
    "There are a lot of transformations that `geom_bar` is doing internally to create the plot above. E.g., one way to generate the plot by doing explicit data transformations is as follows. Don't worry about the details; we will cover data transformations (like `select`, `group_by`, `summarise`) later."
   ]
  },
  {
   "cell_type": "code",
   "execution_count": 21,
   "metadata": {},
   "outputs": [
    {
     "data": {
      "text/html": [
       "<table class=\"dataframe\">\n",
       "<caption>A tibble: 5 × 2</caption>\n",
       "<thead>\n",
       "\t<tr><th scope=col>cut</th><th scope=col>total_price_millions</th></tr>\n",
       "\t<tr><th scope=col>&lt;ord&gt;</th><th scope=col>&lt;dbl&gt;</th></tr>\n",
       "</thead>\n",
       "<tbody>\n",
       "\t<tr><td>Fair     </td><td> 7.01760</td></tr>\n",
       "\t<tr><td>Good     </td><td>19.27501</td></tr>\n",
       "\t<tr><td>Very Good</td><td>48.10762</td></tr>\n",
       "\t<tr><td>Premium  </td><td>63.22150</td></tr>\n",
       "\t<tr><td>Ideal    </td><td>74.51349</td></tr>\n",
       "</tbody>\n",
       "</table>\n"
      ],
      "text/latex": [
       "A tibble: 5 × 2\n",
       "\\begin{tabular}{ll}\n",
       " cut & total\\_price\\_millions\\\\\n",
       " <ord> & <dbl>\\\\\n",
       "\\hline\n",
       "\t Fair      &  7.01760\\\\\n",
       "\t Good      & 19.27501\\\\\n",
       "\t Very Good & 48.10762\\\\\n",
       "\t Premium   & 63.22150\\\\\n",
       "\t Ideal     & 74.51349\\\\\n",
       "\\end{tabular}\n"
      ],
      "text/markdown": [
       "\n",
       "A tibble: 5 × 2\n",
       "\n",
       "| cut &lt;ord&gt; | total_price_millions &lt;dbl&gt; |\n",
       "|---|---|\n",
       "| Fair      |  7.01760 |\n",
       "| Good      | 19.27501 |\n",
       "| Very Good | 48.10762 |\n",
       "| Premium   | 63.22150 |\n",
       "| Ideal     | 74.51349 |\n",
       "\n"
      ],
      "text/plain": [
       "  cut       total_price_millions\n",
       "1 Fair       7.01760            \n",
       "2 Good      19.27501            \n",
       "3 Very Good 48.10762            \n",
       "4 Premium   63.22150            \n",
       "5 Ideal     74.51349            "
      ]
     },
     "metadata": {},
     "output_type": "display_data"
    }
   ],
   "source": [
    "(my_tibble <- select(diamonds, cut, price) %>%\n",
    "    group_by(cut) %>%\n",
    "    summarise(total_price_millions = sum(price)/1e6))"
   ]
  },
  {
   "cell_type": "code",
   "execution_count": null,
   "metadata": {},
   "outputs": [],
   "source": []
  },
  {
   "cell_type": "markdown",
   "metadata": {},
   "source": [
    "# Position Adjustments"
   ]
  },
  {
   "cell_type": "markdown",
   "metadata": {},
   "source": [
    "We can incorporate various modifications to our barchart, and this is done with what we referred to as position adjustments.  Let us see what happens when we map the **color** aesthetic to the **cut** variable in `geom_bar`."
   ]
  },
  {
   "cell_type": "code",
   "execution_count": null,
   "metadata": {},
   "outputs": [],
   "source": []
  },
  {
   "cell_type": "markdown",
   "metadata": {},
   "source": [
    "It just changed the boundary color. Using the **fill** aesthetic will change the color of the entire bars."
   ]
  },
  {
   "cell_type": "code",
   "execution_count": null,
   "metadata": {},
   "outputs": [],
   "source": []
  },
  {
   "cell_type": "markdown",
   "metadata": {
    "collapsed": true
   },
   "source": [
    "Adding colors to each cut is not really helpful here since each column is already representing the different cuts.  How about we map the `fill` aesthetic to some variable other than **cut**, say **clarity**?"
   ]
  },
  {
   "cell_type": "code",
   "execution_count": null,
   "metadata": {},
   "outputs": [],
   "source": []
  },
  {
   "cell_type": "markdown",
   "metadata": {},
   "source": [
    "If stacking is not the behavior you want, you can set the **position** argument to something else.  For `geom_bar` there are three options -- `identity`, `fill`, and `dodge`."
   ]
  },
  {
   "cell_type": "code",
   "execution_count": null,
   "metadata": {},
   "outputs": [],
   "source": []
  },
  {
   "cell_type": "markdown",
   "metadata": {},
   "source": [
    "Position `fill` works like stacking but makes each set of stacked bars the same height.  The `y-axis` is replaced by the proportion rather than counts.  This can be useful when we are interested in understanding the proportion of clarity within each cut. In fact, the above plot suggests that for diamond that is cut ideally, the clarity tends to also be high.    "
   ]
  },
  {
   "cell_type": "markdown",
   "metadata": {},
   "source": [
    "We could also plot a barchart seperated by clarity and cut simultaneously using `position = \"dodge\"`.  This will put the bars side by side.  "
   ]
  },
  {
   "cell_type": "code",
   "execution_count": null,
   "metadata": {},
   "outputs": [],
   "source": []
  },
  {
   "cell_type": "markdown",
   "metadata": {},
   "source": [
    "# Coordinate Systems"
   ]
  },
  {
   "cell_type": "markdown",
   "metadata": {},
   "source": [
    "Next we are going to talk about how we modify the coordinate system of the graph.  By default, we have the Cartesian coordinate system where we have `x-axis` and `y-axis` to indicate the position of each point. In certain cases, we may find some other coordinate systems helpful.    "
   ]
  },
  {
   "cell_type": "markdown",
   "metadata": {},
   "source": [
    "Let us start simple by making our bars in our bar charts touch each other. "
   ]
  },
  {
   "cell_type": "code",
   "execution_count": null,
   "metadata": {},
   "outputs": [],
   "source": []
  },
  {
   "cell_type": "markdown",
   "metadata": {},
   "source": [
    "We set width so that the bars touch.  Now let us change to polar coordinates and see what we get.  "
   ]
  },
  {
   "cell_type": "code",
   "execution_count": null,
   "metadata": {},
   "outputs": [],
   "source": []
  },
  {
   "cell_type": "markdown",
   "metadata": {},
   "source": [
    "This is also called the **Coxcomb chart**.  `labs(x = NULL)` removes the `x-axis` label \"cut\", and `coord_polar` changes the cartersian coordinates to polar coordinates. "
   ]
  },
  {
   "cell_type": "markdown",
   "metadata": {},
   "source": [
    "### Remark: \n",
    "Remember `ggplot` is layer-based.  What we did above is to create a bar charts and assign it to the variable bar.  Then, we add in some additional arguments and convert the bar charts into polar-coordinate, giving us a coxcomb chart.  The following code will also produce the same plot.  "
   ]
  },
  {
   "cell_type": "code",
   "execution_count": null,
   "metadata": {},
   "outputs": [],
   "source": []
  },
  {
   "cell_type": "markdown",
   "metadata": {},
   "source": [
    "### Pie Chart! "
   ]
  },
  {
   "cell_type": "markdown",
   "metadata": {},
   "source": [
    "A **pie chart** is a circular chart where the angle of each wedge is proportional to the frequency of each category. Mathematically, this amounts to mapping the $y$ coordinate (height) to angle (radians). `ggplot()` lets us make pie charts, though it is not easy. (There is no `geom_pie()`.)\n",
    "\n",
    "To get a **pie chart**, we have to create a **stacked bar chart** first"
   ]
  },
  {
   "cell_type": "code",
   "execution_count": null,
   "metadata": {},
   "outputs": [],
   "source": []
  },
  {
   "cell_type": "markdown",
   "metadata": {},
   "source": [
    "Note the use of a dummy constant variable `1` in the code fragment `geom_bar(mapping = aes(x = 1, fill = cut), width = 1))` above. This is because using the `fill` aesthetic requires me to first specify the `x` aesthetic. So I just created a dummy variable for that purpose."
   ]
  },
  {
   "cell_type": "markdown",
   "metadata": {},
   "source": [
    "Now we are going to convert the Cartersian coordinate into polar coordinate. "
   ]
  },
  {
   "cell_type": "markdown",
   "metadata": {},
   "source": [
    "Yikes, what happen here? By default, it will map to the radial coordinate giving us a **bullseye chart**.  \n",
    "\n",
    "To get a proper pie chart, we map the Y axis of the bar chart to the angle **theta**. "
   ]
  },
  {
   "cell_type": "code",
   "execution_count": null,
   "metadata": {},
   "outputs": [],
   "source": []
  },
  {
   "cell_type": "markdown",
   "metadata": {},
   "source": [
    "There is another use case involving a dummy variable. You might want to show proportions instead of counts. You realize reading the documentation [here](https://ggplot2.tidyverse.org/reference/geom_bar.html#computed-variables) that the `stat_count` statistical transformation internally computes variables `..count..` and `..prop..`. So you try the following code."
   ]
  },
  {
   "cell_type": "code",
   "execution_count": null,
   "metadata": {},
   "outputs": [],
   "source": []
  },
  {
   "cell_type": "markdown",
   "metadata": {},
   "source": [
    "This doesn't work because the rows get grouped by `cut` and within each group, the proportion of that `cut` category is obviously 1. So, again the solution is to use a dummy variable. It doesn't matter what the value of the variable is. We can set it to 306!"
   ]
  },
  {
   "cell_type": "code",
   "execution_count": null,
   "metadata": {},
   "outputs": [],
   "source": []
  },
  {
   "cell_type": "markdown",
   "metadata": {},
   "source": [
    "Now you have learned about all elements of the following ggplot template:\n",
    "\n",
    "```r\n",
    "ggplot(data = <DATA>) + \n",
    "  <GEOM_FUNCTION>(\n",
    "     mapping = aes(<MAPPINGS>),\n",
    "     stat = <STAT>, \n",
    "     position = <POSITION>\n",
    "  ) +\n",
    "  <COORDINATE_FUNCTION> +\n",
    "  <FACET_FUNCTION>\n",
    "```"
   ]
  },
  {
   "cell_type": "markdown",
   "metadata": {},
   "source": [
    "# Case Studies"
   ]
  },
  {
   "cell_type": "markdown",
   "metadata": {},
   "source": [
    "We start with the `mpg` data set.  "
   ]
  },
  {
   "cell_type": "code",
   "execution_count": 3,
   "metadata": {},
   "outputs": [
    {
     "name": "stdout",
     "output_type": "stream",
     "text": [
      "\u001b[90m# A tibble: 234 × 11\u001b[39m\n",
      "   manufacturer model      displ  year   cyl trans drv     cty   hwy fl    class\n",
      "   \u001b[3m\u001b[90m<chr>\u001b[39m\u001b[23m        \u001b[3m\u001b[90m<chr>\u001b[39m\u001b[23m      \u001b[3m\u001b[90m<dbl>\u001b[39m\u001b[23m \u001b[3m\u001b[90m<int>\u001b[39m\u001b[23m \u001b[3m\u001b[90m<int>\u001b[39m\u001b[23m \u001b[3m\u001b[90m<chr>\u001b[39m\u001b[23m \u001b[3m\u001b[90m<chr>\u001b[39m\u001b[23m \u001b[3m\u001b[90m<int>\u001b[39m\u001b[23m \u001b[3m\u001b[90m<int>\u001b[39m\u001b[23m \u001b[3m\u001b[90m<chr>\u001b[39m\u001b[23m \u001b[3m\u001b[90m<chr>\u001b[39m\u001b[23m\n",
      "\u001b[90m 1\u001b[39m audi         a4           1.8  \u001b[4m1\u001b[24m999     4 auto… f        18    29 p     comp…\n",
      "\u001b[90m 2\u001b[39m audi         a4           1.8  \u001b[4m1\u001b[24m999     4 manu… f        21    29 p     comp…\n",
      "\u001b[90m 3\u001b[39m audi         a4           2    \u001b[4m2\u001b[24m008     4 manu… f        20    31 p     comp…\n",
      "\u001b[90m 4\u001b[39m audi         a4           2    \u001b[4m2\u001b[24m008     4 auto… f        21    30 p     comp…\n",
      "\u001b[90m 5\u001b[39m audi         a4           2.8  \u001b[4m1\u001b[24m999     6 auto… f        16    26 p     comp…\n",
      "\u001b[90m 6\u001b[39m audi         a4           2.8  \u001b[4m1\u001b[24m999     6 manu… f        18    26 p     comp…\n",
      "\u001b[90m 7\u001b[39m audi         a4           3.1  \u001b[4m2\u001b[24m008     6 auto… f        18    27 p     comp…\n",
      "\u001b[90m 8\u001b[39m audi         a4 quattro   1.8  \u001b[4m1\u001b[24m999     4 manu… 4        18    26 p     comp…\n",
      "\u001b[90m 9\u001b[39m audi         a4 quattro   1.8  \u001b[4m1\u001b[24m999     4 auto… 4        16    25 p     comp…\n",
      "\u001b[90m10\u001b[39m audi         a4 quattro   2    \u001b[4m2\u001b[24m008     4 manu… 4        20    28 p     comp…\n",
      "\u001b[90m# … with 224 more rows\u001b[39m\n"
     ]
    }
   ],
   "source": [
    "print(mpg)"
   ]
  },
  {
   "cell_type": "markdown",
   "metadata": {},
   "source": [
    "Make a scatterplot of year vs highway gas mileage. "
   ]
  },
  {
   "cell_type": "code",
   "execution_count": null,
   "metadata": {},
   "outputs": [],
   "source": []
  },
  {
   "cell_type": "markdown",
   "metadata": {},
   "source": [
    "It turns out that there are only two years represented in the data, not really enought to paint a full picture over time. Instead we can treat year as a categorical variable and look at the distribution of **hwy** within each value of year. For this we will use a new geom called ``boxplot``:"
   ]
  },
  {
   "cell_type": "code",
   "execution_count": null,
   "metadata": {},
   "outputs": [],
   "source": []
  },
  {
   "cell_type": "markdown",
   "metadata": {},
   "source": [
    "The boxplot displays the following information: \n",
    "*  minimum\n",
    "*  maximum\n",
    "*  25% Quartile\n",
    "*  75% Quartile\n",
    "*  median"
   ]
  },
  {
   "cell_type": "markdown",
   "metadata": {},
   "source": [
    "Surprisingly, the median highway gas mileage went down from 1999 to 2008. Why might this be? Let's try plotting the fraction of car types represented in each data set. To do this we will plot a bar chart. This takes one aesthetic called `x=` and makes a plot with the number of times that each (discrete) value of `x` appears in the data set. Here is an example which counts the number of cars in each class:"
   ]
  },
  {
   "cell_type": "code",
   "execution_count": null,
   "metadata": {},
   "outputs": [],
   "source": []
  },
  {
   "cell_type": "markdown",
   "metadata": {},
   "source": [
    "We will now make a plot of the number of different auto classes in 1999 vs 2008:\n"
   ]
  },
  {
   "cell_type": "markdown",
   "metadata": {},
   "source": []
  },
  {
   "cell_type": "markdown",
   "metadata": {},
   "source": [
    "##  Understaning Millenials "
   ]
  },
  {
   "cell_type": "markdown",
   "metadata": {},
   "source": [
    "## Millenials\n",
    "Next we will focus on data set released by the [Pew Research Center](https://www.pewsocialtrends.org/2010/02/24/millennials-confident-connected-open-to-change/) on ... millennials!\n",
    "\n",
    "![millennials](https://images2.minutemediacdn.com/image/upload/c_crop,h_1189,w_2119,x_0,y_225/f_auto,q_auto,w_1100/v1561494201/shape/mentalfloss/586493-istock-862201574.jpg)\n",
    "\n",
    "The data set we will analyze is based on a survey of about 2,000 people done in 2011:"
   ]
  },
  {
   "cell_type": "markdown",
   "metadata": {},
   "source": [
    "#### Load the data millenials.RData "
   ]
  },
  {
   "cell_type": "code",
   "execution_count": null,
   "metadata": {},
   "outputs": [],
   "source": []
  },
  {
   "cell_type": "markdown",
   "metadata": {},
   "source": [
    "Each column of the data corresponds to one of the question asked during the survey. You can find the full script in the `Millennials_Ques.pdf` in Canvas or Github."
   ]
  },
  {
   "cell_type": "markdown",
   "metadata": {},
   "source": [
    "## Bar charts\n",
    "Let us try to explore Question 20 in the pdf:\n",
    "\n",
    "    Q.20\tHow often do you visit the social networking site you use most often… several times a day, about once a day, every few days, once a week or less often?\n",
    "    \n",
    "Plot a barchart to visualize the data collected for answering Question 20. "
   ]
  },
  {
   "cell_type": "code",
   "execution_count": null,
   "metadata": {},
   "outputs": [],
   "source": []
  },
  {
   "cell_type": "markdown",
   "metadata": {},
   "source": [
    "As we can see from the plot, there are a lot of missing values. Moreover, the labels on the `x-axis` overlaps with each other.  We will now plot those bars on the `y-axis` to avoid overlapping labels."
   ]
  },
  {
   "cell_type": "code",
   "execution_count": null,
   "metadata": {},
   "outputs": [],
   "source": []
  },
  {
   "cell_type": "markdown",
   "metadata": {},
   "source": [
    "Let's try to improve the plot by introducing colors to the bar charts. "
   ]
  },
  {
   "cell_type": "code",
   "execution_count": null,
   "metadata": {},
   "outputs": [],
   "source": []
  },
  {
   "cell_type": "markdown",
   "metadata": {},
   "source": [
    "What happens when we map the `fill` aesthetic to some variable other than `q20`? For example, let's visualize social media usage relative to the response to the question:\n",
    "\n",
    "    EMPLOY\tHow much are you employed?"
   ]
  },
  {
   "cell_type": "code",
   "execution_count": null,
   "metadata": {},
   "outputs": [],
   "source": []
  },
  {
   "cell_type": "markdown",
   "metadata": {},
   "source": [
    "We could also remove the missing values before we plot."
   ]
  },
  {
   "cell_type": "code",
   "execution_count": null,
   "metadata": {},
   "outputs": [],
   "source": []
  },
  {
   "cell_type": "markdown",
   "metadata": {},
   "source": [
    "What if we want to compare the proportion of employment status for each q20."
   ]
  },
  {
   "cell_type": "code",
   "execution_count": null,
   "metadata": {},
   "outputs": [],
   "source": []
  },
  {
   "cell_type": "markdown",
   "metadata": {},
   "source": [
    "### Pie Charts"
   ]
  },
  {
   "cell_type": "markdown",
   "metadata": {},
   "source": [
    "Let's try plotting a piechart to explore the question \n",
    "\n",
    "    Q.36\tHow closely do you watch the amount of money you spend?"
   ]
  },
  {
   "cell_type": "code",
   "execution_count": null,
   "metadata": {},
   "outputs": [],
   "source": []
  },
  {
   "cell_type": "markdown",
   "metadata": {},
   "source": [
    "From the piechart, we learn that majority of millenials tend to be more financially responsible and tend to monitor their spending very closely and fairly closely.  "
   ]
  },
  {
   "cell_type": "markdown",
   "metadata": {},
   "source": [
    "### Using Facets"
   ]
  },
  {
   "cell_type": "markdown",
   "metadata": {},
   "source": [
    "We already saw how to add a third variable to a scatter plot by using a color aesthetics. **Facets** provide another way to stratify plots by additional variables. Let's look at responses to:\n",
    "    \n",
    "    AGE.    What is your age?\n",
    "    Q44g.\tHave you ever sent or received a text message while driving?\n",
    "    Q44i.\tHave you ever placed your cell phone on or right next \n",
    "            to your bed while sleeping?"
   ]
  },
  {
   "cell_type": "markdown",
   "metadata": {},
   "source": [
    "Plot boxplots for age segregated by Q44g.  "
   ]
  },
  {
   "cell_type": "code",
   "execution_count": null,
   "metadata": {},
   "outputs": [],
   "source": []
  },
  {
   "cell_type": "markdown",
   "metadata": {},
   "source": [
    "What if we want to understand a combination of Q44g and Q44i?"
   ]
  },
  {
   "cell_type": "code",
   "execution_count": null,
   "metadata": {},
   "outputs": [],
   "source": []
  },
  {
   "cell_type": "markdown",
   "metadata": {},
   "source": [
    "## Other interesting questions\n",
    "Here are all the question definitions in this data set that you can explore: "
   ]
  },
  {
   "cell_type": "markdown",
   "metadata": {},
   "source": [
    "Q.8\tPlease tell me how important each is to you personally.\n",
    "\ta.\tBeing successful in a high-paying career or profession \n",
    "\tb.\tHaving a successful marriage \n",
    "\tc.\tLiving a very religious life \n",
    "\td.\tBeing a good parent \n",
    "\te.\tHaving lots of free time to relax or do things you want to do \n",
    "\tf.\tBecoming famous \n",
    "\tg.\tHelping other people who are in need \n",
    "\th.\tOwning your own home \n",
    "\n",
    "    Q.20\tHow often do you visit the social networking site you use most often.\n",
    "    \n",
    "    Q.25 \tThinking about the past 24 hours, about how many text messages did you send and receive on your cell phone? \n",
    "\n",
    "    Q.36\tHow closely do you watch the amount of money you spend?\n",
    "    \n",
    "    Q. 41   Do you strongly favor, favor, oppose, or strongly oppose allowing gay and lesbian couples to marry legally?\n",
    "    \n",
    "    Q.44\t\n",
    "        a.\tDo you recycle paper, plastic or glass from home? \n",
    "        b.\tDo you have a close friend or family member who is gay? \n",
    "        c.\tDo you happen to have any guns, rifles or pistols in your home? \n",
    "        d.\tHave you ever posted a video of yourself online? \n",
    "        g.\tHave you ever sent or received a text message while driving?\n",
    "        i.\tHave you ever placed your cell phone on or right next to your bed while sleeping?\n",
    "    \n",
    "    Q.46\tHow many tattoos do you have?\n",
    "    \n",
    "    HOME2\tDo you own your home, rent, live in a dorm or live with your parents?\n",
    "    LWP2 \tHave you ever lived together with a partner without being married, or not?\n",
    "    HEALTH\tAre you, yourself, now covered by any form of health insurance or health plan or are you not covered at this time?\n",
    "    FINAN\tDo you depend on your parents or other family members for financial assistance, or not? \n",
    "    EDUC\tWhat is the last grade or class that you completed in school? \n",
    "    AGE     How old are you?"
   ]
  }
 ],
 "metadata": {
  "kernelspec": {
   "display_name": "R",
   "language": "R",
   "name": "ir"
  },
  "language_info": {
   "codemirror_mode": "r",
   "file_extension": ".r",
   "mimetype": "text/x-r-source",
   "name": "R",
   "pygments_lexer": "r",
   "version": "4.0.2"
  }
 },
 "nbformat": 4,
 "nbformat_minor": 1
}
