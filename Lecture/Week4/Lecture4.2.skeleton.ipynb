{
 "cells": [
  {
   "cell_type": "markdown",
   "metadata": {},
   "source": [
    "# Lecture 4.2: More about Exploratory Data Analysis\n",
    "\n",
    "<div style=\"border: 1px double black; padding: 10px; margin: 10px\">\n",
    "\n",
    "**Goals for today's lecture:**\n",
    "* The covariation between two variables\n",
    "* Case Studies on EDA\n",
    "    \n",
    "This lecture note corresponds to Chapter 7 of your book.\n",
    "</div>\n"
   ]
  },
  {
   "cell_type": "code",
   "execution_count": 37,
   "metadata": {},
   "outputs": [],
   "source": [
    "library(tidyverse)\n",
    "library(nycflights13)"
   ]
  },
  {
   "cell_type": "markdown",
   "metadata": {},
   "source": [
    "## More about Histogram\n",
    "\n",
    "Let us try to plot a histogram for the variable `dep_delay` in our flights data set. "
   ]
  },
  {
   "cell_type": "code",
   "execution_count": null,
   "metadata": {},
   "outputs": [],
   "source": []
  },
  {
   "cell_type": "markdown",
   "metadata": {},
   "source": [
    "It seems like there are 8255 rows that have missing values, so maybe let us try to remove those values first before we plot our histogram.  "
   ]
  },
  {
   "cell_type": "code",
   "execution_count": null,
   "metadata": {},
   "outputs": [],
   "source": []
  },
  {
   "cell_type": "markdown",
   "metadata": {},
   "source": [
    "Since we have already manually removed all of the missing values, `ggplot` will not output a warning message for us now."
   ]
  },
  {
   "cell_type": "markdown",
   "metadata": {},
   "source": [
    "Let us zoom into the left part of the plot. Let us only look at flights with departure delays of less than an hour."
   ]
  },
  {
   "cell_type": "code",
   "execution_count": null,
   "metadata": {},
   "outputs": [],
   "source": []
  },
  {
   "cell_type": "markdown",
   "metadata": {},
   "source": [
    "We can look at the underlying bins and their count by using the `cut_width` function in ggplot2."
   ]
  },
  {
   "cell_type": "code",
   "execution_count": null,
   "metadata": {},
   "outputs": [],
   "source": []
  },
  {
   "cell_type": "markdown",
   "metadata": {},
   "source": [
    "The `cut_width` function basically shows you how many observations are within each bin with bin width equal to five."
   ]
  },
  {
   "cell_type": "markdown",
   "metadata": {},
   "source": [
    "#### Remark: \n",
    "The appearance of a histogram does depend on your choice of the bin width. It is a good idea to try several values to see if different choices reveal different patterns.\n",
    "\n",
    "We can also bring in a third variable to our histogram just like we did for `geom_bar` and others.\n",
    "\n",
    "Let us bring in the categorical variable **carrier** and map the color aesthetic to it.\n",
    "\n"
   ]
  },
  {
   "cell_type": "code",
   "execution_count": null,
   "metadata": {},
   "outputs": [],
   "source": []
  },
  {
   "cell_type": "markdown",
   "metadata": {},
   "source": [
    "Oops! The legend is a bit crowded. Let us see who the major carriers are by number of flights."
   ]
  },
  {
   "cell_type": "markdown",
   "metadata": {},
   "source": [
    "Maybe let us just plot the historgam with the top 5 carriers. Let us find out which carriers are the top five carriers by using the tools that we have learnt so far.  "
   ]
  },
  {
   "cell_type": "code",
   "execution_count": null,
   "metadata": {},
   "outputs": [],
   "source": []
  },
  {
   "cell_type": "markdown",
   "metadata": {},
   "source": [
    "Now we can additionally filter out rows that do not belong to the top 5 carriers."
   ]
  },
  {
   "cell_type": "code",
   "execution_count": null,
   "metadata": {},
   "outputs": [],
   "source": []
  },
  {
   "cell_type": "markdown",
   "metadata": {},
   "source": [
    "Hmmm... May be not a good idea to stick with histograms here. It is still too crowded and it is hard to see what is going on.  So let us a new geometry **freqpoly** which is like histogram but shows lines. Overlapping lines are easier to see than overlapping bars."
   ]
  },
  {
   "cell_type": "code",
   "execution_count": null,
   "metadata": {},
   "outputs": [],
   "source": []
  },
  {
   "cell_type": "markdown",
   "metadata": {},
   "source": [
    "## Case Studies \n",
    "\n",
    "### Who is the greatest batter of all time?\n",
    "The `Lahman` dataset contains information on baseball players.\n"
   ]
  },
  {
   "cell_type": "code",
   "execution_count": 11,
   "metadata": {},
   "outputs": [
    {
     "name": "stdout",
     "output_type": "stream",
     "text": [
      "\n",
      "The downloaded binary packages are in\n",
      "\t/var/folders/0l/dj01tr0x49xbx9gr9y98rpj00000gn/T//Rtmpyhw2TV/downloaded_packages\n"
     ]
    }
   ],
   "source": [
    "install.packages(\"Lahman\")"
   ]
  },
  {
   "cell_type": "code",
   "execution_count": 12,
   "metadata": {},
   "outputs": [
    {
     "name": "stdout",
     "output_type": "stream",
     "text": [
      "\u001b[90m# A tibble: 108,789 × 22\u001b[39m\n",
      "   playerID  yearID stint teamID lgID      G    AB     R     H   X2B   X3B    HR\n",
      "   \u001b[3m\u001b[90m<chr>\u001b[39m\u001b[23m      \u001b[3m\u001b[90m<int>\u001b[39m\u001b[23m \u001b[3m\u001b[90m<int>\u001b[39m\u001b[23m \u001b[3m\u001b[90m<fct>\u001b[39m\u001b[23m  \u001b[3m\u001b[90m<fct>\u001b[39m\u001b[23m \u001b[3m\u001b[90m<int>\u001b[39m\u001b[23m \u001b[3m\u001b[90m<int>\u001b[39m\u001b[23m \u001b[3m\u001b[90m<int>\u001b[39m\u001b[23m \u001b[3m\u001b[90m<int>\u001b[39m\u001b[23m \u001b[3m\u001b[90m<int>\u001b[39m\u001b[23m \u001b[3m\u001b[90m<int>\u001b[39m\u001b[23m \u001b[3m\u001b[90m<int>\u001b[39m\u001b[23m\n",
      "\u001b[90m 1\u001b[39m abercda01   \u001b[4m1\u001b[24m871     1 TRO    NA        1     4     0     0     0     0     0\n",
      "\u001b[90m 2\u001b[39m addybo01    \u001b[4m1\u001b[24m871     1 RC1    NA       25   118    30    32     6     0     0\n",
      "\u001b[90m 3\u001b[39m allisar01   \u001b[4m1\u001b[24m871     1 CL1    NA       29   137    28    40     4     5     0\n",
      "\u001b[90m 4\u001b[39m allisdo01   \u001b[4m1\u001b[24m871     1 WS3    NA       27   133    28    44    10     2     2\n",
      "\u001b[90m 5\u001b[39m ansonca01   \u001b[4m1\u001b[24m871     1 RC1    NA       25   120    29    39    11     3     0\n",
      "\u001b[90m 6\u001b[39m armstbo01   \u001b[4m1\u001b[24m871     1 FW1    NA       12    49     9    11     2     1     0\n",
      "\u001b[90m 7\u001b[39m barkeal01   \u001b[4m1\u001b[24m871     1 RC1    NA        1     4     0     1     0     0     0\n",
      "\u001b[90m 8\u001b[39m barnero01   \u001b[4m1\u001b[24m871     1 BS1    NA       31   157    66    63    10     9     0\n",
      "\u001b[90m 9\u001b[39m barrebi01   \u001b[4m1\u001b[24m871     1 FW1    NA        1     5     1     1     1     0     0\n",
      "\u001b[90m10\u001b[39m barrofr01   \u001b[4m1\u001b[24m871     1 BS1    NA       18    86    13    13     2     1     0\n",
      "\u001b[90m# … with 108,779 more rows, and 10 more variables: RBI <int>, SB <int>,\u001b[39m\n",
      "\u001b[90m#   CS <int>, BB <int>, SO <int>, IBB <int>, HBP <int>, SH <int>, SF <int>,\u001b[39m\n",
      "\u001b[90m#   GIDP <int>\u001b[39m\n"
     ]
    }
   ],
   "source": [
    "library(Lahman)\n",
    "bat <- as_tibble(Batting) %>% print"
   ]
  },
  {
   "cell_type": "markdown",
   "metadata": {},
   "source": [
    "Each row of the above data is data per player and per year.  For instance, let's take a look at the second row of our data."
   ]
  },
  {
   "cell_type": "code",
   "execution_count": null,
   "metadata": {},
   "outputs": [],
   "source": []
  },
  {
   "cell_type": "markdown",
   "metadata": {},
   "source": [
    "Let's try to compute the career batting average for Bob Addy, defined as Hit/(Number of bats).  The playerID for Bob Addy is addybo01.  The variable for Hit is `H` and numner of bats is `AB`. "
   ]
  },
  {
   "cell_type": "code",
   "execution_count": null,
   "metadata": {},
   "outputs": [],
   "source": []
  },
  {
   "cell_type": "markdown",
   "metadata": {},
   "source": [
    "Bob Addy was active in the years 1871-1877. During that time he had $118+51+152+213+310+142+245=1231$ at-bats, and $32+16+54+51+80+40+68=341$ hits. Therefore his career batting average was $341/1241=0.277$."
   ]
  },
  {
   "cell_type": "code",
   "execution_count": null,
   "metadata": {},
   "outputs": [],
   "source": []
  },
  {
   "cell_type": "markdown",
   "metadata": {},
   "source": [
    "### Exercise\n",
    "By appropriately grouping and summarizing the data, add up all the hits and at-bats for each player across all the years they played, and compute their career batting average. \n",
    "\n",
    "Which player(s) has the highest career batting average?"
   ]
  },
  {
   "cell_type": "code",
   "execution_count": null,
   "metadata": {},
   "outputs": [],
   "source": []
  },
  {
   "cell_type": "markdown",
   "metadata": {},
   "source": [
    "### Always include counts\n",
    "It is a good idea to include counts of each group when you do a summary. Some groups may have very low numbers of observations, resulting in high variance for the summary statistics. \n",
    "\n"
   ]
  },
  {
   "cell_type": "code",
   "execution_count": null,
   "metadata": {},
   "outputs": [],
   "source": []
  },
  {
   "cell_type": "markdown",
   "metadata": {},
   "source": [
    "\n",
    "What happens if we restrict our batting average calculation to players that had at least 100 at-bats, and sort it from players that have the highest batting average?"
   ]
  },
  {
   "cell_type": "code",
   "execution_count": null,
   "metadata": {},
   "outputs": [],
   "source": []
  },
  {
   "cell_type": "markdown",
   "metadata": {},
   "source": [
    "What is wrong with the above?  Why are there so many overlapping rows for the player cobbty01? "
   ]
  },
  {
   "cell_type": "code",
   "execution_count": null,
   "metadata": {},
   "outputs": [],
   "source": []
  },
  {
   "cell_type": "markdown",
   "metadata": {},
   "source": [
    "### Exercise\n",
    "Output all the years in which the batting average for those years for cobbty01 is less than his bat_avg across all years. That is, we are interested in knowing which year cobbty01 underperform.    "
   ]
  },
  {
   "cell_type": "code",
   "execution_count": null,
   "metadata": {},
   "outputs": [],
   "source": []
  },
  {
   "cell_type": "markdown",
   "metadata": {},
   "source": [
    "## Exercise\n",
    "Now output all rows for each player that underperform, that is, their bat_avg_year is less than bat_avg.\n",
    "\n",
    "That is, we are interested in knowing whether there is any specific year that the players underperform. "
   ]
  },
  {
   "cell_type": "code",
   "execution_count": null,
   "metadata": {},
   "outputs": [],
   "source": []
  },
  {
   "cell_type": "markdown",
   "metadata": {},
   "source": [
    "## Exercise\n",
    "Write code to find the player with the highest bat_avg for each team. You may find the function `slice_max` useful."
   ]
  },
  {
   "cell_type": "code",
   "execution_count": null,
   "metadata": {},
   "outputs": [],
   "source": []
  },
  {
   "cell_type": "markdown",
   "metadata": {},
   "source": [
    "## Names of baseball players\n",
    "\n",
    "Let us think more about names. Naming frequencies change a lot over time. There are 19617 baseball players in this data set. How have their names changed over time?\n",
    "\n",
    "We are going to extract the first name and last name in our data set `Lahman::Master` by linking the playerID."
   ]
  },
  {
   "cell_type": "code",
   "execution_count": null,
   "metadata": {},
   "outputs": [],
   "source": []
  },
  {
   "cell_type": "markdown",
   "metadata": {},
   "source": [
    "## Exercise\n",
    "What were the top five most common first names for players born before 1900? After 1980?"
   ]
  },
  {
   "cell_type": "code",
   "execution_count": null,
   "metadata": {},
   "outputs": [],
   "source": []
  },
  {
   "cell_type": "markdown",
   "metadata": {},
   "source": [
    "One thing we notice is that there are a lot of nicknames. It might make more sense to look at the \"given name\", which is usually the first and middle names. To do this, we will need to split up these names. There is a built-in command for doing this in R:"
   ]
  },
  {
   "cell_type": "code",
   "execution_count": null,
   "metadata": {},
   "outputs": [],
   "source": []
  },
  {
   "cell_type": "markdown",
   "metadata": {},
   "source": [
    "## Exercise\n",
    "What were the top five most common first names for players born before 1900? After 1980?"
   ]
  },
  {
   "cell_type": "code",
   "execution_count": null,
   "metadata": {},
   "outputs": [],
   "source": []
  },
  {
   "cell_type": "markdown",
   "metadata": {},
   "source": [
    "## Finding distinct values\n",
    "\n",
    "Here's an example: I want to know how many distinct values are there? The `n_distinct()` function takes a vector of values, and returns the number of distinct values:"
   ]
  },
  {
   "cell_type": "code",
   "execution_count": null,
   "metadata": {},
   "outputs": [],
   "source": []
  },
  {
   "cell_type": "markdown",
   "metadata": {},
   "source": [
    "## Exercise\n",
    "How many distinct names were there among players born before 1900? After 1980?"
   ]
  },
  {
   "cell_type": "code",
   "execution_count": null,
   "metadata": {},
   "outputs": [],
   "source": []
  },
  {
   "cell_type": "markdown",
   "metadata": {},
   "source": [
    "Are there more or less unique names now than there were in the past? Let's consider the number of distinct names seen in each year:"
   ]
  },
  {
   "cell_type": "code",
   "execution_count": null,
   "metadata": {},
   "outputs": [],
   "source": []
  },
  {
   "cell_type": "code",
   "execution_count": null,
   "metadata": {},
   "outputs": [],
   "source": []
  }
 ],
 "metadata": {
  "kernelspec": {
   "display_name": "R",
   "language": "R",
   "name": "ir"
  },
  "language_info": {
   "codemirror_mode": "r",
   "file_extension": ".r",
   "mimetype": "text/x-r-source",
   "name": "R",
   "pygments_lexer": "r",
   "version": "4.0.2"
  }
 },
 "nbformat": 4,
 "nbformat_minor": 1
}
