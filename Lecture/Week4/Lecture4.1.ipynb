{
 "cells": [
  {
   "cell_type": "markdown",
   "metadata": {},
   "source": [
    "# Lecture 4.1: More about Data Transformation\n",
    "\n",
    "<div style=\"border: 1px double black; padding: 10px; margin: 10px\">\n",
    "\n",
    "**Goals for today's lecture:**\n",
    "* Consolidate knowledge we have learned so far\n",
    "* Learn more about `group_by` and summarize\n",
    "    \n",
    "</div>\n"
   ]
  },
  {
   "cell_type": "code",
   "execution_count": 1,
   "metadata": {},
   "outputs": [
    {
     "name": "stderr",
     "output_type": "stream",
     "text": [
      "── \u001b[1mAttaching packages\u001b[22m ─────────────────────────────────────── tidyverse 1.3.1 ──\n",
      "\n",
      "\u001b[32m✔\u001b[39m \u001b[34mggplot2\u001b[39m 3.3.5     \u001b[32m✔\u001b[39m \u001b[34mpurrr  \u001b[39m 0.3.4\n",
      "\u001b[32m✔\u001b[39m \u001b[34mtibble \u001b[39m 3.1.3     \u001b[32m✔\u001b[39m \u001b[34mdplyr  \u001b[39m 1.0.7\n",
      "\u001b[32m✔\u001b[39m \u001b[34mtidyr  \u001b[39m 1.1.3     \u001b[32m✔\u001b[39m \u001b[34mstringr\u001b[39m 1.4.0\n",
      "\u001b[32m✔\u001b[39m \u001b[34mreadr  \u001b[39m 2.0.1     \u001b[32m✔\u001b[39m \u001b[34mforcats\u001b[39m 0.5.1\n",
      "\n",
      "── \u001b[1mConflicts\u001b[22m ────────────────────────────────────────── tidyverse_conflicts() ──\n",
      "\u001b[31m✖\u001b[39m \u001b[34mdplyr\u001b[39m::\u001b[32mfilter()\u001b[39m masks \u001b[34mstats\u001b[39m::filter()\n",
      "\u001b[31m✖\u001b[39m \u001b[34mdplyr\u001b[39m::\u001b[32mlag()\u001b[39m    masks \u001b[34mstats\u001b[39m::lag()\n",
      "\n"
     ]
    }
   ],
   "source": [
    "library(tidyverse)\n",
    "library(nycflights13)"
   ]
  },
  {
   "cell_type": "markdown",
   "metadata": {},
   "source": [
    "Thus far, we have learnt several functions that are useful for data transformation:\n",
    "\n",
    "- `filter`, filtering the rows based on some criteria\n",
    "- `select`, select columns of interest\n",
    "- `mutate`, create new variables \n",
    "- `summarize`, create a summary statistic of a variable"
   ]
  },
  {
   "cell_type": "markdown",
   "metadata": {},
   "source": [
    "<div style=\"border: 1px double black; padding: 10px; margin: 10px\">\n",
    "\n",
    "**One student pointed out that there is a statement in Lecture 3.2 that is not concise**. \n",
    " \n",
    "* Previously the statement was the following:\n",
    "\n",
    "`summarize()` applies the summary function to each group of data. Remember that it always returns **one row per group**.\n",
    "\n",
    "* The more precise statement should be\n",
    "\n",
    "`summarize()` applies the summary function to each group of data. It returns one row per group whena all functions in the arguments of `summarize()` return single values for vectors. \n",
    "</div>\n",
    "\n",
    "\n"
   ]
  },
  {
   "cell_type": "markdown",
   "metadata": {},
   "source": [
    "<div style=\"border: 1px double black; padding: 10px; margin: 10px\">\n",
    "\n",
    "**Why slice function does not work as intended after grouping?**. \n",
    " \n",
    "`slice(k)` is essentially listing the top `k` elements in your table, organized by group.  Since our table is grouped as one, `slice` will output the entire group for us. \n",
    "\n",
    "    \n",
    "Instead, we should use the `ungroup` function to ungroup our data before applying `slice`. Here is the same example that we have gone through in Lecture 3.2. \n",
    "</div>\n",
    "\n",
    "\n"
   ]
  },
  {
   "cell_type": "code",
   "execution_count": 3,
   "metadata": {},
   "outputs": [
    {
     "name": "stderr",
     "output_type": "stream",
     "text": [
      "── \u001b[1mAttaching packages\u001b[22m ─────────────────────────────────────── tidyverse 1.3.1 ──\n",
      "\n",
      "\u001b[32m✔\u001b[39m \u001b[34mggplot2\u001b[39m 3.3.5     \u001b[32m✔\u001b[39m \u001b[34mpurrr  \u001b[39m 0.3.4\n",
      "\u001b[32m✔\u001b[39m \u001b[34mtibble \u001b[39m 3.1.3     \u001b[32m✔\u001b[39m \u001b[34mdplyr  \u001b[39m 1.0.7\n",
      "\u001b[32m✔\u001b[39m \u001b[34mtidyr  \u001b[39m 1.1.3     \u001b[32m✔\u001b[39m \u001b[34mstringr\u001b[39m 1.4.0\n",
      "\u001b[32m✔\u001b[39m \u001b[34mreadr  \u001b[39m 2.0.1     \u001b[32m✔\u001b[39m \u001b[34mforcats\u001b[39m 0.5.1\n",
      "\n",
      "── \u001b[1mConflicts\u001b[22m ────────────────────────────────────────── tidyverse_conflicts() ──\n",
      "\u001b[31m✖\u001b[39m \u001b[34mdplyr\u001b[39m::\u001b[32mfilter()\u001b[39m masks \u001b[34mstats\u001b[39m::filter()\n",
      "\u001b[31m✖\u001b[39m \u001b[34mdplyr\u001b[39m::\u001b[32mlag()\u001b[39m    masks \u001b[34mstats\u001b[39m::lag()\n",
      "\n"
     ]
    }
   ],
   "source": [
    "library(tidyverse)\n",
    "library(nycflights13)"
   ]
  },
  {
   "cell_type": "markdown",
   "metadata": {},
   "source": [
    "#### Which day of the year is busiest, and at what airport?"
   ]
  },
  {
   "cell_type": "code",
   "execution_count": 4,
   "metadata": {},
   "outputs": [
    {
     "name": "stderr",
     "output_type": "stream",
     "text": [
      "`summarise()` has grouped output by 'month', 'day'. You can override using the `.groups` argument.\n",
      "\n"
     ]
    },
    {
     "name": "stdout",
     "output_type": "stream",
     "text": [
      "\u001b[90m# A tibble: 1,095 × 4\u001b[39m\n",
      "\u001b[90m# Groups:   month, day [365]\u001b[39m\n",
      "   month   day origin n_sched_departures\n",
      "   \u001b[3m\u001b[90m<int>\u001b[39m\u001b[23m \u001b[3m\u001b[90m<int>\u001b[39m\u001b[23m \u001b[3m\u001b[90m<chr>\u001b[39m\u001b[23m               \u001b[3m\u001b[90m<int>\u001b[39m\u001b[23m\n",
      "\u001b[90m 1\u001b[39m     4    15 EWR                   377\n",
      "\u001b[90m 2\u001b[39m     4    11 EWR                   376\n",
      "\u001b[90m 3\u001b[39m     4    18 EWR                   376\n",
      "\u001b[90m 4\u001b[39m     4    10 EWR                   375\n",
      "\u001b[90m 5\u001b[39m     4    17 EWR                   375\n",
      "\u001b[90m 6\u001b[39m     4    12 EWR                   374\n",
      "\u001b[90m 7\u001b[39m     4    19 EWR                   374\n",
      "\u001b[90m 8\u001b[39m     4    22 EWR                   372\n",
      "\u001b[90m 9\u001b[39m     4    25 EWR                   372\n",
      "\u001b[90m10\u001b[39m     4    29 EWR                   372\n",
      "\u001b[90m# … with 1,085 more rows\u001b[39m\n"
     ]
    }
   ],
   "source": [
    "group_by(flights, month, day, origin) %>% summarize(n_sched_departures = n()) %>% \n",
    "            arrange(desc(n_sched_departures))%>% print()"
   ]
  },
  {
   "cell_type": "code",
   "execution_count": 6,
   "metadata": {},
   "outputs": [
    {
     "name": "stderr",
     "output_type": "stream",
     "text": [
      "`summarise()` has grouped output by 'month', 'day'. You can override using the `.groups` argument.\n",
      "\n"
     ]
    },
    {
     "name": "stdout",
     "output_type": "stream",
     "text": [
      "\u001b[90m# A tibble: 365 × 4\u001b[39m\n",
      "\u001b[90m# Groups:   month, day [365]\u001b[39m\n",
      "   month   day origin n_sched_departures\n",
      "   \u001b[3m\u001b[90m<int>\u001b[39m\u001b[23m \u001b[3m\u001b[90m<int>\u001b[39m\u001b[23m \u001b[3m\u001b[90m<chr>\u001b[39m\u001b[23m               \u001b[3m\u001b[90m<int>\u001b[39m\u001b[23m\n",
      "\u001b[90m 1\u001b[39m     1     1 EWR                   305\n",
      "\u001b[90m 2\u001b[39m     1     2 EWR                   350\n",
      "\u001b[90m 3\u001b[39m     1     3 EWR                   336\n",
      "\u001b[90m 4\u001b[39m     1     4 EWR                   339\n",
      "\u001b[90m 5\u001b[39m     1     5 JFK                   302\n",
      "\u001b[90m 6\u001b[39m     1     6 JFK                   307\n",
      "\u001b[90m 7\u001b[39m     1     7 EWR                   342\n",
      "\u001b[90m 8\u001b[39m     1     8 EWR                   334\n",
      "\u001b[90m 9\u001b[39m     1     9 EWR                   336\n",
      "\u001b[90m10\u001b[39m     1    10 EWR                   344\n",
      "\u001b[90m# … with 355 more rows\u001b[39m\n"
     ]
    }
   ],
   "source": [
    "group_by(flights, month, day, origin) %>% summarize(n_sched_departures = n()) %>% \n",
    "            arrange(desc(n_sched_departures))%>% slice(1) %>% print"
   ]
  },
  {
   "cell_type": "code",
   "execution_count": 7,
   "metadata": {},
   "outputs": [
    {
     "name": "stderr",
     "output_type": "stream",
     "text": [
      "`summarise()` has grouped output by 'month', 'day'. You can override using the `.groups` argument.\n",
      "\n"
     ]
    },
    {
     "name": "stdout",
     "output_type": "stream",
     "text": [
      "\u001b[90m# A tibble: 1 × 4\u001b[39m\n",
      "  month   day origin n_sched_departures\n",
      "  \u001b[3m\u001b[90m<int>\u001b[39m\u001b[23m \u001b[3m\u001b[90m<int>\u001b[39m\u001b[23m \u001b[3m\u001b[90m<chr>\u001b[39m\u001b[23m               \u001b[3m\u001b[90m<int>\u001b[39m\u001b[23m\n",
      "\u001b[90m1\u001b[39m     4    15 EWR                   377\n"
     ]
    }
   ],
   "source": [
    "group_by(flights, month, day, origin) %>% summarize(n_sched_departures = n()) %>% \n",
    "            arrange(desc(n_sched_departures))%>% ungroup() %>%  slice(1) %>% print"
   ]
  },
  {
   "cell_type": "markdown",
   "metadata": {},
   "source": [
    "## Some Useful Functions in R for Data Transformation\n",
    "\n",
    "R provides you with several in-built vectorized functions that can be used to create more complicated function. These include:\n",
    "\n",
    "* **Arithmetic operators** `+, -, *, /, ^`\n",
    "* **Modular arithmetic operators** `%/%` and `%%` \n",
    "* **Logarithms** `log()`, `log10()`, `log2()`\n",
    "* **Offsets** `lag()` and `lead()`"
   ]
  },
  {
   "cell_type": "markdown",
   "metadata": {},
   "source": [
    "To do a regular division, we use `/`.  To do an integer division, we use the code `%/%`. Integer division is a division in which the fractional part (remainder) is discarded."
   ]
  },
  {
   "cell_type": "code",
   "execution_count": 2,
   "metadata": {},
   "outputs": [
    {
     "data": {
      "text/html": [
       "1.33333333333333"
      ],
      "text/latex": [
       "1.33333333333333"
      ],
      "text/markdown": [
       "1.33333333333333"
      ],
      "text/plain": [
       "[1] 1.333333"
      ]
     },
     "metadata": {},
     "output_type": "display_data"
    },
    {
     "data": {
      "text/html": [
       "1"
      ],
      "text/latex": [
       "1"
      ],
      "text/markdown": [
       "1"
      ],
      "text/plain": [
       "[1] 1"
      ]
     },
     "metadata": {},
     "output_type": "display_data"
    }
   ],
   "source": [
    "4 / 3   \n",
    "4 %/% 3 "
   ]
  },
  {
   "cell_type": "markdown",
   "metadata": {},
   "source": [
    "Sometimes you will find the modular operation `%%` useful.  This is outputting the fractional part of a division.  "
   ]
  },
  {
   "cell_type": "code",
   "execution_count": 3,
   "metadata": {},
   "outputs": [
    {
     "data": {
      "text/html": [
       "1"
      ],
      "text/latex": [
       "1"
      ],
      "text/markdown": [
       "1"
      ],
      "text/plain": [
       "[1] 1"
      ]
     },
     "metadata": {},
     "output_type": "display_data"
    }
   ],
   "source": [
    "1%%5 "
   ]
  },
  {
   "cell_type": "code",
   "execution_count": 4,
   "metadata": {},
   "outputs": [
    {
     "data": {
      "text/html": [
       "3"
      ],
      "text/latex": [
       "3"
      ],
      "text/markdown": [
       "3"
      ],
      "text/plain": [
       "[1] 3"
      ]
     },
     "metadata": {},
     "output_type": "display_data"
    }
   ],
   "source": [
    "3%%5"
   ]
  },
  {
   "cell_type": "code",
   "execution_count": 5,
   "metadata": {},
   "outputs": [
    {
     "data": {
      "text/html": [
       "0"
      ],
      "text/latex": [
       "0"
      ],
      "text/markdown": [
       "0"
      ],
      "text/plain": [
       "[1] 0"
      ]
     },
     "metadata": {},
     "output_type": "display_data"
    }
   ],
   "source": [
    "5%%5"
   ]
  },
  {
   "cell_type": "code",
   "execution_count": 8,
   "metadata": {},
   "outputs": [
    {
     "data": {
      "text/html": [
       "<style>\n",
       ".list-inline {list-style: none; margin:0; padding: 0}\n",
       ".list-inline>li {display: inline-block}\n",
       ".list-inline>li:not(:last-child)::after {content: \"\\00b7\"; padding: 0 .5ex}\n",
       "</style>\n",
       "<ol class=list-inline><li>1</li><li>2</li><li>3</li><li>4</li><li>0</li><li>1</li><li>2</li><li>3</li><li>4</li><li>0</li><li>1</li><li>2</li><li>3</li><li>4</li><li>0</li><li>1</li><li>2</li><li>3</li><li>4</li><li>0</li></ol>\n"
      ],
      "text/latex": [
       "\\begin{enumerate*}\n",
       "\\item 1\n",
       "\\item 2\n",
       "\\item 3\n",
       "\\item 4\n",
       "\\item 0\n",
       "\\item 1\n",
       "\\item 2\n",
       "\\item 3\n",
       "\\item 4\n",
       "\\item 0\n",
       "\\item 1\n",
       "\\item 2\n",
       "\\item 3\n",
       "\\item 4\n",
       "\\item 0\n",
       "\\item 1\n",
       "\\item 2\n",
       "\\item 3\n",
       "\\item 4\n",
       "\\item 0\n",
       "\\end{enumerate*}\n"
      ],
      "text/markdown": [
       "1. 1\n",
       "2. 2\n",
       "3. 3\n",
       "4. 4\n",
       "5. 0\n",
       "6. 1\n",
       "7. 2\n",
       "8. 3\n",
       "9. 4\n",
       "10. 0\n",
       "11. 1\n",
       "12. 2\n",
       "13. 3\n",
       "14. 4\n",
       "15. 0\n",
       "16. 1\n",
       "17. 2\n",
       "18. 3\n",
       "19. 4\n",
       "20. 0\n",
       "\n",
       "\n"
      ],
      "text/plain": [
       " [1] 1 2 3 4 0 1 2 3 4 0 1 2 3 4 0 1 2 3 4 0"
      ]
     },
     "metadata": {},
     "output_type": "display_data"
    }
   ],
   "source": [
    "1:20 %% 5"
   ]
  },
  {
   "cell_type": "markdown",
   "metadata": {},
   "source": [
    "The shorter argument 5 is extended to match length of longer argument"
   ]
  },
  {
   "cell_type": "markdown",
   "metadata": {},
   "source": [
    "You may also find the function `lag` and `lead` useful.   For instance, `lag` computes a lagged version of a time series, shifting the time base back by a given number of observations."
   ]
  },
  {
   "cell_type": "code",
   "execution_count": 10,
   "metadata": {},
   "outputs": [
    {
     "data": {
      "text/html": [
       "<style>\n",
       ".list-inline {list-style: none; margin:0; padding: 0}\n",
       ".list-inline>li {display: inline-block}\n",
       ".list-inline>li:not(:last-child)::after {content: \"\\00b7\"; padding: 0 .5ex}\n",
       "</style>\n",
       "<ol class=list-inline><li>1</li><li>2</li><li>3</li><li>4</li><li>5</li><li>6</li><li>7</li><li>8</li><li>9</li><li>10</li></ol>\n"
      ],
      "text/latex": [
       "\\begin{enumerate*}\n",
       "\\item 1\n",
       "\\item 2\n",
       "\\item 3\n",
       "\\item 4\n",
       "\\item 5\n",
       "\\item 6\n",
       "\\item 7\n",
       "\\item 8\n",
       "\\item 9\n",
       "\\item 10\n",
       "\\end{enumerate*}\n"
      ],
      "text/markdown": [
       "1. 1\n",
       "2. 2\n",
       "3. 3\n",
       "4. 4\n",
       "5. 5\n",
       "6. 6\n",
       "7. 7\n",
       "8. 8\n",
       "9. 9\n",
       "10. 10\n",
       "\n",
       "\n"
      ],
      "text/plain": [
       " [1]  1  2  3  4  5  6  7  8  9 10"
      ]
     },
     "metadata": {},
     "output_type": "display_data"
    },
    {
     "data": {
      "text/html": [
       "<style>\n",
       ".list-inline {list-style: none; margin:0; padding: 0}\n",
       ".list-inline>li {display: inline-block}\n",
       ".list-inline>li:not(:last-child)::after {content: \"\\00b7\"; padding: 0 .5ex}\n",
       "</style>\n",
       "<ol class=list-inline><li>&lt;NA&gt;</li><li>1</li><li>2</li><li>3</li><li>4</li><li>5</li><li>6</li><li>7</li><li>8</li><li>9</li></ol>\n"
      ],
      "text/latex": [
       "\\begin{enumerate*}\n",
       "\\item <NA>\n",
       "\\item 1\n",
       "\\item 2\n",
       "\\item 3\n",
       "\\item 4\n",
       "\\item 5\n",
       "\\item 6\n",
       "\\item 7\n",
       "\\item 8\n",
       "\\item 9\n",
       "\\end{enumerate*}\n"
      ],
      "text/markdown": [
       "1. &lt;NA&gt;\n",
       "2. 1\n",
       "3. 2\n",
       "4. 3\n",
       "5. 4\n",
       "6. 5\n",
       "7. 6\n",
       "8. 7\n",
       "9. 8\n",
       "10. 9\n",
       "\n",
       "\n"
      ],
      "text/plain": [
       " [1] NA  1  2  3  4  5  6  7  8  9"
      ]
     },
     "metadata": {},
     "output_type": "display_data"
    },
    {
     "data": {
      "text/html": [
       "<style>\n",
       ".list-inline {list-style: none; margin:0; padding: 0}\n",
       ".list-inline>li {display: inline-block}\n",
       ".list-inline>li:not(:last-child)::after {content: \"\\00b7\"; padding: 0 .5ex}\n",
       "</style>\n",
       "<ol class=list-inline><li>2</li><li>3</li><li>4</li><li>5</li><li>6</li><li>7</li><li>8</li><li>9</li><li>10</li><li>&lt;NA&gt;</li></ol>\n"
      ],
      "text/latex": [
       "\\begin{enumerate*}\n",
       "\\item 2\n",
       "\\item 3\n",
       "\\item 4\n",
       "\\item 5\n",
       "\\item 6\n",
       "\\item 7\n",
       "\\item 8\n",
       "\\item 9\n",
       "\\item 10\n",
       "\\item <NA>\n",
       "\\end{enumerate*}\n"
      ],
      "text/markdown": [
       "1. 2\n",
       "2. 3\n",
       "3. 4\n",
       "4. 5\n",
       "5. 6\n",
       "6. 7\n",
       "7. 8\n",
       "8. 9\n",
       "9. 10\n",
       "10. &lt;NA&gt;\n",
       "\n",
       "\n"
      ],
      "text/plain": [
       " [1]  2  3  4  5  6  7  8  9 10 NA"
      ]
     },
     "metadata": {},
     "output_type": "display_data"
    }
   ],
   "source": [
    "(x <- 1:10)\n",
    "lag(x) # you can also specify an argument -- read ?lag(x) \n",
    "lead(x)"
   ]
  },
  {
   "cell_type": "markdown",
   "metadata": {},
   "source": [
    "We also have:\n",
    "\n",
    "* **Logical comparisons** `==, !=, <, <=, >, >=`\n",
    "* **Cumulative aggregates** `cumsum(), cumprod(), cummin(), cummax()` (`dplyr` also provides `cummean()`)"
   ]
  },
  {
   "cell_type": "code",
   "execution_count": 8,
   "metadata": {},
   "outputs": [
    {
     "data": {
      "text/html": [
       "FALSE"
      ],
      "text/latex": [
       "FALSE"
      ],
      "text/markdown": [
       "FALSE"
      ],
      "text/plain": [
       "[1] FALSE"
      ]
     },
     "metadata": {},
     "output_type": "display_data"
    },
    {
     "data": {
      "text/html": [
       "<style>\n",
       ".list-inline {list-style: none; margin:0; padding: 0}\n",
       ".list-inline>li {display: inline-block}\n",
       ".list-inline>li:not(:last-child)::after {content: \"\\00b7\"; padding: 0 .5ex}\n",
       "</style>\n",
       "<ol class=list-inline><li>TRUE</li><li>TRUE</li><li>TRUE</li><li>TRUE</li><li>TRUE</li><li>TRUE</li><li>TRUE</li><li>TRUE</li><li>TRUE</li><li>TRUE</li></ol>\n"
      ],
      "text/latex": [
       "\\begin{enumerate*}\n",
       "\\item TRUE\n",
       "\\item TRUE\n",
       "\\item TRUE\n",
       "\\item TRUE\n",
       "\\item TRUE\n",
       "\\item TRUE\n",
       "\\item TRUE\n",
       "\\item TRUE\n",
       "\\item TRUE\n",
       "\\item TRUE\n",
       "\\end{enumerate*}\n"
      ],
      "text/markdown": [
       "1. TRUE\n",
       "2. TRUE\n",
       "3. TRUE\n",
       "4. TRUE\n",
       "5. TRUE\n",
       "6. TRUE\n",
       "7. TRUE\n",
       "8. TRUE\n",
       "9. TRUE\n",
       "10. TRUE\n",
       "\n",
       "\n"
      ],
      "text/plain": [
       " [1] TRUE TRUE TRUE TRUE TRUE TRUE TRUE TRUE TRUE TRUE"
      ]
     },
     "metadata": {},
     "output_type": "display_data"
    },
    {
     "data": {
      "text/html": [
       "<style>\n",
       ".list-inline {list-style: none; margin:0; padding: 0}\n",
       ".list-inline>li {display: inline-block}\n",
       ".list-inline>li:not(:last-child)::after {content: \"\\00b7\"; padding: 0 .5ex}\n",
       "</style>\n",
       "<ol class=list-inline><li>TRUE</li><li>TRUE</li><li>TRUE</li><li>TRUE</li><li>FALSE</li><li>FALSE</li><li>FALSE</li><li>FALSE</li><li>FALSE</li><li>FALSE</li></ol>\n"
      ],
      "text/latex": [
       "\\begin{enumerate*}\n",
       "\\item TRUE\n",
       "\\item TRUE\n",
       "\\item TRUE\n",
       "\\item TRUE\n",
       "\\item FALSE\n",
       "\\item FALSE\n",
       "\\item FALSE\n",
       "\\item FALSE\n",
       "\\item FALSE\n",
       "\\item FALSE\n",
       "\\end{enumerate*}\n"
      ],
      "text/markdown": [
       "1. TRUE\n",
       "2. TRUE\n",
       "3. TRUE\n",
       "4. TRUE\n",
       "5. FALSE\n",
       "6. FALSE\n",
       "7. FALSE\n",
       "8. FALSE\n",
       "9. FALSE\n",
       "10. FALSE\n",
       "\n",
       "\n"
      ],
      "text/plain": [
       " [1]  TRUE  TRUE  TRUE  TRUE FALSE FALSE FALSE FALSE FALSE FALSE"
      ]
     },
     "metadata": {},
     "output_type": "display_data"
    },
    {
     "data": {
      "text/html": [
       "<style>\n",
       ".list-inline {list-style: none; margin:0; padding: 0}\n",
       ".list-inline>li {display: inline-block}\n",
       ".list-inline>li:not(:last-child)::after {content: \"\\00b7\"; padding: 0 .5ex}\n",
       "</style>\n",
       "<ol class=list-inline><li>FALSE</li><li>FALSE</li><li>FALSE</li><li>FALSE</li><li>FALSE</li><li>FALSE</li><li>FALSE</li><li>FALSE</li><li>FALSE</li><li>FALSE</li></ol>\n"
      ],
      "text/latex": [
       "\\begin{enumerate*}\n",
       "\\item FALSE\n",
       "\\item FALSE\n",
       "\\item FALSE\n",
       "\\item FALSE\n",
       "\\item FALSE\n",
       "\\item FALSE\n",
       "\\item FALSE\n",
       "\\item FALSE\n",
       "\\item FALSE\n",
       "\\item FALSE\n",
       "\\end{enumerate*}\n"
      ],
      "text/markdown": [
       "1. FALSE\n",
       "2. FALSE\n",
       "3. FALSE\n",
       "4. FALSE\n",
       "5. FALSE\n",
       "6. FALSE\n",
       "7. FALSE\n",
       "8. FALSE\n",
       "9. FALSE\n",
       "10. FALSE\n",
       "\n",
       "\n"
      ],
      "text/plain": [
       " [1] FALSE FALSE FALSE FALSE FALSE FALSE FALSE FALSE FALSE FALSE"
      ]
     },
     "metadata": {},
     "output_type": "display_data"
    }
   ],
   "source": [
    "5 < 5\n",
    "1:10 < 11:20\n",
    "1:10 < 5\n",
    "21 < 11:20"
   ]
  },
  {
   "cell_type": "code",
   "execution_count": 9,
   "metadata": {},
   "outputs": [
    {
     "data": {
      "text/html": [
       "<style>\n",
       ".list-inline {list-style: none; margin:0; padding: 0}\n",
       ".list-inline>li {display: inline-block}\n",
       ".list-inline>li:not(:last-child)::after {content: \"\\00b7\"; padding: 0 .5ex}\n",
       "</style>\n",
       "<ol class=list-inline><li>1</li><li>2</li><li>6</li><li>24</li><li>120</li><li>720</li><li>5040</li><li>40320</li><li>362880</li><li>3628800</li></ol>\n"
      ],
      "text/latex": [
       "\\begin{enumerate*}\n",
       "\\item 1\n",
       "\\item 2\n",
       "\\item 6\n",
       "\\item 24\n",
       "\\item 120\n",
       "\\item 720\n",
       "\\item 5040\n",
       "\\item 40320\n",
       "\\item 362880\n",
       "\\item 3628800\n",
       "\\end{enumerate*}\n"
      ],
      "text/markdown": [
       "1. 1\n",
       "2. 2\n",
       "3. 6\n",
       "4. 24\n",
       "5. 120\n",
       "6. 720\n",
       "7. 5040\n",
       "8. 40320\n",
       "9. 362880\n",
       "10. 3628800\n",
       "\n",
       "\n"
      ],
      "text/plain": [
       " [1]       1       2       6      24     120     720    5040   40320  362880\n",
       "[10] 3628800"
      ]
     },
     "metadata": {},
     "output_type": "display_data"
    },
    {
     "data": {
      "text/html": [
       "<style>\n",
       ".list-inline {list-style: none; margin:0; padding: 0}\n",
       ".list-inline>li {display: inline-block}\n",
       ".list-inline>li:not(:last-child)::after {content: \"\\00b7\"; padding: 0 .5ex}\n",
       "</style>\n",
       "<ol class=list-inline><li>1</li><li>3</li><li>6</li><li>10</li><li>15</li><li>21</li><li>28</li><li>36</li><li>45</li><li>55</li></ol>\n"
      ],
      "text/latex": [
       "\\begin{enumerate*}\n",
       "\\item 1\n",
       "\\item 3\n",
       "\\item 6\n",
       "\\item 10\n",
       "\\item 15\n",
       "\\item 21\n",
       "\\item 28\n",
       "\\item 36\n",
       "\\item 45\n",
       "\\item 55\n",
       "\\end{enumerate*}\n"
      ],
      "text/markdown": [
       "1. 1\n",
       "2. 3\n",
       "3. 6\n",
       "4. 10\n",
       "5. 15\n",
       "6. 21\n",
       "7. 28\n",
       "8. 36\n",
       "9. 45\n",
       "10. 55\n",
       "\n",
       "\n"
      ],
      "text/plain": [
       " [1]  1  3  6 10 15 21 28 36 45 55"
      ]
     },
     "metadata": {},
     "output_type": "display_data"
    }
   ],
   "source": [
    "(factorials <- cumprod(1:10))\n",
    "cumsum(1:10)"
   ]
  },
  {
   "cell_type": "markdown",
   "metadata": {},
   "source": [
    "## Ranking functions\n",
    "Sometimes, we want to *rank* our data by assigning integers for 1st place, 2nd place, and etc. The functions `dense_rank()`, `min_rank()`, and `row_number()` can be used for this purpose:"
   ]
  },
  {
   "cell_type": "code",
   "execution_count": 12,
   "metadata": {},
   "outputs": [
    {
     "data": {
      "text/html": [
       "<style>\n",
       ".list-inline {list-style: none; margin:0; padding: 0}\n",
       ".list-inline>li {display: inline-block}\n",
       ".list-inline>li:not(:last-child)::after {content: \"\\00b7\"; padding: 0 .5ex}\n",
       "</style>\n",
       "<ol class=list-inline><li>3</li><li>2</li><li>1</li><li>2</li><li>4</li><li>4</li></ol>\n"
      ],
      "text/latex": [
       "\\begin{enumerate*}\n",
       "\\item 3\n",
       "\\item 2\n",
       "\\item 1\n",
       "\\item 2\n",
       "\\item 4\n",
       "\\item 4\n",
       "\\end{enumerate*}\n"
      ],
      "text/markdown": [
       "1. 3\n",
       "2. 2\n",
       "3. 1\n",
       "4. 2\n",
       "5. 4\n",
       "6. 4\n",
       "\n",
       "\n"
      ],
      "text/plain": [
       "[1] 3 2 1 2 4 4"
      ]
     },
     "metadata": {},
     "output_type": "display_data"
    },
    {
     "data": {
      "text/html": [
       "<style>\n",
       ".list-inline {list-style: none; margin:0; padding: 0}\n",
       ".list-inline>li {display: inline-block}\n",
       ".list-inline>li:not(:last-child)::after {content: \"\\00b7\"; padding: 0 .5ex}\n",
       "</style>\n",
       "<ol class=list-inline><li>4</li><li>2</li><li>1</li><li>2</li><li>5</li><li>5</li></ol>\n"
      ],
      "text/latex": [
       "\\begin{enumerate*}\n",
       "\\item 4\n",
       "\\item 2\n",
       "\\item 1\n",
       "\\item 2\n",
       "\\item 5\n",
       "\\item 5\n",
       "\\end{enumerate*}\n"
      ],
      "text/markdown": [
       "1. 4\n",
       "2. 2\n",
       "3. 1\n",
       "4. 2\n",
       "5. 5\n",
       "6. 5\n",
       "\n",
       "\n"
      ],
      "text/plain": [
       "[1] 4 2 1 2 5 5"
      ]
     },
     "metadata": {},
     "output_type": "display_data"
    },
    {
     "data": {
      "text/html": [
       "<style>\n",
       ".list-inline {list-style: none; margin:0; padding: 0}\n",
       ".list-inline>li {display: inline-block}\n",
       ".list-inline>li:not(:last-child)::after {content: \"\\00b7\"; padding: 0 .5ex}\n",
       "</style>\n",
       "<ol class=list-inline><li>4</li><li>2</li><li>1</li><li>3</li><li>5</li><li>6</li></ol>\n"
      ],
      "text/latex": [
       "\\begin{enumerate*}\n",
       "\\item 4\n",
       "\\item 2\n",
       "\\item 1\n",
       "\\item 3\n",
       "\\item 5\n",
       "\\item 6\n",
       "\\end{enumerate*}\n"
      ],
      "text/markdown": [
       "1. 4\n",
       "2. 2\n",
       "3. 1\n",
       "4. 3\n",
       "5. 5\n",
       "6. 6\n",
       "\n",
       "\n"
      ],
      "text/plain": [
       "[1] 4 2 1 3 5 6"
      ]
     },
     "metadata": {},
     "output_type": "display_data"
    }
   ],
   "source": [
    "gpas = c(3.9, 3.8, 2.7, 3.8, 4.0, 4.0)\n",
    "dense_rank(gpas)\n",
    "min_rank(gpas)\n",
    "row_number(gpas)"
   ]
  },
  {
   "cell_type": "markdown",
   "metadata": {},
   "source": [
    "Note the differences in behavior: \n",
    "- The rankings from `dense_rank()` never have gaps.\n",
    "- The rankings from `min_rank()` skips over 3rd place (because we have two entries tied for 2nd.)\n",
    "- The rankings from `row_number()` break ties arbitrarily, so the first 4.0 GPA gets ranked 5th, and the second 4.0 GPA gets ranked 6th."
   ]
  },
  {
   "cell_type": "markdown",
   "metadata": {},
   "source": [
    "By default, the ranking functions rank lowest first. If we want to reverse that, and assign rank 1 to the highest entry, we can couple the ranking functionuse with the `desc()` function:"
   ]
  },
  {
   "cell_type": "code",
   "execution_count": 13,
   "metadata": {},
   "outputs": [
    {
     "data": {
      "text/html": [
       "<style>\n",
       ".list-inline {list-style: none; margin:0; padding: 0}\n",
       ".list-inline>li {display: inline-block}\n",
       ".list-inline>li:not(:last-child)::after {content: \"\\00b7\"; padding: 0 .5ex}\n",
       "</style>\n",
       "<ol class=list-inline><li>2</li><li>3</li><li>4</li><li>3</li><li>1</li><li>1</li></ol>\n"
      ],
      "text/latex": [
       "\\begin{enumerate*}\n",
       "\\item 2\n",
       "\\item 3\n",
       "\\item 4\n",
       "\\item 3\n",
       "\\item 1\n",
       "\\item 1\n",
       "\\end{enumerate*}\n"
      ],
      "text/markdown": [
       "1. 2\n",
       "2. 3\n",
       "3. 4\n",
       "4. 3\n",
       "5. 1\n",
       "6. 1\n",
       "\n",
       "\n"
      ],
      "text/plain": [
       "[1] 2 3 4 3 1 1"
      ]
     },
     "metadata": {},
     "output_type": "display_data"
    },
    {
     "data": {
      "text/html": [
       "<style>\n",
       ".list-inline {list-style: none; margin:0; padding: 0}\n",
       ".list-inline>li {display: inline-block}\n",
       ".list-inline>li:not(:last-child)::after {content: \"\\00b7\"; padding: 0 .5ex}\n",
       "</style>\n",
       "<ol class=list-inline><li>3</li><li>4</li><li>6</li><li>4</li><li>1</li><li>1</li></ol>\n"
      ],
      "text/latex": [
       "\\begin{enumerate*}\n",
       "\\item 3\n",
       "\\item 4\n",
       "\\item 6\n",
       "\\item 4\n",
       "\\item 1\n",
       "\\item 1\n",
       "\\end{enumerate*}\n"
      ],
      "text/markdown": [
       "1. 3\n",
       "2. 4\n",
       "3. 6\n",
       "4. 4\n",
       "5. 1\n",
       "6. 1\n",
       "\n",
       "\n"
      ],
      "text/plain": [
       "[1] 3 4 6 4 1 1"
      ]
     },
     "metadata": {},
     "output_type": "display_data"
    },
    {
     "data": {
      "text/html": [
       "<style>\n",
       ".list-inline {list-style: none; margin:0; padding: 0}\n",
       ".list-inline>li {display: inline-block}\n",
       ".list-inline>li:not(:last-child)::after {content: \"\\00b7\"; padding: 0 .5ex}\n",
       "</style>\n",
       "<ol class=list-inline><li>3</li><li>4</li><li>6</li><li>5</li><li>1</li><li>2</li></ol>\n"
      ],
      "text/latex": [
       "\\begin{enumerate*}\n",
       "\\item 3\n",
       "\\item 4\n",
       "\\item 6\n",
       "\\item 5\n",
       "\\item 1\n",
       "\\item 2\n",
       "\\end{enumerate*}\n"
      ],
      "text/markdown": [
       "1. 3\n",
       "2. 4\n",
       "3. 6\n",
       "4. 5\n",
       "5. 1\n",
       "6. 2\n",
       "\n",
       "\n"
      ],
      "text/plain": [
       "[1] 3 4 6 5 1 2"
      ]
     },
     "metadata": {},
     "output_type": "display_data"
    }
   ],
   "source": [
    "dense_rank(desc(gpas))\n",
    "min_rank(desc(gpas))\n",
    "row_number(desc(gpas))"
   ]
  },
  {
   "cell_type": "code",
   "execution_count": 12,
   "metadata": {},
   "outputs": [
    {
     "data": {
      "text/html": [
       "<style>\n",
       ".list-inline {list-style: none; margin:0; padding: 0}\n",
       ".list-inline>li {display: inline-block}\n",
       ".list-inline>li:not(:last-child)::after {content: \"\\00b7\"; padding: 0 .5ex}\n",
       "</style>\n",
       "<ol class=list-inline><li>14</li><li>12</li><li>&lt;NA&gt;</li><li>12</li><li>26</li><li>14</li><li>11</li><li>21</li><li>17</li><li>14</li></ol>\n"
      ],
      "text/latex": [
       "\\begin{enumerate*}\n",
       "\\item 14\n",
       "\\item 12\n",
       "\\item <NA>\n",
       "\\item 12\n",
       "\\item 26\n",
       "\\item 14\n",
       "\\item 11\n",
       "\\item 21\n",
       "\\item 17\n",
       "\\item 14\n",
       "\\end{enumerate*}\n"
      ],
      "text/markdown": [
       "1. 14\n",
       "2. 12\n",
       "3. &lt;NA&gt;\n",
       "4. 12\n",
       "5. 26\n",
       "6. 14\n",
       "7. 11\n",
       "8. 21\n",
       "9. 17\n",
       "10. 14\n",
       "\n",
       "\n"
      ],
      "text/plain": [
       " [1] 14 12 NA 12 26 14 11 21 17 14"
      ]
     },
     "metadata": {},
     "output_type": "display_data"
    },
    {
     "data": {
      "text/html": [
       "<style>\n",
       ".list-inline {list-style: none; margin:0; padding: 0}\n",
       ".list-inline>li {display: inline-block}\n",
       ".list-inline>li:not(:last-child)::after {content: \"\\00b7\"; padding: 0 .5ex}\n",
       "</style>\n",
       "<ol class=list-inline><li>4</li><li>2</li><li>&lt;NA&gt;</li><li>2</li><li>9</li><li>4</li><li>1</li><li>8</li><li>7</li><li>4</li></ol>\n"
      ],
      "text/latex": [
       "\\begin{enumerate*}\n",
       "\\item 4\n",
       "\\item 2\n",
       "\\item <NA>\n",
       "\\item 2\n",
       "\\item 9\n",
       "\\item 4\n",
       "\\item 1\n",
       "\\item 8\n",
       "\\item 7\n",
       "\\item 4\n",
       "\\end{enumerate*}\n"
      ],
      "text/markdown": [
       "1. 4\n",
       "2. 2\n",
       "3. &lt;NA&gt;\n",
       "4. 2\n",
       "5. 9\n",
       "6. 4\n",
       "7. 1\n",
       "8. 8\n",
       "9. 7\n",
       "10. 4\n",
       "\n",
       "\n"
      ],
      "text/plain": [
       " [1]  4  2 NA  2  9  4  1  8  7  4"
      ]
     },
     "metadata": {},
     "output_type": "display_data"
    },
    {
     "data": {
      "text/html": [
       "<style>\n",
       ".list-inline {list-style: none; margin:0; padding: 0}\n",
       ".list-inline>li {display: inline-block}\n",
       ".list-inline>li:not(:last-child)::after {content: \"\\00b7\"; padding: 0 .5ex}\n",
       "</style>\n",
       "<ol class=list-inline><li>4</li><li>7</li><li>&lt;NA&gt;</li><li>7</li><li>1</li><li>4</li><li>9</li><li>2</li><li>3</li><li>4</li></ol>\n"
      ],
      "text/latex": [
       "\\begin{enumerate*}\n",
       "\\item 4\n",
       "\\item 7\n",
       "\\item <NA>\n",
       "\\item 7\n",
       "\\item 1\n",
       "\\item 4\n",
       "\\item 9\n",
       "\\item 2\n",
       "\\item 3\n",
       "\\item 4\n",
       "\\end{enumerate*}\n"
      ],
      "text/markdown": [
       "1. 4\n",
       "2. 7\n",
       "3. &lt;NA&gt;\n",
       "4. 7\n",
       "5. 1\n",
       "6. 4\n",
       "7. 9\n",
       "8. 2\n",
       "9. 3\n",
       "10. 4\n",
       "\n",
       "\n"
      ],
      "text/plain": [
       " [1]  4  7 NA  7  1  4  9  2  3  4"
      ]
     },
     "metadata": {},
     "output_type": "display_data"
    }
   ],
   "source": [
    "(x <- sample(c(11, 12, 12, 14, 14, 14, 17, 21, 26, NA))) # returns a random permutation of the input\n",
    "min_rank(x) # ranks with smallest value as rank 1\n",
    "min_rank(desc(x)) # ranks with largest value as rank 1"
   ]
  },
  {
   "cell_type": "markdown",
   "metadata": {},
   "source": [
    "## More Exercise on Summary Function\n",
    "\n",
    "\n"
   ]
  },
  {
   "cell_type": "markdown",
   "metadata": {},
   "source": [
    "Many summarization functions are available:\n",
    "\n",
    "* Center: `mean(), median()`\n",
    "* Spread: `sd(), IQR(), mad()`\n",
    "* Range: `min(), max(), quantile()`\n",
    "* Position: `first(), last(), nth()`\n",
    "* Count: `n(), n_distinct()`\n",
    "* Logical: `any(), all()`"
   ]
  },
  {
   "cell_type": "markdown",
   "metadata": {},
   "source": [
    "Now, let us try to use some of the summarize functions to create a new table with the variables airports, total flights, mean distance, and standard deviation of the distance.  We want to sort the mean distance in descending order.   Let's try to guess which airport has the largest mean distance before we even proceed! "
   ]
  },
  {
   "cell_type": "code",
   "execution_count": 21,
   "metadata": {},
   "outputs": [
    {
     "name": "stdout",
     "output_type": "stream",
     "text": [
      "\u001b[90m# A tibble: 105 × 4\u001b[39m\n",
      "   dest  count    sd mean_distance\n",
      "   \u001b[3m\u001b[90m<chr>\u001b[39m\u001b[23m \u001b[3m\u001b[90m<int>\u001b[39m\u001b[23m \u001b[3m\u001b[90m<dbl>\u001b[39m\u001b[23m         \u001b[3m\u001b[90m<dbl>\u001b[39m\u001b[23m\n",
      "\u001b[90m 1\u001b[39m HNL     707 10.0          \u001b[4m4\u001b[24m973.\n",
      "\u001b[90m 2\u001b[39m ANC       8  0            \u001b[4m3\u001b[24m370 \n",
      "\u001b[90m 3\u001b[39m SFO   \u001b[4m1\u001b[24m\u001b[4m3\u001b[24m331 10.2          \u001b[4m2\u001b[24m578.\n",
      "\u001b[90m 4\u001b[39m OAK     312  0            \u001b[4m2\u001b[24m576 \n",
      "\u001b[90m 5\u001b[39m SJC     329  0            \u001b[4m2\u001b[24m569 \n",
      "\u001b[90m 6\u001b[39m SMF     284  0            \u001b[4m2\u001b[24m521 \n",
      "\u001b[90m 7\u001b[39m LAX   \u001b[4m1\u001b[24m\u001b[4m6\u001b[24m174  9.66         \u001b[4m2\u001b[24m469.\n",
      "\u001b[90m 8\u001b[39m BUR     371  0            \u001b[4m2\u001b[24m465 \n",
      "\u001b[90m 9\u001b[39m LGB     668  0            \u001b[4m2\u001b[24m465 \n",
      "\u001b[90m10\u001b[39m PDX    \u001b[4m1\u001b[24m354  9.88         \u001b[4m2\u001b[24m446.\n",
      "\u001b[90m# … with 95 more rows\u001b[39m\n"
     ]
    }
   ],
   "source": [
    "# airports, total flights, mean distance, and standard deviation of distance\n",
    "# sorted in descending order of mean distance\n",
    "group_by(flights, dest) %>%\n",
    "    summarize(count = n(), sd = sd(distance), mean_distance = mean(distance)) %>%\n",
    "    arrange(desc(mean_distance)) %>% ungroup() %>% print"
   ]
  },
  {
   "cell_type": "markdown",
   "metadata": {},
   "source": [
    "## Using Pipe with ggplot\n",
    "\n",
    "You can even plot the data by adding a `ggplot` command at the end after manipulating your data.\n",
    "\n",
    "Let's try to create a table for each month with the mean delay time.  Then plot a barchart for each month.  "
   ]
  },
  {
   "cell_type": "code",
   "execution_count": 22,
   "metadata": {},
   "outputs": [
    {
     "data": {
      "image/png": "[encoded data removed]",
      "text/plain": [
       "plot without title"
      ]
     },
     "metadata": {
      "image/png": {
       "height": 420,
       "width": 420
      }
     },
     "output_type": "display_data"
    }
   ],
   "source": [
    "group_by(flights, month) %>%\n",
    "    summarize(delay = mean(dep_delay, na.rm = TRUE)) %>%\n",
    "    ggplot() +\n",
    "        geom_bar(mapping = aes(x=factor(month), y = delay), stat = \"identity\") +\n",
    "        labs(x = \"month\", y = \"average delay (in minutes)\")"
   ]
  },
  {
   "cell_type": "markdown",
   "metadata": {},
   "source": [
    "How about a bar chart of mean arrival delay by destination airport for the top 10 airports that have the highest traffic volume?  We will use `group_by`, `summarize`, `arrange`, `slice`, and `ggplot`."
   ]
  },
  {
   "cell_type": "code",
   "execution_count": 23,
   "metadata": {},
   "outputs": [
    {
     "data": {
      "image/png": "[encoded data removed]",
      "text/plain": [
       "plot without title"
      ]
     },
     "metadata": {
      "image/png": {
       "height": 420,
       "width": 420
      }
     },
     "output_type": "display_data"
    }
   ],
   "source": [
    "group_by(flights, dest) %>%\n",
    "    summarize(mean_delay = mean(arr_delay, na.rm=TRUE),count = n()) %>%\n",
    "    arrange(desc(count)) %>%\n",
    "    slice(1:10) %>%\n",
    "    ggplot() +\n",
    "        geom_bar(mapping = aes(x = dest, y = mean_delay), stat = \"identity\") +\n",
    "        xlab(\"destination airport\") +\n",
    "        ylab(\"average arrival delay in minutes\")"
   ]
  },
  {
   "cell_type": "markdown",
   "metadata": {},
   "source": [
    "Now, let us try to get a scatter plot of airport distance vs average arrival delay after grouping by destination airport。  We will also superimpose the scatter plot with a smoothed plot"
   ]
  },
  {
   "cell_type": "code",
   "execution_count": 24,
   "metadata": {},
   "outputs": [
    {
     "name": "stderr",
     "output_type": "stream",
     "text": [
      "`geom_smooth()` using method = 'loess' and formula 'y ~ x'\n",
      "\n",
      "Warning message:\n",
      "“Removed 1 rows containing non-finite values (stat_smooth).”\n",
      "Warning message:\n",
      "“Removed 1 rows containing missing values (geom_point).”\n"
     ]
    },
    {
     "data": {
      "image/png": "[encoded data removed]",
      "text/plain": [
       "plot without title"
      ]
     },
     "metadata": {
      "image/png": {
       "height": 420,
       "width": 420
      }
     },
     "output_type": "display_data"
    }
   ],
   "source": [
    "group_by(flights, dest) %>%\n",
    "    summarize(mean_distance = mean(distance, na.rm=TRUE),mean_delay = mean(arr_delay, na.rm=TRUE)) %>%\n",
    "    ggplot(mapping = aes(x = mean_distance, y = mean_delay)) +\n",
    "        geom_point() +\n",
    "        geom_smooth() +\n",
    "        xlab(\"distance (in miles)\") +\n",
    "        ylab(\"average arrival delay (in minutes)\")"
   ]
  },
  {
   "cell_type": "markdown",
   "metadata": {},
   "source": [
    "# Find the worst flight with the worst delay for each day"
   ]
  },
  {
   "cell_type": "code",
   "execution_count": 14,
   "metadata": {},
   "outputs": [],
   "source": [
    "flights_sml <- select(flights,year:day,ends_with(\"delay\"),distance, air_time)"
   ]
  },
  {
   "cell_type": "code",
   "execution_count": 15,
   "metadata": {},
   "outputs": [
    {
     "name": "stdout",
     "output_type": "stream",
     "text": [
      "\u001b[38;5;246m# A tibble: 336,776 x 7\u001b[39m\n",
      "    year month   day dep_delay arr_delay distance air_time\n",
      "   \u001b[3m\u001b[38;5;246m<int>\u001b[39m\u001b[23m \u001b[3m\u001b[38;5;246m<int>\u001b[39m\u001b[23m \u001b[3m\u001b[38;5;246m<int>\u001b[39m\u001b[23m     \u001b[3m\u001b[38;5;246m<dbl>\u001b[39m\u001b[23m     \u001b[3m\u001b[38;5;246m<dbl>\u001b[39m\u001b[23m    \u001b[3m\u001b[38;5;246m<dbl>\u001b[39m\u001b[23m    \u001b[3m\u001b[38;5;246m<dbl>\u001b[39m\u001b[23m\n",
      "\u001b[38;5;250m 1\u001b[39m  \u001b[4m2\u001b[24m013     1     1         2        11     \u001b[4m1\u001b[24m400      227\n",
      "\u001b[38;5;250m 2\u001b[39m  \u001b[4m2\u001b[24m013     1     1         4        20     \u001b[4m1\u001b[24m416      227\n",
      "\u001b[38;5;250m 3\u001b[39m  \u001b[4m2\u001b[24m013     1     1         2        33     \u001b[4m1\u001b[24m089      160\n",
      "\u001b[38;5;250m 4\u001b[39m  \u001b[4m2\u001b[24m013     1     1        -\u001b[31m1\u001b[39m       -\u001b[31m18\u001b[39m     \u001b[4m1\u001b[24m576      183\n",
      "\u001b[38;5;250m 5\u001b[39m  \u001b[4m2\u001b[24m013     1     1        -\u001b[31m6\u001b[39m       -\u001b[31m25\u001b[39m      762      116\n",
      "\u001b[38;5;250m 6\u001b[39m  \u001b[4m2\u001b[24m013     1     1        -\u001b[31m4\u001b[39m        12      719      150\n",
      "\u001b[38;5;250m 7\u001b[39m  \u001b[4m2\u001b[24m013     1     1        -\u001b[31m5\u001b[39m        19     \u001b[4m1\u001b[24m065      158\n",
      "\u001b[38;5;250m 8\u001b[39m  \u001b[4m2\u001b[24m013     1     1        -\u001b[31m3\u001b[39m       -\u001b[31m14\u001b[39m      229       53\n",
      "\u001b[38;5;250m 9\u001b[39m  \u001b[4m2\u001b[24m013     1     1        -\u001b[31m3\u001b[39m        -\u001b[31m8\u001b[39m      944      140\n",
      "\u001b[38;5;250m10\u001b[39m  \u001b[4m2\u001b[24m013     1     1        -\u001b[31m2\u001b[39m         8      733      138\n",
      "\u001b[38;5;246m# … with 336,766 more rows\u001b[39m\n"
     ]
    }
   ],
   "source": [
    "print(flights_sml)"
   ]
  },
  {
   "cell_type": "code",
   "execution_count": 63,
   "metadata": {},
   "outputs": [
    {
     "name": "stdout",
     "output_type": "stream",
     "text": [
      "\u001b[38;5;246m# A tibble: 366 x 7\u001b[39m\n",
      "\u001b[38;5;246m# Groups:   year, month, day [365]\u001b[39m\n",
      "    year month   day dep_delay arr_delay distance air_time\n",
      "   \u001b[3m\u001b[38;5;246m<int>\u001b[39m\u001b[23m \u001b[3m\u001b[38;5;246m<int>\u001b[39m\u001b[23m \u001b[3m\u001b[38;5;246m<int>\u001b[39m\u001b[23m     \u001b[3m\u001b[38;5;246m<dbl>\u001b[39m\u001b[23m     \u001b[3m\u001b[38;5;246m<dbl>\u001b[39m\u001b[23m    \u001b[3m\u001b[38;5;246m<dbl>\u001b[39m\u001b[23m    \u001b[3m\u001b[38;5;246m<dbl>\u001b[39m\u001b[23m\n",
      "\u001b[38;5;250m 1\u001b[39m  \u001b[4m2\u001b[24m013     1     1       853       851      184       41\n",
      "\u001b[38;5;250m 2\u001b[39m  \u001b[4m2\u001b[24m013     1     2       337       368     \u001b[4m2\u001b[24m586      346\n",
      "\u001b[38;5;250m 3\u001b[39m  \u001b[4m2\u001b[24m013     1     3       291       285      765      125\n",
      "\u001b[38;5;250m 4\u001b[39m  \u001b[4m2\u001b[24m013     1     4       288       276      708      109\n",
      "\u001b[38;5;250m 5\u001b[39m  \u001b[4m2\u001b[24m013     1     5       327       308     \u001b[4m1\u001b[24m010      158\n",
      "\u001b[38;5;250m 6\u001b[39m  \u001b[4m2\u001b[24m013     1     6       163       175     \u001b[4m1\u001b[24m167      200\n",
      "\u001b[38;5;250m 7\u001b[39m  \u001b[4m2\u001b[24m013     1     7       366       368     \u001b[4m1\u001b[24m076      153\n",
      "\u001b[38;5;250m 8\u001b[39m  \u001b[4m2\u001b[24m013     1     8       188       184      229       43\n",
      "\u001b[38;5;250m 9\u001b[39m  \u001b[4m2\u001b[24m013     1     9      \u001b[4m1\u001b[24m301      \u001b[4m1\u001b[24m272     \u001b[4m4\u001b[24m983      640\n",
      "\u001b[38;5;250m10\u001b[39m  \u001b[4m2\u001b[24m013     1    10      \u001b[4m1\u001b[24m126      \u001b[4m1\u001b[24m109      719      111\n",
      "\u001b[38;5;246m# … with 356 more rows\u001b[39m\n"
     ]
    }
   ],
   "source": [
    "flights_sml %>% group_by(year,month,day) %>% filter(rank(desc(arr_delay))<2) %>% print()"
   ]
  },
  {
   "cell_type": "markdown",
   "metadata": {},
   "source": [
    "# Summary thus far\n",
    "Before we move on to the next part of the book, I want to spend some time summarizing and tying together the main ideas from the past few lectures. In chapter 5 we learned about five types of operations for altering data tibbles:\n",
    "* `filter()`: drop rows from a data table based on certain logical conditions.\n",
    "* `select()`: keep *columns* in a data table by name, range, or logical conditions.\n",
    "* `arrange()`: sort / reorder the rows of a data table.\n",
    "* `mutate()`: generate new columns in a data table by applying functions to the existing ones.\n",
    "* `group_by()` / `summarize()`: group rows together based on one or more variables, and compute summary statistics within each group."
   ]
  },
  {
   "cell_type": "markdown",
   "metadata": {},
   "source": [
    "#### `filter()` vs `select()`\n",
    "Some students were mixing up the use of `filter()` and `select()`.\n",
    "\n",
    "`filter()` selects the rows based on some specific criterion\n",
    "\n",
    "`select()` selects the columns of your data set"
   ]
  },
  {
   "cell_type": "markdown",
   "metadata": {},
   "source": [
    "### Common Error `` and ' ' and \"  \""
   ]
  },
  {
   "cell_type": "code",
   "execution_count": 25,
   "metadata": {},
   "outputs": [
    {
     "name": "stdout",
     "output_type": "stream",
     "text": [
      "\u001b[90m# A tibble: 58,665 × 19\u001b[39m\n",
      "    year month   day dep_time sched_dep_time dep_delay arr_time sched_arr_time\n",
      "   \u001b[3m\u001b[90m<int>\u001b[39m\u001b[23m \u001b[3m\u001b[90m<int>\u001b[39m\u001b[23m \u001b[3m\u001b[90m<int>\u001b[39m\u001b[23m    \u001b[3m\u001b[90m<int>\u001b[39m\u001b[23m          \u001b[3m\u001b[90m<int>\u001b[39m\u001b[23m     \u001b[3m\u001b[90m<dbl>\u001b[39m\u001b[23m    \u001b[3m\u001b[90m<int>\u001b[39m\u001b[23m          \u001b[3m\u001b[90m<int>\u001b[39m\u001b[23m\n",
      "\u001b[90m 1\u001b[39m  \u001b[4m2\u001b[24m013     1     1      517            515         2      830            819\n",
      "\u001b[90m 2\u001b[39m  \u001b[4m2\u001b[24m013     1     1      533            529         4      850            830\n",
      "\u001b[90m 3\u001b[39m  \u001b[4m2\u001b[24m013     1     1      554            558        -\u001b[31m4\u001b[39m      740            728\n",
      "\u001b[90m 4\u001b[39m  \u001b[4m2\u001b[24m013     1     1      558            600        -\u001b[31m2\u001b[39m      924            917\n",
      "\u001b[90m 5\u001b[39m  \u001b[4m2\u001b[24m013     1     1      558            600        -\u001b[31m2\u001b[39m      923            937\n",
      "\u001b[90m 6\u001b[39m  \u001b[4m2\u001b[24m013     1     1      559            600        -\u001b[31m1\u001b[39m      854            902\n",
      "\u001b[90m 7\u001b[39m  \u001b[4m2\u001b[24m013     1     1      607            607         0      858            915\n",
      "\u001b[90m 8\u001b[39m  \u001b[4m2\u001b[24m013     1     1      611            600        11      945            931\n",
      "\u001b[90m 9\u001b[39m  \u001b[4m2\u001b[24m013     1     1      623            627        -\u001b[31m4\u001b[39m      933            932\n",
      "\u001b[90m10\u001b[39m  \u001b[4m2\u001b[24m013     1     1      628            630        -\u001b[31m2\u001b[39m     \u001b[4m1\u001b[24m016            947\n",
      "\u001b[90m# … with 58,655 more rows, and 11 more variables: arr_delay <dbl>,\u001b[39m\n",
      "\u001b[90m#   carrier <chr>, flight <int>, tailnum <chr>, origin <chr>, dest <chr>,\u001b[39m\n",
      "\u001b[90m#   air_time <dbl>, distance <dbl>, hour <dbl>, minute <dbl>, time_hour <dttm>\u001b[39m\n"
     ]
    }
   ],
   "source": [
    "# filter(flights, carrier == `UA`)  %>% print # produces an error: compares the column carrier to the (nonexistent) column UA\n",
    "\n",
    "filter(flights, carrier == 'UA')  %>% print"
   ]
  },
  {
   "cell_type": "markdown",
   "metadata": {},
   "source": [
    "### `=` versus `==`"
   ]
  },
  {
   "cell_type": "markdown",
   "metadata": {},
   "source": [
    "Remember that `=` and `==` mean different things. The former is used for assignment and to pass keyword parameters to functions. The latter is used to test for equality and returns either `TRUE` or `FALSE`."
   ]
  },
  {
   "cell_type": "code",
   "execution_count": 26,
   "metadata": {},
   "outputs": [
    {
     "name": "stdout",
     "output_type": "stream",
     "text": [
      "\u001b[90m# A tibble: 58,665 × 19\u001b[39m\n",
      "    year month   day dep_time sched_dep_time dep_delay arr_time sched_arr_time\n",
      "   \u001b[3m\u001b[90m<int>\u001b[39m\u001b[23m \u001b[3m\u001b[90m<int>\u001b[39m\u001b[23m \u001b[3m\u001b[90m<int>\u001b[39m\u001b[23m    \u001b[3m\u001b[90m<int>\u001b[39m\u001b[23m          \u001b[3m\u001b[90m<int>\u001b[39m\u001b[23m     \u001b[3m\u001b[90m<dbl>\u001b[39m\u001b[23m    \u001b[3m\u001b[90m<int>\u001b[39m\u001b[23m          \u001b[3m\u001b[90m<int>\u001b[39m\u001b[23m\n",
      "\u001b[90m 1\u001b[39m  \u001b[4m2\u001b[24m013     1     1      517            515         2      830            819\n",
      "\u001b[90m 2\u001b[39m  \u001b[4m2\u001b[24m013     1     1      533            529         4      850            830\n",
      "\u001b[90m 3\u001b[39m  \u001b[4m2\u001b[24m013     1     1      554            558        -\u001b[31m4\u001b[39m      740            728\n",
      "\u001b[90m 4\u001b[39m  \u001b[4m2\u001b[24m013     1     1      558            600        -\u001b[31m2\u001b[39m      924            917\n",
      "\u001b[90m 5\u001b[39m  \u001b[4m2\u001b[24m013     1     1      558            600        -\u001b[31m2\u001b[39m      923            937\n",
      "\u001b[90m 6\u001b[39m  \u001b[4m2\u001b[24m013     1     1      559            600        -\u001b[31m1\u001b[39m      854            902\n",
      "\u001b[90m 7\u001b[39m  \u001b[4m2\u001b[24m013     1     1      607            607         0      858            915\n",
      "\u001b[90m 8\u001b[39m  \u001b[4m2\u001b[24m013     1     1      611            600        11      945            931\n",
      "\u001b[90m 9\u001b[39m  \u001b[4m2\u001b[24m013     1     1      623            627        -\u001b[31m4\u001b[39m      933            932\n",
      "\u001b[90m10\u001b[39m  \u001b[4m2\u001b[24m013     1     1      628            630        -\u001b[31m2\u001b[39m     \u001b[4m1\u001b[24m016            947\n",
      "\u001b[90m# … with 58,655 more rows, and 11 more variables: arr_delay <dbl>,\u001b[39m\n",
      "\u001b[90m#   carrier <chr>, flight <int>, tailnum <chr>, origin <chr>, dest <chr>,\u001b[39m\n",
      "\u001b[90m#   air_time <dbl>, distance <dbl>, hour <dbl>, minute <dbl>, time_hour <dttm>\u001b[39m\n"
     ]
    }
   ],
   "source": [
    "#filter(flights, carrier = \"UA\") %>% print()\n",
    "filter(flights, carrier == \"UA\") %>% print()"
   ]
  },
  {
   "cell_type": "markdown",
   "metadata": {},
   "source": [
    "### Vector versus column versus data table\n",
    "There is particular confusion about when it is appropriate to use vectors, columns and data tables. We will be discussing these concepts at greater length in the coming weeks, but here are some essentials that you should know:"
   ]
  },
  {
   "cell_type": "markdown",
   "metadata": {},
   "source": [
    "**Vectors** in R contain multiple values. You create vectors using the `c()` function. If you do neglect to do this, R will produce an error and/or do the wrong thing. Some examples of this I saw include:\n",
    "```{r}\n",
    "a = factor(b, levels=1, 2, 3, 4, 5) ## wrong\n",
    "a = factor(b, levels=(1, 2, 3, 4, 5)) ## wrong\n",
    "a = factor(b, levels=c(1, 2, 3, 4, 5)) ## correct\n",
    "```"
   ]
  },
  {
   "cell_type": "markdown",
   "metadata": {},
   "source": [
    "Vectors have a particular type, and all the entries of the vector must be of that same type; if they are not R will convert them to be."
   ]
  },
  {
   "cell_type": "code",
   "execution_count": 27,
   "metadata": {},
   "outputs": [
    {
     "data": {
      "text/html": [
       "<style>\n",
       ".list-inline {list-style: none; margin:0; padding: 0}\n",
       ".list-inline>li {display: inline-block}\n",
       ".list-inline>li:not(:last-child)::after {content: \"\\00b7\"; padding: 0 .5ex}\n",
       "</style>\n",
       "<ol class=list-inline><li>'1'</li><li>'2'</li><li>'a'</li></ol>\n"
      ],
      "text/latex": [
       "\\begin{enumerate*}\n",
       "\\item '1'\n",
       "\\item '2'\n",
       "\\item 'a'\n",
       "\\end{enumerate*}\n"
      ],
      "text/markdown": [
       "1. '1'\n",
       "2. '2'\n",
       "3. 'a'\n",
       "\n",
       "\n"
      ],
      "text/plain": [
       "[1] \"1\" \"2\" \"a\""
      ]
     },
     "metadata": {},
     "output_type": "display_data"
    },
    {
     "data": {
      "text/html": [
       "<style>\n",
       ".list-inline {list-style: none; margin:0; padding: 0}\n",
       ".list-inline>li {display: inline-block}\n",
       ".list-inline>li:not(:last-child)::after {content: \"\\00b7\"; padding: 0 .5ex}\n",
       "</style>\n",
       "<ol class=list-inline><li>1</li><li>1</li><li>1</li></ol>\n"
      ],
      "text/latex": [
       "\\begin{enumerate*}\n",
       "\\item 1\n",
       "\\item 1\n",
       "\\item 1\n",
       "\\end{enumerate*}\n"
      ],
      "text/markdown": [
       "1. 1\n",
       "2. 1\n",
       "3. 1\n",
       "\n",
       "\n"
      ],
      "text/plain": [
       "[1] 1 1 1"
      ]
     },
     "metadata": {},
     "output_type": "display_data"
    }
   ],
   "source": [
    "c(1,2,'a')  # conversion to string\n",
    "c(T, T, factor('a'))  # conversion to int"
   ]
  },
  {
   "cell_type": "markdown",
   "metadata": {},
   "source": [
    "You can think of a data table as a list of vectors. Each column has its own vector. To access a vector of values stored in a column in R, we traditionally use the `$` operator:"
   ]
  },
  {
   "cell_type": "code",
   "execution_count": 30,
   "metadata": {},
   "outputs": [
    {
     "data": {
      "text/html": [
       "<style>\n",
       ".list-inline {list-style: none; margin:0; padding: 0}\n",
       ".list-inline>li {display: inline-block}\n",
       ".list-inline>li:not(:last-child)::after {content: \"\\00b7\"; padding: 0 .5ex}\n",
       "</style>\n",
       "<ol class=list-inline><li>'N14228'</li><li>'N24211'</li><li>'N619AA'</li><li>'N804JB'</li><li>'N668DN'</li><li>'N39463'</li></ol>\n"
      ],
      "text/latex": [
       "\\begin{enumerate*}\n",
       "\\item 'N14228'\n",
       "\\item 'N24211'\n",
       "\\item 'N619AA'\n",
       "\\item 'N804JB'\n",
       "\\item 'N668DN'\n",
       "\\item 'N39463'\n",
       "\\end{enumerate*}\n"
      ],
      "text/markdown": [
       "1. 'N14228'\n",
       "2. 'N24211'\n",
       "3. 'N619AA'\n",
       "4. 'N804JB'\n",
       "5. 'N668DN'\n",
       "6. 'N39463'\n",
       "\n",
       "\n"
      ],
      "text/plain": [
       "[1] \"N14228\" \"N24211\" \"N619AA\" \"N804JB\" \"N668DN\" \"N39463\""
      ]
     },
     "metadata": {},
     "output_type": "display_data"
    }
   ],
   "source": [
    "flights$tailnum %>% head()"
   ]
  },
  {
   "cell_type": "markdown",
   "metadata": {},
   "source": [
    "If working inside one of the `dplyr` functions like `mutate()`, `filter()`, etc., the dataset is specified by the first parameter. So you don't need to use the `$` operator, just specify the column name:\n",
    "```{r}\n",
    "filter(flights, flights$arr_delay < 10)  # wrong (although it will work)\n",
    "filter(flights, arr_delay < 10)  # correct\n",
    "```"
   ]
  },
  {
   "cell_type": "markdown",
   "metadata": {},
   "source": [
    "Even though they contain the same information, a column vector is *not the same* as a table containing only that column:"
   ]
  },
  {
   "cell_type": "code",
   "execution_count": 31,
   "metadata": {},
   "outputs": [
    {
     "data": {
      "text/html": [
       "<style>\n",
       ".list-inline {list-style: none; margin:0; padding: 0}\n",
       ".list-inline>li {display: inline-block}\n",
       ".list-inline>li:not(:last-child)::after {content: \"\\00b7\"; padding: 0 .5ex}\n",
       "</style>\n",
       "<ol class=list-inline><li>830</li><li>850</li><li>923</li><li>1004</li><li>812</li><li>740</li></ol>\n"
      ],
      "text/latex": [
       "\\begin{enumerate*}\n",
       "\\item 830\n",
       "\\item 850\n",
       "\\item 923\n",
       "\\item 1004\n",
       "\\item 812\n",
       "\\item 740\n",
       "\\end{enumerate*}\n"
      ],
      "text/markdown": [
       "1. 830\n",
       "2. 850\n",
       "3. 923\n",
       "4. 1004\n",
       "5. 812\n",
       "6. 740\n",
       "\n",
       "\n"
      ],
      "text/plain": [
       "[1]  830  850  923 1004  812  740"
      ]
     },
     "metadata": {},
     "output_type": "display_data"
    },
    {
     "data": {
      "text/html": [
       "<table class=\"dataframe\">\n",
       "<caption>A tibble: 6 × 1</caption>\n",
       "<thead>\n",
       "\t<tr><th scope=col>arr_time</th></tr>\n",
       "\t<tr><th scope=col>&lt;int&gt;</th></tr>\n",
       "</thead>\n",
       "<tbody>\n",
       "\t<tr><td> 830</td></tr>\n",
       "\t<tr><td> 850</td></tr>\n",
       "\t<tr><td> 923</td></tr>\n",
       "\t<tr><td>1004</td></tr>\n",
       "\t<tr><td> 812</td></tr>\n",
       "\t<tr><td> 740</td></tr>\n",
       "</tbody>\n",
       "</table>\n"
      ],
      "text/latex": [
       "A tibble: 6 × 1\n",
       "\\begin{tabular}{l}\n",
       " arr\\_time\\\\\n",
       " <int>\\\\\n",
       "\\hline\n",
       "\t  830\\\\\n",
       "\t  850\\\\\n",
       "\t  923\\\\\n",
       "\t 1004\\\\\n",
       "\t  812\\\\\n",
       "\t  740\\\\\n",
       "\\end{tabular}\n"
      ],
      "text/markdown": [
       "\n",
       "A tibble: 6 × 1\n",
       "\n",
       "| arr_time &lt;int&gt; |\n",
       "|---|\n",
       "|  830 |\n",
       "|  850 |\n",
       "|  923 |\n",
       "| 1004 |\n",
       "|  812 |\n",
       "|  740 |\n",
       "\n"
      ],
      "text/plain": [
       "  arr_time\n",
       "1  830    \n",
       "2  850    \n",
       "3  923    \n",
       "4 1004    \n",
       "5  812    \n",
       "6  740    "
      ]
     },
     "metadata": {},
     "output_type": "display_data"
    }
   ],
   "source": [
    "head(flights$arr_time)  # <---- vector     \n",
    "# is different from...\n",
    "head(select(flights, arr_time)) # <---- data table"
   ]
  },
  {
   "cell_type": "markdown",
   "metadata": {},
   "source": [
    "## Visualization Distributions\n"
   ]
  },
  {
   "cell_type": "markdown",
   "metadata": {},
   "source": [
    "The file `bil.RData` contains a dataset on [billionaires](https://think.cs.vt.edu/corgis/csv/billionaires/billionaires.html): who they are, where they are from, how & when they made their fortune, etc."
   ]
  },
  {
   "cell_type": "code",
   "execution_count": 32,
   "metadata": {},
   "outputs": [
    {
     "name": "stdout",
     "output_type": "stream",
     "text": [
      "\u001b[90m# A tibble: 2,614 × 22\u001b[39m\n",
      "     age category  citizenship company.name  company.type `country code` founded\n",
      "   \u001b[3m\u001b[90m<int>\u001b[39m\u001b[23m \u001b[3m\u001b[90m<chr>\u001b[39m\u001b[23m     \u001b[3m\u001b[90m<chr>\u001b[39m\u001b[23m       \u001b[3m\u001b[90m<chr>\u001b[39m\u001b[23m         \u001b[3m\u001b[90m<chr>\u001b[39m\u001b[23m        \u001b[3m\u001b[90m<chr>\u001b[39m\u001b[23m            \u001b[3m\u001b[90m<int>\u001b[39m\u001b[23m\n",
      "\u001b[90m 1\u001b[39m    -\u001b[31m1\u001b[39m Financial Saudi Arab… Rolaco Tradi… new          SAU               \u001b[4m1\u001b[24m968\n",
      "\u001b[90m 2\u001b[39m    34 Financial United Sta… Fidelity Inv… new          USA               \u001b[4m1\u001b[24m946\n",
      "\u001b[90m 3\u001b[39m    59 Non-Trad… Brazil      Companhia Br… new          BRA               \u001b[4m1\u001b[24m948\n",
      "\u001b[90m 4\u001b[39m    61 New Sect… Germany     Ratiopharm    new          DEU               \u001b[4m1\u001b[24m881\n",
      "\u001b[90m 5\u001b[39m    -\u001b[31m1\u001b[39m Financial Hong Kong   Swire         new          HKG               \u001b[4m1\u001b[24m816\n",
      "\u001b[90m 6\u001b[39m    -\u001b[31m1\u001b[39m Traded S… Bahrain     YBA Kanoo     new          BHR               \u001b[4m1\u001b[24m890\n",
      "\u001b[90m 7\u001b[39m    -\u001b[31m1\u001b[39m New Sect… Japan       Otsuka Holdi… new          JPN               \u001b[4m1\u001b[24m921\n",
      "\u001b[90m 8\u001b[39m    -\u001b[31m1\u001b[39m Traded S… Japan       Sony          new          JPN               \u001b[4m1\u001b[24m946\n",
      "\u001b[90m 9\u001b[39m    66 Financial Japan       Mori Building new          JPN               \u001b[4m1\u001b[24m959\n",
      "\u001b[90m10\u001b[39m    -\u001b[31m1\u001b[39m Traded S… France      Chanel        new          FRA               \u001b[4m1\u001b[24m909\n",
      "\u001b[90m# … with 2,604 more rows, and 15 more variables: from emerging <chr>,\u001b[39m\n",
      "\u001b[90m#   gdp <dbl>, gender <chr>, industry <chr>, inherited <chr>, name <chr>,\u001b[39m\n",
      "\u001b[90m#   rank <int>, region <chr>, relationship <chr>, sector <chr>,\u001b[39m\n",
      "\u001b[90m#   was founder <chr>, was political <chr>, wealth.type <chr>,\u001b[39m\n",
      "\u001b[90m#   worth in billions <dbl>, year <int>\u001b[39m\n"
     ]
    }
   ],
   "source": [
    "load('bil.RData')\n",
    "bil <- as_tibble(bil)\n",
    "print(bil)\n",
    "#print(bil)"
   ]
  },
  {
   "cell_type": "markdown",
   "metadata": {},
   "source": [
    "## Visualizing discrete distributions\n",
    "We already saw how to visualize the distribution of a discrete random variable: make a bar plot. For example, in the `billionaire` data set, `region` is categorical:"
   ]
  },
  {
   "cell_type": "code",
   "execution_count": 34,
   "metadata": {},
   "outputs": [
    {
     "name": "stdout",
     "output_type": "stream",
     "text": [
      " [1] \"age\"               \"category\"          \"citizenship\"      \n",
      " [4] \"company.name\"      \"company.type\"      \"country code\"     \n",
      " [7] \"founded\"           \"from emerging\"     \"gdp\"              \n",
      "[10] \"gender\"            \"industry\"          \"inherited\"        \n",
      "[13] \"name\"              \"rank\"              \"region\"           \n",
      "[16] \"relationship\"      \"sector\"            \"was founder\"      \n",
      "[19] \"was political\"     \"wealth.type\"       \"worth in billions\"\n",
      "[22] \"year\"             \n"
     ]
    }
   ],
   "source": [
    "colnames(bil) %>% print"
   ]
  },
  {
   "cell_type": "markdown",
   "metadata": {},
   "source": [
    "Say we are interested in the distirbution of the variable `region`.  What should we plot to visualize this? "
   ]
  },
  {
   "cell_type": "code",
   "execution_count": 35,
   "metadata": {},
   "outputs": [
    {
     "data": {
      "image/png": "[encoded data removed]",
      "text/plain": [
       "plot without title"
      ]
     },
     "metadata": {
      "image/png": {
       "height": 420,
       "width": 420
      }
     },
     "output_type": "display_data"
    }
   ],
   "source": [
    "ggplot(data = bil) + geom_bar(mapping = aes(x = region))"
   ]
  },
  {
   "cell_type": "markdown",
   "metadata": {},
   "source": [
    "You see that there are NAs in the variable `region`. You could also combine this with what you have learnt by removing the NAs first before plotting."
   ]
  },
  {
   "cell_type": "code",
   "execution_count": 37,
   "metadata": {},
   "outputs": [
    {
     "data": {
      "image/png": "[encoded data removed]",
      "text/plain": [
       "plot without title"
      ]
     },
     "metadata": {
      "image/png": {
       "height": 420,
       "width": 420
      }
     },
     "output_type": "display_data"
    }
   ],
   "source": [
    "filter(bil, !is.na(region)) %>% ggplot() + geom_bar(mapping = aes(x = region)) "
   ]
  },
  {
   "cell_type": "markdown",
   "metadata": {},
   "source": [
    "## Continuous random variables\n",
    "We cannot directly use a bar plot to visualize a continuous random variable, because every observation potentially has a different value. Instead we create a **histogram**. The command to do this is **geom_histogram**."
   ]
  },
  {
   "cell_type": "markdown",
   "metadata": {},
   "source": [
    "Let's visualize the distribution of wealth among billionaires. "
   ]
  },
  {
   "cell_type": "code",
   "execution_count": 39,
   "metadata": {},
   "outputs": [
    {
     "name": "stdout",
     "output_type": "stream",
     "text": [
      " [1] \"age\"               \"category\"          \"citizenship\"      \n",
      " [4] \"company.name\"      \"company.type\"      \"country code\"     \n",
      " [7] \"founded\"           \"from emerging\"     \"gdp\"              \n",
      "[10] \"gender\"            \"industry\"          \"inherited\"        \n",
      "[13] \"name\"              \"rank\"              \"region\"           \n",
      "[16] \"relationship\"      \"sector\"            \"was founder\"      \n",
      "[19] \"was political\"     \"wealth.type\"       \"worth in billions\"\n",
      "[22] \"year\"             \n"
     ]
    }
   ],
   "source": [
    "colnames(bil) %>% print"
   ]
  },
  {
   "cell_type": "code",
   "execution_count": 38,
   "metadata": {},
   "outputs": [
    {
     "data": {
      "image/png": "[encoded data removed]",
      "text/plain": [
       "plot without title"
      ]
     },
     "metadata": {
      "image/png": {
       "height": 420,
       "width": 420
      }
     },
     "output_type": "display_data"
    }
   ],
   "source": [
    "bil %>% ggplot +\n",
    "    geom_histogram(mapping = aes(x = `worth in billions`), \n",
    "                   binwidth = 2)"
   ]
  },
  {
   "cell_type": "markdown",
   "metadata": {},
   "source": [
    "Most billionaires are worth about \\\\$1-5b. However, the distribution has a \"long tail\": there are some billionaires who are worth as much as \\\\$60-80b. Interestingly, the income distribution among billionaires looks quite a bit like the income distribution in society as a whole. Even the .001% have their 1%."
   ]
  },
  {
   "cell_type": "markdown",
   "metadata": {},
   "source": [
    "A histogram is basically a bar plot where the continuous random variable has been *quantized* into one of a finite number of values."
   ]
  },
  {
   "cell_type": "markdown",
   "metadata": {},
   "source": [
    "## Typical and Atypical Values\n",
    "In EDA, it is a good idea to try and get a sense of what constitutes a \"typical\" value in your data. Let's look at the disribution of the ages of billionaires:"
   ]
  },
  {
   "cell_type": "code",
   "execution_count": 41,
   "metadata": {},
   "outputs": [
    {
     "data": {
      "image/png": "[encoded data removed]",
      "text/plain": [
       "plot without title"
      ]
     },
     "metadata": {
      "image/png": {
       "height": 420,
       "width": 420
      }
     },
     "output_type": "display_data"
    }
   ],
   "source": [
    "bil %>% ggplot() +\n",
    "    geom_histogram(mapping = aes(x = age), binwidth = 1)"
   ]
  },
  {
   "cell_type": "markdown",
   "metadata": {},
   "source": [
    "Typical values of `age` in these data range from about 30 to 90. We see a very unusual spike around zero. Let us try to investigate more by filtering the data set to contain only rows with age less than 10.   "
   ]
  },
  {
   "cell_type": "code",
   "execution_count": 42,
   "metadata": {},
   "outputs": [
    {
     "name": "stdout",
     "output_type": "stream",
     "text": [
      "\u001b[90m# A tibble: 385 × 22\u001b[39m\n",
      "     age category  citizenship company.name  company.type `country code` founded\n",
      "   \u001b[3m\u001b[90m<int>\u001b[39m\u001b[23m \u001b[3m\u001b[90m<chr>\u001b[39m\u001b[23m     \u001b[3m\u001b[90m<chr>\u001b[39m\u001b[23m       \u001b[3m\u001b[90m<chr>\u001b[39m\u001b[23m         \u001b[3m\u001b[90m<chr>\u001b[39m\u001b[23m        \u001b[3m\u001b[90m<chr>\u001b[39m\u001b[23m            \u001b[3m\u001b[90m<int>\u001b[39m\u001b[23m\n",
      "\u001b[90m 1\u001b[39m    -\u001b[31m1\u001b[39m Financial Saudi Arab… Rolaco Tradi… new          SAU               \u001b[4m1\u001b[24m968\n",
      "\u001b[90m 2\u001b[39m    -\u001b[31m1\u001b[39m Financial Hong Kong   Swire         new          HKG               \u001b[4m1\u001b[24m816\n",
      "\u001b[90m 3\u001b[39m    -\u001b[31m1\u001b[39m Traded S… Bahrain     YBA Kanoo     new          BHR               \u001b[4m1\u001b[24m890\n",
      "\u001b[90m 4\u001b[39m    -\u001b[31m1\u001b[39m New Sect… Japan       Otsuka Holdi… new          JPN               \u001b[4m1\u001b[24m921\n",
      "\u001b[90m 5\u001b[39m    -\u001b[31m1\u001b[39m Traded S… Japan       Sony          new          JPN               \u001b[4m1\u001b[24m946\n",
      "\u001b[90m 6\u001b[39m    -\u001b[31m1\u001b[39m Traded S… France      Chanel        new          FRA               \u001b[4m1\u001b[24m909\n",
      "\u001b[90m 7\u001b[39m    -\u001b[31m1\u001b[39m Non-Trad… Mexico      Groupo IUSA   new          MEX               \u001b[4m1\u001b[24m939\n",
      "\u001b[90m 8\u001b[39m    -\u001b[31m1\u001b[39m Financial Mexico      Pulsar Inter… new          MEX               \u001b[4m1\u001b[24m981\n",
      "\u001b[90m 9\u001b[39m    -\u001b[31m1\u001b[39m Traded S… Netherlands Heineken Int… new          NLD               \u001b[4m1\u001b[24m864\n",
      "\u001b[90m10\u001b[39m    -\u001b[31m1\u001b[39m \u001b[31mNA\u001b[39m        United Sta… MBNA          subsidiary   USA               \u001b[4m1\u001b[24m982\n",
      "\u001b[90m# … with 375 more rows, and 15 more variables: from emerging <chr>, gdp <dbl>,\u001b[39m\n",
      "\u001b[90m#   gender <chr>, industry <chr>, inherited <chr>, name <chr>, rank <int>,\u001b[39m\n",
      "\u001b[90m#   region <chr>, relationship <chr>, sector <chr>, was founder <chr>,\u001b[39m\n",
      "\u001b[90m#   was political <chr>, wealth.type <chr>, worth in billions <dbl>, year <int>\u001b[39m\n"
     ]
    }
   ],
   "source": [
    "filter(bil, age < 10) %>% arrange(age) %>% print"
   ]
  },
  {
   "cell_type": "markdown",
   "metadata": {},
   "source": [
    "These represent missing data where we do not know the person's age. We'll fix this by *recoding* all values of -1 to `NA`:"
   ]
  },
  {
   "cell_type": "code",
   "execution_count": 43,
   "metadata": {},
   "outputs": [],
   "source": [
    " bil <- mutate(bil, age = na_if(age, -1))"
   ]
  },
  {
   "cell_type": "markdown",
   "metadata": {},
   "source": [
    "The `na_if(a,b)` function as setting a to be equal to `NA` if `a==b`."
   ]
  },
  {
   "cell_type": "markdown",
   "metadata": {},
   "source": [
    "A good way to get a sense of typical values is by looking at percentiles. The $p$th percentile of a column is the number $x$ for which $p$% of the values are less than or equal to $x$. The best known example is the *median*: half the values are below the median."
   ]
  },
  {
   "cell_type": "code",
   "execution_count": 44,
   "metadata": {},
   "outputs": [
    {
     "name": "stdout",
     "output_type": "stream",
     "text": [
      "   1%   50%   99% \n",
      "32.28 62.00 90.00 \n"
     ]
    }
   ],
   "source": [
    "q <- quantile(bil$age, probs=c(.01, .5, .99), na.rm=T)\n",
    "print(q)"
   ]
  },
  {
   "cell_type": "markdown",
   "metadata": {},
   "source": [
    "This tells us that 98% of the billionaires are between 32 and 90. Let us redo the visualization with extreme values filtered out."
   ]
  },
  {
   "cell_type": "code",
   "execution_count": 45,
   "metadata": {},
   "outputs": [
    {
     "data": {
      "image/png": "[encoded data removed]",
      "text/plain": [
       "plot without title"
      ]
     },
     "metadata": {
      "image/png": {
       "height": 420,
       "width": 420
      }
     },
     "output_type": "display_data"
    }
   ],
   "source": [
    "bil %>%  filter(between(age,32,90))  %>%  ggplot() +\n",
    "    geom_histogram(mapping = aes(x = age), binwidth = 1)"
   ]
  },
  {
   "cell_type": "code",
   "execution_count": null,
   "metadata": {},
   "outputs": [],
   "source": []
  }
 ],
 "metadata": {
  "kernelspec": {
   "display_name": "R",
   "language": "R",
   "name": "ir"
  },
  "language_info": {
   "codemirror_mode": "r",
   "file_extension": ".r",
   "mimetype": "text/x-r-source",
   "name": "R",
   "pygments_lexer": "r",
   "version": "4.0.2"
  }
 },
 "nbformat": 4,
 "nbformat_minor": 1
}
